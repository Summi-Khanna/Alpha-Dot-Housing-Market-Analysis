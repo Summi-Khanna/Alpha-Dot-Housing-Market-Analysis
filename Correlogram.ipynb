{
 "cells": [
  {
   "cell_type": "code",
   "execution_count": null,
   "id": "cce0df10-9f75-4ec0-8f6b-addb8a99dc89",
   "metadata": {},
   "outputs": [],
   "source": [
    "# library & dataset\n",
    "import pandas as pd\n",
    "import seaborn as sns\n",
    "df = sns.load_dataset('iris')\n",
    "import matplotlib.pyplot as plt"
   ]
  },
  {
   "cell_type": "code",
   "execution_count": null,
   "id": "66fb682d-1872-4a5a-840e-4d196cef9e9c",
   "metadata": {},
   "outputs": [],
   "source": [
    "\n",
    "rental_county_df = pd.read_csv(\"Resources/wa_rental_by_county.csv\", index_col=0)\n",
    "rental_county_df = rental_county_df.dropna()\n",
    "rental_county_df.head()\n"
   ]
  },
  {
   "cell_type": "code",
   "execution_count": null,
   "id": "20d8777a-19b9-4ffa-a964-e6556369b1be",
   "metadata": {},
   "outputs": [],
   "source": [
    "#Creating date range index series\n",
    "dates=pd.date_range(start='1/1/2017', end='12/1/2021', freq='M')\n",
    "\n",
    "#Creating the list of counties from the rental_county_df. \n",
    "fips=pd.Series(rental_county_df.FIPS_Code.unique()).astype(str)\n",
    "\n",
    "df = pd.MultiIndex.from_product([dates, fips], names = ['Date', 'FIPS'])\n",
    "df = pd.DataFrame(index = df).reset_index()\n",
    "\n",
    "#Merging in the rental data\n",
    "#First set the index for the rental data\n",
    "rental_county_df.rename(columns={\"FIPS_Code\": \"FIPS\"}, inplace=True)\n",
    "rental_county_df.set_index(['Date', 'FIPS'], inplace=True)\n",
    "correlogram_df = rental_county_df.loc[:,['Average_Rental_Price']]"
   ]
  },
  {
   "cell_type": "code",
   "execution_count": null,
   "id": "c56645fb-5104-4ca9-8ecd-292090d1a0e1",
   "metadata": {},
   "outputs": [],
   "source": [
    "correlogram_df.head()"
   ]
  },
  {
   "cell_type": "code",
   "execution_count": null,
   "id": "36597c8c-b6c8-4c7d-ac0f-3cafff0fff7d",
   "metadata": {},
   "outputs": [],
   "source": [
    "employment_county_df = pd.read_csv(\"Resources/wa_employment_by_county_final.csv\", index_col=0)\n",
    "employment_county_df.rename(columns={\"FIPS_CODE\": \"FIPS\"}, inplace=True)\n",
    "employment_county_df.set_index(['Date', 'FIPS'], inplace=True)\n",
    "\n",
    "employment_county_df.head()"
   ]
  },
  {
   "cell_type": "code",
   "execution_count": null,
   "id": "79f7b152-ef5c-467e-b52a-3b8c2a2b7e0e",
   "metadata": {},
   "outputs": [],
   "source": [
    "correlogram_df = correlogram_df.join(employment_county_df)\n",
    "correlogram_df.head()"
   ]
  },
  {
   "cell_type": "code",
   "execution_count": null,
   "id": "2f45170a-fa04-41f1-a103-56f26f0a51ba",
   "metadata": {},
   "outputs": [],
   "source": [
    "labor_county_df = pd.read_csv(\"Resources/wa_labor_force_by_county_final.csv\", index_col=0)\n",
    "labor_county_df.rename(columns={\"FIPS_CODE\": \"FIPS\"}, inplace=True)\n",
    "labor_county_df.set_index(['Date', 'FIPS'], inplace=True)\n",
    "\n",
    "labor_county_df.head()"
   ]
  },
  {
   "cell_type": "code",
   "execution_count": null,
   "id": "29425b1b-243c-4223-ac93-3f0d4dd45d46",
   "metadata": {},
   "outputs": [],
   "source": [
    "correlogram_df = correlogram_df.join(labor_county_df)\n",
    "correlogram_df.head()"
   ]
  },
  {
   "cell_type": "code",
   "execution_count": null,
   "id": "a7a54a2e-ada0-4fb5-8d24-2069efe7f72f",
   "metadata": {},
   "outputs": [],
   "source": [
    "housing_df = pd.read_csv(\"Resources/house_listing.csv\", index_col=0)\n",
    "housing_df.rename(columns={\"county_fips\": \"FIPS\"}, inplace=True)\n",
    "housing_df.set_index(['Date', 'FIPS'], inplace=True)\n",
    "\n",
    "housing_df.head()"
   ]
  },
  {
   "cell_type": "code",
   "execution_count": null,
   "id": "87ab2c7f-1845-4fe1-b1e0-ac66beb1eba7",
   "metadata": {},
   "outputs": [],
   "source": [
    "# Basic correlogram\n",
    "sns.pairplot(housing_df)\n",
    "plt.show()"
   ]
  },
  {
   "cell_type": "code",
   "execution_count": null,
   "id": "fa6b0aaf-31ed-473e-87a1-f65c353a970e",
   "metadata": {},
   "outputs": [],
   "source": [
    "# Basic correlogram\n",
    "sns.pairplot(df)\n",
    "plt.show()"
   ]
  },
  {
   "cell_type": "code",
   "execution_count": null,
   "id": "ce527a28-3082-472d-91f1-9025d5a6d67f",
   "metadata": {},
   "outputs": [],
   "source": []
  },
  {
   "cell_type": "code",
   "execution_count": null,
   "id": "078f22d9-e155-4bc7-897b-6a79a4802994",
   "metadata": {},
   "outputs": [],
   "source": []
  }
 ],
 "metadata": {
  "kernelspec": {
   "display_name": "Python (dev)",
   "language": "python",
   "name": "dev"
  },
  "language_info": {
   "codemirror_mode": {
    "name": "ipython",
    "version": 3
   },
   "file_extension": ".py",
   "mimetype": "text/x-python",
   "name": "python",
   "nbconvert_exporter": "python",
   "pygments_lexer": "ipython3",
   "version": "3.7.11"
  }
 },
 "nbformat": 4,
 "nbformat_minor": 5
}
