{
 "cells": [
  {
   "cell_type": "code",
   "execution_count": 3,
   "id": "a852ac6d-b4a0-4041-9c7a-20027a467963",
   "metadata": {},
   "outputs": [],
   "source": [
    "import pandas as pd\n",
    "import os\n",
    "import numpy as np\n",
    "import hvplot.pandas\n",
    "from pathlib import Path\n",
    "from bokeh.models.formatters import DatetimeTickFormatter\n",
    "\n",
    "%matplotlib inline\n",
    "\n",
    "from qualifier.utils.fileio import (\n",
    "    read_housing_inventory_data,\n",
    "    read_rental_inventory,\n",
    "    read_building_completion_data,\n",
    "    read_building_permits_data,\n",
    "    read_labor_data,\n",
    "    read_employment_data,\n",
    "    read_monthly_housing_permits_data,\n",
    "    read_geo_codes,\n",
    ")"
   ]
  },
  {
   "cell_type": "markdown",
   "id": "18150fb8-f7f5-4dfb-be6e-4cea649353d1",
   "metadata": {},
   "source": [
    "### Reading Cleaned Housing Inventory Data"
   ]
  },
  {
   "cell_type": "code",
   "execution_count": 4,
   "id": "1c689287-4b56-4e81-b8cc-e15994dc4f98",
   "metadata": {},
   "outputs": [
    {
     "name": "stderr",
     "output_type": "stream",
     "text": [
      "/Users/rupika/bootcamp/FinTech_Workspace/Project1/Alpha-Dot-Housing-Market-Analysis/qualifier/utils/cleaner.py:25: SettingWithCopyWarning: \n",
      "A value is trying to be set on a copy of a slice from a DataFrame.\n",
      "Try using .loc[row_indexer,col_indexer] = value instead\n",
      "\n",
      "See the caveats in the documentation: https://pandas.pydata.org/pandas-docs/stable/user_guide/indexing.html#returning-a-view-versus-a-copy\n",
      "  wa_house_listing_df['county_name'] = wa_house_listing_df['county_name'].str.title()\n"
     ]
    },
    {
     "data": {
      "text/html": [
       "<div>\n",
       "<style scoped>\n",
       "    .dataframe tbody tr th:only-of-type {\n",
       "        vertical-align: middle;\n",
       "    }\n",
       "\n",
       "    .dataframe tbody tr th {\n",
       "        vertical-align: top;\n",
       "    }\n",
       "\n",
       "    .dataframe thead th {\n",
       "        text-align: right;\n",
       "    }\n",
       "</style>\n",
       "<table border=\"1\" class=\"dataframe\">\n",
       "  <thead>\n",
       "    <tr style=\"text-align: right;\">\n",
       "      <th></th>\n",
       "      <th>Date</th>\n",
       "      <th>county_fips</th>\n",
       "      <th>county_name</th>\n",
       "      <th>median_listing_price</th>\n",
       "      <th>median_listing_price_mm</th>\n",
       "      <th>median_listing_price_yy</th>\n",
       "      <th>active_listing_count</th>\n",
       "      <th>active_listing_count_mm</th>\n",
       "      <th>active_listing_count_yy</th>\n",
       "      <th>median_days_on_market</th>\n",
       "      <th>...</th>\n",
       "      <th>average_listing_price_mm</th>\n",
       "      <th>average_listing_price_yy</th>\n",
       "      <th>total_listing_count</th>\n",
       "      <th>total_listing_count_mm</th>\n",
       "      <th>total_listing_count_yy</th>\n",
       "      <th>pending_ratio</th>\n",
       "      <th>pending_ratio_mm</th>\n",
       "      <th>pending_ratio_yy</th>\n",
       "      <th>quality_flag</th>\n",
       "      <th>state</th>\n",
       "    </tr>\n",
       "  </thead>\n",
       "  <tbody>\n",
       "    <tr>\n",
       "      <th>0</th>\n",
       "      <td>2016-07-01</td>\n",
       "      <td>53001</td>\n",
       "      <td>Adams</td>\n",
       "      <td>125000.0</td>\n",
       "      <td>NaN</td>\n",
       "      <td>NaN</td>\n",
       "      <td>34</td>\n",
       "      <td>NaN</td>\n",
       "      <td>NaN</td>\n",
       "      <td>87.0</td>\n",
       "      <td>...</td>\n",
       "      <td>NaN</td>\n",
       "      <td>NaN</td>\n",
       "      <td>36</td>\n",
       "      <td>NaN</td>\n",
       "      <td>NaN</td>\n",
       "      <td>0.058824</td>\n",
       "      <td>NaN</td>\n",
       "      <td>NaN</td>\n",
       "      <td>0</td>\n",
       "      <td>wa</td>\n",
       "    </tr>\n",
       "    <tr>\n",
       "      <th>1</th>\n",
       "      <td>2016-07-01</td>\n",
       "      <td>53003</td>\n",
       "      <td>Asotin</td>\n",
       "      <td>220000.0</td>\n",
       "      <td>NaN</td>\n",
       "      <td>NaN</td>\n",
       "      <td>120</td>\n",
       "      <td>NaN</td>\n",
       "      <td>NaN</td>\n",
       "      <td>61.0</td>\n",
       "      <td>...</td>\n",
       "      <td>NaN</td>\n",
       "      <td>NaN</td>\n",
       "      <td>120</td>\n",
       "      <td>NaN</td>\n",
       "      <td>NaN</td>\n",
       "      <td>NaN</td>\n",
       "      <td>NaN</td>\n",
       "      <td>NaN</td>\n",
       "      <td>0</td>\n",
       "      <td>wa</td>\n",
       "    </tr>\n",
       "    <tr>\n",
       "      <th>2</th>\n",
       "      <td>2016-07-01</td>\n",
       "      <td>53005</td>\n",
       "      <td>Benton</td>\n",
       "      <td>286500.0</td>\n",
       "      <td>NaN</td>\n",
       "      <td>NaN</td>\n",
       "      <td>629</td>\n",
       "      <td>NaN</td>\n",
       "      <td>NaN</td>\n",
       "      <td>42.0</td>\n",
       "      <td>...</td>\n",
       "      <td>NaN</td>\n",
       "      <td>NaN</td>\n",
       "      <td>629</td>\n",
       "      <td>NaN</td>\n",
       "      <td>NaN</td>\n",
       "      <td>0.000000</td>\n",
       "      <td>NaN</td>\n",
       "      <td>NaN</td>\n",
       "      <td>0</td>\n",
       "      <td>wa</td>\n",
       "    </tr>\n",
       "    <tr>\n",
       "      <th>3</th>\n",
       "      <td>2016-07-01</td>\n",
       "      <td>53007</td>\n",
       "      <td>Chelan</td>\n",
       "      <td>394000.0</td>\n",
       "      <td>NaN</td>\n",
       "      <td>NaN</td>\n",
       "      <td>502</td>\n",
       "      <td>NaN</td>\n",
       "      <td>NaN</td>\n",
       "      <td>60.0</td>\n",
       "      <td>...</td>\n",
       "      <td>NaN</td>\n",
       "      <td>NaN</td>\n",
       "      <td>510</td>\n",
       "      <td>NaN</td>\n",
       "      <td>NaN</td>\n",
       "      <td>0.015936</td>\n",
       "      <td>NaN</td>\n",
       "      <td>NaN</td>\n",
       "      <td>0</td>\n",
       "      <td>wa</td>\n",
       "    </tr>\n",
       "    <tr>\n",
       "      <th>4</th>\n",
       "      <td>2016-07-01</td>\n",
       "      <td>53009</td>\n",
       "      <td>Clallam</td>\n",
       "      <td>325000.0</td>\n",
       "      <td>NaN</td>\n",
       "      <td>NaN</td>\n",
       "      <td>596</td>\n",
       "      <td>NaN</td>\n",
       "      <td>NaN</td>\n",
       "      <td>66.0</td>\n",
       "      <td>...</td>\n",
       "      <td>NaN</td>\n",
       "      <td>NaN</td>\n",
       "      <td>596</td>\n",
       "      <td>NaN</td>\n",
       "      <td>NaN</td>\n",
       "      <td>NaN</td>\n",
       "      <td>NaN</td>\n",
       "      <td>NaN</td>\n",
       "      <td>0</td>\n",
       "      <td>wa</td>\n",
       "    </tr>\n",
       "  </tbody>\n",
       "</table>\n",
       "<p>5 rows × 41 columns</p>\n",
       "</div>"
      ],
      "text/plain": [
       "        Date  county_fips county_name  median_listing_price  \\\n",
       "0 2016-07-01        53001       Adams              125000.0   \n",
       "1 2016-07-01        53003      Asotin              220000.0   \n",
       "2 2016-07-01        53005      Benton              286500.0   \n",
       "3 2016-07-01        53007      Chelan              394000.0   \n",
       "4 2016-07-01        53009     Clallam              325000.0   \n",
       "\n",
       "   median_listing_price_mm  median_listing_price_yy  active_listing_count  \\\n",
       "0                      NaN                      NaN                    34   \n",
       "1                      NaN                      NaN                   120   \n",
       "2                      NaN                      NaN                   629   \n",
       "3                      NaN                      NaN                   502   \n",
       "4                      NaN                      NaN                   596   \n",
       "\n",
       "   active_listing_count_mm  active_listing_count_yy  median_days_on_market  \\\n",
       "0                      NaN                      NaN                   87.0   \n",
       "1                      NaN                      NaN                   61.0   \n",
       "2                      NaN                      NaN                   42.0   \n",
       "3                      NaN                      NaN                   60.0   \n",
       "4                      NaN                      NaN                   66.0   \n",
       "\n",
       "   ...  average_listing_price_mm  average_listing_price_yy  \\\n",
       "0  ...                       NaN                       NaN   \n",
       "1  ...                       NaN                       NaN   \n",
       "2  ...                       NaN                       NaN   \n",
       "3  ...                       NaN                       NaN   \n",
       "4  ...                       NaN                       NaN   \n",
       "\n",
       "   total_listing_count  total_listing_count_mm  total_listing_count_yy  \\\n",
       "0                   36                     NaN                     NaN   \n",
       "1                  120                     NaN                     NaN   \n",
       "2                  629                     NaN                     NaN   \n",
       "3                  510                     NaN                     NaN   \n",
       "4                  596                     NaN                     NaN   \n",
       "\n",
       "   pending_ratio  pending_ratio_mm  pending_ratio_yy  quality_flag  state  \n",
       "0       0.058824               NaN               NaN             0     wa  \n",
       "1            NaN               NaN               NaN             0     wa  \n",
       "2       0.000000               NaN               NaN             0     wa  \n",
       "3       0.015936               NaN               NaN             0     wa  \n",
       "4            NaN               NaN               NaN             0     wa  \n",
       "\n",
       "[5 rows x 41 columns]"
      ]
     },
     "execution_count": 4,
     "metadata": {},
     "output_type": "execute_result"
    }
   ],
   "source": [
    "wa_house_listing_county_df = read_housing_inventory_data()\n",
    "wa_house_listing_county_df.head()"
   ]
  },
  {
   "cell_type": "markdown",
   "id": "430136b7-82cf-4540-a798-1b74e7cb5416",
   "metadata": {},
   "source": [
    "### Rental Data County and City wise."
   ]
  },
  {
   "cell_type": "code",
   "execution_count": 27,
   "id": "b14787ba-cefe-44f9-b856-348e9b363f2d",
   "metadata": {},
   "outputs": [
    {
     "data": {
      "text/html": [
       "<div>\n",
       "<style scoped>\n",
       "    .dataframe tbody tr th:only-of-type {\n",
       "        vertical-align: middle;\n",
       "    }\n",
       "\n",
       "    .dataframe tbody tr th {\n",
       "        vertical-align: top;\n",
       "    }\n",
       "\n",
       "    .dataframe thead th {\n",
       "        text-align: right;\n",
       "    }\n",
       "</style>\n",
       "<table border=\"1\" class=\"dataframe\">\n",
       "  <thead>\n",
       "    <tr style=\"text-align: right;\">\n",
       "      <th></th>\n",
       "      <th>Date</th>\n",
       "      <th>County_Name</th>\n",
       "      <th>FIPS_Code</th>\n",
       "      <th>Average_Rental_Price</th>\n",
       "    </tr>\n",
       "  </thead>\n",
       "  <tbody>\n",
       "    <tr>\n",
       "      <th>1</th>\n",
       "      <td>2017-01-01</td>\n",
       "      <td>Clark</td>\n",
       "      <td>53011</td>\n",
       "      <td>1294.0</td>\n",
       "    </tr>\n",
       "    <tr>\n",
       "      <th>2</th>\n",
       "      <td>2017-01-01</td>\n",
       "      <td>Grant</td>\n",
       "      <td>53025</td>\n",
       "      <td>961.0</td>\n",
       "    </tr>\n",
       "  </tbody>\n",
       "</table>\n",
       "</div>"
      ],
      "text/plain": [
       "        Date County_Name  FIPS_Code  Average_Rental_Price\n",
       "1 2017-01-01       Clark      53011                1294.0\n",
       "2 2017-01-01       Grant      53025                 961.0"
      ]
     },
     "metadata": {},
     "output_type": "display_data"
    },
    {
     "data": {
      "text/html": [
       "<div>\n",
       "<style scoped>\n",
       "    .dataframe tbody tr th:only-of-type {\n",
       "        vertical-align: middle;\n",
       "    }\n",
       "\n",
       "    .dataframe tbody tr th {\n",
       "        vertical-align: top;\n",
       "    }\n",
       "\n",
       "    .dataframe thead th {\n",
       "        text-align: right;\n",
       "    }\n",
       "</style>\n",
       "<table border=\"1\" class=\"dataframe\">\n",
       "  <thead>\n",
       "    <tr style=\"text-align: right;\">\n",
       "      <th></th>\n",
       "      <th>Date</th>\n",
       "      <th>City_Name</th>\n",
       "      <th>FIPS_Code</th>\n",
       "      <th>Average_Rental_Price</th>\n",
       "    </tr>\n",
       "  </thead>\n",
       "  <tbody>\n",
       "    <tr>\n",
       "      <th>0</th>\n",
       "      <td>2017-01-01</td>\n",
       "      <td>Auburn</td>\n",
       "      <td>5303180</td>\n",
       "      <td>1278.0</td>\n",
       "    </tr>\n",
       "    <tr>\n",
       "      <th>1</th>\n",
       "      <td>2017-01-01</td>\n",
       "      <td>Bellevue</td>\n",
       "      <td>5305210</td>\n",
       "      <td>2063.0</td>\n",
       "    </tr>\n",
       "  </tbody>\n",
       "</table>\n",
       "</div>"
      ],
      "text/plain": [
       "        Date City_Name  FIPS_Code  Average_Rental_Price\n",
       "0 2017-01-01    Auburn    5303180                1278.0\n",
       "1 2017-01-01  Bellevue    5305210                2063.0"
      ]
     },
     "metadata": {},
     "output_type": "display_data"
    }
   ],
   "source": [
    "rental_df = read_rental_inventory()\n",
    "rental_county_df = rental_df[0]\n",
    "rental_city_df = rental_df[1]\n",
    "\n",
    "display(rental_county_df.head(2))\n",
    "display(rental_city_df.head(2))"
   ]
  },
  {
   "cell_type": "markdown",
   "id": "ad3a7638-4354-4a17-a29e-18d0626ef31b",
   "metadata": {},
   "source": [
    "### Building Completion Data County and Citywise."
   ]
  },
  {
   "cell_type": "code",
   "execution_count": 9,
   "id": "d76334a1-b65a-4fda-83cb-95498caa19fd",
   "metadata": {},
   "outputs": [
    {
     "data": {
      "text/html": [
       "<div>\n",
       "<style scoped>\n",
       "    .dataframe tbody tr th:only-of-type {\n",
       "        vertical-align: middle;\n",
       "    }\n",
       "\n",
       "    .dataframe tbody tr th {\n",
       "        vertical-align: top;\n",
       "    }\n",
       "\n",
       "    .dataframe thead th {\n",
       "        text-align: right;\n",
       "    }\n",
       "</style>\n",
       "<table border=\"1\" class=\"dataframe\">\n",
       "  <thead>\n",
       "    <tr style=\"text-align: right;\">\n",
       "      <th></th>\n",
       "      <th>Date</th>\n",
       "      <th>COUNTIES</th>\n",
       "      <th>Units_Completed</th>\n",
       "    </tr>\n",
       "  </thead>\n",
       "  <tbody>\n",
       "    <tr>\n",
       "      <th>0</th>\n",
       "      <td>2016/17</td>\n",
       "      <td>Adams</td>\n",
       "      <td>146.0</td>\n",
       "    </tr>\n",
       "    <tr>\n",
       "      <th>1</th>\n",
       "      <td>2016/17</td>\n",
       "      <td>Asotin</td>\n",
       "      <td>29.0</td>\n",
       "    </tr>\n",
       "  </tbody>\n",
       "</table>\n",
       "</div>"
      ],
      "text/plain": [
       "      Date COUNTIES  Units_Completed\n",
       "0  2016/17    Adams            146.0\n",
       "1  2016/17   Asotin             29.0"
      ]
     },
     "metadata": {},
     "output_type": "display_data"
    },
    {
     "data": {
      "text/html": [
       "<div>\n",
       "<style scoped>\n",
       "    .dataframe tbody tr th:only-of-type {\n",
       "        vertical-align: middle;\n",
       "    }\n",
       "\n",
       "    .dataframe tbody tr th {\n",
       "        vertical-align: top;\n",
       "    }\n",
       "\n",
       "    .dataframe thead th {\n",
       "        text-align: right;\n",
       "    }\n",
       "</style>\n",
       "<table border=\"1\" class=\"dataframe\">\n",
       "  <thead>\n",
       "    <tr style=\"text-align: right;\">\n",
       "      <th></th>\n",
       "      <th>Date</th>\n",
       "      <th>CITIES</th>\n",
       "      <th>Units_Completed</th>\n",
       "    </tr>\n",
       "  </thead>\n",
       "  <tbody>\n",
       "    <tr>\n",
       "      <th>0</th>\n",
       "      <td>2016/17</td>\n",
       "      <td>Aberdeen</td>\n",
       "      <td>6.0</td>\n",
       "    </tr>\n",
       "    <tr>\n",
       "      <th>1</th>\n",
       "      <td>2016/17</td>\n",
       "      <td>Airway Heights</td>\n",
       "      <td>31.0</td>\n",
       "    </tr>\n",
       "  </tbody>\n",
       "</table>\n",
       "</div>"
      ],
      "text/plain": [
       "      Date          CITIES  Units_Completed\n",
       "0  2016/17        Aberdeen              6.0\n",
       "1  2016/17  Airway Heights             31.0"
      ]
     },
     "metadata": {},
     "output_type": "display_data"
    }
   ],
   "source": [
    "building_completion_df = read_building_completion_data()\n",
    "building_completion_county_df = building_completion_df[0]\n",
    "building_completion_city_df = building_completion_df[1]\n",
    "\n",
    "# Displaying the transformed Building Units DataFrames.\n",
    "display(building_completion_county_df.head(2))\n",
    "display(building_completion_city_df.head(2))"
   ]
  },
  {
   "cell_type": "markdown",
   "id": "194242aa-c703-4fff-82d0-145e8f1a4b22",
   "metadata": {},
   "source": [
    "### Building Permits Data County and Citywise."
   ]
  },
  {
   "cell_type": "code",
   "execution_count": 17,
   "id": "d1122edf-9df2-4e5c-ae3b-97d9e46cb111",
   "metadata": {},
   "outputs": [
    {
     "data": {
      "text/html": [
       "<div>\n",
       "<style scoped>\n",
       "    .dataframe tbody tr th:only-of-type {\n",
       "        vertical-align: middle;\n",
       "    }\n",
       "\n",
       "    .dataframe tbody tr th {\n",
       "        vertical-align: top;\n",
       "    }\n",
       "\n",
       "    .dataframe thead th {\n",
       "        text-align: right;\n",
       "    }\n",
       "</style>\n",
       "<table border=\"1\" class=\"dataframe\">\n",
       "  <thead>\n",
       "    <tr style=\"text-align: right;\">\n",
       "      <th></th>\n",
       "      <th>Date</th>\n",
       "      <th>COUNTIES</th>\n",
       "      <th>Units_Permitted</th>\n",
       "    </tr>\n",
       "  </thead>\n",
       "  <tbody>\n",
       "    <tr>\n",
       "      <th>0</th>\n",
       "      <td>2016</td>\n",
       "      <td>Adams</td>\n",
       "      <td>31.0</td>\n",
       "    </tr>\n",
       "    <tr>\n",
       "      <th>1</th>\n",
       "      <td>2016</td>\n",
       "      <td>Asotin</td>\n",
       "      <td>63.0</td>\n",
       "    </tr>\n",
       "  </tbody>\n",
       "</table>\n",
       "</div>"
      ],
      "text/plain": [
       "   Date COUNTIES  Units_Permitted\n",
       "0  2016    Adams             31.0\n",
       "1  2016   Asotin             63.0"
      ]
     },
     "metadata": {},
     "output_type": "display_data"
    },
    {
     "data": {
      "text/html": [
       "<div>\n",
       "<style scoped>\n",
       "    .dataframe tbody tr th:only-of-type {\n",
       "        vertical-align: middle;\n",
       "    }\n",
       "\n",
       "    .dataframe tbody tr th {\n",
       "        vertical-align: top;\n",
       "    }\n",
       "\n",
       "    .dataframe thead th {\n",
       "        text-align: right;\n",
       "    }\n",
       "</style>\n",
       "<table border=\"1\" class=\"dataframe\">\n",
       "  <thead>\n",
       "    <tr style=\"text-align: right;\">\n",
       "      <th></th>\n",
       "      <th>Date</th>\n",
       "      <th>CITIES</th>\n",
       "      <th>Units_Permitted</th>\n",
       "    </tr>\n",
       "  </thead>\n",
       "  <tbody>\n",
       "    <tr>\n",
       "      <th>0</th>\n",
       "      <td>2016</td>\n",
       "      <td>Aberdeen</td>\n",
       "      <td>5.0</td>\n",
       "    </tr>\n",
       "    <tr>\n",
       "      <th>1</th>\n",
       "      <td>2016</td>\n",
       "      <td>Airway Heights</td>\n",
       "      <td>33.0</td>\n",
       "    </tr>\n",
       "  </tbody>\n",
       "</table>\n",
       "</div>"
      ],
      "text/plain": [
       "   Date          CITIES  Units_Permitted\n",
       "0  2016        Aberdeen              5.0\n",
       "1  2016  Airway Heights             33.0"
      ]
     },
     "metadata": {},
     "output_type": "display_data"
    }
   ],
   "source": [
    "building_permit_df = read_building_permits_data()\n",
    "building_permit_county_df = building_permit_df[0]\n",
    "building_permit_city_df = building_permit_df[1]\n",
    "\n",
    "# Displaying the transformed Building Unit Permits DataFrames.\n",
    "display(building_permit_county_df.head(2))\n",
    "display(building_permit_city_df.head(2))"
   ]
  },
  {
   "cell_type": "markdown",
   "id": "f8d1dce8-36ff-4551-a034-63dce5f82685",
   "metadata": {},
   "source": [
    "### Labor and Employment Data Countywise."
   ]
  },
  {
   "cell_type": "code",
   "execution_count": 21,
   "id": "ad8ff050-60cf-477b-9548-33d5079ecd9c",
   "metadata": {},
   "outputs": [
    {
     "data": {
      "text/html": [
       "<div>\n",
       "<style scoped>\n",
       "    .dataframe tbody tr th:only-of-type {\n",
       "        vertical-align: middle;\n",
       "    }\n",
       "\n",
       "    .dataframe tbody tr th {\n",
       "        vertical-align: top;\n",
       "    }\n",
       "\n",
       "    .dataframe thead th {\n",
       "        text-align: right;\n",
       "    }\n",
       "</style>\n",
       "<table border=\"1\" class=\"dataframe\">\n",
       "  <thead>\n",
       "    <tr style=\"text-align: right;\">\n",
       "      <th></th>\n",
       "      <th>Date</th>\n",
       "      <th>FIPS_CODE</th>\n",
       "      <th>LABOR_NO.</th>\n",
       "    </tr>\n",
       "  </thead>\n",
       "  <tbody>\n",
       "    <tr>\n",
       "      <th>0</th>\n",
       "      <td>2017-01-01</td>\n",
       "      <td>53011</td>\n",
       "      <td>226512.0</td>\n",
       "    </tr>\n",
       "    <tr>\n",
       "      <th>1</th>\n",
       "      <td>2017-01-01</td>\n",
       "      <td>53025</td>\n",
       "      <td>41475.0</td>\n",
       "    </tr>\n",
       "  </tbody>\n",
       "</table>\n",
       "</div>"
      ],
      "text/plain": [
       "        Date FIPS_CODE  LABOR_NO.\n",
       "0 2017-01-01     53011   226512.0\n",
       "1 2017-01-01     53025    41475.0"
      ]
     },
     "metadata": {},
     "output_type": "display_data"
    },
    {
     "data": {
      "text/html": [
       "<div>\n",
       "<style scoped>\n",
       "    .dataframe tbody tr th:only-of-type {\n",
       "        vertical-align: middle;\n",
       "    }\n",
       "\n",
       "    .dataframe tbody tr th {\n",
       "        vertical-align: top;\n",
       "    }\n",
       "\n",
       "    .dataframe thead th {\n",
       "        text-align: right;\n",
       "    }\n",
       "</style>\n",
       "<table border=\"1\" class=\"dataframe\">\n",
       "  <thead>\n",
       "    <tr style=\"text-align: right;\">\n",
       "      <th></th>\n",
       "      <th>Date</th>\n",
       "      <th>FIPS_CODE</th>\n",
       "      <th>EMP_NO.</th>\n",
       "    </tr>\n",
       "  </thead>\n",
       "  <tbody>\n",
       "    <tr>\n",
       "      <th>0</th>\n",
       "      <td>2017-01-01</td>\n",
       "      <td>53011</td>\n",
       "      <td>213014.0</td>\n",
       "    </tr>\n",
       "    <tr>\n",
       "      <th>1</th>\n",
       "      <td>2017-01-01</td>\n",
       "      <td>53025</td>\n",
       "      <td>37313.0</td>\n",
       "    </tr>\n",
       "  </tbody>\n",
       "</table>\n",
       "</div>"
      ],
      "text/plain": [
       "        Date FIPS_CODE   EMP_NO.\n",
       "0 2017-01-01     53011  213014.0\n",
       "1 2017-01-01     53025   37313.0"
      ]
     },
     "metadata": {},
     "output_type": "display_data"
    }
   ],
   "source": [
    "# Reading Countywise Labor Force Data From `wa_labor_force_by_county.csv` \n",
    "wa_labor_force_df = read_labor_data()\n",
    "\n",
    "# Reading Countywise Labor Force Data From `wa_employment_by_county.csv`\n",
    "wa_employment_df = read_employment_data()\n",
    "\n",
    "display(wa_labor_force_df.head(2))\n",
    "display(wa_employment_df.head(2))"
   ]
  },
  {
   "cell_type": "markdown",
   "id": "d55815a7-3596-4a03-a6c1-60d4e89d31f6",
   "metadata": {},
   "source": [
    "### Housing Permits Data Countywise."
   ]
  },
  {
   "cell_type": "code",
   "execution_count": 7,
   "id": "c216bc64-4d5a-4db1-850b-cae57f4a3dea",
   "metadata": {},
   "outputs": [
    {
     "name": "stderr",
     "output_type": "stream",
     "text": [
      "/Users/rupika/bootcamp/FinTech_Workspace/Project1/Alpha-Dot-Housing-Market-Analysis/qualifier/utils/cleaner.py:100: SettingWithCopyWarning: \n",
      "A value is trying to be set on a copy of a slice from a DataFrame.\n",
      "Try using .loc[row_indexer,col_indexer] = value instead\n",
      "\n",
      "See the caveats in the documentation: https://pandas.pydata.org/pandas-docs/stable/user_guide/indexing.html#returning-a-view-versus-a-copy\n",
      "  housing_units_df['Date'] = pd.to_datetime(housing_units_df['Date'], format='%Y%m')\n",
      "/Users/rupika/bootcamp/FinTech_Workspace/Project1/Alpha-Dot-Housing-Market-Analysis/qualifier/utils/cleaner.py:103: SettingWithCopyWarning: \n",
      "A value is trying to be set on a copy of a slice from a DataFrame.\n",
      "Try using .loc[row_indexer,col_indexer] = value instead\n",
      "\n",
      "See the caveats in the documentation: https://pandas.pydata.org/pandas-docs/stable/user_guide/indexing.html#returning-a-view-versus-a-copy\n",
      "  housing_units_df['FIPS_CODE'] = housing_units_df['County'].apply(lambda x: create_code(x))\n",
      "/Users/rupika/opt/anaconda3/envs/dev/lib/python3.7/site-packages/pandas/util/_decorators.py:311: SettingWithCopyWarning: \n",
      "A value is trying to be set on a copy of a slice from a DataFrame\n",
      "\n",
      "See the caveats in the documentation: https://pandas.pydata.org/pandas-docs/stable/user_guide/indexing.html#returning-a-view-versus-a-copy\n",
      "  return func(*args, **kwargs)\n"
     ]
    },
    {
     "data": {
      "text/html": [
       "<div>\n",
       "<style scoped>\n",
       "    .dataframe tbody tr th:only-of-type {\n",
       "        vertical-align: middle;\n",
       "    }\n",
       "\n",
       "    .dataframe tbody tr th {\n",
       "        vertical-align: top;\n",
       "    }\n",
       "\n",
       "    .dataframe thead th {\n",
       "        text-align: right;\n",
       "    }\n",
       "</style>\n",
       "<table border=\"1\" class=\"dataframe\">\n",
       "  <thead>\n",
       "    <tr style=\"text-align: right;\">\n",
       "      <th></th>\n",
       "      <th>Date</th>\n",
       "      <th>FIPS_CODE</th>\n",
       "      <th>Name</th>\n",
       "      <th>Total_Housing_Units</th>\n",
       "    </tr>\n",
       "  </thead>\n",
       "  <tbody>\n",
       "    <tr>\n",
       "      <th>6679</th>\n",
       "      <td>2017-01-01</td>\n",
       "      <td>53005</td>\n",
       "      <td>Benton County</td>\n",
       "      <td>60</td>\n",
       "    </tr>\n",
       "    <tr>\n",
       "      <th>6680</th>\n",
       "      <td>2017-01-01</td>\n",
       "      <td>53011</td>\n",
       "      <td>Clark County</td>\n",
       "      <td>262</td>\n",
       "    </tr>\n",
       "    <tr>\n",
       "      <th>6681</th>\n",
       "      <td>2017-01-01</td>\n",
       "      <td>53021</td>\n",
       "      <td>Franklin County</td>\n",
       "      <td>28</td>\n",
       "    </tr>\n",
       "    <tr>\n",
       "      <th>6682</th>\n",
       "      <td>2017-01-01</td>\n",
       "      <td>53031</td>\n",
       "      <td>Jefferson County</td>\n",
       "      <td>10</td>\n",
       "    </tr>\n",
       "    <tr>\n",
       "      <th>6683</th>\n",
       "      <td>2017-01-01</td>\n",
       "      <td>53033</td>\n",
       "      <td>King County</td>\n",
       "      <td>1005</td>\n",
       "    </tr>\n",
       "  </tbody>\n",
       "</table>\n",
       "</div>"
      ],
      "text/plain": [
       "           Date FIPS_CODE                            Name  Total_Housing_Units\n",
       "6679 2017-01-01     53005  Benton County                                    60\n",
       "6680 2017-01-01     53011  Clark County                                    262\n",
       "6681 2017-01-01     53021  Franklin County                                  28\n",
       "6682 2017-01-01     53031  Jefferson County                                 10\n",
       "6683 2017-01-01     53033  King County                                    1005"
      ]
     },
     "execution_count": 7,
     "metadata": {},
     "output_type": "execute_result"
    }
   ],
   "source": [
    "monthly_housing_permits_data = read_monthly_housing_permits_data()\n",
    "monthly_housing_permits_data.head()"
   ]
  },
  {
   "cell_type": "markdown",
   "id": "1ecc702d-7b3a-4084-907d-a3a403dbf514",
   "metadata": {},
   "source": [
    "### Reading Geocodes"
   ]
  },
  {
   "cell_type": "code",
   "execution_count": 32,
   "id": "4a027870-104b-48e8-a7e0-b3a46f967e77",
   "metadata": {},
   "outputs": [],
   "source": [
    "geocode_df = read_geo_codes()"
   ]
  },
  {
   "cell_type": "markdown",
   "id": "ba456c5c-c492-4093-ae0a-e15d301d89fa",
   "metadata": {},
   "source": [
    "### Rental Data Analysis - City Wise"
   ]
  },
  {
   "cell_type": "code",
   "execution_count": 10,
   "id": "e4c6c890-7085-4b92-bc58-ec3c7fa70ee6",
   "metadata": {},
   "outputs": [
    {
     "data": {},
     "metadata": {},
     "output_type": "display_data"
    },
    {
     "data": {},
     "metadata": {},
     "output_type": "display_data"
    },
    {
     "data": {
      "application/vnd.holoviews_exec.v0+json": "",
      "text/html": [
       "<div id='1002'>\n",
       "\n",
       "\n",
       "\n",
       "\n",
       "\n",
       "  <div class=\"bk-root\" id=\"5db26a7e-ec53-4d6c-8b91-dca90fd11252\" data-root-id=\"1002\"></div>\n",
       "</div>\n",
       "<script type=\"application/javascript\">(function(root) {\n",
       "  function embed_document(root) {\n",
       "    var docs_json = {\"f3df7fb4-11e7-48d2-bc5c-663542b01b48\":{\"defs\":[{\"extends\":null,\"module\":null,\"name\":\"ReactiveHTML1\",\"overrides\":[],\"properties\":[]},{\"extends\":null,\"module\":null,\"name\":\"FlexBox1\",\"overrides\":[],\"properties\":[{\"default\":\"flex-start\",\"kind\":null,\"name\":\"align_content\"},{\"default\":\"flex-start\",\"kind\":null,\"name\":\"align_items\"},{\"default\":\"row\",\"kind\":null,\"name\":\"flex_direction\"},{\"default\":\"wrap\",\"kind\":null,\"name\":\"flex_wrap\"},{\"default\":\"flex-start\",\"kind\":null,\"name\":\"justify_content\"}]},{\"extends\":null,\"module\":null,\"name\":\"TemplateActions1\",\"overrides\":[],\"properties\":[{\"default\":0,\"kind\":null,\"name\":\"open_modal\"},{\"default\":0,\"kind\":null,\"name\":\"close_modal\"}]},{\"extends\":null,\"module\":null,\"name\":\"MaterialTemplateActions1\",\"overrides\":[],\"properties\":[{\"default\":0,\"kind\":null,\"name\":\"open_modal\"},{\"default\":0,\"kind\":null,\"name\":\"close_modal\"}]}],\"roots\":{\"references\":[{\"attributes\":{\"axis_label\":\"Average_Rental_Price\",\"coordinates\":null,\"formatter\":{\"id\":\"1053\"},\"group\":null,\"major_label_policy\":{\"id\":\"1054\"},\"ticker\":{\"id\":\"1024\"}},\"id\":\"1023\",\"type\":\"LinearAxis\"},{\"attributes\":{\"coordinates\":null,\"group\":null,\"text\":\"Rental Growth from 2017 to 2021\",\"text_color\":\"black\",\"text_font_size\":\"12pt\"},\"id\":\"1011\",\"type\":\"Title\"},{\"attributes\":{},\"id\":\"1029\",\"type\":\"WheelZoomTool\"},{\"attributes\":{\"mantissas\":[1,2,5],\"max_interval\":500.0,\"num_minor_ticks\":0},\"id\":\"1075\",\"type\":\"AdaptiveTicker\"},{\"attributes\":{\"reload\":false},\"id\":\"1242\",\"type\":\"panel.models.location.Location\"},{\"attributes\":{\"below\":[{\"id\":\"1019\"}],\"center\":[{\"id\":\"1022\"},{\"id\":\"1026\"}],\"height\":300,\"left\":[{\"id\":\"1023\"}],\"margin\":[5,5,5,5],\"min_border_bottom\":10,\"min_border_left\":10,\"min_border_right\":10,\"min_border_top\":10,\"renderers\":[{\"id\":\"1046\"}],\"sizing_mode\":\"fixed\",\"title\":{\"id\":\"1011\"},\"toolbar\":{\"id\":\"1033\"},\"width\":700,\"x_range\":{\"id\":\"1007\"},\"x_scale\":{\"id\":\"1015\"},\"y_range\":{\"id\":\"1008\"},\"y_scale\":{\"id\":\"1017\"}},\"id\":\"1010\",\"subtype\":\"Figure\",\"type\":\"Plot\"},{\"attributes\":{\"base\":24,\"mantissas\":[1,2,4,6,8,12],\"max_interval\":43200000.0,\"min_interval\":3600000.0,\"num_minor_ticks\":0},\"id\":\"1077\",\"type\":\"AdaptiveTicker\"},{\"attributes\":{\"days\":[1,2,3,4,5,6,7,8,9,10,11,12,13,14,15,16,17,18,19,20,21,22,23,24,25,26,27,28,29,30,31]},\"id\":\"1078\",\"type\":\"DaysTicker\"},{\"attributes\":{\"overlay\":{\"id\":\"1032\"}},\"id\":\"1030\",\"type\":\"BoxZoomTool\"},{\"attributes\":{},\"id\":\"1053\",\"type\":\"BasicTickFormatter\"},{\"attributes\":{\"margin\":[20,20,20,20],\"min_width\":250,\"options\":[\"Auburn\",\"Bellevue\",\"Bothell\",\"Everett\",\"Federal Way\",\"Issaquah\",\"Kent\",\"Kirkland\",\"Lacey\",\"Lakewood\",\"Lynnwood\",\"Mountlake Terrace\",\"Newcastle\",\"North Lynnwood\",\"Puyallup\",\"Redmond\",\"Renton\",\"Seattle\",\"Shoreline\",\"Silverdale\",\"Spokane\",\"Spokane Valley\",\"Tacoma\",\"Vancouver\",\"Woodinville\"],\"title\":\"City_Name\",\"value\":\"Auburn\",\"width\":250},\"id\":\"1005\",\"type\":\"Select\"},{\"attributes\":{\"months\":[0,6]},\"id\":\"1085\",\"type\":\"MonthsTicker\"},{\"attributes\":{\"axis\":{\"id\":\"1019\"},\"coordinates\":null,\"group\":null,\"ticker\":{\"id\":\"1020\"}},\"id\":\"1022\",\"type\":\"Grid\"},{\"attributes\":{},\"id\":\"1027\",\"type\":\"SaveTool\"},{\"attributes\":{\"children\":[{\"id\":\"1005\"}],\"css_classes\":[\"panel-widget-box\"],\"margin\":[5,5,5,5],\"name\":\"WidgetBox01577\"},\"id\":\"1004\",\"type\":\"Column\"},{\"attributes\":{\"months\":[0,4,8]},\"id\":\"1084\",\"type\":\"MonthsTicker\"},{\"attributes\":{},\"id\":\"1054\",\"type\":\"AllLabels\"},{\"attributes\":{},\"id\":\"1072\",\"type\":\"UnionRenderers\"},{\"attributes\":{\"base\":60,\"mantissas\":[1,2,5,10,15,20,30],\"max_interval\":1800000.0,\"min_interval\":1000.0,\"num_minor_ticks\":0},\"id\":\"1076\",\"type\":\"AdaptiveTicker\"},{\"attributes\":{},\"id\":\"1086\",\"type\":\"YearsTicker\"},{\"attributes\":{\"axis\":{\"id\":\"1023\"},\"coordinates\":null,\"dimension\":1,\"group\":null,\"ticker\":{\"id\":\"1024\"}},\"id\":\"1026\",\"type\":\"Grid\"},{\"attributes\":{},\"id\":\"1028\",\"type\":\"PanTool\"},{\"attributes\":{},\"id\":\"1017\",\"type\":\"LinearScale\"},{\"attributes\":{\"line_alpha\":0.1,\"line_color\":\"#30a2da\",\"line_width\":2,\"x\":{\"field\":\"Date\"},\"y\":{\"field\":\"Average_Rental_Price\"}},\"id\":\"1044\",\"type\":\"Line\"},{\"attributes\":{},\"id\":\"1041\",\"type\":\"Selection\"},{\"attributes\":{\"days\":[1,8,15,22]},\"id\":\"1080\",\"type\":\"DaysTicker\"},{\"attributes\":{\"tools\":[{\"id\":\"1009\"},{\"id\":\"1027\"},{\"id\":\"1028\"},{\"id\":\"1029\"},{\"id\":\"1030\"},{\"id\":\"1031\"}]},\"id\":\"1033\",\"type\":\"Toolbar\"},{\"attributes\":{\"num_minor_ticks\":5,\"tickers\":[{\"id\":\"1075\"},{\"id\":\"1076\"},{\"id\":\"1077\"},{\"id\":\"1078\"},{\"id\":\"1079\"},{\"id\":\"1080\"},{\"id\":\"1081\"},{\"id\":\"1082\"},{\"id\":\"1083\"},{\"id\":\"1084\"},{\"id\":\"1085\"},{\"id\":\"1086\"}]},\"id\":\"1020\",\"type\":\"DatetimeTicker\"},{\"attributes\":{\"callback\":null,\"formatters\":{\"@{Date}\":\"datetime\"},\"renderers\":[{\"id\":\"1046\"}],\"tags\":[\"hv_created\"],\"tooltips\":[[\"Date\",\"@{Date}{%F %T}\"],[\"Average_Rental_Price\",\"@{Average_Rental_Price}\"]]},\"id\":\"1009\",\"type\":\"HoverTool\"},{\"attributes\":{},\"id\":\"1050\",\"type\":\"DatetimeTickFormatter\"},{\"attributes\":{\"coordinates\":null,\"data_source\":{\"id\":\"1040\"},\"glyph\":{\"id\":\"1043\"},\"group\":null,\"hover_glyph\":null,\"muted_glyph\":{\"id\":\"1045\"},\"nonselection_glyph\":{\"id\":\"1044\"},\"selection_glyph\":{\"id\":\"1048\"},\"view\":{\"id\":\"1047\"}},\"id\":\"1046\",\"type\":\"GlyphRenderer\"},{\"attributes\":{\"axis_label\":\"Date\",\"coordinates\":null,\"formatter\":{\"id\":\"1050\"},\"group\":null,\"major_label_policy\":{\"id\":\"1051\"},\"ticker\":{\"id\":\"1020\"}},\"id\":\"1019\",\"type\":\"DatetimeAxis\"},{\"attributes\":{},\"id\":\"1031\",\"type\":\"ResetTool\"},{\"attributes\":{\"data\":{\"Average_Rental_Price\":{\"__ndarray__\":\"AAAAAAD4k0AAAAAAAJCTQAAAAAAAQJNAAAAAAAC0k0AAAAAAAIiUQAAAAAAAEJVAAAAAAAB0lUAAAAAAAOCUQAAAAAAAuJRAAAAAAABIlEAAAAAAAOCTQAAAAAAAoJNAAAAAAAAUlEAAAAAAALCUQAAAAAAAHJVAAAAAAAB0lUAAAAAAABSWQAAAAAAAUJZAAAAAAABolkAAAAAAABSWQAAAAAAAtJVAAAAAAACMlUAAAAAAANyVQAAAAAAA8JVAAAAAAACklUAAAAAAAGSVQAAAAAAAqJVAAAAAAAAYlkAAAAAAAMCWQAAAAAAA/JZAAAAAAAAUl0AAAAAAAMiWQAAAAAAA1JZAAAAAAAAMl0AAAAAAAOyWQAAAAAAAeJZAAAAAAAAElkAAAAAAACyWQAAAAAAAaJZAAAAAAAB0lkAAAAAAAFyWQAAAAAAAjJZAAAAAAADwlkAAAAAAAEiXQAAAAAAArJdAAAAAAACcl0AAAAAAAESXQAAAAAAAzJZAAAAAAADYlkAAAAAAADiXQAAAAAAAoJdAAAAAAABMmEAAAAAAACyZQAAAAAAA6JlAAAAAAABcmkAAAAAAAMCaQAAAAAAAVJtAAAAAAABYm0AAAAAAAAibQAAAAAAAPJpA\",\"dtype\":\"float64\",\"order\":\"little\",\"shape\":[60]},\"Date\":{\"__ndarray__\":\"AABANnWVdUIAAICIb591QgAAgKlyqHVCAADA+2yydUIAAEDoFLx1QgAAgDoPxnVCAAAAJ7fPdUIAAEB5sdl1QgAAgMur43VCAAAAuFPtdUIAAEAKTvd1QgAAwPb1AHZCAAAASfAKdkIAAECb6hR2QgAAQLztHXZCAACADugndkIAAAD7jzF2QgAAQE2KO3ZCAADAOTJFdkIAAACMLE92QgAAQN4mWXZCAADAys5idkIAAAAdyWx2QgAAgAlxdnZCAADAW2uAdkIAAACuZYp2QgAAAM9ok3ZCAABAIWOddkIAAMANC6d2QgAAAGAFsXZCAACATK26dkIAAMCep8R2QgAAAPGhznZCAACA3UnYdkIAAMAvROJ2QgAAQBzs63ZCAACAbub1dkIAAMDA4P92QgAAgEc2CXdCAADAmTATd0IAAECG2Bx3QgAAgNjSJndCAAAAxXowd0IAAEAXdTp3QgAAgGlvRHdCAAAAVhdOd0IAAECoEVh3QgAAwJS5YXdCAAAA57Nrd0IAAEA5rnV3QgAAQFqxfndCAACArKuId0IAAACZU5J3QgAAQOtNnHdCAADA1/Wld0IAAAAq8K93QgAAQHzquXdCAADAaJLDd0IAAAC7jM13QgAAgKc013dC\",\"dtype\":\"float64\",\"order\":\"little\",\"shape\":[60]}},\"selected\":{\"id\":\"1041\"},\"selection_policy\":{\"id\":\"1072\"}},\"id\":\"1040\",\"type\":\"ColumnDataSource\"},{\"attributes\":{},\"id\":\"1051\",\"type\":\"AllLabels\"},{\"attributes\":{\"client_comm_id\":\"5225e66320804d238f9c5fccaf13fa78\",\"comm_id\":\"f8555f15e5dc46ec9c13628ac99970a4\",\"plot_id\":\"1002\"},\"id\":\"1175\",\"type\":\"panel.models.comm_manager.CommManager\"},{\"attributes\":{\"margin\":[5,5,5,5],\"name\":\"VSpacer01582\",\"sizing_mode\":\"stretch_height\"},\"id\":\"1006\",\"type\":\"Spacer\"},{\"attributes\":{\"line_color\":\"#30a2da\",\"line_width\":2,\"x\":{\"field\":\"Date\"},\"y\":{\"field\":\"Average_Rental_Price\"}},\"id\":\"1048\",\"type\":\"Line\"},{\"attributes\":{\"bottom_units\":\"screen\",\"coordinates\":null,\"fill_alpha\":0.5,\"fill_color\":\"lightgrey\",\"group\":null,\"left_units\":\"screen\",\"level\":\"overlay\",\"line_alpha\":1.0,\"line_color\":\"black\",\"line_dash\":[4,4],\"line_width\":2,\"right_units\":\"screen\",\"syncable\":false,\"top_units\":\"screen\"},\"id\":\"1032\",\"type\":\"BoxAnnotation\"},{\"attributes\":{\"days\":[1,4,7,10,13,16,19,22,25,28]},\"id\":\"1079\",\"type\":\"DaysTicker\"},{\"attributes\":{\"source\":{\"id\":\"1040\"}},\"id\":\"1047\",\"type\":\"CDSView\"},{\"attributes\":{},\"id\":\"1015\",\"type\":\"LinearScale\"},{\"attributes\":{\"end\":1638316800000.0,\"reset_end\":1638316800000.0,\"reset_start\":1483228800000.0,\"start\":1483228800000.0,\"tags\":[[[\"Date\",\"Date\",null]]]},\"id\":\"1007\",\"type\":\"Range1d\"},{\"attributes\":{\"children\":[{\"id\":\"1004\"},{\"id\":\"1006\"}],\"margin\":[0,0,0,0],\"name\":\"Column01583\"},\"id\":\"1003\",\"type\":\"Column\"},{\"attributes\":{\"line_color\":\"#30a2da\",\"line_width\":2,\"x\":{\"field\":\"Date\"},\"y\":{\"field\":\"Average_Rental_Price\"}},\"id\":\"1043\",\"type\":\"Line\"},{\"attributes\":{\"days\":[1,15]},\"id\":\"1081\",\"type\":\"DaysTicker\"},{\"attributes\":{\"children\":[{\"id\":\"1003\"},{\"id\":\"1010\"}],\"margin\":[0,0,0,0],\"name\":\"Row01576\"},\"id\":\"1002\",\"type\":\"Row\"},{\"attributes\":{\"line_alpha\":0.2,\"line_color\":\"#30a2da\",\"line_width\":2,\"x\":{\"field\":\"Date\"},\"y\":{\"field\":\"Average_Rental_Price\"}},\"id\":\"1045\",\"type\":\"Line\"},{\"attributes\":{\"end\":1801.8,\"reset_end\":1801.8,\"reset_start\":1180.2,\"start\":1180.2,\"tags\":[[[\"Average_Rental_Price\",\"Average_Rental_Price\",null]]]},\"id\":\"1008\",\"type\":\"Range1d\"},{\"attributes\":{\"months\":[0,1,2,3,4,5,6,7,8,9,10,11]},\"id\":\"1082\",\"type\":\"MonthsTicker\"},{\"attributes\":{},\"id\":\"1024\",\"type\":\"BasicTicker\"},{\"attributes\":{\"months\":[0,2,4,6,8,10]},\"id\":\"1083\",\"type\":\"MonthsTicker\"}],\"root_ids\":[\"1002\",\"1175\",\"1242\"]},\"title\":\"Bokeh Application\",\"version\":\"2.4.1\"}};\n",
       "    var render_items = [{\"docid\":\"f3df7fb4-11e7-48d2-bc5c-663542b01b48\",\"root_ids\":[\"1002\"],\"roots\":{\"1002\":\"5db26a7e-ec53-4d6c-8b91-dca90fd11252\"}}];\n",
       "    root.Bokeh.embed.embed_items_notebook(docs_json, render_items);\n",
       "  }\n",
       "  if (root.Bokeh !== undefined && root.Bokeh.Panel !== undefined) {\n",
       "    embed_document(root);\n",
       "  } else {\n",
       "    var attempts = 0;\n",
       "    var timer = setInterval(function(root) {\n",
       "      if (root.Bokeh !== undefined && root.Bokeh.Panel !== undefined) {\n",
       "        clearInterval(timer);\n",
       "        embed_document(root);\n",
       "      } else if (document.readyState == \"complete\") {\n",
       "        attempts++;\n",
       "        if (attempts > 200) {\n",
       "          clearInterval(timer);\n",
       "          console.log(\"Bokeh: ERROR: Unable to run BokehJS code because BokehJS library is missing\");\n",
       "        }\n",
       "      }\n",
       "    }, 25, root)\n",
       "  }\n",
       "})(window);</script>"
      ],
      "text/plain": [
       "Row\n",
       "    [0] Column\n",
       "        [0] WidgetBox\n",
       "            [0] Select(margin=(20, 20, 20, 20), name='City_Name', options=['Auburn', 'Bellevue', ...], value='Auburn', width=250)\n",
       "        [1] VSpacer()\n",
       "    [1] HoloViews(DynamicMap, widget_location='left_top')"
      ]
     },
     "execution_count": 10,
     "metadata": {
      "application/vnd.holoviews_exec.v0+json": {
       "id": "1002"
      }
     },
     "output_type": "execute_result"
    }
   ],
   "source": [
    "#Plotting the visualization for city wise \n",
    "rental_city_df.hvplot(\n",
    "    title='Rental Growth from 2017 to 2021',\n",
    "    x='Date',\n",
    "    y='Average_Rental_Price',\n",
    "    widget_location='left_top',\n",
    "    kind='line',\n",
    "    groupby='City_Name',\n",
    "    grid=True\n",
    ")"
   ]
  },
  {
   "cell_type": "code",
   "execution_count": 11,
   "id": "de8be5c8-a059-4289-9cd9-cdc863235370",
   "metadata": {},
   "outputs": [
    {
     "data": {
      "text/html": [
       "<div>\n",
       "<style scoped>\n",
       "    .dataframe tbody tr th:only-of-type {\n",
       "        vertical-align: middle;\n",
       "    }\n",
       "\n",
       "    .dataframe tbody tr th {\n",
       "        vertical-align: top;\n",
       "    }\n",
       "\n",
       "    .dataframe thead th {\n",
       "        text-align: right;\n",
       "    }\n",
       "</style>\n",
       "<table border=\"1\" class=\"dataframe\">\n",
       "  <thead>\n",
       "    <tr style=\"text-align: right;\">\n",
       "      <th>City_Name</th>\n",
       "      <th>Seattle</th>\n",
       "      <th>Bellevue</th>\n",
       "      <th>Bothell</th>\n",
       "      <th>Everett</th>\n",
       "      <th>Kirkland</th>\n",
       "      <th>Issaquah</th>\n",
       "    </tr>\n",
       "    <tr>\n",
       "      <th>Date</th>\n",
       "      <th></th>\n",
       "      <th></th>\n",
       "      <th></th>\n",
       "      <th></th>\n",
       "      <th></th>\n",
       "      <th></th>\n",
       "    </tr>\n",
       "  </thead>\n",
       "  <tbody>\n",
       "    <tr>\n",
       "      <th>2017-01-01</th>\n",
       "      <td>1681.0</td>\n",
       "      <td>2063.0</td>\n",
       "      <td>1624.0</td>\n",
       "      <td>1223.0</td>\n",
       "      <td>1888.0</td>\n",
       "      <td>2065.0</td>\n",
       "    </tr>\n",
       "    <tr>\n",
       "      <th>2017-02-01</th>\n",
       "      <td>1713.0</td>\n",
       "      <td>2099.0</td>\n",
       "      <td>1643.0</td>\n",
       "      <td>1220.0</td>\n",
       "      <td>1930.0</td>\n",
       "      <td>2094.0</td>\n",
       "    </tr>\n",
       "    <tr>\n",
       "      <th>2017-03-01</th>\n",
       "      <td>1742.0</td>\n",
       "      <td>2158.0</td>\n",
       "      <td>1728.0</td>\n",
       "      <td>1252.0</td>\n",
       "      <td>1972.0</td>\n",
       "      <td>2106.0</td>\n",
       "    </tr>\n",
       "    <tr>\n",
       "      <th>2017-04-01</th>\n",
       "      <td>1773.0</td>\n",
       "      <td>2201.0</td>\n",
       "      <td>1787.0</td>\n",
       "      <td>1262.0</td>\n",
       "      <td>2029.0</td>\n",
       "      <td>2161.0</td>\n",
       "    </tr>\n",
       "    <tr>\n",
       "      <th>2017-05-01</th>\n",
       "      <td>1814.0</td>\n",
       "      <td>2224.0</td>\n",
       "      <td>1854.0</td>\n",
       "      <td>1292.0</td>\n",
       "      <td>2082.0</td>\n",
       "      <td>2242.0</td>\n",
       "    </tr>\n",
       "  </tbody>\n",
       "</table>\n",
       "</div>"
      ],
      "text/plain": [
       "City_Name   Seattle  Bellevue  Bothell  Everett  Kirkland  Issaquah\n",
       "Date                                                               \n",
       "2017-01-01   1681.0    2063.0   1624.0   1223.0    1888.0    2065.0\n",
       "2017-02-01   1713.0    2099.0   1643.0   1220.0    1930.0    2094.0\n",
       "2017-03-01   1742.0    2158.0   1728.0   1252.0    1972.0    2106.0\n",
       "2017-04-01   1773.0    2201.0   1787.0   1262.0    2029.0    2161.0\n",
       "2017-05-01   1814.0    2224.0   1854.0   1292.0    2082.0    2242.0"
      ]
     },
     "metadata": {},
     "output_type": "display_data"
    }
   ],
   "source": [
    "#Formatting table and slicing dataframe to only few cities for further analysis\n",
    "sliced_city_rental_df = pd.pivot_table(rental_city_df,values='Average_Rental_Price',\n",
    "                      index=['Date'],\n",
    "                      columns=['City_Name'])\n",
    "sliced_city_rental_df = sliced_city_rental_df[['Seattle','Bellevue','Bothell','Everett','Kirkland','Issaquah']]\n",
    "\n",
    "#Displaying sliced dataframe\n",
    "display(sliced_city_rental_df.head())"
   ]
  },
  {
   "cell_type": "code",
   "execution_count": 16,
   "id": "4bf44285-03d2-403f-8c65-5af4f3e1d1b3",
   "metadata": {},
   "outputs": [
    {
     "data": {
      "text/plain": [
       "<AxesSubplot:title={'center':'Rental growth city wise from 2017 to 2021'}, xlabel='Year', ylabel='Average Rental Price'>"
      ]
     },
     "execution_count": 16,
     "metadata": {},
     "output_type": "execute_result"
    },
    {
     "data": {
      "image/png": "[encoded data removed]",
      "text/plain": [
       "<Figure size 1080x504 with 1 Axes>"
      ]
     },
     "metadata": {
      "needs_background": "light"
     },
     "output_type": "display_data"
    }
   ],
   "source": [
    "#Plotting the sliced dataframe for visualization \n",
    "sliced_city_rental_df.plot(\n",
    "    figsize=(15,7),\n",
    "    title = \"Rental growth city wise from 2017 to 2021\",\n",
    "    xlabel='Year',\n",
    "    ylabel='Average Rental Price'\n",
    ")"
   ]
  },
  {
   "cell_type": "markdown",
   "id": "eab0423c-522f-4aec-8fdf-b50a5b3b3844",
   "metadata": {},
   "source": [
    "### Rental Data Analysis - County Wise"
   ]
  },
  {
   "cell_type": "code",
   "execution_count": 18,
   "id": "665d881d-398e-4c0b-b4eb-e2887407d960",
   "metadata": {},
   "outputs": [
    {
     "data": {},
     "metadata": {},
     "output_type": "display_data"
    },
    {
     "data": {},
     "metadata": {},
     "output_type": "display_data"
    },
    {
     "data": {
      "application/vnd.holoviews_exec.v0+json": "",
      "text/html": [
       "<div id='1309'>\n",
       "\n",
       "\n",
       "\n",
       "\n",
       "\n",
       "  <div class=\"bk-root\" id=\"ccc9d144-49ad-4a06-99a6-2336c520ff1d\" data-root-id=\"1309\"></div>\n",
       "</div>\n",
       "<script type=\"application/javascript\">(function(root) {\n",
       "  function embed_document(root) {\n",
       "    var docs_json = {\"1d84e3d8-fc56-4276-879a-d14ab783025c\":{\"defs\":[{\"extends\":null,\"module\":null,\"name\":\"ReactiveHTML1\",\"overrides\":[],\"properties\":[]},{\"extends\":null,\"module\":null,\"name\":\"FlexBox1\",\"overrides\":[],\"properties\":[{\"default\":\"flex-start\",\"kind\":null,\"name\":\"align_content\"},{\"default\":\"flex-start\",\"kind\":null,\"name\":\"align_items\"},{\"default\":\"row\",\"kind\":null,\"name\":\"flex_direction\"},{\"default\":\"wrap\",\"kind\":null,\"name\":\"flex_wrap\"},{\"default\":\"flex-start\",\"kind\":null,\"name\":\"justify_content\"}]},{\"extends\":null,\"module\":null,\"name\":\"TemplateActions1\",\"overrides\":[],\"properties\":[{\"default\":0,\"kind\":null,\"name\":\"open_modal\"},{\"default\":0,\"kind\":null,\"name\":\"close_modal\"}]},{\"extends\":null,\"module\":null,\"name\":\"MaterialTemplateActions1\",\"overrides\":[],\"properties\":[{\"default\":0,\"kind\":null,\"name\":\"open_modal\"},{\"default\":0,\"kind\":null,\"name\":\"close_modal\"}]}],\"roots\":{\"references\":[{\"attributes\":{},\"id\":\"1335\",\"type\":\"PanTool\"},{\"attributes\":{\"num_minor_ticks\":5,\"tickers\":[{\"id\":\"1382\"},{\"id\":\"1383\"},{\"id\":\"1384\"},{\"id\":\"1385\"},{\"id\":\"1386\"},{\"id\":\"1387\"},{\"id\":\"1388\"},{\"id\":\"1389\"},{\"id\":\"1390\"},{\"id\":\"1391\"},{\"id\":\"1392\"},{\"id\":\"1393\"}]},\"id\":\"1327\",\"type\":\"DatetimeTicker\"},{\"attributes\":{\"months\":[0,6]},\"id\":\"1392\",\"type\":\"MonthsTicker\"},{\"attributes\":{},\"id\":\"1322\",\"type\":\"LinearScale\"},{\"attributes\":{},\"id\":\"1334\",\"type\":\"SaveTool\"},{\"attributes\":{},\"id\":\"1393\",\"type\":\"YearsTicker\"},{\"attributes\":{\"end\":1792.3,\"reset_end\":1792.3,\"reset_start\":1248.7,\"start\":1248.7,\"tags\":[[[\"Average_Rental_Price\",\"Average_Rental_Price\",null]]]},\"id\":\"1315\",\"type\":\"Range1d\"},{\"attributes\":{\"data\":{\"Average_Rental_Price\":{\"__ndarray__\":\"AAAAAAA4lEAAAAAAAGSUQAAAAAAAmJRAAAAAAADAlEAAAAAAANSUQAAAAAAA7JRAAAAAAABMlUAAAAAAAKyVQAAAAAAArJVAAAAAAACclUAAAAAAAGCVQAAAAAAAOJVAAAAAAABElUAAAAAAAESVQAAAAAAApJVAAAAAAAColUAAAAAAALyVQAAAAAAAwJVAAAAAAADolUAAAAAAACiWQAAAAAAANJZAAAAAAAA8lkAAAAAAAByWQAAAAAAAAJZAAAAAAAD0lUAAAAAAAPCVQAAAAAAAIJZAAAAAAABUlkAAAAAAAJiWQAAAAAAAlJZAAAAAAACslkAAAAAAALCWQAAAAAAArJZAAAAAAAB4lkAAAAAAAFSWQAAAAAAAOJZAAAAAAAAwlkAAAAAAACCWQAAAAAAARJZAAAAAAAA0lkAAAAAAACyWQAAAAAAAQJZAAAAAAACklkAAAAAAABiXQAAAAAAAYJdAAAAAAACYl0AAAAAAALCXQAAAAAAApJdAAAAAAACMl0AAAAAAAJiXQAAAAAAA7JdAAAAAAABgmEAAAAAAAOyYQAAAAAAAgJlAAAAAAAAkmkAAAAAAAMiaQAAAAAAAJJtAAAAAAABMm0AAAAAAADSbQAAAAAAAPJtA\",\"dtype\":\"float64\",\"order\":\"little\",\"shape\":[60]},\"Date\":{\"__ndarray__\":\"AABANnWVdUIAAICIb591QgAAgKlyqHVCAADA+2yydUIAAEDoFLx1QgAAgDoPxnVCAAAAJ7fPdUIAAEB5sdl1QgAAgMur43VCAAAAuFPtdUIAAEAKTvd1QgAAwPb1AHZCAAAASfAKdkIAAECb6hR2QgAAQLztHXZCAACADugndkIAAAD7jzF2QgAAQE2KO3ZCAADAOTJFdkIAAACMLE92QgAAQN4mWXZCAADAys5idkIAAAAdyWx2QgAAgAlxdnZCAADAW2uAdkIAAACuZYp2QgAAAM9ok3ZCAABAIWOddkIAAMANC6d2QgAAAGAFsXZCAACATK26dkIAAMCep8R2QgAAAPGhznZCAACA3UnYdkIAAMAvROJ2QgAAQBzs63ZCAACAbub1dkIAAMDA4P92QgAAgEc2CXdCAADAmTATd0IAAECG2Bx3QgAAgNjSJndCAAAAxXowd0IAAEAXdTp3QgAAgGlvRHdCAAAAVhdOd0IAAECoEVh3QgAAwJS5YXdCAAAA57Nrd0IAAEA5rnV3QgAAQFqxfndCAACArKuId0IAAACZU5J3QgAAQOtNnHdCAADA1/Wld0IAAAAq8K93QgAAQHzquXdCAADAaJLDd0IAAAC7jM13QgAAgKc013dC\",\"dtype\":\"float64\",\"order\":\"little\",\"shape\":[60]}},\"selected\":{\"id\":\"1348\"},\"selection_policy\":{\"id\":\"1379\"}},\"id\":\"1347\",\"type\":\"ColumnDataSource\"},{\"attributes\":{\"axis_label\":\"Date\",\"coordinates\":null,\"formatter\":{\"id\":\"1357\"},\"group\":null,\"major_label_policy\":{\"id\":\"1358\"},\"ticker\":{\"id\":\"1327\"}},\"id\":\"1326\",\"type\":\"DatetimeAxis\"},{\"attributes\":{\"mantissas\":[1,2,5],\"max_interval\":500.0,\"num_minor_ticks\":0},\"id\":\"1382\",\"type\":\"AdaptiveTicker\"},{\"attributes\":{\"months\":[0,4,8]},\"id\":\"1391\",\"type\":\"MonthsTicker\"},{\"attributes\":{},\"id\":\"1357\",\"type\":\"DatetimeTickFormatter\"},{\"attributes\":{},\"id\":\"1379\",\"type\":\"UnionRenderers\"},{\"attributes\":{\"bottom_units\":\"screen\",\"coordinates\":null,\"fill_alpha\":0.5,\"fill_color\":\"lightgrey\",\"group\":null,\"left_units\":\"screen\",\"level\":\"overlay\",\"line_alpha\":1.0,\"line_color\":\"black\",\"line_dash\":[4,4],\"line_width\":2,\"right_units\":\"screen\",\"syncable\":false,\"top_units\":\"screen\"},\"id\":\"1339\",\"type\":\"BoxAnnotation\"},{\"attributes\":{\"tools\":[{\"id\":\"1316\"},{\"id\":\"1334\"},{\"id\":\"1335\"},{\"id\":\"1336\"},{\"id\":\"1337\"},{\"id\":\"1338\"}]},\"id\":\"1340\",\"type\":\"Toolbar\"},{\"attributes\":{},\"id\":\"1331\",\"type\":\"BasicTicker\"},{\"attributes\":{\"base\":24,\"mantissas\":[1,2,4,6,8,12],\"max_interval\":43200000.0,\"min_interval\":3600000.0,\"num_minor_ticks\":0},\"id\":\"1384\",\"type\":\"AdaptiveTicker\"},{\"attributes\":{\"source\":{\"id\":\"1347\"}},\"id\":\"1354\",\"type\":\"CDSView\"},{\"attributes\":{\"months\":[0,2,4,6,8,10]},\"id\":\"1390\",\"type\":\"MonthsTicker\"},{\"attributes\":{\"children\":[{\"id\":\"1311\"},{\"id\":\"1313\"}],\"margin\":[0,0,0,0],\"name\":\"Column01837\"},\"id\":\"1310\",\"type\":\"Column\"},{\"attributes\":{\"line_color\":\"#30a2da\",\"line_width\":2,\"x\":{\"field\":\"Date\"},\"y\":{\"field\":\"Average_Rental_Price\"}},\"id\":\"1355\",\"type\":\"Line\"},{\"attributes\":{\"callback\":null,\"formatters\":{\"@{Date}\":\"datetime\"},\"renderers\":[{\"id\":\"1353\"}],\"tags\":[\"hv_created\"],\"tooltips\":[[\"Date\",\"@{Date}{%F %T}\"],[\"Average_Rental_Price\",\"@{Average_Rental_Price}\"]]},\"id\":\"1316\",\"type\":\"HoverTool\"},{\"attributes\":{\"coordinates\":null,\"data_source\":{\"id\":\"1347\"},\"glyph\":{\"id\":\"1350\"},\"group\":null,\"hover_glyph\":null,\"muted_glyph\":{\"id\":\"1352\"},\"nonselection_glyph\":{\"id\":\"1351\"},\"selection_glyph\":{\"id\":\"1355\"},\"view\":{\"id\":\"1354\"}},\"id\":\"1353\",\"type\":\"GlyphRenderer\"},{\"attributes\":{\"margin\":[20,20,20,20],\"min_width\":250,\"options\":[\"Clark\",\"Grant\",\"King\",\"Kitsap\",\"Pierce\",\"Snohomish\",\"Spokane\",\"Thurston\"],\"title\":\"County_Name\",\"value\":\"Clark\",\"width\":250},\"id\":\"1312\",\"type\":\"Select\"},{\"attributes\":{\"base\":60,\"mantissas\":[1,2,5,10,15,20,30],\"max_interval\":1800000.0,\"min_interval\":1000.0,\"num_minor_ticks\":0},\"id\":\"1383\",\"type\":\"AdaptiveTicker\"},{\"attributes\":{},\"id\":\"1338\",\"type\":\"ResetTool\"},{\"attributes\":{\"months\":[0,1,2,3,4,5,6,7,8,9,10,11]},\"id\":\"1389\",\"type\":\"MonthsTicker\"},{\"attributes\":{\"client_comm_id\":\"e3e0a36b5eea4653ba2bbf1f883855f6\",\"comm_id\":\"8a1c02805e9947f99be0fc43376bbb34\",\"plot_id\":\"1309\"},\"id\":\"1482\",\"type\":\"panel.models.comm_manager.CommManager\"},{\"attributes\":{\"line_alpha\":0.2,\"line_color\":\"#30a2da\",\"line_width\":2,\"x\":{\"field\":\"Date\"},\"y\":{\"field\":\"Average_Rental_Price\"}},\"id\":\"1352\",\"type\":\"Line\"},{\"attributes\":{},\"id\":\"1361\",\"type\":\"AllLabels\"},{\"attributes\":{\"line_alpha\":0.1,\"line_color\":\"#30a2da\",\"line_width\":2,\"x\":{\"field\":\"Date\"},\"y\":{\"field\":\"Average_Rental_Price\"}},\"id\":\"1351\",\"type\":\"Line\"},{\"attributes\":{\"days\":[1,15]},\"id\":\"1388\",\"type\":\"DaysTicker\"},{\"attributes\":{\"line_color\":\"#30a2da\",\"line_width\":2,\"x\":{\"field\":\"Date\"},\"y\":{\"field\":\"Average_Rental_Price\"}},\"id\":\"1350\",\"type\":\"Line\"},{\"attributes\":{\"margin\":[5,5,5,5],\"name\":\"VSpacer01836\",\"sizing_mode\":\"stretch_height\"},\"id\":\"1313\",\"type\":\"Spacer\"},{\"attributes\":{\"axis_label\":\"Average_Rental_Price\",\"coordinates\":null,\"formatter\":{\"id\":\"1360\"},\"group\":null,\"major_label_policy\":{\"id\":\"1361\"},\"ticker\":{\"id\":\"1331\"}},\"id\":\"1330\",\"type\":\"LinearAxis\"},{\"attributes\":{\"children\":[{\"id\":\"1310\"},{\"id\":\"1317\"}],\"margin\":[0,0,0,0],\"name\":\"Row01830\"},\"id\":\"1309\",\"type\":\"Row\"},{\"attributes\":{},\"id\":\"1348\",\"type\":\"Selection\"},{\"attributes\":{\"days\":[1,4,7,10,13,16,19,22,25,28]},\"id\":\"1386\",\"type\":\"DaysTicker\"},{\"attributes\":{\"overlay\":{\"id\":\"1339\"}},\"id\":\"1337\",\"type\":\"BoxZoomTool\"},{\"attributes\":{},\"id\":\"1358\",\"type\":\"AllLabels\"},{\"attributes\":{\"days\":[1,8,15,22]},\"id\":\"1387\",\"type\":\"DaysTicker\"},{\"attributes\":{},\"id\":\"1324\",\"type\":\"LinearScale\"},{\"attributes\":{\"axis\":{\"id\":\"1330\"},\"coordinates\":null,\"dimension\":1,\"group\":null,\"ticker\":{\"id\":\"1331\"}},\"id\":\"1333\",\"type\":\"Grid\"},{\"attributes\":{},\"id\":\"1360\",\"type\":\"BasicTickFormatter\"},{\"attributes\":{\"coordinates\":null,\"group\":null,\"text\":\"Rental Growth from 2017 to 2021\",\"text_color\":\"black\",\"text_font_size\":\"12pt\"},\"id\":\"1318\",\"type\":\"Title\"},{\"attributes\":{\"end\":1638316800000.0,\"reset_end\":1638316800000.0,\"reset_start\":1483228800000.0,\"start\":1483228800000.0,\"tags\":[[[\"Date\",\"Date\",null]]]},\"id\":\"1314\",\"type\":\"Range1d\"},{\"attributes\":{},\"id\":\"1336\",\"type\":\"WheelZoomTool\"},{\"attributes\":{\"axis\":{\"id\":\"1326\"},\"coordinates\":null,\"group\":null,\"ticker\":{\"id\":\"1327\"}},\"id\":\"1329\",\"type\":\"Grid\"},{\"attributes\":{\"days\":[1,2,3,4,5,6,7,8,9,10,11,12,13,14,15,16,17,18,19,20,21,22,23,24,25,26,27,28,29,30,31]},\"id\":\"1385\",\"type\":\"DaysTicker\"},{\"attributes\":{\"below\":[{\"id\":\"1326\"}],\"center\":[{\"id\":\"1329\"},{\"id\":\"1333\"}],\"height\":300,\"left\":[{\"id\":\"1330\"}],\"margin\":[5,5,5,5],\"min_border_bottom\":10,\"min_border_left\":10,\"min_border_right\":10,\"min_border_top\":10,\"renderers\":[{\"id\":\"1353\"}],\"sizing_mode\":\"fixed\",\"title\":{\"id\":\"1318\"},\"toolbar\":{\"id\":\"1340\"},\"width\":700,\"x_range\":{\"id\":\"1314\"},\"x_scale\":{\"id\":\"1322\"},\"y_range\":{\"id\":\"1315\"},\"y_scale\":{\"id\":\"1324\"}},\"id\":\"1317\",\"subtype\":\"Figure\",\"type\":\"Plot\"},{\"attributes\":{\"children\":[{\"id\":\"1312\"}],\"css_classes\":[\"panel-widget-box\"],\"margin\":[5,5,5,5],\"name\":\"WidgetBox01831\"},\"id\":\"1311\",\"type\":\"Column\"}],\"root_ids\":[\"1309\",\"1482\"]},\"title\":\"Bokeh Application\",\"version\":\"2.4.1\"}};\n",
       "    var render_items = [{\"docid\":\"1d84e3d8-fc56-4276-879a-d14ab783025c\",\"root_ids\":[\"1309\"],\"roots\":{\"1309\":\"ccc9d144-49ad-4a06-99a6-2336c520ff1d\"}}];\n",
       "    root.Bokeh.embed.embed_items_notebook(docs_json, render_items);\n",
       "  }\n",
       "  if (root.Bokeh !== undefined && root.Bokeh.Panel !== undefined) {\n",
       "    embed_document(root);\n",
       "  } else {\n",
       "    var attempts = 0;\n",
       "    var timer = setInterval(function(root) {\n",
       "      if (root.Bokeh !== undefined && root.Bokeh.Panel !== undefined) {\n",
       "        clearInterval(timer);\n",
       "        embed_document(root);\n",
       "      } else if (document.readyState == \"complete\") {\n",
       "        attempts++;\n",
       "        if (attempts > 200) {\n",
       "          clearInterval(timer);\n",
       "          console.log(\"Bokeh: ERROR: Unable to run BokehJS code because BokehJS library is missing\");\n",
       "        }\n",
       "      }\n",
       "    }, 25, root)\n",
       "  }\n",
       "})(window);</script>"
      ],
      "text/plain": [
       "Row\n",
       "    [0] Column\n",
       "        [0] WidgetBox\n",
       "            [0] Select(margin=(20, 20, 20, 20), name='County_Name', options=['Clark', 'Grant', ...], value='Clark', width=250)\n",
       "        [1] VSpacer()\n",
       "    [1] HoloViews(DynamicMap, widget_location='left_top')"
      ]
     },
     "execution_count": 18,
     "metadata": {
      "application/vnd.holoviews_exec.v0+json": {
       "id": "1309"
      }
     },
     "output_type": "execute_result"
    }
   ],
   "source": [
    "#Plotting the visualization for county wise\n",
    "rental_county_df.hvplot(\n",
    "    title='Rental Growth from 2017 to 2021',\n",
    "    x='Date',\n",
    "    y='Average_Rental_Price',\n",
    "    widget_location='left_top',\n",
    "    kind='line',\n",
    "    groupby='County_Name',\n",
    "    grid=True\n",
    ")"
   ]
  },
  {
   "cell_type": "code",
   "execution_count": 19,
   "id": "535db315-3df5-4671-9759-0bb293b3ffcb",
   "metadata": {},
   "outputs": [
    {
     "data": {
      "text/html": [
       "<div>\n",
       "<style scoped>\n",
       "    .dataframe tbody tr th:only-of-type {\n",
       "        vertical-align: middle;\n",
       "    }\n",
       "\n",
       "    .dataframe tbody tr th {\n",
       "        vertical-align: top;\n",
       "    }\n",
       "\n",
       "    .dataframe thead th {\n",
       "        text-align: right;\n",
       "    }\n",
       "</style>\n",
       "<table border=\"1\" class=\"dataframe\">\n",
       "  <thead>\n",
       "    <tr style=\"text-align: right;\">\n",
       "      <th>County_Name</th>\n",
       "      <th>King</th>\n",
       "      <th>Snohomish</th>\n",
       "      <th>Pierce</th>\n",
       "    </tr>\n",
       "    <tr>\n",
       "      <th>Date</th>\n",
       "      <th></th>\n",
       "      <th></th>\n",
       "      <th></th>\n",
       "    </tr>\n",
       "  </thead>\n",
       "  <tbody>\n",
       "    <tr>\n",
       "      <th>2017-01-01</th>\n",
       "      <td>1672.0</td>\n",
       "      <td>1448.0</td>\n",
       "      <td>1218.0</td>\n",
       "    </tr>\n",
       "    <tr>\n",
       "      <th>2017-02-01</th>\n",
       "      <td>1700.0</td>\n",
       "      <td>1454.0</td>\n",
       "      <td>1215.0</td>\n",
       "    </tr>\n",
       "    <tr>\n",
       "      <th>2017-03-01</th>\n",
       "      <td>1730.0</td>\n",
       "      <td>1485.0</td>\n",
       "      <td>1245.0</td>\n",
       "    </tr>\n",
       "    <tr>\n",
       "      <th>2017-04-01</th>\n",
       "      <td>1760.0</td>\n",
       "      <td>1509.0</td>\n",
       "      <td>1264.0</td>\n",
       "    </tr>\n",
       "    <tr>\n",
       "      <th>2017-05-01</th>\n",
       "      <td>1796.0</td>\n",
       "      <td>1541.0</td>\n",
       "      <td>1298.0</td>\n",
       "    </tr>\n",
       "  </tbody>\n",
       "</table>\n",
       "</div>"
      ],
      "text/plain": [
       "County_Name    King  Snohomish  Pierce\n",
       "Date                                  \n",
       "2017-01-01   1672.0     1448.0  1218.0\n",
       "2017-02-01   1700.0     1454.0  1215.0\n",
       "2017-03-01   1730.0     1485.0  1245.0\n",
       "2017-04-01   1760.0     1509.0  1264.0\n",
       "2017-05-01   1796.0     1541.0  1298.0"
      ]
     },
     "metadata": {},
     "output_type": "display_data"
    }
   ],
   "source": [
    "#Formatting table and slicing dataframe to only 3 counties for further analysis\n",
    "sliced_county_rental_df = pd.pivot_table(rental_county_df,values='Average_Rental_Price',\n",
    "                      index=['Date'],\n",
    "                      columns=['County_Name'])\n",
    "sliced_county_rental_df = sliced_county_rental_df[['King','Snohomish','Pierce']]\n",
    "\n",
    "#Displaying sliced dataframe\n",
    "display(sliced_county_rental_df.head())"
   ]
  },
  {
   "cell_type": "code",
   "execution_count": 20,
   "id": "6b6e2a48-a002-47b2-8a75-720a4ca14b3d",
   "metadata": {},
   "outputs": [
    {
     "data": {
      "text/plain": [
       "<AxesSubplot:title={'center':'Rental Growth from 2017 to 2021'}, xlabel='Year', ylabel='Average Rental Price'>"
      ]
     },
     "execution_count": 20,
     "metadata": {},
     "output_type": "execute_result"
    },
    {
     "data": {
      "image/png": "[encoded data removed]",
      "text/plain": [
       "<Figure size 1080x504 with 1 Axes>"
      ]
     },
     "metadata": {
      "needs_background": "light"
     },
     "output_type": "display_data"
    }
   ],
   "source": [
    "#Plotting the sliced dataframe for visualization \n",
    "sliced_county_rental_df.plot(\n",
    "    figsize=(15,7),\n",
    "    title = \"Rental Growth from 2017 to 2021\",\n",
    "    xlabel='Year',\n",
    "    ylabel='Average Rental Price'\n",
    ")"
   ]
  },
  {
   "cell_type": "markdown",
   "id": "f2458571-69bd-4b4d-a56b-f6ca64f746da",
   "metadata": {},
   "source": [
    "### City Affordability Index Analysis"
   ]
  },
  {
   "cell_type": "code",
   "execution_count": 21,
   "id": "8aae9ab8-cee7-4e85-bb28-7033540c539b",
   "metadata": {},
   "outputs": [
    {
     "data": {
      "text/html": [
       "<div>\n",
       "<style scoped>\n",
       "    .dataframe tbody tr th:only-of-type {\n",
       "        vertical-align: middle;\n",
       "    }\n",
       "\n",
       "    .dataframe tbody tr th {\n",
       "        vertical-align: top;\n",
       "    }\n",
       "\n",
       "    .dataframe thead th {\n",
       "        text-align: right;\n",
       "    }\n",
       "</style>\n",
       "<table border=\"1\" class=\"dataframe\">\n",
       "  <thead>\n",
       "    <tr style=\"text-align: right;\">\n",
       "      <th></th>\n",
       "      <th>2017</th>\n",
       "      <th>2018</th>\n",
       "      <th>2019</th>\n",
       "      <th>2020</th>\n",
       "    </tr>\n",
       "    <tr>\n",
       "      <th>Areas</th>\n",
       "      <th></th>\n",
       "      <th></th>\n",
       "      <th></th>\n",
       "      <th></th>\n",
       "    </tr>\n",
       "  </thead>\n",
       "  <tbody>\n",
       "    <tr>\n",
       "      <th>Aberdeen</th>\n",
       "      <td>193.3</td>\n",
       "      <td>141.5</td>\n",
       "      <td>143.7</td>\n",
       "      <td>157.3</td>\n",
       "    </tr>\n",
       "    <tr>\n",
       "      <th>Airway Heights</th>\n",
       "      <td>137.5</td>\n",
       "      <td>115.0</td>\n",
       "      <td>118.0</td>\n",
       "      <td>117.3</td>\n",
       "    </tr>\n",
       "    <tr>\n",
       "      <th>Anacortes</th>\n",
       "      <td>83.6</td>\n",
       "      <td>72.0</td>\n",
       "      <td>81.5</td>\n",
       "      <td>75.9</td>\n",
       "    </tr>\n",
       "    <tr>\n",
       "      <th>Arlington</th>\n",
       "      <td>113.0</td>\n",
       "      <td>102.4</td>\n",
       "      <td>112.1</td>\n",
       "      <td>107.1</td>\n",
       "    </tr>\n",
       "    <tr>\n",
       "      <th>Auburn</th>\n",
       "      <td>99.1</td>\n",
       "      <td>90.6</td>\n",
       "      <td>97.6</td>\n",
       "      <td>104.1</td>\n",
       "    </tr>\n",
       "  </tbody>\n",
       "</table>\n",
       "</div>"
      ],
      "text/plain": [
       "                 2017   2018   2019   2020\n",
       "Areas                                     \n",
       "Aberdeen        193.3  141.5  143.7  157.3\n",
       "Airway Heights  137.5  115.0  118.0  117.3\n",
       "Anacortes        83.6   72.0   81.5   75.9\n",
       "Arlington       113.0  102.4  112.1  107.1\n",
       "Auburn           99.1   90.6   97.6  104.1"
      ]
     },
     "execution_count": 21,
     "metadata": {},
     "output_type": "execute_result"
    }
   ],
   "source": [
    "#Reading the csv file into dataframe\n",
    "city_affordability_indices = pd.read_csv(\n",
    "    Path(\"Resources/CityAffordabilityIndices.csv\"),\n",
    "    index_col='Areas',\n",
    ")\n",
    "\n",
    "#Displaying the dataframe\n",
    "city_affordability_indices.head()"
   ]
  },
  {
   "cell_type": "code",
   "execution_count": 26,
   "id": "948d40ba-4d5e-4c05-9cd0-1e4ffe0c2dd1",
   "metadata": {},
   "outputs": [
    {
     "data": {},
     "metadata": {},
     "output_type": "display_data"
    },
    {
     "data": {
      "application/vnd.holoviews_exec.v0+json": "",
      "text/html": [
       "<div id='2077'>\n",
       "\n",
       "\n",
       "\n",
       "\n",
       "\n",
       "  <div class=\"bk-root\" id=\"e3f60001-a245-48cb-bad8-6ddb8047b1ce\" data-root-id=\"2077\"></div>\n",
       "</div>\n",
       "<script type=\"application/javascript\">(function(root) {\n",
       "  function embed_document(root) {\n",
       "    var docs_json = {\"ba2c0f2c-75cb-43ab-991f-b63f1dd9b111\":{\"defs\":[{\"extends\":null,\"module\":null,\"name\":\"ReactiveHTML1\",\"overrides\":[],\"properties\":[]},{\"extends\":null,\"module\":null,\"name\":\"FlexBox1\",\"overrides\":[],\"properties\":[{\"default\":\"flex-start\",\"kind\":null,\"name\":\"align_content\"},{\"default\":\"flex-start\",\"kind\":null,\"name\":\"align_items\"},{\"default\":\"row\",\"kind\":null,\"name\":\"flex_direction\"},{\"default\":\"wrap\",\"kind\":null,\"name\":\"flex_wrap\"},{\"default\":\"flex-start\",\"kind\":null,\"name\":\"justify_content\"}]},{\"extends\":null,\"module\":null,\"name\":\"TemplateActions1\",\"overrides\":[],\"properties\":[{\"default\":0,\"kind\":null,\"name\":\"open_modal\"},{\"default\":0,\"kind\":null,\"name\":\"close_modal\"}]},{\"extends\":null,\"module\":null,\"name\":\"MaterialTemplateActions1\",\"overrides\":[],\"properties\":[{\"default\":0,\"kind\":null,\"name\":\"open_modal\"},{\"default\":0,\"kind\":null,\"name\":\"close_modal\"}]}],\"roots\":{\"references\":[{\"attributes\":{},\"id\":\"2133\",\"type\":\"UnionRenderers\"},{\"attributes\":{},\"id\":\"2089\",\"type\":\"LinearScale\"},{\"attributes\":{\"data\":{\"A_2020\":{\"__ndarray__\":\"mpmZmZmpY0AzMzMzM1NdQJqZmZmZ+VJAZmZmZmbGWkBmZmZmZgZaQJqZmZmZWVRAMzMzMzNzXkDNzMzMzKxSQM3MzMzM7FNAAAAAAAAAYEDNzMzMzMxXQDMzMzMz81ZAAAAAAACAVUAzMzMzM9NSQM3MzMzMbGFAAAAAAACAV0AzMzMzM3NcQJqZmZmZSWFAMzMzMzPTWEDNzMzMzAxiQJqZmZmZOVVAZmZmZmYGW0BmZmZmZuZUQGZmZmZmplFAAAAAAACAVUBmZmZmZgZUQGZmZmZmJllAMzMzMzNTW0BmZmZmZuZYQM3MzMzM7FVAAAAAAAAgYUAzMzMzM9NWQDMzMzMzk1VAmpmZmZm5WEAAAAAAAIBdQJqZmZmZGVlAZmZmZmZmVUDNzMzMzMxcQJqZmZmZuVxAMzMzMzNzXEBmZmZmZsZWQGZmZmZmhl1AzczMzMyMV0BmZmZmZgZbQJqZmZmZOVJAZmZmZmaGX0CamZmZmflcQM3MzMzMTE5AAAAAAADgWUBmZmZmZsZbQGZmZmZmJl5AZmZmZmamVUDNzMzMzCxWQAAAAAAA4FpAMzMzMzPTVkDNzMzMzExXQJqZmZmZeVlAMzMzMzNTX0AzMzMzMxNYQM3MzMzMDFxAZmZmZmbGUUAAAAAAAGBYQM3MzMzMDFBAZmZmZmYmXEBmZmZmZiZYQJqZmZmZOVdAmpmZmZlJYUCamZmZmflZQGZmZmZmZldAzczMzMzsVEDNzMzMzCxYQM3MzMzMbFVAzczMzMxMVkCamZmZmZlRQM3MzMzMrF5AMzMzMzNzW0DNzMzMzGxZQGZmZmZmRldAAAAAAACAXEAzMzMzM1NbQGZmZmZmJlZAzczMzMwsXkBmZmZmZiZXQAAAAAAA4FpAZmZmZmamWUAAAAAAAPBgQAAAAAAAgFdAzczMzMwMZUAAAAAAAGBTQJqZmZmZ+VpAZmZmZmb2YUA=\",\"dtype\":\"float64\",\"order\":\"little\",\"shape\":[91]},\"Areas\":[\"Aberdeen\",\"Airway Heights\",\"Anacortes\",\"Arlington\",\"Auburn\",\"Bainbridge Island\",\"Battle Ground\",\"Bellevue\",\"Bellingham\",\"Bonney Lake\",\"Bothell\",\"Bremerton\",\"Burien\",\"Burlington\",\"Camas\",\"Centralia\",\"Cheney\",\"Covington\",\"Des Moines\",\"DuPont\",\"East Wenatchee\",\"Edgewood\",\"Edmonds\",\"Ellensburg\",\"Enumclaw\",\"Everett\",\"Federal Way\",\"Ferndale\",\"Fife\",\"Gig Harbor\",\"Grandview\",\"Issaquah\",\"Kelso\",\"Kenmore\",\"Kennewick\",\"Kent\",\"Kirkland\",\"Lacey\",\"Lake Forest Park\",\"Lake Stevens\",\"Lakewood\",\"Liberty Lake\",\"Longview\",\"Lynden\",\"Lynnwood\",\"Maple Valley\",\"Marysville\",\"Mercer Island\",\"Mill Creek\",\"Monroe\",\"Moses Lake\",\"Mount Vernon\",\"Mountlake Terrace\",\"Mukilteo\",\"Newcastle\",\"Oak Harbor\",\"Olympia\",\"Pasco\",\"Port Angeles\",\"Port Orchard\",\"Port Townsend\",\"Poulsbo\",\"Pullman\",\"Puyallup\",\"Redmond\",\"Renton\",\"Richland\",\"Sammamish\",\"SeaTac\",\"Seattle\",\"Sedro Woolley\",\"Shelton\",\"Shoreline\",\"Snohomish\",\"Snoqualmie\",\"Spokane\",\"Spokane Valley\",\"Sumner\",\"Sunnyside\",\"Tacoma\",\"Tukwila\",\"Tumwater\",\"University Place\",\"Vancouver\",\"Walla Walla\",\"Washougal\",\"Wenatchee\",\"West Richland\",\"Woodinville\",\"Yakima\",\"Yelm\"]},\"selected\":{\"id\":\"2112\"},\"selection_policy\":{\"id\":\"2133\"}},\"id\":\"2111\",\"type\":\"ColumnDataSource\"},{\"attributes\":{},\"id\":\"2125\",\"type\":\"AllLabels\"},{\"attributes\":{\"bottom_units\":\"screen\",\"coordinates\":null,\"fill_alpha\":0.5,\"fill_color\":\"lightgrey\",\"group\":null,\"left_units\":\"screen\",\"level\":\"overlay\",\"line_alpha\":1.0,\"line_color\":\"black\",\"line_dash\":[4,4],\"line_width\":2,\"right_units\":\"screen\",\"syncable\":false,\"top_units\":\"screen\"},\"id\":\"2103\",\"type\":\"BoxAnnotation\"},{\"attributes\":{\"tools\":[{\"id\":\"2081\"},{\"id\":\"2098\"},{\"id\":\"2099\"},{\"id\":\"2100\"},{\"id\":\"2101\"},{\"id\":\"2102\"}]},\"id\":\"2104\",\"type\":\"Toolbar\"},{\"attributes\":{},\"id\":\"2099\",\"type\":\"PanTool\"},{\"attributes\":{\"margin\":[5,5,5,5],\"name\":\"HSpacer02733\",\"sizing_mode\":\"stretch_width\"},\"id\":\"2078\",\"type\":\"Spacer\"},{\"attributes\":{},\"id\":\"2100\",\"type\":\"WheelZoomTool\"},{\"attributes\":{\"bottom\":{\"value\":0},\"fill_alpha\":{\"value\":1.0},\"fill_color\":{\"value\":\"brown\"},\"hatch_alpha\":{\"value\":1.0},\"hatch_color\":{\"value\":\"brown\"},\"hatch_scale\":{\"value\":12.0},\"hatch_weight\":{\"value\":1.0},\"line_alpha\":{\"value\":1.0},\"line_cap\":{\"value\":\"butt\"},\"line_color\":{\"value\":\"black\"},\"line_dash\":{\"value\":[]},\"line_dash_offset\":{\"value\":0},\"line_join\":{\"value\":\"bevel\"},\"line_width\":{\"value\":1},\"top\":{\"field\":\"A_2020\"},\"width\":{\"value\":0.8},\"x\":{\"field\":\"Areas\"}},\"id\":\"2119\",\"type\":\"VBar\"},{\"attributes\":{\"coordinates\":null,\"group\":null,\"text\":\"City Affordability Index - 2017\",\"text_color\":\"black\",\"text_font_size\":\"12pt\"},\"id\":\"2083\",\"type\":\"Title\"},{\"attributes\":{\"below\":[{\"id\":\"2091\"}],\"center\":[{\"id\":\"2093\"},{\"id\":\"2097\"}],\"height\":700,\"left\":[{\"id\":\"2094\"}],\"margin\":[5,5,5,5],\"min_border_bottom\":10,\"min_border_left\":10,\"min_border_right\":10,\"min_border_top\":10,\"renderers\":[{\"id\":\"2117\"}],\"sizing_mode\":\"fixed\",\"title\":{\"id\":\"2083\"},\"toolbar\":{\"id\":\"2104\"},\"width\":1200,\"x_range\":{\"id\":\"2079\"},\"x_scale\":{\"id\":\"2087\"},\"y_range\":{\"id\":\"2080\"},\"y_scale\":{\"id\":\"2089\"}},\"id\":\"2082\",\"subtype\":\"Figure\",\"type\":\"Plot\"},{\"attributes\":{\"overlay\":{\"id\":\"2103\"}},\"id\":\"2101\",\"type\":\"BoxZoomTool\"},{\"attributes\":{\"axis_label\":\"Cities\",\"coordinates\":null,\"formatter\":{\"id\":\"2121\"},\"group\":null,\"major_label_orientation\":0.7853981633974483,\"major_label_policy\":{\"id\":\"2122\"},\"ticker\":{\"id\":\"2092\"}},\"id\":\"2091\",\"type\":\"CategoricalAxis\"},{\"attributes\":{\"fill_color\":{\"value\":\"brown\"},\"hatch_color\":{\"value\":\"brown\"},\"top\":{\"field\":\"A_2020\"},\"width\":{\"value\":0.8},\"x\":{\"field\":\"Areas\"}},\"id\":\"2114\",\"type\":\"VBar\"},{\"attributes\":{},\"id\":\"2102\",\"type\":\"ResetTool\"},{\"attributes\":{},\"id\":\"2121\",\"type\":\"CategoricalTickFormatter\"},{\"attributes\":{\"factors\":[\"Aberdeen\",\"Airway Heights\",\"Anacortes\",\"Arlington\",\"Auburn\",\"Bainbridge Island\",\"Battle Ground\",\"Bellevue\",\"Bellingham\",\"Bonney Lake\",\"Bothell\",\"Bremerton\",\"Burien\",\"Burlington\",\"Camas\",\"Centralia\",\"Cheney\",\"Covington\",\"Des Moines\",\"DuPont\",\"East Wenatchee\",\"Edgewood\",\"Edmonds\",\"Ellensburg\",\"Enumclaw\",\"Everett\",\"Federal Way\",\"Ferndale\",\"Fife\",\"Gig Harbor\",\"Grandview\",\"Issaquah\",\"Kelso\",\"Kenmore\",\"Kennewick\",\"Kent\",\"Kirkland\",\"Lacey\",\"Lake Forest Park\",\"Lake Stevens\",\"Lakewood\",\"Liberty Lake\",\"Longview\",\"Lynden\",\"Lynnwood\",\"Maple Valley\",\"Marysville\",\"Mercer Island\",\"Mill Creek\",\"Monroe\",\"Moses Lake\",\"Mount Vernon\",\"Mountlake Terrace\",\"Mukilteo\",\"Newcastle\",\"Oak Harbor\",\"Olympia\",\"Pasco\",\"Port Angeles\",\"Port Orchard\",\"Port Townsend\",\"Poulsbo\",\"Pullman\",\"Puyallup\",\"Redmond\",\"Renton\",\"Richland\",\"Sammamish\",\"SeaTac\",\"Seattle\",\"Sedro Woolley\",\"Shelton\",\"Shoreline\",\"Snohomish\",\"Snoqualmie\",\"Spokane\",\"Spokane Valley\",\"Sumner\",\"Sunnyside\",\"Tacoma\",\"Tukwila\",\"Tumwater\",\"University Place\",\"Vancouver\",\"Walla Walla\",\"Washougal\",\"Wenatchee\",\"West Richland\",\"Woodinville\",\"Yakima\",\"Yelm\"],\"tags\":[[[\"Areas\",\"Areas\",null]]]},\"id\":\"2079\",\"type\":\"FactorRange\"},{\"attributes\":{\"fill_alpha\":{\"value\":0.2},\"fill_color\":{\"value\":\"brown\"},\"hatch_alpha\":{\"value\":0.2},\"hatch_color\":{\"value\":\"brown\"},\"line_alpha\":{\"value\":0.2},\"top\":{\"field\":\"A_2020\"},\"width\":{\"value\":0.8},\"x\":{\"field\":\"Areas\"}},\"id\":\"2116\",\"type\":\"VBar\"},{\"attributes\":{},\"id\":\"2092\",\"type\":\"CategoricalTicker\"},{\"attributes\":{\"fill_alpha\":{\"value\":0.1},\"fill_color\":{\"value\":\"brown\"},\"hatch_alpha\":{\"value\":0.1},\"hatch_color\":{\"value\":\"brown\"},\"line_alpha\":{\"value\":0.1},\"top\":{\"field\":\"A_2020\"},\"width\":{\"value\":0.8},\"x\":{\"field\":\"Areas\"}},\"id\":\"2115\",\"type\":\"VBar\"},{\"attributes\":{},\"id\":\"2124\",\"type\":\"BasicTickFormatter\"},{\"attributes\":{},\"id\":\"2087\",\"type\":\"CategoricalScale\"},{\"attributes\":{},\"id\":\"2098\",\"type\":\"SaveTool\"},{\"attributes\":{\"callback\":null,\"renderers\":[{\"id\":\"2117\"}],\"tags\":[\"hv_created\"],\"tooltips\":[[\"Areas\",\"@{Areas}\"],[\"2020\",\"@{A_2020}\"]]},\"id\":\"2081\",\"type\":\"HoverTool\"},{\"attributes\":{},\"id\":\"2095\",\"type\":\"BasicTicker\"},{\"attributes\":{\"source\":{\"id\":\"2111\"}},\"id\":\"2118\",\"type\":\"CDSView\"},{\"attributes\":{\"margin\":[5,5,5,5],\"name\":\"HSpacer02734\",\"sizing_mode\":\"stretch_width\"},\"id\":\"2146\",\"type\":\"Spacer\"},{\"attributes\":{\"axis_label\":\"Index\",\"coordinates\":null,\"formatter\":{\"id\":\"2124\"},\"group\":null,\"major_label_policy\":{\"id\":\"2125\"},\"ticker\":{\"id\":\"2095\"}},\"id\":\"2094\",\"type\":\"LinearAxis\"},{\"attributes\":{},\"id\":\"2122\",\"type\":\"AllLabels\"},{\"attributes\":{\"children\":[{\"id\":\"2078\"},{\"id\":\"2082\"},{\"id\":\"2146\"}],\"margin\":[0,0,0,0],\"name\":\"Row02729\",\"tags\":[\"embedded\"]},\"id\":\"2077\",\"type\":\"Row\"},{\"attributes\":{\"end\":179.18,\"reset_end\":179.18,\"reset_start\":0.0,\"tags\":[[[\"2020\",\"2020\",null]]]},\"id\":\"2080\",\"type\":\"Range1d\"},{\"attributes\":{\"coordinates\":null,\"data_source\":{\"id\":\"2111\"},\"glyph\":{\"id\":\"2114\"},\"group\":null,\"hover_glyph\":null,\"muted_glyph\":{\"id\":\"2116\"},\"nonselection_glyph\":{\"id\":\"2115\"},\"selection_glyph\":{\"id\":\"2119\"},\"view\":{\"id\":\"2118\"}},\"id\":\"2117\",\"type\":\"GlyphRenderer\"},{\"attributes\":{\"axis\":{\"id\":\"2094\"},\"coordinates\":null,\"dimension\":1,\"grid_line_color\":null,\"group\":null,\"ticker\":null},\"id\":\"2097\",\"type\":\"Grid\"},{\"attributes\":{},\"id\":\"2112\",\"type\":\"Selection\"},{\"attributes\":{\"axis\":{\"id\":\"2091\"},\"coordinates\":null,\"grid_line_color\":null,\"group\":null,\"ticker\":null},\"id\":\"2093\",\"type\":\"Grid\"}],\"root_ids\":[\"2077\"]},\"title\":\"Bokeh Application\",\"version\":\"2.4.1\"}};\n",
       "    var render_items = [{\"docid\":\"ba2c0f2c-75cb-43ab-991f-b63f1dd9b111\",\"root_ids\":[\"2077\"],\"roots\":{\"2077\":\"e3f60001-a245-48cb-bad8-6ddb8047b1ce\"}}];\n",
       "    root.Bokeh.embed.embed_items_notebook(docs_json, render_items);\n",
       "  }\n",
       "  if (root.Bokeh !== undefined && root.Bokeh.Panel !== undefined) {\n",
       "    embed_document(root);\n",
       "  } else {\n",
       "    var attempts = 0;\n",
       "    var timer = setInterval(function(root) {\n",
       "      if (root.Bokeh !== undefined && root.Bokeh.Panel !== undefined) {\n",
       "        clearInterval(timer);\n",
       "        embed_document(root);\n",
       "      } else if (document.readyState == \"complete\") {\n",
       "        attempts++;\n",
       "        if (attempts > 200) {\n",
       "          clearInterval(timer);\n",
       "          console.log(\"Bokeh: ERROR: Unable to run BokehJS code because BokehJS library is missing\");\n",
       "        }\n",
       "      }\n",
       "    }, 25, root)\n",
       "  }\n",
       "})(window);</script>"
      ],
      "text/plain": [
       ":Bars   [Areas]   (2020)"
      ]
     },
     "execution_count": 26,
     "metadata": {
      "application/vnd.holoviews_exec.v0+json": {
       "id": "2077"
      }
     },
     "output_type": "execute_result"
    }
   ],
   "source": [
    "#Plotting the whole dataframe only for 2017 for analysis\n",
    "city_affordability_indices['2020'].hvplot.bar(\n",
    "    legend=True,\n",
    "    width=1200,\n",
    "    height=700,\n",
    "    title='City Affordability Index - 2017',\n",
    "    color=\"brown\",\n",
    "    ylabel= \"Index\",\n",
    "    xlabel= \"Cities\",\n",
    "    rot=45\n",
    ")"
   ]
  },
  {
   "cell_type": "code",
   "execution_count": 27,
   "id": "cb3e7563-e14d-4810-b130-9a7352a501c6",
   "metadata": {},
   "outputs": [
    {
     "data": {
      "text/html": [
       "<div>\n",
       "<style scoped>\n",
       "    .dataframe tbody tr th:only-of-type {\n",
       "        vertical-align: middle;\n",
       "    }\n",
       "\n",
       "    .dataframe tbody tr th {\n",
       "        vertical-align: top;\n",
       "    }\n",
       "\n",
       "    .dataframe thead th {\n",
       "        text-align: right;\n",
       "    }\n",
       "</style>\n",
       "<table border=\"1\" class=\"dataframe\">\n",
       "  <thead>\n",
       "    <tr style=\"text-align: right;\">\n",
       "      <th></th>\n",
       "      <th>2017</th>\n",
       "      <th>2018</th>\n",
       "      <th>2019</th>\n",
       "      <th>2020</th>\n",
       "    </tr>\n",
       "    <tr>\n",
       "      <th>Areas</th>\n",
       "      <th></th>\n",
       "      <th></th>\n",
       "      <th></th>\n",
       "      <th></th>\n",
       "    </tr>\n",
       "  </thead>\n",
       "  <tbody>\n",
       "    <tr>\n",
       "      <th>Bellevue</th>\n",
       "      <td>66.9</td>\n",
       "      <td>63.8</td>\n",
       "      <td>73.5</td>\n",
       "      <td>74.7</td>\n",
       "    </tr>\n",
       "    <tr>\n",
       "      <th>Bothell</th>\n",
       "      <td>81.9</td>\n",
       "      <td>73.2</td>\n",
       "      <td>86.4</td>\n",
       "      <td>95.2</td>\n",
       "    </tr>\n",
       "    <tr>\n",
       "      <th>Everett</th>\n",
       "      <td>85.1</td>\n",
       "      <td>75.0</td>\n",
       "      <td>82.2</td>\n",
       "      <td>80.1</td>\n",
       "    </tr>\n",
       "    <tr>\n",
       "      <th>Issaquah</th>\n",
       "      <td>82.6</td>\n",
       "      <td>69.2</td>\n",
       "      <td>87.3</td>\n",
       "      <td>91.3</td>\n",
       "    </tr>\n",
       "    <tr>\n",
       "      <th>Kirkland</th>\n",
       "      <td>82.0</td>\n",
       "      <td>68.8</td>\n",
       "      <td>83.7</td>\n",
       "      <td>85.6</td>\n",
       "    </tr>\n",
       "  </tbody>\n",
       "</table>\n",
       "</div>"
      ],
      "text/plain": [
       "          2017  2018  2019  2020\n",
       "Areas                           \n",
       "Bellevue  66.9  63.8  73.5  74.7\n",
       "Bothell   81.9  73.2  86.4  95.2\n",
       "Everett   85.1  75.0  82.2  80.1\n",
       "Issaquah  82.6  69.2  87.3  91.3\n",
       "Kirkland  82.0  68.8  83.7  85.6"
      ]
     },
     "execution_count": 27,
     "metadata": {},
     "output_type": "execute_result"
    }
   ],
   "source": [
    "city_index=city_affordability_indices.reset_index()\n",
    "cities = ['Seattle','Bellevue','Bothell','Everett','Kirkland','Issaquah','Snoqualmie','Yakima','Lake Stevens']  \n",
    "city_index = city_index[city_index.Areas.isin(cities)].set_index('Areas')\n",
    "city_index.head()"
   ]
  },
  {
   "cell_type": "code",
   "execution_count": 28,
   "id": "26c36241-53c4-44de-9379-cfd3f587b7ba",
   "metadata": {},
   "outputs": [
    {
     "data": {},
     "metadata": {},
     "output_type": "display_data"
    },
    {
     "data": {
      "application/vnd.holoviews_exec.v0+json": "",
      "text/html": [
       "<div id='2198'>\n",
       "\n",
       "\n",
       "\n",
       "\n",
       "\n",
       "  <div class=\"bk-root\" id=\"596dc11f-617a-4d55-b049-b086d9f80313\" data-root-id=\"2198\"></div>\n",
       "</div>\n",
       "<script type=\"application/javascript\">(function(root) {\n",
       "  function embed_document(root) {\n",
       "    var docs_json = {\"869e37d4-6813-46ba-9f39-dea7dafcb756\":{\"defs\":[{\"extends\":null,\"module\":null,\"name\":\"ReactiveHTML1\",\"overrides\":[],\"properties\":[]},{\"extends\":null,\"module\":null,\"name\":\"FlexBox1\",\"overrides\":[],\"properties\":[{\"default\":\"flex-start\",\"kind\":null,\"name\":\"align_content\"},{\"default\":\"flex-start\",\"kind\":null,\"name\":\"align_items\"},{\"default\":\"row\",\"kind\":null,\"name\":\"flex_direction\"},{\"default\":\"wrap\",\"kind\":null,\"name\":\"flex_wrap\"},{\"default\":\"flex-start\",\"kind\":null,\"name\":\"justify_content\"}]},{\"extends\":null,\"module\":null,\"name\":\"TemplateActions1\",\"overrides\":[],\"properties\":[{\"default\":0,\"kind\":null,\"name\":\"open_modal\"},{\"default\":0,\"kind\":null,\"name\":\"close_modal\"}]},{\"extends\":null,\"module\":null,\"name\":\"MaterialTemplateActions1\",\"overrides\":[],\"properties\":[{\"default\":0,\"kind\":null,\"name\":\"open_modal\"},{\"default\":0,\"kind\":null,\"name\":\"close_modal\"}]}],\"roots\":{\"references\":[{\"attributes\":{\"data\":{\"A_2017\":{\"__ndarray__\":\"mpmZmZm5UECamZmZmXlUQGZmZmZmRlVAZmZmZmamVEAAAAAAAIBUQGZmZmZmpl1AmpmZmZm5UEBmZmZmZmZbQGZmZmZmxltA\",\"dtype\":\"float64\",\"order\":\"little\",\"shape\":[9]},\"Areas\":[\"Bellevue\",\"Bothell\",\"Everett\",\"Issaquah\",\"Kirkland\",\"Lake Stevens\",\"Seattle\",\"Snoqualmie\",\"Yakima\"]},\"selected\":{\"id\":\"2233\"},\"selection_policy\":{\"id\":\"2395\"}},\"id\":\"2232\",\"type\":\"ColumnDataSource\"},{\"attributes\":{\"margin\":[5,5,5,5],\"name\":\"HSpacer03284\",\"sizing_mode\":\"stretch_width\"},\"id\":\"2199\",\"type\":\"Spacer\"},{\"attributes\":{\"overlay\":{\"id\":\"2318\"}},\"id\":\"2316\",\"type\":\"BoxZoomTool\"},{\"attributes\":{},\"id\":\"2280\",\"type\":\"Selection\"},{\"attributes\":{\"end\":122.67,\"reset_end\":122.67,\"reset_start\":0.0,\"tags\":[[[\"2019\",\"2019\",null]]]},\"id\":\"2294\",\"type\":\"Range1d\"},{\"attributes\":{\"below\":[{\"id\":\"2306\"}],\"center\":[{\"id\":\"2309\"},{\"id\":\"2312\"}],\"height\":300,\"left\":[{\"id\":\"2310\"}],\"margin\":null,\"min_border_bottom\":10,\"min_border_left\":10,\"min_border_right\":10,\"min_border_top\":10,\"renderers\":[{\"id\":\"2332\"}],\"sizing_mode\":\"fixed\",\"title\":{\"id\":\"2298\"},\"toolbar\":{\"id\":\"2319\"},\"toolbar_location\":null,\"width\":300,\"x_range\":{\"id\":\"2294\"},\"x_scale\":{\"id\":\"2302\"},\"y_range\":{\"id\":\"2201\"},\"y_scale\":{\"id\":\"2304\"}},\"id\":\"2297\",\"subtype\":\"Figure\",\"type\":\"Plot\"},{\"attributes\":{},\"id\":\"2292\",\"type\":\"CategoricalTickFormatter\"},{\"attributes\":{\"fill_alpha\":{\"value\":1.0},\"fill_color\":{\"value\":\"Pink\"},\"hatch_alpha\":{\"value\":1.0},\"hatch_color\":{\"value\":\"Pink\"},\"hatch_scale\":{\"value\":12.0},\"hatch_weight\":{\"value\":1.0},\"height\":{\"value\":0.8},\"left\":{\"value\":0},\"line_alpha\":{\"value\":1.0},\"line_cap\":{\"value\":\"butt\"},\"line_color\":{\"value\":\"black\"},\"line_dash\":{\"value\":[]},\"line_dash_offset\":{\"value\":0},\"line_join\":{\"value\":\"bevel\"},\"line_width\":{\"value\":1},\"right\":{\"field\":\"A_2018\"},\"y\":{\"field\":\"Areas\"}},\"id\":\"2287\",\"type\":\"HBar\"},{\"attributes\":{},\"id\":\"2315\",\"type\":\"WheelZoomTool\"},{\"attributes\":{\"fill_color\":{\"value\":\"Yellow\"},\"hatch_color\":{\"value\":\"Yellow\"},\"height\":{\"value\":0.8},\"right\":{\"field\":\"A_2019\"},\"y\":{\"field\":\"Areas\"}},\"id\":\"2329\",\"type\":\"HBar\"},{\"attributes\":{},\"id\":\"2304\",\"type\":\"CategoricalScale\"},{\"attributes\":{\"data\":{\"A_2019\":{\"__ndarray__\":\"AAAAAABgUkCamZmZmZlVQM3MzMzMjFRAMzMzMzPTVUDNzMzMzOxUQAAAAAAAgFxAMzMzMzOTUkDNzMzMzIxdQJqZmZmZ2VhA\",\"dtype\":\"float64\",\"order\":\"little\",\"shape\":[9]},\"Areas\":[\"Bellevue\",\"Bothell\",\"Everett\",\"Issaquah\",\"Kirkland\",\"Lake Stevens\",\"Seattle\",\"Snoqualmie\",\"Yakima\"]},\"selected\":{\"id\":\"2327\"},\"selection_policy\":{\"id\":\"2417\"}},\"id\":\"2326\",\"type\":\"ColumnDataSource\"},{\"attributes\":{\"callback\":null,\"renderers\":[{\"id\":\"2332\"}],\"tags\":[\"hv_created\"],\"tooltips\":[[\"Areas\",\"@{Areas}\"],[\"2019\",\"@{A_2019}\"]]},\"id\":\"2296\",\"type\":\"HoverTool\"},{\"attributes\":{},\"id\":\"2290\",\"type\":\"AllLabels\"},{\"attributes\":{\"coordinates\":null,\"group\":null,\"text\":\"City Affordability Index\",\"text_color\":\"black\",\"text_font_size\":\"12pt\"},\"id\":\"2298\",\"type\":\"Title\"},{\"attributes\":{\"children\":[{\"id\":\"2199\"},{\"id\":\"2435\"},{\"id\":\"2796\"}],\"margin\":[0,0,0,0],\"name\":\"Row03280\",\"tags\":[\"embedded\"]},\"id\":\"2198\",\"type\":\"Row\"},{\"attributes\":{},\"id\":\"2293\",\"type\":\"AllLabels\"},{\"attributes\":{},\"id\":\"2289\",\"type\":\"BasicTickFormatter\"},{\"attributes\":{\"children\":[[{\"id\":\"2203\"},0,0],[{\"id\":\"2250\"},0,1],[{\"id\":\"2297\"},0,2],[{\"id\":\"2344\"},0,3]]},\"id\":\"2432\",\"type\":\"GridBox\"},{\"attributes\":{},\"id\":\"2327\",\"type\":\"Selection\"},{\"attributes\":{},\"id\":\"2384\",\"type\":\"AllLabels\"},{\"attributes\":{\"below\":[{\"id\":\"2259\"}],\"center\":[{\"id\":\"2262\"},{\"id\":\"2265\"}],\"height\":300,\"left\":[{\"id\":\"2263\"}],\"margin\":null,\"min_border_bottom\":10,\"min_border_left\":10,\"min_border_right\":10,\"min_border_top\":10,\"renderers\":[{\"id\":\"2285\"}],\"sizing_mode\":\"fixed\",\"title\":{\"id\":\"2251\"},\"toolbar\":{\"id\":\"2272\"},\"toolbar_location\":null,\"width\":300,\"x_range\":{\"id\":\"2247\"},\"x_scale\":{\"id\":\"2255\"},\"y_range\":{\"id\":\"2201\"},\"y_scale\":{\"id\":\"2257\"}},\"id\":\"2250\",\"subtype\":\"Figure\",\"type\":\"Plot\"},{\"attributes\":{},\"id\":\"2417\",\"type\":\"UnionRenderers\"},{\"attributes\":{},\"id\":\"2208\",\"type\":\"LinearScale\"},{\"attributes\":{},\"id\":\"2428\",\"type\":\"UnionRenderers\"},{\"attributes\":{},\"id\":\"2213\",\"type\":\"BasicTicker\"},{\"attributes\":{},\"id\":\"2339\",\"type\":\"CategoricalTickFormatter\"},{\"attributes\":{\"fill_color\":{\"value\":\"Turquoise\"},\"hatch_color\":{\"value\":\"Turquoise\"},\"height\":{\"value\":0.8},\"right\":{\"field\":\"A_2020\"},\"y\":{\"field\":\"Areas\"}},\"id\":\"2376\",\"type\":\"HBar\"},{\"attributes\":{\"fill_color\":{\"value\":\"Pink\"},\"hatch_color\":{\"value\":\"Pink\"},\"height\":{\"value\":0.8},\"right\":{\"field\":\"A_2018\"},\"y\":{\"field\":\"Areas\"}},\"id\":\"2282\",\"type\":\"HBar\"},{\"attributes\":{\"callback\":null,\"renderers\":[{\"id\":\"2285\"}],\"tags\":[\"hv_created\"],\"tooltips\":[[\"Areas\",\"@{Areas}\"],[\"2018\",\"@{A_2018}\"]]},\"id\":\"2249\",\"type\":\"HoverTool\"},{\"attributes\":{\"callback\":null,\"renderers\":[{\"id\":\"2379\"}],\"tags\":[\"hv_created\"],\"tooltips\":[[\"Areas\",\"@{Areas}\"],[\"2020\",\"@{A_2020}\"]]},\"id\":\"2343\",\"type\":\"HoverTool\"},{\"attributes\":{\"toolbars\":[{\"id\":\"2225\"},{\"id\":\"2272\"},{\"id\":\"2319\"},{\"id\":\"2366\"}],\"tools\":[{\"id\":\"2202\"},{\"id\":\"2219\"},{\"id\":\"2220\"},{\"id\":\"2221\"},{\"id\":\"2222\"},{\"id\":\"2223\"},{\"id\":\"2249\"},{\"id\":\"2266\"},{\"id\":\"2267\"},{\"id\":\"2268\"},{\"id\":\"2269\"},{\"id\":\"2270\"},{\"id\":\"2296\"},{\"id\":\"2313\"},{\"id\":\"2314\"},{\"id\":\"2315\"},{\"id\":\"2316\"},{\"id\":\"2317\"},{\"id\":\"2343\"},{\"id\":\"2360\"},{\"id\":\"2361\"},{\"id\":\"2362\"},{\"id\":\"2363\"},{\"id\":\"2364\"}]},\"id\":\"2433\",\"type\":\"ProxyToolbar\"},{\"attributes\":{\"end\":113.06,\"reset_end\":113.06,\"reset_start\":0.0,\"tags\":[[[\"2018\",\"2018\",null]]]},\"id\":\"2247\",\"type\":\"Range1d\"},{\"attributes\":{},\"id\":\"2217\",\"type\":\"CategoricalTicker\"},{\"attributes\":{},\"id\":\"2337\",\"type\":\"AllLabels\"},{\"attributes\":{},\"id\":\"2317\",\"type\":\"ResetTool\"},{\"attributes\":{\"axis\":{\"id\":\"2216\"},\"coordinates\":null,\"dimension\":1,\"grid_line_color\":null,\"group\":null,\"ticker\":null},\"id\":\"2218\",\"type\":\"Grid\"},{\"attributes\":{\"axis_label\":\"2019\",\"coordinates\":null,\"formatter\":{\"id\":\"2336\"},\"group\":null,\"major_label_policy\":{\"id\":\"2337\"},\"ticker\":{\"id\":\"2307\"}},\"id\":\"2306\",\"type\":\"LinearAxis\"},{\"attributes\":{\"data\":{\"A_2018\":{\"__ndarray__\":\"ZmZmZmbmT0DNzMzMzExSQAAAAAAAwFJAzczMzMxMUUAzMzMzMzNRQJqZmZmZGVtAZmZmZmbmTkAzMzMzM/NZQDMzMzMz01hA\",\"dtype\":\"float64\",\"order\":\"little\",\"shape\":[9]},\"Areas\":[\"Bellevue\",\"Bothell\",\"Everett\",\"Issaquah\",\"Kirkland\",\"Lake Stevens\",\"Seattle\",\"Snoqualmie\",\"Yakima\"]},\"selected\":{\"id\":\"2280\"},\"selection_policy\":{\"id\":\"2406\"}},\"id\":\"2279\",\"type\":\"ColumnDataSource\"},{\"attributes\":{\"fill_alpha\":{\"value\":0.2},\"fill_color\":{\"value\":\"Turquoise\"},\"hatch_alpha\":{\"value\":0.2},\"hatch_color\":{\"value\":\"Turquoise\"},\"height\":{\"value\":0.8},\"line_alpha\":{\"value\":0.2},\"right\":{\"field\":\"A_2020\"},\"y\":{\"field\":\"Areas\"}},\"id\":\"2378\",\"type\":\"HBar\"},{\"attributes\":{\"axis_label\":\"\",\"coordinates\":null,\"formatter\":{\"id\":\"2339\"},\"group\":null,\"major_label_policy\":{\"id\":\"2340\"},\"ticker\":{\"id\":\"2311\"}},\"id\":\"2310\",\"type\":\"CategoricalAxis\"},{\"attributes\":{\"bottom_units\":\"screen\",\"coordinates\":null,\"fill_alpha\":0.5,\"fill_color\":\"lightgrey\",\"group\":null,\"left_units\":\"screen\",\"level\":\"overlay\",\"line_alpha\":1.0,\"line_color\":\"black\",\"line_dash\":[4,4],\"line_width\":2,\"right_units\":\"screen\",\"syncable\":false,\"top_units\":\"screen\"},\"id\":\"2365\",\"type\":\"BoxAnnotation\"},{\"attributes\":{\"fill_alpha\":{\"value\":0.1},\"fill_color\":{\"value\":\"Pink\"},\"hatch_alpha\":{\"value\":0.1},\"hatch_color\":{\"value\":\"Pink\"},\"height\":{\"value\":0.8},\"line_alpha\":{\"value\":0.1},\"right\":{\"field\":\"A_2018\"},\"y\":{\"field\":\"Areas\"}},\"id\":\"2283\",\"type\":\"HBar\"},{\"attributes\":{},\"id\":\"2336\",\"type\":\"BasicTickFormatter\"},{\"attributes\":{\"tools\":[{\"id\":\"2296\"},{\"id\":\"2313\"},{\"id\":\"2314\"},{\"id\":\"2315\"},{\"id\":\"2316\"},{\"id\":\"2317\"}]},\"id\":\"2319\",\"type\":\"Toolbar\"},{\"attributes\":{},\"id\":\"2364\",\"type\":\"ResetTool\"},{\"attributes\":{\"fill_alpha\":{\"value\":1.0},\"fill_color\":{\"value\":\"Yellow\"},\"hatch_alpha\":{\"value\":1.0},\"hatch_color\":{\"value\":\"Yellow\"},\"hatch_scale\":{\"value\":12.0},\"hatch_weight\":{\"value\":1.0},\"height\":{\"value\":0.8},\"left\":{\"value\":0},\"line_alpha\":{\"value\":1.0},\"line_cap\":{\"value\":\"butt\"},\"line_color\":{\"value\":\"black\"},\"line_dash\":{\"value\":[]},\"line_dash_offset\":{\"value\":0},\"line_join\":{\"value\":\"bevel\"},\"line_width\":{\"value\":1},\"right\":{\"field\":\"A_2019\"},\"y\":{\"field\":\"Areas\"}},\"id\":\"2334\",\"type\":\"HBar\"},{\"attributes\":{\"axis_label\":\"2017\",\"coordinates\":null,\"formatter\":{\"id\":\"2242\"},\"group\":null,\"major_label_policy\":{\"id\":\"2243\"},\"ticker\":{\"id\":\"2213\"}},\"id\":\"2212\",\"type\":\"LinearAxis\"},{\"attributes\":{\"axis\":{\"id\":\"2212\"},\"coordinates\":null,\"grid_line_color\":null,\"group\":null,\"ticker\":null},\"id\":\"2215\",\"type\":\"Grid\"},{\"attributes\":{\"overlay\":{\"id\":\"2365\"}},\"id\":\"2363\",\"type\":\"BoxZoomTool\"},{\"attributes\":{\"coordinates\":null,\"group\":null,\"text\":\"City Affordability Index\",\"text_color\":\"black\",\"text_font_size\":\"12pt\"},\"id\":\"2204\",\"type\":\"Title\"},{\"attributes\":{\"tools\":[{\"id\":\"2343\"},{\"id\":\"2360\"},{\"id\":\"2361\"},{\"id\":\"2362\"},{\"id\":\"2363\"},{\"id\":\"2364\"}]},\"id\":\"2366\",\"type\":\"Toolbar\"},{\"attributes\":{\"callback\":null,\"renderers\":[{\"id\":\"2238\"}],\"tags\":[\"hv_created\"],\"tooltips\":[[\"Areas\",\"@{Areas}\"],[\"2017\",\"@{A_2017}\"]]},\"id\":\"2202\",\"type\":\"HoverTool\"},{\"attributes\":{},\"id\":\"2313\",\"type\":\"SaveTool\"},{\"attributes\":{},\"id\":\"2307\",\"type\":\"BasicTicker\"},{\"attributes\":{},\"id\":\"2362\",\"type\":\"WheelZoomTool\"},{\"attributes\":{\"bottom_units\":\"screen\",\"coordinates\":null,\"fill_alpha\":0.5,\"fill_color\":\"lightgrey\",\"group\":null,\"left_units\":\"screen\",\"level\":\"overlay\",\"line_alpha\":1.0,\"line_color\":\"black\",\"line_dash\":[4,4],\"line_width\":2,\"right_units\":\"screen\",\"syncable\":false,\"top_units\":\"screen\"},\"id\":\"2271\",\"type\":\"BoxAnnotation\"},{\"attributes\":{\"fill_alpha\":{\"value\":0.2},\"fill_color\":{\"value\":\"Orange\"},\"hatch_alpha\":{\"value\":0.2},\"hatch_color\":{\"value\":\"Orange\"},\"height\":{\"value\":0.8},\"line_alpha\":{\"value\":0.2},\"right\":{\"field\":\"A_2017\"},\"y\":{\"field\":\"Areas\"}},\"id\":\"2237\",\"type\":\"HBar\"},{\"attributes\":{},\"id\":\"2374\",\"type\":\"Selection\"},{\"attributes\":{\"fill_color\":{\"value\":\"Orange\"},\"hatch_color\":{\"value\":\"Orange\"},\"height\":{\"value\":0.8},\"right\":{\"field\":\"A_2017\"},\"y\":{\"field\":\"Areas\"}},\"id\":\"2235\",\"type\":\"HBar\"},{\"attributes\":{\"source\":{\"id\":\"2326\"}},\"id\":\"2333\",\"type\":\"CDSView\"},{\"attributes\":{},\"id\":\"2361\",\"type\":\"PanTool\"},{\"attributes\":{\"end\":123.77,\"reset_end\":123.77,\"reset_start\":0.0,\"tags\":[[[\"2017\",\"2017\",null]]]},\"id\":\"2200\",\"type\":\"Range1d\"},{\"attributes\":{},\"id\":\"2270\",\"type\":\"ResetTool\"},{\"attributes\":{},\"id\":\"2360\",\"type\":\"SaveTool\"},{\"attributes\":{\"factors\":[\"Bellevue\",\"Bothell\",\"Everett\",\"Issaquah\",\"Kirkland\",\"Lake Stevens\",\"Seattle\",\"Snoqualmie\",\"Yakima\"],\"tags\":[[[\"Areas\",\"Areas\",null]]]},\"id\":\"2201\",\"type\":\"FactorRange\"},{\"attributes\":{\"source\":{\"id\":\"2232\"}},\"id\":\"2239\",\"type\":\"CDSView\"},{\"attributes\":{\"fill_alpha\":{\"value\":1.0},\"fill_color\":{\"value\":\"Turquoise\"},\"hatch_alpha\":{\"value\":1.0},\"hatch_color\":{\"value\":\"Turquoise\"},\"hatch_scale\":{\"value\":12.0},\"hatch_weight\":{\"value\":1.0},\"height\":{\"value\":0.8},\"left\":{\"value\":0},\"line_alpha\":{\"value\":1.0},\"line_cap\":{\"value\":\"butt\"},\"line_color\":{\"value\":\"black\"},\"line_dash\":{\"value\":[]},\"line_dash_offset\":{\"value\":0},\"line_join\":{\"value\":\"bevel\"},\"line_width\":{\"value\":1},\"right\":{\"field\":\"A_2020\"},\"y\":{\"field\":\"Areas\"}},\"id\":\"2381\",\"type\":\"HBar\"},{\"attributes\":{\"toolbar\":{\"id\":\"2433\"},\"toolbar_location\":\"above\"},\"id\":\"2434\",\"type\":\"ToolbarBox\"},{\"attributes\":{},\"id\":\"2314\",\"type\":\"PanTool\"},{\"attributes\":{},\"id\":\"2242\",\"type\":\"BasicTickFormatter\"},{\"attributes\":{\"overlay\":{\"id\":\"2271\"}},\"id\":\"2269\",\"type\":\"BoxZoomTool\"},{\"attributes\":{\"tools\":[{\"id\":\"2249\"},{\"id\":\"2266\"},{\"id\":\"2267\"},{\"id\":\"2268\"},{\"id\":\"2269\"},{\"id\":\"2270\"}]},\"id\":\"2272\",\"type\":\"Toolbar\"},{\"attributes\":{},\"id\":\"2246\",\"type\":\"AllLabels\"},{\"attributes\":{},\"id\":\"2267\",\"type\":\"PanTool\"},{\"attributes\":{\"coordinates\":null,\"data_source\":{\"id\":\"2279\"},\"glyph\":{\"id\":\"2282\"},\"group\":null,\"hover_glyph\":null,\"muted_glyph\":{\"id\":\"2284\"},\"nonselection_glyph\":{\"id\":\"2283\"},\"selection_glyph\":{\"id\":\"2287\"},\"view\":{\"id\":\"2286\"}},\"id\":\"2285\",\"type\":\"GlyphRenderer\"},{\"attributes\":{\"axis\":{\"id\":\"2306\"},\"coordinates\":null,\"grid_line_color\":null,\"group\":null,\"ticker\":null},\"id\":\"2309\",\"type\":\"Grid\"},{\"attributes\":{\"axis\":{\"id\":\"2310\"},\"coordinates\":null,\"dimension\":1,\"grid_line_color\":null,\"group\":null,\"ticker\":null},\"id\":\"2312\",\"type\":\"Grid\"},{\"attributes\":{},\"id\":\"2266\",\"type\":\"SaveTool\"},{\"attributes\":{\"source\":{\"id\":\"2279\"}},\"id\":\"2286\",\"type\":\"CDSView\"},{\"attributes\":{},\"id\":\"2210\",\"type\":\"CategoricalScale\"},{\"attributes\":{\"fill_alpha\":{\"value\":0.2},\"fill_color\":{\"value\":\"Pink\"},\"hatch_alpha\":{\"value\":0.2},\"hatch_color\":{\"value\":\"Pink\"},\"height\":{\"value\":0.8},\"line_alpha\":{\"value\":0.2},\"right\":{\"field\":\"A_2018\"},\"y\":{\"field\":\"Areas\"}},\"id\":\"2284\",\"type\":\"HBar\"},{\"attributes\":{\"overlay\":{\"id\":\"2224\"}},\"id\":\"2222\",\"type\":\"BoxZoomTool\"},{\"attributes\":{\"axis_label\":\"\",\"coordinates\":null,\"formatter\":{\"id\":\"2386\"},\"group\":null,\"major_label_policy\":{\"id\":\"2387\"},\"ticker\":{\"id\":\"2358\"}},\"id\":\"2357\",\"type\":\"CategoricalAxis\"},{\"attributes\":{\"below\":[{\"id\":\"2212\"}],\"center\":[{\"id\":\"2215\"},{\"id\":\"2218\"}],\"height\":300,\"left\":[{\"id\":\"2216\"}],\"margin\":null,\"min_border_bottom\":10,\"min_border_left\":10,\"min_border_right\":10,\"min_border_top\":10,\"renderers\":[{\"id\":\"2238\"}],\"sizing_mode\":\"fixed\",\"title\":{\"id\":\"2204\"},\"toolbar\":{\"id\":\"2225\"},\"toolbar_location\":null,\"width\":300,\"x_range\":{\"id\":\"2200\"},\"x_scale\":{\"id\":\"2208\"},\"y_range\":{\"id\":\"2201\"},\"y_scale\":{\"id\":\"2210\"}},\"id\":\"2203\",\"subtype\":\"Figure\",\"type\":\"Plot\"},{\"attributes\":{\"fill_alpha\":{\"value\":0.1},\"fill_color\":{\"value\":\"Yellow\"},\"hatch_alpha\":{\"value\":0.1},\"hatch_color\":{\"value\":\"Yellow\"},\"height\":{\"value\":0.8},\"line_alpha\":{\"value\":0.1},\"right\":{\"field\":\"A_2019\"},\"y\":{\"field\":\"Areas\"}},\"id\":\"2330\",\"type\":\"HBar\"},{\"attributes\":{},\"id\":\"2358\",\"type\":\"CategoricalTicker\"},{\"attributes\":{},\"id\":\"2268\",\"type\":\"WheelZoomTool\"},{\"attributes\":{\"axis\":{\"id\":\"2353\"},\"coordinates\":null,\"grid_line_color\":null,\"group\":null,\"ticker\":null},\"id\":\"2356\",\"type\":\"Grid\"},{\"attributes\":{},\"id\":\"2311\",\"type\":\"CategoricalTicker\"},{\"attributes\":{},\"id\":\"2354\",\"type\":\"BasicTicker\"},{\"attributes\":{},\"id\":\"2223\",\"type\":\"ResetTool\"},{\"attributes\":{\"axis_label\":\"2020\",\"coordinates\":null,\"formatter\":{\"id\":\"2383\"},\"group\":null,\"major_label_policy\":{\"id\":\"2384\"},\"ticker\":{\"id\":\"2354\"}},\"id\":\"2353\",\"type\":\"LinearAxis\"},{\"attributes\":{\"axis_label\":\"\",\"coordinates\":null,\"formatter\":{\"id\":\"2245\"},\"group\":null,\"major_label_policy\":{\"id\":\"2246\"},\"ticker\":{\"id\":\"2217\"}},\"id\":\"2216\",\"type\":\"CategoricalAxis\"},{\"attributes\":{\"bottom_units\":\"screen\",\"coordinates\":null,\"fill_alpha\":0.5,\"fill_color\":\"lightgrey\",\"group\":null,\"left_units\":\"screen\",\"level\":\"overlay\",\"line_alpha\":1.0,\"line_color\":\"black\",\"line_dash\":[4,4],\"line_width\":2,\"right_units\":\"screen\",\"syncable\":false,\"top_units\":\"screen\"},\"id\":\"2318\",\"type\":\"BoxAnnotation\"},{\"attributes\":{},\"id\":\"2349\",\"type\":\"LinearScale\"},{\"attributes\":{},\"id\":\"2395\",\"type\":\"UnionRenderers\"},{\"attributes\":{\"axis_label\":\"\",\"coordinates\":null,\"formatter\":{\"id\":\"2292\"},\"group\":null,\"major_label_policy\":{\"id\":\"2293\"},\"ticker\":{\"id\":\"2264\"}},\"id\":\"2263\",\"type\":\"CategoricalAxis\"},{\"attributes\":{\"bottom_units\":\"screen\",\"coordinates\":null,\"fill_alpha\":0.5,\"fill_color\":\"lightgrey\",\"group\":null,\"left_units\":\"screen\",\"level\":\"overlay\",\"line_alpha\":1.0,\"line_color\":\"black\",\"line_dash\":[4,4],\"line_width\":2,\"right_units\":\"screen\",\"syncable\":false,\"top_units\":\"screen\"},\"id\":\"2224\",\"type\":\"BoxAnnotation\"},{\"attributes\":{\"margin\":[5,5,5,5],\"name\":\"HSpacer03285\",\"sizing_mode\":\"stretch_width\"},\"id\":\"2796\",\"type\":\"Spacer\"},{\"attributes\":{},\"id\":\"2245\",\"type\":\"CategoricalTickFormatter\"},{\"attributes\":{},\"id\":\"2264\",\"type\":\"CategoricalTicker\"},{\"attributes\":{\"fill_alpha\":{\"value\":0.2},\"fill_color\":{\"value\":\"Yellow\"},\"hatch_alpha\":{\"value\":0.2},\"hatch_color\":{\"value\":\"Yellow\"},\"height\":{\"value\":0.8},\"line_alpha\":{\"value\":0.2},\"right\":{\"field\":\"A_2019\"},\"y\":{\"field\":\"Areas\"}},\"id\":\"2331\",\"type\":\"HBar\"},{\"attributes\":{\"coordinates\":null,\"data_source\":{\"id\":\"2326\"},\"glyph\":{\"id\":\"2329\"},\"group\":null,\"hover_glyph\":null,\"muted_glyph\":{\"id\":\"2331\"},\"nonselection_glyph\":{\"id\":\"2330\"},\"selection_glyph\":{\"id\":\"2334\"},\"view\":{\"id\":\"2333\"}},\"id\":\"2332\",\"type\":\"GlyphRenderer\"},{\"attributes\":{\"fill_alpha\":{\"value\":1.0},\"fill_color\":{\"value\":\"Orange\"},\"hatch_alpha\":{\"value\":1.0},\"hatch_color\":{\"value\":\"Orange\"},\"hatch_scale\":{\"value\":12.0},\"hatch_weight\":{\"value\":1.0},\"height\":{\"value\":0.8},\"left\":{\"value\":0},\"line_alpha\":{\"value\":1.0},\"line_cap\":{\"value\":\"butt\"},\"line_color\":{\"value\":\"black\"},\"line_dash\":{\"value\":[]},\"line_dash_offset\":{\"value\":0},\"line_join\":{\"value\":\"bevel\"},\"line_width\":{\"value\":1},\"right\":{\"field\":\"A_2017\"},\"y\":{\"field\":\"Areas\"}},\"id\":\"2240\",\"type\":\"HBar\"},{\"attributes\":{\"source\":{\"id\":\"2373\"}},\"id\":\"2380\",\"type\":\"CDSView\"},{\"attributes\":{},\"id\":\"2233\",\"type\":\"Selection\"},{\"attributes\":{\"coordinates\":null,\"data_source\":{\"id\":\"2373\"},\"glyph\":{\"id\":\"2376\"},\"group\":null,\"hover_glyph\":null,\"muted_glyph\":{\"id\":\"2378\"},\"nonselection_glyph\":{\"id\":\"2377\"},\"selection_glyph\":{\"id\":\"2381\"},\"view\":{\"id\":\"2380\"}},\"id\":\"2379\",\"type\":\"GlyphRenderer\"},{\"attributes\":{\"children\":[{\"id\":\"2434\"},{\"id\":\"2432\"}]},\"id\":\"2435\",\"type\":\"Column\"},{\"attributes\":{},\"id\":\"2260\",\"type\":\"BasicTicker\"},{\"attributes\":{\"fill_alpha\":{\"value\":0.1},\"fill_color\":{\"value\":\"Turquoise\"},\"hatch_alpha\":{\"value\":0.1},\"hatch_color\":{\"value\":\"Turquoise\"},\"height\":{\"value\":0.8},\"line_alpha\":{\"value\":0.1},\"right\":{\"field\":\"A_2020\"},\"y\":{\"field\":\"Areas\"}},\"id\":\"2377\",\"type\":\"HBar\"},{\"attributes\":{\"axis_label\":\"2018\",\"coordinates\":null,\"formatter\":{\"id\":\"2289\"},\"group\":null,\"major_label_policy\":{\"id\":\"2290\"},\"ticker\":{\"id\":\"2260\"}},\"id\":\"2259\",\"type\":\"LinearAxis\"},{\"attributes\":{\"coordinates\":null,\"group\":null,\"text\":\"City Affordability Index\",\"text_color\":\"black\",\"text_font_size\":\"12pt\"},\"id\":\"2345\",\"type\":\"Title\"},{\"attributes\":{},\"id\":\"2243\",\"type\":\"AllLabels\"},{\"attributes\":{},\"id\":\"2351\",\"type\":\"CategoricalScale\"},{\"attributes\":{},\"id\":\"2219\",\"type\":\"SaveTool\"},{\"attributes\":{},\"id\":\"2220\",\"type\":\"PanTool\"},{\"attributes\":{},\"id\":\"2255\",\"type\":\"LinearScale\"},{\"attributes\":{\"data\":{\"A_2020\":{\"__ndarray__\":\"zczMzMysUkDNzMzMzMxXQGZmZmZmBlRAMzMzMzPTVkBmZmZmZmZVQDMzMzMzc1xAzczMzMzsVEDNzMzMzKxeQJqZmZmZ+VpA\",\"dtype\":\"float64\",\"order\":\"little\",\"shape\":[9]},\"Areas\":[\"Bellevue\",\"Bothell\",\"Everett\",\"Issaquah\",\"Kirkland\",\"Lake Stevens\",\"Seattle\",\"Snoqualmie\",\"Yakima\"]},\"selected\":{\"id\":\"2374\"},\"selection_policy\":{\"id\":\"2428\"}},\"id\":\"2373\",\"type\":\"ColumnDataSource\"},{\"attributes\":{},\"id\":\"2383\",\"type\":\"BasicTickFormatter\"},{\"attributes\":{\"fill_alpha\":{\"value\":0.1},\"fill_color\":{\"value\":\"Orange\"},\"hatch_alpha\":{\"value\":0.1},\"hatch_color\":{\"value\":\"Orange\"},\"height\":{\"value\":0.8},\"line_alpha\":{\"value\":0.1},\"right\":{\"field\":\"A_2017\"},\"y\":{\"field\":\"Areas\"}},\"id\":\"2236\",\"type\":\"HBar\"},{\"attributes\":{\"axis\":{\"id\":\"2259\"},\"coordinates\":null,\"grid_line_color\":null,\"group\":null,\"ticker\":null},\"id\":\"2262\",\"type\":\"Grid\"},{\"attributes\":{\"end\":127.5,\"reset_end\":127.5,\"reset_start\":0.0,\"tags\":[[[\"2020\",\"2020\",null]]]},\"id\":\"2341\",\"type\":\"Range1d\"},{\"attributes\":{},\"id\":\"2221\",\"type\":\"WheelZoomTool\"},{\"attributes\":{\"axis\":{\"id\":\"2357\"},\"coordinates\":null,\"dimension\":1,\"grid_line_color\":null,\"group\":null,\"ticker\":null},\"id\":\"2359\",\"type\":\"Grid\"},{\"attributes\":{},\"id\":\"2387\",\"type\":\"AllLabels\"},{\"attributes\":{},\"id\":\"2386\",\"type\":\"CategoricalTickFormatter\"},{\"attributes\":{},\"id\":\"2406\",\"type\":\"UnionRenderers\"},{\"attributes\":{\"below\":[{\"id\":\"2353\"}],\"center\":[{\"id\":\"2356\"},{\"id\":\"2359\"}],\"height\":300,\"left\":[{\"id\":\"2357\"}],\"margin\":null,\"min_border_bottom\":10,\"min_border_left\":10,\"min_border_right\":10,\"min_border_top\":10,\"renderers\":[{\"id\":\"2379\"}],\"sizing_mode\":\"fixed\",\"title\":{\"id\":\"2345\"},\"toolbar\":{\"id\":\"2366\"},\"toolbar_location\":null,\"width\":300,\"x_range\":{\"id\":\"2341\"},\"x_scale\":{\"id\":\"2349\"},\"y_range\":{\"id\":\"2201\"},\"y_scale\":{\"id\":\"2351\"}},\"id\":\"2344\",\"subtype\":\"Figure\",\"type\":\"Plot\"},{\"attributes\":{\"tools\":[{\"id\":\"2202\"},{\"id\":\"2219\"},{\"id\":\"2220\"},{\"id\":\"2221\"},{\"id\":\"2222\"},{\"id\":\"2223\"}]},\"id\":\"2225\",\"type\":\"Toolbar\"},{\"attributes\":{},\"id\":\"2257\",\"type\":\"CategoricalScale\"},{\"attributes\":{},\"id\":\"2302\",\"type\":\"LinearScale\"},{\"attributes\":{\"coordinates\":null,\"group\":null,\"text\":\"City Affordability Index\",\"text_color\":\"black\",\"text_font_size\":\"12pt\"},\"id\":\"2251\",\"type\":\"Title\"},{\"attributes\":{},\"id\":\"2340\",\"type\":\"AllLabels\"},{\"attributes\":{\"axis\":{\"id\":\"2263\"},\"coordinates\":null,\"dimension\":1,\"grid_line_color\":null,\"group\":null,\"ticker\":null},\"id\":\"2265\",\"type\":\"Grid\"},{\"attributes\":{\"coordinates\":null,\"data_source\":{\"id\":\"2232\"},\"glyph\":{\"id\":\"2235\"},\"group\":null,\"hover_glyph\":null,\"muted_glyph\":{\"id\":\"2237\"},\"nonselection_glyph\":{\"id\":\"2236\"},\"selection_glyph\":{\"id\":\"2240\"},\"view\":{\"id\":\"2239\"}},\"id\":\"2238\",\"type\":\"GlyphRenderer\"}],\"root_ids\":[\"2198\"]},\"title\":\"Bokeh Application\",\"version\":\"2.4.1\"}};\n",
       "    var render_items = [{\"docid\":\"869e37d4-6813-46ba-9f39-dea7dafcb756\",\"root_ids\":[\"2198\"],\"roots\":{\"2198\":\"596dc11f-617a-4d55-b049-b086d9f80313\"}}];\n",
       "    root.Bokeh.embed.embed_items_notebook(docs_json, render_items);\n",
       "  }\n",
       "  if (root.Bokeh !== undefined && root.Bokeh.Panel !== undefined) {\n",
       "    embed_document(root);\n",
       "  } else {\n",
       "    var attempts = 0;\n",
       "    var timer = setInterval(function(root) {\n",
       "      if (root.Bokeh !== undefined && root.Bokeh.Panel !== undefined) {\n",
       "        clearInterval(timer);\n",
       "        embed_document(root);\n",
       "      } else if (document.readyState == \"complete\") {\n",
       "        attempts++;\n",
       "        if (attempts > 200) {\n",
       "          clearInterval(timer);\n",
       "          console.log(\"Bokeh: ERROR: Unable to run BokehJS code because BokehJS library is missing\");\n",
       "        }\n",
       "      }\n",
       "    }, 25, root)\n",
       "  }\n",
       "})(window);</script>"
      ],
      "text/plain": [
       ":Layout\n",
       "   .Bars.A_2017 :Bars   [Areas]   (2017)\n",
       "   .Bars.A_2018 :Bars   [Areas]   (2018)\n",
       "   .Bars.A_2019 :Bars   [Areas]   (2019)\n",
       "   .Bars.A_2020 :Bars   [Areas]   (2020)"
      ]
     },
     "execution_count": 28,
     "metadata": {
      "application/vnd.holoviews_exec.v0+json": {
       "id": "2198"
      }
     },
     "output_type": "execute_result"
    }
   ],
   "source": [
    "#Creating year wise separate dataframes for city affordability indexs plotting\n",
    "df_2017 = city_index['2017'].hvplot.bar(\n",
    "    legend=True,\n",
    "    width=300,\n",
    "    height=300,\n",
    "    title='City Affordability Index',\n",
    "    color=\"Orange\").opts(invert_axes=True)\n",
    "df_2018 = city_index['2018'].hvplot.bar(\n",
    "    legend=True,\n",
    "    width=300, height=300,\n",
    "    title='City Affordability Index',\n",
    "    color=\"Pink\").opts(invert_axes=True)\n",
    "df_2019 = city_index['2019'].hvplot.bar(\n",
    "    legend=True,\n",
    "    width=300,\n",
    "    height=300,\n",
    "    title='City Affordability Index',\n",
    "    color=\"Yellow\").opts(invert_axes=True)\n",
    "df_2020 = city_index['2020'].hvplot.bar(\n",
    "    legend=True,\n",
    "    width=300,\n",
    "    height=300,\n",
    "    title='City Affordability Index',\n",
    "    color=\"Turquoise\").opts(invert_axes=True)\n",
    "\n",
    "#Plotting all year dataframes side by side for better Visualization and analysis\n",
    "df_2017 + df_2018 + df_2019 + df_2020"
   ]
  },
  {
   "cell_type": "markdown",
   "id": "8ec2cb72-1bd1-46e7-babe-c65e320705ef",
   "metadata": {},
   "source": [
    "# House Listing Prices Analysis"
   ]
  },
  {
   "cell_type": "markdown",
   "id": "c0f98c01-4194-4257-beb1-be1cba3b2ad1",
   "metadata": {},
   "source": [
    "## Narrowing Down on Columns and Counties for Visualizations"
   ]
  },
  {
   "cell_type": "code",
   "execution_count": 31,
   "id": "6167ae08-e4b0-4d9b-886e-189d701b1d0f",
   "metadata": {},
   "outputs": [
    {
     "data": {
      "text/html": [
       "<div>\n",
       "<style scoped>\n",
       "    .dataframe tbody tr th:only-of-type {\n",
       "        vertical-align: middle;\n",
       "    }\n",
       "\n",
       "    .dataframe tbody tr th {\n",
       "        vertical-align: top;\n",
       "    }\n",
       "\n",
       "    .dataframe thead th {\n",
       "        text-align: right;\n",
       "    }\n",
       "</style>\n",
       "<table border=\"1\" class=\"dataframe\">\n",
       "  <thead>\n",
       "    <tr style=\"text-align: right;\">\n",
       "      <th>county_name</th>\n",
       "      <th>King</th>\n",
       "      <th>Snohomish</th>\n",
       "      <th>Pierce</th>\n",
       "    </tr>\n",
       "    <tr>\n",
       "      <th>Date</th>\n",
       "      <th></th>\n",
       "      <th></th>\n",
       "      <th></th>\n",
       "    </tr>\n",
       "  </thead>\n",
       "  <tbody>\n",
       "    <tr>\n",
       "      <th>2016-07-01</th>\n",
       "      <td>565000.0</td>\n",
       "      <td>399500.0</td>\n",
       "      <td>324950.0</td>\n",
       "    </tr>\n",
       "    <tr>\n",
       "      <th>2016-08-01</th>\n",
       "      <td>554997.5</td>\n",
       "      <td>394975.0</td>\n",
       "      <td>322475.0</td>\n",
       "    </tr>\n",
       "    <tr>\n",
       "      <th>2016-09-01</th>\n",
       "      <td>549975.0</td>\n",
       "      <td>399700.0</td>\n",
       "      <td>319475.0</td>\n",
       "    </tr>\n",
       "    <tr>\n",
       "      <th>2016-10-01</th>\n",
       "      <td>559000.0</td>\n",
       "      <td>399995.0</td>\n",
       "      <td>315000.0</td>\n",
       "    </tr>\n",
       "    <tr>\n",
       "      <th>2016-11-01</th>\n",
       "      <td>550000.0</td>\n",
       "      <td>409975.0</td>\n",
       "      <td>312475.0</td>\n",
       "    </tr>\n",
       "  </tbody>\n",
       "</table>\n",
       "</div>"
      ],
      "text/plain": [
       "county_name      King  Snohomish    Pierce\n",
       "Date                                      \n",
       "2016-07-01   565000.0   399500.0  324950.0\n",
       "2016-08-01   554997.5   394975.0  322475.0\n",
       "2016-09-01   549975.0   399700.0  319475.0\n",
       "2016-10-01   559000.0   399995.0  315000.0\n",
       "2016-11-01   550000.0   409975.0  312475.0"
      ]
     },
     "metadata": {},
     "output_type": "display_data"
    }
   ],
   "source": [
    "#Creating a table for the three counties for the median listing price\n",
    "h_df = wa_house_listing_county_df[['Date','county_name','median_listing_price']]\n",
    "h_df = pd.pivot_table(h_df,values='median_listing_price',\n",
    "                     index=['Date'],\n",
    "                     columns=['county_name'])\n",
    "h_df = h_df[['King','Snohomish','Pierce']]\n",
    "display(h_df.head())"
   ]
  },
  {
   "cell_type": "code",
   "execution_count": 32,
   "id": "40891cfc-3d04-4678-92e4-a97f39f0f867",
   "metadata": {},
   "outputs": [
    {
     "data": {},
     "metadata": {},
     "output_type": "display_data"
    },
    {
     "data": {
      "application/vnd.holoviews_exec.v0+json": "",
      "text/html": [
       "<div id='2998'>\n",
       "\n",
       "\n",
       "\n",
       "\n",
       "\n",
       "  <div class=\"bk-root\" id=\"6d644541-15d4-433f-8beb-e18869af5e55\" data-root-id=\"2998\"></div>\n",
       "</div>\n",
       "<script type=\"application/javascript\">(function(root) {\n",
       "  function embed_document(root) {\n",
       "    var docs_json = {\"80482db5-e015-4719-822d-30b3600f01bb\":{\"defs\":[{\"extends\":null,\"module\":null,\"name\":\"ReactiveHTML1\",\"overrides\":[],\"properties\":[]},{\"extends\":null,\"module\":null,\"name\":\"FlexBox1\",\"overrides\":[],\"properties\":[{\"default\":\"flex-start\",\"kind\":null,\"name\":\"align_content\"},{\"default\":\"flex-start\",\"kind\":null,\"name\":\"align_items\"},{\"default\":\"row\",\"kind\":null,\"name\":\"flex_direction\"},{\"default\":\"wrap\",\"kind\":null,\"name\":\"flex_wrap\"},{\"default\":\"flex-start\",\"kind\":null,\"name\":\"justify_content\"}]},{\"extends\":null,\"module\":null,\"name\":\"TemplateActions1\",\"overrides\":[],\"properties\":[{\"default\":0,\"kind\":null,\"name\":\"open_modal\"},{\"default\":0,\"kind\":null,\"name\":\"close_modal\"}]},{\"extends\":null,\"module\":null,\"name\":\"MaterialTemplateActions1\",\"overrides\":[],\"properties\":[{\"default\":0,\"kind\":null,\"name\":\"open_modal\"},{\"default\":0,\"kind\":null,\"name\":\"close_modal\"}]}],\"roots\":{\"references\":[{\"attributes\":{\"axis_label\":\"Date\",\"coordinates\":null,\"formatter\":{\"id\":\"3037\"},\"group\":null,\"major_label_orientation\":0.5235987755982988,\"major_label_policy\":{\"id\":\"3038\"},\"ticker\":{\"id\":\"3015\"}},\"id\":\"3014\",\"type\":\"DatetimeAxis\"},{\"attributes\":{\"label\":{\"value\":\"Pierce\"},\"renderers\":[{\"id\":\"3115\"}]},\"id\":\"3142\",\"type\":\"LegendItem\"},{\"attributes\":{\"days\":[1,15]},\"id\":\"3067\",\"type\":\"DaysTicker\"},{\"attributes\":{\"format\":\"%.0f\"},\"id\":\"3035\",\"type\":\"PrintfTickFormatter\"},{\"attributes\":{\"months\":[0,1,2,3,4,5,6,7,8,9,10,11]},\"id\":\"3068\",\"type\":\"MonthsTicker\"},{\"attributes\":{\"line_color\":\"#e5ae38\",\"line_width\":2,\"x\":{\"field\":\"Date\"},\"y\":{\"field\":\"value\"}},\"id\":\"3112\",\"type\":\"Line\"},{\"attributes\":{\"axis\":{\"id\":\"3014\"},\"coordinates\":null,\"grid_line_color\":null,\"group\":null,\"ticker\":null},\"id\":\"3017\",\"type\":\"Grid\"},{\"attributes\":{\"base\":60,\"mantissas\":[1,2,5,10,15,20,30],\"max_interval\":1800000.0,\"min_interval\":1000.0,\"num_minor_ticks\":0},\"id\":\"3062\",\"type\":\"AdaptiveTicker\"},{\"attributes\":{\"coordinates\":null,\"group\":null,\"text\":\"Median Listing Price by Date\",\"text_color\":\"black\",\"text_font_size\":\"12pt\"},\"id\":\"3006\",\"type\":\"Title\"},{\"attributes\":{\"months\":[0,4,8]},\"id\":\"3070\",\"type\":\"MonthsTicker\"},{\"attributes\":{\"line_alpha\":0.2,\"line_color\":\"#e5ae38\",\"line_width\":2,\"x\":{\"field\":\"Date\"},\"y\":{\"field\":\"value\"}},\"id\":\"3114\",\"type\":\"Line\"},{\"attributes\":{\"months\":[0,2,4,6,8,10]},\"id\":\"3069\",\"type\":\"MonthsTicker\"},{\"attributes\":{\"num_minor_ticks\":5,\"tickers\":[{\"id\":\"3061\"},{\"id\":\"3062\"},{\"id\":\"3063\"},{\"id\":\"3064\"},{\"id\":\"3065\"},{\"id\":\"3066\"},{\"id\":\"3067\"},{\"id\":\"3068\"},{\"id\":\"3069\"},{\"id\":\"3070\"},{\"id\":\"3071\"},{\"id\":\"3072\"}]},\"id\":\"3015\",\"type\":\"DatetimeTicker\"},{\"attributes\":{},\"id\":\"3012\",\"type\":\"LinearScale\"},{\"attributes\":{\"days\":[1,2,3,4,5,6,7,8,9,10,11,12,13,14,15,16,17,18,19,20,21,22,23,24,25,26,27,28,29,30,31]},\"id\":\"3064\",\"type\":\"DaysTicker\"},{\"attributes\":{\"line_color\":\"#e5ae38\",\"line_width\":2,\"x\":{\"field\":\"Date\"},\"y\":{\"field\":\"value\"}},\"id\":\"3143\",\"type\":\"Line\"},{\"attributes\":{\"label\":{\"value\":\"King\"},\"renderers\":[{\"id\":\"3050\"}]},\"id\":\"3074\",\"type\":\"LegendItem\"},{\"attributes\":{},\"id\":\"3010\",\"type\":\"LinearScale\"},{\"attributes\":{\"data\":{\"Date\":{\"__ndarray__\":\"AABAFDxadUIAAIBmNmR1QgAAwLgwbnVCAABApdh3dUIAAID30oF1QgAAAOR6i3VCAABANnWVdUIAAICIb591QgAAgKlyqHVCAADA+2yydUIAAEDoFLx1QgAAgDoPxnVCAAAAJ7fPdUIAAEB5sdl1QgAAgMur43VCAAAAuFPtdUIAAEAKTvd1QgAAwPb1AHZCAAAASfAKdkIAAECb6hR2QgAAQLztHXZCAACADugndkIAAAD7jzF2QgAAQE2KO3ZCAADAOTJFdkIAAACMLE92QgAAQN4mWXZCAADAys5idkIAAAAdyWx2QgAAgAlxdnZCAADAW2uAdkIAAACuZYp2QgAAAM9ok3ZCAABAIWOddkIAAMANC6d2QgAAAGAFsXZCAACATK26dkIAAMCep8R2QgAAAPGhznZCAACA3UnYdkIAAMAvROJ2QgAAQBzs63ZCAACAbub1dkIAAMDA4P92QgAAgEc2CXdCAADAmTATd0IAAECG2Bx3QgAAgNjSJndCAAAAxXowd0IAAEAXdTp3QgAAgGlvRHdCAAAAVhdOd0IAAECoEVh3QgAAwJS5YXdCAAAA57Nrd0IAAEA5rnV3QgAAQFqxfndCAACArKuId0IAAACZU5J3QgAAQOtNnHdCAADA1/Wld0IAAAAq8K93QgAAQHzquXdCAADAaJLDd0IAAAC7jM13QgAAgKc013dC\",\"dtype\":\"float64\",\"order\":\"little\",\"shape\":[66]},\"county_name\":[\"King\",\"King\",\"King\",\"King\",\"King\",\"King\",\"King\",\"King\",\"King\",\"King\",\"King\",\"King\",\"King\",\"King\",\"King\",\"King\",\"King\",\"King\",\"King\",\"King\",\"King\",\"King\",\"King\",\"King\",\"King\",\"King\",\"King\",\"King\",\"King\",\"King\",\"King\",\"King\",\"King\",\"King\",\"King\",\"King\",\"King\",\"King\",\"King\",\"King\",\"King\",\"King\",\"King\",\"King\",\"King\",\"King\",\"King\",\"King\",\"King\",\"King\",\"King\",\"King\",\"King\",\"King\",\"King\",\"King\",\"King\",\"King\",\"King\",\"King\",\"King\",\"King\",\"King\",\"King\",\"King\",\"King\"],\"value\":{\"__ndarray__\":\"AAAAABA+IUEAAAAA6+8gQQAAAACuyCBBAAAAADAPIUEAAAAA4MggQQAAAADgyCBBAAAAAAjsIEEAAAAAZksiQQAAAADQEiNBAAAAABCvI0EAAAAADiQkQQAAAABwmSRBAAAAAMBiJEEAAAAAjEcjQQAAAADwYCNBAAAAAIrVI0EAAAAA7tUjQQAAAABAJCRBAAAAAKAOJUEAAAAAaL4lQQAAAAAYpCZBAAAAAJgzJkEAAAAAyKgmQQAAAADclCZBAAAAAPimJUEAAAAAZDElQQAAAABAoSRBAAAAAHCZJEEAAAAAUEskQQAAAAAMmSRBAAAAALA1JUEAAAAAiAwmQUmSJEleUyZBAAAAABXEJkEAAAAAwncmQQAAAAAQICZBAAAAALTgJUG3bdu2LVklQbdt27b7WCVBAAAAAL9YJUEAAAAA+FslQQAAAACsDCVBAAAAAAYwJUEAAAAArB8mQQAAAABYkSZBAAAAABAgJkEAAAAAECAmQQAAAAB2WiZBAAAAADBuJkEAAAAAIMolQQAAAADWzSVBAAAAAPBUJUEAAAAA8FQlQQAAAACuLSVBAAAAAFxcJUEAAAAAXFwlQQAAAAAQICZBAAAAAHZaJkEAAAAAmOImQQAAAADGHSdBAAAAADBoJ0EAAAAAyuImQQAAAAD84iZBAAAAAPziJkEAAAAAM+ImQQAAAAAU3yZB\",\"dtype\":\"float64\",\"order\":\"little\",\"shape\":[66]}},\"selected\":{\"id\":\"3045\"},\"selection_policy\":{\"id\":\"3058\"}},\"id\":\"3044\",\"type\":\"ColumnDataSource\"},{\"attributes\":{\"source\":{\"id\":\"3109\"}},\"id\":\"3116\",\"type\":\"CDSView\"},{\"attributes\":{\"line_alpha\":0.1,\"line_color\":\"#e5ae38\",\"line_width\":2,\"x\":{\"field\":\"Date\"},\"y\":{\"field\":\"value\"}},\"id\":\"3113\",\"type\":\"Line\"},{\"attributes\":{},\"id\":\"3037\",\"type\":\"DatetimeTickFormatter\"},{\"attributes\":{\"mantissas\":[1,2,5],\"max_interval\":500.0,\"num_minor_ticks\":0},\"id\":\"3061\",\"type\":\"AdaptiveTicker\"},{\"attributes\":{},\"id\":\"3058\",\"type\":\"UnionRenderers\"},{\"attributes\":{\"axis_label\":\"Median Listing Price\",\"coordinates\":null,\"formatter\":{\"id\":\"3035\"},\"group\":null,\"major_label_policy\":{\"id\":\"3041\"},\"ticker\":{\"id\":\"3019\"}},\"id\":\"3018\",\"type\":\"LinearAxis\"},{\"attributes\":{},\"id\":\"3127\",\"type\":\"UnionRenderers\"},{\"attributes\":{\"children\":[{\"id\":\"2999\"},{\"id\":\"3005\"},{\"id\":\"3369\"}],\"margin\":[0,0,0,0],\"name\":\"Row03876\",\"tags\":[\"embedded\"]},\"id\":\"2998\",\"type\":\"Row\"},{\"attributes\":{\"line_color\":\"#fc4f30\",\"line_width\":2,\"x\":{\"field\":\"Date\"},\"y\":{\"field\":\"value\"}},\"id\":\"3108\",\"type\":\"Line\"},{\"attributes\":{\"data\":{\"Date\":{\"__ndarray__\":\"AABAFDxadUIAAIBmNmR1QgAAwLgwbnVCAABApdh3dUIAAID30oF1QgAAAOR6i3VCAABANnWVdUIAAICIb591QgAAgKlyqHVCAADA+2yydUIAAEDoFLx1QgAAgDoPxnVCAAAAJ7fPdUIAAEB5sdl1QgAAgMur43VCAAAAuFPtdUIAAEAKTvd1QgAAwPb1AHZCAAAASfAKdkIAAECb6hR2QgAAQLztHXZCAACADugndkIAAAD7jzF2QgAAQE2KO3ZCAADAOTJFdkIAAACMLE92QgAAQN4mWXZCAADAys5idkIAAAAdyWx2QgAAgAlxdnZCAADAW2uAdkIAAACuZYp2QgAAAM9ok3ZCAABAIWOddkIAAMANC6d2QgAAAGAFsXZCAACATK26dkIAAMCep8R2QgAAAPGhznZCAACA3UnYdkIAAMAvROJ2QgAAQBzs63ZCAACAbub1dkIAAMDA4P92QgAAgEc2CXdCAADAmTATd0IAAECG2Bx3QgAAgNjSJndCAAAAxXowd0IAAEAXdTp3QgAAgGlvRHdCAAAAVhdOd0IAAECoEVh3QgAAwJS5YXdCAAAA57Nrd0IAAEA5rnV3QgAAQFqxfndCAACArKuId0IAAACZU5J3QgAAQOtNnHdCAADA1/Wld0IAAAAq8K93QgAAQHzquXdCAADAaJLDd0IAAAC7jM13QgAAgKc013dC\",\"dtype\":\"float64\",\"order\":\"little\",\"shape\":[66]},\"county_name\":[\"Pierce\",\"Pierce\",\"Pierce\",\"Pierce\",\"Pierce\",\"Pierce\",\"Pierce\",\"Pierce\",\"Pierce\",\"Pierce\",\"Pierce\",\"Pierce\",\"Pierce\",\"Pierce\",\"Pierce\",\"Pierce\",\"Pierce\",\"Pierce\",\"Pierce\",\"Pierce\",\"Pierce\",\"Pierce\",\"Pierce\",\"Pierce\",\"Pierce\",\"Pierce\",\"Pierce\",\"Pierce\",\"Pierce\",\"Pierce\",\"Pierce\",\"Pierce\",\"Pierce\",\"Pierce\",\"Pierce\",\"Pierce\",\"Pierce\",\"Pierce\",\"Pierce\",\"Pierce\",\"Pierce\",\"Pierce\",\"Pierce\",\"Pierce\",\"Pierce\",\"Pierce\",\"Pierce\",\"Pierce\",\"Pierce\",\"Pierce\",\"Pierce\",\"Pierce\",\"Pierce\",\"Pierce\",\"Pierce\",\"Pierce\",\"Pierce\",\"Pierce\",\"Pierce\",\"Pierce\",\"Pierce\",\"Pierce\",\"Pierce\",\"Pierce\",\"Pierce\",\"Pierce\"],\"value\":{\"__ndarray__\":\"AAAAAFjVE0EAAAAArK4TQQAAAADMfxNBAAAAAOA5E0EAAAAAbBITQQAAAAAc1hNBAAAAANwjFEEAAAAAhDQVQQAAAADQgxVBAAAAAEiDFkEAAAAAWJEWQQAAAACoCRdBAAAAADyVFkEAAAAAHDcWQQAAAAAYJxZBAAAAAAD5FUEAAAAAFkcWQQAAAABg4xZBAAAAAODQF0EAAAAAFLgYQQAAAADY7xlBAAAAADipGUEAAAAAAnsZQQAAAABgVBlBAAAAAABqGEEAAAAA8lkYQQAAAADAzRdBAAAAAAj0F0EAAAAAyFEYQQAAAAB4BRlBAAAAAKh6GUEAAAAA8DYaQQAAAADAuxpBAAAAAEB3G0EAAAAAYMUbQQAAAACwdRtBAAAAAOraGkHctm3b7hwaQdy2bdve9RlBAAAAAKDwGUEAAAAA4A8aQQAAAACoPBtBAAAAAEaeG0EAAAAAIKAcQQAAAADovhxBAAAAAGbsG0EAAAAAYMUbQQAAAABAwxxBAAAAAJiGHUEAAAAA4P0cQQAAAAB8/RxBAAAAAMCvHEEAAAAA6MwdQQAAAAC4gx5BAAAAAMAgH0EAAAAAIBceQQAAAADo+B5BAAAAAKzjH0EAAAAAkAUgQQAAAADmGCBBAAAAAFx6IEEAAAAAJrUgQQAAAADgyCBBAAAAAAAXIUEAAAAARgMhQQAAAACuyCBB\",\"dtype\":\"float64\",\"order\":\"little\",\"shape\":[66]}},\"selected\":{\"id\":\"3110\"},\"selection_policy\":{\"id\":\"3127\"}},\"id\":\"3109\",\"type\":\"ColumnDataSource\"},{\"attributes\":{},\"id\":\"3045\",\"type\":\"Selection\"},{\"attributes\":{},\"id\":\"3041\",\"type\":\"AllLabels\"},{\"attributes\":{\"margin\":[5,5,5,5],\"name\":\"HSpacer03880\",\"sizing_mode\":\"stretch_width\"},\"id\":\"2999\",\"type\":\"Spacer\"},{\"attributes\":{\"below\":[{\"id\":\"3014\"}],\"center\":[{\"id\":\"3017\"},{\"id\":\"3021\"}],\"height\":300,\"left\":[{\"id\":\"3018\"}],\"margin\":[5,5,5,5],\"min_border_bottom\":10,\"min_border_left\":10,\"min_border_right\":10,\"min_border_top\":10,\"renderers\":[{\"id\":\"3050\"},{\"id\":\"3082\"},{\"id\":\"3115\"}],\"right\":[{\"id\":\"3073\"}],\"sizing_mode\":\"fixed\",\"title\":{\"id\":\"3006\"},\"toolbar\":{\"id\":\"3028\"},\"width\":700,\"x_range\":{\"id\":\"3000\"},\"x_scale\":{\"id\":\"3010\"},\"y_range\":{\"id\":\"3001\"},\"y_scale\":{\"id\":\"3012\"}},\"id\":\"3005\",\"subtype\":\"Figure\",\"type\":\"Plot\"},{\"attributes\":{},\"id\":\"3110\",\"type\":\"Selection\"},{\"attributes\":{\"days\":[1,8,15,22]},\"id\":\"3066\",\"type\":\"DaysTicker\"},{\"attributes\":{\"line_alpha\":0.2,\"line_color\":\"#30a2da\",\"line_width\":2,\"x\":{\"field\":\"Date\"},\"y\":{\"field\":\"value\"}},\"id\":\"3049\",\"type\":\"Line\"},{\"attributes\":{\"end\":1638316800000.0,\"reset_end\":1638316800000.0,\"reset_start\":1467331200000.0,\"start\":1467331200000.0,\"tags\":[[[\"Date\",\"Date\",null]]]},\"id\":\"3000\",\"type\":\"Range1d\"},{\"attributes\":{\"coordinates\":null,\"data_source\":{\"id\":\"3076\"},\"glyph\":{\"id\":\"3079\"},\"group\":null,\"hover_glyph\":null,\"muted_glyph\":{\"id\":\"3081\"},\"nonselection_glyph\":{\"id\":\"3080\"},\"selection_glyph\":{\"id\":\"3108\"},\"view\":{\"id\":\"3083\"}},\"id\":\"3082\",\"type\":\"GlyphRenderer\"},{\"attributes\":{\"click_policy\":\"mute\",\"coordinates\":null,\"group\":null,\"items\":[{\"id\":\"3074\"},{\"id\":\"3107\"},{\"id\":\"3142\"}],\"location\":[0,0],\"title\":\"county_name\"},\"id\":\"3073\",\"type\":\"Legend\"},{\"attributes\":{\"label\":{\"value\":\"Snohomish\"},\"renderers\":[{\"id\":\"3082\"}]},\"id\":\"3107\",\"type\":\"LegendItem\"},{\"attributes\":{\"bottom_units\":\"screen\",\"coordinates\":null,\"fill_alpha\":0.5,\"fill_color\":\"lightgrey\",\"group\":null,\"left_units\":\"screen\",\"level\":\"overlay\",\"line_alpha\":1.0,\"line_color\":\"black\",\"line_dash\":[4,4],\"line_width\":2,\"right_units\":\"screen\",\"syncable\":false,\"top_units\":\"screen\"},\"id\":\"3027\",\"type\":\"BoxAnnotation\"},{\"attributes\":{\"line_alpha\":0.1,\"line_color\":\"#30a2da\",\"line_width\":2,\"x\":{\"field\":\"Date\"},\"y\":{\"field\":\"value\"}},\"id\":\"3048\",\"type\":\"Line\"},{\"attributes\":{\"end\":812452.5,\"reset_end\":812452.5,\"reset_start\":267022.5,\"start\":267022.5,\"tags\":[[[\"value\",\"value\",null]]]},\"id\":\"3001\",\"type\":\"Range1d\"},{\"attributes\":{},\"id\":\"3092\",\"type\":\"UnionRenderers\"},{\"attributes\":{\"days\":[1,4,7,10,13,16,19,22,25,28]},\"id\":\"3065\",\"type\":\"DaysTicker\"},{\"attributes\":{\"source\":{\"id\":\"3076\"}},\"id\":\"3083\",\"type\":\"CDSView\"},{\"attributes\":{\"data\":{\"Date\":{\"__ndarray__\":\"AABAFDxadUIAAIBmNmR1QgAAwLgwbnVCAABApdh3dUIAAID30oF1QgAAAOR6i3VCAABANnWVdUIAAICIb591QgAAgKlyqHVCAADA+2yydUIAAEDoFLx1QgAAgDoPxnVCAAAAJ7fPdUIAAEB5sdl1QgAAgMur43VCAAAAuFPtdUIAAEAKTvd1QgAAwPb1AHZCAAAASfAKdkIAAECb6hR2QgAAQLztHXZCAACADugndkIAAAD7jzF2QgAAQE2KO3ZCAADAOTJFdkIAAACMLE92QgAAQN4mWXZCAADAys5idkIAAAAdyWx2QgAAgAlxdnZCAADAW2uAdkIAAACuZYp2QgAAAM9ok3ZCAABAIWOddkIAAMANC6d2QgAAAGAFsXZCAACATK26dkIAAMCep8R2QgAAAPGhznZCAACA3UnYdkIAAMAvROJ2QgAAQBzs63ZCAACAbub1dkIAAMDA4P92QgAAgEc2CXdCAADAmTATd0IAAECG2Bx3QgAAgNjSJndCAAAAxXowd0IAAEAXdTp3QgAAgGlvRHdCAAAAVhdOd0IAAECoEVh3QgAAwJS5YXdCAAAA57Nrd0IAAEA5rnV3QgAAQFqxfndCAACArKuId0IAAACZU5J3QgAAQOtNnHdCAADA1/Wld0IAAAAq8K93QgAAQHzquXdCAADAaJLDd0IAAAC7jM13QgAAgKc013dC\",\"dtype\":\"float64\",\"order\":\"little\",\"shape\":[66]},\"county_name\":[\"Snohomish\",\"Snohomish\",\"Snohomish\",\"Snohomish\",\"Snohomish\",\"Snohomish\",\"Snohomish\",\"Snohomish\",\"Snohomish\",\"Snohomish\",\"Snohomish\",\"Snohomish\",\"Snohomish\",\"Snohomish\",\"Snohomish\",\"Snohomish\",\"Snohomish\",\"Snohomish\",\"Snohomish\",\"Snohomish\",\"Snohomish\",\"Snohomish\",\"Snohomish\",\"Snohomish\",\"Snohomish\",\"Snohomish\",\"Snohomish\",\"Snohomish\",\"Snohomish\",\"Snohomish\",\"Snohomish\",\"Snohomish\",\"Snohomish\",\"Snohomish\",\"Snohomish\",\"Snohomish\",\"Snohomish\",\"Snohomish\",\"Snohomish\",\"Snohomish\",\"Snohomish\",\"Snohomish\",\"Snohomish\",\"Snohomish\",\"Snohomish\",\"Snohomish\",\"Snohomish\",\"Snohomish\",\"Snohomish\",\"Snohomish\",\"Snohomish\",\"Snohomish\",\"Snohomish\",\"Snohomish\",\"Snohomish\",\"Snohomish\",\"Snohomish\",\"Snohomish\",\"Snohomish\",\"Snohomish\",\"Snohomish\",\"Snohomish\",\"Snohomish\",\"Snohomish\",\"Snohomish\",\"Snohomish\"],\"value\":{\"__ndarray__\":\"AAAAADBiGEEAAAAAfBsYQQAAAABQZRhBAAAAAOxpGEEAAAAA3AUZQQAAAABgVBlBAAAAAEyaGUEAAAAAwCUaQQAAAABAdxtBAAAAAOADHEEAAAAAnusbQQAAAAAsOhxBAAAAAIzkG0EAAAAA3HYbQQAAAABAdxtBAAAAAEwLHEEAAAAAfDocQQAAAADArxxBAAAAAMxDHUEAAAAAspIdQQAAAABAZR5BAAAAAOjGHkEAAAAA/OMfQQAAAADYKyBBAAAAAODrH0EAAAAA3F4fQQAAAAC8IB9BAAAAAHaEHkEAAAAATHweQQAAAAC4gx5BAAAAALD5HkEAAAAAMBUgQZIkSZJEWSBBAAAAAGjcIEEAAAAA4MggQQAAAAB8yCBBAAAAAD6OIEElSZIkgUggQSRJkiTuDSBBAAAAAGksIEEAAAAAliwgQQAAAAAeYyBBAAAAAGORIEEAAAAAfMggQQAAAADh7yBBAAAAAIcqIUEAAAAAYIQhQQAAAAArjCFBAAAAALZ0IUEAAAAA/D0hQQAAAADfyCBBAAAAANChIEEAAAAAfMggQQAAAAARZSFBAAAAADCMIUEAAAAAoJ0iQQAAAABWJCJBAAAAAHoYI0EAAAAAvNUjQQAAAABSbCRBAAAAAGaZJEEAAAAAe8AkQQAAAADEISVBAAAAAFxcJUEAAAAAcBYlQQAAAADGKSVB\",\"dtype\":\"float64\",\"order\":\"little\",\"shape\":[66]}},\"selected\":{\"id\":\"3077\"},\"selection_policy\":{\"id\":\"3092\"}},\"id\":\"3076\",\"type\":\"ColumnDataSource\"},{\"attributes\":{\"coordinates\":null,\"data_source\":{\"id\":\"3044\"},\"glyph\":{\"id\":\"3047\"},\"group\":null,\"hover_glyph\":null,\"muted_glyph\":{\"id\":\"3049\"},\"nonselection_glyph\":{\"id\":\"3048\"},\"selection_glyph\":{\"id\":\"3075\"},\"view\":{\"id\":\"3051\"}},\"id\":\"3050\",\"type\":\"GlyphRenderer\"},{\"attributes\":{\"coordinates\":null,\"data_source\":{\"id\":\"3109\"},\"glyph\":{\"id\":\"3112\"},\"group\":null,\"hover_glyph\":null,\"muted_glyph\":{\"id\":\"3114\"},\"nonselection_glyph\":{\"id\":\"3113\"},\"selection_glyph\":{\"id\":\"3143\"},\"view\":{\"id\":\"3116\"}},\"id\":\"3115\",\"type\":\"GlyphRenderer\"},{\"attributes\":{\"source\":{\"id\":\"3044\"}},\"id\":\"3051\",\"type\":\"CDSView\"},{\"attributes\":{},\"id\":\"3022\",\"type\":\"SaveTool\"},{\"attributes\":{},\"id\":\"3077\",\"type\":\"Selection\"},{\"attributes\":{},\"id\":\"3023\",\"type\":\"PanTool\"},{\"attributes\":{},\"id\":\"3024\",\"type\":\"WheelZoomTool\"},{\"attributes\":{\"tools\":[{\"id\":\"3002\"},{\"id\":\"3022\"},{\"id\":\"3023\"},{\"id\":\"3024\"},{\"id\":\"3025\"},{\"id\":\"3026\"}]},\"id\":\"3028\",\"type\":\"Toolbar\"},{\"attributes\":{\"callback\":null,\"formatters\":{\"@{Date}\":\"datetime\"},\"renderers\":[{\"id\":\"3050\"},{\"id\":\"3082\"},{\"id\":\"3115\"}],\"tags\":[\"hv_created\"],\"tooltips\":[[\"county_name\",\"@{county_name}\"],[\"Date\",\"@{Date}{%F %T}\"],[\"value\",\"@{value}\"]]},\"id\":\"3002\",\"type\":\"HoverTool\"},{\"attributes\":{\"overlay\":{\"id\":\"3027\"}},\"id\":\"3025\",\"type\":\"BoxZoomTool\"},{\"attributes\":{\"line_alpha\":0.2,\"line_color\":\"#fc4f30\",\"line_width\":2,\"x\":{\"field\":\"Date\"},\"y\":{\"field\":\"value\"}},\"id\":\"3081\",\"type\":\"Line\"},{\"attributes\":{\"line_color\":\"#30a2da\",\"line_width\":2,\"x\":{\"field\":\"Date\"},\"y\":{\"field\":\"value\"}},\"id\":\"3075\",\"type\":\"Line\"},{\"attributes\":{\"line_alpha\":0.1,\"line_color\":\"#fc4f30\",\"line_width\":2,\"x\":{\"field\":\"Date\"},\"y\":{\"field\":\"value\"}},\"id\":\"3080\",\"type\":\"Line\"},{\"attributes\":{},\"id\":\"3026\",\"type\":\"ResetTool\"},{\"attributes\":{\"line_color\":\"#fc4f30\",\"line_width\":2,\"x\":{\"field\":\"Date\"},\"y\":{\"field\":\"value\"}},\"id\":\"3079\",\"type\":\"Line\"},{\"attributes\":{},\"id\":\"3019\",\"type\":\"BasicTicker\"},{\"attributes\":{},\"id\":\"3038\",\"type\":\"AllLabels\"},{\"attributes\":{\"line_color\":\"#30a2da\",\"line_width\":2,\"x\":{\"field\":\"Date\"},\"y\":{\"field\":\"value\"}},\"id\":\"3047\",\"type\":\"Line\"},{\"attributes\":{\"months\":[0,6]},\"id\":\"3071\",\"type\":\"MonthsTicker\"},{\"attributes\":{},\"id\":\"3072\",\"type\":\"YearsTicker\"},{\"attributes\":{\"axis\":{\"id\":\"3018\"},\"coordinates\":null,\"dimension\":1,\"grid_line_color\":null,\"group\":null,\"ticker\":null},\"id\":\"3021\",\"type\":\"Grid\"},{\"attributes\":{\"margin\":[5,5,5,5],\"name\":\"HSpacer03881\",\"sizing_mode\":\"stretch_width\"},\"id\":\"3369\",\"type\":\"Spacer\"},{\"attributes\":{\"base\":24,\"mantissas\":[1,2,4,6,8,12],\"max_interval\":43200000.0,\"min_interval\":3600000.0,\"num_minor_ticks\":0},\"id\":\"3063\",\"type\":\"AdaptiveTicker\"}],\"root_ids\":[\"2998\"]},\"title\":\"Bokeh Application\",\"version\":\"2.4.1\"}};\n",
       "    var render_items = [{\"docid\":\"80482db5-e015-4719-822d-30b3600f01bb\",\"root_ids\":[\"2998\"],\"roots\":{\"2998\":\"6d644541-15d4-433f-8beb-e18869af5e55\"}}];\n",
       "    root.Bokeh.embed.embed_items_notebook(docs_json, render_items);\n",
       "  }\n",
       "  if (root.Bokeh !== undefined && root.Bokeh.Panel !== undefined) {\n",
       "    embed_document(root);\n",
       "  } else {\n",
       "    var attempts = 0;\n",
       "    var timer = setInterval(function(root) {\n",
       "      if (root.Bokeh !== undefined && root.Bokeh.Panel !== undefined) {\n",
       "        clearInterval(timer);\n",
       "        embed_document(root);\n",
       "      } else if (document.readyState == \"complete\") {\n",
       "        attempts++;\n",
       "        if (attempts > 200) {\n",
       "          clearInterval(timer);\n",
       "          console.log(\"Bokeh: ERROR: Unable to run BokehJS code because BokehJS library is missing\");\n",
       "        }\n",
       "      }\n",
       "    }, 25, root)\n",
       "  }\n",
       "})(window);</script>"
      ],
      "text/plain": [
       ":NdOverlay   [county_name]\n",
       "   :Curve   [Date]   (value)"
      ]
     },
     "execution_count": 32,
     "metadata": {
      "application/vnd.holoviews_exec.v0+json": {
       "id": "2998"
      }
     },
     "output_type": "execute_result"
    }
   ],
   "source": [
    "#Plot the line graph of the three counties to compare the median listing price\n",
    "h_df.hvplot.line(\n",
    "    xlabel='Date',\n",
    "    ylabel='Median Listing Price',\n",
    "    title='Median Listing Price by Date',\n",
    "    rot=30).opts(yformatter='%.0f')"
   ]
  },
  {
   "cell_type": "code",
   "execution_count": 6,
   "id": "d636e9a8-a35f-4014-9215-155fecd902b4",
   "metadata": {},
   "outputs": [
    {
     "data": {},
     "metadata": {},
     "output_type": "display_data"
    },
    {
     "data": {
      "application/vnd.holoviews_exec.v0+json": "",
      "text/html": [
       "<div id='1157'>\n",
       "\n",
       "\n",
       "\n",
       "\n",
       "\n",
       "  <div class=\"bk-root\" id=\"f04e1bcd-e2c2-45e0-b00d-155cda8b6464\" data-root-id=\"1157\"></div>\n",
       "</div>\n",
       "<script type=\"application/javascript\">(function(root) {\n",
       "  function embed_document(root) {\n",
       "    var docs_json = {\"08f14f09-6dba-4680-8214-8ee45697d684\":{\"defs\":[{\"extends\":null,\"module\":null,\"name\":\"ReactiveHTML1\",\"overrides\":[],\"properties\":[]},{\"extends\":null,\"module\":null,\"name\":\"FlexBox1\",\"overrides\":[],\"properties\":[{\"default\":\"flex-start\",\"kind\":null,\"name\":\"align_content\"},{\"default\":\"flex-start\",\"kind\":null,\"name\":\"align_items\"},{\"default\":\"row\",\"kind\":null,\"name\":\"flex_direction\"},{\"default\":\"wrap\",\"kind\":null,\"name\":\"flex_wrap\"},{\"default\":\"flex-start\",\"kind\":null,\"name\":\"justify_content\"}]},{\"extends\":null,\"module\":null,\"name\":\"TemplateActions1\",\"overrides\":[],\"properties\":[{\"default\":0,\"kind\":null,\"name\":\"open_modal\"},{\"default\":0,\"kind\":null,\"name\":\"close_modal\"}]},{\"extends\":null,\"module\":null,\"name\":\"MaterialTemplateActions1\",\"overrides\":[],\"properties\":[{\"default\":0,\"kind\":null,\"name\":\"open_modal\"},{\"default\":0,\"kind\":null,\"name\":\"close_modal\"}]}],\"roots\":{\"references\":[{\"attributes\":{\"margin\":[5,5,5,5],\"name\":\"VSpacer01931\",\"sizing_mode\":\"stretch_height\"},\"id\":\"1233\",\"type\":\"Spacer\"},{\"attributes\":{\"fill_alpha\":{\"value\":0.1},\"fill_color\":{\"value\":\"#30a2da\"},\"hatch_alpha\":{\"value\":0.1},\"hatch_color\":{\"value\":\"#30a2da\"},\"line_alpha\":{\"value\":0.1},\"top\":{\"field\":\"average_listing_price\"},\"width\":{\"value\":0.8},\"x\":{\"field\":\"Date\"}},\"id\":\"1195\",\"type\":\"VBar\"},{\"attributes\":{\"fill_alpha\":{\"value\":0.2},\"fill_color\":{\"value\":\"#30a2da\"},\"hatch_alpha\":{\"value\":0.2},\"hatch_color\":{\"value\":\"#30a2da\"},\"line_alpha\":{\"value\":0.2},\"top\":{\"field\":\"average_listing_price\"},\"width\":{\"value\":0.8},\"x\":{\"field\":\"Date\"}},\"id\":\"1196\",\"type\":\"VBar\"},{\"attributes\":{},\"id\":\"1169\",\"type\":\"LinearScale\"},{\"attributes\":{\"data\":{\"Date\":[\"2016-07-01 00:00:00\",\"2016-08-01 00:00:00\",\"2016-09-01 00:00:00\",\"2016-10-01 00:00:00\",\"2016-11-01 00:00:00\",\"2016-12-01 00:00:00\",\"2017-01-01 00:00:00\",\"2017-02-01 00:00:00\",\"2017-03-01 00:00:00\",\"2017-04-01 00:00:00\",\"2017-05-01 00:00:00\",\"2017-06-01 00:00:00\",\"2017-07-01 00:00:00\",\"2017-08-01 00:00:00\",\"2017-09-01 00:00:00\",\"2017-10-01 00:00:00\",\"2017-11-01 00:00:00\",\"2017-12-01 00:00:00\",\"2018-01-01 00:00:00\",\"2018-02-01 00:00:00\",\"2018-03-01 00:00:00\",\"2018-04-01 00:00:00\",\"2018-05-01 00:00:00\",\"2018-06-01 00:00:00\",\"2018-07-01 00:00:00\",\"2018-08-01 00:00:00\",\"2018-09-01 00:00:00\",\"2018-10-01 00:00:00\",\"2018-11-01 00:00:00\",\"2018-12-01 00:00:00\",\"2019-01-01 00:00:00\",\"2019-02-01 00:00:00\",\"2019-03-01 00:00:00\",\"2019-04-01 00:00:00\",\"2019-05-01 00:00:00\",\"2019-06-01 00:00:00\",\"2019-07-01 00:00:00\",\"2019-08-01 00:00:00\",\"2019-09-01 00:00:00\",\"2019-10-01 00:00:00\",\"2019-11-01 00:00:00\",\"2019-12-01 00:00:00\",\"2020-01-01 00:00:00\",\"2020-02-01 00:00:00\",\"2020-03-01 00:00:00\",\"2020-04-01 00:00:00\",\"2020-05-01 00:00:00\",\"2020-06-01 00:00:00\",\"2020-07-01 00:00:00\",\"2020-08-01 00:00:00\",\"2020-09-01 00:00:00\",\"2020-10-01 00:00:00\",\"2020-11-01 00:00:00\",\"2020-12-01 00:00:00\",\"2021-01-01 00:00:00\",\"2021-02-01 00:00:00\",\"2021-03-01 00:00:00\",\"2021-04-01 00:00:00\",\"2021-05-01 00:00:00\",\"2021-06-01 00:00:00\",\"2021-07-01 00:00:00\",\"2021-08-01 00:00:00\",\"2021-09-01 00:00:00\",\"2021-10-01 00:00:00\",\"2021-11-01 00:00:00\",\"2021-12-01 00:00:00\"],\"average_listing_price\":{\"__ndarray__\":\"pze96b0XAkGwgZdO9w0CQYQ0SIP4MANBAAAAADAABEGMtGMFM+IDQfJZN5ia8ANBEGa7EJEpA0EaVtA1qSgBQcdxHEfYfQJBvuVbvpWbBEFsKK+h63kFQXTRRRfT6AVBMzMzM3NqB0G4vywNqgIIQe/u7u4GYghBBrRpQFM9CEEU2ktoOfcHQTuxEzsV3QhBpA+Ec4QlCUG0N3uzY80HQQAAAABU7wZBH4PzMehJBkE22WSTiYQHQXMcx3GsAglBkoVe6ZmmCEEIlnmyRPoLQQR5SpCPowxBKH3SJ4FDDEHTD8HUweILQYmIiIjwWAxBBdCFie5wC0EHIBVlJ1oKQfaOqYG9hAtBaWDvmEcIDEFECVhEq7ILQd70pjdhawpBb8iusJbJCkEBEbTjp0wKQQblAzEABQlBdug329XgCEEAAAAAGFAKQaKtBs9xsQtB6t6AMuGYDEG/5Vu+pQoNQRzrJAwLpA5BMzMzMxmFDUFmZmZmPnQKQZqZmZnhhQtBlKMJsj53C0GE5Z5GxJALQd0ISGmFNg5BYSd2YlcTDUEa/jbF7pQKQdgOzLVdRQtBAAAAAP3KDEF605ve+hwOQdakY+ziGQ1BIKXdCBTHDUFDFrKQ/UoRQZCrdeEgTRNBHtRBnV/WGUFxfJl3LFQYQcjw4jxtyxZB5TWU177FF0H9EDda1h8XQbeSSbdTyRdB\",\"dtype\":\"float64\",\"order\":\"little\",\"shape\":[66]}},\"selected\":{\"id\":\"1192\"},\"selection_policy\":{\"id\":\"1219\"}},\"id\":\"1191\",\"type\":\"ColumnDataSource\"},{\"attributes\":{\"client_comm_id\":\"9161d8ee0f934aa1a9925c99412b4c76\",\"comm_id\":\"17990f25a0f94b948fc5e62111c587fb\",\"plot_id\":\"1157\"},\"id\":\"1264\",\"type\":\"panel.models.comm_manager.CommManager\"},{\"attributes\":{\"children\":[{\"id\":\"1233\"},{\"id\":\"1234\"},{\"id\":\"1236\"}],\"margin\":[0,0,0,0],\"name\":\"Column01933\"},\"id\":\"1232\",\"type\":\"Column\"},{\"attributes\":{\"coordinates\":null,\"group\":null,\"text\":\"Average Listing Price by Date\",\"text_color\":\"black\",\"text_font_size\":\"12pt\"},\"id\":\"1163\",\"type\":\"Title\"},{\"attributes\":{\"coordinates\":null,\"data_source\":{\"id\":\"1191\"},\"glyph\":{\"id\":\"1194\"},\"group\":null,\"hover_glyph\":null,\"muted_glyph\":{\"id\":\"1196\"},\"nonselection_glyph\":{\"id\":\"1195\"},\"selection_glyph\":{\"id\":\"1199\"},\"view\":{\"id\":\"1198\"}},\"id\":\"1197\",\"type\":\"GlyphRenderer\"},{\"attributes\":{},\"id\":\"1175\",\"type\":\"BasicTicker\"},{\"attributes\":{\"overlay\":{\"id\":\"1183\"}},\"id\":\"1181\",\"type\":\"BoxZoomTool\"},{\"attributes\":{\"children\":[{\"id\":\"1158\"},{\"id\":\"1162\"},{\"id\":\"1231\"},{\"id\":\"1232\"}],\"margin\":[0,0,0,0],\"name\":\"Row01925\"},\"id\":\"1157\",\"type\":\"Row\"},{\"attributes\":{},\"id\":\"1167\",\"type\":\"CategoricalScale\"},{\"attributes\":{\"bottom\":{\"value\":0},\"fill_alpha\":{\"value\":1.0},\"fill_color\":{\"value\":\"#30a2da\"},\"hatch_alpha\":{\"value\":1.0},\"hatch_color\":{\"value\":\"#30a2da\"},\"hatch_scale\":{\"value\":12.0},\"hatch_weight\":{\"value\":1.0},\"line_alpha\":{\"value\":1.0},\"line_cap\":{\"value\":\"butt\"},\"line_color\":{\"value\":\"black\"},\"line_dash\":{\"value\":[]},\"line_dash_offset\":{\"value\":0},\"line_join\":{\"value\":\"bevel\"},\"line_width\":{\"value\":1},\"top\":{\"field\":\"average_listing_price\"},\"width\":{\"value\":0.8},\"x\":{\"field\":\"Date\"}},\"id\":\"1199\",\"type\":\"VBar\"},{\"attributes\":{\"months\":[\"%Y-%m\"]},\"id\":\"1156\",\"type\":\"DatetimeTickFormatter\"},{\"attributes\":{\"axis_label\":\"average_listing_price\",\"coordinates\":null,\"formatter\":{\"id\":\"1156\"},\"group\":null,\"major_label_policy\":{\"id\":\"1205\"},\"ticker\":{\"id\":\"1175\"}},\"id\":\"1174\",\"type\":\"LinearAxis\"},{\"attributes\":{\"margin\":[5,5,5,5],\"name\":\"HSpacer01934\",\"sizing_mode\":\"stretch_width\"},\"id\":\"1158\",\"type\":\"Spacer\"},{\"attributes\":{},\"id\":\"1201\",\"type\":\"CategoricalTickFormatter\"},{\"attributes\":{\"margin\":[5,5,5,5],\"name\":\"HSpacer01935\",\"sizing_mode\":\"stretch_width\"},\"id\":\"1231\",\"type\":\"Spacer\"},{\"attributes\":{},\"id\":\"1182\",\"type\":\"ResetTool\"},{\"attributes\":{\"callback\":null,\"renderers\":[{\"id\":\"1197\"}],\"tags\":[\"hv_created\"],\"tooltips\":[[\"Date\",\"@{Date}\"],[\"average_listing_price\",\"@{average_listing_price}\"]]},\"id\":\"1161\",\"type\":\"HoverTool\"},{\"attributes\":{},\"id\":\"1180\",\"type\":\"WheelZoomTool\"},{\"attributes\":{},\"id\":\"1172\",\"type\":\"CategoricalTicker\"},{\"attributes\":{\"children\":[{\"id\":\"1235\"}],\"css_classes\":[\"panel-widget-box\"],\"margin\":[5,5,5,5],\"name\":\"WidgetBox01926\"},\"id\":\"1234\",\"type\":\"Column\"},{\"attributes\":{\"factors\":[\"2016-07-01 00:00:00\",\"2016-08-01 00:00:00\",\"2016-09-01 00:00:00\",\"2016-10-01 00:00:00\",\"2016-11-01 00:00:00\",\"2016-12-01 00:00:00\",\"2017-01-01 00:00:00\",\"2017-02-01 00:00:00\",\"2017-03-01 00:00:00\",\"2017-04-01 00:00:00\",\"2017-05-01 00:00:00\",\"2017-06-01 00:00:00\",\"2017-07-01 00:00:00\",\"2017-08-01 00:00:00\",\"2017-09-01 00:00:00\",\"2017-10-01 00:00:00\",\"2017-11-01 00:00:00\",\"2017-12-01 00:00:00\",\"2018-01-01 00:00:00\",\"2018-02-01 00:00:00\",\"2018-03-01 00:00:00\",\"2018-04-01 00:00:00\",\"2018-05-01 00:00:00\",\"2018-06-01 00:00:00\",\"2018-07-01 00:00:00\",\"2018-08-01 00:00:00\",\"2018-09-01 00:00:00\",\"2018-10-01 00:00:00\",\"2018-11-01 00:00:00\",\"2018-12-01 00:00:00\",\"2019-01-01 00:00:00\",\"2019-02-01 00:00:00\",\"2019-03-01 00:00:00\",\"2019-04-01 00:00:00\",\"2019-05-01 00:00:00\",\"2019-06-01 00:00:00\",\"2019-07-01 00:00:00\",\"2019-08-01 00:00:00\",\"2019-09-01 00:00:00\",\"2019-10-01 00:00:00\",\"2019-11-01 00:00:00\",\"2019-12-01 00:00:00\",\"2020-01-01 00:00:00\",\"2020-02-01 00:00:00\",\"2020-03-01 00:00:00\",\"2020-04-01 00:00:00\",\"2020-05-01 00:00:00\",\"2020-06-01 00:00:00\",\"2020-07-01 00:00:00\",\"2020-08-01 00:00:00\",\"2020-09-01 00:00:00\",\"2020-10-01 00:00:00\",\"2020-11-01 00:00:00\",\"2020-12-01 00:00:00\",\"2021-01-01 00:00:00\",\"2021-02-01 00:00:00\",\"2021-03-01 00:00:00\",\"2021-04-01 00:00:00\",\"2021-05-01 00:00:00\",\"2021-06-01 00:00:00\",\"2021-07-01 00:00:00\",\"2021-08-01 00:00:00\",\"2021-09-01 00:00:00\",\"2021-10-01 00:00:00\",\"2021-11-01 00:00:00\",\"2021-12-01 00:00:00\"],\"tags\":[[[\"Date\",\"Date\",null]]]},\"id\":\"1159\",\"type\":\"FactorRange\"},{\"attributes\":{\"axis\":{\"id\":\"1171\"},\"coordinates\":null,\"grid_line_color\":null,\"group\":null,\"ticker\":null},\"id\":\"1173\",\"type\":\"Grid\"},{\"attributes\":{},\"id\":\"1202\",\"type\":\"AllLabels\"},{\"attributes\":{\"axis\":{\"id\":\"1174\"},\"coordinates\":null,\"dimension\":1,\"grid_line_color\":null,\"group\":null,\"ticker\":null},\"id\":\"1177\",\"type\":\"Grid\"},{\"attributes\":{},\"id\":\"1179\",\"type\":\"PanTool\"},{\"attributes\":{\"margin\":[5,5,5,5],\"name\":\"VSpacer01932\",\"sizing_mode\":\"stretch_height\"},\"id\":\"1236\",\"type\":\"Spacer\"},{\"attributes\":{},\"id\":\"1205\",\"type\":\"AllLabels\"},{\"attributes\":{\"margin\":[20,20,20,20],\"min_width\":250,\"options\":[\"Adams\",\"Asotin\",\"Benton\",\"Chelan\",\"Clallam\",\"Clark\",\"Columbia\",\"Cowlitz\",\"Douglas\",\"Ferry\",\"Franklin\",\"Garfield\",\"Grant\",\"Grays Harbor\",\"Island\",\"Jefferson\",\"King\",\"Kitsap\",\"Kittitas\",\"Klickitat\",\"Lewis\",\"Lincoln\",\"Mason\",\"Okanogan\",\"Pacific\",\"Pend Oreille\",\"Pierce\",\"San Juan\",\"Skagit\",\"Skamania\",\"Snohomish\",\"Spokane\",\"Stevens\",\"Thurston\",\"Wahkiakum\",\"Walla Walla\",\"Whatcom\",\"Whitman\",\"Yakima\"],\"title\":\"county_name\",\"value\":\"Adams\",\"width\":250},\"id\":\"1235\",\"type\":\"Select\"},{\"attributes\":{\"source\":{\"id\":\"1191\"}},\"id\":\"1198\",\"type\":\"CDSView\"},{\"attributes\":{\"fill_color\":{\"value\":\"#30a2da\"},\"hatch_color\":{\"value\":\"#30a2da\"},\"top\":{\"field\":\"average_listing_price\"},\"width\":{\"value\":0.8},\"x\":{\"field\":\"Date\"}},\"id\":\"1194\",\"type\":\"VBar\"},{\"attributes\":{\"bottom_units\":\"screen\",\"coordinates\":null,\"fill_alpha\":0.5,\"fill_color\":\"lightgrey\",\"group\":null,\"left_units\":\"screen\",\"level\":\"overlay\",\"line_alpha\":1.0,\"line_color\":\"black\",\"line_dash\":[4,4],\"line_width\":2,\"right_units\":\"screen\",\"syncable\":false,\"top_units\":\"screen\"},\"id\":\"1183\",\"type\":\"BoxAnnotation\"},{\"attributes\":{\"end\":451595.37880094384,\"reset_end\":451595.37880094384,\"reset_start\":0.0,\"tags\":[[[\"average_listing_price\",\"average_listing_price\",null]]]},\"id\":\"1160\",\"type\":\"Range1d\"},{\"attributes\":{\"tools\":[{\"id\":\"1161\"},{\"id\":\"1178\"},{\"id\":\"1179\"},{\"id\":\"1180\"},{\"id\":\"1181\"},{\"id\":\"1182\"}]},\"id\":\"1184\",\"type\":\"Toolbar\"},{\"attributes\":{},\"id\":\"1219\",\"type\":\"UnionRenderers\"},{\"attributes\":{\"axis_label\":\"Date\",\"coordinates\":null,\"formatter\":{\"id\":\"1201\"},\"group\":null,\"major_label_orientation\":1.5707963267948966,\"major_label_policy\":{\"id\":\"1202\"},\"ticker\":{\"id\":\"1172\"}},\"id\":\"1171\",\"type\":\"CategoricalAxis\"},{\"attributes\":{},\"id\":\"1178\",\"type\":\"SaveTool\"},{\"attributes\":{\"below\":[{\"id\":\"1171\"}],\"center\":[{\"id\":\"1173\"},{\"id\":\"1177\"}],\"height\":300,\"left\":[{\"id\":\"1174\"}],\"margin\":[5,5,5,5],\"min_border_bottom\":10,\"min_border_left\":10,\"min_border_right\":10,\"min_border_top\":10,\"renderers\":[{\"id\":\"1197\"}],\"sizing_mode\":\"fixed\",\"title\":{\"id\":\"1163\"},\"toolbar\":{\"id\":\"1184\"},\"width\":700,\"x_range\":{\"id\":\"1159\"},\"x_scale\":{\"id\":\"1167\"},\"y_range\":{\"id\":\"1160\"},\"y_scale\":{\"id\":\"1169\"}},\"id\":\"1162\",\"subtype\":\"Figure\",\"type\":\"Plot\"},{\"attributes\":{},\"id\":\"1192\",\"type\":\"Selection\"}],\"root_ids\":[\"1157\",\"1264\"]},\"title\":\"Bokeh Application\",\"version\":\"2.4.1\"}};\n",
       "    var render_items = [{\"docid\":\"08f14f09-6dba-4680-8214-8ee45697d684\",\"root_ids\":[\"1157\"],\"roots\":{\"1157\":\"f04e1bcd-e2c2-45e0-b00d-155cda8b6464\"}}];\n",
       "    root.Bokeh.embed.embed_items_notebook(docs_json, render_items);\n",
       "  }\n",
       "  if (root.Bokeh !== undefined && root.Bokeh.Panel !== undefined) {\n",
       "    embed_document(root);\n",
       "  } else {\n",
       "    var attempts = 0;\n",
       "    var timer = setInterval(function(root) {\n",
       "      if (root.Bokeh !== undefined && root.Bokeh.Panel !== undefined) {\n",
       "        clearInterval(timer);\n",
       "        embed_document(root);\n",
       "      } else if (document.readyState == \"complete\") {\n",
       "        attempts++;\n",
       "        if (attempts > 200) {\n",
       "          clearInterval(timer);\n",
       "          console.log(\"Bokeh: ERROR: Unable to run BokehJS code because BokehJS library is missing\");\n",
       "        }\n",
       "      }\n",
       "    }, 25, root)\n",
       "  }\n",
       "})(window);</script>"
      ],
      "text/plain": [
       ":DynamicMap   [county_name]\n",
       "   :Bars   [Date]   (average_listing_price)"
      ]
     },
     "execution_count": 6,
     "metadata": {
      "application/vnd.holoviews_exec.v0+json": {
       "id": "1157"
      }
     },
     "output_type": "execute_result"
    }
   ],
   "source": [
    "#Create a bar plot of the average listing price by date grouped by the county\n",
    "# formatter = DatetimeTickFormatter(months='%b %Y')\n",
    "formatter = DatetimeTickFormatter(months='%Y-%m')\n",
    "\n",
    "wa_house_listing_county_df.hvplot.bar(\n",
    "    x='Date',\n",
    "    y='average_listing_price',\n",
    "    groupby='county_name',\n",
    "    title='Average Listing Price by Date',\n",
    "    rot=90).opts(yformatter=formatter)"
   ]
  },
  {
   "cell_type": "code",
   "execution_count": 7,
   "id": "a1d077be-aa39-49ac-8add-ada580a5de31",
   "metadata": {},
   "outputs": [
    {
     "data": {},
     "metadata": {},
     "output_type": "display_data"
    },
    {
     "data": {
      "application/vnd.holoviews_exec.v0+json": "",
      "text/html": [
       "<div id='1310'>\n",
       "\n",
       "\n",
       "\n",
       "\n",
       "\n",
       "  <div class=\"bk-root\" id=\"84ab5b72-bab9-4e8c-889f-61c1cec099d9\" data-root-id=\"1310\"></div>\n",
       "</div>\n",
       "<script type=\"application/javascript\">(function(root) {\n",
       "  function embed_document(root) {\n",
       "    var docs_json = {\"1d423e3f-dda9-4551-ab49-76bacf76ea21\":{\"defs\":[{\"extends\":null,\"module\":null,\"name\":\"ReactiveHTML1\",\"overrides\":[],\"properties\":[]},{\"extends\":null,\"module\":null,\"name\":\"FlexBox1\",\"overrides\":[],\"properties\":[{\"default\":\"flex-start\",\"kind\":null,\"name\":\"align_content\"},{\"default\":\"flex-start\",\"kind\":null,\"name\":\"align_items\"},{\"default\":\"row\",\"kind\":null,\"name\":\"flex_direction\"},{\"default\":\"wrap\",\"kind\":null,\"name\":\"flex_wrap\"},{\"default\":\"flex-start\",\"kind\":null,\"name\":\"justify_content\"}]},{\"extends\":null,\"module\":null,\"name\":\"TemplateActions1\",\"overrides\":[],\"properties\":[{\"default\":0,\"kind\":null,\"name\":\"open_modal\"},{\"default\":0,\"kind\":null,\"name\":\"close_modal\"}]},{\"extends\":null,\"module\":null,\"name\":\"MaterialTemplateActions1\",\"overrides\":[],\"properties\":[{\"default\":0,\"kind\":null,\"name\":\"open_modal\"},{\"default\":0,\"kind\":null,\"name\":\"close_modal\"}]}],\"roots\":{\"references\":[{\"attributes\":{\"end\":1233101.3491638794,\"reset_end\":1233101.3491638794,\"reset_start\":0.0,\"tags\":[[[\"average_listing_price\",\"average_listing_price\",null]]]},\"id\":\"1313\",\"type\":\"Range1d\"},{\"attributes\":{\"below\":[{\"id\":\"1324\"}],\"center\":[{\"id\":\"1326\"},{\"id\":\"1330\"}],\"height\":300,\"left\":[{\"id\":\"1327\"}],\"margin\":[5,5,5,5],\"min_border_bottom\":10,\"min_border_left\":10,\"min_border_right\":10,\"min_border_top\":10,\"renderers\":[{\"id\":\"1350\"}],\"sizing_mode\":\"fixed\",\"title\":{\"id\":\"1316\"},\"toolbar\":{\"id\":\"1337\"},\"width\":700,\"x_range\":{\"id\":\"1312\"},\"x_scale\":{\"id\":\"1320\"},\"y_range\":{\"id\":\"1313\"},\"y_scale\":{\"id\":\"1322\"}},\"id\":\"1315\",\"subtype\":\"Figure\",\"type\":\"Plot\"},{\"attributes\":{},\"id\":\"1320\",\"type\":\"CategoricalScale\"},{\"attributes\":{\"margin\":[5,5,5,5],\"name\":\"VSpacer02243\",\"sizing_mode\":\"stretch_height\"},\"id\":\"1388\",\"type\":\"Spacer\"},{\"attributes\":{\"coordinates\":null,\"data_source\":{\"id\":\"1344\"},\"glyph\":{\"id\":\"1347\"},\"group\":null,\"hover_glyph\":null,\"muted_glyph\":{\"id\":\"1349\"},\"nonselection_glyph\":{\"id\":\"1348\"},\"selection_glyph\":{\"id\":\"1352\"},\"view\":{\"id\":\"1351\"}},\"id\":\"1350\",\"type\":\"GlyphRenderer\"},{\"attributes\":{},\"id\":\"1328\",\"type\":\"BasicTicker\"},{\"attributes\":{\"margin\":[5,5,5,5],\"name\":\"HSpacer02247\",\"sizing_mode\":\"stretch_width\"},\"id\":\"1386\",\"type\":\"Spacer\"},{\"attributes\":{\"format\":\"%.0f\"},\"id\":\"1353\",\"type\":\"PrintfTickFormatter\"},{\"attributes\":{},\"id\":\"1332\",\"type\":\"PanTool\"},{\"attributes\":{\"children\":[{\"id\":\"1391\"},{\"id\":\"1392\"}],\"margin\":[0,0,0,0],\"min_width\":290,\"name\":\"Column02240\",\"width\":290},\"id\":\"1390\",\"type\":\"Column\"},{\"attributes\":{\"axis\":{\"id\":\"1324\"},\"coordinates\":null,\"grid_line_color\":null,\"group\":null,\"ticker\":null},\"id\":\"1326\",\"type\":\"Grid\"},{\"attributes\":{},\"id\":\"1335\",\"type\":\"ResetTool\"},{\"attributes\":{\"coordinates\":null,\"group\":null,\"text\":\"Average Listing Price by County\",\"text_color\":\"black\",\"text_font_size\":\"12pt\"},\"id\":\"1316\",\"type\":\"Title\"},{\"attributes\":{\"callback\":null,\"renderers\":[{\"id\":\"1350\"}],\"tags\":[\"hv_created\"],\"tooltips\":[[\"county_name\",\"@{county_name}\"],[\"average_listing_price\",\"@{average_listing_price}\"]]},\"id\":\"1314\",\"type\":\"HoverTool\"},{\"attributes\":{\"overlay\":{\"id\":\"1336\"}},\"id\":\"1334\",\"type\":\"BoxZoomTool\"},{\"attributes\":{},\"id\":\"1374\",\"type\":\"UnionRenderers\"},{\"attributes\":{\"args\":{\"bidirectional\":false,\"properties\":{},\"source\":{\"id\":\"1392\"},\"target\":{\"id\":\"1391\"}},\"code\":\"try { \\n    var labels = ['Date: <b>2016-07-01 00:00:00</b>', 'Date: <b>2016-08-01 00:00:00</b>', 'Date: <b>2016-09-01 00:00:00</b>', 'Date: <b>2016-10-01 00:00:00</b>', 'Date: <b>2016-11-01 00:00:00</b>', 'Date: <b>2016-12-01 00:00:00</b>', 'Date: <b>2017-01-01 00:00:00</b>', 'Date: <b>2017-02-01 00:00:00</b>', 'Date: <b>2017-03-01 00:00:00</b>', 'Date: <b>2017-04-01 00:00:00</b>', 'Date: <b>2017-05-01 00:00:00</b>', 'Date: <b>2017-06-01 00:00:00</b>', 'Date: <b>2017-07-01 00:00:00</b>', 'Date: <b>2017-08-01 00:00:00</b>', 'Date: <b>2017-09-01 00:00:00</b>', 'Date: <b>2017-10-01 00:00:00</b>', 'Date: <b>2017-11-01 00:00:00</b>', 'Date: <b>2017-12-01 00:00:00</b>', 'Date: <b>2018-01-01 00:00:00</b>', 'Date: <b>2018-02-01 00:00:00</b>', 'Date: <b>2018-03-01 00:00:00</b>', 'Date: <b>2018-04-01 00:00:00</b>', 'Date: <b>2018-05-01 00:00:00</b>', 'Date: <b>2018-06-01 00:00:00</b>', 'Date: <b>2018-07-01 00:00:00</b>', 'Date: <b>2018-08-01 00:00:00</b>', 'Date: <b>2018-09-01 00:00:00</b>', 'Date: <b>2018-10-01 00:00:00</b>', 'Date: <b>2018-11-01 00:00:00</b>', 'Date: <b>2018-12-01 00:00:00</b>', 'Date: <b>2019-01-01 00:00:00</b>', 'Date: <b>2019-02-01 00:00:00</b>', 'Date: <b>2019-03-01 00:00:00</b>', 'Date: <b>2019-04-01 00:00:00</b>', 'Date: <b>2019-05-01 00:00:00</b>', 'Date: <b>2019-06-01 00:00:00</b>', 'Date: <b>2019-07-01 00:00:00</b>', 'Date: <b>2019-08-01 00:00:00</b>', 'Date: <b>2019-09-01 00:00:00</b>', 'Date: <b>2019-10-01 00:00:00</b>', 'Date: <b>2019-11-01 00:00:00</b>', 'Date: <b>2019-12-01 00:00:00</b>', 'Date: <b>2020-01-01 00:00:00</b>', 'Date: <b>2020-02-01 00:00:00</b>', 'Date: <b>2020-03-01 00:00:00</b>', 'Date: <b>2020-04-01 00:00:00</b>', 'Date: <b>2020-05-01 00:00:00</b>', 'Date: <b>2020-06-01 00:00:00</b>', 'Date: <b>2020-07-01 00:00:00</b>', 'Date: <b>2020-08-01 00:00:00</b>', 'Date: <b>2020-09-01 00:00:00</b>', 'Date: <b>2020-10-01 00:00:00</b>', 'Date: <b>2020-11-01 00:00:00</b>', 'Date: <b>2020-12-01 00:00:00</b>', 'Date: <b>2021-01-01 00:00:00</b>', 'Date: <b>2021-02-01 00:00:00</b>', 'Date: <b>2021-03-01 00:00:00</b>', 'Date: <b>2021-04-01 00:00:00</b>', 'Date: <b>2021-05-01 00:00:00</b>', 'Date: <b>2021-06-01 00:00:00</b>', 'Date: <b>2021-07-01 00:00:00</b>', 'Date: <b>2021-08-01 00:00:00</b>', 'Date: <b>2021-09-01 00:00:00</b>', 'Date: <b>2021-10-01 00:00:00</b>', 'Date: <b>2021-11-01 00:00:00</b>', 'Date: <b>2021-12-01 00:00:00</b>']\\n    target.text = labels[source.value]\\n     } catch(err) { console.log(err) }\",\"tags\":[140370680827856]},\"id\":\"1403\",\"type\":\"CustomJS\"},{\"attributes\":{\"children\":[{\"id\":\"1388\"},{\"id\":\"1389\"},{\"id\":\"1393\"}],\"margin\":[0,0,0,0],\"name\":\"Column02245\"},\"id\":\"1387\",\"type\":\"Column\"},{\"attributes\":{},\"id\":\"1325\",\"type\":\"CategoricalTicker\"},{\"attributes\":{\"axis\":{\"id\":\"1327\"},\"coordinates\":null,\"dimension\":1,\"grid_line_color\":null,\"group\":null,\"ticker\":null},\"id\":\"1330\",\"type\":\"Grid\"},{\"attributes\":{\"fill_color\":{\"value\":\"#30a2da\"},\"hatch_color\":{\"value\":\"#30a2da\"},\"top\":{\"field\":\"average_listing_price\"},\"width\":{\"value\":0.8},\"x\":{\"field\":\"county_name\"}},\"id\":\"1347\",\"type\":\"VBar\"},{\"attributes\":{},\"id\":\"1333\",\"type\":\"WheelZoomTool\"},{\"attributes\":{\"bottom_units\":\"screen\",\"coordinates\":null,\"fill_alpha\":0.5,\"fill_color\":\"lightgrey\",\"group\":null,\"left_units\":\"screen\",\"level\":\"overlay\",\"line_alpha\":1.0,\"line_color\":\"black\",\"line_dash\":[4,4],\"line_width\":2,\"right_units\":\"screen\",\"syncable\":false,\"top_units\":\"screen\"},\"id\":\"1336\",\"type\":\"BoxAnnotation\"},{\"attributes\":{\"children\":[{\"id\":\"1390\"}],\"css_classes\":[\"panel-widget-box\"],\"margin\":[5,5,5,5],\"name\":\"WidgetBox02231\"},\"id\":\"1389\",\"type\":\"Column\"},{\"attributes\":{\"data\":{\"average_listing_price\":{\"__ndarray__\":\"pze96b0XAkHdyI3cxI0NQYYjbSKOwRNBf2YDdyccIEHNzMzMU8YYQTH1L1uPmx1BiYiIiI7mCUE6CcSF83MSQeXsFn4VIhlBAAAA4G+yC0EcRI/vSlQRQauqqqqqxARByKuBwqu+EEEOZ6dlduAKQVVVVVXddyJBwRAaDP23H0EPDw/rJEMrQdj+I9v7cR9BPusGU/auIUF2u91uT48dQThQw5jjYhBBfGQCvfuODEHbtm3bcLwRQStK4yMbexNBybOM6IctDkE+mpAXbj8XQek+ninaWhpBYid2YotPMUGiRntesiMdQVVVVVXVzCBB+SNMg0vaHUGr5+EkpIUTQTi96U255xJB55xzjvLLFkGE5Z5GWHkTQW9605tvqhRBObTIdgQqH0HHtAkotaIMQc1d8FcRhQ9B\",\"dtype\":\"float64\",\"order\":\"little\",\"shape\":[39]},\"county_name\":[\"Adams\",\"Asotin\",\"Benton\",\"Chelan\",\"Clallam\",\"Clark\",\"Columbia\",\"Cowlitz\",\"Douglas\",\"Ferry\",\"Franklin\",\"Garfield\",\"Grant\",\"Grays Harbor\",\"Island\",\"Jefferson\",\"King\",\"Kitsap\",\"Kittitas\",\"Klickitat\",\"Lewis\",\"Lincoln\",\"Mason\",\"Okanogan\",\"Pacific\",\"Pend Oreille\",\"Pierce\",\"San Juan\",\"Skagit\",\"Skamania\",\"Snohomish\",\"Spokane\",\"Stevens\",\"Thurston\",\"Wahkiakum\",\"Walla Walla\",\"Whatcom\",\"Whitman\",\"Yakima\"]},\"selected\":{\"id\":\"1345\"},\"selection_policy\":{\"id\":\"1374\"}},\"id\":\"1344\",\"type\":\"ColumnDataSource\"},{\"attributes\":{},\"id\":\"1331\",\"type\":\"SaveTool\"},{\"attributes\":{\"client_comm_id\":\"a1e4dd5f1e7d446a9953c8b2cafbca5e\",\"comm_id\":\"016abec3774346e2ab6b2b08d7a945af\",\"plot_id\":\"1310\"},\"id\":\"1422\",\"type\":\"panel.models.comm_manager.CommManager\"},{\"attributes\":{\"tools\":[{\"id\":\"1314\"},{\"id\":\"1331\"},{\"id\":\"1332\"},{\"id\":\"1333\"},{\"id\":\"1334\"},{\"id\":\"1335\"}]},\"id\":\"1337\",\"type\":\"Toolbar\"},{\"attributes\":{\"margin\":[5,5,5,5],\"name\":\"VSpacer02244\",\"sizing_mode\":\"stretch_height\"},\"id\":\"1393\",\"type\":\"Spacer\"},{\"attributes\":{\"factors\":[\"Adams\",\"Asotin\",\"Benton\",\"Chelan\",\"Clallam\",\"Clark\",\"Columbia\",\"Cowlitz\",\"Douglas\",\"Ferry\",\"Franklin\",\"Garfield\",\"Grant\",\"Grays Harbor\",\"Island\",\"Jefferson\",\"King\",\"Kitsap\",\"Kittitas\",\"Klickitat\",\"Lewis\",\"Lincoln\",\"Mason\",\"Okanogan\",\"Pacific\",\"Pend Oreille\",\"Pierce\",\"San Juan\",\"Skagit\",\"Skamania\",\"Snohomish\",\"Spokane\",\"Stevens\",\"Thurston\",\"Wahkiakum\",\"Walla Walla\",\"Whatcom\",\"Whitman\",\"Yakima\"],\"tags\":[[[\"county_name\",\"county_name\",null]]]},\"id\":\"1312\",\"type\":\"FactorRange\"},{\"attributes\":{},\"id\":\"1359\",\"type\":\"AllLabels\"},{\"attributes\":{},\"id\":\"1355\",\"type\":\"CategoricalTickFormatter\"},{\"attributes\":{\"axis_label\":\"average_listing_price\",\"coordinates\":null,\"formatter\":{\"id\":\"1353\"},\"group\":null,\"major_label_policy\":{\"id\":\"1359\"},\"ticker\":{\"id\":\"1328\"}},\"id\":\"1327\",\"type\":\"LinearAxis\"},{\"attributes\":{\"source\":{\"id\":\"1344\"}},\"id\":\"1351\",\"type\":\"CDSView\"},{\"attributes\":{},\"id\":\"1345\",\"type\":\"Selection\"},{\"attributes\":{\"children\":[{\"id\":\"1311\"},{\"id\":\"1315\"},{\"id\":\"1386\"},{\"id\":\"1387\"}],\"margin\":[0,0,0,0],\"name\":\"Row02230\"},\"id\":\"1310\",\"type\":\"Row\"},{\"attributes\":{},\"id\":\"1322\",\"type\":\"LinearScale\"},{\"attributes\":{\"fill_alpha\":{\"value\":0.1},\"fill_color\":{\"value\":\"#30a2da\"},\"hatch_alpha\":{\"value\":0.1},\"hatch_color\":{\"value\":\"#30a2da\"},\"line_alpha\":{\"value\":0.1},\"top\":{\"field\":\"average_listing_price\"},\"width\":{\"value\":0.8},\"x\":{\"field\":\"county_name\"}},\"id\":\"1348\",\"type\":\"VBar\"},{\"attributes\":{},\"id\":\"1356\",\"type\":\"AllLabels\"},{\"attributes\":{\"margin\":[20,0,0,20],\"name\":\"\",\"style\":{\"white-space\":\"nowrap\"},\"text\":\"Date: <b>2016-07-01 00:00:00</b>\",\"width\":250},\"id\":\"1391\",\"type\":\"Div\"},{\"attributes\":{\"fill_alpha\":{\"value\":0.2},\"fill_color\":{\"value\":\"#30a2da\"},\"hatch_alpha\":{\"value\":0.2},\"hatch_color\":{\"value\":\"#30a2da\"},\"line_alpha\":{\"value\":0.2},\"top\":{\"field\":\"average_listing_price\"},\"width\":{\"value\":0.8},\"x\":{\"field\":\"county_name\"}},\"id\":\"1349\",\"type\":\"VBar\"},{\"attributes\":{\"margin\":[5,5,5,5],\"name\":\"HSpacer02246\",\"sizing_mode\":\"stretch_width\"},\"id\":\"1311\",\"type\":\"Spacer\"},{\"attributes\":{\"end\":65,\"js_property_callbacks\":{\"change:value\":[{\"id\":\"1403\"}]},\"margin\":[0,20,20,20],\"min_width\":250,\"show_value\":false,\"start\":0,\"tooltips\":false,\"value\":0,\"width\":250},\"id\":\"1392\",\"type\":\"Slider\"},{\"attributes\":{\"axis_label\":\"county_name\",\"coordinates\":null,\"formatter\":{\"id\":\"1355\"},\"group\":null,\"major_label_orientation\":0.8726646259971648,\"major_label_policy\":{\"id\":\"1356\"},\"ticker\":{\"id\":\"1325\"}},\"id\":\"1324\",\"type\":\"CategoricalAxis\"},{\"attributes\":{\"bottom\":{\"value\":0},\"fill_alpha\":{\"value\":1.0},\"fill_color\":{\"value\":\"#30a2da\"},\"hatch_alpha\":{\"value\":1.0},\"hatch_color\":{\"value\":\"#30a2da\"},\"hatch_scale\":{\"value\":12.0},\"hatch_weight\":{\"value\":1.0},\"line_alpha\":{\"value\":1.0},\"line_cap\":{\"value\":\"butt\"},\"line_color\":{\"value\":\"black\"},\"line_dash\":{\"value\":[]},\"line_dash_offset\":{\"value\":0},\"line_join\":{\"value\":\"bevel\"},\"line_width\":{\"value\":1},\"top\":{\"field\":\"average_listing_price\"},\"width\":{\"value\":0.8},\"x\":{\"field\":\"county_name\"}},\"id\":\"1352\",\"type\":\"VBar\"}],\"root_ids\":[\"1310\",\"1422\"]},\"title\":\"Bokeh Application\",\"version\":\"2.4.1\"}};\n",
       "    var render_items = [{\"docid\":\"1d423e3f-dda9-4551-ab49-76bacf76ea21\",\"root_ids\":[\"1310\"],\"roots\":{\"1310\":\"84ab5b72-bab9-4e8c-889f-61c1cec099d9\"}}];\n",
       "    root.Bokeh.embed.embed_items_notebook(docs_json, render_items);\n",
       "  }\n",
       "  if (root.Bokeh !== undefined && root.Bokeh.Panel !== undefined) {\n",
       "    embed_document(root);\n",
       "  } else {\n",
       "    var attempts = 0;\n",
       "    var timer = setInterval(function(root) {\n",
       "      if (root.Bokeh !== undefined && root.Bokeh.Panel !== undefined) {\n",
       "        clearInterval(timer);\n",
       "        embed_document(root);\n",
       "      } else if (document.readyState == \"complete\") {\n",
       "        attempts++;\n",
       "        if (attempts > 200) {\n",
       "          clearInterval(timer);\n",
       "          console.log(\"Bokeh: ERROR: Unable to run BokehJS code because BokehJS library is missing\");\n",
       "        }\n",
       "      }\n",
       "    }, 25, root)\n",
       "  }\n",
       "})(window);</script>"
      ],
      "text/plain": [
       ":DynamicMap   [Date]\n",
       "   :Bars   [county_name]   (average_listing_price)"
      ]
     },
     "execution_count": 7,
     "metadata": {
      "application/vnd.holoviews_exec.v0+json": {
       "id": "1310"
      }
     },
     "output_type": "execute_result"
    }
   ],
   "source": [
    "#Create a bar plot of the average listing price by county\n",
    "wa_house_listing_county_df.hvplot.bar(\n",
    "    x='county_name',\n",
    "    y='average_listing_price',\n",
    "    groupby='Date',\n",
    "    title='Average Listing Price by County',\n",
    "    rot=50).opts(yformatter='%.0f')"
   ]
  },
  {
   "cell_type": "code",
   "execution_count": 11,
   "id": "a940c495-b514-4506-a7bd-675daeb52c46",
   "metadata": {},
   "outputs": [
    {
     "data": {},
     "metadata": {},
     "output_type": "display_data"
    },
    {
     "data": {
      "application/vnd.holoviews_exec.v0+json": "",
      "text/html": [
       "<div id='1623'>\n",
       "\n",
       "\n",
       "\n",
       "\n",
       "\n",
       "  <div class=\"bk-root\" id=\"895677a0-341a-4b25-adb6-1df51384772c\" data-root-id=\"1623\"></div>\n",
       "</div>\n",
       "<script type=\"application/javascript\">(function(root) {\n",
       "  function embed_document(root) {\n",
       "    var docs_json = {\"e6360e01-ed9e-4847-9b82-ac29513c9c85\":{\"defs\":[{\"extends\":null,\"module\":null,\"name\":\"ReactiveHTML1\",\"overrides\":[],\"properties\":[]},{\"extends\":null,\"module\":null,\"name\":\"FlexBox1\",\"overrides\":[],\"properties\":[{\"default\":\"flex-start\",\"kind\":null,\"name\":\"align_content\"},{\"default\":\"flex-start\",\"kind\":null,\"name\":\"align_items\"},{\"default\":\"row\",\"kind\":null,\"name\":\"flex_direction\"},{\"default\":\"wrap\",\"kind\":null,\"name\":\"flex_wrap\"},{\"default\":\"flex-start\",\"kind\":null,\"name\":\"justify_content\"}]},{\"extends\":null,\"module\":null,\"name\":\"TemplateActions1\",\"overrides\":[],\"properties\":[{\"default\":0,\"kind\":null,\"name\":\"open_modal\"},{\"default\":0,\"kind\":null,\"name\":\"close_modal\"}]},{\"extends\":null,\"module\":null,\"name\":\"MaterialTemplateActions1\",\"overrides\":[],\"properties\":[{\"default\":0,\"kind\":null,\"name\":\"open_modal\"},{\"default\":0,\"kind\":null,\"name\":\"close_modal\"}]}],\"roots\":{\"references\":[{\"attributes\":{\"overlay\":{\"id\":\"1649\"}},\"id\":\"1647\",\"type\":\"BoxZoomTool\"},{\"attributes\":{\"margin\":[20,20,20,20],\"min_width\":250,\"options\":[\"Adams\",\"Asotin\",\"Benton\",\"Chelan\",\"Clallam\",\"Clark\",\"Columbia\",\"Cowlitz\",\"Douglas\",\"Ferry\",\"Franklin\",\"Garfield\",\"Grant\",\"Grays\",\"Island\",\"Jefferson\",\"King\",\"Kitsap\",\"Kittitas\",\"Klickitat\",\"Lewis\",\"Lincoln\",\"Mason\",\"Okanogan\",\"Pacific\",\"Pend\",\"Pierce\",\"San\",\"Skagit\",\"Skamania\",\"Snohomish\",\"Spokane\",\"Stevens\",\"Thurston\",\"Wahkiakum\",\"Walla\",\"Whatcom\",\"Whitman\",\"Yakima\"],\"title\":\"COUNTIES\",\"value\":\"Adams\",\"width\":250},\"id\":\"1703\",\"type\":\"Select\"},{\"attributes\":{},\"id\":\"1687\",\"type\":\"UnionRenderers\"},{\"attributes\":{\"callback\":null,\"renderers\":[{\"id\":\"1663\"}],\"tags\":[\"hv_created\"],\"tooltips\":[[\"Date\",\"@{Date}\"],[\"Units_Completed\",\"@{Units_Completed}\"]]},\"id\":\"1627\",\"type\":\"HoverTool\"},{\"attributes\":{},\"id\":\"1645\",\"type\":\"PanTool\"},{\"attributes\":{\"margin\":[5,5,5,5],\"name\":\"HSpacer02780\",\"sizing_mode\":\"stretch_width\"},\"id\":\"1624\",\"type\":\"Spacer\"},{\"attributes\":{},\"id\":\"1638\",\"type\":\"CategoricalTicker\"},{\"attributes\":{\"below\":[{\"id\":\"1637\"}],\"center\":[{\"id\":\"1639\"},{\"id\":\"1643\"}],\"height\":300,\"left\":[{\"id\":\"1640\"}],\"margin\":[5,5,5,5],\"min_border_bottom\":10,\"min_border_left\":10,\"min_border_right\":10,\"min_border_top\":10,\"renderers\":[{\"id\":\"1663\"}],\"sizing_mode\":\"fixed\",\"title\":{\"id\":\"1629\"},\"toolbar\":{\"id\":\"1650\"},\"width\":700,\"x_range\":{\"id\":\"1625\"},\"x_scale\":{\"id\":\"1633\"},\"y_range\":{\"id\":\"1626\"},\"y_scale\":{\"id\":\"1635\"}},\"id\":\"1628\",\"subtype\":\"Figure\",\"type\":\"Plot\"},{\"attributes\":{\"coordinates\":null,\"data_source\":{\"id\":\"1657\"},\"glyph\":{\"id\":\"1660\"},\"group\":null,\"hover_glyph\":null,\"muted_glyph\":{\"id\":\"1662\"},\"nonselection_glyph\":{\"id\":\"1661\"},\"selection_glyph\":{\"id\":\"1665\"},\"view\":{\"id\":\"1664\"}},\"id\":\"1663\",\"type\":\"GlyphRenderer\"},{\"attributes\":{\"data\":{\"Date\":[\"2016/17\",\"2017/18\",\"2018/19\",\"2019/20\",\"2020/21\"],\"Units_Completed\":{\"__ndarray__\":\"AAAAAABAYkAAAAAAAABEQAAAAAAAgEVAAAAAAABAV0AAAAAAAABeQA==\",\"dtype\":\"float64\",\"order\":\"little\",\"shape\":[5]}},\"selected\":{\"id\":\"1658\"},\"selection_policy\":{\"id\":\"1687\"}},\"id\":\"1657\",\"type\":\"ColumnDataSource\"},{\"attributes\":{\"tools\":[{\"id\":\"1627\"},{\"id\":\"1644\"},{\"id\":\"1645\"},{\"id\":\"1646\"},{\"id\":\"1647\"},{\"id\":\"1648\"}]},\"id\":\"1650\",\"type\":\"Toolbar\"},{\"attributes\":{\"bottom_units\":\"screen\",\"coordinates\":null,\"fill_alpha\":0.5,\"fill_color\":\"lightgrey\",\"group\":null,\"left_units\":\"screen\",\"level\":\"overlay\",\"line_alpha\":1.0,\"line_color\":\"black\",\"line_dash\":[4,4],\"line_width\":2,\"right_units\":\"screen\",\"syncable\":false,\"top_units\":\"screen\"},\"id\":\"1649\",\"type\":\"BoxAnnotation\"},{\"attributes\":{\"margin\":[5,5,5,5],\"name\":\"VSpacer02778\",\"sizing_mode\":\"stretch_height\"},\"id\":\"1704\",\"type\":\"Spacer\"},{\"attributes\":{\"source\":{\"id\":\"1657\"}},\"id\":\"1664\",\"type\":\"CDSView\"},{\"attributes\":{\"margin\":[5,5,5,5],\"name\":\"VSpacer02777\",\"sizing_mode\":\"stretch_height\"},\"id\":\"1701\",\"type\":\"Spacer\"},{\"attributes\":{},\"id\":\"1646\",\"type\":\"WheelZoomTool\"},{\"attributes\":{\"client_comm_id\":\"fe5a4acff3044fe8b37bde1b23109bca\",\"comm_id\":\"be26744415da4166b46c4000a999dd09\",\"plot_id\":\"1623\"},\"id\":\"1732\",\"type\":\"panel.models.comm_manager.CommManager\"},{\"attributes\":{\"children\":[{\"id\":\"1701\"},{\"id\":\"1702\"},{\"id\":\"1704\"}],\"margin\":[0,0,0,0],\"name\":\"Column02779\"},\"id\":\"1700\",\"type\":\"Column\"},{\"attributes\":{\"end\":156.6,\"reset_end\":156.6,\"reset_start\":0.0,\"tags\":[[[\"Units_Completed\",\"Units_Completed\",null]]]},\"id\":\"1626\",\"type\":\"Range1d\"},{\"attributes\":{\"coordinates\":null,\"group\":null,\"text\":\"County Units Completed by Year\",\"text_color\":\"black\",\"text_font_size\":\"12pt\"},\"id\":\"1629\",\"type\":\"Title\"},{\"attributes\":{\"margin\":[5,5,5,5],\"name\":\"HSpacer02781\",\"sizing_mode\":\"stretch_width\"},\"id\":\"1699\",\"type\":\"Spacer\"},{\"attributes\":{\"bottom\":{\"value\":0},\"fill_alpha\":{\"value\":1.0},\"fill_color\":{\"value\":\"Brown\"},\"hatch_alpha\":{\"value\":1.0},\"hatch_color\":{\"value\":\"Brown\"},\"hatch_scale\":{\"value\":12.0},\"hatch_weight\":{\"value\":1.0},\"line_alpha\":{\"value\":1.0},\"line_cap\":{\"value\":\"butt\"},\"line_color\":{\"value\":\"black\"},\"line_dash\":{\"value\":[]},\"line_dash_offset\":{\"value\":0},\"line_join\":{\"value\":\"bevel\"},\"line_width\":{\"value\":1},\"top\":{\"field\":\"Units_Completed\"},\"width\":{\"value\":0.8},\"x\":{\"field\":\"Date\"}},\"id\":\"1665\",\"type\":\"VBar\"},{\"attributes\":{\"axis_label\":\"Date\",\"coordinates\":null,\"formatter\":{\"id\":\"1668\"},\"group\":null,\"major_label_orientation\":0.5235987755982988,\"major_label_policy\":{\"id\":\"1669\"},\"ticker\":{\"id\":\"1638\"}},\"id\":\"1637\",\"type\":\"CategoricalAxis\"},{\"attributes\":{\"children\":[{\"id\":\"1703\"}],\"css_classes\":[\"panel-widget-box\"],\"margin\":[5,5,5,5],\"name\":\"WidgetBox02772\"},\"id\":\"1702\",\"type\":\"Column\"},{\"attributes\":{\"children\":[{\"id\":\"1624\"},{\"id\":\"1628\"},{\"id\":\"1699\"},{\"id\":\"1700\"}],\"margin\":[0,0,0,0],\"name\":\"Row02771\"},\"id\":\"1623\",\"type\":\"Row\"},{\"attributes\":{\"fill_color\":{\"value\":\"Brown\"},\"hatch_color\":{\"value\":\"Brown\"},\"top\":{\"field\":\"Units_Completed\"},\"width\":{\"value\":0.8},\"x\":{\"field\":\"Date\"}},\"id\":\"1660\",\"type\":\"VBar\"},{\"attributes\":{\"fill_alpha\":{\"value\":0.2},\"fill_color\":{\"value\":\"Brown\"},\"hatch_alpha\":{\"value\":0.2},\"hatch_color\":{\"value\":\"Brown\"},\"line_alpha\":{\"value\":0.2},\"top\":{\"field\":\"Units_Completed\"},\"width\":{\"value\":0.8},\"x\":{\"field\":\"Date\"}},\"id\":\"1662\",\"type\":\"VBar\"},{\"attributes\":{\"format\":\"%.0f\"},\"id\":\"1666\",\"type\":\"PrintfTickFormatter\"},{\"attributes\":{},\"id\":\"1648\",\"type\":\"ResetTool\"},{\"attributes\":{},\"id\":\"1672\",\"type\":\"AllLabels\"},{\"attributes\":{\"axis\":{\"id\":\"1640\"},\"coordinates\":null,\"dimension\":1,\"grid_line_color\":null,\"group\":null,\"ticker\":null},\"id\":\"1643\",\"type\":\"Grid\"},{\"attributes\":{},\"id\":\"1635\",\"type\":\"LinearScale\"},{\"attributes\":{},\"id\":\"1644\",\"type\":\"SaveTool\"},{\"attributes\":{},\"id\":\"1668\",\"type\":\"CategoricalTickFormatter\"},{\"attributes\":{\"factors\":[\"2016/17\",\"2017/18\",\"2018/19\",\"2019/20\",\"2020/21\"],\"tags\":[[[\"Date\",\"Date\",null]]]},\"id\":\"1625\",\"type\":\"FactorRange\"},{\"attributes\":{},\"id\":\"1658\",\"type\":\"Selection\"},{\"attributes\":{\"axis\":{\"id\":\"1637\"},\"coordinates\":null,\"grid_line_color\":null,\"group\":null,\"ticker\":null},\"id\":\"1639\",\"type\":\"Grid\"},{\"attributes\":{},\"id\":\"1669\",\"type\":\"AllLabels\"},{\"attributes\":{\"axis_label\":\"Units Completed\",\"coordinates\":null,\"formatter\":{\"id\":\"1666\"},\"group\":null,\"major_label_policy\":{\"id\":\"1672\"},\"ticker\":{\"id\":\"1641\"}},\"id\":\"1640\",\"type\":\"LinearAxis\"},{\"attributes\":{\"fill_alpha\":{\"value\":0.1},\"fill_color\":{\"value\":\"Brown\"},\"hatch_alpha\":{\"value\":0.1},\"hatch_color\":{\"value\":\"Brown\"},\"line_alpha\":{\"value\":0.1},\"top\":{\"field\":\"Units_Completed\"},\"width\":{\"value\":0.8},\"x\":{\"field\":\"Date\"}},\"id\":\"1661\",\"type\":\"VBar\"},{\"attributes\":{},\"id\":\"1641\",\"type\":\"BasicTicker\"},{\"attributes\":{},\"id\":\"1633\",\"type\":\"CategoricalScale\"}],\"root_ids\":[\"1623\",\"1732\"]},\"title\":\"Bokeh Application\",\"version\":\"2.4.1\"}};\n",
       "    var render_items = [{\"docid\":\"e6360e01-ed9e-4847-9b82-ac29513c9c85\",\"root_ids\":[\"1623\"],\"roots\":{\"1623\":\"895677a0-341a-4b25-adb6-1df51384772c\"}}];\n",
       "    root.Bokeh.embed.embed_items_notebook(docs_json, render_items);\n",
       "  }\n",
       "  if (root.Bokeh !== undefined && root.Bokeh.Panel !== undefined) {\n",
       "    embed_document(root);\n",
       "  } else {\n",
       "    var attempts = 0;\n",
       "    var timer = setInterval(function(root) {\n",
       "      if (root.Bokeh !== undefined && root.Bokeh.Panel !== undefined) {\n",
       "        clearInterval(timer);\n",
       "        embed_document(root);\n",
       "      } else if (document.readyState == \"complete\") {\n",
       "        attempts++;\n",
       "        if (attempts > 200) {\n",
       "          clearInterval(timer);\n",
       "          console.log(\"Bokeh: ERROR: Unable to run BokehJS code because BokehJS library is missing\");\n",
       "        }\n",
       "      }\n",
       "    }, 25, root)\n",
       "  }\n",
       "})(window);</script>"
      ],
      "text/plain": [
       ":DynamicMap   [COUNTIES]\n",
       "   :Bars   [Date]   (Units_Completed)"
      ]
     },
     "execution_count": 11,
     "metadata": {
      "application/vnd.holoviews_exec.v0+json": {
       "id": "1623"
      }
     },
     "output_type": "execute_result"
    }
   ],
   "source": [
    "#Create a bar plot of the units completed by the county \n",
    "building_completion_county_df.hvplot.bar(\n",
    "    x='Date',\n",
    "    ylabel='Units Completed',\n",
    "    groupby='COUNTIES',\n",
    "    title='County Units Completed by Year',\n",
    "    rot=30,\n",
    "    color='Brown'\n",
    ").opts(yformatter='%.0f')"
   ]
  },
  {
   "cell_type": "code",
   "execution_count": 12,
   "id": "c210110d-44d1-476a-9823-7573b4a4a6c5",
   "metadata": {},
   "outputs": [
    {
     "data": {},
     "metadata": {},
     "output_type": "display_data"
    },
    {
     "data": {
      "application/vnd.holoviews_exec.v0+json": "",
      "text/html": [
       "<div id='1778'>\n",
       "\n",
       "\n",
       "\n",
       "\n",
       "\n",
       "  <div class=\"bk-root\" id=\"ccc57e74-0806-4e14-be22-179614653d50\" data-root-id=\"1778\"></div>\n",
       "</div>\n",
       "<script type=\"application/javascript\">(function(root) {\n",
       "  function embed_document(root) {\n",
       "    var docs_json = {\"bf66f6d0-6c2f-44f1-acbc-fa3a433fa130\":{\"defs\":[{\"extends\":null,\"module\":null,\"name\":\"ReactiveHTML1\",\"overrides\":[],\"properties\":[]},{\"extends\":null,\"module\":null,\"name\":\"FlexBox1\",\"overrides\":[],\"properties\":[{\"default\":\"flex-start\",\"kind\":null,\"name\":\"align_content\"},{\"default\":\"flex-start\",\"kind\":null,\"name\":\"align_items\"},{\"default\":\"row\",\"kind\":null,\"name\":\"flex_direction\"},{\"default\":\"wrap\",\"kind\":null,\"name\":\"flex_wrap\"},{\"default\":\"flex-start\",\"kind\":null,\"name\":\"justify_content\"}]},{\"extends\":null,\"module\":null,\"name\":\"TemplateActions1\",\"overrides\":[],\"properties\":[{\"default\":0,\"kind\":null,\"name\":\"open_modal\"},{\"default\":0,\"kind\":null,\"name\":\"close_modal\"}]},{\"extends\":null,\"module\":null,\"name\":\"MaterialTemplateActions1\",\"overrides\":[],\"properties\":[{\"default\":0,\"kind\":null,\"name\":\"open_modal\"},{\"default\":0,\"kind\":null,\"name\":\"close_modal\"}]}],\"roots\":{\"references\":[{\"attributes\":{\"bottom\":{\"value\":0},\"fill_alpha\":{\"value\":1.0},\"fill_color\":{\"value\":\"#30a2da\"},\"hatch_alpha\":{\"value\":1.0},\"hatch_color\":{\"value\":\"#30a2da\"},\"hatch_scale\":{\"value\":12.0},\"hatch_weight\":{\"value\":1.0},\"line_alpha\":{\"value\":1.0},\"line_cap\":{\"value\":\"butt\"},\"line_color\":{\"value\":\"black\"},\"line_dash\":{\"value\":[]},\"line_dash_offset\":{\"value\":0},\"line_join\":{\"value\":\"bevel\"},\"line_width\":{\"value\":1},\"top\":{\"field\":\"Units_Completed\"},\"width\":{\"value\":0.8},\"x\":{\"field\":\"Date\"}},\"id\":\"1820\",\"type\":\"VBar\"},{\"attributes\":{\"callback\":null,\"renderers\":[{\"id\":\"1818\"}],\"tags\":[\"hv_created\"],\"tooltips\":[[\"Date\",\"@{Date}\"],[\"Units_Completed\",\"@{Units_Completed}\"]]},\"id\":\"1782\",\"type\":\"HoverTool\"},{\"attributes\":{},\"id\":\"1824\",\"type\":\"AllLabels\"},{\"attributes\":{\"axis\":{\"id\":\"1795\"},\"coordinates\":null,\"dimension\":1,\"grid_line_color\":null,\"group\":null,\"ticker\":null},\"id\":\"1798\",\"type\":\"Grid\"},{\"attributes\":{\"format\":\"%.0f\"},\"id\":\"1821\",\"type\":\"PrintfTickFormatter\"},{\"attributes\":{\"children\":[{\"id\":\"1856\"},{\"id\":\"1857\"},{\"id\":\"1859\"}],\"margin\":[0,0,0,0],\"name\":\"Column03046\"},\"id\":\"1855\",\"type\":\"Column\"},{\"attributes\":{\"coordinates\":null,\"data_source\":{\"id\":\"1812\"},\"glyph\":{\"id\":\"1815\"},\"group\":null,\"hover_glyph\":null,\"muted_glyph\":{\"id\":\"1817\"},\"nonselection_glyph\":{\"id\":\"1816\"},\"selection_glyph\":{\"id\":\"1820\"},\"view\":{\"id\":\"1819\"}},\"id\":\"1818\",\"type\":\"GlyphRenderer\"},{\"attributes\":{\"margin\":[5,5,5,5],\"name\":\"VSpacer03044\",\"sizing_mode\":\"stretch_height\"},\"id\":\"1856\",\"type\":\"Spacer\"},{\"attributes\":{},\"id\":\"1788\",\"type\":\"CategoricalScale\"},{\"attributes\":{\"margin\":[5,5,5,5],\"name\":\"VSpacer03045\",\"sizing_mode\":\"stretch_height\"},\"id\":\"1859\",\"type\":\"Spacer\"},{\"attributes\":{},\"id\":\"1823\",\"type\":\"CategoricalTickFormatter\"},{\"attributes\":{\"bottom_units\":\"screen\",\"coordinates\":null,\"fill_alpha\":0.5,\"fill_color\":\"lightgrey\",\"group\":null,\"left_units\":\"screen\",\"level\":\"overlay\",\"line_alpha\":1.0,\"line_color\":\"black\",\"line_dash\":[4,4],\"line_width\":2,\"right_units\":\"screen\",\"syncable\":false,\"top_units\":\"screen\"},\"id\":\"1804\",\"type\":\"BoxAnnotation\"},{\"attributes\":{\"coordinates\":null,\"group\":null,\"text\":\"City Units Completed by Year\",\"text_color\":\"black\",\"text_font_size\":\"12pt\"},\"id\":\"1784\",\"type\":\"Title\"},{\"attributes\":{},\"id\":\"1801\",\"type\":\"WheelZoomTool\"},{\"attributes\":{\"children\":[{\"id\":\"1858\"}],\"css_classes\":[\"panel-widget-box\"],\"margin\":[5,5,5,5],\"name\":\"WidgetBox03039\"},\"id\":\"1857\",\"type\":\"Column\"},{\"attributes\":{\"below\":[{\"id\":\"1792\"}],\"center\":[{\"id\":\"1794\"},{\"id\":\"1798\"}],\"height\":300,\"left\":[{\"id\":\"1795\"}],\"margin\":[5,5,5,5],\"min_border_bottom\":10,\"min_border_left\":10,\"min_border_right\":10,\"min_border_top\":10,\"renderers\":[{\"id\":\"1818\"}],\"sizing_mode\":\"fixed\",\"title\":{\"id\":\"1784\"},\"toolbar\":{\"id\":\"1805\"},\"width\":700,\"x_range\":{\"id\":\"1780\"},\"x_scale\":{\"id\":\"1788\"},\"y_range\":{\"id\":\"1781\"},\"y_scale\":{\"id\":\"1790\"}},\"id\":\"1783\",\"subtype\":\"Figure\",\"type\":\"Plot\"},{\"attributes\":{},\"id\":\"1800\",\"type\":\"PanTool\"},{\"attributes\":{},\"id\":\"1796\",\"type\":\"BasicTicker\"},{\"attributes\":{},\"id\":\"1813\",\"type\":\"Selection\"},{\"attributes\":{},\"id\":\"1799\",\"type\":\"SaveTool\"},{\"attributes\":{\"fill_alpha\":{\"value\":0.1},\"fill_color\":{\"value\":\"#30a2da\"},\"hatch_alpha\":{\"value\":0.1},\"hatch_color\":{\"value\":\"#30a2da\"},\"line_alpha\":{\"value\":0.1},\"top\":{\"field\":\"Units_Completed\"},\"width\":{\"value\":0.8},\"x\":{\"field\":\"Date\"}},\"id\":\"1816\",\"type\":\"VBar\"},{\"attributes\":{\"end\":22.1,\"reset_end\":22.1,\"reset_start\":-15.1,\"start\":-15.1,\"tags\":[[[\"Units_Completed\",\"Units_Completed\",null]]]},\"id\":\"1781\",\"type\":\"Range1d\"},{\"attributes\":{\"children\":[{\"id\":\"1779\"},{\"id\":\"1783\"},{\"id\":\"1854\"},{\"id\":\"1855\"}],\"margin\":[0,0,0,0],\"name\":\"Row03038\"},\"id\":\"1778\",\"type\":\"Row\"},{\"attributes\":{\"client_comm_id\":\"ea93a582c2de413bbca688329cfa6462\",\"comm_id\":\"f122c84ea5a0456f9ff675e538099045\",\"plot_id\":\"1778\"},\"id\":\"1887\",\"type\":\"panel.models.comm_manager.CommManager\"},{\"attributes\":{\"axis_label\":\"Date\",\"coordinates\":null,\"formatter\":{\"id\":\"1823\"},\"group\":null,\"major_label_orientation\":0.5235987755982988,\"major_label_policy\":{\"id\":\"1824\"},\"ticker\":{\"id\":\"1793\"}},\"id\":\"1792\",\"type\":\"CategoricalAxis\"},{\"attributes\":{\"source\":{\"id\":\"1812\"}},\"id\":\"1819\",\"type\":\"CDSView\"},{\"attributes\":{\"fill_alpha\":{\"value\":0.2},\"fill_color\":{\"value\":\"#30a2da\"},\"hatch_alpha\":{\"value\":0.2},\"hatch_color\":{\"value\":\"#30a2da\"},\"line_alpha\":{\"value\":0.2},\"top\":{\"field\":\"Units_Completed\"},\"width\":{\"value\":0.8},\"x\":{\"field\":\"Date\"}},\"id\":\"1817\",\"type\":\"VBar\"},{\"attributes\":{\"margin\":[20,20,20,20],\"min_width\":250,\"options\":[\"Aberdeen\",\"Airway Heights\",\"Anacortes\",\"Arlington\",\"Auburn\",\"Bainbridge Island\",\"Battle Ground\",\"Bellevue\",\"Bellingham\",\"Bonney Lake\",\"Bothell\",\"Bremerton\",\"Burien\",\"Burlington\",\"Camas\",\"Centralia\",\"Cheney\",\"Covington\",\"Des Moines\",\"DuPont\",\"East Wenatchee\",\"Edgewood\",\"Edmonds\",\"Ellensburg\",\"Enumclaw\",\"Everett\",\"Federal Way\",\"Ferndale\",\"Fife\",\"Gig Harbor\",\"Grandview\",\"Issaquah\",\"Kelso\",\"Kenmore\",\"Kennewick\",\"Kent\",\"Kirkland\",\"Lacey\",\"Lake Forest Park\",\"Lake Stevens\",\"Lakewood\",\"Liberty Lake\",\"Longview\",\"Lynden\",\"Lynnwood\",\"Maple Valley\",\"Marysville\",\"Mercer Island\",\"Mill Creek\",\"Monroe\",\"Moses Lake\",\"Mount Vernon\",\"Mountlake Terrace\",\"Mukilteo\",\"Newcastle\",\"Oak Harbor\",\"Olympia\",\"Pasco\",\"Port Angeles\",\"Port Orchard\",\"Port Townsend\",\"Poulsbo\",\"Pullman\",\"Puyallup\",\"Redmond\",\"Renton\",\"Richland\",\"Sammamish\",\"SeaTac\",\"Seattle\",\"Sedro-Woolley\",\"Shelton\",\"Shoreline\",\"Snohomish\",\"Snoqualmie\",\"Spokane\",\"Spokane Valley\",\"Sumner\",\"Sunnyside\",\"Tacoma\",\"Tukwila\",\"Tumwater\",\"University Place\",\"Vancouver\",\"Walla Walla\",\"Washougal\",\"Wenatchee\",\"West Richland\",\"Woodinville\",\"Yakima\",\"Yelm\"],\"title\":\"CITIES\",\"value\":\"Aberdeen\",\"width\":250},\"id\":\"1858\",\"type\":\"Select\"},{\"attributes\":{\"tools\":[{\"id\":\"1782\"},{\"id\":\"1799\"},{\"id\":\"1800\"},{\"id\":\"1801\"},{\"id\":\"1802\"},{\"id\":\"1803\"}]},\"id\":\"1805\",\"type\":\"Toolbar\"},{\"attributes\":{\"axis\":{\"id\":\"1792\"},\"coordinates\":null,\"grid_line_color\":null,\"group\":null,\"ticker\":null},\"id\":\"1794\",\"type\":\"Grid\"},{\"attributes\":{},\"id\":\"1803\",\"type\":\"ResetTool\"},{\"attributes\":{},\"id\":\"1827\",\"type\":\"AllLabels\"},{\"attributes\":{\"data\":{\"Date\":[\"2016/17\",\"2017/18\",\"2018/19\",\"2019/20\",\"2020/21\"],\"Units_Completed\":{\"__ndarray__\":\"AAAAAAAAGEAAAAAAAAAowAAAAAAAABBAAAAAAAAAMUAAAAAAAAAzQA==\",\"dtype\":\"float64\",\"order\":\"little\",\"shape\":[5]}},\"selected\":{\"id\":\"1813\"},\"selection_policy\":{\"id\":\"1842\"}},\"id\":\"1812\",\"type\":\"ColumnDataSource\"},{\"attributes\":{},\"id\":\"1793\",\"type\":\"CategoricalTicker\"},{\"attributes\":{},\"id\":\"1790\",\"type\":\"LinearScale\"},{\"attributes\":{\"overlay\":{\"id\":\"1804\"}},\"id\":\"1802\",\"type\":\"BoxZoomTool\"},{\"attributes\":{\"margin\":[5,5,5,5],\"name\":\"HSpacer03048\",\"sizing_mode\":\"stretch_width\"},\"id\":\"1854\",\"type\":\"Spacer\"},{\"attributes\":{\"factors\":[\"2016/17\",\"2017/18\",\"2018/19\",\"2019/20\",\"2020/21\"],\"tags\":[[[\"Date\",\"Date\",null]]]},\"id\":\"1780\",\"type\":\"FactorRange\"},{\"attributes\":{\"fill_color\":{\"value\":\"#30a2da\"},\"hatch_color\":{\"value\":\"#30a2da\"},\"top\":{\"field\":\"Units_Completed\"},\"width\":{\"value\":0.8},\"x\":{\"field\":\"Date\"}},\"id\":\"1815\",\"type\":\"VBar\"},{\"attributes\":{},\"id\":\"1842\",\"type\":\"UnionRenderers\"},{\"attributes\":{\"axis_label\":\"Units_Completed\",\"coordinates\":null,\"formatter\":{\"id\":\"1821\"},\"group\":null,\"major_label_policy\":{\"id\":\"1827\"},\"ticker\":{\"id\":\"1796\"}},\"id\":\"1795\",\"type\":\"LinearAxis\"},{\"attributes\":{\"margin\":[5,5,5,5],\"name\":\"HSpacer03047\",\"sizing_mode\":\"stretch_width\"},\"id\":\"1779\",\"type\":\"Spacer\"}],\"root_ids\":[\"1778\",\"1887\"]},\"title\":\"Bokeh Application\",\"version\":\"2.4.1\"}};\n",
       "    var render_items = [{\"docid\":\"bf66f6d0-6c2f-44f1-acbc-fa3a433fa130\",\"root_ids\":[\"1778\"],\"roots\":{\"1778\":\"ccc57e74-0806-4e14-be22-179614653d50\"}}];\n",
       "    root.Bokeh.embed.embed_items_notebook(docs_json, render_items);\n",
       "  }\n",
       "  if (root.Bokeh !== undefined && root.Bokeh.Panel !== undefined) {\n",
       "    embed_document(root);\n",
       "  } else {\n",
       "    var attempts = 0;\n",
       "    var timer = setInterval(function(root) {\n",
       "      if (root.Bokeh !== undefined && root.Bokeh.Panel !== undefined) {\n",
       "        clearInterval(timer);\n",
       "        embed_document(root);\n",
       "      } else if (document.readyState == \"complete\") {\n",
       "        attempts++;\n",
       "        if (attempts > 200) {\n",
       "          clearInterval(timer);\n",
       "          console.log(\"Bokeh: ERROR: Unable to run BokehJS code because BokehJS library is missing\");\n",
       "        }\n",
       "      }\n",
       "    }, 25, root)\n",
       "  }\n",
       "})(window);</script>"
      ],
      "text/plain": [
       ":DynamicMap   [CITIES]\n",
       "   :Bars   [Date]   (Units_Completed)"
      ]
     },
     "execution_count": 12,
     "metadata": {
      "application/vnd.holoviews_exec.v0+json": {
       "id": "1778"
      }
     },
     "output_type": "execute_result"
    }
   ],
   "source": [
    "#Create a bar plot of the units completed by the city \n",
    "building_completion_city_df.hvplot.bar(\n",
    "    x='Date',\n",
    "    y='Units_Completed',\n",
    "    groupby='CITIES',\n",
    "    title='City Units Completed by Year',\n",
    "    rot=30\n",
    ").opts(yformatter='%.0f')"
   ]
  },
  {
   "cell_type": "code",
   "execution_count": 14,
   "id": "e3ce295e-3df5-41e2-992f-2e24cc7a7255",
   "metadata": {},
   "outputs": [
    {
     "data": {
      "text/html": [
       "<div>\n",
       "<style scoped>\n",
       "    .dataframe tbody tr th:only-of-type {\n",
       "        vertical-align: middle;\n",
       "    }\n",
       "\n",
       "    .dataframe tbody tr th {\n",
       "        vertical-align: top;\n",
       "    }\n",
       "\n",
       "    .dataframe thead th {\n",
       "        text-align: right;\n",
       "    }\n",
       "</style>\n",
       "<table border=\"1\" class=\"dataframe\">\n",
       "  <thead>\n",
       "    <tr style=\"text-align: right;\">\n",
       "      <th>COUNTIES</th>\n",
       "      <th>King</th>\n",
       "      <th>Snohomish</th>\n",
       "      <th>Pierce</th>\n",
       "    </tr>\n",
       "    <tr>\n",
       "      <th>Date</th>\n",
       "      <th></th>\n",
       "      <th></th>\n",
       "      <th></th>\n",
       "    </tr>\n",
       "  </thead>\n",
       "  <tbody>\n",
       "    <tr>\n",
       "      <th>2016/17</th>\n",
       "      <td>14810.0</td>\n",
       "      <td>3556.0</td>\n",
       "      <td>4277.0</td>\n",
       "    </tr>\n",
       "    <tr>\n",
       "      <th>2017/18</th>\n",
       "      <td>15104.0</td>\n",
       "      <td>4768.0</td>\n",
       "      <td>3743.0</td>\n",
       "    </tr>\n",
       "    <tr>\n",
       "      <th>2018/19</th>\n",
       "      <td>18851.0</td>\n",
       "      <td>4230.0</td>\n",
       "      <td>3661.0</td>\n",
       "    </tr>\n",
       "    <tr>\n",
       "      <th>2019/20</th>\n",
       "      <td>17182.0</td>\n",
       "      <td>4479.0</td>\n",
       "      <td>4499.0</td>\n",
       "    </tr>\n",
       "    <tr>\n",
       "      <th>2020/21</th>\n",
       "      <td>15261.0</td>\n",
       "      <td>5220.0</td>\n",
       "      <td>4690.0</td>\n",
       "    </tr>\n",
       "  </tbody>\n",
       "</table>\n",
       "</div>"
      ],
      "text/plain": [
       "COUNTIES     King  Snohomish  Pierce\n",
       "Date                                \n",
       "2016/17   14810.0     3556.0  4277.0\n",
       "2017/18   15104.0     4768.0  3743.0\n",
       "2018/19   18851.0     4230.0  3661.0\n",
       "2019/20   17182.0     4479.0  4499.0\n",
       "2020/21   15261.0     5220.0  4690.0"
      ]
     },
     "metadata": {},
     "output_type": "display_data"
    }
   ],
   "source": [
    "b_df = building_completion_county_df[['Date','COUNTIES','Units_Completed']]\n",
    "b_df = pd.pivot_table(b_df,values='Units_Completed',\n",
    "                     index=['Date'],\n",
    "                     columns=['COUNTIES'])\n",
    "b_df = b_df[['King','Snohomish','Pierce']]\n",
    "display(b_df.head())"
   ]
  },
  {
   "cell_type": "code",
   "execution_count": 15,
   "id": "63fc6ce1-fffa-4e98-859a-00614d55cc9f",
   "metadata": {},
   "outputs": [
    {
     "data": {},
     "metadata": {},
     "output_type": "display_data"
    },
    {
     "data": {
      "application/vnd.holoviews_exec.v0+json": "",
      "text/html": [
       "<div id='1933'>\n",
       "\n",
       "\n",
       "\n",
       "\n",
       "\n",
       "  <div class=\"bk-root\" id=\"cfbda727-a158-4590-9da9-9e46624735dc\" data-root-id=\"1933\"></div>\n",
       "</div>\n",
       "<script type=\"application/javascript\">(function(root) {\n",
       "  function embed_document(root) {\n",
       "    var docs_json = {\"5819f402-2d83-49df-adcb-29acfad55008\":{\"defs\":[{\"extends\":null,\"module\":null,\"name\":\"ReactiveHTML1\",\"overrides\":[],\"properties\":[]},{\"extends\":null,\"module\":null,\"name\":\"FlexBox1\",\"overrides\":[],\"properties\":[{\"default\":\"flex-start\",\"kind\":null,\"name\":\"align_content\"},{\"default\":\"flex-start\",\"kind\":null,\"name\":\"align_items\"},{\"default\":\"row\",\"kind\":null,\"name\":\"flex_direction\"},{\"default\":\"wrap\",\"kind\":null,\"name\":\"flex_wrap\"},{\"default\":\"flex-start\",\"kind\":null,\"name\":\"justify_content\"}]},{\"extends\":null,\"module\":null,\"name\":\"TemplateActions1\",\"overrides\":[],\"properties\":[{\"default\":0,\"kind\":null,\"name\":\"open_modal\"},{\"default\":0,\"kind\":null,\"name\":\"close_modal\"}]},{\"extends\":null,\"module\":null,\"name\":\"MaterialTemplateActions1\",\"overrides\":[],\"properties\":[{\"default\":0,\"kind\":null,\"name\":\"open_modal\"},{\"default\":0,\"kind\":null,\"name\":\"close_modal\"}]}],\"roots\":{\"references\":[{\"attributes\":{},\"id\":\"1943\",\"type\":\"CategoricalScale\"},{\"attributes\":{\"tools\":[{\"id\":\"1937\"},{\"id\":\"1954\"},{\"id\":\"1955\"},{\"id\":\"1956\"},{\"id\":\"1957\"},{\"id\":\"1958\"}]},\"id\":\"1960\",\"type\":\"Toolbar\"},{\"attributes\":{\"axis_label\":\"Units Completed\",\"coordinates\":null,\"formatter\":{\"id\":\"1977\"},\"group\":null,\"major_label_policy\":{\"id\":\"1983\"},\"ticker\":{\"id\":\"1951\"}},\"id\":\"1950\",\"type\":\"LinearAxis\"},{\"attributes\":{},\"id\":\"1945\",\"type\":\"LinearScale\"},{\"attributes\":{},\"id\":\"1983\",\"type\":\"AllLabels\"},{\"attributes\":{\"factors\":[\"King\",\"Snohomish\",\"Pierce\"],\"palette\":[\"#30a2da\",\"#fc4f30\",\"#e5ae38\"]},\"id\":\"1967\",\"type\":\"CategoricalColorMapper\"},{\"attributes\":{\"margin\":[5,5,5,5],\"name\":\"HSpacer03375\",\"sizing_mode\":\"stretch_width\"},\"id\":\"2004\",\"type\":\"Spacer\"},{\"attributes\":{\"end\":20380.5,\"reset_end\":20380.5,\"reset_start\":0.0,\"tags\":[[[\"value\",\"value\",null]]]},\"id\":\"1936\",\"type\":\"Range1d\"},{\"attributes\":{},\"id\":\"1948\",\"type\":\"CategoricalTicker\"},{\"attributes\":{},\"id\":\"1955\",\"type\":\"PanTool\"},{\"attributes\":{},\"id\":\"1980\",\"type\":\"AllLabels\"},{\"attributes\":{\"overlay\":{\"id\":\"1959\"}},\"id\":\"1957\",\"type\":\"BoxZoomTool\"},{\"attributes\":{\"axis_label\":\"Year\",\"coordinates\":null,\"formatter\":{\"id\":\"1979\"},\"group\":null,\"major_label_orientation\":0.5235987755982988,\"major_label_policy\":{\"id\":\"1980\"},\"ticker\":{\"id\":\"1948\"}},\"id\":\"1947\",\"type\":\"CategoricalAxis\"},{\"attributes\":{},\"id\":\"1969\",\"type\":\"Selection\"},{\"attributes\":{\"bottom_units\":\"screen\",\"coordinates\":null,\"fill_alpha\":0.5,\"fill_color\":\"lightgrey\",\"group\":null,\"left_units\":\"screen\",\"level\":\"overlay\",\"line_alpha\":1.0,\"line_color\":\"black\",\"line_dash\":[4,4],\"line_width\":2,\"right_units\":\"screen\",\"syncable\":false,\"top_units\":\"screen\"},\"id\":\"1959\",\"type\":\"BoxAnnotation\"},{\"attributes\":{\"axis\":{\"id\":\"1947\"},\"coordinates\":null,\"grid_line_color\":null,\"group\":null,\"ticker\":null},\"id\":\"1949\",\"type\":\"Grid\"},{\"attributes\":{},\"id\":\"1979\",\"type\":\"CategoricalTickFormatter\"},{\"attributes\":{\"fill_alpha\":{\"value\":0.1},\"fill_color\":{\"field\":\"COUNTIES\",\"transform\":{\"id\":\"1967\"}},\"hatch_alpha\":{\"value\":0.1},\"hatch_color\":{\"field\":\"COUNTIES\",\"transform\":{\"id\":\"1967\"}},\"line_alpha\":{\"value\":0.1},\"top\":{\"field\":\"value\"},\"width\":{\"value\":0.8},\"x\":{\"field\":\"xoffsets\"}},\"id\":\"1972\",\"type\":\"VBar\"},{\"attributes\":{\"format\":\"%.0f\"},\"id\":\"1977\",\"type\":\"PrintfTickFormatter\"},{\"attributes\":{\"factors\":[[\"2016/17\",\"Pierce\"],[\"2016/17\",\"Snohomish\"],[\"2016/17\",\"King\"],[\"2017/18\",\"Pierce\"],[\"2017/18\",\"Snohomish\"],[\"2017/18\",\"King\"],[\"2018/19\",\"Pierce\"],[\"2018/19\",\"Snohomish\"],[\"2018/19\",\"King\"],[\"2019/20\",\"Pierce\"],[\"2019/20\",\"Snohomish\"],[\"2019/20\",\"King\"],[\"2020/21\",\"Pierce\"],[\"2020/21\",\"Snohomish\"],[\"2020/21\",\"King\"]],\"tags\":[[[\"Date\",\"Date\",null],[\"COUNTIES\",\"COUNTIES\",null]]]},\"id\":\"1935\",\"type\":\"FactorRange\"},{\"attributes\":{},\"id\":\"1954\",\"type\":\"SaveTool\"},{\"attributes\":{\"coordinates\":null,\"group\":null,\"text\":\"County Units Completed by Year\",\"text_color\":\"black\",\"text_font_size\":\"12pt\"},\"id\":\"1939\",\"type\":\"Title\"},{\"attributes\":{},\"id\":\"1951\",\"type\":\"BasicTicker\"},{\"attributes\":{\"axis\":{\"id\":\"1950\"},\"coordinates\":null,\"dimension\":1,\"grid_line_color\":null,\"group\":null,\"ticker\":null},\"id\":\"1953\",\"type\":\"Grid\"},{\"attributes\":{\"bottom\":{\"value\":0},\"fill_alpha\":{\"value\":1.0},\"fill_color\":{\"field\":\"COUNTIES\",\"transform\":{\"id\":\"1967\"}},\"hatch_alpha\":{\"value\":1.0},\"hatch_color\":{\"field\":\"COUNTIES\",\"transform\":{\"id\":\"1967\"}},\"hatch_scale\":{\"value\":12.0},\"hatch_weight\":{\"value\":1.0},\"line_alpha\":{\"value\":1.0},\"line_cap\":{\"value\":\"butt\"},\"line_color\":{\"value\":\"black\"},\"line_dash\":{\"value\":[]},\"line_dash_offset\":{\"value\":0},\"line_join\":{\"value\":\"bevel\"},\"line_width\":{\"value\":1},\"top\":{\"field\":\"value\"},\"width\":{\"value\":0.8},\"x\":{\"field\":\"xoffsets\"}},\"id\":\"1976\",\"type\":\"VBar\"},{\"attributes\":{\"below\":[{\"id\":\"1947\"}],\"center\":[{\"id\":\"1949\"},{\"id\":\"1953\"}],\"height\":300,\"left\":[{\"id\":\"1950\"}],\"margin\":[5,5,5,5],\"min_border_bottom\":10,\"min_border_left\":10,\"min_border_right\":10,\"min_border_top\":10,\"renderers\":[{\"id\":\"1974\"}],\"sizing_mode\":\"fixed\",\"title\":{\"id\":\"1939\"},\"toolbar\":{\"id\":\"1960\"},\"width\":700,\"x_range\":{\"id\":\"1935\"},\"x_scale\":{\"id\":\"1943\"},\"y_range\":{\"id\":\"1936\"},\"y_scale\":{\"id\":\"1945\"}},\"id\":\"1938\",\"subtype\":\"Figure\",\"type\":\"Plot\"},{\"attributes\":{\"margin\":[5,5,5,5],\"name\":\"HSpacer03374\",\"sizing_mode\":\"stretch_width\"},\"id\":\"1934\",\"type\":\"Spacer\"},{\"attributes\":{\"children\":[{\"id\":\"1934\"},{\"id\":\"1938\"},{\"id\":\"2004\"}],\"margin\":[0,0,0,0],\"name\":\"Row03370\",\"tags\":[\"embedded\"]},\"id\":\"1933\",\"type\":\"Row\"},{\"attributes\":{\"fill_alpha\":{\"value\":0.2},\"fill_color\":{\"field\":\"COUNTIES\",\"transform\":{\"id\":\"1967\"}},\"hatch_alpha\":{\"value\":0.2},\"hatch_color\":{\"field\":\"COUNTIES\",\"transform\":{\"id\":\"1967\"}},\"line_alpha\":{\"value\":0.2},\"top\":{\"field\":\"value\"},\"width\":{\"value\":0.8},\"x\":{\"field\":\"xoffsets\"}},\"id\":\"1973\",\"type\":\"VBar\"},{\"attributes\":{},\"id\":\"1958\",\"type\":\"ResetTool\"},{\"attributes\":{\"data\":{\"COUNTIES\":[\"King\",\"King\",\"King\",\"King\",\"King\",\"Snohomish\",\"Snohomish\",\"Snohomish\",\"Snohomish\",\"Snohomish\",\"Pierce\",\"Pierce\",\"Pierce\",\"Pierce\",\"Pierce\"],\"Date\":[\"2016/17\",\"2017/18\",\"2018/19\",\"2019/20\",\"2020/21\",\"2016/17\",\"2017/18\",\"2018/19\",\"2019/20\",\"2020/21\",\"2016/17\",\"2017/18\",\"2018/19\",\"2019/20\",\"2020/21\"],\"value\":{\"__ndarray__\":\"AAAAAADtzEAAAAAAAIDNQAAAAADAaNJAAAAAAIDH0EAAAAAAgM7NQAAAAAAAyKtAAAAAAACgskAAAAAAAIawQAAAAAAAf7FAAAAAAABktEAAAAAAALWwQAAAAAAAPq1AAAAAAACarEAAAAAAAJOxQAAAAAAAUrJA\",\"dtype\":\"float64\",\"order\":\"little\",\"shape\":[15]},\"xoffsets\":[[\"2016/17\",\"King\"],[\"2017/18\",\"King\"],[\"2018/19\",\"King\"],[\"2019/20\",\"King\"],[\"2020/21\",\"King\"],[\"2016/17\",\"Snohomish\"],[\"2017/18\",\"Snohomish\"],[\"2018/19\",\"Snohomish\"],[\"2019/20\",\"Snohomish\"],[\"2020/21\",\"Snohomish\"],[\"2016/17\",\"Pierce\"],[\"2017/18\",\"Pierce\"],[\"2018/19\",\"Pierce\"],[\"2019/20\",\"Pierce\"],[\"2020/21\",\"Pierce\"]]},\"selected\":{\"id\":\"1969\"},\"selection_policy\":{\"id\":\"1992\"}},\"id\":\"1968\",\"type\":\"ColumnDataSource\"},{\"attributes\":{\"fill_color\":{\"field\":\"COUNTIES\",\"transform\":{\"id\":\"1967\"}},\"hatch_color\":{\"field\":\"COUNTIES\",\"transform\":{\"id\":\"1967\"}},\"top\":{\"field\":\"value\"},\"width\":{\"value\":0.8},\"x\":{\"field\":\"xoffsets\"}},\"id\":\"1971\",\"type\":\"VBar\"},{\"attributes\":{},\"id\":\"1992\",\"type\":\"UnionRenderers\"},{\"attributes\":{\"coordinates\":null,\"data_source\":{\"id\":\"1968\"},\"glyph\":{\"id\":\"1971\"},\"group\":null,\"hover_glyph\":null,\"muted_glyph\":{\"id\":\"1973\"},\"nonselection_glyph\":{\"id\":\"1972\"},\"selection_glyph\":{\"id\":\"1976\"},\"view\":{\"id\":\"1975\"}},\"id\":\"1974\",\"type\":\"GlyphRenderer\"},{\"attributes\":{\"source\":{\"id\":\"1968\"}},\"id\":\"1975\",\"type\":\"CDSView\"},{\"attributes\":{\"callback\":null,\"renderers\":[{\"id\":\"1974\"}],\"tags\":[\"hv_created\"],\"tooltips\":[[\"Date\",\"@{Date}\"],[\"COUNTIES\",\"@{COUNTIES}\"],[\"value\",\"@{value}\"]]},\"id\":\"1937\",\"type\":\"HoverTool\"},{\"attributes\":{},\"id\":\"1956\",\"type\":\"WheelZoomTool\"}],\"root_ids\":[\"1933\"]},\"title\":\"Bokeh Application\",\"version\":\"2.4.1\"}};\n",
       "    var render_items = [{\"docid\":\"5819f402-2d83-49df-adcb-29acfad55008\",\"root_ids\":[\"1933\"],\"roots\":{\"1933\":\"cfbda727-a158-4590-9da9-9e46624735dc\"}}];\n",
       "    root.Bokeh.embed.embed_items_notebook(docs_json, render_items);\n",
       "  }\n",
       "  if (root.Bokeh !== undefined && root.Bokeh.Panel !== undefined) {\n",
       "    embed_document(root);\n",
       "  } else {\n",
       "    var attempts = 0;\n",
       "    var timer = setInterval(function(root) {\n",
       "      if (root.Bokeh !== undefined && root.Bokeh.Panel !== undefined) {\n",
       "        clearInterval(timer);\n",
       "        embed_document(root);\n",
       "      } else if (document.readyState == \"complete\") {\n",
       "        attempts++;\n",
       "        if (attempts > 200) {\n",
       "          clearInterval(timer);\n",
       "          console.log(\"Bokeh: ERROR: Unable to run BokehJS code because BokehJS library is missing\");\n",
       "        }\n",
       "      }\n",
       "    }, 25, root)\n",
       "  }\n",
       "})(window);</script>"
      ],
      "text/plain": [
       ":Bars   [Date,COUNTIES]   (value)"
      ]
     },
     "execution_count": 15,
     "metadata": {
      "application/vnd.holoviews_exec.v0+json": {
       "id": "1933"
      }
     },
     "output_type": "execute_result"
    }
   ],
   "source": [
    "#Creating a bar plot for the three counties \n",
    "b_df.hvplot.bar(\n",
    "    xlabel='Year',\n",
    "    ylabel='Units Completed',\n",
    "    title='County Units Completed by Year',\n",
    "    rot=30,    \n",
    ").opts(yformatter='%.0f')"
   ]
  },
  {
   "cell_type": "code",
   "execution_count": 18,
   "id": "fcbaf37e-1ebb-428f-9f27-f0fc97b7ff1b",
   "metadata": {},
   "outputs": [
    {
     "data": {},
     "metadata": {},
     "output_type": "display_data"
    },
    {
     "data": {
      "application/vnd.holoviews_exec.v0+json": "",
      "text/html": [
       "<div id='2051'>\n",
       "\n",
       "\n",
       "\n",
       "\n",
       "\n",
       "  <div class=\"bk-root\" id=\"92bbe16e-f6bf-4a0a-b398-ace1d2cddcf7\" data-root-id=\"2051\"></div>\n",
       "</div>\n",
       "<script type=\"application/javascript\">(function(root) {\n",
       "  function embed_document(root) {\n",
       "    var docs_json = {\"a7aa9f86-3b33-488e-aa2d-eb611f67c356\":{\"defs\":[{\"extends\":null,\"module\":null,\"name\":\"ReactiveHTML1\",\"overrides\":[],\"properties\":[]},{\"extends\":null,\"module\":null,\"name\":\"FlexBox1\",\"overrides\":[],\"properties\":[{\"default\":\"flex-start\",\"kind\":null,\"name\":\"align_content\"},{\"default\":\"flex-start\",\"kind\":null,\"name\":\"align_items\"},{\"default\":\"row\",\"kind\":null,\"name\":\"flex_direction\"},{\"default\":\"wrap\",\"kind\":null,\"name\":\"flex_wrap\"},{\"default\":\"flex-start\",\"kind\":null,\"name\":\"justify_content\"}]},{\"extends\":null,\"module\":null,\"name\":\"TemplateActions1\",\"overrides\":[],\"properties\":[{\"default\":0,\"kind\":null,\"name\":\"open_modal\"},{\"default\":0,\"kind\":null,\"name\":\"close_modal\"}]},{\"extends\":null,\"module\":null,\"name\":\"MaterialTemplateActions1\",\"overrides\":[],\"properties\":[{\"default\":0,\"kind\":null,\"name\":\"open_modal\"},{\"default\":0,\"kind\":null,\"name\":\"close_modal\"}]}],\"roots\":{\"references\":[{\"attributes\":{\"children\":[{\"id\":\"2052\"},{\"id\":\"2056\"},{\"id\":\"2127\"},{\"id\":\"2128\"}],\"margin\":[0,0,0,0],\"name\":\"Row03548\"},\"id\":\"2051\",\"type\":\"Row\"},{\"attributes\":{\"coordinates\":null,\"data_source\":{\"id\":\"2085\"},\"glyph\":{\"id\":\"2088\"},\"group\":null,\"hover_glyph\":null,\"muted_glyph\":{\"id\":\"2090\"},\"nonselection_glyph\":{\"id\":\"2089\"},\"selection_glyph\":{\"id\":\"2093\"},\"view\":{\"id\":\"2092\"}},\"id\":\"2091\",\"type\":\"GlyphRenderer\"},{\"attributes\":{},\"id\":\"2097\",\"type\":\"AllLabels\"},{\"attributes\":{\"fill_alpha\":{\"value\":0.2},\"fill_color\":{\"value\":\"#30a2da\"},\"hatch_alpha\":{\"value\":0.2},\"hatch_color\":{\"value\":\"#30a2da\"},\"line_alpha\":{\"value\":0.2},\"top\":{\"field\":\"Units_Permitted\"},\"width\":{\"value\":0.8},\"x\":{\"field\":\"Date\"}},\"id\":\"2090\",\"type\":\"VBar\"},{\"attributes\":{\"margin\":[5,5,5,5],\"name\":\"VSpacer03554\",\"sizing_mode\":\"stretch_height\"},\"id\":\"2129\",\"type\":\"Spacer\"},{\"attributes\":{},\"id\":\"2086\",\"type\":\"Selection\"},{\"attributes\":{\"axis_label\":\"Units_Permitted\",\"coordinates\":null,\"formatter\":{\"id\":\"2094\"},\"group\":null,\"major_label_policy\":{\"id\":\"2100\"},\"ticker\":{\"id\":\"2069\"}},\"id\":\"2068\",\"type\":\"LinearAxis\"},{\"attributes\":{\"factors\":[\"2016\",\"2017\",\"2018\",\"2019\",\"2020\"],\"tags\":[[[\"Date\",\"Date\",null]]]},\"id\":\"2053\",\"type\":\"FactorRange\"},{\"attributes\":{\"bottom\":{\"value\":0},\"fill_alpha\":{\"value\":1.0},\"fill_color\":{\"value\":\"#30a2da\"},\"hatch_alpha\":{\"value\":1.0},\"hatch_color\":{\"value\":\"#30a2da\"},\"hatch_scale\":{\"value\":12.0},\"hatch_weight\":{\"value\":1.0},\"line_alpha\":{\"value\":1.0},\"line_cap\":{\"value\":\"butt\"},\"line_color\":{\"value\":\"black\"},\"line_dash\":{\"value\":[]},\"line_dash_offset\":{\"value\":0},\"line_join\":{\"value\":\"bevel\"},\"line_width\":{\"value\":1},\"top\":{\"field\":\"Units_Permitted\"},\"width\":{\"value\":0.8},\"x\":{\"field\":\"Date\"}},\"id\":\"2093\",\"type\":\"VBar\"},{\"attributes\":{},\"id\":\"2100\",\"type\":\"AllLabels\"},{\"attributes\":{\"overlay\":{\"id\":\"2077\"}},\"id\":\"2075\",\"type\":\"BoxZoomTool\"},{\"attributes\":{},\"id\":\"2115\",\"type\":\"UnionRenderers\"},{\"attributes\":{\"margin\":[5,5,5,5],\"name\":\"HSpacer03557\",\"sizing_mode\":\"stretch_width\"},\"id\":\"2052\",\"type\":\"Spacer\"},{\"attributes\":{\"fill_color\":{\"value\":\"#30a2da\"},\"hatch_color\":{\"value\":\"#30a2da\"},\"top\":{\"field\":\"Units_Permitted\"},\"width\":{\"value\":0.8},\"x\":{\"field\":\"Date\"}},\"id\":\"2088\",\"type\":\"VBar\"},{\"attributes\":{\"axis\":{\"id\":\"2065\"},\"coordinates\":null,\"grid_line_color\":null,\"group\":null,\"ticker\":null},\"id\":\"2067\",\"type\":\"Grid\"},{\"attributes\":{\"margin\":[5,5,5,5],\"name\":\"HSpacer03558\",\"sizing_mode\":\"stretch_width\"},\"id\":\"2127\",\"type\":\"Spacer\"},{\"attributes\":{\"coordinates\":null,\"group\":null,\"text\":\"County Units Permitted by Date\",\"text_color\":\"black\",\"text_font_size\":\"12pt\"},\"id\":\"2057\",\"type\":\"Title\"},{\"attributes\":{\"children\":[{\"id\":\"2131\"}],\"css_classes\":[\"panel-widget-box\"],\"margin\":[5,5,5,5],\"name\":\"WidgetBox03549\"},\"id\":\"2130\",\"type\":\"Column\"},{\"attributes\":{},\"id\":\"2074\",\"type\":\"WheelZoomTool\"},{\"attributes\":{},\"id\":\"2069\",\"type\":\"BasicTicker\"},{\"attributes\":{\"below\":[{\"id\":\"2065\"}],\"center\":[{\"id\":\"2067\"},{\"id\":\"2071\"}],\"height\":300,\"left\":[{\"id\":\"2068\"}],\"margin\":[5,5,5,5],\"min_border_bottom\":10,\"min_border_left\":10,\"min_border_right\":10,\"min_border_top\":10,\"renderers\":[{\"id\":\"2091\"}],\"sizing_mode\":\"fixed\",\"title\":{\"id\":\"2057\"},\"toolbar\":{\"id\":\"2078\"},\"width\":700,\"x_range\":{\"id\":\"2053\"},\"x_scale\":{\"id\":\"2061\"},\"y_range\":{\"id\":\"2054\"},\"y_scale\":{\"id\":\"2063\"}},\"id\":\"2056\",\"subtype\":\"Figure\",\"type\":\"Plot\"},{\"attributes\":{},\"id\":\"2063\",\"type\":\"LinearScale\"},{\"attributes\":{},\"id\":\"2073\",\"type\":\"PanTool\"},{\"attributes\":{\"margin\":[20,20,20,20],\"min_width\":250,\"options\":[\"Adams\",\"Asotin\",\"Benton\",\"Chelan\",\"Clallam\",\"Clark\",\"Columbia\",\"Cowlitz\",\"Douglas\",\"Ferry\",\"Franklin\",\"Garfield\",\"Grant\",\"Grays\",\"Island\",\"Jefferson\",\"King\",\"Kitsap\",\"Kittitas\",\"Klickitat\",\"Lewis\",\"Lincoln\",\"Mason\",\"Okanogan\",\"Pacific\",\"Pend\",\"Pierce\",\"San\",\"Skagit\",\"Skamania\",\"Snohomish\",\"Spokane\",\"Stevens\",\"Thurston\",\"Wahkiakum\",\"Walla\",\"Whatcom\",\"Whitman\",\"Yakima\"],\"title\":\"COUNTIES\",\"value\":\"Adams\",\"width\":250},\"id\":\"2131\",\"type\":\"Select\"},{\"attributes\":{\"client_comm_id\":\"c4691362070449a29f9ead337ca9e502\",\"comm_id\":\"279aa44a1def4548a3c38807fec04398\",\"plot_id\":\"2051\"},\"id\":\"2160\",\"type\":\"panel.models.comm_manager.CommManager\"},{\"attributes\":{\"fill_alpha\":{\"value\":0.1},\"fill_color\":{\"value\":\"#30a2da\"},\"hatch_alpha\":{\"value\":0.1},\"hatch_color\":{\"value\":\"#30a2da\"},\"line_alpha\":{\"value\":0.1},\"top\":{\"field\":\"Units_Permitted\"},\"width\":{\"value\":0.8},\"x\":{\"field\":\"Date\"}},\"id\":\"2089\",\"type\":\"VBar\"},{\"attributes\":{\"children\":[{\"id\":\"2129\"},{\"id\":\"2130\"},{\"id\":\"2132\"}],\"margin\":[0,0,0,0],\"name\":\"Column03556\"},\"id\":\"2128\",\"type\":\"Column\"},{\"attributes\":{\"callback\":null,\"renderers\":[{\"id\":\"2091\"}],\"tags\":[\"hv_created\"],\"tooltips\":[[\"Date\",\"@{Date}\"],[\"Units_Permitted\",\"@{Units_Permitted}\"]]},\"id\":\"2055\",\"type\":\"HoverTool\"},{\"attributes\":{},\"id\":\"2096\",\"type\":\"CategoricalTickFormatter\"},{\"attributes\":{\"axis_label\":\"Date\",\"coordinates\":null,\"formatter\":{\"id\":\"2096\"},\"group\":null,\"major_label_orientation\":0.5235987755982988,\"major_label_policy\":{\"id\":\"2097\"},\"ticker\":{\"id\":\"2066\"}},\"id\":\"2065\",\"type\":\"CategoricalAxis\"},{\"attributes\":{\"format\":\"%.0f\"},\"id\":\"2094\",\"type\":\"PrintfTickFormatter\"},{\"attributes\":{},\"id\":\"2072\",\"type\":\"SaveTool\"},{\"attributes\":{},\"id\":\"2076\",\"type\":\"ResetTool\"},{\"attributes\":{},\"id\":\"2066\",\"type\":\"CategoricalTicker\"},{\"attributes\":{\"bottom_units\":\"screen\",\"coordinates\":null,\"fill_alpha\":0.5,\"fill_color\":\"lightgrey\",\"group\":null,\"left_units\":\"screen\",\"level\":\"overlay\",\"line_alpha\":1.0,\"line_color\":\"black\",\"line_dash\":[4,4],\"line_width\":2,\"right_units\":\"screen\",\"syncable\":false,\"top_units\":\"screen\"},\"id\":\"2077\",\"type\":\"BoxAnnotation\"},{\"attributes\":{\"source\":{\"id\":\"2085\"}},\"id\":\"2092\",\"type\":\"CDSView\"},{\"attributes\":{\"end\":105.8,\"reset_end\":105.8,\"reset_start\":0.0,\"tags\":[[[\"Units_Permitted\",\"Units_Permitted\",null]]]},\"id\":\"2054\",\"type\":\"Range1d\"},{\"attributes\":{\"data\":{\"Date\":[\"2016\",\"2017\",\"2018\",\"2019\",\"2020\"],\"Units_Permitted\":{\"__ndarray__\":\"AAAAAAAAP0AAAAAAAAA/QAAAAAAAgEdAAAAAAABAUkAAAAAAAMBYQA==\",\"dtype\":\"float64\",\"order\":\"little\",\"shape\":[5]}},\"selected\":{\"id\":\"2086\"},\"selection_policy\":{\"id\":\"2115\"}},\"id\":\"2085\",\"type\":\"ColumnDataSource\"},{\"attributes\":{\"tools\":[{\"id\":\"2055\"},{\"id\":\"2072\"},{\"id\":\"2073\"},{\"id\":\"2074\"},{\"id\":\"2075\"},{\"id\":\"2076\"}]},\"id\":\"2078\",\"type\":\"Toolbar\"},{\"attributes\":{\"margin\":[5,5,5,5],\"name\":\"VSpacer03555\",\"sizing_mode\":\"stretch_height\"},\"id\":\"2132\",\"type\":\"Spacer\"},{\"attributes\":{\"axis\":{\"id\":\"2068\"},\"coordinates\":null,\"dimension\":1,\"grid_line_color\":null,\"group\":null,\"ticker\":null},\"id\":\"2071\",\"type\":\"Grid\"},{\"attributes\":{},\"id\":\"2061\",\"type\":\"CategoricalScale\"}],\"root_ids\":[\"2051\",\"2160\"]},\"title\":\"Bokeh Application\",\"version\":\"2.4.1\"}};\n",
       "    var render_items = [{\"docid\":\"a7aa9f86-3b33-488e-aa2d-eb611f67c356\",\"root_ids\":[\"2051\"],\"roots\":{\"2051\":\"92bbe16e-f6bf-4a0a-b398-ace1d2cddcf7\"}}];\n",
       "    root.Bokeh.embed.embed_items_notebook(docs_json, render_items);\n",
       "  }\n",
       "  if (root.Bokeh !== undefined && root.Bokeh.Panel !== undefined) {\n",
       "    embed_document(root);\n",
       "  } else {\n",
       "    var attempts = 0;\n",
       "    var timer = setInterval(function(root) {\n",
       "      if (root.Bokeh !== undefined && root.Bokeh.Panel !== undefined) {\n",
       "        clearInterval(timer);\n",
       "        embed_document(root);\n",
       "      } else if (document.readyState == \"complete\") {\n",
       "        attempts++;\n",
       "        if (attempts > 200) {\n",
       "          clearInterval(timer);\n",
       "          console.log(\"Bokeh: ERROR: Unable to run BokehJS code because BokehJS library is missing\");\n",
       "        }\n",
       "      }\n",
       "    }, 25, root)\n",
       "  }\n",
       "})(window);</script>"
      ],
      "text/plain": [
       ":DynamicMap   [COUNTIES]\n",
       "   :Bars   [Date]   (Units_Permitted)"
      ]
     },
     "execution_count": 18,
     "metadata": {
      "application/vnd.holoviews_exec.v0+json": {
       "id": "2051"
      }
     },
     "output_type": "execute_result"
    }
   ],
   "source": [
    "#Creating a bar plot of the building permits for the county\n",
    "building_permit_county_df.hvplot.bar(\n",
    "    x='Date',\n",
    "    y='Units_Permitted',\n",
    "    groupby='COUNTIES',\n",
    "    title='County Units Permitted by Date',\n",
    "    rot=30\n",
    ").opts(yformatter='%.0f')"
   ]
  },
  {
   "cell_type": "code",
   "execution_count": 19,
   "id": "76a18548-6ab3-49da-9d02-8353cac39884",
   "metadata": {},
   "outputs": [
    {
     "data": {},
     "metadata": {},
     "output_type": "display_data"
    },
    {
     "data": {
      "application/vnd.holoviews_exec.v0+json": "",
      "text/html": [
       "<div id='2206'>\n",
       "\n",
       "\n",
       "\n",
       "\n",
       "\n",
       "  <div class=\"bk-root\" id=\"3fad4299-a67f-4f1a-9221-6de728a4e044\" data-root-id=\"2206\"></div>\n",
       "</div>\n",
       "<script type=\"application/javascript\">(function(root) {\n",
       "  function embed_document(root) {\n",
       "    var docs_json = {\"45d410c7-abcf-4f1d-a269-0588e9c0d2e1\":{\"defs\":[{\"extends\":null,\"module\":null,\"name\":\"ReactiveHTML1\",\"overrides\":[],\"properties\":[]},{\"extends\":null,\"module\":null,\"name\":\"FlexBox1\",\"overrides\":[],\"properties\":[{\"default\":\"flex-start\",\"kind\":null,\"name\":\"align_content\"},{\"default\":\"flex-start\",\"kind\":null,\"name\":\"align_items\"},{\"default\":\"row\",\"kind\":null,\"name\":\"flex_direction\"},{\"default\":\"wrap\",\"kind\":null,\"name\":\"flex_wrap\"},{\"default\":\"flex-start\",\"kind\":null,\"name\":\"justify_content\"}]},{\"extends\":null,\"module\":null,\"name\":\"TemplateActions1\",\"overrides\":[],\"properties\":[{\"default\":0,\"kind\":null,\"name\":\"open_modal\"},{\"default\":0,\"kind\":null,\"name\":\"close_modal\"}]},{\"extends\":null,\"module\":null,\"name\":\"MaterialTemplateActions1\",\"overrides\":[],\"properties\":[{\"default\":0,\"kind\":null,\"name\":\"open_modal\"},{\"default\":0,\"kind\":null,\"name\":\"close_modal\"}]}],\"roots\":{\"references\":[{\"attributes\":{\"margin\":[5,5,5,5],\"name\":\"VSpacer03821\",\"sizing_mode\":\"stretch_height\"},\"id\":\"2284\",\"type\":\"Spacer\"},{\"attributes\":{\"axis_label\":\"Units_Permitted\",\"coordinates\":null,\"formatter\":{\"id\":\"2249\"},\"group\":null,\"major_label_policy\":{\"id\":\"2255\"},\"ticker\":{\"id\":\"2224\"}},\"id\":\"2223\",\"type\":\"LinearAxis\"},{\"attributes\":{\"overlay\":{\"id\":\"2232\"}},\"id\":\"2230\",\"type\":\"BoxZoomTool\"},{\"attributes\":{},\"id\":\"2224\",\"type\":\"BasicTicker\"},{\"attributes\":{},\"id\":\"2241\",\"type\":\"Selection\"},{\"attributes\":{\"children\":[{\"id\":\"2284\"},{\"id\":\"2285\"},{\"id\":\"2287\"}],\"margin\":[0,0,0,0],\"name\":\"Column03823\"},\"id\":\"2283\",\"type\":\"Column\"},{\"attributes\":{},\"id\":\"2252\",\"type\":\"AllLabels\"},{\"attributes\":{\"axis\":{\"id\":\"2220\"},\"coordinates\":null,\"grid_line_color\":null,\"group\":null,\"ticker\":null},\"id\":\"2222\",\"type\":\"Grid\"},{\"attributes\":{},\"id\":\"2229\",\"type\":\"WheelZoomTool\"},{\"attributes\":{\"margin\":[20,20,20,20],\"min_width\":250,\"options\":[\"Aberdeen\",\"Airway Heights\",\"Anacortes\",\"Arlington\",\"Auburn\",\"Bainbridge Island\",\"Battle Ground\",\"Bellevue\",\"Bellingham\",\"Bonney Lake\",\"Bothell\",\"Bremerton\",\"Burien\",\"Burlington\",\"Camas\",\"Centralia\",\"Cheney\",\"Covington\",\"Des Moines\",\"DuPont\",\"East Wenatchee\",\"Edgewood\",\"Edmonds\",\"Ellensburg\",\"Enumclaw\",\"Everett\",\"Federal Way\",\"Ferndale\",\"Fife\",\"Gig Harbor\",\"Grandview\",\"Issaquah\",\"Kelso\",\"Kenmore\",\"Kennewick\",\"Kent\",\"Kirkland\",\"Lacey\",\"Lake Forest Park\",\"Lake Stevens\",\"Lakewood\",\"Liberty Lake\",\"Longview\",\"Lynden\",\"Lynnwood\",\"Maple Valley\",\"Marysville\",\"Mercer Island\",\"Mill Creek\",\"Monroe\",\"Moses Lake\",\"Mount Vernon\",\"Mountlake Terrace\",\"Mukilteo\",\"Newcastle\",\"Oak Harbor\",\"Olympia\",\"Pasco\",\"Port Angeles\",\"Port Orchard\",\"Port Townsend\",\"Poulsbo\",\"Pullman\",\"Puyallup\",\"Redmond\",\"Renton\",\"Richland\",\"Sammamish\",\"Seatac\",\"Seattle\",\"Sedro-Woolley\",\"Shelton\",\"Shoreline\",\"Snohomish\",\"Snoqualmie\",\"Spokane\",\"Spokane Valley\",\"Sumner\",\"Sunnyside\",\"Tacoma\",\"Tukwila\",\"Tumwater\",\"University Place\",\"Vancouver\",\"Walla Walla\",\"Washougal\",\"Wenatchee\",\"West Richland\",\"Woodinville\",\"Yakima\",\"Yelm\"],\"title\":\"CITIES\",\"value\":\"Aberdeen\",\"width\":250},\"id\":\"2286\",\"type\":\"Select\"},{\"attributes\":{\"fill_color\":{\"value\":\"pink\"},\"hatch_color\":{\"value\":\"pink\"},\"top\":{\"field\":\"Units_Permitted\"},\"width\":{\"value\":0.8},\"x\":{\"field\":\"Date\"}},\"id\":\"2243\",\"type\":\"VBar\"},{\"attributes\":{\"margin\":[5,5,5,5],\"name\":\"HSpacer03824\",\"sizing_mode\":\"stretch_width\"},\"id\":\"2207\",\"type\":\"Spacer\"},{\"attributes\":{\"format\":\"%.0f\"},\"id\":\"2249\",\"type\":\"PrintfTickFormatter\"},{\"attributes\":{},\"id\":\"2228\",\"type\":\"PanTool\"},{\"attributes\":{},\"id\":\"2221\",\"type\":\"CategoricalTicker\"},{\"attributes\":{\"margin\":[5,5,5,5],\"name\":\"HSpacer03825\",\"sizing_mode\":\"stretch_width\"},\"id\":\"2282\",\"type\":\"Spacer\"},{\"attributes\":{\"margin\":[5,5,5,5],\"name\":\"VSpacer03822\",\"sizing_mode\":\"stretch_height\"},\"id\":\"2287\",\"type\":\"Spacer\"},{\"attributes\":{\"callback\":null,\"renderers\":[{\"id\":\"2246\"}],\"tags\":[\"hv_created\"],\"tooltips\":[[\"Date\",\"@{Date}\"],[\"Units_Permitted\",\"@{Units_Permitted}\"]]},\"id\":\"2210\",\"type\":\"HoverTool\"},{\"attributes\":{\"end\":18.5,\"reset_end\":18.5,\"reset_start\":0.0,\"tags\":[[[\"Units_Permitted\",\"Units_Permitted\",null]]]},\"id\":\"2209\",\"type\":\"Range1d\"},{\"attributes\":{\"bottom\":{\"value\":0},\"fill_alpha\":{\"value\":1.0},\"fill_color\":{\"value\":\"pink\"},\"hatch_alpha\":{\"value\":1.0},\"hatch_color\":{\"value\":\"pink\"},\"hatch_scale\":{\"value\":12.0},\"hatch_weight\":{\"value\":1.0},\"line_alpha\":{\"value\":1.0},\"line_cap\":{\"value\":\"butt\"},\"line_color\":{\"value\":\"black\"},\"line_dash\":{\"value\":[]},\"line_dash_offset\":{\"value\":0},\"line_join\":{\"value\":\"bevel\"},\"line_width\":{\"value\":1},\"top\":{\"field\":\"Units_Permitted\"},\"width\":{\"value\":0.8},\"x\":{\"field\":\"Date\"}},\"id\":\"2248\",\"type\":\"VBar\"},{\"attributes\":{},\"id\":\"2270\",\"type\":\"UnionRenderers\"},{\"attributes\":{},\"id\":\"2227\",\"type\":\"SaveTool\"},{\"attributes\":{\"coordinates\":null,\"group\":null,\"text\":\"City Units Permitted by Date\",\"text_color\":\"black\",\"text_font_size\":\"12pt\"},\"id\":\"2212\",\"type\":\"Title\"},{\"attributes\":{\"data\":{\"Date\":[\"2016\",\"2017\",\"2018\",\"2019\",\"2020\"],\"Units_Permitted\":{\"__ndarray__\":\"AAAAAAAAFEAAAAAAAAAYQAAAAAAAAABAAAAAAAAAAEAAAAAAAAAxQA==\",\"dtype\":\"float64\",\"order\":\"little\",\"shape\":[5]}},\"selected\":{\"id\":\"2241\"},\"selection_policy\":{\"id\":\"2270\"}},\"id\":\"2240\",\"type\":\"ColumnDataSource\"},{\"attributes\":{},\"id\":\"2255\",\"type\":\"AllLabels\"},{\"attributes\":{\"axis\":{\"id\":\"2223\"},\"coordinates\":null,\"dimension\":1,\"grid_line_color\":null,\"group\":null,\"ticker\":null},\"id\":\"2226\",\"type\":\"Grid\"},{\"attributes\":{\"fill_alpha\":{\"value\":0.2},\"fill_color\":{\"value\":\"pink\"},\"hatch_alpha\":{\"value\":0.2},\"hatch_color\":{\"value\":\"pink\"},\"line_alpha\":{\"value\":0.2},\"top\":{\"field\":\"Units_Permitted\"},\"width\":{\"value\":0.8},\"x\":{\"field\":\"Date\"}},\"id\":\"2245\",\"type\":\"VBar\"},{\"attributes\":{},\"id\":\"2251\",\"type\":\"CategoricalTickFormatter\"},{\"attributes\":{\"bottom_units\":\"screen\",\"coordinates\":null,\"fill_alpha\":0.5,\"fill_color\":\"lightgrey\",\"group\":null,\"left_units\":\"screen\",\"level\":\"overlay\",\"line_alpha\":1.0,\"line_color\":\"black\",\"line_dash\":[4,4],\"line_width\":2,\"right_units\":\"screen\",\"syncable\":false,\"top_units\":\"screen\"},\"id\":\"2232\",\"type\":\"BoxAnnotation\"},{\"attributes\":{\"fill_alpha\":{\"value\":0.1},\"fill_color\":{\"value\":\"pink\"},\"hatch_alpha\":{\"value\":0.1},\"hatch_color\":{\"value\":\"pink\"},\"line_alpha\":{\"value\":0.1},\"top\":{\"field\":\"Units_Permitted\"},\"width\":{\"value\":0.8},\"x\":{\"field\":\"Date\"}},\"id\":\"2244\",\"type\":\"VBar\"},{\"attributes\":{\"axis_label\":\"Date\",\"coordinates\":null,\"formatter\":{\"id\":\"2251\"},\"group\":null,\"major_label_orientation\":0.5235987755982988,\"major_label_policy\":{\"id\":\"2252\"},\"ticker\":{\"id\":\"2221\"}},\"id\":\"2220\",\"type\":\"CategoricalAxis\"},{\"attributes\":{\"coordinates\":null,\"data_source\":{\"id\":\"2240\"},\"glyph\":{\"id\":\"2243\"},\"group\":null,\"hover_glyph\":null,\"muted_glyph\":{\"id\":\"2245\"},\"nonselection_glyph\":{\"id\":\"2244\"},\"selection_glyph\":{\"id\":\"2248\"},\"view\":{\"id\":\"2247\"}},\"id\":\"2246\",\"type\":\"GlyphRenderer\"},{\"attributes\":{\"children\":[{\"id\":\"2286\"}],\"css_classes\":[\"panel-widget-box\"],\"margin\":[5,5,5,5],\"name\":\"WidgetBox03816\"},\"id\":\"2285\",\"type\":\"Column\"},{\"attributes\":{\"children\":[{\"id\":\"2207\"},{\"id\":\"2211\"},{\"id\":\"2282\"},{\"id\":\"2283\"}],\"margin\":[0,0,0,0],\"name\":\"Row03815\"},\"id\":\"2206\",\"type\":\"Row\"},{\"attributes\":{\"factors\":[\"2016\",\"2017\",\"2018\",\"2019\",\"2020\"],\"tags\":[[[\"Date\",\"Date\",null]]]},\"id\":\"2208\",\"type\":\"FactorRange\"},{\"attributes\":{},\"id\":\"2231\",\"type\":\"ResetTool\"},{\"attributes\":{\"source\":{\"id\":\"2240\"}},\"id\":\"2247\",\"type\":\"CDSView\"},{\"attributes\":{\"below\":[{\"id\":\"2220\"}],\"center\":[{\"id\":\"2222\"},{\"id\":\"2226\"}],\"height\":300,\"left\":[{\"id\":\"2223\"}],\"margin\":[5,5,5,5],\"min_border_bottom\":10,\"min_border_left\":10,\"min_border_right\":10,\"min_border_top\":10,\"renderers\":[{\"id\":\"2246\"}],\"sizing_mode\":\"fixed\",\"title\":{\"id\":\"2212\"},\"toolbar\":{\"id\":\"2233\"},\"width\":700,\"x_range\":{\"id\":\"2208\"},\"x_scale\":{\"id\":\"2216\"},\"y_range\":{\"id\":\"2209\"},\"y_scale\":{\"id\":\"2218\"}},\"id\":\"2211\",\"subtype\":\"Figure\",\"type\":\"Plot\"},{\"attributes\":{\"client_comm_id\":\"d6ee967afce249019164cf67cb13d5b6\",\"comm_id\":\"597d2a929fd740c6822c50a5f0aa188d\",\"plot_id\":\"2206\"},\"id\":\"2315\",\"type\":\"panel.models.comm_manager.CommManager\"},{\"attributes\":{},\"id\":\"2216\",\"type\":\"CategoricalScale\"},{\"attributes\":{},\"id\":\"2218\",\"type\":\"LinearScale\"},{\"attributes\":{\"tools\":[{\"id\":\"2210\"},{\"id\":\"2227\"},{\"id\":\"2228\"},{\"id\":\"2229\"},{\"id\":\"2230\"},{\"id\":\"2231\"}]},\"id\":\"2233\",\"type\":\"Toolbar\"}],\"root_ids\":[\"2206\",\"2315\"]},\"title\":\"Bokeh Application\",\"version\":\"2.4.1\"}};\n",
       "    var render_items = [{\"docid\":\"45d410c7-abcf-4f1d-a269-0588e9c0d2e1\",\"root_ids\":[\"2206\"],\"roots\":{\"2206\":\"3fad4299-a67f-4f1a-9221-6de728a4e044\"}}];\n",
       "    root.Bokeh.embed.embed_items_notebook(docs_json, render_items);\n",
       "  }\n",
       "  if (root.Bokeh !== undefined && root.Bokeh.Panel !== undefined) {\n",
       "    embed_document(root);\n",
       "  } else {\n",
       "    var attempts = 0;\n",
       "    var timer = setInterval(function(root) {\n",
       "      if (root.Bokeh !== undefined && root.Bokeh.Panel !== undefined) {\n",
       "        clearInterval(timer);\n",
       "        embed_document(root);\n",
       "      } else if (document.readyState == \"complete\") {\n",
       "        attempts++;\n",
       "        if (attempts > 200) {\n",
       "          clearInterval(timer);\n",
       "          console.log(\"Bokeh: ERROR: Unable to run BokehJS code because BokehJS library is missing\");\n",
       "        }\n",
       "      }\n",
       "    }, 25, root)\n",
       "  }\n",
       "})(window);</script>"
      ],
      "text/plain": [
       ":DynamicMap   [CITIES]\n",
       "   :Bars   [Date]   (Units_Permitted)"
      ]
     },
     "execution_count": 19,
     "metadata": {
      "application/vnd.holoviews_exec.v0+json": {
       "id": "2206"
      }
     },
     "output_type": "execute_result"
    }
   ],
   "source": [
    "#Creating a bar plot of the building permits for the county\n",
    "building_permit_city_df.hvplot.bar(\n",
    "    x='Date',\n",
    "    y='Units_Permitted',\n",
    "    groupby='CITIES',\n",
    "    title='City Units Permitted by Date',\n",
    "    rot=30,\n",
    "    color='pink'\n",
    ").opts(yformatter='%.0f')"
   ]
  },
  {
   "cell_type": "markdown",
   "id": "1bbbcb60-3802-4538-a210-03a11a9d4ed6",
   "metadata": {},
   "source": [
    "### Employement Data Visualization"
   ]
  },
  {
   "cell_type": "code",
   "execution_count": 22,
   "id": "5a225956-3097-49f9-8315-f5a4544433d1",
   "metadata": {},
   "outputs": [
    {
     "data": {},
     "metadata": {},
     "output_type": "display_data"
    },
    {
     "data": {
      "application/vnd.holoviews_exec.v0+json": "",
      "text/html": [
       "<div id='2361'>\n",
       "\n",
       "\n",
       "\n",
       "\n",
       "\n",
       "  <div class=\"bk-root\" id=\"23c33ab2-b135-4c97-a423-4ea8ced82603\" data-root-id=\"2361\"></div>\n",
       "</div>\n",
       "<script type=\"application/javascript\">(function(root) {\n",
       "  function embed_document(root) {\n",
       "    var docs_json = {\"2e0ad646-3a07-4dcf-8fb3-f05281fabade\":{\"defs\":[{\"extends\":null,\"module\":null,\"name\":\"ReactiveHTML1\",\"overrides\":[],\"properties\":[]},{\"extends\":null,\"module\":null,\"name\":\"FlexBox1\",\"overrides\":[],\"properties\":[{\"default\":\"flex-start\",\"kind\":null,\"name\":\"align_content\"},{\"default\":\"flex-start\",\"kind\":null,\"name\":\"align_items\"},{\"default\":\"row\",\"kind\":null,\"name\":\"flex_direction\"},{\"default\":\"wrap\",\"kind\":null,\"name\":\"flex_wrap\"},{\"default\":\"flex-start\",\"kind\":null,\"name\":\"justify_content\"}]},{\"extends\":null,\"module\":null,\"name\":\"TemplateActions1\",\"overrides\":[],\"properties\":[{\"default\":0,\"kind\":null,\"name\":\"open_modal\"},{\"default\":0,\"kind\":null,\"name\":\"close_modal\"}]},{\"extends\":null,\"module\":null,\"name\":\"MaterialTemplateActions1\",\"overrides\":[],\"properties\":[{\"default\":0,\"kind\":null,\"name\":\"open_modal\"},{\"default\":0,\"kind\":null,\"name\":\"close_modal\"}]}],\"roots\":{\"references\":[{\"attributes\":{\"days\":[1,15]},\"id\":\"2435\",\"type\":\"DaysTicker\"},{\"attributes\":{\"below\":[{\"id\":\"2375\"}],\"center\":[{\"id\":\"2378\"},{\"id\":\"2382\"}],\"height\":300,\"left\":[{\"id\":\"2379\"}],\"margin\":[5,5,5,5],\"min_border_bottom\":10,\"min_border_left\":10,\"min_border_right\":10,\"min_border_top\":10,\"renderers\":[{\"id\":\"2402\"}],\"sizing_mode\":\"fixed\",\"title\":{\"id\":\"2367\"},\"toolbar\":{\"id\":\"2389\"},\"width\":700,\"x_range\":{\"id\":\"2363\"},\"x_scale\":{\"id\":\"2371\"},\"y_range\":{\"id\":\"2364\"},\"y_scale\":{\"id\":\"2373\"}},\"id\":\"2366\",\"subtype\":\"Figure\",\"type\":\"Plot\"},{\"attributes\":{},\"id\":\"2387\",\"type\":\"ResetTool\"},{\"attributes\":{},\"id\":\"2411\",\"type\":\"AllLabels\"},{\"attributes\":{},\"id\":\"2408\",\"type\":\"AllLabels\"},{\"attributes\":{\"coordinates\":null,\"group\":null,\"text\":\"Washington Employment by Date\",\"text_color\":\"black\",\"text_font_size\":\"12pt\"},\"id\":\"2367\",\"type\":\"Title\"},{\"attributes\":{},\"id\":\"2383\",\"type\":\"SaveTool\"},{\"attributes\":{\"children\":[{\"id\":\"2464\"},{\"id\":\"2465\"},{\"id\":\"2467\"}],\"margin\":[0,0,0,0],\"name\":\"Column04090\"},\"id\":\"2463\",\"type\":\"Column\"},{\"attributes\":{\"mantissas\":[1,2,5],\"max_interval\":500.0,\"num_minor_ticks\":0},\"id\":\"2429\",\"type\":\"AdaptiveTicker\"},{\"attributes\":{\"margin\":[5,5,5,5],\"name\":\"VSpacer04088\",\"sizing_mode\":\"stretch_height\"},\"id\":\"2464\",\"type\":\"Spacer\"},{\"attributes\":{\"months\":[0,1,2,3,4,5,6,7,8,9,10,11]},\"id\":\"2436\",\"type\":\"MonthsTicker\"},{\"attributes\":{\"children\":[{\"id\":\"2362\"},{\"id\":\"2366\"},{\"id\":\"2462\"},{\"id\":\"2463\"}],\"margin\":[0,0,0,0],\"name\":\"Row04082\"},\"id\":\"2361\",\"type\":\"Row\"},{\"attributes\":{\"axis_label\":\"EMP_NO.\",\"coordinates\":null,\"formatter\":{\"id\":\"2405\"},\"group\":null,\"major_label_policy\":{\"id\":\"2411\"},\"ticker\":{\"id\":\"2380\"}},\"id\":\"2379\",\"type\":\"LinearAxis\"},{\"attributes\":{},\"id\":\"2397\",\"type\":\"Selection\"},{\"attributes\":{\"margin\":[5,5,5,5],\"name\":\"VSpacer04089\",\"sizing_mode\":\"stretch_height\"},\"id\":\"2467\",\"type\":\"Spacer\"},{\"attributes\":{\"days\":[1,2,3,4,5,6,7,8,9,10,11,12,13,14,15,16,17,18,19,20,21,22,23,24,25,26,27,28,29,30,31]},\"id\":\"2432\",\"type\":\"DaysTicker\"},{\"attributes\":{\"end\":243580.6,\"reset_end\":243580.6,\"reset_start\":205857.4,\"start\":205857.4,\"tags\":[[[\"EMP_NO.\",\"EMP_NO.\",null]]]},\"id\":\"2364\",\"type\":\"Range1d\"},{\"attributes\":{\"overlay\":{\"id\":\"2388\"}},\"id\":\"2386\",\"type\":\"BoxZoomTool\"},{\"attributes\":{},\"id\":\"2373\",\"type\":\"LinearScale\"},{\"attributes\":{\"axis\":{\"id\":\"2379\"},\"coordinates\":null,\"dimension\":1,\"grid_line_color\":null,\"group\":null,\"ticker\":null},\"id\":\"2382\",\"type\":\"Grid\"},{\"attributes\":{\"children\":[{\"id\":\"2466\"}],\"css_classes\":[\"panel-widget-box\"],\"margin\":[5,5,5,5],\"name\":\"WidgetBox04083\"},\"id\":\"2465\",\"type\":\"Column\"},{\"attributes\":{\"line_alpha\":0.2,\"line_color\":\"#30a2da\",\"line_width\":2,\"x\":{\"field\":\"Date\"},\"y\":{\"field\":\"EMP_NO.\"}},\"id\":\"2401\",\"type\":\"Line\"},{\"attributes\":{\"margin\":[20,20,20,20],\"min_width\":250,\"options\":[\"53011\",\"53025\",\"53033\",\"53035\",\"53053\",\"53061\",\"53065\",\"53067\"],\"title\":\"FIPS_CODE\",\"value\":\"53011\",\"width\":250},\"id\":\"2466\",\"type\":\"Select\"},{\"attributes\":{},\"id\":\"2426\",\"type\":\"UnionRenderers\"},{\"attributes\":{},\"id\":\"2385\",\"type\":\"WheelZoomTool\"},{\"attributes\":{\"data\":{\"Date\":{\"__ndarray__\":\"AABANnWVdUIAAICIb591QgAAgKlyqHVCAADA+2yydUIAAEDoFLx1QgAAgDoPxnVCAAAAJ7fPdUIAAEB5sdl1QgAAgMur43VCAAAAuFPtdUIAAEAKTvd1QgAAwPb1AHZCAAAASfAKdkIAAECb6hR2QgAAQLztHXZCAACADugndkIAAAD7jzF2QgAAQE2KO3ZCAADAOTJFdkIAAACMLE92QgAAQN4mWXZCAADAys5idkIAAAAdyWx2QgAAgAlxdnZCAADAW2uAdkIAAACuZYp2QgAAAM9ok3ZCAABAIWOddkIAAMANC6d2QgAAAGAFsXZCAACATK26dkIAAMCep8R2QgAAAPGhznZCAACA3UnYdkIAAMAvROJ2QgAAQBzs63ZCAACAbub1dkIAAMDA4P92QgAAgEc2CXdCAADAmTATd0IAAECG2Bx3QgAAgNjSJndCAAAAxXowd0IAAEAXdTp3QgAAgGlvRHdCAAAAVhdOd0IAAECoEVh3QgAAwJS5YXdCAAAA57Nrd0IAAEA5rnV3QgAAQFqxfndCAACArKuId0IAAACZU5J3QgAAQOtNnHdCAADA1/Wld0IAAAAq8K93QgAAQHzquXdCAADAaJLDd0IAAAC7jM13Qg==\",\"dtype\":\"float64\",\"order\":\"little\",\"shape\":[59]},\"EMP_NO.\":{\"__ndarray__\":\"AAAAALAACkEAAAAAKDYKQQAAAACwVQpBAAAAAAhTCkEAAAAAQEkKQQAAAADgXApBAAAAAEAxCkEAAAAAgEUKQQAAAACIYApBAAAAADDJCkEAAAAAIOEKQQAAAABQAQtBAAAAAKikCkEAAAAA6L0KQQAAAADozQpBAAAAABjJCkEAAAAA8PEKQQAAAADwygpBAAAAAIDbCkEAAAAAEM8KQQAAAADYIAtBAAAAAKjEC0EAAAAAmAsMQQAAAACgHAxBAAAAAJALDEEAAAAAsEIMQQAAAABARwxBAAAAAOgaDEEAAAAAABMMQQAAAACgDAxBAAAAAPgaDEEAAAAAyEMMQQAAAACAdQxBAAAAADD1DEEAAAAAiAkNQQAAAACoWQ1BAAAAAGgHDUEAAAAAODUNQQAAAACgwQxBAAAAAEiDCUEAAAAAeLsJQQAAAAAAsQlBAAAAADD8CUEAAAAAkDgKQQAAAADwWQpBAAAAAOj9DEEAAAAAMAULQQAAAAAIiwpBAAAAAPhYCkEAAAAA6H8KQQAAAAAIGgtBAAAAAFBTC0EAAAAAyMsLQQAAAAAYugtBAAAAAJAXDEEAAAAAsDQMQQAAAACgPQxBAAAAAKCVDEEAAAAA4EwNQQ==\",\"dtype\":\"float64\",\"order\":\"little\",\"shape\":[59]},\"EMP_NO_full_stop\":{\"__ndarray__\":\"AAAAALAACkEAAAAAKDYKQQAAAACwVQpBAAAAAAhTCkEAAAAAQEkKQQAAAADgXApBAAAAAEAxCkEAAAAAgEUKQQAAAACIYApBAAAAADDJCkEAAAAAIOEKQQAAAABQAQtBAAAAAKikCkEAAAAA6L0KQQAAAADozQpBAAAAABjJCkEAAAAA8PEKQQAAAADwygpBAAAAAIDbCkEAAAAAEM8KQQAAAADYIAtBAAAAAKjEC0EAAAAAmAsMQQAAAACgHAxBAAAAAJALDEEAAAAAsEIMQQAAAABARwxBAAAAAOgaDEEAAAAAABMMQQAAAACgDAxBAAAAAPgaDEEAAAAAyEMMQQAAAACAdQxBAAAAADD1DEEAAAAAiAkNQQAAAACoWQ1BAAAAAGgHDUEAAAAAODUNQQAAAACgwQxBAAAAAEiDCUEAAAAAeLsJQQAAAAAAsQlBAAAAADD8CUEAAAAAkDgKQQAAAADwWQpBAAAAAOj9DEEAAAAAMAULQQAAAAAIiwpBAAAAAPhYCkEAAAAA6H8KQQAAAAAIGgtBAAAAAFBTC0EAAAAAyMsLQQAAAAAYugtBAAAAAJAXDEEAAAAAsDQMQQAAAACgPQxBAAAAAKCVDEEAAAAA4EwNQQ==\",\"dtype\":\"float64\",\"order\":\"little\",\"shape\":[59]}},\"selected\":{\"id\":\"2397\"},\"selection_policy\":{\"id\":\"2426\"}},\"id\":\"2396\",\"type\":\"ColumnDataSource\"},{\"attributes\":{\"margin\":[5,5,5,5],\"name\":\"HSpacer04091\",\"sizing_mode\":\"stretch_width\"},\"id\":\"2362\",\"type\":\"Spacer\"},{\"attributes\":{\"axis\":{\"id\":\"2375\"},\"coordinates\":null,\"grid_line_color\":null,\"group\":null,\"ticker\":null},\"id\":\"2378\",\"type\":\"Grid\"},{\"attributes\":{\"days\":[1,8,15,22]},\"id\":\"2434\",\"type\":\"DaysTicker\"},{\"attributes\":{\"months\":[0,6]},\"id\":\"2439\",\"type\":\"MonthsTicker\"},{\"attributes\":{},\"id\":\"2384\",\"type\":\"PanTool\"},{\"attributes\":{},\"id\":\"2440\",\"type\":\"YearsTicker\"},{\"attributes\":{},\"id\":\"2371\",\"type\":\"LinearScale\"},{\"attributes\":{\"source\":{\"id\":\"2396\"}},\"id\":\"2403\",\"type\":\"CDSView\"},{\"attributes\":{\"num_minor_ticks\":5,\"tickers\":[{\"id\":\"2429\"},{\"id\":\"2430\"},{\"id\":\"2431\"},{\"id\":\"2432\"},{\"id\":\"2433\"},{\"id\":\"2434\"},{\"id\":\"2435\"},{\"id\":\"2436\"},{\"id\":\"2437\"},{\"id\":\"2438\"},{\"id\":\"2439\"},{\"id\":\"2440\"}]},\"id\":\"2376\",\"type\":\"DatetimeTicker\"},{\"attributes\":{\"bottom_units\":\"screen\",\"coordinates\":null,\"fill_alpha\":0.5,\"fill_color\":\"lightgrey\",\"group\":null,\"left_units\":\"screen\",\"level\":\"overlay\",\"line_alpha\":1.0,\"line_color\":\"black\",\"line_dash\":[4,4],\"line_width\":2,\"right_units\":\"screen\",\"syncable\":false,\"top_units\":\"screen\"},\"id\":\"2388\",\"type\":\"BoxAnnotation\"},{\"attributes\":{\"base\":60,\"mantissas\":[1,2,5,10,15,20,30],\"max_interval\":1800000.0,\"min_interval\":1000.0,\"num_minor_ticks\":0},\"id\":\"2430\",\"type\":\"AdaptiveTicker\"},{\"attributes\":{\"tools\":[{\"id\":\"2365\"},{\"id\":\"2383\"},{\"id\":\"2384\"},{\"id\":\"2385\"},{\"id\":\"2386\"},{\"id\":\"2387\"}]},\"id\":\"2389\",\"type\":\"Toolbar\"},{\"attributes\":{},\"id\":\"2380\",\"type\":\"BasicTicker\"},{\"attributes\":{},\"id\":\"2407\",\"type\":\"DatetimeTickFormatter\"},{\"attributes\":{\"end\":1635724800000.0,\"reset_end\":1635724800000.0,\"reset_start\":1483228800000.0,\"start\":1483228800000.0,\"tags\":[[[\"Date\",\"Date\",null]]]},\"id\":\"2363\",\"type\":\"Range1d\"},{\"attributes\":{\"line_color\":\"#30a2da\",\"line_width\":2,\"x\":{\"field\":\"Date\"},\"y\":{\"field\":\"EMP_NO.\"}},\"id\":\"2399\",\"type\":\"Line\"},{\"attributes\":{\"line_alpha\":0.1,\"line_color\":\"#30a2da\",\"line_width\":2,\"x\":{\"field\":\"Date\"},\"y\":{\"field\":\"EMP_NO.\"}},\"id\":\"2400\",\"type\":\"Line\"},{\"attributes\":{\"format\":\"%.0f\"},\"id\":\"2405\",\"type\":\"PrintfTickFormatter\"},{\"attributes\":{\"months\":[0,4,8]},\"id\":\"2438\",\"type\":\"MonthsTicker\"},{\"attributes\":{\"axis_label\":\"Date\",\"coordinates\":null,\"formatter\":{\"id\":\"2407\"},\"group\":null,\"major_label_orientation\":0.5235987755982988,\"major_label_policy\":{\"id\":\"2408\"},\"ticker\":{\"id\":\"2376\"}},\"id\":\"2375\",\"type\":\"DatetimeAxis\"},{\"attributes\":{\"callback\":null,\"formatters\":{\"@{Date}\":\"datetime\"},\"renderers\":[{\"id\":\"2402\"}],\"tags\":[\"hv_created\"],\"tooltips\":[[\"Date\",\"@{Date}{%F %T}\"],[\"EMP_NO.\",\"@{EMP_NO_full_stop}\"]]},\"id\":\"2365\",\"type\":\"HoverTool\"},{\"attributes\":{\"days\":[1,4,7,10,13,16,19,22,25,28]},\"id\":\"2433\",\"type\":\"DaysTicker\"},{\"attributes\":{\"base\":24,\"mantissas\":[1,2,4,6,8,12],\"max_interval\":43200000.0,\"min_interval\":3600000.0,\"num_minor_ticks\":0},\"id\":\"2431\",\"type\":\"AdaptiveTicker\"},{\"attributes\":{\"client_comm_id\":\"c014737e9ae445619100b24f0a4136af\",\"comm_id\":\"b82726547be3412395f7bde1b3356a4d\",\"plot_id\":\"2361\"},\"id\":\"2531\",\"type\":\"panel.models.comm_manager.CommManager\"},{\"attributes\":{\"margin\":[5,5,5,5],\"name\":\"HSpacer04092\",\"sizing_mode\":\"stretch_width\"},\"id\":\"2462\",\"type\":\"Spacer\"},{\"attributes\":{\"line_color\":\"#30a2da\",\"line_width\":2,\"x\":{\"field\":\"Date\"},\"y\":{\"field\":\"EMP_NO.\"}},\"id\":\"2404\",\"type\":\"Line\"},{\"attributes\":{\"months\":[0,2,4,6,8,10]},\"id\":\"2437\",\"type\":\"MonthsTicker\"},{\"attributes\":{\"coordinates\":null,\"data_source\":{\"id\":\"2396\"},\"glyph\":{\"id\":\"2399\"},\"group\":null,\"hover_glyph\":null,\"muted_glyph\":{\"id\":\"2401\"},\"nonselection_glyph\":{\"id\":\"2400\"},\"selection_glyph\":{\"id\":\"2404\"},\"view\":{\"id\":\"2403\"}},\"id\":\"2402\",\"type\":\"GlyphRenderer\"}],\"root_ids\":[\"2361\",\"2531\"]},\"title\":\"Bokeh Application\",\"version\":\"2.4.1\"}};\n",
       "    var render_items = [{\"docid\":\"2e0ad646-3a07-4dcf-8fb3-f05281fabade\",\"root_ids\":[\"2361\"],\"roots\":{\"2361\":\"23c33ab2-b135-4c97-a423-4ea8ced82603\"}}];\n",
       "    root.Bokeh.embed.embed_items_notebook(docs_json, render_items);\n",
       "  }\n",
       "  if (root.Bokeh !== undefined && root.Bokeh.Panel !== undefined) {\n",
       "    embed_document(root);\n",
       "  } else {\n",
       "    var attempts = 0;\n",
       "    var timer = setInterval(function(root) {\n",
       "      if (root.Bokeh !== undefined && root.Bokeh.Panel !== undefined) {\n",
       "        clearInterval(timer);\n",
       "        embed_document(root);\n",
       "      } else if (document.readyState == \"complete\") {\n",
       "        attempts++;\n",
       "        if (attempts > 200) {\n",
       "          clearInterval(timer);\n",
       "          console.log(\"Bokeh: ERROR: Unable to run BokehJS code because BokehJS library is missing\");\n",
       "        }\n",
       "      }\n",
       "    }, 25, root)\n",
       "  }\n",
       "})(window);</script>"
      ],
      "text/plain": [
       ":DynamicMap   [FIPS_CODE]\n",
       "   :Curve   [Date]   (EMP_NO.)"
      ]
     },
     "execution_count": 22,
     "metadata": {
      "application/vnd.holoviews_exec.v0+json": {
       "id": "2361"
      }
     },
     "output_type": "execute_result"
    }
   ],
   "source": [
    "#Create a line plot to show the employment rate by county\n",
    "wa_employment_df.hvplot(\n",
    "    x='Date',\n",
    "    y='EMP_NO.',\n",
    "    groupby='FIPS_CODE',\n",
    "    title='Washington Employment by Date',\n",
    "    rot=30\n",
    ").opts(yformatter='%.0f')"
   ]
  },
  {
   "cell_type": "markdown",
   "id": "cc4d3270-ec9b-4956-91c8-d7e6d36874e6",
   "metadata": {},
   "source": [
    "### Employement Data Visualization"
   ]
  },
  {
   "cell_type": "code",
   "execution_count": 24,
   "id": "b5262c51-78bc-446f-80a3-b5ecb8d3fd54",
   "metadata": {},
   "outputs": [
    {
     "data": {},
     "metadata": {},
     "output_type": "display_data"
    },
    {
     "data": {
      "application/vnd.holoviews_exec.v0+json": "",
      "text/html": [
       "<div id='2637'>\n",
       "\n",
       "\n",
       "\n",
       "\n",
       "\n",
       "  <div class=\"bk-root\" id=\"a3b11a5c-9214-446e-baf0-08c2b486c815\" data-root-id=\"2637\"></div>\n",
       "</div>\n",
       "<script type=\"application/javascript\">(function(root) {\n",
       "  function embed_document(root) {\n",
       "    var docs_json = {\"74f6cd8d-1bb7-409d-be68-d715ad6891b9\":{\"defs\":[{\"extends\":null,\"module\":null,\"name\":\"ReactiveHTML1\",\"overrides\":[],\"properties\":[]},{\"extends\":null,\"module\":null,\"name\":\"FlexBox1\",\"overrides\":[],\"properties\":[{\"default\":\"flex-start\",\"kind\":null,\"name\":\"align_content\"},{\"default\":\"flex-start\",\"kind\":null,\"name\":\"align_items\"},{\"default\":\"row\",\"kind\":null,\"name\":\"flex_direction\"},{\"default\":\"wrap\",\"kind\":null,\"name\":\"flex_wrap\"},{\"default\":\"flex-start\",\"kind\":null,\"name\":\"justify_content\"}]},{\"extends\":null,\"module\":null,\"name\":\"TemplateActions1\",\"overrides\":[],\"properties\":[{\"default\":0,\"kind\":null,\"name\":\"open_modal\"},{\"default\":0,\"kind\":null,\"name\":\"close_modal\"}]},{\"extends\":null,\"module\":null,\"name\":\"MaterialTemplateActions1\",\"overrides\":[],\"properties\":[{\"default\":0,\"kind\":null,\"name\":\"open_modal\"},{\"default\":0,\"kind\":null,\"name\":\"close_modal\"}]}],\"roots\":{\"references\":[{\"attributes\":{\"line_color\":\"#30a2da\",\"line_width\":2,\"x\":{\"field\":\"Date\"},\"y\":{\"field\":\"LABOR_NO.\"}},\"id\":\"2675\",\"type\":\"Line\"},{\"attributes\":{},\"id\":\"2660\",\"type\":\"PanTool\"},{\"attributes\":{\"format\":\"%.0f\"},\"id\":\"2681\",\"type\":\"PrintfTickFormatter\"},{\"attributes\":{\"months\":[0,2,4,6,8,10]},\"id\":\"2713\",\"type\":\"MonthsTicker\"},{\"attributes\":{},\"id\":\"2663\",\"type\":\"ResetTool\"},{\"attributes\":{\"end\":1635724800000.0,\"reset_end\":1635724800000.0,\"reset_start\":1483228800000.0,\"start\":1483228800000.0,\"tags\":[[[\"Date\",\"Date\",null]]]},\"id\":\"2639\",\"type\":\"Range1d\"},{\"attributes\":{},\"id\":\"2656\",\"type\":\"BasicTicker\"},{\"attributes\":{\"days\":[1,15]},\"id\":\"2711\",\"type\":\"DaysTicker\"},{\"attributes\":{\"base\":24,\"mantissas\":[1,2,4,6,8,12],\"max_interval\":43200000.0,\"min_interval\":3600000.0,\"num_minor_ticks\":0},\"id\":\"2707\",\"type\":\"AdaptiveTicker\"},{\"attributes\":{\"end\":256329.9,\"reset_end\":256329.9,\"reset_start\":222911.1,\"start\":222911.1,\"tags\":[[[\"LABOR_NO.\",\"LABOR_NO.\",null]]]},\"id\":\"2640\",\"type\":\"Range1d\"},{\"attributes\":{\"months\":[0,4,8]},\"id\":\"2714\",\"type\":\"MonthsTicker\"},{\"attributes\":{\"line_alpha\":0.2,\"line_color\":\"#30a2da\",\"line_width\":2,\"x\":{\"field\":\"Date\"},\"y\":{\"field\":\"LABOR_NO.\"}},\"id\":\"2677\",\"type\":\"Line\"},{\"attributes\":{\"axis_label\":\"LABOR_NO.\",\"coordinates\":null,\"formatter\":{\"id\":\"2681\"},\"group\":null,\"major_label_policy\":{\"id\":\"2687\"},\"ticker\":{\"id\":\"2656\"}},\"id\":\"2655\",\"type\":\"LinearAxis\"},{\"attributes\":{},\"id\":\"2683\",\"type\":\"DatetimeTickFormatter\"},{\"attributes\":{\"months\":[0,1,2,3,4,5,6,7,8,9,10,11]},\"id\":\"2712\",\"type\":\"MonthsTicker\"},{\"attributes\":{\"bottom_units\":\"screen\",\"coordinates\":null,\"fill_alpha\":0.5,\"fill_color\":\"lightgrey\",\"group\":null,\"left_units\":\"screen\",\"level\":\"overlay\",\"line_alpha\":1.0,\"line_color\":\"black\",\"line_dash\":[4,4],\"line_width\":2,\"right_units\":\"screen\",\"syncable\":false,\"top_units\":\"screen\"},\"id\":\"2664\",\"type\":\"BoxAnnotation\"},{\"attributes\":{\"callback\":null,\"formatters\":{\"@{Date}\":\"datetime\"},\"renderers\":[{\"id\":\"2678\"}],\"tags\":[\"hv_created\"],\"tooltips\":[[\"Date\",\"@{Date}{%F %T}\"],[\"LABOR_NO.\",\"@{LABOR_NO_full_stop}\"]]},\"id\":\"2641\",\"type\":\"HoverTool\"},{\"attributes\":{\"days\":[1,8,15,22]},\"id\":\"2710\",\"type\":\"DaysTicker\"},{\"attributes\":{\"data\":{\"Date\":{\"__ndarray__\":\"AABANnWVdUIAAICIb591QgAAgKlyqHVCAADA+2yydUIAAEDoFLx1QgAAgDoPxnVCAAAAJ7fPdUIAAEB5sdl1QgAAgMur43VCAAAAuFPtdUIAAEAKTvd1QgAAwPb1AHZCAAAASfAKdkIAAECb6hR2QgAAQLztHXZCAACADugndkIAAAD7jzF2QgAAQE2KO3ZCAADAOTJFdkIAAACMLE92QgAAQN4mWXZCAADAys5idkIAAAAdyWx2QgAAgAlxdnZCAADAW2uAdkIAAACuZYp2QgAAAM9ok3ZCAABAIWOddkIAAMANC6d2QgAAAGAFsXZCAACATK26dkIAAMCep8R2QgAAAPGhznZCAACA3UnYdkIAAMAvROJ2QgAAQBzs63ZCAACAbub1dkIAAMDA4P92QgAAgEc2CXdCAADAmTATd0IAAECG2Bx3QgAAgNjSJndCAAAAxXowd0IAAEAXdTp3QgAAgGlvRHdCAAAAVhdOd0IAAECoEVh3QgAAwJS5YXdCAAAA57Nrd0IAAEA5rnV3QgAAQFqxfndCAACArKuId0IAAACZU5J3QgAAQOtNnHdCAADA1/Wld0IAAAAq8K93QgAAQHzquXdCAADAaJLDd0IAAAC7jM13Qg==\",\"dtype\":\"float64\",\"order\":\"little\",\"shape\":[59]},\"LABOR_NO.\":{\"__ndarray__\":\"AAAAAICmC0EAAAAAOMkLQQAAAABoyQtBAAAAAFinC0EAAAAAQJQLQQAAAABQtwtBAAAAAACNC0EAAAAAcLILQQAAAABgqQtBAAAAACgHDEEAAAAAkDIMQQAAAACQYQxBAAAAAPgSDEEAAAAAADoMQQAAAABYOAxBAAAAAOAZDEEAAAAAaCoMQQAAAADwHQxBAAAAAAAsDEEAAAAA0CcMQQAAAAAYVgxBAAAAAOANDUEAAAAAMGINQQAAAAAojA1BAAAAADicDUEAAAAAYNENQQAAAABoyg1BAAAAAIB7DUEAAAAAuGENQQAAAADAfg1BAAAAAACSDUEAAAAAyLsNQQAAAABAsg1BAAAAALA5DkEAAAAAsFAOQQAAAABolQ5BAAAAAAh9DkEAAAAAiLMOQQAAAAAYVQ5BAAAAAEj1DUEAAAAAUHENQQAAAACw7QxBAAAAAGCLDUEAAAAAEPkMQQAAAACApgxBAAAAAEjzDkEAAAAA4PMMQQAAAACgagxBAAAAAOAiDEEAAAAAyFQMQQAAAADw6gxBAAAAAKADDUEAAAAAoD4NQQAAAAB4KQ1BAAAAAFBwDUEAAAAAKKINQQAAAADgbQ1BAAAAAPjLDUEAAAAACFEOQQ==\",\"dtype\":\"float64\",\"order\":\"little\",\"shape\":[59]},\"LABOR_NO_full_stop\":{\"__ndarray__\":\"AAAAAICmC0EAAAAAOMkLQQAAAABoyQtBAAAAAFinC0EAAAAAQJQLQQAAAABQtwtBAAAAAACNC0EAAAAAcLILQQAAAABgqQtBAAAAACgHDEEAAAAAkDIMQQAAAACQYQxBAAAAAPgSDEEAAAAAADoMQQAAAABYOAxBAAAAAOAZDEEAAAAAaCoMQQAAAADwHQxBAAAAAAAsDEEAAAAA0CcMQQAAAAAYVgxBAAAAAOANDUEAAAAAMGINQQAAAAAojA1BAAAAADicDUEAAAAAYNENQQAAAABoyg1BAAAAAIB7DUEAAAAAuGENQQAAAADAfg1BAAAAAACSDUEAAAAAyLsNQQAAAABAsg1BAAAAALA5DkEAAAAAsFAOQQAAAABolQ5BAAAAAAh9DkEAAAAAiLMOQQAAAAAYVQ5BAAAAAEj1DUEAAAAAUHENQQAAAACw7QxBAAAAAGCLDUEAAAAAEPkMQQAAAACApgxBAAAAAEjzDkEAAAAA4PMMQQAAAACgagxBAAAAAOAiDEEAAAAAyFQMQQAAAADw6gxBAAAAAKADDUEAAAAAoD4NQQAAAAB4KQ1BAAAAAFBwDUEAAAAAKKINQQAAAADgbQ1BAAAAAPjLDUEAAAAACFEOQQ==\",\"dtype\":\"float64\",\"order\":\"little\",\"shape\":[59]}},\"selected\":{\"id\":\"2673\"},\"selection_policy\":{\"id\":\"2702\"}},\"id\":\"2672\",\"type\":\"ColumnDataSource\"},{\"attributes\":{\"overlay\":{\"id\":\"2664\"}},\"id\":\"2662\",\"type\":\"BoxZoomTool\"},{\"attributes\":{\"days\":[1,4,7,10,13,16,19,22,25,28]},\"id\":\"2709\",\"type\":\"DaysTicker\"},{\"attributes\":{\"axis_label\":\"Date\",\"coordinates\":null,\"formatter\":{\"id\":\"2683\"},\"group\":null,\"major_label_orientation\":0.5235987755982988,\"major_label_policy\":{\"id\":\"2684\"},\"ticker\":{\"id\":\"2652\"}},\"id\":\"2651\",\"type\":\"DatetimeAxis\"},{\"attributes\":{\"margin\":[5,5,5,5],\"name\":\"VSpacer04396\",\"sizing_mode\":\"stretch_height\"},\"id\":\"2743\",\"type\":\"Spacer\"},{\"attributes\":{\"source\":{\"id\":\"2672\"}},\"id\":\"2679\",\"type\":\"CDSView\"},{\"attributes\":{\"children\":[{\"id\":\"2740\"},{\"id\":\"2741\"},{\"id\":\"2743\"}],\"margin\":[0,0,0,0],\"name\":\"Column04397\"},\"id\":\"2739\",\"type\":\"Column\"},{\"attributes\":{\"axis\":{\"id\":\"2655\"},\"coordinates\":null,\"dimension\":1,\"grid_line_color\":null,\"group\":null,\"ticker\":null},\"id\":\"2658\",\"type\":\"Grid\"},{\"attributes\":{\"children\":[{\"id\":\"2742\"}],\"css_classes\":[\"panel-widget-box\"],\"margin\":[5,5,5,5],\"name\":\"WidgetBox04390\"},\"id\":\"2741\",\"type\":\"Column\"},{\"attributes\":{\"client_comm_id\":\"c62bb72a95714baeaa973ba27200cbab\",\"comm_id\":\"48bb50c6dbdf4a65a021fc95f9c96dd5\",\"plot_id\":\"2637\"},\"id\":\"2807\",\"type\":\"panel.models.comm_manager.CommManager\"},{\"attributes\":{\"margin\":[5,5,5,5],\"name\":\"HSpacer04398\",\"sizing_mode\":\"stretch_width\"},\"id\":\"2638\",\"type\":\"Spacer\"},{\"attributes\":{},\"id\":\"2673\",\"type\":\"Selection\"},{\"attributes\":{\"children\":[{\"id\":\"2638\"},{\"id\":\"2642\"},{\"id\":\"2738\"},{\"id\":\"2739\"}],\"margin\":[0,0,0,0],\"name\":\"Row04389\"},\"id\":\"2637\",\"type\":\"Row\"},{\"attributes\":{\"margin\":[20,20,20,20],\"min_width\":250,\"options\":[\"53011\",\"53025\",\"53033\",\"53035\",\"53053\",\"53061\",\"53065\",\"53067\"],\"title\":\"FIPS_CODE\",\"value\":\"53011\",\"width\":250},\"id\":\"2742\",\"type\":\"Select\"},{\"attributes\":{\"mantissas\":[1,2,5],\"max_interval\":500.0,\"num_minor_ticks\":0},\"id\":\"2705\",\"type\":\"AdaptiveTicker\"},{\"attributes\":{},\"id\":\"2716\",\"type\":\"YearsTicker\"},{\"attributes\":{\"coordinates\":null,\"data_source\":{\"id\":\"2672\"},\"glyph\":{\"id\":\"2675\"},\"group\":null,\"hover_glyph\":null,\"muted_glyph\":{\"id\":\"2677\"},\"nonselection_glyph\":{\"id\":\"2676\"},\"selection_glyph\":{\"id\":\"2680\"},\"view\":{\"id\":\"2679\"}},\"id\":\"2678\",\"type\":\"GlyphRenderer\"},{\"attributes\":{},\"id\":\"2647\",\"type\":\"LinearScale\"},{\"attributes\":{\"line_color\":\"#30a2da\",\"line_width\":2,\"x\":{\"field\":\"Date\"},\"y\":{\"field\":\"LABOR_NO.\"}},\"id\":\"2680\",\"type\":\"Line\"},{\"attributes\":{\"months\":[0,6]},\"id\":\"2715\",\"type\":\"MonthsTicker\"},{\"attributes\":{\"margin\":[5,5,5,5],\"name\":\"HSpacer04399\",\"sizing_mode\":\"stretch_width\"},\"id\":\"2738\",\"type\":\"Spacer\"},{\"attributes\":{},\"id\":\"2661\",\"type\":\"WheelZoomTool\"},{\"attributes\":{\"coordinates\":null,\"group\":null,\"text\":\"Washington Labor Force by Date\",\"text_color\":\"black\",\"text_font_size\":\"12pt\"},\"id\":\"2643\",\"type\":\"Title\"},{\"attributes\":{},\"id\":\"2684\",\"type\":\"AllLabels\"},{\"attributes\":{},\"id\":\"2659\",\"type\":\"SaveTool\"},{\"attributes\":{\"num_minor_ticks\":5,\"tickers\":[{\"id\":\"2705\"},{\"id\":\"2706\"},{\"id\":\"2707\"},{\"id\":\"2708\"},{\"id\":\"2709\"},{\"id\":\"2710\"},{\"id\":\"2711\"},{\"id\":\"2712\"},{\"id\":\"2713\"},{\"id\":\"2714\"},{\"id\":\"2715\"},{\"id\":\"2716\"}]},\"id\":\"2652\",\"type\":\"DatetimeTicker\"},{\"attributes\":{},\"id\":\"2702\",\"type\":\"UnionRenderers\"},{\"attributes\":{\"days\":[1,2,3,4,5,6,7,8,9,10,11,12,13,14,15,16,17,18,19,20,21,22,23,24,25,26,27,28,29,30,31]},\"id\":\"2708\",\"type\":\"DaysTicker\"},{\"attributes\":{\"margin\":[5,5,5,5],\"name\":\"VSpacer04395\",\"sizing_mode\":\"stretch_height\"},\"id\":\"2740\",\"type\":\"Spacer\"},{\"attributes\":{\"line_alpha\":0.1,\"line_color\":\"#30a2da\",\"line_width\":2,\"x\":{\"field\":\"Date\"},\"y\":{\"field\":\"LABOR_NO.\"}},\"id\":\"2676\",\"type\":\"Line\"},{\"attributes\":{\"axis\":{\"id\":\"2651\"},\"coordinates\":null,\"grid_line_color\":null,\"group\":null,\"ticker\":null},\"id\":\"2654\",\"type\":\"Grid\"},{\"attributes\":{\"base\":60,\"mantissas\":[1,2,5,10,15,20,30],\"max_interval\":1800000.0,\"min_interval\":1000.0,\"num_minor_ticks\":0},\"id\":\"2706\",\"type\":\"AdaptiveTicker\"},{\"attributes\":{},\"id\":\"2649\",\"type\":\"LinearScale\"},{\"attributes\":{\"tools\":[{\"id\":\"2641\"},{\"id\":\"2659\"},{\"id\":\"2660\"},{\"id\":\"2661\"},{\"id\":\"2662\"},{\"id\":\"2663\"}]},\"id\":\"2665\",\"type\":\"Toolbar\"},{\"attributes\":{},\"id\":\"2687\",\"type\":\"AllLabels\"},{\"attributes\":{\"below\":[{\"id\":\"2651\"}],\"center\":[{\"id\":\"2654\"},{\"id\":\"2658\"}],\"height\":300,\"left\":[{\"id\":\"2655\"}],\"margin\":[5,5,5,5],\"min_border_bottom\":10,\"min_border_left\":10,\"min_border_right\":10,\"min_border_top\":10,\"renderers\":[{\"id\":\"2678\"}],\"sizing_mode\":\"fixed\",\"title\":{\"id\":\"2643\"},\"toolbar\":{\"id\":\"2665\"},\"width\":700,\"x_range\":{\"id\":\"2639\"},\"x_scale\":{\"id\":\"2647\"},\"y_range\":{\"id\":\"2640\"},\"y_scale\":{\"id\":\"2649\"}},\"id\":\"2642\",\"subtype\":\"Figure\",\"type\":\"Plot\"}],\"root_ids\":[\"2637\",\"2807\"]},\"title\":\"Bokeh Application\",\"version\":\"2.4.1\"}};\n",
       "    var render_items = [{\"docid\":\"74f6cd8d-1bb7-409d-be68-d715ad6891b9\",\"root_ids\":[\"2637\"],\"roots\":{\"2637\":\"a3b11a5c-9214-446e-baf0-08c2b486c815\"}}];\n",
       "    root.Bokeh.embed.embed_items_notebook(docs_json, render_items);\n",
       "  }\n",
       "  if (root.Bokeh !== undefined && root.Bokeh.Panel !== undefined) {\n",
       "    embed_document(root);\n",
       "  } else {\n",
       "    var attempts = 0;\n",
       "    var timer = setInterval(function(root) {\n",
       "      if (root.Bokeh !== undefined && root.Bokeh.Panel !== undefined) {\n",
       "        clearInterval(timer);\n",
       "        embed_document(root);\n",
       "      } else if (document.readyState == \"complete\") {\n",
       "        attempts++;\n",
       "        if (attempts > 200) {\n",
       "          clearInterval(timer);\n",
       "          console.log(\"Bokeh: ERROR: Unable to run BokehJS code because BokehJS library is missing\");\n",
       "        }\n",
       "      }\n",
       "    }, 25, root)\n",
       "  }\n",
       "})(window);</script>"
      ],
      "text/plain": [
       ":DynamicMap   [FIPS_CODE]\n",
       "   :Curve   [Date]   (LABOR_NO.)"
      ]
     },
     "execution_count": 24,
     "metadata": {
      "application/vnd.holoviews_exec.v0+json": {
       "id": "2637"
      }
     },
     "output_type": "execute_result"
    }
   ],
   "source": [
    "#Create a line plot to show the labor force by county\n",
    "wa_labor_force_df.hvplot(\n",
    "    x='Date',\n",
    "    y='LABOR_NO.',\n",
    "    groupby='FIPS_CODE',\n",
    "    title='Washington Labor Force by Date',\n",
    "    rot=30\n",
    ").opts(yformatter='%.0f')"
   ]
  },
  {
   "cell_type": "markdown",
   "id": "7004da34-69fd-4021-b954-700769dbe719",
   "metadata": {
    "tags": []
   },
   "source": [
    "# Calculating Single Family Rental Returns by County"
   ]
  },
  {
   "cell_type": "markdown",
   "id": "3e90ba50-540d-4f17-a24c-cdb79ca940d2",
   "metadata": {},
   "source": [
    "### Monthly housing Investment yield for each county"
   ]
  },
  {
   "cell_type": "code",
   "execution_count": 25,
   "id": "81ac774e-505f-4976-b3bc-5325303f71d0",
   "metadata": {},
   "outputs": [
    {
     "data": {
      "text/html": [
       "<div>\n",
       "<style scoped>\n",
       "    .dataframe tbody tr th:only-of-type {\n",
       "        vertical-align: middle;\n",
       "    }\n",
       "\n",
       "    .dataframe tbody tr th {\n",
       "        vertical-align: top;\n",
       "    }\n",
       "\n",
       "    .dataframe thead th {\n",
       "        text-align: right;\n",
       "    }\n",
       "</style>\n",
       "<table border=\"1\" class=\"dataframe\">\n",
       "  <thead>\n",
       "    <tr style=\"text-align: right;\">\n",
       "      <th></th>\n",
       "      <th>county_fips</th>\n",
       "      <th>county_name</th>\n",
       "      <th>median_listing_price_per_square_foot_mm</th>\n",
       "      <th>percent_median_listing_price_per_square_foot_mm</th>\n",
       "    </tr>\n",
       "  </thead>\n",
       "  <tbody>\n",
       "    <tr>\n",
       "      <th>2534</th>\n",
       "      <td>53001</td>\n",
       "      <td>Adams</td>\n",
       "      <td>-0.0399</td>\n",
       "      <td>-3.99</td>\n",
       "    </tr>\n",
       "    <tr>\n",
       "      <th>2535</th>\n",
       "      <td>53003</td>\n",
       "      <td>Asotin</td>\n",
       "      <td>0.0834</td>\n",
       "      <td>8.34</td>\n",
       "    </tr>\n",
       "    <tr>\n",
       "      <th>2536</th>\n",
       "      <td>53005</td>\n",
       "      <td>Benton</td>\n",
       "      <td>0.0401</td>\n",
       "      <td>4.01</td>\n",
       "    </tr>\n",
       "    <tr>\n",
       "      <th>2537</th>\n",
       "      <td>53007</td>\n",
       "      <td>Chelan</td>\n",
       "      <td>0.0082</td>\n",
       "      <td>0.82</td>\n",
       "    </tr>\n",
       "    <tr>\n",
       "      <th>2538</th>\n",
       "      <td>53009</td>\n",
       "      <td>Clallam</td>\n",
       "      <td>0.0232</td>\n",
       "      <td>2.32</td>\n",
       "    </tr>\n",
       "  </tbody>\n",
       "</table>\n",
       "</div>"
      ],
      "text/plain": [
       "      county_fips county_name  median_listing_price_per_square_foot_mm  \\\n",
       "2534        53001       Adams                                  -0.0399   \n",
       "2535        53003      Asotin                                   0.0834   \n",
       "2536        53005      Benton                                   0.0401   \n",
       "2537        53007      Chelan                                   0.0082   \n",
       "2538        53009     Clallam                                   0.0232   \n",
       "\n",
       "      percent_median_listing_price_per_square_foot_mm  \n",
       "2534                                            -3.99  \n",
       "2535                                             8.34  \n",
       "2536                                             4.01  \n",
       "2537                                             0.82  \n",
       "2538                                             2.32  "
      ]
     },
     "execution_count": 25,
     "metadata": {},
     "output_type": "execute_result"
    }
   ],
   "source": [
    "# Monthly Housing Yield is `median_listing_price_per_square_foot_mm`(change in monthly median price compared to previous month)for latest month ie., `2021-12-01`\n",
    "housing_yield = wa_house_listing_county_df[wa_house_listing_county_df['Date'] == '2021-12-01']\n",
    "housing_yield = housing_yield[['county_fips','county_name','median_listing_price_per_square_foot_mm']]\n",
    "housing_yield['percent_median_listing_price_per_square_foot_mm'] = housing_yield['median_listing_price_per_square_foot_mm'] * 100\n",
    "housing_yield.head()"
   ]
  },
  {
   "cell_type": "markdown",
   "id": "6494bf0a-8ec6-4147-8c12-3c83ff0fdcf4",
   "metadata": {
    "tags": []
   },
   "source": [
    "### Calculating Monthly Rental Yield"
   ]
  },
  {
   "cell_type": "markdown",
   "id": "9f4ea168-b6b6-4d4d-8e44-0ba1f415870b",
   "metadata": {},
   "source": [
    "Monthly Rental_Yield = ( Monthly Average Rent  / Monthly Average Listing Price ) * 100"
   ]
  },
  {
   "cell_type": "code",
   "execution_count": 28,
   "id": "015ce675-7cb0-466f-85fd-07ee55e11e22",
   "metadata": {},
   "outputs": [
    {
     "data": {
      "text/html": [
       "<div>\n",
       "<style scoped>\n",
       "    .dataframe tbody tr th:only-of-type {\n",
       "        vertical-align: middle;\n",
       "    }\n",
       "\n",
       "    .dataframe tbody tr th {\n",
       "        vertical-align: top;\n",
       "    }\n",
       "\n",
       "    .dataframe thead th {\n",
       "        text-align: right;\n",
       "    }\n",
       "</style>\n",
       "<table border=\"1\" class=\"dataframe\">\n",
       "  <thead>\n",
       "    <tr style=\"text-align: right;\">\n",
       "      <th></th>\n",
       "      <th>Date</th>\n",
       "      <th>County_Name</th>\n",
       "      <th>FIPS_Code</th>\n",
       "      <th>Average_Rental_Price</th>\n",
       "    </tr>\n",
       "  </thead>\n",
       "  <tbody>\n",
       "    <tr>\n",
       "      <th>532</th>\n",
       "      <td>2021-12-01</td>\n",
       "      <td>Clark</td>\n",
       "      <td>53011</td>\n",
       "      <td>1743.0</td>\n",
       "    </tr>\n",
       "    <tr>\n",
       "      <th>533</th>\n",
       "      <td>2021-12-01</td>\n",
       "      <td>Grant</td>\n",
       "      <td>53025</td>\n",
       "      <td>1094.0</td>\n",
       "    </tr>\n",
       "    <tr>\n",
       "      <th>534</th>\n",
       "      <td>2021-12-01</td>\n",
       "      <td>King</td>\n",
       "      <td>53033</td>\n",
       "      <td>1928.0</td>\n",
       "    </tr>\n",
       "    <tr>\n",
       "      <th>535</th>\n",
       "      <td>2021-12-01</td>\n",
       "      <td>Kitsap</td>\n",
       "      <td>53035</td>\n",
       "      <td>2049.0</td>\n",
       "    </tr>\n",
       "    <tr>\n",
       "      <th>536</th>\n",
       "      <td>2021-12-01</td>\n",
       "      <td>Pierce</td>\n",
       "      <td>53053</td>\n",
       "      <td>1764.0</td>\n",
       "    </tr>\n",
       "  </tbody>\n",
       "</table>\n",
       "</div>"
      ],
      "text/plain": [
       "          Date County_Name  FIPS_Code  Average_Rental_Price\n",
       "532 2021-12-01       Clark      53011                1743.0\n",
       "533 2021-12-01       Grant      53025                1094.0\n",
       "534 2021-12-01        King      53033                1928.0\n",
       "535 2021-12-01      Kitsap      53035                2049.0\n",
       "536 2021-12-01      Pierce      53053                1764.0"
      ]
     },
     "execution_count": 28,
     "metadata": {},
     "output_type": "execute_result"
    }
   ],
   "source": [
    "# Monthly Average Rent is `Average_Rental_Price` for latest month ie., `2021-12-01`\n",
    "monthly_rental_return = rental_county_df[rental_county_df['Date'] == '2021-12-01']\n",
    "monthly_rental_return.head()"
   ]
  },
  {
   "cell_type": "code",
   "execution_count": 29,
   "id": "e5cb484c-3d01-4859-a3ff-6704d07aef0c",
   "metadata": {},
   "outputs": [],
   "source": [
    "# Monthly Average Listing Price is `average_listing_price` for latest month ie., `2021-12-01`\n",
    "avg_housing_price = wa_house_listing_county_df[wa_house_listing_county_df['Date'] == '2021-12-01']\n",
    "avg_housing_price = avg_housing_price[['county_fips','average_listing_price']]"
   ]
  },
  {
   "cell_type": "code",
   "execution_count": 36,
   "id": "b40f8710-227c-4aed-a13a-425b49724bc2",
   "metadata": {},
   "outputs": [
    {
     "data": {
      "text/html": [
       "<div>\n",
       "<style scoped>\n",
       "    .dataframe tbody tr th:only-of-type {\n",
       "        vertical-align: middle;\n",
       "    }\n",
       "\n",
       "    .dataframe tbody tr th {\n",
       "        vertical-align: top;\n",
       "    }\n",
       "\n",
       "    .dataframe thead th {\n",
       "        text-align: right;\n",
       "    }\n",
       "</style>\n",
       "<table border=\"1\" class=\"dataframe\">\n",
       "  <thead>\n",
       "    <tr style=\"text-align: right;\">\n",
       "      <th></th>\n",
       "      <th>FIPS_Code</th>\n",
       "      <th>County_Name</th>\n",
       "      <th>Average_Rental_Price</th>\n",
       "      <th>average_listing_price</th>\n",
       "      <th>yield</th>\n",
       "    </tr>\n",
       "  </thead>\n",
       "  <tbody>\n",
       "    <tr>\n",
       "      <th>0</th>\n",
       "      <td>53011</td>\n",
       "      <td>Clark</td>\n",
       "      <td>1743.0</td>\n",
       "      <td>7.109377e+05</td>\n",
       "      <td>0.245169</td>\n",
       "    </tr>\n",
       "    <tr>\n",
       "      <th>1</th>\n",
       "      <td>53025</td>\n",
       "      <td>Grant</td>\n",
       "      <td>1094.0</td>\n",
       "      <td>4.532759e+05</td>\n",
       "      <td>0.241354</td>\n",
       "    </tr>\n",
       "    <tr>\n",
       "      <th>2</th>\n",
       "      <td>53033</td>\n",
       "      <td>King</td>\n",
       "      <td>1928.0</td>\n",
       "      <td>1.120119e+06</td>\n",
       "      <td>0.172125</td>\n",
       "    </tr>\n",
       "    <tr>\n",
       "      <th>3</th>\n",
       "      <td>53035</td>\n",
       "      <td>Kitsap</td>\n",
       "      <td>2049.0</td>\n",
       "      <td>7.898085e+05</td>\n",
       "      <td>0.259430</td>\n",
       "    </tr>\n",
       "    <tr>\n",
       "      <th>4</th>\n",
       "      <td>53053</td>\n",
       "      <td>Pierce</td>\n",
       "      <td>1764.0</td>\n",
       "      <td>6.721828e+05</td>\n",
       "      <td>0.262429</td>\n",
       "    </tr>\n",
       "  </tbody>\n",
       "</table>\n",
       "</div>"
      ],
      "text/plain": [
       "   FIPS_Code County_Name  Average_Rental_Price  average_listing_price  \\\n",
       "0      53011       Clark                1743.0           7.109377e+05   \n",
       "1      53025       Grant                1094.0           4.532759e+05   \n",
       "2      53033        King                1928.0           1.120119e+06   \n",
       "3      53035      Kitsap                2049.0           7.898085e+05   \n",
       "4      53053      Pierce                1764.0           6.721828e+05   \n",
       "\n",
       "      yield  \n",
       "0  0.245169  \n",
       "1  0.241354  \n",
       "2  0.172125  \n",
       "3  0.259430  \n",
       "4  0.262429  "
      ]
     },
     "execution_count": 36,
     "metadata": {},
     "output_type": "execute_result"
    }
   ],
   "source": [
    "#Calculating rental_yield using the formula `rental_yield_df[Average_Rental_Price] / rental_yield_df[average_listing_price]`\n",
    "\n",
    "rental_yield_df = pd.merge(monthly_rental_return, avg_housing_price, left_on='FIPS_Code', right_on='county_fips')\n",
    "rental_yield_df['yield'] = rental_yield_df['Average_Rental_Price'] / rental_yield_df['average_listing_price']\n",
    "rental_yield_df['yield'] = rental_yield_df['yield'] * 100\n",
    "rental_yield_df = rental_yield_df[['FIPS_Code','County_Name','Average_Rental_Price','average_listing_price','yield']]\n",
    "rental_yield_df.head()"
   ]
  },
  {
   "cell_type": "markdown",
   "id": "e893fb62-cb78-4b73-80c9-36840fb91daf",
   "metadata": {},
   "source": [
    "### Calculating Annualized Total Return"
   ]
  },
  {
   "cell_type": "markdown",
   "id": "168ea48f-7b47-4d39-9b9e-e1d68c897742",
   "metadata": {},
   "source": [
    "Annualized Total Return = ( House_Value_Monthly_Yield  + Rental_Yield ) * 12"
   ]
  },
  {
   "cell_type": "code",
   "execution_count": 39,
   "id": "5df78511-6fef-4a3e-bb9d-bfaa672d41db",
   "metadata": {},
   "outputs": [
    {
     "data": {
      "text/html": [
       "<div>\n",
       "<style scoped>\n",
       "    .dataframe tbody tr th:only-of-type {\n",
       "        vertical-align: middle;\n",
       "    }\n",
       "\n",
       "    .dataframe tbody tr th {\n",
       "        vertical-align: top;\n",
       "    }\n",
       "\n",
       "    .dataframe thead th {\n",
       "        text-align: right;\n",
       "    }\n",
       "</style>\n",
       "<table border=\"1\" class=\"dataframe\">\n",
       "  <thead>\n",
       "    <tr style=\"text-align: right;\">\n",
       "      <th></th>\n",
       "      <th>county_name</th>\n",
       "      <th>FIPS_Code</th>\n",
       "      <th>total_yield</th>\n",
       "      <th>yearly_total_yield</th>\n",
       "      <th>INTPTLAT</th>\n",
       "      <th>INTPTLONG</th>\n",
       "    </tr>\n",
       "  </thead>\n",
       "  <tbody>\n",
       "    <tr>\n",
       "      <th>0</th>\n",
       "      <td>Clark</td>\n",
       "      <td>53011</td>\n",
       "      <td>0.515169</td>\n",
       "      <td>6.182030</td>\n",
       "      <td>45.771730</td>\n",
       "      <td>-122.485953</td>\n",
       "    </tr>\n",
       "    <tr>\n",
       "      <th>1</th>\n",
       "      <td>Grant</td>\n",
       "      <td>53025</td>\n",
       "      <td>0.581354</td>\n",
       "      <td>6.976249</td>\n",
       "      <td>47.213633</td>\n",
       "      <td>-119.467788</td>\n",
       "    </tr>\n",
       "    <tr>\n",
       "      <th>2</th>\n",
       "      <td>King</td>\n",
       "      <td>53033</td>\n",
       "      <td>1.492125</td>\n",
       "      <td>17.905495</td>\n",
       "      <td>47.490552</td>\n",
       "      <td>-121.833977</td>\n",
       "    </tr>\n",
       "    <tr>\n",
       "      <th>3</th>\n",
       "      <td>Kitsap</td>\n",
       "      <td>53035</td>\n",
       "      <td>0.139430</td>\n",
       "      <td>1.673160</td>\n",
       "      <td>47.639595</td>\n",
       "      <td>-122.649634</td>\n",
       "    </tr>\n",
       "    <tr>\n",
       "      <th>4</th>\n",
       "      <td>Pierce</td>\n",
       "      <td>53053</td>\n",
       "      <td>2.602429</td>\n",
       "      <td>31.229143</td>\n",
       "      <td>47.051413</td>\n",
       "      <td>-122.153240</td>\n",
       "    </tr>\n",
       "    <tr>\n",
       "      <th>5</th>\n",
       "      <td>Snohomish</td>\n",
       "      <td>53061</td>\n",
       "      <td>1.142906</td>\n",
       "      <td>13.714871</td>\n",
       "      <td>48.054913</td>\n",
       "      <td>-121.765038</td>\n",
       "    </tr>\n",
       "    <tr>\n",
       "      <th>6</th>\n",
       "      <td>Spokane</td>\n",
       "      <td>53063</td>\n",
       "      <td>2.302158</td>\n",
       "      <td>27.625890</td>\n",
       "      <td>47.620375</td>\n",
       "      <td>-117.403371</td>\n",
       "    </tr>\n",
       "    <tr>\n",
       "      <th>7</th>\n",
       "      <td>Thurston</td>\n",
       "      <td>53067</td>\n",
       "      <td>1.991779</td>\n",
       "      <td>23.901348</td>\n",
       "      <td>46.935822</td>\n",
       "      <td>-122.830152</td>\n",
       "    </tr>\n",
       "  </tbody>\n",
       "</table>\n",
       "</div>"
      ],
      "text/plain": [
       "  county_name  FIPS_Code  total_yield  yearly_total_yield   INTPTLAT  \\\n",
       "0       Clark      53011     0.515169            6.182030  45.771730   \n",
       "1       Grant      53025     0.581354            6.976249  47.213633   \n",
       "2        King      53033     1.492125           17.905495  47.490552   \n",
       "3      Kitsap      53035     0.139430            1.673160  47.639595   \n",
       "4      Pierce      53053     2.602429           31.229143  47.051413   \n",
       "5   Snohomish      53061     1.142906           13.714871  48.054913   \n",
       "6     Spokane      53063     2.302158           27.625890  47.620375   \n",
       "7    Thurston      53067     1.991779           23.901348  46.935822   \n",
       "\n",
       "    INTPTLONG  \n",
       "0 -122.485953  \n",
       "1 -119.467788  \n",
       "2 -121.833977  \n",
       "3 -122.649634  \n",
       "4 -122.153240  \n",
       "5 -121.765038  \n",
       "6 -117.403371  \n",
       "7 -122.830152  "
      ]
     },
     "execution_count": 39,
     "metadata": {},
     "output_type": "execute_result"
    }
   ],
   "source": [
    "# Merging Monthly housing Investment yield and Monthly Rental Yield For Each County\n",
    "annualized_total_return = pd.merge(housing_yield, rental_yield_df, left_on='county_fips', right_on='FIPS_Code')\n",
    "annualized_total_return = annualized_total_return[['county_name','FIPS_Code','percent_median_listing_price_per_square_foot_mm','yield']]\n",
    "annualized_total_return['total_yield'] = annualized_total_return['percent_median_listing_price_per_square_foot_mm'] + annualized_total_return['yield']\n",
    "annualized_total_return['yearly_total_yield'] = annualized_total_return['total_yield'] * 12\n",
    "annualized_total_return = pd.merge(left=annualized_total_return, \n",
    "                       right=geocode_df,\n",
    "                       left_on='FIPS_Code',\n",
    "                       right_on='GEOID',\n",
    "                       )\n",
    "annualized_total_return = annualized_total_return[['county_name', 'FIPS_Code','total_yield',\n",
    "       'yearly_total_yield', 'INTPTLAT', 'INTPTLONG']]\n",
    "\n",
    "annualized_total_return"
   ]
  },
  {
   "cell_type": "code",
   "execution_count": 38,
   "id": "280ace87-fb51-4c33-8151-54b9f7b81f1e",
   "metadata": {},
   "outputs": [
    {
     "data": {},
     "metadata": {},
     "output_type": "display_data"
    },
    {
     "data": {
      "application/vnd.holoviews_exec.v0+json": "",
      "text/html": [
       "<div id='3098'>\n",
       "\n",
       "\n",
       "\n",
       "\n",
       "\n",
       "  <div class=\"bk-root\" id=\"bb0051d5-0465-457a-9b51-0baf410aa2cf\" data-root-id=\"3098\"></div>\n",
       "</div>\n",
       "<script type=\"application/javascript\">(function(root) {\n",
       "  function embed_document(root) {\n",
       "    var docs_json = {\"f383082a-f800-48a5-b593-b01270aeb7a3\":{\"defs\":[{\"extends\":null,\"module\":null,\"name\":\"ReactiveHTML1\",\"overrides\":[],\"properties\":[]},{\"extends\":null,\"module\":null,\"name\":\"FlexBox1\",\"overrides\":[],\"properties\":[{\"default\":\"flex-start\",\"kind\":null,\"name\":\"align_content\"},{\"default\":\"flex-start\",\"kind\":null,\"name\":\"align_items\"},{\"default\":\"row\",\"kind\":null,\"name\":\"flex_direction\"},{\"default\":\"wrap\",\"kind\":null,\"name\":\"flex_wrap\"},{\"default\":\"flex-start\",\"kind\":null,\"name\":\"justify_content\"}]},{\"extends\":null,\"module\":null,\"name\":\"TemplateActions1\",\"overrides\":[],\"properties\":[{\"default\":0,\"kind\":null,\"name\":\"open_modal\"},{\"default\":0,\"kind\":null,\"name\":\"close_modal\"}]},{\"extends\":null,\"module\":null,\"name\":\"MaterialTemplateActions1\",\"overrides\":[],\"properties\":[{\"default\":0,\"kind\":null,\"name\":\"open_modal\"},{\"default\":0,\"kind\":null,\"name\":\"close_modal\"}]}],\"roots\":{\"references\":[{\"attributes\":{\"axis_label\":\"Latitude\",\"coordinates\":null,\"formatter\":{\"id\":\"3144\"},\"group\":null,\"major_label_policy\":{\"id\":\"3149\"},\"ticker\":{\"id\":\"3143\"}},\"id\":\"3120\",\"type\":\"LinearAxis\"},{\"attributes\":{},\"id\":\"3176\",\"type\":\"Selection\"},{\"attributes\":{\"margin\":[5,5,5,5],\"name\":\"HSpacer06473\",\"sizing_mode\":\"stretch_width\"},\"id\":\"3099\",\"type\":\"Spacer\"},{\"attributes\":{\"end\":-13008872.96096051,\"min_interval\":5,\"reset_end\":-13008872.96096051,\"reset_start\":-13733800.490873666,\"start\":-13733800.490873666,\"tags\":[[[\"INTPTLONG\",\"INTPTLONG\",null]]]},\"id\":\"3104\",\"type\":\"Range1d\"},{\"attributes\":{\"zoom_on_axis\":false},\"id\":\"3130\",\"type\":\"WheelZoomTool\"},{\"attributes\":{\"dimension\":\"lon\"},\"id\":\"3144\",\"type\":\"MercatorTickFormatter\"},{\"attributes\":{\"source\":{\"id\":\"3175\"}},\"id\":\"3184\",\"type\":\"CDSView\"},{\"attributes\":{\"match_aspect\":true,\"overlay\":{\"id\":\"3133\"}},\"id\":\"3131\",\"type\":\"BoxZoomTool\"},{\"attributes\":{\"label\":{\"field\":\"color\"},\"renderers\":[{\"id\":\"3183\"}]},\"id\":\"3192\",\"type\":\"LegendItem\"},{\"attributes\":{\"callback\":null,\"formatters\":{\"$x\":{\"id\":\"3193\"},\"$y\":{\"id\":\"3194\"}},\"renderers\":[{\"id\":\"3183\"}],\"tags\":[\"hv_created\"],\"tooltips\":[[\"INTPTLONG\",\"$x{custom}\"],[\"INTPTLAT\",\"$y{custom}\"],[\"county_name\",\"@{county_name}\"],[\"yearly_total_yield\",\"@{yearly_total_yield}\"]]},\"id\":\"3108\",\"type\":\"HoverTool\"},{\"attributes\":{\"factors\":[\"Clark\",\"Grant\",\"King\",\"Kitsap\",\"Pierce\",\"Snohomish\",\"Spokane\",\"Thurston\"],\"palette\":[\"#1f77b3\",\"#ff7e0e\",\"#2ba02b\",\"#d62628\",\"#9367bc\",\"#8c564b\",\"#e277c1\",\"#7e7e7e\"]},\"id\":\"3174\",\"type\":\"CategoricalColorMapper\"},{\"attributes\":{\"attribution\":\"&copy; <a href=\\\"https://www.openstreetmap.org/copyright\\\">OpenStreetMap</a> contributors\",\"url\":\"https://c.tile.openstreetmap.org/{Z}/{X}/{Y}.png\"},\"id\":\"3169\",\"type\":\"WMTSTileSource\"},{\"attributes\":{},\"id\":\"3156\",\"type\":\"AllLabels\"},{\"attributes\":{\"margin\":[5,5,5,5],\"name\":\"HSpacer06474\",\"sizing_mode\":\"stretch_width\"},\"id\":\"3249\",\"type\":\"Spacer\"},{\"attributes\":{\"below\":[{\"id\":\"3120\"}],\"center\":[{\"id\":\"3123\"},{\"id\":\"3127\"}],\"frame_height\":300,\"frame_width\":520,\"height\":null,\"left\":[{\"id\":\"3124\"}],\"margin\":[5,5,5,5],\"match_aspect\":true,\"min_border_bottom\":10,\"min_border_left\":10,\"min_border_right\":10,\"min_border_top\":10,\"renderers\":[{\"id\":\"3172\"},{\"id\":\"3183\"}],\"right\":[{\"id\":\"3191\"}],\"sizing_mode\":\"fixed\",\"title\":{\"id\":\"3112\"},\"toolbar\":{\"id\":\"3134\"},\"width\":null,\"x_range\":{\"id\":\"3104\"},\"x_scale\":{\"id\":\"3116\"},\"y_range\":{\"id\":\"3105\"},\"y_scale\":{\"id\":\"3118\"}},\"id\":\"3111\",\"subtype\":\"Figure\",\"type\":\"Plot\"},{\"attributes\":{},\"id\":\"3132\",\"type\":\"ResetTool\"},{\"attributes\":{\"coordinates\":null,\"group\":null,\"text\":\"Yearly Yield(Proxy) for Counties\",\"text_color\":\"black\",\"text_font_size\":\"12pt\"},\"id\":\"3112\",\"type\":\"Title\"},{\"attributes\":{\"code\":\"\\n        var projections = Bokeh.require(\\\"core/util/projections\\\");\\n        var x = special_vars.data_x\\n        var y = special_vars.data_y\\n        if (projections.wgs84_mercator.invert == null) {\\n          var coords = projections.wgs84_mercator.inverse([x, y])\\n        } else {\\n          var coords = projections.wgs84_mercator.invert(x, y)\\n        }\\n        return \\\"\\\" + (coords[1]).toFixed(4)\\n    \"},\"id\":\"3194\",\"type\":\"CustomJSHover\"},{\"attributes\":{\"end\":6138920.929328849,\"min_interval\":5,\"reset_end\":6138920.929328849,\"reset_start\":5720918.280101663,\"start\":5720918.280101663,\"tags\":[[[\"INTPTLAT\",\"INTPTLAT\",null]]]},\"id\":\"3105\",\"type\":\"Range1d\"},{\"attributes\":{},\"id\":\"3149\",\"type\":\"AllLabels\"},{\"attributes\":{\"bottom_units\":\"screen\",\"coordinates\":null,\"fill_alpha\":0.5,\"fill_color\":\"lightgrey\",\"group\":null,\"left_units\":\"screen\",\"level\":\"overlay\",\"line_alpha\":1.0,\"line_color\":\"black\",\"line_dash\":[4,4],\"line_width\":2,\"right_units\":\"screen\",\"syncable\":false,\"top_units\":\"screen\"},\"id\":\"3133\",\"type\":\"BoxAnnotation\"},{\"attributes\":{},\"id\":\"3118\",\"type\":\"LinearScale\"},{\"attributes\":{\"fill_alpha\":{\"value\":0.2},\"fill_color\":{\"field\":\"color\",\"transform\":{\"id\":\"3174\"}},\"hatch_alpha\":{\"value\":0.2},\"hatch_color\":{\"field\":\"color\",\"transform\":{\"id\":\"3174\"}},\"line_alpha\":{\"value\":0.2},\"line_color\":{\"field\":\"color\",\"transform\":{\"id\":\"3174\"}},\"size\":{\"field\":\"size\"},\"x\":{\"field\":\"INTPTLONG\"},\"y\":{\"field\":\"INTPTLAT\"}},\"id\":\"3182\",\"type\":\"Scatter\"},{\"attributes\":{\"dimension\":\"lon\"},\"id\":\"3143\",\"type\":\"MercatorTicker\"},{\"attributes\":{\"axis\":{\"id\":\"3120\"},\"coordinates\":null,\"grid_line_color\":null,\"group\":null,\"ticker\":null},\"id\":\"3123\",\"type\":\"Grid\"},{\"attributes\":{\"coordinates\":null,\"data_source\":{\"id\":\"3175\"},\"glyph\":{\"id\":\"3178\"},\"group\":null,\"hover_glyph\":{\"id\":\"3181\"},\"muted_glyph\":{\"id\":\"3182\"},\"nonselection_glyph\":{\"id\":\"3179\"},\"selection_glyph\":{\"id\":\"3180\"},\"view\":{\"id\":\"3184\"}},\"id\":\"3183\",\"type\":\"GlyphRenderer\"},{\"attributes\":{\"axis_label\":\"Longitude\",\"coordinates\":null,\"formatter\":{\"id\":\"3146\"},\"group\":null,\"major_label_policy\":{\"id\":\"3156\"},\"ticker\":{\"id\":\"3145\"}},\"id\":\"3124\",\"type\":\"LinearAxis\"},{\"attributes\":{\"axis\":{\"id\":\"3124\"},\"coordinates\":null,\"dimension\":1,\"grid_line_color\":null,\"group\":null,\"ticker\":null},\"id\":\"3127\",\"type\":\"Grid\"},{\"attributes\":{\"fill_alpha\":{\"value\":0.1},\"fill_color\":{\"field\":\"color\",\"transform\":{\"id\":\"3174\"}},\"hatch_alpha\":{\"value\":0.1},\"hatch_color\":{\"field\":\"color\",\"transform\":{\"id\":\"3174\"}},\"line_alpha\":{\"value\":0.1},\"line_color\":{\"field\":\"color\",\"transform\":{\"id\":\"3174\"}},\"size\":{\"field\":\"size\"},\"x\":{\"field\":\"INTPTLONG\"},\"y\":{\"field\":\"INTPTLAT\"}},\"id\":\"3179\",\"type\":\"Scatter\"},{\"attributes\":{},\"id\":\"3188\",\"type\":\"UnionRenderers\"},{\"attributes\":{\"dimension\":\"lat\"},\"id\":\"3145\",\"type\":\"MercatorTicker\"},{\"attributes\":{\"click_policy\":\"mute\",\"coordinates\":null,\"group\":null,\"items\":[{\"id\":\"3192\"}],\"location\":[0,0]},\"id\":\"3191\",\"type\":\"Legend\"},{\"attributes\":{\"data\":{\"INTPTLAT\":{\"__ndarray__\":\"8iis/DjpVUGgU1+Z7cxWQX4vkd5c+VZBWhDzFmARV0GeX4iBAbNWQQT9LNGmVFdBtCmMYkYOV0GdAek3laBWQQ==\",\"dtype\":\"float64\",\"order\":\"little\",\"shape\":[8]},\"INTPTLONG\":{\"__ndarray__\":\"H25aPcABasHth3Gqsl1pwZSe/QhQ3mnBVgqx2aUKasGQsTePqu9pwd3F2cCQ2mnBEa5Eb3ztaMHhvjC/dRRqwQ==\",\"dtype\":\"float64\",\"order\":\"little\",\"shape\":[8]},\"color\":[\"Clark\",\"Grant\",\"King\",\"Kitsap\",\"Pierce\",\"Snohomish\",\"Spokane\",\"Thurston\"],\"county_name\":[\"Clark\",\"Grant\",\"King\",\"Kitsap\",\"Pierce\",\"Snohomish\",\"Spokane\",\"Thurston\"],\"size\":{\"__ndarray__\":\"PkeRrxrdKEAEGXqIn2kqQIiORSNOKDVAJZUOPMHeGUCa2HyCB/E7QNaZ/MtMhDJAqJ/rILlHOkAiafTpynE4QA==\",\"dtype\":\"float64\",\"order\":\"little\",\"shape\":[8]},\"yearly_total_yield\":{\"__ndarray__\":\"JKeGFGa6GEAzcUnrrecbQOJs7n3O5zFAuGb0QUPF+j/ekIclqTo/QBrAjYQDbitAgLUeWzqgO0D9nsS+vuY3QA==\",\"dtype\":\"float64\",\"order\":\"little\",\"shape\":[8]}},\"selected\":{\"id\":\"3176\"},\"selection_policy\":{\"id\":\"3188\"}},\"id\":\"3175\",\"type\":\"ColumnDataSource\"},{\"attributes\":{\"fill_color\":{\"field\":\"color\",\"transform\":{\"id\":\"3174\"}},\"hatch_color\":{\"field\":\"color\",\"transform\":{\"id\":\"3174\"}},\"line_color\":{\"field\":\"color\",\"transform\":{\"id\":\"3174\"}},\"size\":{\"field\":\"size\"},\"x\":{\"field\":\"INTPTLONG\"},\"y\":{\"field\":\"INTPTLAT\"}},\"id\":\"3181\",\"type\":\"Scatter\"},{\"attributes\":{\"tools\":[{\"id\":\"3108\"},{\"id\":\"3128\"},{\"id\":\"3129\"},{\"id\":\"3130\"},{\"id\":\"3131\"},{\"id\":\"3132\"}]},\"id\":\"3134\",\"type\":\"Toolbar\"},{\"attributes\":{\"fill_color\":{\"field\":\"color\",\"transform\":{\"id\":\"3174\"}},\"hatch_color\":{\"field\":\"color\",\"transform\":{\"id\":\"3174\"}},\"line_color\":{\"field\":\"color\",\"transform\":{\"id\":\"3174\"}},\"size\":{\"field\":\"size\"},\"x\":{\"field\":\"INTPTLONG\"},\"y\":{\"field\":\"INTPTLAT\"}},\"id\":\"3180\",\"type\":\"Scatter\"},{\"attributes\":{},\"id\":\"3116\",\"type\":\"LinearScale\"},{\"attributes\":{\"children\":[{\"id\":\"3099\"},{\"id\":\"3111\"},{\"id\":\"3249\"}],\"margin\":[0,0,0,0],\"name\":\"Row06469\",\"tags\":[\"embedded\"]},\"id\":\"3098\",\"type\":\"Row\"},{\"attributes\":{},\"id\":\"3128\",\"type\":\"SaveTool\"},{\"attributes\":{\"coordinates\":null,\"group\":null,\"level\":\"glyph\",\"tile_source\":{\"id\":\"3169\"}},\"id\":\"3172\",\"type\":\"TileRenderer\"},{\"attributes\":{\"dimension\":\"lat\"},\"id\":\"3146\",\"type\":\"MercatorTickFormatter\"},{\"attributes\":{\"code\":\"\\n        var projections = Bokeh.require(\\\"core/util/projections\\\");\\n        var x = special_vars.data_x\\n        var y = special_vars.data_y\\n        if (projections.wgs84_mercator.invert == null) {\\n          var coords = projections.wgs84_mercator.inverse([x, y])\\n        } else {\\n          var coords = projections.wgs84_mercator.invert(x, y)\\n        }\\n        return \\\"\\\" + (coords[0]).toFixed(4)\\n    \"},\"id\":\"3193\",\"type\":\"CustomJSHover\"},{\"attributes\":{},\"id\":\"3129\",\"type\":\"PanTool\"},{\"attributes\":{\"fill_color\":{\"field\":\"color\",\"transform\":{\"id\":\"3174\"}},\"hatch_color\":{\"field\":\"color\",\"transform\":{\"id\":\"3174\"}},\"line_color\":{\"field\":\"color\",\"transform\":{\"id\":\"3174\"}},\"size\":{\"field\":\"size\"},\"x\":{\"field\":\"INTPTLONG\"},\"y\":{\"field\":\"INTPTLAT\"}},\"id\":\"3178\",\"type\":\"Scatter\"}],\"root_ids\":[\"3098\"]},\"title\":\"Bokeh Application\",\"version\":\"2.4.1\"}};\n",
       "    var render_items = [{\"docid\":\"f383082a-f800-48a5-b593-b01270aeb7a3\",\"root_ids\":[\"3098\"],\"roots\":{\"3098\":\"bb0051d5-0465-457a-9b51-0baf410aa2cf\"}}];\n",
       "    root.Bokeh.embed.embed_items_notebook(docs_json, render_items);\n",
       "  }\n",
       "  if (root.Bokeh !== undefined && root.Bokeh.Panel !== undefined) {\n",
       "    embed_document(root);\n",
       "  } else {\n",
       "    var attempts = 0;\n",
       "    var timer = setInterval(function(root) {\n",
       "      if (root.Bokeh !== undefined && root.Bokeh.Panel !== undefined) {\n",
       "        clearInterval(timer);\n",
       "        embed_document(root);\n",
       "      } else if (document.readyState == \"complete\") {\n",
       "        attempts++;\n",
       "        if (attempts > 200) {\n",
       "          clearInterval(timer);\n",
       "          console.log(\"Bokeh: ERROR: Unable to run BokehJS code because BokehJS library is missing\");\n",
       "        }\n",
       "      }\n",
       "    }, 25, root)\n",
       "  }\n",
       "})(window);</script>"
      ],
      "text/plain": [
       ":Overlay\n",
       "   .Tiles.I  :Tiles   [x,y]\n",
       "   .Points.I :Points   [INTPTLONG,INTPTLAT]   (county_name,yearly_total_yield)"
      ]
     },
     "execution_count": 38,
     "metadata": {
      "application/vnd.holoviews_exec.v0+json": {
       "id": "3098"
      }
     },
     "output_type": "execute_result"
    }
   ],
   "source": [
    "annualized_total_return.hvplot.points(\n",
    "    'INTPTLONG',\n",
    "    'INTPTLAT',\n",
    "    geo=True,\n",
    "    color= 'county_name',\n",
    "    size= 'yearly_total_yield',\n",
    "    tiles='OSM',\n",
    "    scale=5,\n",
    "    title = 'Yearly Yield(Proxy) for Counties',\n",
    "    xlabel = 'Latitude',\n",
    "    ylabel = 'Longitude',\n",
    "    hover_cols = ['county_name','yearly_total_yield'],\n",
    "    )"
   ]
  },
  {
   "cell_type": "code",
   "execution_count": null,
   "id": "9515bff3-c41d-444d-ae9e-ac6113ddbd4b",
   "metadata": {},
   "outputs": [],
   "source": []
  }
 ],
 "metadata": {
  "kernelspec": {
   "display_name": "Python 3 (ipykernel)",
   "language": "python",
   "name": "python3"
  },
  "language_info": {
   "codemirror_mode": {
    "name": "ipython",
    "version": 3
   },
   "file_extension": ".py",
   "mimetype": "text/x-python",
   "name": "python",
   "nbconvert_exporter": "python",
   "pygments_lexer": "ipython3",
   "version": "3.7.11"
  }
 },
 "nbformat": 4,
 "nbformat_minor": 5
}
