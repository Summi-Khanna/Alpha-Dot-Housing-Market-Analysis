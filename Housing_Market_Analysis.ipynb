{
 "cells": [
  {
   "cell_type": "markdown",
   "id": "18dacaaa-7b8e-41fc-9048-0b638630124b",
   "metadata": {},
   "source": [
    "# Loading Libraries and Modules"
   ]
  },
  {
   "cell_type": "code",
   "execution_count": 62,
   "id": "a852ac6d-b4a0-4041-9c7a-20027a467963",
   "metadata": {},
   "outputs": [],
   "source": [
    "import pandas as pd\n",
    "import os\n",
    "import numpy as np\n",
    "import hvplot.pandas\n",
    "from pathlib import Path\n",
    "from bokeh.models.formatters import DatetimeTickFormatter\n",
    "\n",
    "%matplotlib inline\n",
    "\n",
    "from qualifier.utils.fileio import (\n",
    "    read_housing_inventory_data,\n",
    "    read_rental_inventory,\n",
    "    read_building_completion_data,\n",
    "    read_building_permits_data,\n",
    "    read_labor_data,\n",
    "    read_employment_data,\n",
    "    read_monthly_housing_permits_data,\n",
    "    read_geo_codes,\n",
    ")"
   ]
  },
  {
   "cell_type": "markdown",
   "id": "6d24ea87-8940-4944-91f2-25c52172d90d",
   "metadata": {},
   "source": [
    "# Loading, Cleaning and Reshaping Data"
   ]
  },
  {
   "cell_type": "markdown",
   "id": "18150fb8-f7f5-4dfb-be6e-4cea649353d1",
   "metadata": {},
   "source": [
    "### Reading Cleaned Monthly House Listing Data"
   ]
  },
  {
   "cell_type": "code",
   "execution_count": 69,
   "id": "1c689287-4b56-4e81-b8cc-e15994dc4f98",
   "metadata": {},
   "outputs": [],
   "source": [
    "wa_house_listing_county_df = read_housing_inventory_data()\n",
    "#wa_house_listing_county_df.head()"
   ]
  },
  {
   "cell_type": "markdown",
   "id": "430136b7-82cf-4540-a798-1b74e7cb5416",
   "metadata": {},
   "source": [
    "### Reading Monthly Rental Data County and City wise."
   ]
  },
  {
   "cell_type": "code",
   "execution_count": 70,
   "id": "b14787ba-cefe-44f9-b856-348e9b363f2d",
   "metadata": {},
   "outputs": [],
   "source": [
    "rental_df = read_rental_inventory()\n",
    "rental_county_df = rental_df[0]\n",
    "rental_city_df = rental_df[1]\n",
    "\n",
    "#display(rental_county_df.head(2))\n",
    "#display(rental_city_df.head(2))"
   ]
  },
  {
   "cell_type": "markdown",
   "id": "ad3a7638-4354-4a17-a29e-18d0626ef31b",
   "metadata": {},
   "source": [
    "### Reading Annual Building Completion Data County and Citywise."
   ]
  },
  {
   "cell_type": "code",
   "execution_count": 71,
   "id": "d76334a1-b65a-4fda-83cb-95498caa19fd",
   "metadata": {},
   "outputs": [],
   "source": [
    "building_completion_df = read_building_completion_data()\n",
    "building_completion_county_df = building_completion_df[0]\n",
    "building_completion_city_df = building_completion_df[1]\n",
    "\n",
    "# Displaying the transformed Building Units DataFrames.\n",
    "#display(building_completion_county_df.head(2))\n",
    "#display(building_completion_city_df.head(2))"
   ]
  },
  {
   "cell_type": "markdown",
   "id": "194242aa-c703-4fff-82d0-145e8f1a4b22",
   "metadata": {},
   "source": [
    "### Reading Annual Building Permits Data County and Citywise."
   ]
  },
  {
   "cell_type": "code",
   "execution_count": 72,
   "id": "d1122edf-9df2-4e5c-ae3b-97d9e46cb111",
   "metadata": {},
   "outputs": [],
   "source": [
    "building_permit_df = read_building_permits_data()\n",
    "building_permit_county_df = building_permit_df[0]\n",
    "building_permit_city_df = building_permit_df[1]\n",
    "\n",
    "# Displaying the transformed Building Unit Permits DataFrames.\n",
    "#display(building_permit_county_df.head(2))\n",
    "#display(building_permit_city_df.head(2))"
   ]
  },
  {
   "cell_type": "markdown",
   "id": "d55815a7-3596-4a03-a6c1-60d4e89d31f6",
   "metadata": {},
   "source": [
    "### Reading Monthly Building Permits Data Countywise."
   ]
  },
  {
   "cell_type": "code",
   "execution_count": 74,
   "id": "c216bc64-4d5a-4db1-850b-cae57f4a3dea",
   "metadata": {},
   "outputs": [],
   "source": [
    "monthly_housing_permits_data = read_monthly_housing_permits_data()\n",
    "#monthly_housing_permits_data.head()"
   ]
  },
  {
   "cell_type": "markdown",
   "id": "f8d1dce8-36ff-4551-a034-63dce5f82685",
   "metadata": {},
   "source": [
    "### Reading Monthly Labor and Employment Data Countywise."
   ]
  },
  {
   "cell_type": "code",
   "execution_count": 75,
   "id": "ad8ff050-60cf-477b-9548-33d5079ecd9c",
   "metadata": {},
   "outputs": [],
   "source": [
    "# Reading Countywise Labor Force Data From `wa_labor_force_by_county.csv` \n",
    "wa_labor_force_df = read_labor_data()\n",
    "\n",
    "# Reading Countywise Labor Force Data From `wa_employment_by_county.csv`\n",
    "wa_employment_df = read_employment_data()\n",
    "\n",
    "#display(wa_labor_force_df.head(2))\n",
    "#display(wa_employment_df.head(2))"
   ]
  },
  {
   "cell_type": "markdown",
   "id": "1ecc702d-7b3a-4084-907d-a3a403dbf514",
   "metadata": {},
   "source": [
    "### Reading Geocodes"
   ]
  },
  {
   "cell_type": "code",
   "execution_count": 43,
   "id": "4a027870-104b-48e8-a7e0-b3a46f967e77",
   "metadata": {},
   "outputs": [],
   "source": [
    "geocode_df = read_geo_codes()"
   ]
  },
  {
   "cell_type": "markdown",
   "id": "262f9475-4b0e-47c3-a51d-ba4c4109cf33",
   "metadata": {},
   "source": [
    "# Interactive Data Exploration"
   ]
  },
  {
   "cell_type": "markdown",
   "id": "207de9c2-735b-42ac-ac98-ede052ac893f",
   "metadata": {},
   "source": [
    "## Prices, Rents, and Affordability"
   ]
  },
  {
   "cell_type": "markdown",
   "id": "ba456c5c-c492-4093-ae0a-e15d301d89fa",
   "metadata": {},
   "source": [
    "### Average Rent by City "
   ]
  },
  {
   "cell_type": "code",
   "execution_count": 76,
   "id": "e4c6c890-7085-4b92-bc58-ec3c7fa70ee6",
   "metadata": {},
   "outputs": [
    {
     "data": {},
     "metadata": {},
     "output_type": "display_data"
    },
    {
     "data": {},
     "metadata": {},
     "output_type": "display_data"
    },
    {
     "data": {
      "application/vnd.holoviews_exec.v0+json": "",
      "text/html": [
       "<div id='6474'>\n",
       "\n",
       "\n",
       "\n",
       "\n",
       "\n",
       "  <div class=\"bk-root\" id=\"946ee5ac-c451-497f-aac2-4d79d97587a8\" data-root-id=\"6474\"></div>\n",
       "</div>\n",
       "<script type=\"application/javascript\">(function(root) {\n",
       "  function embed_document(root) {\n",
       "    var docs_json = {\"10abeb86-4f95-4614-9b84-fd85a810ca5d\":{\"defs\":[{\"extends\":null,\"module\":null,\"name\":\"ReactiveHTML1\",\"overrides\":[],\"properties\":[]},{\"extends\":null,\"module\":null,\"name\":\"FlexBox1\",\"overrides\":[],\"properties\":[{\"default\":\"flex-start\",\"kind\":null,\"name\":\"align_content\"},{\"default\":\"flex-start\",\"kind\":null,\"name\":\"align_items\"},{\"default\":\"row\",\"kind\":null,\"name\":\"flex_direction\"},{\"default\":\"wrap\",\"kind\":null,\"name\":\"flex_wrap\"},{\"default\":\"flex-start\",\"kind\":null,\"name\":\"justify_content\"}]},{\"extends\":null,\"module\":null,\"name\":\"TemplateActions1\",\"overrides\":[],\"properties\":[{\"default\":0,\"kind\":null,\"name\":\"open_modal\"},{\"default\":0,\"kind\":null,\"name\":\"close_modal\"}]},{\"extends\":null,\"module\":null,\"name\":\"MaterialTemplateActions1\",\"overrides\":[],\"properties\":[{\"default\":0,\"kind\":null,\"name\":\"open_modal\"},{\"default\":0,\"kind\":null,\"name\":\"close_modal\"}]}],\"roots\":{\"references\":[{\"attributes\":{\"margin\":[20,20,20,20],\"min_width\":250,\"options\":[\"Auburn\",\"Bellevue\",\"Bothell\",\"Everett\",\"Federal Way\",\"Issaquah\",\"Kent\",\"Kirkland\",\"Lacey\",\"Lakewood\",\"Lynnwood\",\"Mountlake Terrace\",\"Newcastle\",\"North Lynnwood\",\"Puyallup\",\"Redmond\",\"Renton\",\"Seattle\",\"Shoreline\",\"Silverdale\",\"Spokane\",\"Spokane Valley\",\"Tacoma\",\"Vancouver\",\"Woodinville\"],\"title\":\"City_Name\",\"value\":\"Auburn\",\"width\":250},\"id\":\"6477\",\"type\":\"Select\"},{\"attributes\":{\"end\":1801.8,\"reset_end\":1801.8,\"reset_start\":1180.2,\"start\":1180.2,\"tags\":[[[\"Average_Rental_Price\",\"Average_Rental_Price\",null]]]},\"id\":\"6480\",\"type\":\"Range1d\"},{\"attributes\":{},\"id\":\"6544\",\"type\":\"UnionRenderers\"},{\"attributes\":{},\"id\":\"6513\",\"type\":\"Selection\"},{\"attributes\":{\"axis_label\":\"Average_Rental_Price\",\"coordinates\":null,\"formatter\":{\"id\":\"6525\"},\"group\":null,\"major_label_policy\":{\"id\":\"6526\"},\"ticker\":{\"id\":\"6496\"}},\"id\":\"6495\",\"type\":\"LinearAxis\"},{\"attributes\":{},\"id\":\"6500\",\"type\":\"PanTool\"},{\"attributes\":{},\"id\":\"6523\",\"type\":\"AllLabels\"},{\"attributes\":{\"mantissas\":[1,2,5],\"max_interval\":500.0,\"num_minor_ticks\":0},\"id\":\"6547\",\"type\":\"AdaptiveTicker\"},{\"attributes\":{\"end\":1638316800000.0,\"reset_end\":1638316800000.0,\"reset_start\":1483228800000.0,\"start\":1483228800000.0,\"tags\":[[[\"Date\",\"Date\",null]]]},\"id\":\"6479\",\"type\":\"Range1d\"},{\"attributes\":{\"coordinates\":null,\"group\":null,\"text\":\"Rental Growth from 2017 to 2021\",\"text_color\":\"black\",\"text_font_size\":\"12pt\"},\"id\":\"6483\",\"type\":\"Title\"},{\"attributes\":{\"line_color\":\"#30a2da\",\"line_width\":2,\"x\":{\"field\":\"Date\"},\"y\":{\"field\":\"Average_Rental_Price\"}},\"id\":\"6515\",\"type\":\"Line\"},{\"attributes\":{\"base\":24,\"mantissas\":[1,2,4,6,8,12],\"max_interval\":43200000.0,\"min_interval\":3600000.0,\"num_minor_ticks\":0},\"id\":\"6549\",\"type\":\"AdaptiveTicker\"},{\"attributes\":{\"children\":[{\"id\":\"6475\"},{\"id\":\"6482\"}],\"margin\":[0,0,0,0],\"name\":\"Row10378\"},\"id\":\"6474\",\"type\":\"Row\"},{\"attributes\":{\"callback\":null,\"formatters\":{\"@{Date}\":\"datetime\"},\"renderers\":[{\"id\":\"6518\"}],\"tags\":[\"hv_created\"],\"tooltips\":[[\"Date\",\"@{Date}{%F %T}\"],[\"Average_Rental_Price\",\"@{Average_Rental_Price}\"]]},\"id\":\"6481\",\"type\":\"HoverTool\"},{\"attributes\":{\"days\":[1,4,7,10,13,16,19,22,25,28]},\"id\":\"6551\",\"type\":\"DaysTicker\"},{\"attributes\":{\"months\":[0,6]},\"id\":\"6557\",\"type\":\"MonthsTicker\"},{\"attributes\":{\"children\":[{\"id\":\"6477\"}],\"css_classes\":[\"panel-widget-box\"],\"margin\":[5,5,5,5],\"name\":\"WidgetBox10379\"},\"id\":\"6476\",\"type\":\"Column\"},{\"attributes\":{\"source\":{\"id\":\"6512\"}},\"id\":\"6519\",\"type\":\"CDSView\"},{\"attributes\":{\"below\":[{\"id\":\"6491\"}],\"center\":[{\"id\":\"6494\"},{\"id\":\"6498\"}],\"height\":300,\"left\":[{\"id\":\"6495\"}],\"margin\":[5,5,5,5],\"min_border_bottom\":10,\"min_border_left\":10,\"min_border_right\":10,\"min_border_top\":10,\"renderers\":[{\"id\":\"6518\"}],\"sizing_mode\":\"fixed\",\"title\":{\"id\":\"6483\"},\"toolbar\":{\"id\":\"6505\"},\"width\":700,\"x_range\":{\"id\":\"6479\"},\"x_scale\":{\"id\":\"6487\"},\"y_range\":{\"id\":\"6480\"},\"y_scale\":{\"id\":\"6489\"}},\"id\":\"6482\",\"subtype\":\"Figure\",\"type\":\"Plot\"},{\"attributes\":{\"children\":[{\"id\":\"6476\"},{\"id\":\"6478\"}],\"margin\":[0,0,0,0],\"name\":\"Column10385\"},\"id\":\"6475\",\"type\":\"Column\"},{\"attributes\":{},\"id\":\"6499\",\"type\":\"SaveTool\"},{\"attributes\":{},\"id\":\"6558\",\"type\":\"YearsTicker\"},{\"attributes\":{\"line_alpha\":0.1,\"line_color\":\"#30a2da\",\"line_width\":2,\"x\":{\"field\":\"Date\"},\"y\":{\"field\":\"Average_Rental_Price\"}},\"id\":\"6516\",\"type\":\"Line\"},{\"attributes\":{\"line_alpha\":0.2,\"line_color\":\"#30a2da\",\"line_width\":2,\"x\":{\"field\":\"Date\"},\"y\":{\"field\":\"Average_Rental_Price\"}},\"id\":\"6517\",\"type\":\"Line\"},{\"attributes\":{},\"id\":\"6526\",\"type\":\"AllLabels\"},{\"attributes\":{\"num_minor_ticks\":5,\"tickers\":[{\"id\":\"6547\"},{\"id\":\"6548\"},{\"id\":\"6549\"},{\"id\":\"6550\"},{\"id\":\"6551\"},{\"id\":\"6552\"},{\"id\":\"6553\"},{\"id\":\"6554\"},{\"id\":\"6555\"},{\"id\":\"6556\"},{\"id\":\"6557\"},{\"id\":\"6558\"}]},\"id\":\"6492\",\"type\":\"DatetimeTicker\"},{\"attributes\":{\"axis\":{\"id\":\"6491\"},\"coordinates\":null,\"group\":null,\"ticker\":{\"id\":\"6492\"}},\"id\":\"6494\",\"type\":\"Grid\"},{\"attributes\":{\"months\":[0,4,8]},\"id\":\"6556\",\"type\":\"MonthsTicker\"},{\"attributes\":{},\"id\":\"6522\",\"type\":\"DatetimeTickFormatter\"},{\"attributes\":{},\"id\":\"6501\",\"type\":\"WheelZoomTool\"},{\"attributes\":{\"days\":[1,15]},\"id\":\"6553\",\"type\":\"DaysTicker\"},{\"attributes\":{\"margin\":[5,5,5,5],\"name\":\"VSpacer10384\",\"sizing_mode\":\"stretch_height\"},\"id\":\"6478\",\"type\":\"Spacer\"},{\"attributes\":{},\"id\":\"6487\",\"type\":\"LinearScale\"},{\"attributes\":{\"overlay\":{\"id\":\"6504\"}},\"id\":\"6502\",\"type\":\"BoxZoomTool\"},{\"attributes\":{\"bottom_units\":\"screen\",\"coordinates\":null,\"fill_alpha\":0.5,\"fill_color\":\"lightgrey\",\"group\":null,\"left_units\":\"screen\",\"level\":\"overlay\",\"line_alpha\":1.0,\"line_color\":\"black\",\"line_dash\":[4,4],\"line_width\":2,\"right_units\":\"screen\",\"syncable\":false,\"top_units\":\"screen\"},\"id\":\"6504\",\"type\":\"BoxAnnotation\"},{\"attributes\":{\"line_color\":\"#30a2da\",\"line_width\":2,\"x\":{\"field\":\"Date\"},\"y\":{\"field\":\"Average_Rental_Price\"}},\"id\":\"6520\",\"type\":\"Line\"},{\"attributes\":{},\"id\":\"6503\",\"type\":\"ResetTool\"},{\"attributes\":{\"months\":[0,1,2,3,4,5,6,7,8,9,10,11]},\"id\":\"6554\",\"type\":\"MonthsTicker\"},{\"attributes\":{\"base\":60,\"mantissas\":[1,2,5,10,15,20,30],\"max_interval\":1800000.0,\"min_interval\":1000.0,\"num_minor_ticks\":0},\"id\":\"6548\",\"type\":\"AdaptiveTicker\"},{\"attributes\":{},\"id\":\"6489\",\"type\":\"LinearScale\"},{\"attributes\":{\"coordinates\":null,\"data_source\":{\"id\":\"6512\"},\"glyph\":{\"id\":\"6515\"},\"group\":null,\"hover_glyph\":null,\"muted_glyph\":{\"id\":\"6517\"},\"nonselection_glyph\":{\"id\":\"6516\"},\"selection_glyph\":{\"id\":\"6520\"},\"view\":{\"id\":\"6519\"}},\"id\":\"6518\",\"type\":\"GlyphRenderer\"},{\"attributes\":{\"days\":[1,2,3,4,5,6,7,8,9,10,11,12,13,14,15,16,17,18,19,20,21,22,23,24,25,26,27,28,29,30,31]},\"id\":\"6550\",\"type\":\"DaysTicker\"},{\"attributes\":{\"data\":{\"Average_Rental_Price\":{\"__ndarray__\":\"AAAAAAD4k0AAAAAAAJCTQAAAAAAAQJNAAAAAAAC0k0AAAAAAAIiUQAAAAAAAEJVAAAAAAAB0lUAAAAAAAOCUQAAAAAAAuJRAAAAAAABIlEAAAAAAAOCTQAAAAAAAoJNAAAAAAAAUlEAAAAAAALCUQAAAAAAAHJVAAAAAAAB0lUAAAAAAABSWQAAAAAAAUJZAAAAAAABolkAAAAAAABSWQAAAAAAAtJVAAAAAAACMlUAAAAAAANyVQAAAAAAA8JVAAAAAAACklUAAAAAAAGSVQAAAAAAAqJVAAAAAAAAYlkAAAAAAAMCWQAAAAAAA/JZAAAAAAAAUl0AAAAAAAMiWQAAAAAAA1JZAAAAAAAAMl0AAAAAAAOyWQAAAAAAAeJZAAAAAAAAElkAAAAAAACyWQAAAAAAAaJZAAAAAAAB0lkAAAAAAAFyWQAAAAAAAjJZAAAAAAADwlkAAAAAAAEiXQAAAAAAArJdAAAAAAACcl0AAAAAAAESXQAAAAAAAzJZAAAAAAADYlkAAAAAAADiXQAAAAAAAoJdAAAAAAABMmEAAAAAAACyZQAAAAAAA6JlAAAAAAABcmkAAAAAAAMCaQAAAAAAAVJtAAAAAAABYm0AAAAAAAAibQAAAAAAAPJpA\",\"dtype\":\"float64\",\"order\":\"little\",\"shape\":[60]},\"Date\":{\"__ndarray__\":\"AABANnWVdUIAAICIb591QgAAgKlyqHVCAADA+2yydUIAAEDoFLx1QgAAgDoPxnVCAAAAJ7fPdUIAAEB5sdl1QgAAgMur43VCAAAAuFPtdUIAAEAKTvd1QgAAwPb1AHZCAAAASfAKdkIAAECb6hR2QgAAQLztHXZCAACADugndkIAAAD7jzF2QgAAQE2KO3ZCAADAOTJFdkIAAACMLE92QgAAQN4mWXZCAADAys5idkIAAAAdyWx2QgAAgAlxdnZCAADAW2uAdkIAAACuZYp2QgAAAM9ok3ZCAABAIWOddkIAAMANC6d2QgAAAGAFsXZCAACATK26dkIAAMCep8R2QgAAAPGhznZCAACA3UnYdkIAAMAvROJ2QgAAQBzs63ZCAACAbub1dkIAAMDA4P92QgAAgEc2CXdCAADAmTATd0IAAECG2Bx3QgAAgNjSJndCAAAAxXowd0IAAEAXdTp3QgAAgGlvRHdCAAAAVhdOd0IAAECoEVh3QgAAwJS5YXdCAAAA57Nrd0IAAEA5rnV3QgAAQFqxfndCAACArKuId0IAAACZU5J3QgAAQOtNnHdCAADA1/Wld0IAAAAq8K93QgAAQHzquXdCAADAaJLDd0IAAAC7jM13QgAAgKc013dC\",\"dtype\":\"float64\",\"order\":\"little\",\"shape\":[60]}},\"selected\":{\"id\":\"6513\"},\"selection_policy\":{\"id\":\"6544\"}},\"id\":\"6512\",\"type\":\"ColumnDataSource\"},{\"attributes\":{\"months\":[0,2,4,6,8,10]},\"id\":\"6555\",\"type\":\"MonthsTicker\"},{\"attributes\":{\"tools\":[{\"id\":\"6481\"},{\"id\":\"6499\"},{\"id\":\"6500\"},{\"id\":\"6501\"},{\"id\":\"6502\"},{\"id\":\"6503\"}]},\"id\":\"6505\",\"type\":\"Toolbar\"},{\"attributes\":{\"client_comm_id\":\"a74cefd742ba496a9484d451f170c300\",\"comm_id\":\"85c8148b5d4045cd9af08e6519e5df39\",\"plot_id\":\"6474\"},\"id\":\"6647\",\"type\":\"panel.models.comm_manager.CommManager\"},{\"attributes\":{},\"id\":\"6496\",\"type\":\"BasicTicker\"},{\"attributes\":{\"axis\":{\"id\":\"6495\"},\"coordinates\":null,\"dimension\":1,\"group\":null,\"ticker\":{\"id\":\"6496\"}},\"id\":\"6498\",\"type\":\"Grid\"},{\"attributes\":{\"days\":[1,8,15,22]},\"id\":\"6552\",\"type\":\"DaysTicker\"},{\"attributes\":{},\"id\":\"6525\",\"type\":\"BasicTickFormatter\"},{\"attributes\":{\"axis_label\":\"Date\",\"coordinates\":null,\"formatter\":{\"id\":\"6522\"},\"group\":null,\"major_label_policy\":{\"id\":\"6523\"},\"ticker\":{\"id\":\"6492\"}},\"id\":\"6491\",\"type\":\"DatetimeAxis\"}],\"root_ids\":[\"6474\",\"6647\"]},\"title\":\"Bokeh Application\",\"version\":\"2.4.1\"}};\n",
       "    var render_items = [{\"docid\":\"10abeb86-4f95-4614-9b84-fd85a810ca5d\",\"root_ids\":[\"6474\"],\"roots\":{\"6474\":\"946ee5ac-c451-497f-aac2-4d79d97587a8\"}}];\n",
       "    root.Bokeh.embed.embed_items_notebook(docs_json, render_items);\n",
       "  }\n",
       "  if (root.Bokeh !== undefined && root.Bokeh.Panel !== undefined) {\n",
       "    embed_document(root);\n",
       "  } else {\n",
       "    var attempts = 0;\n",
       "    var timer = setInterval(function(root) {\n",
       "      if (root.Bokeh !== undefined && root.Bokeh.Panel !== undefined) {\n",
       "        clearInterval(timer);\n",
       "        embed_document(root);\n",
       "      } else if (document.readyState == \"complete\") {\n",
       "        attempts++;\n",
       "        if (attempts > 200) {\n",
       "          clearInterval(timer);\n",
       "          console.log(\"Bokeh: ERROR: Unable to run BokehJS code because BokehJS library is missing\");\n",
       "        }\n",
       "      }\n",
       "    }, 25, root)\n",
       "  }\n",
       "})(window);</script>"
      ],
      "text/plain": [
       "Row\n",
       "    [0] Column\n",
       "        [0] WidgetBox\n",
       "            [0] Select(margin=(20, 20, 20, 20), name='City_Name', options=['Auburn', 'Bellevue', ...], value='Auburn', width=250)\n",
       "        [1] VSpacer()\n",
       "    [1] HoloViews(DynamicMap, widget_location='left_top')"
      ]
     },
     "execution_count": 76,
     "metadata": {
      "application/vnd.holoviews_exec.v0+json": {
       "id": "6474"
      }
     },
     "output_type": "execute_result"
    }
   ],
   "source": [
    "#Plotting the visualization for city wise \n",
    "rental_city_df.hvplot(\n",
    "    title='Rental Growth from 2017 to 2021',\n",
    "    x='Date',\n",
    "    y='Average_Rental_Price',\n",
    "    widget_location='left_top',\n",
    "    kind='line',\n",
    "    groupby='City_Name',\n",
    "    grid=True\n",
    ")"
   ]
  },
  {
   "cell_type": "markdown",
   "id": "eab0423c-522f-4aec-8fdf-b50a5b3b3844",
   "metadata": {},
   "source": [
    "### Average Rent by County"
   ]
  },
  {
   "cell_type": "code",
   "execution_count": 77,
   "id": "665d881d-398e-4c0b-b4eb-e2887407d960",
   "metadata": {},
   "outputs": [
    {
     "data": {},
     "metadata": {},
     "output_type": "display_data"
    },
    {
     "data": {},
     "metadata": {},
     "output_type": "display_data"
    },
    {
     "data": {
      "application/vnd.holoviews_exec.v0+json": "",
      "text/html": [
       "<div id='6758'>\n",
       "\n",
       "\n",
       "\n",
       "\n",
       "\n",
       "  <div class=\"bk-root\" id=\"57fccb37-081d-4576-aea1-a1074056b007\" data-root-id=\"6758\"></div>\n",
       "</div>\n",
       "<script type=\"application/javascript\">(function(root) {\n",
       "  function embed_document(root) {\n",
       "    var docs_json = {\"cea51170-249c-48b8-a856-4a2e0d1d9df2\":{\"defs\":[{\"extends\":null,\"module\":null,\"name\":\"ReactiveHTML1\",\"overrides\":[],\"properties\":[]},{\"extends\":null,\"module\":null,\"name\":\"FlexBox1\",\"overrides\":[],\"properties\":[{\"default\":\"flex-start\",\"kind\":null,\"name\":\"align_content\"},{\"default\":\"flex-start\",\"kind\":null,\"name\":\"align_items\"},{\"default\":\"row\",\"kind\":null,\"name\":\"flex_direction\"},{\"default\":\"wrap\",\"kind\":null,\"name\":\"flex_wrap\"},{\"default\":\"flex-start\",\"kind\":null,\"name\":\"justify_content\"}]},{\"extends\":null,\"module\":null,\"name\":\"TemplateActions1\",\"overrides\":[],\"properties\":[{\"default\":0,\"kind\":null,\"name\":\"open_modal\"},{\"default\":0,\"kind\":null,\"name\":\"close_modal\"}]},{\"extends\":null,\"module\":null,\"name\":\"MaterialTemplateActions1\",\"overrides\":[],\"properties\":[{\"default\":0,\"kind\":null,\"name\":\"open_modal\"},{\"default\":0,\"kind\":null,\"name\":\"close_modal\"}]}],\"roots\":{\"references\":[{\"attributes\":{},\"id\":\"6787\",\"type\":\"ResetTool\"},{\"attributes\":{},\"id\":\"6842\",\"type\":\"YearsTicker\"},{\"attributes\":{\"children\":[{\"id\":\"6759\"},{\"id\":\"6766\"}],\"margin\":[0,0,0,0],\"name\":\"Row10631\"},\"id\":\"6758\",\"type\":\"Row\"},{\"attributes\":{\"overlay\":{\"id\":\"6788\"}},\"id\":\"6786\",\"type\":\"BoxZoomTool\"},{\"attributes\":{\"coordinates\":null,\"data_source\":{\"id\":\"6796\"},\"glyph\":{\"id\":\"6799\"},\"group\":null,\"hover_glyph\":null,\"muted_glyph\":{\"id\":\"6801\"},\"nonselection_glyph\":{\"id\":\"6800\"},\"selection_glyph\":{\"id\":\"6804\"},\"view\":{\"id\":\"6803\"}},\"id\":\"6802\",\"type\":\"GlyphRenderer\"},{\"attributes\":{\"days\":[1,2,3,4,5,6,7,8,9,10,11,12,13,14,15,16,17,18,19,20,21,22,23,24,25,26,27,28,29,30,31]},\"id\":\"6834\",\"type\":\"DaysTicker\"},{\"attributes\":{\"months\":[0,2,4,6,8,10]},\"id\":\"6839\",\"type\":\"MonthsTicker\"},{\"attributes\":{\"coordinates\":null,\"group\":null,\"text\":\"Rental Growth from 2017 to 2021\",\"text_color\":\"black\",\"text_font_size\":\"12pt\"},\"id\":\"6767\",\"type\":\"Title\"},{\"attributes\":{},\"id\":\"6785\",\"type\":\"WheelZoomTool\"},{\"attributes\":{},\"id\":\"6773\",\"type\":\"LinearScale\"},{\"attributes\":{\"mantissas\":[1,2,5],\"max_interval\":500.0,\"num_minor_ticks\":0},\"id\":\"6831\",\"type\":\"AdaptiveTicker\"},{\"attributes\":{\"base\":24,\"mantissas\":[1,2,4,6,8,12],\"max_interval\":43200000.0,\"min_interval\":3600000.0,\"num_minor_ticks\":0},\"id\":\"6833\",\"type\":\"AdaptiveTicker\"},{\"attributes\":{},\"id\":\"6784\",\"type\":\"PanTool\"},{\"attributes\":{\"axis\":{\"id\":\"6775\"},\"coordinates\":null,\"group\":null,\"ticker\":{\"id\":\"6776\"}},\"id\":\"6778\",\"type\":\"Grid\"},{\"attributes\":{},\"id\":\"6771\",\"type\":\"LinearScale\"},{\"attributes\":{\"below\":[{\"id\":\"6775\"}],\"center\":[{\"id\":\"6778\"},{\"id\":\"6782\"}],\"height\":300,\"left\":[{\"id\":\"6779\"}],\"margin\":[5,5,5,5],\"min_border_bottom\":10,\"min_border_left\":10,\"min_border_right\":10,\"min_border_top\":10,\"renderers\":[{\"id\":\"6802\"}],\"sizing_mode\":\"fixed\",\"title\":{\"id\":\"6767\"},\"toolbar\":{\"id\":\"6789\"},\"width\":700,\"x_range\":{\"id\":\"6763\"},\"x_scale\":{\"id\":\"6771\"},\"y_range\":{\"id\":\"6764\"},\"y_scale\":{\"id\":\"6773\"}},\"id\":\"6766\",\"subtype\":\"Figure\",\"type\":\"Plot\"},{\"attributes\":{\"children\":[{\"id\":\"6761\"}],\"css_classes\":[\"panel-widget-box\"],\"margin\":[5,5,5,5],\"name\":\"WidgetBox10632\"},\"id\":\"6760\",\"type\":\"Column\"},{\"attributes\":{},\"id\":\"6807\",\"type\":\"AllLabels\"},{\"attributes\":{\"axis\":{\"id\":\"6779\"},\"coordinates\":null,\"dimension\":1,\"group\":null,\"ticker\":{\"id\":\"6780\"}},\"id\":\"6782\",\"type\":\"Grid\"},{\"attributes\":{\"line_alpha\":0.2,\"line_color\":\"#30a2da\",\"line_width\":2,\"x\":{\"field\":\"Date\"},\"y\":{\"field\":\"Average_Rental_Price\"}},\"id\":\"6801\",\"type\":\"Line\"},{\"attributes\":{},\"id\":\"6828\",\"type\":\"UnionRenderers\"},{\"attributes\":{\"days\":[1,15]},\"id\":\"6837\",\"type\":\"DaysTicker\"},{\"attributes\":{\"days\":[1,8,15,22]},\"id\":\"6836\",\"type\":\"DaysTicker\"},{\"attributes\":{\"axis_label\":\"Average_Rental_Price\",\"coordinates\":null,\"formatter\":{\"id\":\"6809\"},\"group\":null,\"major_label_policy\":{\"id\":\"6810\"},\"ticker\":{\"id\":\"6780\"}},\"id\":\"6779\",\"type\":\"LinearAxis\"},{\"attributes\":{\"line_alpha\":0.1,\"line_color\":\"#30a2da\",\"line_width\":2,\"x\":{\"field\":\"Date\"},\"y\":{\"field\":\"Average_Rental_Price\"}},\"id\":\"6800\",\"type\":\"Line\"},{\"attributes\":{},\"id\":\"6797\",\"type\":\"Selection\"},{\"attributes\":{\"line_color\":\"#30a2da\",\"line_width\":2,\"x\":{\"field\":\"Date\"},\"y\":{\"field\":\"Average_Rental_Price\"}},\"id\":\"6799\",\"type\":\"Line\"},{\"attributes\":{},\"id\":\"6809\",\"type\":\"BasicTickFormatter\"},{\"attributes\":{\"base\":60,\"mantissas\":[1,2,5,10,15,20,30],\"max_interval\":1800000.0,\"min_interval\":1000.0,\"num_minor_ticks\":0},\"id\":\"6832\",\"type\":\"AdaptiveTicker\"},{\"attributes\":{\"days\":[1,4,7,10,13,16,19,22,25,28]},\"id\":\"6835\",\"type\":\"DaysTicker\"},{\"attributes\":{\"months\":[0,1,2,3,4,5,6,7,8,9,10,11]},\"id\":\"6838\",\"type\":\"MonthsTicker\"},{\"attributes\":{\"months\":[0,4,8]},\"id\":\"6840\",\"type\":\"MonthsTicker\"},{\"attributes\":{},\"id\":\"6810\",\"type\":\"AllLabels\"},{\"attributes\":{\"line_color\":\"#30a2da\",\"line_width\":2,\"x\":{\"field\":\"Date\"},\"y\":{\"field\":\"Average_Rental_Price\"}},\"id\":\"6804\",\"type\":\"Line\"},{\"attributes\":{\"num_minor_ticks\":5,\"tickers\":[{\"id\":\"6831\"},{\"id\":\"6832\"},{\"id\":\"6833\"},{\"id\":\"6834\"},{\"id\":\"6835\"},{\"id\":\"6836\"},{\"id\":\"6837\"},{\"id\":\"6838\"},{\"id\":\"6839\"},{\"id\":\"6840\"},{\"id\":\"6841\"},{\"id\":\"6842\"}]},\"id\":\"6776\",\"type\":\"DatetimeTicker\"},{\"attributes\":{\"tools\":[{\"id\":\"6765\"},{\"id\":\"6783\"},{\"id\":\"6784\"},{\"id\":\"6785\"},{\"id\":\"6786\"},{\"id\":\"6787\"}]},\"id\":\"6789\",\"type\":\"Toolbar\"},{\"attributes\":{\"axis_label\":\"Date\",\"coordinates\":null,\"formatter\":{\"id\":\"6806\"},\"group\":null,\"major_label_policy\":{\"id\":\"6807\"},\"ticker\":{\"id\":\"6776\"}},\"id\":\"6775\",\"type\":\"DatetimeAxis\"},{\"attributes\":{},\"id\":\"6780\",\"type\":\"BasicTicker\"},{\"attributes\":{\"margin\":[20,20,20,20],\"min_width\":250,\"options\":[\"Clark\",\"Grant\",\"King\",\"Kitsap\",\"Pierce\",\"Snohomish\",\"Spokane\",\"Thurston\"],\"title\":\"County_Name\",\"value\":\"Clark\",\"width\":250},\"id\":\"6761\",\"type\":\"Select\"},{\"attributes\":{\"months\":[0,6]},\"id\":\"6841\",\"type\":\"MonthsTicker\"},{\"attributes\":{\"bottom_units\":\"screen\",\"coordinates\":null,\"fill_alpha\":0.5,\"fill_color\":\"lightgrey\",\"group\":null,\"left_units\":\"screen\",\"level\":\"overlay\",\"line_alpha\":1.0,\"line_color\":\"black\",\"line_dash\":[4,4],\"line_width\":2,\"right_units\":\"screen\",\"syncable\":false,\"top_units\":\"screen\"},\"id\":\"6788\",\"type\":\"BoxAnnotation\"},{\"attributes\":{\"data\":{\"Average_Rental_Price\":{\"__ndarray__\":\"AAAAAAA4lEAAAAAAAGSUQAAAAAAAmJRAAAAAAADAlEAAAAAAANSUQAAAAAAA7JRAAAAAAABMlUAAAAAAAKyVQAAAAAAArJVAAAAAAACclUAAAAAAAGCVQAAAAAAAOJVAAAAAAABElUAAAAAAAESVQAAAAAAApJVAAAAAAAColUAAAAAAALyVQAAAAAAAwJVAAAAAAADolUAAAAAAACiWQAAAAAAANJZAAAAAAAA8lkAAAAAAAByWQAAAAAAAAJZAAAAAAAD0lUAAAAAAAPCVQAAAAAAAIJZAAAAAAABUlkAAAAAAAJiWQAAAAAAAlJZAAAAAAACslkAAAAAAALCWQAAAAAAArJZAAAAAAAB4lkAAAAAAAFSWQAAAAAAAOJZAAAAAAAAwlkAAAAAAACCWQAAAAAAARJZAAAAAAAA0lkAAAAAAACyWQAAAAAAAQJZAAAAAAACklkAAAAAAABiXQAAAAAAAYJdAAAAAAACYl0AAAAAAALCXQAAAAAAApJdAAAAAAACMl0AAAAAAAJiXQAAAAAAA7JdAAAAAAABgmEAAAAAAAOyYQAAAAAAAgJlAAAAAAAAkmkAAAAAAAMiaQAAAAAAAJJtAAAAAAABMm0AAAAAAADSbQAAAAAAAPJtA\",\"dtype\":\"float64\",\"order\":\"little\",\"shape\":[60]},\"Date\":{\"__ndarray__\":\"AABANnWVdUIAAICIb591QgAAgKlyqHVCAADA+2yydUIAAEDoFLx1QgAAgDoPxnVCAAAAJ7fPdUIAAEB5sdl1QgAAgMur43VCAAAAuFPtdUIAAEAKTvd1QgAAwPb1AHZCAAAASfAKdkIAAECb6hR2QgAAQLztHXZCAACADugndkIAAAD7jzF2QgAAQE2KO3ZCAADAOTJFdkIAAACMLE92QgAAQN4mWXZCAADAys5idkIAAAAdyWx2QgAAgAlxdnZCAADAW2uAdkIAAACuZYp2QgAAAM9ok3ZCAABAIWOddkIAAMANC6d2QgAAAGAFsXZCAACATK26dkIAAMCep8R2QgAAAPGhznZCAACA3UnYdkIAAMAvROJ2QgAAQBzs63ZCAACAbub1dkIAAMDA4P92QgAAgEc2CXdCAADAmTATd0IAAECG2Bx3QgAAgNjSJndCAAAAxXowd0IAAEAXdTp3QgAAgGlvRHdCAAAAVhdOd0IAAECoEVh3QgAAwJS5YXdCAAAA57Nrd0IAAEA5rnV3QgAAQFqxfndCAACArKuId0IAAACZU5J3QgAAQOtNnHdCAADA1/Wld0IAAAAq8K93QgAAQHzquXdCAADAaJLDd0IAAAC7jM13QgAAgKc013dC\",\"dtype\":\"float64\",\"order\":\"little\",\"shape\":[60]}},\"selected\":{\"id\":\"6797\"},\"selection_policy\":{\"id\":\"6828\"}},\"id\":\"6796\",\"type\":\"ColumnDataSource\"},{\"attributes\":{\"end\":1638316800000.0,\"reset_end\":1638316800000.0,\"reset_start\":1483228800000.0,\"start\":1483228800000.0,\"tags\":[[[\"Date\",\"Date\",null]]]},\"id\":\"6763\",\"type\":\"Range1d\"},{\"attributes\":{\"callback\":null,\"formatters\":{\"@{Date}\":\"datetime\"},\"renderers\":[{\"id\":\"6802\"}],\"tags\":[\"hv_created\"],\"tooltips\":[[\"Date\",\"@{Date}{%F %T}\"],[\"Average_Rental_Price\",\"@{Average_Rental_Price}\"]]},\"id\":\"6765\",\"type\":\"HoverTool\"},{\"attributes\":{},\"id\":\"6806\",\"type\":\"DatetimeTickFormatter\"},{\"attributes\":{\"client_comm_id\":\"6448c0ddb3074de19370d887f44632ce\",\"comm_id\":\"886c425147334edc99596eca45f7bf83\",\"plot_id\":\"6758\"},\"id\":\"6931\",\"type\":\"panel.models.comm_manager.CommManager\"},{\"attributes\":{\"source\":{\"id\":\"6796\"}},\"id\":\"6803\",\"type\":\"CDSView\"},{\"attributes\":{},\"id\":\"6783\",\"type\":\"SaveTool\"},{\"attributes\":{\"children\":[{\"id\":\"6760\"},{\"id\":\"6762\"}],\"margin\":[0,0,0,0],\"name\":\"Column10638\"},\"id\":\"6759\",\"type\":\"Column\"},{\"attributes\":{\"margin\":[5,5,5,5],\"name\":\"VSpacer10637\",\"sizing_mode\":\"stretch_height\"},\"id\":\"6762\",\"type\":\"Spacer\"},{\"attributes\":{\"end\":1792.3,\"reset_end\":1792.3,\"reset_start\":1248.7,\"start\":1248.7,\"tags\":[[[\"Average_Rental_Price\",\"Average_Rental_Price\",null]]]},\"id\":\"6764\",\"type\":\"Range1d\"}],\"root_ids\":[\"6758\",\"6931\"]},\"title\":\"Bokeh Application\",\"version\":\"2.4.1\"}};\n",
       "    var render_items = [{\"docid\":\"cea51170-249c-48b8-a856-4a2e0d1d9df2\",\"root_ids\":[\"6758\"],\"roots\":{\"6758\":\"57fccb37-081d-4576-aea1-a1074056b007\"}}];\n",
       "    root.Bokeh.embed.embed_items_notebook(docs_json, render_items);\n",
       "  }\n",
       "  if (root.Bokeh !== undefined && root.Bokeh.Panel !== undefined) {\n",
       "    embed_document(root);\n",
       "  } else {\n",
       "    var attempts = 0;\n",
       "    var timer = setInterval(function(root) {\n",
       "      if (root.Bokeh !== undefined && root.Bokeh.Panel !== undefined) {\n",
       "        clearInterval(timer);\n",
       "        embed_document(root);\n",
       "      } else if (document.readyState == \"complete\") {\n",
       "        attempts++;\n",
       "        if (attempts > 200) {\n",
       "          clearInterval(timer);\n",
       "          console.log(\"Bokeh: ERROR: Unable to run BokehJS code because BokehJS library is missing\");\n",
       "        }\n",
       "      }\n",
       "    }, 25, root)\n",
       "  }\n",
       "})(window);</script>"
      ],
      "text/plain": [
       "Row\n",
       "    [0] Column\n",
       "        [0] WidgetBox\n",
       "            [0] Select(margin=(20, 20, 20, 20), name='County_Name', options=['Clark', 'Grant', ...], value='Clark', width=250)\n",
       "        [1] VSpacer()\n",
       "    [1] HoloViews(DynamicMap, widget_location='left_top')"
      ]
     },
     "execution_count": 77,
     "metadata": {
      "application/vnd.holoviews_exec.v0+json": {
       "id": "6758"
      }
     },
     "output_type": "execute_result"
    }
   ],
   "source": [
    "#Plotting the visualization for county wise\n",
    "rental_county_df.hvplot(\n",
    "    title='Rental Growth from 2017 to 2021',\n",
    "    x='Date',\n",
    "    y='Average_Rental_Price',\n",
    "    widget_location='left_top',\n",
    "    kind='line',\n",
    "    groupby='County_Name',\n",
    "    grid=True\n",
    ")"
   ]
  },
  {
   "cell_type": "markdown",
   "id": "aabdd672-d819-45f6-bd40-8106eea78d47",
   "metadata": {},
   "source": [
    "### Average House Listing Price by County"
   ]
  },
  {
   "cell_type": "code",
   "execution_count": 78,
   "id": "d636e9a8-a35f-4014-9215-155fecd902b4",
   "metadata": {},
   "outputs": [
    {
     "data": {},
     "metadata": {},
     "output_type": "display_data"
    },
    {
     "data": {
      "application/vnd.holoviews_exec.v0+json": "",
      "text/html": [
       "<div id='7050'>\n",
       "\n",
       "\n",
       "\n",
       "\n",
       "\n",
       "  <div class=\"bk-root\" id=\"d2f6efd9-ccdf-4d44-9199-fad5e6d8242f\" data-root-id=\"7050\"></div>\n",
       "</div>\n",
       "<script type=\"application/javascript\">(function(root) {\n",
       "  function embed_document(root) {\n",
       "    var docs_json = {\"23fca2e9-accf-4378-8455-5f024ea30c13\":{\"defs\":[{\"extends\":null,\"module\":null,\"name\":\"ReactiveHTML1\",\"overrides\":[],\"properties\":[]},{\"extends\":null,\"module\":null,\"name\":\"FlexBox1\",\"overrides\":[],\"properties\":[{\"default\":\"flex-start\",\"kind\":null,\"name\":\"align_content\"},{\"default\":\"flex-start\",\"kind\":null,\"name\":\"align_items\"},{\"default\":\"row\",\"kind\":null,\"name\":\"flex_direction\"},{\"default\":\"wrap\",\"kind\":null,\"name\":\"flex_wrap\"},{\"default\":\"flex-start\",\"kind\":null,\"name\":\"justify_content\"}]},{\"extends\":null,\"module\":null,\"name\":\"TemplateActions1\",\"overrides\":[],\"properties\":[{\"default\":0,\"kind\":null,\"name\":\"open_modal\"},{\"default\":0,\"kind\":null,\"name\":\"close_modal\"}]},{\"extends\":null,\"module\":null,\"name\":\"MaterialTemplateActions1\",\"overrides\":[],\"properties\":[{\"default\":0,\"kind\":null,\"name\":\"open_modal\"},{\"default\":0,\"kind\":null,\"name\":\"close_modal\"}]}],\"roots\":{\"references\":[{\"attributes\":{\"margin\":[5,5,5,5],\"name\":\"HSpacer11095\",\"sizing_mode\":\"stretch_width\"},\"id\":\"7051\",\"type\":\"Spacer\"},{\"attributes\":{\"margin\":[5,5,5,5],\"name\":\"VSpacer11093\",\"sizing_mode\":\"stretch_height\"},\"id\":\"7129\",\"type\":\"Spacer\"},{\"attributes\":{},\"id\":\"7071\",\"type\":\"SaveTool\"},{\"attributes\":{},\"id\":\"7073\",\"type\":\"WheelZoomTool\"},{\"attributes\":{},\"id\":\"7075\",\"type\":\"ResetTool\"},{\"attributes\":{},\"id\":\"7098\",\"type\":\"AllLabels\"},{\"attributes\":{\"axis_label\":\"Date\",\"coordinates\":null,\"formatter\":{\"id\":\"7094\"},\"group\":null,\"major_label_orientation\":1.5707963267948966,\"major_label_policy\":{\"id\":\"7095\"},\"ticker\":{\"id\":\"7065\"}},\"id\":\"7064\",\"type\":\"CategoricalAxis\"},{\"attributes\":{\"fill_alpha\":{\"value\":0.1},\"fill_color\":{\"value\":\"#30a2da\"},\"hatch_alpha\":{\"value\":0.1},\"hatch_color\":{\"value\":\"#30a2da\"},\"line_alpha\":{\"value\":0.1},\"top\":{\"field\":\"average_listing_price\"},\"width\":{\"value\":0.8},\"x\":{\"field\":\"Date\"}},\"id\":\"7088\",\"type\":\"VBar\"},{\"attributes\":{\"below\":[{\"id\":\"7064\"}],\"center\":[{\"id\":\"7066\"},{\"id\":\"7070\"}],\"height\":300,\"left\":[{\"id\":\"7067\"}],\"margin\":[5,5,5,5],\"min_border_bottom\":10,\"min_border_left\":10,\"min_border_right\":10,\"min_border_top\":10,\"renderers\":[{\"id\":\"7090\"}],\"sizing_mode\":\"fixed\",\"title\":{\"id\":\"7056\"},\"toolbar\":{\"id\":\"7077\"},\"width\":700,\"x_range\":{\"id\":\"7052\"},\"x_scale\":{\"id\":\"7060\"},\"y_range\":{\"id\":\"7053\"},\"y_scale\":{\"id\":\"7062\"}},\"id\":\"7055\",\"subtype\":\"Figure\",\"type\":\"Plot\"},{\"attributes\":{\"factors\":[\"2016-07-01 00:00:00\",\"2016-08-01 00:00:00\",\"2016-09-01 00:00:00\",\"2016-10-01 00:00:00\",\"2016-11-01 00:00:00\",\"2016-12-01 00:00:00\",\"2017-01-01 00:00:00\",\"2017-02-01 00:00:00\",\"2017-03-01 00:00:00\",\"2017-04-01 00:00:00\",\"2017-05-01 00:00:00\",\"2017-06-01 00:00:00\",\"2017-07-01 00:00:00\",\"2017-08-01 00:00:00\",\"2017-09-01 00:00:00\",\"2017-10-01 00:00:00\",\"2017-11-01 00:00:00\",\"2017-12-01 00:00:00\",\"2018-01-01 00:00:00\",\"2018-02-01 00:00:00\",\"2018-03-01 00:00:00\",\"2018-04-01 00:00:00\",\"2018-05-01 00:00:00\",\"2018-06-01 00:00:00\",\"2018-07-01 00:00:00\",\"2018-08-01 00:00:00\",\"2018-09-01 00:00:00\",\"2018-10-01 00:00:00\",\"2018-11-01 00:00:00\",\"2018-12-01 00:00:00\",\"2019-01-01 00:00:00\",\"2019-02-01 00:00:00\",\"2019-03-01 00:00:00\",\"2019-04-01 00:00:00\",\"2019-05-01 00:00:00\",\"2019-06-01 00:00:00\",\"2019-07-01 00:00:00\",\"2019-08-01 00:00:00\",\"2019-09-01 00:00:00\",\"2019-10-01 00:00:00\",\"2019-11-01 00:00:00\",\"2019-12-01 00:00:00\",\"2020-01-01 00:00:00\",\"2020-02-01 00:00:00\",\"2020-03-01 00:00:00\",\"2020-04-01 00:00:00\",\"2020-05-01 00:00:00\",\"2020-06-01 00:00:00\",\"2020-07-01 00:00:00\",\"2020-08-01 00:00:00\",\"2020-09-01 00:00:00\",\"2020-10-01 00:00:00\",\"2020-11-01 00:00:00\",\"2020-12-01 00:00:00\",\"2021-01-01 00:00:00\",\"2021-02-01 00:00:00\",\"2021-03-01 00:00:00\",\"2021-04-01 00:00:00\",\"2021-05-01 00:00:00\",\"2021-06-01 00:00:00\",\"2021-07-01 00:00:00\",\"2021-08-01 00:00:00\",\"2021-09-01 00:00:00\",\"2021-10-01 00:00:00\",\"2021-11-01 00:00:00\",\"2021-12-01 00:00:00\"],\"tags\":[[[\"Date\",\"Date\",null]]]},\"id\":\"7052\",\"type\":\"FactorRange\"},{\"attributes\":{},\"id\":\"7065\",\"type\":\"CategoricalTicker\"},{\"attributes\":{},\"id\":\"7094\",\"type\":\"CategoricalTickFormatter\"},{\"attributes\":{\"overlay\":{\"id\":\"7076\"}},\"id\":\"7074\",\"type\":\"BoxZoomTool\"},{\"attributes\":{},\"id\":\"7060\",\"type\":\"CategoricalScale\"},{\"attributes\":{},\"id\":\"7068\",\"type\":\"BasicTicker\"},{\"attributes\":{\"months\":[\"%Y-%m\"]},\"id\":\"7049\",\"type\":\"DatetimeTickFormatter\"},{\"attributes\":{},\"id\":\"7095\",\"type\":\"AllLabels\"},{\"attributes\":{\"tools\":[{\"id\":\"7054\"},{\"id\":\"7071\"},{\"id\":\"7072\"},{\"id\":\"7073\"},{\"id\":\"7074\"},{\"id\":\"7075\"}]},\"id\":\"7077\",\"type\":\"Toolbar\"},{\"attributes\":{},\"id\":\"7072\",\"type\":\"PanTool\"},{\"attributes\":{\"margin\":[5,5,5,5],\"name\":\"HSpacer11096\",\"sizing_mode\":\"stretch_width\"},\"id\":\"7124\",\"type\":\"Spacer\"},{\"attributes\":{\"data\":{\"Date\":[\"2016-07-01 00:00:00\",\"2016-08-01 00:00:00\",\"2016-09-01 00:00:00\",\"2016-10-01 00:00:00\",\"2016-11-01 00:00:00\",\"2016-12-01 00:00:00\",\"2017-01-01 00:00:00\",\"2017-02-01 00:00:00\",\"2017-03-01 00:00:00\",\"2017-04-01 00:00:00\",\"2017-05-01 00:00:00\",\"2017-06-01 00:00:00\",\"2017-07-01 00:00:00\",\"2017-08-01 00:00:00\",\"2017-09-01 00:00:00\",\"2017-10-01 00:00:00\",\"2017-11-01 00:00:00\",\"2017-12-01 00:00:00\",\"2018-01-01 00:00:00\",\"2018-02-01 00:00:00\",\"2018-03-01 00:00:00\",\"2018-04-01 00:00:00\",\"2018-05-01 00:00:00\",\"2018-06-01 00:00:00\",\"2018-07-01 00:00:00\",\"2018-08-01 00:00:00\",\"2018-09-01 00:00:00\",\"2018-10-01 00:00:00\",\"2018-11-01 00:00:00\",\"2018-12-01 00:00:00\",\"2019-01-01 00:00:00\",\"2019-02-01 00:00:00\",\"2019-03-01 00:00:00\",\"2019-04-01 00:00:00\",\"2019-05-01 00:00:00\",\"2019-06-01 00:00:00\",\"2019-07-01 00:00:00\",\"2019-08-01 00:00:00\",\"2019-09-01 00:00:00\",\"2019-10-01 00:00:00\",\"2019-11-01 00:00:00\",\"2019-12-01 00:00:00\",\"2020-01-01 00:00:00\",\"2020-02-01 00:00:00\",\"2020-03-01 00:00:00\",\"2020-04-01 00:00:00\",\"2020-05-01 00:00:00\",\"2020-06-01 00:00:00\",\"2020-07-01 00:00:00\",\"2020-08-01 00:00:00\",\"2020-09-01 00:00:00\",\"2020-10-01 00:00:00\",\"2020-11-01 00:00:00\",\"2020-12-01 00:00:00\",\"2021-01-01 00:00:00\",\"2021-02-01 00:00:00\",\"2021-03-01 00:00:00\",\"2021-04-01 00:00:00\",\"2021-05-01 00:00:00\",\"2021-06-01 00:00:00\",\"2021-07-01 00:00:00\",\"2021-08-01 00:00:00\",\"2021-09-01 00:00:00\",\"2021-10-01 00:00:00\",\"2021-11-01 00:00:00\",\"2021-12-01 00:00:00\"],\"average_listing_price\":{\"__ndarray__\":\"pze96b0XAkGwgZdO9w0CQYQ0SIP4MANBAAAAADAABEGMtGMFM+IDQfJZN5ia8ANBEGa7EJEpA0EaVtA1qSgBQcdxHEfYfQJBvuVbvpWbBEFsKK+h63kFQXTRRRfT6AVBMzMzM3NqB0G4vywNqgIIQe/u7u4GYghBBrRpQFM9CEEU2ktoOfcHQTuxEzsV3QhBpA+Ec4QlCUG0N3uzY80HQQAAAABU7wZBH4PzMehJBkE22WSTiYQHQXMcx3GsAglBkoVe6ZmmCEEIlnmyRPoLQQR5SpCPowxBKH3SJ4FDDEHTD8HUweILQYmIiIjwWAxBBdCFie5wC0EHIBVlJ1oKQfaOqYG9hAtBaWDvmEcIDEFECVhEq7ILQd70pjdhawpBb8iusJbJCkEBEbTjp0wKQQblAzEABQlBdug329XgCEEAAAAAGFAKQaKtBs9xsQtB6t6AMuGYDEG/5Vu+pQoNQRzrJAwLpA5BMzMzMxmFDUFmZmZmPnQKQZqZmZnhhQtBlKMJsj53C0GE5Z5GxJALQd0ISGmFNg5BYSd2YlcTDUEa/jbF7pQKQdgOzLVdRQtBAAAAAP3KDEF605ve+hwOQdakY+ziGQ1BIKXdCBTHDUFDFrKQ/UoRQZCrdeEgTRNBHtRBnV/WGUFxfJl3LFQYQcjw4jxtyxZB5TWU177FF0H9EDda1h8XQbeSSbdTyRdB\",\"dtype\":\"float64\",\"order\":\"little\",\"shape\":[66]}},\"selected\":{\"id\":\"7085\"},\"selection_policy\":{\"id\":\"7112\"}},\"id\":\"7084\",\"type\":\"ColumnDataSource\"},{\"attributes\":{\"fill_alpha\":{\"value\":0.2},\"fill_color\":{\"value\":\"#30a2da\"},\"hatch_alpha\":{\"value\":0.2},\"hatch_color\":{\"value\":\"#30a2da\"},\"line_alpha\":{\"value\":0.2},\"top\":{\"field\":\"average_listing_price\"},\"width\":{\"value\":0.8},\"x\":{\"field\":\"Date\"}},\"id\":\"7089\",\"type\":\"VBar\"},{\"attributes\":{\"axis_label\":\"average_listing_price\",\"coordinates\":null,\"formatter\":{\"id\":\"7049\"},\"group\":null,\"major_label_policy\":{\"id\":\"7098\"},\"ticker\":{\"id\":\"7068\"}},\"id\":\"7067\",\"type\":\"LinearAxis\"},{\"attributes\":{\"callback\":null,\"renderers\":[{\"id\":\"7090\"}],\"tags\":[\"hv_created\"],\"tooltips\":[[\"Date\",\"@{Date}\"],[\"average_listing_price\",\"@{average_listing_price}\"]]},\"id\":\"7054\",\"type\":\"HoverTool\"},{\"attributes\":{\"bottom\":{\"value\":0},\"fill_alpha\":{\"value\":1.0},\"fill_color\":{\"value\":\"#30a2da\"},\"hatch_alpha\":{\"value\":1.0},\"hatch_color\":{\"value\":\"#30a2da\"},\"hatch_scale\":{\"value\":12.0},\"hatch_weight\":{\"value\":1.0},\"line_alpha\":{\"value\":1.0},\"line_cap\":{\"value\":\"butt\"},\"line_color\":{\"value\":\"black\"},\"line_dash\":{\"value\":[]},\"line_dash_offset\":{\"value\":0},\"line_join\":{\"value\":\"bevel\"},\"line_width\":{\"value\":1},\"top\":{\"field\":\"average_listing_price\"},\"width\":{\"value\":0.8},\"x\":{\"field\":\"Date\"}},\"id\":\"7092\",\"type\":\"VBar\"},{\"attributes\":{\"children\":[{\"id\":\"7128\"}],\"css_classes\":[\"panel-widget-box\"],\"margin\":[5,5,5,5],\"name\":\"WidgetBox11087\"},\"id\":\"7127\",\"type\":\"Column\"},{\"attributes\":{},\"id\":\"7112\",\"type\":\"UnionRenderers\"},{\"attributes\":{\"bottom_units\":\"screen\",\"coordinates\":null,\"fill_alpha\":0.5,\"fill_color\":\"lightgrey\",\"group\":null,\"left_units\":\"screen\",\"level\":\"overlay\",\"line_alpha\":1.0,\"line_color\":\"black\",\"line_dash\":[4,4],\"line_width\":2,\"right_units\":\"screen\",\"syncable\":false,\"top_units\":\"screen\"},\"id\":\"7076\",\"type\":\"BoxAnnotation\"},{\"attributes\":{\"client_comm_id\":\"deee1e9b4eb84a0caeff35e367553c54\",\"comm_id\":\"8fdb2e293c174161bc2803649a9ca70f\",\"plot_id\":\"7050\"},\"id\":\"7157\",\"type\":\"panel.models.comm_manager.CommManager\"},{\"attributes\":{\"source\":{\"id\":\"7084\"}},\"id\":\"7091\",\"type\":\"CDSView\"},{\"attributes\":{\"axis\":{\"id\":\"7067\"},\"coordinates\":null,\"dimension\":1,\"grid_line_color\":null,\"group\":null,\"ticker\":null},\"id\":\"7070\",\"type\":\"Grid\"},{\"attributes\":{\"children\":[{\"id\":\"7051\"},{\"id\":\"7055\"},{\"id\":\"7124\"},{\"id\":\"7125\"}],\"margin\":[0,0,0,0],\"name\":\"Row11086\"},\"id\":\"7050\",\"type\":\"Row\"},{\"attributes\":{\"axis\":{\"id\":\"7064\"},\"coordinates\":null,\"grid_line_color\":null,\"group\":null,\"ticker\":null},\"id\":\"7066\",\"type\":\"Grid\"},{\"attributes\":{},\"id\":\"7085\",\"type\":\"Selection\"},{\"attributes\":{\"coordinates\":null,\"data_source\":{\"id\":\"7084\"},\"glyph\":{\"id\":\"7087\"},\"group\":null,\"hover_glyph\":null,\"muted_glyph\":{\"id\":\"7089\"},\"nonselection_glyph\":{\"id\":\"7088\"},\"selection_glyph\":{\"id\":\"7092\"},\"view\":{\"id\":\"7091\"}},\"id\":\"7090\",\"type\":\"GlyphRenderer\"},{\"attributes\":{\"end\":451595.37880094384,\"reset_end\":451595.37880094384,\"reset_start\":0.0,\"tags\":[[[\"average_listing_price\",\"average_listing_price\",null]]]},\"id\":\"7053\",\"type\":\"Range1d\"},{\"attributes\":{},\"id\":\"7062\",\"type\":\"LinearScale\"},{\"attributes\":{\"margin\":[5,5,5,5],\"name\":\"VSpacer11092\",\"sizing_mode\":\"stretch_height\"},\"id\":\"7126\",\"type\":\"Spacer\"},{\"attributes\":{\"fill_color\":{\"value\":\"#30a2da\"},\"hatch_color\":{\"value\":\"#30a2da\"},\"top\":{\"field\":\"average_listing_price\"},\"width\":{\"value\":0.8},\"x\":{\"field\":\"Date\"}},\"id\":\"7087\",\"type\":\"VBar\"},{\"attributes\":{\"coordinates\":null,\"group\":null,\"text\":\"Average Listing Price by Date\",\"text_color\":\"black\",\"text_font_size\":\"12pt\"},\"id\":\"7056\",\"type\":\"Title\"},{\"attributes\":{\"margin\":[20,20,20,20],\"min_width\":250,\"options\":[\"Adams\",\"Asotin\",\"Benton\",\"Chelan\",\"Clallam\",\"Clark\",\"Columbia\",\"Cowlitz\",\"Douglas\",\"Ferry\",\"Franklin\",\"Garfield\",\"Grant\",\"Grays Harbor\",\"Island\",\"Jefferson\",\"King\",\"Kitsap\",\"Kittitas\",\"Klickitat\",\"Lewis\",\"Lincoln\",\"Mason\",\"Okanogan\",\"Pacific\",\"Pend Oreille\",\"Pierce\",\"San Juan\",\"Skagit\",\"Skamania\",\"Snohomish\",\"Spokane\",\"Stevens\",\"Thurston\",\"Wahkiakum\",\"Walla Walla\",\"Whatcom\",\"Whitman\",\"Yakima\"],\"title\":\"county_name\",\"value\":\"Adams\",\"width\":250},\"id\":\"7128\",\"type\":\"Select\"},{\"attributes\":{\"children\":[{\"id\":\"7126\"},{\"id\":\"7127\"},{\"id\":\"7129\"}],\"margin\":[0,0,0,0],\"name\":\"Column11094\"},\"id\":\"7125\",\"type\":\"Column\"}],\"root_ids\":[\"7050\",\"7157\"]},\"title\":\"Bokeh Application\",\"version\":\"2.4.1\"}};\n",
       "    var render_items = [{\"docid\":\"23fca2e9-accf-4378-8455-5f024ea30c13\",\"root_ids\":[\"7050\"],\"roots\":{\"7050\":\"d2f6efd9-ccdf-4d44-9199-fad5e6d8242f\"}}];\n",
       "    root.Bokeh.embed.embed_items_notebook(docs_json, render_items);\n",
       "  }\n",
       "  if (root.Bokeh !== undefined && root.Bokeh.Panel !== undefined) {\n",
       "    embed_document(root);\n",
       "  } else {\n",
       "    var attempts = 0;\n",
       "    var timer = setInterval(function(root) {\n",
       "      if (root.Bokeh !== undefined && root.Bokeh.Panel !== undefined) {\n",
       "        clearInterval(timer);\n",
       "        embed_document(root);\n",
       "      } else if (document.readyState == \"complete\") {\n",
       "        attempts++;\n",
       "        if (attempts > 200) {\n",
       "          clearInterval(timer);\n",
       "          console.log(\"Bokeh: ERROR: Unable to run BokehJS code because BokehJS library is missing\");\n",
       "        }\n",
       "      }\n",
       "    }, 25, root)\n",
       "  }\n",
       "})(window);</script>"
      ],
      "text/plain": [
       ":DynamicMap   [county_name]\n",
       "   :Bars   [Date]   (average_listing_price)"
      ]
     },
     "execution_count": 78,
     "metadata": {
      "application/vnd.holoviews_exec.v0+json": {
       "id": "7050"
      }
     },
     "output_type": "execute_result"
    }
   ],
   "source": [
    "#Create a bar plot of the average listing price by date grouped by the county\n",
    "# formatter = DatetimeTickFormatter(months='%b %Y')\n",
    "formatter = DatetimeTickFormatter(months='%Y-%m')\n",
    "\n",
    "wa_house_listing_county_df.hvplot.bar(\n",
    "    x='Date',\n",
    "    y='average_listing_price',\n",
    "    groupby='county_name',\n",
    "    title='Average Listing Price by Date',\n",
    "    rot=90).opts(yformatter=formatter)"
   ]
  },
  {
   "cell_type": "code",
   "execution_count": 79,
   "id": "a1d077be-aa39-49ac-8add-ada580a5de31",
   "metadata": {},
   "outputs": [
    {
     "data": {},
     "metadata": {},
     "output_type": "display_data"
    },
    {
     "data": {
      "application/vnd.holoviews_exec.v0+json": "",
      "text/html": [
       "<div id='7203'>\n",
       "\n",
       "\n",
       "\n",
       "\n",
       "\n",
       "  <div class=\"bk-root\" id=\"4b7605c7-d17f-4659-82d0-6fd36fee85db\" data-root-id=\"7203\"></div>\n",
       "</div>\n",
       "<script type=\"application/javascript\">(function(root) {\n",
       "  function embed_document(root) {\n",
       "    var docs_json = {\"1d7f91f9-6017-4a2d-a9c1-0ff1a30afa9c\":{\"defs\":[{\"extends\":null,\"module\":null,\"name\":\"ReactiveHTML1\",\"overrides\":[],\"properties\":[]},{\"extends\":null,\"module\":null,\"name\":\"FlexBox1\",\"overrides\":[],\"properties\":[{\"default\":\"flex-start\",\"kind\":null,\"name\":\"align_content\"},{\"default\":\"flex-start\",\"kind\":null,\"name\":\"align_items\"},{\"default\":\"row\",\"kind\":null,\"name\":\"flex_direction\"},{\"default\":\"wrap\",\"kind\":null,\"name\":\"flex_wrap\"},{\"default\":\"flex-start\",\"kind\":null,\"name\":\"justify_content\"}]},{\"extends\":null,\"module\":null,\"name\":\"TemplateActions1\",\"overrides\":[],\"properties\":[{\"default\":0,\"kind\":null,\"name\":\"open_modal\"},{\"default\":0,\"kind\":null,\"name\":\"close_modal\"}]},{\"extends\":null,\"module\":null,\"name\":\"MaterialTemplateActions1\",\"overrides\":[],\"properties\":[{\"default\":0,\"kind\":null,\"name\":\"open_modal\"},{\"default\":0,\"kind\":null,\"name\":\"close_modal\"}]}],\"roots\":{\"references\":[{\"attributes\":{},\"id\":\"7252\",\"type\":\"AllLabels\"},{\"attributes\":{\"tools\":[{\"id\":\"7207\"},{\"id\":\"7224\"},{\"id\":\"7225\"},{\"id\":\"7226\"},{\"id\":\"7227\"},{\"id\":\"7228\"}]},\"id\":\"7230\",\"type\":\"Toolbar\"},{\"attributes\":{\"children\":[{\"id\":\"7281\"},{\"id\":\"7282\"},{\"id\":\"7286\"}],\"margin\":[0,0,0,0],\"name\":\"Column11406\"},\"id\":\"7280\",\"type\":\"Column\"},{\"attributes\":{},\"id\":\"7215\",\"type\":\"LinearScale\"},{\"attributes\":{\"margin\":[5,5,5,5],\"name\":\"VSpacer11404\",\"sizing_mode\":\"stretch_height\"},\"id\":\"7281\",\"type\":\"Spacer\"},{\"attributes\":{\"format\":\"%.0f\"},\"id\":\"7246\",\"type\":\"PrintfTickFormatter\"},{\"attributes\":{},\"id\":\"7238\",\"type\":\"Selection\"},{\"attributes\":{\"children\":[{\"id\":\"7284\"},{\"id\":\"7285\"}],\"margin\":[0,0,0,0],\"min_width\":290,\"name\":\"Column11401\",\"width\":290},\"id\":\"7283\",\"type\":\"Column\"},{\"attributes\":{\"bottom_units\":\"screen\",\"coordinates\":null,\"fill_alpha\":0.5,\"fill_color\":\"lightgrey\",\"group\":null,\"left_units\":\"screen\",\"level\":\"overlay\",\"line_alpha\":1.0,\"line_color\":\"black\",\"line_dash\":[4,4],\"line_width\":2,\"right_units\":\"screen\",\"syncable\":false,\"top_units\":\"screen\"},\"id\":\"7229\",\"type\":\"BoxAnnotation\"},{\"attributes\":{\"below\":[{\"id\":\"7217\"}],\"center\":[{\"id\":\"7219\"},{\"id\":\"7223\"}],\"height\":300,\"left\":[{\"id\":\"7220\"}],\"margin\":[5,5,5,5],\"min_border_bottom\":10,\"min_border_left\":10,\"min_border_right\":10,\"min_border_top\":10,\"renderers\":[{\"id\":\"7243\"}],\"sizing_mode\":\"fixed\",\"title\":{\"id\":\"7209\"},\"toolbar\":{\"id\":\"7230\"},\"width\":700,\"x_range\":{\"id\":\"7205\"},\"x_scale\":{\"id\":\"7213\"},\"y_range\":{\"id\":\"7206\"},\"y_scale\":{\"id\":\"7215\"}},\"id\":\"7208\",\"subtype\":\"Figure\",\"type\":\"Plot\"},{\"attributes\":{\"coordinates\":null,\"group\":null,\"text\":\"Average Listing Price by County\",\"text_color\":\"black\",\"text_font_size\":\"12pt\"},\"id\":\"7209\",\"type\":\"Title\"},{\"attributes\":{\"source\":{\"id\":\"7237\"}},\"id\":\"7244\",\"type\":\"CDSView\"},{\"attributes\":{\"factors\":[\"Adams\",\"Asotin\",\"Benton\",\"Chelan\",\"Clallam\",\"Clark\",\"Columbia\",\"Cowlitz\",\"Douglas\",\"Ferry\",\"Franklin\",\"Garfield\",\"Grant\",\"Grays Harbor\",\"Island\",\"Jefferson\",\"King\",\"Kitsap\",\"Kittitas\",\"Klickitat\",\"Lewis\",\"Lincoln\",\"Mason\",\"Okanogan\",\"Pacific\",\"Pend Oreille\",\"Pierce\",\"San Juan\",\"Skagit\",\"Skamania\",\"Snohomish\",\"Spokane\",\"Stevens\",\"Thurston\",\"Wahkiakum\",\"Walla Walla\",\"Whatcom\",\"Whitman\",\"Yakima\"],\"tags\":[[[\"county_name\",\"county_name\",null]]]},\"id\":\"7205\",\"type\":\"FactorRange\"},{\"attributes\":{\"margin\":[5,5,5,5],\"name\":\"HSpacer11407\",\"sizing_mode\":\"stretch_width\"},\"id\":\"7204\",\"type\":\"Spacer\"},{\"attributes\":{},\"id\":\"7248\",\"type\":\"CategoricalTickFormatter\"},{\"attributes\":{\"margin\":[5,5,5,5],\"name\":\"HSpacer11408\",\"sizing_mode\":\"stretch_width\"},\"id\":\"7279\",\"type\":\"Spacer\"},{\"attributes\":{\"data\":{\"average_listing_price\":{\"__ndarray__\":\"pze96b0XAkHdyI3cxI0NQYYjbSKOwRNBf2YDdyccIEHNzMzMU8YYQTH1L1uPmx1BiYiIiI7mCUE6CcSF83MSQeXsFn4VIhlBAAAA4G+yC0EcRI/vSlQRQauqqqqqxARByKuBwqu+EEEOZ6dlduAKQVVVVVXddyJBwRAaDP23H0EPDw/rJEMrQdj+I9v7cR9BPusGU/auIUF2u91uT48dQThQw5jjYhBBfGQCvfuODEHbtm3bcLwRQStK4yMbexNBybOM6IctDkE+mpAXbj8XQek+ninaWhpBYid2YotPMUGiRntesiMdQVVVVVXVzCBB+SNMg0vaHUGr5+EkpIUTQTi96U255xJB55xzjvLLFkGE5Z5GWHkTQW9605tvqhRBObTIdgQqH0HHtAkotaIMQc1d8FcRhQ9B\",\"dtype\":\"float64\",\"order\":\"little\",\"shape\":[39]},\"county_name\":[\"Adams\",\"Asotin\",\"Benton\",\"Chelan\",\"Clallam\",\"Clark\",\"Columbia\",\"Cowlitz\",\"Douglas\",\"Ferry\",\"Franklin\",\"Garfield\",\"Grant\",\"Grays Harbor\",\"Island\",\"Jefferson\",\"King\",\"Kitsap\",\"Kittitas\",\"Klickitat\",\"Lewis\",\"Lincoln\",\"Mason\",\"Okanogan\",\"Pacific\",\"Pend Oreille\",\"Pierce\",\"San Juan\",\"Skagit\",\"Skamania\",\"Snohomish\",\"Spokane\",\"Stevens\",\"Thurston\",\"Wahkiakum\",\"Walla Walla\",\"Whatcom\",\"Whitman\",\"Yakima\"]},\"selected\":{\"id\":\"7238\"},\"selection_policy\":{\"id\":\"7267\"}},\"id\":\"7237\",\"type\":\"ColumnDataSource\"},{\"attributes\":{\"fill_color\":{\"value\":\"#30a2da\"},\"hatch_color\":{\"value\":\"#30a2da\"},\"top\":{\"field\":\"average_listing_price\"},\"width\":{\"value\":0.8},\"x\":{\"field\":\"county_name\"}},\"id\":\"7240\",\"type\":\"VBar\"},{\"attributes\":{\"fill_alpha\":{\"value\":0.1},\"fill_color\":{\"value\":\"#30a2da\"},\"hatch_alpha\":{\"value\":0.1},\"hatch_color\":{\"value\":\"#30a2da\"},\"line_alpha\":{\"value\":0.1},\"top\":{\"field\":\"average_listing_price\"},\"width\":{\"value\":0.8},\"x\":{\"field\":\"county_name\"}},\"id\":\"7241\",\"type\":\"VBar\"},{\"attributes\":{\"children\":[{\"id\":\"7283\"}],\"css_classes\":[\"panel-widget-box\"],\"margin\":[5,5,5,5],\"name\":\"WidgetBox11392\"},\"id\":\"7282\",\"type\":\"Column\"},{\"attributes\":{},\"id\":\"7249\",\"type\":\"AllLabels\"},{\"attributes\":{\"args\":{\"bidirectional\":false,\"properties\":{},\"source\":{\"id\":\"7285\"},\"target\":{\"id\":\"7284\"}},\"code\":\"try { \\n    var labels = ['Date: <b>2016-07-01 00:00:00</b>', 'Date: <b>2016-08-01 00:00:00</b>', 'Date: <b>2016-09-01 00:00:00</b>', 'Date: <b>2016-10-01 00:00:00</b>', 'Date: <b>2016-11-01 00:00:00</b>', 'Date: <b>2016-12-01 00:00:00</b>', 'Date: <b>2017-01-01 00:00:00</b>', 'Date: <b>2017-02-01 00:00:00</b>', 'Date: <b>2017-03-01 00:00:00</b>', 'Date: <b>2017-04-01 00:00:00</b>', 'Date: <b>2017-05-01 00:00:00</b>', 'Date: <b>2017-06-01 00:00:00</b>', 'Date: <b>2017-07-01 00:00:00</b>', 'Date: <b>2017-08-01 00:00:00</b>', 'Date: <b>2017-09-01 00:00:00</b>', 'Date: <b>2017-10-01 00:00:00</b>', 'Date: <b>2017-11-01 00:00:00</b>', 'Date: <b>2017-12-01 00:00:00</b>', 'Date: <b>2018-01-01 00:00:00</b>', 'Date: <b>2018-02-01 00:00:00</b>', 'Date: <b>2018-03-01 00:00:00</b>', 'Date: <b>2018-04-01 00:00:00</b>', 'Date: <b>2018-05-01 00:00:00</b>', 'Date: <b>2018-06-01 00:00:00</b>', 'Date: <b>2018-07-01 00:00:00</b>', 'Date: <b>2018-08-01 00:00:00</b>', 'Date: <b>2018-09-01 00:00:00</b>', 'Date: <b>2018-10-01 00:00:00</b>', 'Date: <b>2018-11-01 00:00:00</b>', 'Date: <b>2018-12-01 00:00:00</b>', 'Date: <b>2019-01-01 00:00:00</b>', 'Date: <b>2019-02-01 00:00:00</b>', 'Date: <b>2019-03-01 00:00:00</b>', 'Date: <b>2019-04-01 00:00:00</b>', 'Date: <b>2019-05-01 00:00:00</b>', 'Date: <b>2019-06-01 00:00:00</b>', 'Date: <b>2019-07-01 00:00:00</b>', 'Date: <b>2019-08-01 00:00:00</b>', 'Date: <b>2019-09-01 00:00:00</b>', 'Date: <b>2019-10-01 00:00:00</b>', 'Date: <b>2019-11-01 00:00:00</b>', 'Date: <b>2019-12-01 00:00:00</b>', 'Date: <b>2020-01-01 00:00:00</b>', 'Date: <b>2020-02-01 00:00:00</b>', 'Date: <b>2020-03-01 00:00:00</b>', 'Date: <b>2020-04-01 00:00:00</b>', 'Date: <b>2020-05-01 00:00:00</b>', 'Date: <b>2020-06-01 00:00:00</b>', 'Date: <b>2020-07-01 00:00:00</b>', 'Date: <b>2020-08-01 00:00:00</b>', 'Date: <b>2020-09-01 00:00:00</b>', 'Date: <b>2020-10-01 00:00:00</b>', 'Date: <b>2020-11-01 00:00:00</b>', 'Date: <b>2020-12-01 00:00:00</b>', 'Date: <b>2021-01-01 00:00:00</b>', 'Date: <b>2021-02-01 00:00:00</b>', 'Date: <b>2021-03-01 00:00:00</b>', 'Date: <b>2021-04-01 00:00:00</b>', 'Date: <b>2021-05-01 00:00:00</b>', 'Date: <b>2021-06-01 00:00:00</b>', 'Date: <b>2021-07-01 00:00:00</b>', 'Date: <b>2021-08-01 00:00:00</b>', 'Date: <b>2021-09-01 00:00:00</b>', 'Date: <b>2021-10-01 00:00:00</b>', 'Date: <b>2021-11-01 00:00:00</b>', 'Date: <b>2021-12-01 00:00:00</b>']\\n    target.text = labels[source.value]\\n     } catch(err) { console.log(err) }\",\"tags\":[2526005902920]},\"id\":\"7296\",\"type\":\"CustomJS\"},{\"attributes\":{\"client_comm_id\":\"d6cb29b1d22f42c4affb4559ca1f4a55\",\"comm_id\":\"ca56693a3a2a41e5b4f48af9a0c4b886\",\"plot_id\":\"7203\"},\"id\":\"7315\",\"type\":\"panel.models.comm_manager.CommManager\"},{\"attributes\":{\"children\":[{\"id\":\"7204\"},{\"id\":\"7208\"},{\"id\":\"7279\"},{\"id\":\"7280\"}],\"margin\":[0,0,0,0],\"name\":\"Row11391\"},\"id\":\"7203\",\"type\":\"Row\"},{\"attributes\":{\"axis_label\":\"average_listing_price\",\"coordinates\":null,\"formatter\":{\"id\":\"7246\"},\"group\":null,\"major_label_policy\":{\"id\":\"7252\"},\"ticker\":{\"id\":\"7221\"}},\"id\":\"7220\",\"type\":\"LinearAxis\"},{\"attributes\":{\"callback\":null,\"renderers\":[{\"id\":\"7243\"}],\"tags\":[\"hv_created\"],\"tooltips\":[[\"county_name\",\"@{county_name}\"],[\"average_listing_price\",\"@{average_listing_price}\"]]},\"id\":\"7207\",\"type\":\"HoverTool\"},{\"attributes\":{},\"id\":\"7221\",\"type\":\"BasicTicker\"},{\"attributes\":{\"end\":65,\"js_property_callbacks\":{\"change:value\":[{\"id\":\"7296\"}]},\"margin\":[0,20,20,20],\"min_width\":250,\"show_value\":false,\"start\":0,\"tooltips\":false,\"value\":0,\"width\":250},\"id\":\"7285\",\"type\":\"Slider\"},{\"attributes\":{},\"id\":\"7213\",\"type\":\"CategoricalScale\"},{\"attributes\":{},\"id\":\"7224\",\"type\":\"SaveTool\"},{\"attributes\":{},\"id\":\"7225\",\"type\":\"PanTool\"},{\"attributes\":{},\"id\":\"7218\",\"type\":\"CategoricalTicker\"},{\"attributes\":{\"end\":1233101.3491638794,\"reset_end\":1233101.3491638794,\"reset_start\":0.0,\"tags\":[[[\"average_listing_price\",\"average_listing_price\",null]]]},\"id\":\"7206\",\"type\":\"Range1d\"},{\"attributes\":{\"axis_label\":\"county_name\",\"coordinates\":null,\"formatter\":{\"id\":\"7248\"},\"group\":null,\"major_label_orientation\":0.8726646259971648,\"major_label_policy\":{\"id\":\"7249\"},\"ticker\":{\"id\":\"7218\"}},\"id\":\"7217\",\"type\":\"CategoricalAxis\"},{\"attributes\":{\"margin\":[5,5,5,5],\"name\":\"VSpacer11405\",\"sizing_mode\":\"stretch_height\"},\"id\":\"7286\",\"type\":\"Spacer\"},{\"attributes\":{\"axis\":{\"id\":\"7220\"},\"coordinates\":null,\"dimension\":1,\"grid_line_color\":null,\"group\":null,\"ticker\":null},\"id\":\"7223\",\"type\":\"Grid\"},{\"attributes\":{},\"id\":\"7228\",\"type\":\"ResetTool\"},{\"attributes\":{},\"id\":\"7267\",\"type\":\"UnionRenderers\"},{\"attributes\":{\"axis\":{\"id\":\"7217\"},\"coordinates\":null,\"grid_line_color\":null,\"group\":null,\"ticker\":null},\"id\":\"7219\",\"type\":\"Grid\"},{\"attributes\":{},\"id\":\"7226\",\"type\":\"WheelZoomTool\"},{\"attributes\":{\"fill_alpha\":{\"value\":0.2},\"fill_color\":{\"value\":\"#30a2da\"},\"hatch_alpha\":{\"value\":0.2},\"hatch_color\":{\"value\":\"#30a2da\"},\"line_alpha\":{\"value\":0.2},\"top\":{\"field\":\"average_listing_price\"},\"width\":{\"value\":0.8},\"x\":{\"field\":\"county_name\"}},\"id\":\"7242\",\"type\":\"VBar\"},{\"attributes\":{\"coordinates\":null,\"data_source\":{\"id\":\"7237\"},\"glyph\":{\"id\":\"7240\"},\"group\":null,\"hover_glyph\":null,\"muted_glyph\":{\"id\":\"7242\"},\"nonselection_glyph\":{\"id\":\"7241\"},\"selection_glyph\":{\"id\":\"7245\"},\"view\":{\"id\":\"7244\"}},\"id\":\"7243\",\"type\":\"GlyphRenderer\"},{\"attributes\":{\"overlay\":{\"id\":\"7229\"}},\"id\":\"7227\",\"type\":\"BoxZoomTool\"},{\"attributes\":{\"bottom\":{\"value\":0},\"fill_alpha\":{\"value\":1.0},\"fill_color\":{\"value\":\"#30a2da\"},\"hatch_alpha\":{\"value\":1.0},\"hatch_color\":{\"value\":\"#30a2da\"},\"hatch_scale\":{\"value\":12.0},\"hatch_weight\":{\"value\":1.0},\"line_alpha\":{\"value\":1.0},\"line_cap\":{\"value\":\"butt\"},\"line_color\":{\"value\":\"black\"},\"line_dash\":{\"value\":[]},\"line_dash_offset\":{\"value\":0},\"line_join\":{\"value\":\"bevel\"},\"line_width\":{\"value\":1},\"top\":{\"field\":\"average_listing_price\"},\"width\":{\"value\":0.8},\"x\":{\"field\":\"county_name\"}},\"id\":\"7245\",\"type\":\"VBar\"},{\"attributes\":{\"margin\":[20,0,0,20],\"name\":\"\",\"style\":{\"white-space\":\"nowrap\"},\"text\":\"Date: <b>2016-07-01 00:00:00</b>\",\"width\":250},\"id\":\"7284\",\"type\":\"Div\"}],\"root_ids\":[\"7203\",\"7315\"]},\"title\":\"Bokeh Application\",\"version\":\"2.4.1\"}};\n",
       "    var render_items = [{\"docid\":\"1d7f91f9-6017-4a2d-a9c1-0ff1a30afa9c\",\"root_ids\":[\"7203\"],\"roots\":{\"7203\":\"4b7605c7-d17f-4659-82d0-6fd36fee85db\"}}];\n",
       "    root.Bokeh.embed.embed_items_notebook(docs_json, render_items);\n",
       "  }\n",
       "  if (root.Bokeh !== undefined && root.Bokeh.Panel !== undefined) {\n",
       "    embed_document(root);\n",
       "  } else {\n",
       "    var attempts = 0;\n",
       "    var timer = setInterval(function(root) {\n",
       "      if (root.Bokeh !== undefined && root.Bokeh.Panel !== undefined) {\n",
       "        clearInterval(timer);\n",
       "        embed_document(root);\n",
       "      } else if (document.readyState == \"complete\") {\n",
       "        attempts++;\n",
       "        if (attempts > 200) {\n",
       "          clearInterval(timer);\n",
       "          console.log(\"Bokeh: ERROR: Unable to run BokehJS code because BokehJS library is missing\");\n",
       "        }\n",
       "      }\n",
       "    }, 25, root)\n",
       "  }\n",
       "})(window);</script>"
      ],
      "text/plain": [
       ":DynamicMap   [Date]\n",
       "   :Bars   [county_name]   (average_listing_price)"
      ]
     },
     "execution_count": 79,
     "metadata": {
      "application/vnd.holoviews_exec.v0+json": {
       "id": "7203"
      }
     },
     "output_type": "execute_result"
    }
   ],
   "source": [
    "#Create a bar plot of the average listing price by county\n",
    "wa_house_listing_county_df.hvplot.bar(\n",
    "    x='county_name',\n",
    "    y='average_listing_price',\n",
    "    groupby='Date',\n",
    "    title='Average Listing Price by County',\n",
    "    rot=50).opts(yformatter='%.0f')"
   ]
  },
  {
   "cell_type": "markdown",
   "id": "f2458571-69bd-4b4d-a56b-f6ca64f746da",
   "metadata": {},
   "source": [
    "### Affordability by City"
   ]
  },
  {
   "cell_type": "code",
   "execution_count": 80,
   "id": "8aae9ab8-cee7-4e85-bb28-7033540c539b",
   "metadata": {},
   "outputs": [
    {
     "data": {
      "text/html": [
       "<div>\n",
       "<style scoped>\n",
       "    .dataframe tbody tr th:only-of-type {\n",
       "        vertical-align: middle;\n",
       "    }\n",
       "\n",
       "    .dataframe tbody tr th {\n",
       "        vertical-align: top;\n",
       "    }\n",
       "\n",
       "    .dataframe thead th {\n",
       "        text-align: right;\n",
       "    }\n",
       "</style>\n",
       "<table border=\"1\" class=\"dataframe\">\n",
       "  <thead>\n",
       "    <tr style=\"text-align: right;\">\n",
       "      <th></th>\n",
       "      <th>2017</th>\n",
       "      <th>2018</th>\n",
       "      <th>2019</th>\n",
       "      <th>2020</th>\n",
       "    </tr>\n",
       "    <tr>\n",
       "      <th>Areas</th>\n",
       "      <th></th>\n",
       "      <th></th>\n",
       "      <th></th>\n",
       "      <th></th>\n",
       "    </tr>\n",
       "  </thead>\n",
       "  <tbody>\n",
       "    <tr>\n",
       "      <th>Aberdeen</th>\n",
       "      <td>193.3</td>\n",
       "      <td>141.5</td>\n",
       "      <td>143.7</td>\n",
       "      <td>157.3</td>\n",
       "    </tr>\n",
       "    <tr>\n",
       "      <th>Airway Heights</th>\n",
       "      <td>137.5</td>\n",
       "      <td>115.0</td>\n",
       "      <td>118.0</td>\n",
       "      <td>117.3</td>\n",
       "    </tr>\n",
       "    <tr>\n",
       "      <th>Anacortes</th>\n",
       "      <td>83.6</td>\n",
       "      <td>72.0</td>\n",
       "      <td>81.5</td>\n",
       "      <td>75.9</td>\n",
       "    </tr>\n",
       "    <tr>\n",
       "      <th>Arlington</th>\n",
       "      <td>113.0</td>\n",
       "      <td>102.4</td>\n",
       "      <td>112.1</td>\n",
       "      <td>107.1</td>\n",
       "    </tr>\n",
       "    <tr>\n",
       "      <th>Auburn</th>\n",
       "      <td>99.1</td>\n",
       "      <td>90.6</td>\n",
       "      <td>97.6</td>\n",
       "      <td>104.1</td>\n",
       "    </tr>\n",
       "  </tbody>\n",
       "</table>\n",
       "</div>"
      ],
      "text/plain": [
       "                 2017   2018   2019   2020\n",
       "Areas                                     \n",
       "Aberdeen        193.3  141.5  143.7  157.3\n",
       "Airway Heights  137.5  115.0  118.0  117.3\n",
       "Anacortes        83.6   72.0   81.5   75.9\n",
       "Arlington       113.0  102.4  112.1  107.1\n",
       "Auburn           99.1   90.6   97.6  104.1"
      ]
     },
     "execution_count": 80,
     "metadata": {},
     "output_type": "execute_result"
    }
   ],
   "source": [
    "#Reading the csv file into dataframe\n",
    "city_affordability_indices = pd.read_csv(\n",
    "    Path(\"Resources/CityAffordabilityIndices.csv\"),\n",
    "    index_col='Areas',\n",
    ")\n",
    "\n",
    "#Displaying the dataframe\n",
    "city_affordability_indices.head()"
   ]
  },
  {
   "cell_type": "code",
   "execution_count": 81,
   "id": "948d40ba-4d5e-4c05-9cd0-1e4ffe0c2dd1",
   "metadata": {},
   "outputs": [
    {
     "data": {},
     "metadata": {},
     "output_type": "display_data"
    },
    {
     "data": {
      "application/vnd.holoviews_exec.v0+json": "",
      "text/html": [
       "<div id='7361'>\n",
       "\n",
       "\n",
       "\n",
       "\n",
       "\n",
       "  <div class=\"bk-root\" id=\"58b20554-8af9-48b1-a9fb-b8056efa9139\" data-root-id=\"7361\"></div>\n",
       "</div>\n",
       "<script type=\"application/javascript\">(function(root) {\n",
       "  function embed_document(root) {\n",
       "    var docs_json = {\"0efae358-e021-45b3-a2d3-caa6485797e5\":{\"defs\":[{\"extends\":null,\"module\":null,\"name\":\"ReactiveHTML1\",\"overrides\":[],\"properties\":[]},{\"extends\":null,\"module\":null,\"name\":\"FlexBox1\",\"overrides\":[],\"properties\":[{\"default\":\"flex-start\",\"kind\":null,\"name\":\"align_content\"},{\"default\":\"flex-start\",\"kind\":null,\"name\":\"align_items\"},{\"default\":\"row\",\"kind\":null,\"name\":\"flex_direction\"},{\"default\":\"wrap\",\"kind\":null,\"name\":\"flex_wrap\"},{\"default\":\"flex-start\",\"kind\":null,\"name\":\"justify_content\"}]},{\"extends\":null,\"module\":null,\"name\":\"TemplateActions1\",\"overrides\":[],\"properties\":[{\"default\":0,\"kind\":null,\"name\":\"open_modal\"},{\"default\":0,\"kind\":null,\"name\":\"close_modal\"}]},{\"extends\":null,\"module\":null,\"name\":\"MaterialTemplateActions1\",\"overrides\":[],\"properties\":[{\"default\":0,\"kind\":null,\"name\":\"open_modal\"},{\"default\":0,\"kind\":null,\"name\":\"close_modal\"}]}],\"roots\":{\"references\":[{\"attributes\":{},\"id\":\"7406\",\"type\":\"AllLabels\"},{\"attributes\":{\"axis_label\":\"Cities\",\"coordinates\":null,\"formatter\":{\"id\":\"7405\"},\"group\":null,\"major_label_orientation\":0.7853981633974483,\"major_label_policy\":{\"id\":\"7406\"},\"ticker\":{\"id\":\"7376\"}},\"id\":\"7375\",\"type\":\"CategoricalAxis\"},{\"attributes\":{\"data\":{\"A_2020\":{\"__ndarray__\":\"mpmZmZmpY0AzMzMzM1NdQJqZmZmZ+VJAZmZmZmbGWkBmZmZmZgZaQJqZmZmZWVRAMzMzMzNzXkDNzMzMzKxSQM3MzMzM7FNAAAAAAAAAYEDNzMzMzMxXQDMzMzMz81ZAAAAAAACAVUAzMzMzM9NSQM3MzMzMbGFAAAAAAACAV0AzMzMzM3NcQJqZmZmZSWFAMzMzMzPTWEDNzMzMzAxiQJqZmZmZOVVAZmZmZmYGW0BmZmZmZuZUQGZmZmZmplFAAAAAAACAVUBmZmZmZgZUQGZmZmZmJllAMzMzMzNTW0BmZmZmZuZYQM3MzMzM7FVAAAAAAAAgYUAzMzMzM9NWQDMzMzMzk1VAmpmZmZm5WEAAAAAAAIBdQJqZmZmZGVlAZmZmZmZmVUDNzMzMzMxcQJqZmZmZuVxAMzMzMzNzXEBmZmZmZsZWQGZmZmZmhl1AzczMzMyMV0BmZmZmZgZbQJqZmZmZOVJAZmZmZmaGX0CamZmZmflcQM3MzMzMTE5AAAAAAADgWUBmZmZmZsZbQGZmZmZmJl5AZmZmZmamVUDNzMzMzCxWQAAAAAAA4FpAMzMzMzPTVkDNzMzMzExXQJqZmZmZeVlAMzMzMzNTX0AzMzMzMxNYQM3MzMzMDFxAZmZmZmbGUUAAAAAAAGBYQM3MzMzMDFBAZmZmZmYmXEBmZmZmZiZYQJqZmZmZOVdAmpmZmZlJYUCamZmZmflZQGZmZmZmZldAzczMzMzsVEDNzMzMzCxYQM3MzMzMbFVAzczMzMxMVkCamZmZmZlRQM3MzMzMrF5AMzMzMzNzW0DNzMzMzGxZQGZmZmZmRldAAAAAAACAXEAzMzMzM1NbQGZmZmZmJlZAzczMzMwsXkBmZmZmZiZXQAAAAAAA4FpAZmZmZmamWUAAAAAAAPBgQAAAAAAAgFdAzczMzMwMZUAAAAAAAGBTQJqZmZmZ+VpAZmZmZmb2YUA=\",\"dtype\":\"float64\",\"order\":\"little\",\"shape\":[91]},\"Areas\":[\"Aberdeen\",\"Airway Heights\",\"Anacortes\",\"Arlington\",\"Auburn\",\"Bainbridge Island\",\"Battle Ground\",\"Bellevue\",\"Bellingham\",\"Bonney Lake\",\"Bothell\",\"Bremerton\",\"Burien\",\"Burlington\",\"Camas\",\"Centralia\",\"Cheney\",\"Covington\",\"Des Moines\",\"DuPont\",\"East Wenatchee\",\"Edgewood\",\"Edmonds\",\"Ellensburg\",\"Enumclaw\",\"Everett\",\"Federal Way\",\"Ferndale\",\"Fife\",\"Gig Harbor\",\"Grandview\",\"Issaquah\",\"Kelso\",\"Kenmore\",\"Kennewick\",\"Kent\",\"Kirkland\",\"Lacey\",\"Lake Forest Park\",\"Lake Stevens\",\"Lakewood\",\"Liberty Lake\",\"Longview\",\"Lynden\",\"Lynnwood\",\"Maple Valley\",\"Marysville\",\"Mercer Island\",\"Mill Creek\",\"Monroe\",\"Moses Lake\",\"Mount Vernon\",\"Mountlake Terrace\",\"Mukilteo\",\"Newcastle\",\"Oak Harbor\",\"Olympia\",\"Pasco\",\"Port Angeles\",\"Port Orchard\",\"Port Townsend\",\"Poulsbo\",\"Pullman\",\"Puyallup\",\"Redmond\",\"Renton\",\"Richland\",\"Sammamish\",\"SeaTac\",\"Seattle\",\"Sedro Woolley\",\"Shelton\",\"Shoreline\",\"Snohomish\",\"Snoqualmie\",\"Spokane\",\"Spokane Valley\",\"Sumner\",\"Sunnyside\",\"Tacoma\",\"Tukwila\",\"Tumwater\",\"University Place\",\"Vancouver\",\"Walla Walla\",\"Washougal\",\"Wenatchee\",\"West Richland\",\"Woodinville\",\"Yakima\",\"Yelm\"]},\"selected\":{\"id\":\"7396\"},\"selection_policy\":{\"id\":\"7417\"}},\"id\":\"7395\",\"type\":\"ColumnDataSource\"},{\"attributes\":{},\"id\":\"7371\",\"type\":\"CategoricalScale\"},{\"attributes\":{},\"id\":\"7405\",\"type\":\"CategoricalTickFormatter\"},{\"attributes\":{\"margin\":[5,5,5,5],\"name\":\"HSpacer11714\",\"sizing_mode\":\"stretch_width\"},\"id\":\"7430\",\"type\":\"Spacer\"},{\"attributes\":{\"overlay\":{\"id\":\"7387\"}},\"id\":\"7385\",\"type\":\"BoxZoomTool\"},{\"attributes\":{\"axis\":{\"id\":\"7378\"},\"coordinates\":null,\"dimension\":1,\"grid_line_color\":null,\"group\":null,\"ticker\":null},\"id\":\"7381\",\"type\":\"Grid\"},{\"attributes\":{\"fill_alpha\":{\"value\":0.2},\"fill_color\":{\"value\":\"brown\"},\"hatch_alpha\":{\"value\":0.2},\"hatch_color\":{\"value\":\"brown\"},\"line_alpha\":{\"value\":0.2},\"top\":{\"field\":\"A_2020\"},\"width\":{\"value\":0.8},\"x\":{\"field\":\"Areas\"}},\"id\":\"7400\",\"type\":\"VBar\"},{\"attributes\":{},\"id\":\"7376\",\"type\":\"CategoricalTicker\"},{\"attributes\":{\"coordinates\":null,\"data_source\":{\"id\":\"7395\"},\"glyph\":{\"id\":\"7398\"},\"group\":null,\"hover_glyph\":null,\"muted_glyph\":{\"id\":\"7400\"},\"nonselection_glyph\":{\"id\":\"7399\"},\"selection_glyph\":{\"id\":\"7403\"},\"view\":{\"id\":\"7402\"}},\"id\":\"7401\",\"type\":\"GlyphRenderer\"},{\"attributes\":{\"callback\":null,\"renderers\":[{\"id\":\"7401\"}],\"tags\":[\"hv_created\"],\"tooltips\":[[\"Areas\",\"@{Areas}\"],[\"2020\",\"@{A_2020}\"]]},\"id\":\"7365\",\"type\":\"HoverTool\"},{\"attributes\":{\"source\":{\"id\":\"7395\"}},\"id\":\"7402\",\"type\":\"CDSView\"},{\"attributes\":{\"axis_label\":\"Index\",\"coordinates\":null,\"formatter\":{\"id\":\"7408\"},\"group\":null,\"major_label_policy\":{\"id\":\"7409\"},\"ticker\":{\"id\":\"7379\"}},\"id\":\"7378\",\"type\":\"LinearAxis\"},{\"attributes\":{},\"id\":\"7417\",\"type\":\"UnionRenderers\"},{\"attributes\":{\"bottom\":{\"value\":0},\"fill_alpha\":{\"value\":1.0},\"fill_color\":{\"value\":\"brown\"},\"hatch_alpha\":{\"value\":1.0},\"hatch_color\":{\"value\":\"brown\"},\"hatch_scale\":{\"value\":12.0},\"hatch_weight\":{\"value\":1.0},\"line_alpha\":{\"value\":1.0},\"line_cap\":{\"value\":\"butt\"},\"line_color\":{\"value\":\"black\"},\"line_dash\":{\"value\":[]},\"line_dash_offset\":{\"value\":0},\"line_join\":{\"value\":\"bevel\"},\"line_width\":{\"value\":1},\"top\":{\"field\":\"A_2020\"},\"width\":{\"value\":0.8},\"x\":{\"field\":\"Areas\"}},\"id\":\"7403\",\"type\":\"VBar\"},{\"attributes\":{\"below\":[{\"id\":\"7375\"}],\"center\":[{\"id\":\"7377\"},{\"id\":\"7381\"}],\"height\":700,\"left\":[{\"id\":\"7378\"}],\"margin\":[5,5,5,5],\"min_border_bottom\":10,\"min_border_left\":10,\"min_border_right\":10,\"min_border_top\":10,\"renderers\":[{\"id\":\"7401\"}],\"sizing_mode\":\"fixed\",\"title\":{\"id\":\"7367\"},\"toolbar\":{\"id\":\"7388\"},\"width\":1200,\"x_range\":{\"id\":\"7363\"},\"x_scale\":{\"id\":\"7371\"},\"y_range\":{\"id\":\"7364\"},\"y_scale\":{\"id\":\"7373\"}},\"id\":\"7366\",\"subtype\":\"Figure\",\"type\":\"Plot\"},{\"attributes\":{},\"id\":\"7408\",\"type\":\"BasicTickFormatter\"},{\"attributes\":{},\"id\":\"7386\",\"type\":\"ResetTool\"},{\"attributes\":{\"margin\":[5,5,5,5],\"name\":\"HSpacer11713\",\"sizing_mode\":\"stretch_width\"},\"id\":\"7362\",\"type\":\"Spacer\"},{\"attributes\":{},\"id\":\"7383\",\"type\":\"PanTool\"},{\"attributes\":{},\"id\":\"7409\",\"type\":\"AllLabels\"},{\"attributes\":{\"bottom_units\":\"screen\",\"coordinates\":null,\"fill_alpha\":0.5,\"fill_color\":\"lightgrey\",\"group\":null,\"left_units\":\"screen\",\"level\":\"overlay\",\"line_alpha\":1.0,\"line_color\":\"black\",\"line_dash\":[4,4],\"line_width\":2,\"right_units\":\"screen\",\"syncable\":false,\"top_units\":\"screen\"},\"id\":\"7387\",\"type\":\"BoxAnnotation\"},{\"attributes\":{},\"id\":\"7382\",\"type\":\"SaveTool\"},{\"attributes\":{\"end\":179.18,\"reset_end\":179.18,\"reset_start\":0.0,\"tags\":[[[\"2020\",\"2020\",null]]]},\"id\":\"7364\",\"type\":\"Range1d\"},{\"attributes\":{\"tools\":[{\"id\":\"7365\"},{\"id\":\"7382\"},{\"id\":\"7383\"},{\"id\":\"7384\"},{\"id\":\"7385\"},{\"id\":\"7386\"}]},\"id\":\"7388\",\"type\":\"Toolbar\"},{\"attributes\":{\"axis\":{\"id\":\"7375\"},\"coordinates\":null,\"grid_line_color\":null,\"group\":null,\"ticker\":null},\"id\":\"7377\",\"type\":\"Grid\"},{\"attributes\":{\"factors\":[\"Aberdeen\",\"Airway Heights\",\"Anacortes\",\"Arlington\",\"Auburn\",\"Bainbridge Island\",\"Battle Ground\",\"Bellevue\",\"Bellingham\",\"Bonney Lake\",\"Bothell\",\"Bremerton\",\"Burien\",\"Burlington\",\"Camas\",\"Centralia\",\"Cheney\",\"Covington\",\"Des Moines\",\"DuPont\",\"East Wenatchee\",\"Edgewood\",\"Edmonds\",\"Ellensburg\",\"Enumclaw\",\"Everett\",\"Federal Way\",\"Ferndale\",\"Fife\",\"Gig Harbor\",\"Grandview\",\"Issaquah\",\"Kelso\",\"Kenmore\",\"Kennewick\",\"Kent\",\"Kirkland\",\"Lacey\",\"Lake Forest Park\",\"Lake Stevens\",\"Lakewood\",\"Liberty Lake\",\"Longview\",\"Lynden\",\"Lynnwood\",\"Maple Valley\",\"Marysville\",\"Mercer Island\",\"Mill Creek\",\"Monroe\",\"Moses Lake\",\"Mount Vernon\",\"Mountlake Terrace\",\"Mukilteo\",\"Newcastle\",\"Oak Harbor\",\"Olympia\",\"Pasco\",\"Port Angeles\",\"Port Orchard\",\"Port Townsend\",\"Poulsbo\",\"Pullman\",\"Puyallup\",\"Redmond\",\"Renton\",\"Richland\",\"Sammamish\",\"SeaTac\",\"Seattle\",\"Sedro Woolley\",\"Shelton\",\"Shoreline\",\"Snohomish\",\"Snoqualmie\",\"Spokane\",\"Spokane Valley\",\"Sumner\",\"Sunnyside\",\"Tacoma\",\"Tukwila\",\"Tumwater\",\"University Place\",\"Vancouver\",\"Walla Walla\",\"Washougal\",\"Wenatchee\",\"West Richland\",\"Woodinville\",\"Yakima\",\"Yelm\"],\"tags\":[[[\"Areas\",\"Areas\",null]]]},\"id\":\"7363\",\"type\":\"FactorRange\"},{\"attributes\":{},\"id\":\"7396\",\"type\":\"Selection\"},{\"attributes\":{\"fill_alpha\":{\"value\":0.1},\"fill_color\":{\"value\":\"brown\"},\"hatch_alpha\":{\"value\":0.1},\"hatch_color\":{\"value\":\"brown\"},\"line_alpha\":{\"value\":0.1},\"top\":{\"field\":\"A_2020\"},\"width\":{\"value\":0.8},\"x\":{\"field\":\"Areas\"}},\"id\":\"7399\",\"type\":\"VBar\"},{\"attributes\":{\"coordinates\":null,\"group\":null,\"text\":\"City Affordability Index - 2017\",\"text_color\":\"black\",\"text_font_size\":\"12pt\"},\"id\":\"7367\",\"type\":\"Title\"},{\"attributes\":{},\"id\":\"7384\",\"type\":\"WheelZoomTool\"},{\"attributes\":{\"children\":[{\"id\":\"7362\"},{\"id\":\"7366\"},{\"id\":\"7430\"}],\"margin\":[0,0,0,0],\"name\":\"Row11709\",\"tags\":[\"embedded\"]},\"id\":\"7361\",\"type\":\"Row\"},{\"attributes\":{},\"id\":\"7373\",\"type\":\"LinearScale\"},{\"attributes\":{\"fill_color\":{\"value\":\"brown\"},\"hatch_color\":{\"value\":\"brown\"},\"top\":{\"field\":\"A_2020\"},\"width\":{\"value\":0.8},\"x\":{\"field\":\"Areas\"}},\"id\":\"7398\",\"type\":\"VBar\"},{\"attributes\":{},\"id\":\"7379\",\"type\":\"BasicTicker\"}],\"root_ids\":[\"7361\"]},\"title\":\"Bokeh Application\",\"version\":\"2.4.1\"}};\n",
       "    var render_items = [{\"docid\":\"0efae358-e021-45b3-a2d3-caa6485797e5\",\"root_ids\":[\"7361\"],\"roots\":{\"7361\":\"58b20554-8af9-48b1-a9fb-b8056efa9139\"}}];\n",
       "    root.Bokeh.embed.embed_items_notebook(docs_json, render_items);\n",
       "  }\n",
       "  if (root.Bokeh !== undefined && root.Bokeh.Panel !== undefined) {\n",
       "    embed_document(root);\n",
       "  } else {\n",
       "    var attempts = 0;\n",
       "    var timer = setInterval(function(root) {\n",
       "      if (root.Bokeh !== undefined && root.Bokeh.Panel !== undefined) {\n",
       "        clearInterval(timer);\n",
       "        embed_document(root);\n",
       "      } else if (document.readyState == \"complete\") {\n",
       "        attempts++;\n",
       "        if (attempts > 200) {\n",
       "          clearInterval(timer);\n",
       "          console.log(\"Bokeh: ERROR: Unable to run BokehJS code because BokehJS library is missing\");\n",
       "        }\n",
       "      }\n",
       "    }, 25, root)\n",
       "  }\n",
       "})(window);</script>"
      ],
      "text/plain": [
       ":Bars   [Areas]   (2020)"
      ]
     },
     "execution_count": 81,
     "metadata": {
      "application/vnd.holoviews_exec.v0+json": {
       "id": "7361"
      }
     },
     "output_type": "execute_result"
    }
   ],
   "source": [
    "#Plotting the whole dataframe only for 2017 for analysis\n",
    "city_affordability_indices['2020'].hvplot.bar(\n",
    "    legend=True,\n",
    "    width=1200,\n",
    "    height=700,\n",
    "    title='City Affordability Index - 2017',\n",
    "    color=\"brown\",\n",
    "    ylabel= \"Index\",\n",
    "    xlabel= \"Cities\",\n",
    "    rot=45\n",
    ")"
   ]
  },
  {
   "cell_type": "markdown",
   "id": "10c530f4-2665-4687-a29a-3a076b10a17e",
   "metadata": {},
   "source": [
    "## Construction: Building Permits and Completions"
   ]
  },
  {
   "cell_type": "markdown",
   "id": "66e82ccf-e900-4652-bf4d-e9353b46b191",
   "metadata": {},
   "source": [
    "### Annual Building Completions by City"
   ]
  },
  {
   "cell_type": "code",
   "execution_count": 82,
   "id": "c210110d-44d1-476a-9823-7573b4a4a6c5",
   "metadata": {},
   "outputs": [
    {
     "data": {},
     "metadata": {},
     "output_type": "display_data"
    },
    {
     "data": {
      "application/vnd.holoviews_exec.v0+json": "",
      "text/html": [
       "<div id='7482'>\n",
       "\n",
       "\n",
       "\n",
       "\n",
       "\n",
       "  <div class=\"bk-root\" id=\"9b7c2ee6-8037-4920-b295-5feae6dc5f11\" data-root-id=\"7482\"></div>\n",
       "</div>\n",
       "<script type=\"application/javascript\">(function(root) {\n",
       "  function embed_document(root) {\n",
       "    var docs_json = {\"cda45277-b5fd-4d21-8ad3-46cf9c197eeb\":{\"defs\":[{\"extends\":null,\"module\":null,\"name\":\"ReactiveHTML1\",\"overrides\":[],\"properties\":[]},{\"extends\":null,\"module\":null,\"name\":\"FlexBox1\",\"overrides\":[],\"properties\":[{\"default\":\"flex-start\",\"kind\":null,\"name\":\"align_content\"},{\"default\":\"flex-start\",\"kind\":null,\"name\":\"align_items\"},{\"default\":\"row\",\"kind\":null,\"name\":\"flex_direction\"},{\"default\":\"wrap\",\"kind\":null,\"name\":\"flex_wrap\"},{\"default\":\"flex-start\",\"kind\":null,\"name\":\"justify_content\"}]},{\"extends\":null,\"module\":null,\"name\":\"TemplateActions1\",\"overrides\":[],\"properties\":[{\"default\":0,\"kind\":null,\"name\":\"open_modal\"},{\"default\":0,\"kind\":null,\"name\":\"close_modal\"}]},{\"extends\":null,\"module\":null,\"name\":\"MaterialTemplateActions1\",\"overrides\":[],\"properties\":[{\"default\":0,\"kind\":null,\"name\":\"open_modal\"},{\"default\":0,\"kind\":null,\"name\":\"close_modal\"}]}],\"roots\":{\"references\":[{\"attributes\":{},\"id\":\"7504\",\"type\":\"PanTool\"},{\"attributes\":{},\"id\":\"7528\",\"type\":\"AllLabels\"},{\"attributes\":{},\"id\":\"7497\",\"type\":\"CategoricalTicker\"},{\"attributes\":{\"children\":[{\"id\":\"7483\"},{\"id\":\"7487\"},{\"id\":\"7558\"},{\"id\":\"7559\"}],\"margin\":[0,0,0,0],\"name\":\"Row11814\"},\"id\":\"7482\",\"type\":\"Row\"},{\"attributes\":{\"axis_label\":\"Units_Completed\",\"coordinates\":null,\"formatter\":{\"id\":\"7525\"},\"group\":null,\"major_label_policy\":{\"id\":\"7531\"},\"ticker\":{\"id\":\"7500\"}},\"id\":\"7499\",\"type\":\"LinearAxis\"},{\"attributes\":{\"fill_color\":{\"value\":\"#30a2da\"},\"hatch_color\":{\"value\":\"#30a2da\"},\"top\":{\"field\":\"Units_Completed\"},\"width\":{\"value\":0.8},\"x\":{\"field\":\"Date\"}},\"id\":\"7519\",\"type\":\"VBar\"},{\"attributes\":{\"client_comm_id\":\"766b3b1e58fd4eabb9581c8a2530ac8a\",\"comm_id\":\"4facee9c27bb4c7693159da014175f28\",\"plot_id\":\"7482\"},\"id\":\"7591\",\"type\":\"panel.models.comm_manager.CommManager\"},{\"attributes\":{\"fill_alpha\":{\"value\":0.1},\"fill_color\":{\"value\":\"#30a2da\"},\"hatch_alpha\":{\"value\":0.1},\"hatch_color\":{\"value\":\"#30a2da\"},\"line_alpha\":{\"value\":0.1},\"top\":{\"field\":\"Units_Completed\"},\"width\":{\"value\":0.8},\"x\":{\"field\":\"Date\"}},\"id\":\"7520\",\"type\":\"VBar\"},{\"attributes\":{},\"id\":\"7503\",\"type\":\"SaveTool\"},{\"attributes\":{\"format\":\"%.0f\"},\"id\":\"7525\",\"type\":\"PrintfTickFormatter\"},{\"attributes\":{\"axis\":{\"id\":\"7499\"},\"coordinates\":null,\"dimension\":1,\"grid_line_color\":null,\"group\":null,\"ticker\":null},\"id\":\"7502\",\"type\":\"Grid\"},{\"attributes\":{},\"id\":\"7531\",\"type\":\"AllLabels\"},{\"attributes\":{\"margin\":[5,5,5,5],\"name\":\"VSpacer11821\",\"sizing_mode\":\"stretch_height\"},\"id\":\"7563\",\"type\":\"Spacer\"},{\"attributes\":{\"overlay\":{\"id\":\"7508\"}},\"id\":\"7506\",\"type\":\"BoxZoomTool\"},{\"attributes\":{},\"id\":\"7517\",\"type\":\"Selection\"},{\"attributes\":{\"children\":[{\"id\":\"7562\"}],\"css_classes\":[\"panel-widget-box\"],\"margin\":[5,5,5,5],\"name\":\"WidgetBox11815\"},\"id\":\"7561\",\"type\":\"Column\"},{\"attributes\":{\"coordinates\":null,\"data_source\":{\"id\":\"7516\"},\"glyph\":{\"id\":\"7519\"},\"group\":null,\"hover_glyph\":null,\"muted_glyph\":{\"id\":\"7521\"},\"nonselection_glyph\":{\"id\":\"7520\"},\"selection_glyph\":{\"id\":\"7524\"},\"view\":{\"id\":\"7523\"}},\"id\":\"7522\",\"type\":\"GlyphRenderer\"},{\"attributes\":{},\"id\":\"7527\",\"type\":\"CategoricalTickFormatter\"},{\"attributes\":{},\"id\":\"7546\",\"type\":\"UnionRenderers\"},{\"attributes\":{\"bottom_units\":\"screen\",\"coordinates\":null,\"fill_alpha\":0.5,\"fill_color\":\"lightgrey\",\"group\":null,\"left_units\":\"screen\",\"level\":\"overlay\",\"line_alpha\":1.0,\"line_color\":\"black\",\"line_dash\":[4,4],\"line_width\":2,\"right_units\":\"screen\",\"syncable\":false,\"top_units\":\"screen\"},\"id\":\"7508\",\"type\":\"BoxAnnotation\"},{\"attributes\":{\"children\":[{\"id\":\"7560\"},{\"id\":\"7561\"},{\"id\":\"7563\"}],\"margin\":[0,0,0,0],\"name\":\"Column11822\"},\"id\":\"7559\",\"type\":\"Column\"},{\"attributes\":{\"margin\":[5,5,5,5],\"name\":\"HSpacer11823\",\"sizing_mode\":\"stretch_width\"},\"id\":\"7483\",\"type\":\"Spacer\"},{\"attributes\":{},\"id\":\"7494\",\"type\":\"LinearScale\"},{\"attributes\":{\"source\":{\"id\":\"7516\"}},\"id\":\"7523\",\"type\":\"CDSView\"},{\"attributes\":{\"margin\":[5,5,5,5],\"name\":\"VSpacer11820\",\"sizing_mode\":\"stretch_height\"},\"id\":\"7560\",\"type\":\"Spacer\"},{\"attributes\":{},\"id\":\"7507\",\"type\":\"ResetTool\"},{\"attributes\":{\"margin\":[20,20,20,20],\"min_width\":250,\"options\":[\"Aberdeen\",\"Airway Heights\",\"Anacortes\",\"Arlington\",\"Auburn\",\"Bainbridge Island\",\"Battle Ground\",\"Bellevue\",\"Bellingham\",\"Bonney Lake\",\"Bothell\",\"Bremerton\",\"Burien\",\"Burlington\",\"Camas\",\"Centralia\",\"Cheney\",\"Covington\",\"Des Moines\",\"DuPont\",\"East Wenatchee\",\"Edgewood\",\"Edmonds\",\"Ellensburg\",\"Enumclaw\",\"Everett\",\"Federal Way\",\"Ferndale\",\"Fife\",\"Gig Harbor\",\"Grandview\",\"Issaquah\",\"Kelso\",\"Kenmore\",\"Kennewick\",\"Kent\",\"Kirkland\",\"Lacey\",\"Lake Forest Park\",\"Lake Stevens\",\"Lakewood\",\"Liberty Lake\",\"Longview\",\"Lynden\",\"Lynnwood\",\"Maple Valley\",\"Marysville\",\"Mercer Island\",\"Mill Creek\",\"Monroe\",\"Moses Lake\",\"Mount Vernon\",\"Mountlake Terrace\",\"Mukilteo\",\"Newcastle\",\"Oak Harbor\",\"Olympia\",\"Pasco\",\"Port Angeles\",\"Port Orchard\",\"Port Townsend\",\"Poulsbo\",\"Pullman\",\"Puyallup\",\"Redmond\",\"Renton\",\"Richland\",\"Sammamish\",\"SeaTac\",\"Seattle\",\"Sedro-Woolley\",\"Shelton\",\"Shoreline\",\"Snohomish\",\"Snoqualmie\",\"Spokane\",\"Spokane Valley\",\"Sumner\",\"Sunnyside\",\"Tacoma\",\"Tukwila\",\"Tumwater\",\"University Place\",\"Vancouver\",\"Walla Walla\",\"Washougal\",\"Wenatchee\",\"West Richland\",\"Woodinville\",\"Yakima\",\"Yelm\"],\"title\":\"CITIES\",\"value\":\"Aberdeen\",\"width\":250},\"id\":\"7562\",\"type\":\"Select\"},{\"attributes\":{\"margin\":[5,5,5,5],\"name\":\"HSpacer11824\",\"sizing_mode\":\"stretch_width\"},\"id\":\"7558\",\"type\":\"Spacer\"},{\"attributes\":{\"axis\":{\"id\":\"7496\"},\"coordinates\":null,\"grid_line_color\":null,\"group\":null,\"ticker\":null},\"id\":\"7498\",\"type\":\"Grid\"},{\"attributes\":{\"axis_label\":\"Date\",\"coordinates\":null,\"formatter\":{\"id\":\"7527\"},\"group\":null,\"major_label_orientation\":0.5235987755982988,\"major_label_policy\":{\"id\":\"7528\"},\"ticker\":{\"id\":\"7497\"}},\"id\":\"7496\",\"type\":\"CategoricalAxis\"},{\"attributes\":{\"bottom\":{\"value\":0},\"fill_alpha\":{\"value\":1.0},\"fill_color\":{\"value\":\"#30a2da\"},\"hatch_alpha\":{\"value\":1.0},\"hatch_color\":{\"value\":\"#30a2da\"},\"hatch_scale\":{\"value\":12.0},\"hatch_weight\":{\"value\":1.0},\"line_alpha\":{\"value\":1.0},\"line_cap\":{\"value\":\"butt\"},\"line_color\":{\"value\":\"black\"},\"line_dash\":{\"value\":[]},\"line_dash_offset\":{\"value\":0},\"line_join\":{\"value\":\"bevel\"},\"line_width\":{\"value\":1},\"top\":{\"field\":\"Units_Completed\"},\"width\":{\"value\":0.8},\"x\":{\"field\":\"Date\"}},\"id\":\"7524\",\"type\":\"VBar\"},{\"attributes\":{},\"id\":\"7500\",\"type\":\"BasicTicker\"},{\"attributes\":{\"factors\":[\"2016/17\",\"2017/18\",\"2018/19\",\"2019/20\",\"2020/21\"],\"tags\":[[[\"Date\",\"Date\",null]]]},\"id\":\"7484\",\"type\":\"FactorRange\"},{\"attributes\":{\"coordinates\":null,\"group\":null,\"text\":\"City Units Completed by Year\",\"text_color\":\"black\",\"text_font_size\":\"12pt\"},\"id\":\"7488\",\"type\":\"Title\"},{\"attributes\":{\"fill_alpha\":{\"value\":0.2},\"fill_color\":{\"value\":\"#30a2da\"},\"hatch_alpha\":{\"value\":0.2},\"hatch_color\":{\"value\":\"#30a2da\"},\"line_alpha\":{\"value\":0.2},\"top\":{\"field\":\"Units_Completed\"},\"width\":{\"value\":0.8},\"x\":{\"field\":\"Date\"}},\"id\":\"7521\",\"type\":\"VBar\"},{\"attributes\":{},\"id\":\"7505\",\"type\":\"WheelZoomTool\"},{\"attributes\":{\"below\":[{\"id\":\"7496\"}],\"center\":[{\"id\":\"7498\"},{\"id\":\"7502\"}],\"height\":300,\"left\":[{\"id\":\"7499\"}],\"margin\":[5,5,5,5],\"min_border_bottom\":10,\"min_border_left\":10,\"min_border_right\":10,\"min_border_top\":10,\"renderers\":[{\"id\":\"7522\"}],\"sizing_mode\":\"fixed\",\"title\":{\"id\":\"7488\"},\"toolbar\":{\"id\":\"7509\"},\"width\":700,\"x_range\":{\"id\":\"7484\"},\"x_scale\":{\"id\":\"7492\"},\"y_range\":{\"id\":\"7485\"},\"y_scale\":{\"id\":\"7494\"}},\"id\":\"7487\",\"subtype\":\"Figure\",\"type\":\"Plot\"},{\"attributes\":{\"tools\":[{\"id\":\"7486\"},{\"id\":\"7503\"},{\"id\":\"7504\"},{\"id\":\"7505\"},{\"id\":\"7506\"},{\"id\":\"7507\"}]},\"id\":\"7509\",\"type\":\"Toolbar\"},{\"attributes\":{\"data\":{\"Date\":[\"2016/17\",\"2017/18\",\"2018/19\",\"2019/20\",\"2020/21\"],\"Units_Completed\":{\"__ndarray__\":\"AAAAAAAAGEAAAAAAAAAowAAAAAAAABBAAAAAAAAAMUAAAAAAAAAzQA==\",\"dtype\":\"float64\",\"order\":\"little\",\"shape\":[5]}},\"selected\":{\"id\":\"7517\"},\"selection_policy\":{\"id\":\"7546\"}},\"id\":\"7516\",\"type\":\"ColumnDataSource\"},{\"attributes\":{\"callback\":null,\"renderers\":[{\"id\":\"7522\"}],\"tags\":[\"hv_created\"],\"tooltips\":[[\"Date\",\"@{Date}\"],[\"Units_Completed\",\"@{Units_Completed}\"]]},\"id\":\"7486\",\"type\":\"HoverTool\"},{\"attributes\":{},\"id\":\"7492\",\"type\":\"CategoricalScale\"},{\"attributes\":{\"end\":22.1,\"reset_end\":22.1,\"reset_start\":-15.1,\"start\":-15.1,\"tags\":[[[\"Units_Completed\",\"Units_Completed\",null]]]},\"id\":\"7485\",\"type\":\"Range1d\"}],\"root_ids\":[\"7482\",\"7591\"]},\"title\":\"Bokeh Application\",\"version\":\"2.4.1\"}};\n",
       "    var render_items = [{\"docid\":\"cda45277-b5fd-4d21-8ad3-46cf9c197eeb\",\"root_ids\":[\"7482\"],\"roots\":{\"7482\":\"9b7c2ee6-8037-4920-b295-5feae6dc5f11\"}}];\n",
       "    root.Bokeh.embed.embed_items_notebook(docs_json, render_items);\n",
       "  }\n",
       "  if (root.Bokeh !== undefined && root.Bokeh.Panel !== undefined) {\n",
       "    embed_document(root);\n",
       "  } else {\n",
       "    var attempts = 0;\n",
       "    var timer = setInterval(function(root) {\n",
       "      if (root.Bokeh !== undefined && root.Bokeh.Panel !== undefined) {\n",
       "        clearInterval(timer);\n",
       "        embed_document(root);\n",
       "      } else if (document.readyState == \"complete\") {\n",
       "        attempts++;\n",
       "        if (attempts > 200) {\n",
       "          clearInterval(timer);\n",
       "          console.log(\"Bokeh: ERROR: Unable to run BokehJS code because BokehJS library is missing\");\n",
       "        }\n",
       "      }\n",
       "    }, 25, root)\n",
       "  }\n",
       "})(window);</script>"
      ],
      "text/plain": [
       ":DynamicMap   [CITIES]\n",
       "   :Bars   [Date]   (Units_Completed)"
      ]
     },
     "execution_count": 82,
     "metadata": {
      "application/vnd.holoviews_exec.v0+json": {
       "id": "7482"
      }
     },
     "output_type": "execute_result"
    }
   ],
   "source": [
    "#Create a bar plot of the units completed by the city \n",
    "building_completion_city_df.hvplot.bar(\n",
    "    x='Date',\n",
    "    y='Units_Completed',\n",
    "    groupby='CITIES',\n",
    "    title='City Units Completed by Year',\n",
    "    rot=30\n",
    ").opts(yformatter='%.0f')"
   ]
  },
  {
   "cell_type": "markdown",
   "id": "caa39c39-5df8-4c0d-8c5f-012ea757dd0a",
   "metadata": {},
   "source": [
    "### Annual Building Completions by County"
   ]
  },
  {
   "cell_type": "code",
   "execution_count": 83,
   "id": "a940c495-b514-4506-a7bd-675daeb52c46",
   "metadata": {},
   "outputs": [
    {
     "data": {},
     "metadata": {},
     "output_type": "display_data"
    },
    {
     "data": {
      "application/vnd.holoviews_exec.v0+json": "",
      "text/html": [
       "<div id='7637'>\n",
       "\n",
       "\n",
       "\n",
       "\n",
       "\n",
       "  <div class=\"bk-root\" id=\"c1b038be-f228-47d6-b0de-052197cf59ad\" data-root-id=\"7637\"></div>\n",
       "</div>\n",
       "<script type=\"application/javascript\">(function(root) {\n",
       "  function embed_document(root) {\n",
       "    var docs_json = {\"d351ccbf-1058-4871-af37-87da5172c50c\":{\"defs\":[{\"extends\":null,\"module\":null,\"name\":\"ReactiveHTML1\",\"overrides\":[],\"properties\":[]},{\"extends\":null,\"module\":null,\"name\":\"FlexBox1\",\"overrides\":[],\"properties\":[{\"default\":\"flex-start\",\"kind\":null,\"name\":\"align_content\"},{\"default\":\"flex-start\",\"kind\":null,\"name\":\"align_items\"},{\"default\":\"row\",\"kind\":null,\"name\":\"flex_direction\"},{\"default\":\"wrap\",\"kind\":null,\"name\":\"flex_wrap\"},{\"default\":\"flex-start\",\"kind\":null,\"name\":\"justify_content\"}]},{\"extends\":null,\"module\":null,\"name\":\"TemplateActions1\",\"overrides\":[],\"properties\":[{\"default\":0,\"kind\":null,\"name\":\"open_modal\"},{\"default\":0,\"kind\":null,\"name\":\"close_modal\"}]},{\"extends\":null,\"module\":null,\"name\":\"MaterialTemplateActions1\",\"overrides\":[],\"properties\":[{\"default\":0,\"kind\":null,\"name\":\"open_modal\"},{\"default\":0,\"kind\":null,\"name\":\"close_modal\"}]}],\"roots\":{\"references\":[{\"attributes\":{\"margin\":[5,5,5,5],\"name\":\"VSpacer12087\",\"sizing_mode\":\"stretch_height\"},\"id\":\"7715\",\"type\":\"Spacer\"},{\"attributes\":{\"axis_label\":\"Date\",\"coordinates\":null,\"formatter\":{\"id\":\"7682\"},\"group\":null,\"major_label_orientation\":0.5235987755982988,\"major_label_policy\":{\"id\":\"7683\"},\"ticker\":{\"id\":\"7652\"}},\"id\":\"7651\",\"type\":\"CategoricalAxis\"},{\"attributes\":{},\"id\":\"7658\",\"type\":\"SaveTool\"},{\"attributes\":{\"source\":{\"id\":\"7671\"}},\"id\":\"7678\",\"type\":\"CDSView\"},{\"attributes\":{\"end\":156.6,\"reset_end\":156.6,\"reset_start\":0.0,\"tags\":[[[\"Units_Completed\",\"Units_Completed\",null]]]},\"id\":\"7640\",\"type\":\"Range1d\"},{\"attributes\":{},\"id\":\"7649\",\"type\":\"LinearScale\"},{\"attributes\":{\"margin\":[5,5,5,5],\"name\":\"VSpacer12088\",\"sizing_mode\":\"stretch_height\"},\"id\":\"7718\",\"type\":\"Spacer\"},{\"attributes\":{},\"id\":\"7662\",\"type\":\"ResetTool\"},{\"attributes\":{\"axis\":{\"id\":\"7651\"},\"coordinates\":null,\"grid_line_color\":null,\"group\":null,\"ticker\":null},\"id\":\"7653\",\"type\":\"Grid\"},{\"attributes\":{\"fill_color\":{\"value\":\"Brown\"},\"hatch_color\":{\"value\":\"Brown\"},\"top\":{\"field\":\"Units_Completed\"},\"width\":{\"value\":0.8},\"x\":{\"field\":\"Date\"}},\"id\":\"7674\",\"type\":\"VBar\"},{\"attributes\":{\"margin\":[5,5,5,5],\"name\":\"HSpacer12091\",\"sizing_mode\":\"stretch_width\"},\"id\":\"7713\",\"type\":\"Spacer\"},{\"attributes\":{\"children\":[{\"id\":\"7638\"},{\"id\":\"7642\"},{\"id\":\"7713\"},{\"id\":\"7714\"}],\"margin\":[0,0,0,0],\"name\":\"Row12081\"},\"id\":\"7637\",\"type\":\"Row\"},{\"attributes\":{},\"id\":\"7659\",\"type\":\"PanTool\"},{\"attributes\":{\"data\":{\"Date\":[\"2016/17\",\"2017/18\",\"2018/19\",\"2019/20\",\"2020/21\"],\"Units_Completed\":{\"__ndarray__\":\"AAAAAABAYkAAAAAAAABEQAAAAAAAgEVAAAAAAABAV0AAAAAAAABeQA==\",\"dtype\":\"float64\",\"order\":\"little\",\"shape\":[5]}},\"selected\":{\"id\":\"7672\"},\"selection_policy\":{\"id\":\"7701\"}},\"id\":\"7671\",\"type\":\"ColumnDataSource\"},{\"attributes\":{\"margin\":[20,20,20,20],\"min_width\":250,\"options\":[\"Adams\",\"Asotin\",\"Benton\",\"Chelan\",\"Clallam\",\"Clark\",\"Columbia\",\"Cowlitz\",\"Douglas\",\"Ferry\",\"Franklin\",\"Garfield\",\"Grant\",\"Grays\",\"Island\",\"Jefferson\",\"King\",\"Kitsap\",\"Kittitas\",\"Klickitat\",\"Lewis\",\"Lincoln\",\"Mason\",\"Okanogan\",\"Pacific\",\"Pend\",\"Pierce\",\"San\",\"Skagit\",\"Skamania\",\"Snohomish\",\"Spokane\",\"Stevens\",\"Thurston\",\"Wahkiakum\",\"Walla\",\"Whatcom\",\"Whitman\",\"Yakima\"],\"title\":\"COUNTIES\",\"value\":\"Adams\",\"width\":250},\"id\":\"7717\",\"type\":\"Select\"},{\"attributes\":{\"children\":[{\"id\":\"7717\"}],\"css_classes\":[\"panel-widget-box\"],\"margin\":[5,5,5,5],\"name\":\"WidgetBox12082\"},\"id\":\"7716\",\"type\":\"Column\"},{\"attributes\":{\"overlay\":{\"id\":\"7663\"}},\"id\":\"7661\",\"type\":\"BoxZoomTool\"},{\"attributes\":{\"format\":\"%.0f\"},\"id\":\"7680\",\"type\":\"PrintfTickFormatter\"},{\"attributes\":{\"callback\":null,\"renderers\":[{\"id\":\"7677\"}],\"tags\":[\"hv_created\"],\"tooltips\":[[\"Date\",\"@{Date}\"],[\"Units_Completed\",\"@{Units_Completed}\"]]},\"id\":\"7641\",\"type\":\"HoverTool\"},{\"attributes\":{\"margin\":[5,5,5,5],\"name\":\"HSpacer12090\",\"sizing_mode\":\"stretch_width\"},\"id\":\"7638\",\"type\":\"Spacer\"},{\"attributes\":{\"axis\":{\"id\":\"7654\"},\"coordinates\":null,\"dimension\":1,\"grid_line_color\":null,\"group\":null,\"ticker\":null},\"id\":\"7657\",\"type\":\"Grid\"},{\"attributes\":{\"bottom\":{\"value\":0},\"fill_alpha\":{\"value\":1.0},\"fill_color\":{\"value\":\"Brown\"},\"hatch_alpha\":{\"value\":1.0},\"hatch_color\":{\"value\":\"Brown\"},\"hatch_scale\":{\"value\":12.0},\"hatch_weight\":{\"value\":1.0},\"line_alpha\":{\"value\":1.0},\"line_cap\":{\"value\":\"butt\"},\"line_color\":{\"value\":\"black\"},\"line_dash\":{\"value\":[]},\"line_dash_offset\":{\"value\":0},\"line_join\":{\"value\":\"bevel\"},\"line_width\":{\"value\":1},\"top\":{\"field\":\"Units_Completed\"},\"width\":{\"value\":0.8},\"x\":{\"field\":\"Date\"}},\"id\":\"7679\",\"type\":\"VBar\"},{\"attributes\":{},\"id\":\"7683\",\"type\":\"AllLabels\"},{\"attributes\":{},\"id\":\"7655\",\"type\":\"BasicTicker\"},{\"attributes\":{},\"id\":\"7652\",\"type\":\"CategoricalTicker\"},{\"attributes\":{\"client_comm_id\":\"007d2ac196d34cc5a1a6e8690415e545\",\"comm_id\":\"a779243476474235a2d7106281bcfaf2\",\"plot_id\":\"7637\"},\"id\":\"7746\",\"type\":\"panel.models.comm_manager.CommManager\"},{\"attributes\":{},\"id\":\"7686\",\"type\":\"AllLabels\"},{\"attributes\":{\"tools\":[{\"id\":\"7641\"},{\"id\":\"7658\"},{\"id\":\"7659\"},{\"id\":\"7660\"},{\"id\":\"7661\"},{\"id\":\"7662\"}]},\"id\":\"7664\",\"type\":\"Toolbar\"},{\"attributes\":{},\"id\":\"7647\",\"type\":\"CategoricalScale\"},{\"attributes\":{\"fill_alpha\":{\"value\":0.1},\"fill_color\":{\"value\":\"Brown\"},\"hatch_alpha\":{\"value\":0.1},\"hatch_color\":{\"value\":\"Brown\"},\"line_alpha\":{\"value\":0.1},\"top\":{\"field\":\"Units_Completed\"},\"width\":{\"value\":0.8},\"x\":{\"field\":\"Date\"}},\"id\":\"7675\",\"type\":\"VBar\"},{\"attributes\":{\"coordinates\":null,\"group\":null,\"text\":\"County Units Completed by Year\",\"text_color\":\"black\",\"text_font_size\":\"12pt\"},\"id\":\"7643\",\"type\":\"Title\"},{\"attributes\":{},\"id\":\"7660\",\"type\":\"WheelZoomTool\"},{\"attributes\":{},\"id\":\"7701\",\"type\":\"UnionRenderers\"},{\"attributes\":{},\"id\":\"7672\",\"type\":\"Selection\"},{\"attributes\":{\"children\":[{\"id\":\"7715\"},{\"id\":\"7716\"},{\"id\":\"7718\"}],\"margin\":[0,0,0,0],\"name\":\"Column12089\"},\"id\":\"7714\",\"type\":\"Column\"},{\"attributes\":{},\"id\":\"7682\",\"type\":\"CategoricalTickFormatter\"},{\"attributes\":{\"below\":[{\"id\":\"7651\"}],\"center\":[{\"id\":\"7653\"},{\"id\":\"7657\"}],\"height\":300,\"left\":[{\"id\":\"7654\"}],\"margin\":[5,5,5,5],\"min_border_bottom\":10,\"min_border_left\":10,\"min_border_right\":10,\"min_border_top\":10,\"renderers\":[{\"id\":\"7677\"}],\"sizing_mode\":\"fixed\",\"title\":{\"id\":\"7643\"},\"toolbar\":{\"id\":\"7664\"},\"width\":700,\"x_range\":{\"id\":\"7639\"},\"x_scale\":{\"id\":\"7647\"},\"y_range\":{\"id\":\"7640\"},\"y_scale\":{\"id\":\"7649\"}},\"id\":\"7642\",\"subtype\":\"Figure\",\"type\":\"Plot\"},{\"attributes\":{\"axis_label\":\"Units Completed\",\"coordinates\":null,\"formatter\":{\"id\":\"7680\"},\"group\":null,\"major_label_policy\":{\"id\":\"7686\"},\"ticker\":{\"id\":\"7655\"}},\"id\":\"7654\",\"type\":\"LinearAxis\"},{\"attributes\":{\"coordinates\":null,\"data_source\":{\"id\":\"7671\"},\"glyph\":{\"id\":\"7674\"},\"group\":null,\"hover_glyph\":null,\"muted_glyph\":{\"id\":\"7676\"},\"nonselection_glyph\":{\"id\":\"7675\"},\"selection_glyph\":{\"id\":\"7679\"},\"view\":{\"id\":\"7678\"}},\"id\":\"7677\",\"type\":\"GlyphRenderer\"},{\"attributes\":{\"fill_alpha\":{\"value\":0.2},\"fill_color\":{\"value\":\"Brown\"},\"hatch_alpha\":{\"value\":0.2},\"hatch_color\":{\"value\":\"Brown\"},\"line_alpha\":{\"value\":0.2},\"top\":{\"field\":\"Units_Completed\"},\"width\":{\"value\":0.8},\"x\":{\"field\":\"Date\"}},\"id\":\"7676\",\"type\":\"VBar\"},{\"attributes\":{\"factors\":[\"2016/17\",\"2017/18\",\"2018/19\",\"2019/20\",\"2020/21\"],\"tags\":[[[\"Date\",\"Date\",null]]]},\"id\":\"7639\",\"type\":\"FactorRange\"},{\"attributes\":{\"bottom_units\":\"screen\",\"coordinates\":null,\"fill_alpha\":0.5,\"fill_color\":\"lightgrey\",\"group\":null,\"left_units\":\"screen\",\"level\":\"overlay\",\"line_alpha\":1.0,\"line_color\":\"black\",\"line_dash\":[4,4],\"line_width\":2,\"right_units\":\"screen\",\"syncable\":false,\"top_units\":\"screen\"},\"id\":\"7663\",\"type\":\"BoxAnnotation\"}],\"root_ids\":[\"7637\",\"7746\"]},\"title\":\"Bokeh Application\",\"version\":\"2.4.1\"}};\n",
       "    var render_items = [{\"docid\":\"d351ccbf-1058-4871-af37-87da5172c50c\",\"root_ids\":[\"7637\"],\"roots\":{\"7637\":\"c1b038be-f228-47d6-b0de-052197cf59ad\"}}];\n",
       "    root.Bokeh.embed.embed_items_notebook(docs_json, render_items);\n",
       "  }\n",
       "  if (root.Bokeh !== undefined && root.Bokeh.Panel !== undefined) {\n",
       "    embed_document(root);\n",
       "  } else {\n",
       "    var attempts = 0;\n",
       "    var timer = setInterval(function(root) {\n",
       "      if (root.Bokeh !== undefined && root.Bokeh.Panel !== undefined) {\n",
       "        clearInterval(timer);\n",
       "        embed_document(root);\n",
       "      } else if (document.readyState == \"complete\") {\n",
       "        attempts++;\n",
       "        if (attempts > 200) {\n",
       "          clearInterval(timer);\n",
       "          console.log(\"Bokeh: ERROR: Unable to run BokehJS code because BokehJS library is missing\");\n",
       "        }\n",
       "      }\n",
       "    }, 25, root)\n",
       "  }\n",
       "})(window);</script>"
      ],
      "text/plain": [
       ":DynamicMap   [COUNTIES]\n",
       "   :Bars   [Date]   (Units_Completed)"
      ]
     },
     "execution_count": 83,
     "metadata": {
      "application/vnd.holoviews_exec.v0+json": {
       "id": "7637"
      }
     },
     "output_type": "execute_result"
    }
   ],
   "source": [
    "#Create a bar plot of the units completed by the county \n",
    "building_completion_county_df.hvplot.bar(\n",
    "    x='Date',\n",
    "    ylabel='Units Completed',\n",
    "    groupby='COUNTIES',\n",
    "    title='County Units Completed by Year',\n",
    "    rot=30,\n",
    "    color='Brown'\n",
    ").opts(yformatter='%.0f')"
   ]
  },
  {
   "cell_type": "markdown",
   "id": "c94e4aa9-713d-4a37-bb2f-6c8abe275b8b",
   "metadata": {},
   "source": [
    "### Annual Building Permits by City"
   ]
  },
  {
   "cell_type": "code",
   "execution_count": 111,
   "id": "76a18548-6ab3-49da-9d02-8353cac39884",
   "metadata": {},
   "outputs": [
    {
     "data": {},
     "metadata": {},
     "output_type": "display_data"
    },
    {
     "data": {
      "application/vnd.holoviews_exec.v0+json": "",
      "text/html": [
       "<div id='9609'>\n",
       "\n",
       "\n",
       "\n",
       "\n",
       "\n",
       "  <div class=\"bk-root\" id=\"6e18aec7-ecf8-40c3-a08e-178b56f0abd7\" data-root-id=\"9609\"></div>\n",
       "</div>\n",
       "<script type=\"application/javascript\">(function(root) {\n",
       "  function embed_document(root) {\n",
       "    var docs_json = {\"6c1d7942-1ed4-4254-bb02-f8dcd79af81e\":{\"defs\":[{\"extends\":null,\"module\":null,\"name\":\"ReactiveHTML1\",\"overrides\":[],\"properties\":[]},{\"extends\":null,\"module\":null,\"name\":\"FlexBox1\",\"overrides\":[],\"properties\":[{\"default\":\"flex-start\",\"kind\":null,\"name\":\"align_content\"},{\"default\":\"flex-start\",\"kind\":null,\"name\":\"align_items\"},{\"default\":\"row\",\"kind\":null,\"name\":\"flex_direction\"},{\"default\":\"wrap\",\"kind\":null,\"name\":\"flex_wrap\"},{\"default\":\"flex-start\",\"kind\":null,\"name\":\"justify_content\"}]},{\"extends\":null,\"module\":null,\"name\":\"TemplateActions1\",\"overrides\":[],\"properties\":[{\"default\":0,\"kind\":null,\"name\":\"open_modal\"},{\"default\":0,\"kind\":null,\"name\":\"close_modal\"}]},{\"extends\":null,\"module\":null,\"name\":\"MaterialTemplateActions1\",\"overrides\":[],\"properties\":[{\"default\":0,\"kind\":null,\"name\":\"open_modal\"},{\"default\":0,\"kind\":null,\"name\":\"close_modal\"}]}],\"roots\":{\"references\":[{\"attributes\":{},\"id\":\"9621\",\"type\":\"LinearScale\"},{\"attributes\":{\"margin\":[5,5,5,5],\"name\":\"VSpacer15473\",\"sizing_mode\":\"stretch_height\"},\"id\":\"9690\",\"type\":\"Spacer\"},{\"attributes\":{\"margin\":[5,5,5,5],\"name\":\"HSpacer15476\",\"sizing_mode\":\"stretch_width\"},\"id\":\"9685\",\"type\":\"Spacer\"},{\"attributes\":{\"fill_color\":{\"value\":\"pink\"},\"hatch_color\":{\"value\":\"pink\"},\"top\":{\"field\":\"Units_Permitted\"},\"width\":{\"value\":0.8},\"x\":{\"field\":\"Date\"}},\"id\":\"9646\",\"type\":\"VBar\"},{\"attributes\":{\"client_comm_id\":\"b3832fe5c53544d09cd43709facdc7c7\",\"comm_id\":\"37d82bfae6da4afc9f277112e15c148c\",\"plot_id\":\"9609\"},\"id\":\"9718\",\"type\":\"panel.models.comm_manager.CommManager\"},{\"attributes\":{\"coordinates\":null,\"group\":null,\"text\":\"City Units Permitted by Date\",\"text_color\":\"black\",\"text_font_size\":\"12pt\"},\"id\":\"9615\",\"type\":\"Title\"},{\"attributes\":{},\"id\":\"9619\",\"type\":\"CategoricalScale\"},{\"attributes\":{\"callback\":null,\"renderers\":[{\"id\":\"9649\"}],\"tags\":[\"hv_created\"],\"tooltips\":[[\"Date\",\"@{Date}\"],[\"Units_Permitted\",\"@{Units_Permitted}\"]]},\"id\":\"9613\",\"type\":\"HoverTool\"},{\"attributes\":{\"fill_alpha\":{\"value\":0.1},\"fill_color\":{\"value\":\"pink\"},\"hatch_alpha\":{\"value\":0.1},\"hatch_color\":{\"value\":\"pink\"},\"line_alpha\":{\"value\":0.1},\"top\":{\"field\":\"Units_Permitted\"},\"width\":{\"value\":0.8},\"x\":{\"field\":\"Date\"}},\"id\":\"9647\",\"type\":\"VBar\"},{\"attributes\":{\"overlay\":{\"id\":\"9635\"}},\"id\":\"9633\",\"type\":\"BoxZoomTool\"},{\"attributes\":{},\"id\":\"9673\",\"type\":\"UnionRenderers\"},{\"attributes\":{\"children\":[{\"id\":\"9610\"},{\"id\":\"9614\"},{\"id\":\"9685\"},{\"id\":\"9686\"}],\"margin\":[0,0,0,0],\"name\":\"Row15466\"},\"id\":\"9609\",\"type\":\"Row\"},{\"attributes\":{},\"id\":\"9655\",\"type\":\"AllLabels\"},{\"attributes\":{\"children\":[{\"id\":\"9687\"},{\"id\":\"9688\"},{\"id\":\"9690\"}],\"margin\":[0,0,0,0],\"name\":\"Column15474\"},\"id\":\"9686\",\"type\":\"Column\"},{\"attributes\":{\"format\":\"%.0f\"},\"id\":\"9652\",\"type\":\"PrintfTickFormatter\"},{\"attributes\":{\"axis_label\":\"Units_Permitted\",\"coordinates\":null,\"formatter\":{\"id\":\"9652\"},\"group\":null,\"major_label_policy\":{\"id\":\"9658\"},\"ticker\":{\"id\":\"9627\"}},\"id\":\"9626\",\"type\":\"LinearAxis\"},{\"attributes\":{},\"id\":\"9627\",\"type\":\"BasicTicker\"},{\"attributes\":{\"margin\":[5,5,5,5],\"name\":\"VSpacer15472\",\"sizing_mode\":\"stretch_height\"},\"id\":\"9687\",\"type\":\"Spacer\"},{\"attributes\":{},\"id\":\"9631\",\"type\":\"PanTool\"},{\"attributes\":{\"factors\":[\"2016\",\"2017\",\"2018\",\"2019\",\"2020\"],\"tags\":[[[\"Date\",\"Date\",null]]]},\"id\":\"9611\",\"type\":\"FactorRange\"},{\"attributes\":{},\"id\":\"9630\",\"type\":\"SaveTool\"},{\"attributes\":{\"margin\":[5,5,5,5],\"name\":\"HSpacer15475\",\"sizing_mode\":\"stretch_width\"},\"id\":\"9610\",\"type\":\"Spacer\"},{\"attributes\":{\"coordinates\":null,\"data_source\":{\"id\":\"9643\"},\"glyph\":{\"id\":\"9646\"},\"group\":null,\"hover_glyph\":null,\"muted_glyph\":{\"id\":\"9648\"},\"nonselection_glyph\":{\"id\":\"9647\"},\"selection_glyph\":{\"id\":\"9651\"},\"view\":{\"id\":\"9650\"}},\"id\":\"9649\",\"type\":\"GlyphRenderer\"},{\"attributes\":{},\"id\":\"9624\",\"type\":\"CategoricalTicker\"},{\"attributes\":{},\"id\":\"9658\",\"type\":\"AllLabels\"},{\"attributes\":{\"tools\":[{\"id\":\"9613\"},{\"id\":\"9630\"},{\"id\":\"9631\"},{\"id\":\"9632\"},{\"id\":\"9633\"},{\"id\":\"9634\"}]},\"id\":\"9636\",\"type\":\"Toolbar\"},{\"attributes\":{\"axis_label\":\"Date\",\"coordinates\":null,\"formatter\":{\"id\":\"9654\"},\"group\":null,\"major_label_orientation\":0.5235987755982988,\"major_label_policy\":{\"id\":\"9655\"},\"ticker\":{\"id\":\"9624\"}},\"id\":\"9623\",\"type\":\"CategoricalAxis\"},{\"attributes\":{\"end\":18.5,\"reset_end\":18.5,\"reset_start\":0.0,\"tags\":[[[\"Units_Permitted\",\"Units_Permitted\",null]]]},\"id\":\"9612\",\"type\":\"Range1d\"},{\"attributes\":{\"data\":{\"Date\":[\"2016\",\"2017\",\"2018\",\"2019\",\"2020\"],\"Units_Permitted\":{\"__ndarray__\":\"AAAAAAAAFEAAAAAAAAAYQAAAAAAAAABAAAAAAAAAAEAAAAAAAAAxQA==\",\"dtype\":\"float64\",\"order\":\"little\",\"shape\":[5]}},\"selected\":{\"id\":\"9644\"},\"selection_policy\":{\"id\":\"9673\"}},\"id\":\"9643\",\"type\":\"ColumnDataSource\"},{\"attributes\":{\"margin\":[20,20,20,20],\"min_width\":250,\"options\":[\"Aberdeen\",\"Airway Heights\",\"Anacortes\",\"Arlington\",\"Auburn\",\"Bainbridge Island\",\"Battle Ground\",\"Bellevue\",\"Bellingham\",\"Bonney Lake\",\"Bothell\",\"Bremerton\",\"Burien\",\"Burlington\",\"Camas\",\"Centralia\",\"Cheney\",\"Covington\",\"Des Moines\",\"DuPont\",\"East Wenatchee\",\"Edgewood\",\"Edmonds\",\"Ellensburg\",\"Enumclaw\",\"Everett\",\"Federal Way\",\"Ferndale\",\"Fife\",\"Gig Harbor\",\"Grandview\",\"Issaquah\",\"Kelso\",\"Kenmore\",\"Kennewick\",\"Kent\",\"Kirkland\",\"Lacey\",\"Lake Forest Park\",\"Lake Stevens\",\"Lakewood\",\"Liberty Lake\",\"Longview\",\"Lynden\",\"Lynnwood\",\"Maple Valley\",\"Marysville\",\"Mercer Island\",\"Mill Creek\",\"Monroe\",\"Moses Lake\",\"Mount Vernon\",\"Mountlake Terrace\",\"Mukilteo\",\"Newcastle\",\"Oak Harbor\",\"Olympia\",\"Pasco\",\"Port Angeles\",\"Port Orchard\",\"Port Townsend\",\"Poulsbo\",\"Pullman\",\"Puyallup\",\"Redmond\",\"Renton\",\"Richland\",\"Sammamish\",\"Seatac\",\"Seattle\",\"Sedro-Woolley\",\"Shelton\",\"Shoreline\",\"Snohomish\",\"Snoqualmie\",\"Spokane\",\"Spokane Valley\",\"Sumner\",\"Sunnyside\",\"Tacoma\",\"Tukwila\",\"Tumwater\",\"University Place\",\"Vancouver\",\"Walla Walla\",\"Washougal\",\"Wenatchee\",\"West Richland\",\"Woodinville\",\"Yakima\",\"Yelm\"],\"title\":\"CITIES\",\"value\":\"Aberdeen\",\"width\":250},\"id\":\"9689\",\"type\":\"Select\"},{\"attributes\":{\"bottom_units\":\"screen\",\"coordinates\":null,\"fill_alpha\":0.5,\"fill_color\":\"lightgrey\",\"group\":null,\"left_units\":\"screen\",\"level\":\"overlay\",\"line_alpha\":1.0,\"line_color\":\"black\",\"line_dash\":[4,4],\"line_width\":2,\"right_units\":\"screen\",\"syncable\":false,\"top_units\":\"screen\"},\"id\":\"9635\",\"type\":\"BoxAnnotation\"},{\"attributes\":{\"fill_alpha\":{\"value\":0.2},\"fill_color\":{\"value\":\"pink\"},\"hatch_alpha\":{\"value\":0.2},\"hatch_color\":{\"value\":\"pink\"},\"line_alpha\":{\"value\":0.2},\"top\":{\"field\":\"Units_Permitted\"},\"width\":{\"value\":0.8},\"x\":{\"field\":\"Date\"}},\"id\":\"9648\",\"type\":\"VBar\"},{\"attributes\":{},\"id\":\"9654\",\"type\":\"CategoricalTickFormatter\"},{\"attributes\":{\"below\":[{\"id\":\"9623\"}],\"center\":[{\"id\":\"9625\"},{\"id\":\"9629\"}],\"height\":300,\"left\":[{\"id\":\"9626\"}],\"margin\":[5,5,5,5],\"min_border_bottom\":10,\"min_border_left\":10,\"min_border_right\":10,\"min_border_top\":10,\"renderers\":[{\"id\":\"9649\"}],\"sizing_mode\":\"fixed\",\"title\":{\"id\":\"9615\"},\"toolbar\":{\"id\":\"9636\"},\"width\":700,\"x_range\":{\"id\":\"9611\"},\"x_scale\":{\"id\":\"9619\"},\"y_range\":{\"id\":\"9612\"},\"y_scale\":{\"id\":\"9621\"}},\"id\":\"9614\",\"subtype\":\"Figure\",\"type\":\"Plot\"},{\"attributes\":{\"bottom\":{\"value\":0},\"fill_alpha\":{\"value\":1.0},\"fill_color\":{\"value\":\"pink\"},\"hatch_alpha\":{\"value\":1.0},\"hatch_color\":{\"value\":\"pink\"},\"hatch_scale\":{\"value\":12.0},\"hatch_weight\":{\"value\":1.0},\"line_alpha\":{\"value\":1.0},\"line_cap\":{\"value\":\"butt\"},\"line_color\":{\"value\":\"black\"},\"line_dash\":{\"value\":[]},\"line_dash_offset\":{\"value\":0},\"line_join\":{\"value\":\"bevel\"},\"line_width\":{\"value\":1},\"top\":{\"field\":\"Units_Permitted\"},\"width\":{\"value\":0.8},\"x\":{\"field\":\"Date\"}},\"id\":\"9651\",\"type\":\"VBar\"},{\"attributes\":{\"axis\":{\"id\":\"9623\"},\"coordinates\":null,\"grid_line_color\":null,\"group\":null,\"ticker\":null},\"id\":\"9625\",\"type\":\"Grid\"},{\"attributes\":{\"source\":{\"id\":\"9643\"}},\"id\":\"9650\",\"type\":\"CDSView\"},{\"attributes\":{\"children\":[{\"id\":\"9689\"}],\"css_classes\":[\"panel-widget-box\"],\"margin\":[5,5,5,5],\"name\":\"WidgetBox15467\"},\"id\":\"9688\",\"type\":\"Column\"},{\"attributes\":{},\"id\":\"9644\",\"type\":\"Selection\"},{\"attributes\":{\"axis\":{\"id\":\"9626\"},\"coordinates\":null,\"dimension\":1,\"grid_line_color\":null,\"group\":null,\"ticker\":null},\"id\":\"9629\",\"type\":\"Grid\"},{\"attributes\":{},\"id\":\"9634\",\"type\":\"ResetTool\"},{\"attributes\":{},\"id\":\"9632\",\"type\":\"WheelZoomTool\"}],\"root_ids\":[\"9609\",\"9718\"]},\"title\":\"Bokeh Application\",\"version\":\"2.4.1\"}};\n",
       "    var render_items = [{\"docid\":\"6c1d7942-1ed4-4254-bb02-f8dcd79af81e\",\"root_ids\":[\"9609\"],\"roots\":{\"9609\":\"6e18aec7-ecf8-40c3-a08e-178b56f0abd7\"}}];\n",
       "    root.Bokeh.embed.embed_items_notebook(docs_json, render_items);\n",
       "  }\n",
       "  if (root.Bokeh !== undefined && root.Bokeh.Panel !== undefined) {\n",
       "    embed_document(root);\n",
       "  } else {\n",
       "    var attempts = 0;\n",
       "    var timer = setInterval(function(root) {\n",
       "      if (root.Bokeh !== undefined && root.Bokeh.Panel !== undefined) {\n",
       "        clearInterval(timer);\n",
       "        embed_document(root);\n",
       "      } else if (document.readyState == \"complete\") {\n",
       "        attempts++;\n",
       "        if (attempts > 200) {\n",
       "          clearInterval(timer);\n",
       "          console.log(\"Bokeh: ERROR: Unable to run BokehJS code because BokehJS library is missing\");\n",
       "        }\n",
       "      }\n",
       "    }, 25, root)\n",
       "  }\n",
       "})(window);</script>"
      ],
      "text/plain": [
       ":DynamicMap   [CITIES]\n",
       "   :Bars   [Date]   (Units_Permitted)"
      ]
     },
     "execution_count": 111,
     "metadata": {
      "application/vnd.holoviews_exec.v0+json": {
       "id": "9609"
      }
     },
     "output_type": "execute_result"
    }
   ],
   "source": [
    "#Creating a bar plot of the building permits for the county\n",
    "building_permit_city_df.hvplot.bar(\n",
    "    x='Date',\n",
    "    y='Units_Permitted',\n",
    "    groupby='CITIES',\n",
    "    title='City Units Permitted by Date',\n",
    "    rot=30,\n",
    "    color='pink'\n",
    ").opts(yformatter='%.0f')"
   ]
  },
  {
   "cell_type": "markdown",
   "id": "4f6796b1-ea0e-4840-8882-a3184ee5d80c",
   "metadata": {},
   "source": [
    "### Annual Building Permits by County"
   ]
  },
  {
   "cell_type": "code",
   "execution_count": 112,
   "id": "fcbaf37e-1ebb-428f-9f27-f0fc97b7ff1b",
   "metadata": {},
   "outputs": [
    {
     "data": {},
     "metadata": {},
     "output_type": "display_data"
    },
    {
     "data": {
      "application/vnd.holoviews_exec.v0+json": "",
      "text/html": [
       "<div id='9764'>\n",
       "\n",
       "\n",
       "\n",
       "\n",
       "\n",
       "  <div class=\"bk-root\" id=\"5b8fc9e2-e0a3-4d50-8c84-d4eea56ad6d0\" data-root-id=\"9764\"></div>\n",
       "</div>\n",
       "<script type=\"application/javascript\">(function(root) {\n",
       "  function embed_document(root) {\n",
       "    var docs_json = {\"29221e7c-28b6-4522-a7f2-80a2e3dca876\":{\"defs\":[{\"extends\":null,\"module\":null,\"name\":\"ReactiveHTML1\",\"overrides\":[],\"properties\":[]},{\"extends\":null,\"module\":null,\"name\":\"FlexBox1\",\"overrides\":[],\"properties\":[{\"default\":\"flex-start\",\"kind\":null,\"name\":\"align_content\"},{\"default\":\"flex-start\",\"kind\":null,\"name\":\"align_items\"},{\"default\":\"row\",\"kind\":null,\"name\":\"flex_direction\"},{\"default\":\"wrap\",\"kind\":null,\"name\":\"flex_wrap\"},{\"default\":\"flex-start\",\"kind\":null,\"name\":\"justify_content\"}]},{\"extends\":null,\"module\":null,\"name\":\"TemplateActions1\",\"overrides\":[],\"properties\":[{\"default\":0,\"kind\":null,\"name\":\"open_modal\"},{\"default\":0,\"kind\":null,\"name\":\"close_modal\"}]},{\"extends\":null,\"module\":null,\"name\":\"MaterialTemplateActions1\",\"overrides\":[],\"properties\":[{\"default\":0,\"kind\":null,\"name\":\"open_modal\"},{\"default\":0,\"kind\":null,\"name\":\"close_modal\"}]}],\"roots\":{\"references\":[{\"attributes\":{\"axis_label\":\"Units_Permitted\",\"coordinates\":null,\"formatter\":{\"id\":\"9807\"},\"group\":null,\"major_label_policy\":{\"id\":\"9813\"},\"ticker\":{\"id\":\"9782\"}},\"id\":\"9781\",\"type\":\"LinearAxis\"},{\"attributes\":{\"children\":[{\"id\":\"9844\"}],\"css_classes\":[\"panel-widget-box\"],\"margin\":[5,5,5,5],\"name\":\"WidgetBox15734\"},\"id\":\"9843\",\"type\":\"Column\"},{\"attributes\":{\"callback\":null,\"renderers\":[{\"id\":\"9804\"}],\"tags\":[\"hv_created\"],\"tooltips\":[[\"Date\",\"@{Date}\"],[\"Units_Permitted\",\"@{Units_Permitted}\"]]},\"id\":\"9768\",\"type\":\"HoverTool\"},{\"attributes\":{\"source\":{\"id\":\"9798\"}},\"id\":\"9805\",\"type\":\"CDSView\"},{\"attributes\":{},\"id\":\"9776\",\"type\":\"LinearScale\"},{\"attributes\":{\"margin\":[5,5,5,5],\"name\":\"VSpacer15739\",\"sizing_mode\":\"stretch_height\"},\"id\":\"9842\",\"type\":\"Spacer\"},{\"attributes\":{\"bottom\":{\"value\":0},\"fill_alpha\":{\"value\":1.0},\"fill_color\":{\"value\":\"#30a2da\"},\"hatch_alpha\":{\"value\":1.0},\"hatch_color\":{\"value\":\"#30a2da\"},\"hatch_scale\":{\"value\":12.0},\"hatch_weight\":{\"value\":1.0},\"line_alpha\":{\"value\":1.0},\"line_cap\":{\"value\":\"butt\"},\"line_color\":{\"value\":\"black\"},\"line_dash\":{\"value\":[]},\"line_dash_offset\":{\"value\":0},\"line_join\":{\"value\":\"bevel\"},\"line_width\":{\"value\":1},\"top\":{\"field\":\"Units_Permitted\"},\"width\":{\"value\":0.8},\"x\":{\"field\":\"Date\"}},\"id\":\"9806\",\"type\":\"VBar\"},{\"attributes\":{\"coordinates\":null,\"group\":null,\"text\":\"County Units Permitted by Date\",\"text_color\":\"black\",\"text_font_size\":\"12pt\"},\"id\":\"9770\",\"type\":\"Title\"},{\"attributes\":{\"margin\":[20,20,20,20],\"min_width\":250,\"options\":[\"Adams\",\"Asotin\",\"Benton\",\"Chelan\",\"Clallam\",\"Clark\",\"Columbia\",\"Cowlitz\",\"Douglas\",\"Ferry\",\"Franklin\",\"Garfield\",\"Grant\",\"Grays\",\"Island\",\"Jefferson\",\"King\",\"Kitsap\",\"Kittitas\",\"Klickitat\",\"Lewis\",\"Lincoln\",\"Mason\",\"Okanogan\",\"Pacific\",\"Pend\",\"Pierce\",\"San\",\"Skagit\",\"Skamania\",\"Snohomish\",\"Spokane\",\"Stevens\",\"Thurston\",\"Wahkiakum\",\"Walla\",\"Whatcom\",\"Whitman\",\"Yakima\"],\"title\":\"COUNTIES\",\"value\":\"Adams\",\"width\":250},\"id\":\"9844\",\"type\":\"Select\"},{\"attributes\":{},\"id\":\"9813\",\"type\":\"AllLabels\"},{\"attributes\":{\"below\":[{\"id\":\"9778\"}],\"center\":[{\"id\":\"9780\"},{\"id\":\"9784\"}],\"height\":300,\"left\":[{\"id\":\"9781\"}],\"margin\":[5,5,5,5],\"min_border_bottom\":10,\"min_border_left\":10,\"min_border_right\":10,\"min_border_top\":10,\"renderers\":[{\"id\":\"9804\"}],\"sizing_mode\":\"fixed\",\"title\":{\"id\":\"9770\"},\"toolbar\":{\"id\":\"9791\"},\"width\":700,\"x_range\":{\"id\":\"9766\"},\"x_scale\":{\"id\":\"9774\"},\"y_range\":{\"id\":\"9767\"},\"y_scale\":{\"id\":\"9776\"}},\"id\":\"9769\",\"subtype\":\"Figure\",\"type\":\"Plot\"},{\"attributes\":{\"data\":{\"Date\":[\"2016\",\"2017\",\"2018\",\"2019\",\"2020\"],\"Units_Permitted\":{\"__ndarray__\":\"AAAAAAAAP0AAAAAAAAA/QAAAAAAAgEdAAAAAAABAUkAAAAAAAMBYQA==\",\"dtype\":\"float64\",\"order\":\"little\",\"shape\":[5]}},\"selected\":{\"id\":\"9799\"},\"selection_policy\":{\"id\":\"9828\"}},\"id\":\"9798\",\"type\":\"ColumnDataSource\"},{\"attributes\":{},\"id\":\"9789\",\"type\":\"ResetTool\"},{\"attributes\":{},\"id\":\"9786\",\"type\":\"PanTool\"},{\"attributes\":{\"fill_alpha\":{\"value\":0.1},\"fill_color\":{\"value\":\"#30a2da\"},\"hatch_alpha\":{\"value\":0.1},\"hatch_color\":{\"value\":\"#30a2da\"},\"line_alpha\":{\"value\":0.1},\"top\":{\"field\":\"Units_Permitted\"},\"width\":{\"value\":0.8},\"x\":{\"field\":\"Date\"}},\"id\":\"9802\",\"type\":\"VBar\"},{\"attributes\":{},\"id\":\"9779\",\"type\":\"CategoricalTicker\"},{\"attributes\":{\"factors\":[\"2016\",\"2017\",\"2018\",\"2019\",\"2020\"],\"tags\":[[[\"Date\",\"Date\",null]]]},\"id\":\"9766\",\"type\":\"FactorRange\"},{\"attributes\":{\"margin\":[5,5,5,5],\"name\":\"HSpacer15743\",\"sizing_mode\":\"stretch_width\"},\"id\":\"9840\",\"type\":\"Spacer\"},{\"attributes\":{},\"id\":\"9787\",\"type\":\"WheelZoomTool\"},{\"attributes\":{},\"id\":\"9809\",\"type\":\"CategoricalTickFormatter\"},{\"attributes\":{\"end\":105.8,\"reset_end\":105.8,\"reset_start\":0.0,\"tags\":[[[\"Units_Permitted\",\"Units_Permitted\",null]]]},\"id\":\"9767\",\"type\":\"Range1d\"},{\"attributes\":{\"children\":[{\"id\":\"9842\"},{\"id\":\"9843\"},{\"id\":\"9845\"}],\"margin\":[0,0,0,0],\"name\":\"Column15741\"},\"id\":\"9841\",\"type\":\"Column\"},{\"attributes\":{\"bottom_units\":\"screen\",\"coordinates\":null,\"fill_alpha\":0.5,\"fill_color\":\"lightgrey\",\"group\":null,\"left_units\":\"screen\",\"level\":\"overlay\",\"line_alpha\":1.0,\"line_color\":\"black\",\"line_dash\":[4,4],\"line_width\":2,\"right_units\":\"screen\",\"syncable\":false,\"top_units\":\"screen\"},\"id\":\"9790\",\"type\":\"BoxAnnotation\"},{\"attributes\":{\"coordinates\":null,\"data_source\":{\"id\":\"9798\"},\"glyph\":{\"id\":\"9801\"},\"group\":null,\"hover_glyph\":null,\"muted_glyph\":{\"id\":\"9803\"},\"nonselection_glyph\":{\"id\":\"9802\"},\"selection_glyph\":{\"id\":\"9806\"},\"view\":{\"id\":\"9805\"}},\"id\":\"9804\",\"type\":\"GlyphRenderer\"},{\"attributes\":{\"axis\":{\"id\":\"9781\"},\"coordinates\":null,\"dimension\":1,\"grid_line_color\":null,\"group\":null,\"ticker\":null},\"id\":\"9784\",\"type\":\"Grid\"},{\"attributes\":{\"fill_color\":{\"value\":\"#30a2da\"},\"hatch_color\":{\"value\":\"#30a2da\"},\"top\":{\"field\":\"Units_Permitted\"},\"width\":{\"value\":0.8},\"x\":{\"field\":\"Date\"}},\"id\":\"9801\",\"type\":\"VBar\"},{\"attributes\":{},\"id\":\"9810\",\"type\":\"AllLabels\"},{\"attributes\":{},\"id\":\"9799\",\"type\":\"Selection\"},{\"attributes\":{\"fill_alpha\":{\"value\":0.2},\"fill_color\":{\"value\":\"#30a2da\"},\"hatch_alpha\":{\"value\":0.2},\"hatch_color\":{\"value\":\"#30a2da\"},\"line_alpha\":{\"value\":0.2},\"top\":{\"field\":\"Units_Permitted\"},\"width\":{\"value\":0.8},\"x\":{\"field\":\"Date\"}},\"id\":\"9803\",\"type\":\"VBar\"},{\"attributes\":{\"client_comm_id\":\"176f815d397b4fbeb4321894e12be67c\",\"comm_id\":\"f39d3f99e5124acc9f4ee9eae1555026\",\"plot_id\":\"9764\"},\"id\":\"9873\",\"type\":\"panel.models.comm_manager.CommManager\"},{\"attributes\":{\"axis\":{\"id\":\"9778\"},\"coordinates\":null,\"grid_line_color\":null,\"group\":null,\"ticker\":null},\"id\":\"9780\",\"type\":\"Grid\"},{\"attributes\":{},\"id\":\"9774\",\"type\":\"CategoricalScale\"},{\"attributes\":{\"tools\":[{\"id\":\"9768\"},{\"id\":\"9785\"},{\"id\":\"9786\"},{\"id\":\"9787\"},{\"id\":\"9788\"},{\"id\":\"9789\"}]},\"id\":\"9791\",\"type\":\"Toolbar\"},{\"attributes\":{\"margin\":[5,5,5,5],\"name\":\"VSpacer15740\",\"sizing_mode\":\"stretch_height\"},\"id\":\"9845\",\"type\":\"Spacer\"},{\"attributes\":{\"children\":[{\"id\":\"9765\"},{\"id\":\"9769\"},{\"id\":\"9840\"},{\"id\":\"9841\"}],\"margin\":[0,0,0,0],\"name\":\"Row15733\"},\"id\":\"9764\",\"type\":\"Row\"},{\"attributes\":{},\"id\":\"9782\",\"type\":\"BasicTicker\"},{\"attributes\":{},\"id\":\"9828\",\"type\":\"UnionRenderers\"},{\"attributes\":{},\"id\":\"9785\",\"type\":\"SaveTool\"},{\"attributes\":{\"overlay\":{\"id\":\"9790\"}},\"id\":\"9788\",\"type\":\"BoxZoomTool\"},{\"attributes\":{\"margin\":[5,5,5,5],\"name\":\"HSpacer15742\",\"sizing_mode\":\"stretch_width\"},\"id\":\"9765\",\"type\":\"Spacer\"},{\"attributes\":{\"format\":\"%.0f\"},\"id\":\"9807\",\"type\":\"PrintfTickFormatter\"},{\"attributes\":{\"axis_label\":\"Date\",\"coordinates\":null,\"formatter\":{\"id\":\"9809\"},\"group\":null,\"major_label_orientation\":0.5235987755982988,\"major_label_policy\":{\"id\":\"9810\"},\"ticker\":{\"id\":\"9779\"}},\"id\":\"9778\",\"type\":\"CategoricalAxis\"}],\"root_ids\":[\"9764\",\"9873\"]},\"title\":\"Bokeh Application\",\"version\":\"2.4.1\"}};\n",
       "    var render_items = [{\"docid\":\"29221e7c-28b6-4522-a7f2-80a2e3dca876\",\"root_ids\":[\"9764\"],\"roots\":{\"9764\":\"5b8fc9e2-e0a3-4d50-8c84-d4eea56ad6d0\"}}];\n",
       "    root.Bokeh.embed.embed_items_notebook(docs_json, render_items);\n",
       "  }\n",
       "  if (root.Bokeh !== undefined && root.Bokeh.Panel !== undefined) {\n",
       "    embed_document(root);\n",
       "  } else {\n",
       "    var attempts = 0;\n",
       "    var timer = setInterval(function(root) {\n",
       "      if (root.Bokeh !== undefined && root.Bokeh.Panel !== undefined) {\n",
       "        clearInterval(timer);\n",
       "        embed_document(root);\n",
       "      } else if (document.readyState == \"complete\") {\n",
       "        attempts++;\n",
       "        if (attempts > 200) {\n",
       "          clearInterval(timer);\n",
       "          console.log(\"Bokeh: ERROR: Unable to run BokehJS code because BokehJS library is missing\");\n",
       "        }\n",
       "      }\n",
       "    }, 25, root)\n",
       "  }\n",
       "})(window);</script>"
      ],
      "text/plain": [
       ":DynamicMap   [COUNTIES]\n",
       "   :Bars   [Date]   (Units_Permitted)"
      ]
     },
     "execution_count": 112,
     "metadata": {
      "application/vnd.holoviews_exec.v0+json": {
       "id": "9764"
      }
     },
     "output_type": "execute_result"
    }
   ],
   "source": [
    "#Creating a bar plot of the building permits for the county\n",
    "building_permit_county_df.hvplot.bar(\n",
    "    x='Date',\n",
    "    y='Units_Permitted',\n",
    "    groupby='COUNTIES',\n",
    "    title='County Units Permitted by Date',\n",
    "    rot=30\n",
    ").opts(yformatter='%.0f')"
   ]
  },
  {
   "cell_type": "markdown",
   "id": "88504ff1-a6ea-48a9-bc1d-d8009b601010",
   "metadata": {},
   "source": [
    "## Housing Demand: Employment and Labor Force Growth"
   ]
  },
  {
   "cell_type": "markdown",
   "id": "7bfc161b-0f5d-4e28-90c3-32e968a9928f",
   "metadata": {},
   "source": [
    "### Monthly Labor Force by County"
   ]
  },
  {
   "cell_type": "code",
   "execution_count": 113,
   "id": "b5262c51-78bc-446f-80a3-b5ecb8d3fd54",
   "metadata": {},
   "outputs": [
    {
     "data": {},
     "metadata": {},
     "output_type": "display_data"
    },
    {
     "data": {
      "application/vnd.holoviews_exec.v0+json": "",
      "text/html": [
       "<div id='9919'>\n",
       "\n",
       "\n",
       "\n",
       "\n",
       "\n",
       "  <div class=\"bk-root\" id=\"a7676312-5b08-4c5d-ae7d-0517ccc978c5\" data-root-id=\"9919\"></div>\n",
       "</div>\n",
       "<script type=\"application/javascript\">(function(root) {\n",
       "  function embed_document(root) {\n",
       "    var docs_json = {\"3b28cd98-ec64-4425-ae53-af595f166a62\":{\"defs\":[{\"extends\":null,\"module\":null,\"name\":\"ReactiveHTML1\",\"overrides\":[],\"properties\":[]},{\"extends\":null,\"module\":null,\"name\":\"FlexBox1\",\"overrides\":[],\"properties\":[{\"default\":\"flex-start\",\"kind\":null,\"name\":\"align_content\"},{\"default\":\"flex-start\",\"kind\":null,\"name\":\"align_items\"},{\"default\":\"row\",\"kind\":null,\"name\":\"flex_direction\"},{\"default\":\"wrap\",\"kind\":null,\"name\":\"flex_wrap\"},{\"default\":\"flex-start\",\"kind\":null,\"name\":\"justify_content\"}]},{\"extends\":null,\"module\":null,\"name\":\"TemplateActions1\",\"overrides\":[],\"properties\":[{\"default\":0,\"kind\":null,\"name\":\"open_modal\"},{\"default\":0,\"kind\":null,\"name\":\"close_modal\"}]},{\"extends\":null,\"module\":null,\"name\":\"MaterialTemplateActions1\",\"overrides\":[],\"properties\":[{\"default\":0,\"kind\":null,\"name\":\"open_modal\"},{\"default\":0,\"kind\":null,\"name\":\"close_modal\"}]}],\"roots\":{\"references\":[{\"attributes\":{},\"id\":\"9929\",\"type\":\"LinearScale\"},{\"attributes\":{\"callback\":null,\"formatters\":{\"@{Date}\":\"datetime\"},\"renderers\":[{\"id\":\"9960\"}],\"tags\":[\"hv_created\"],\"tooltips\":[[\"Date\",\"@{Date}{%F %T}\"],[\"LABOR_NO.\",\"@{LABOR_NO_full_stop}\"]]},\"id\":\"9923\",\"type\":\"HoverTool\"},{\"attributes\":{},\"id\":\"9984\",\"type\":\"UnionRenderers\"},{\"attributes\":{\"months\":[0,6]},\"id\":\"9997\",\"type\":\"MonthsTicker\"},{\"attributes\":{\"base\":24,\"mantissas\":[1,2,4,6,8,12],\"max_interval\":43200000.0,\"min_interval\":3600000.0,\"num_minor_ticks\":0},\"id\":\"9989\",\"type\":\"AdaptiveTicker\"},{\"attributes\":{\"source\":{\"id\":\"9954\"}},\"id\":\"9961\",\"type\":\"CDSView\"},{\"attributes\":{\"line_color\":\"#30a2da\",\"line_width\":2,\"x\":{\"field\":\"Date\"},\"y\":{\"field\":\"LABOR_NO.\"}},\"id\":\"9957\",\"type\":\"Line\"},{\"attributes\":{\"format\":\"%.0f\"},\"id\":\"9963\",\"type\":\"PrintfTickFormatter\"},{\"attributes\":{\"margin\":[5,5,5,5],\"name\":\"HSpacer16009\",\"sizing_mode\":\"stretch_width\"},\"id\":\"9920\",\"type\":\"Spacer\"},{\"attributes\":{\"coordinates\":null,\"data_source\":{\"id\":\"9954\"},\"glyph\":{\"id\":\"9957\"},\"group\":null,\"hover_glyph\":null,\"muted_glyph\":{\"id\":\"9959\"},\"nonselection_glyph\":{\"id\":\"9958\"},\"selection_glyph\":{\"id\":\"9962\"},\"view\":{\"id\":\"9961\"}},\"id\":\"9960\",\"type\":\"GlyphRenderer\"},{\"attributes\":{\"data\":{\"Date\":{\"__ndarray__\":\"AABANnWVdUIAAICIb591QgAAgKlyqHVCAADA+2yydUIAAEDoFLx1QgAAgDoPxnVCAAAAJ7fPdUIAAEB5sdl1QgAAgMur43VCAAAAuFPtdUIAAEAKTvd1QgAAwPb1AHZCAAAASfAKdkIAAECb6hR2QgAAQLztHXZCAACADugndkIAAAD7jzF2QgAAQE2KO3ZCAADAOTJFdkIAAACMLE92QgAAQN4mWXZCAADAys5idkIAAAAdyWx2QgAAgAlxdnZCAADAW2uAdkIAAACuZYp2QgAAAM9ok3ZCAABAIWOddkIAAMANC6d2QgAAAGAFsXZCAACATK26dkIAAMCep8R2QgAAAPGhznZCAACA3UnYdkIAAMAvROJ2QgAAQBzs63ZCAACAbub1dkIAAMDA4P92QgAAgEc2CXdCAADAmTATd0IAAECG2Bx3QgAAgNjSJndCAAAAxXowd0IAAEAXdTp3QgAAgGlvRHdCAAAAVhdOd0IAAECoEVh3QgAAwJS5YXdCAAAA57Nrd0IAAEA5rnV3QgAAQFqxfndCAACArKuId0IAAACZU5J3QgAAQOtNnHdCAADA1/Wld0IAAAAq8K93QgAAQHzquXdCAADAaJLDd0IAAAC7jM13Qg==\",\"dtype\":\"float64\",\"order\":\"little\",\"shape\":[59]},\"LABOR_NO.\":{\"__ndarray__\":\"AAAAAICmC0EAAAAAOMkLQQAAAABoyQtBAAAAAFinC0EAAAAAQJQLQQAAAABQtwtBAAAAAACNC0EAAAAAcLILQQAAAABgqQtBAAAAACgHDEEAAAAAkDIMQQAAAACQYQxBAAAAAPgSDEEAAAAAADoMQQAAAABYOAxBAAAAAOAZDEEAAAAAaCoMQQAAAADwHQxBAAAAAAAsDEEAAAAA0CcMQQAAAAAYVgxBAAAAAOANDUEAAAAAMGINQQAAAAAojA1BAAAAADicDUEAAAAAYNENQQAAAABoyg1BAAAAAIB7DUEAAAAAuGENQQAAAADAfg1BAAAAAACSDUEAAAAAyLsNQQAAAABAsg1BAAAAALA5DkEAAAAAsFAOQQAAAABolQ5BAAAAAAh9DkEAAAAAiLMOQQAAAAAYVQ5BAAAAAEj1DUEAAAAAUHENQQAAAACw7QxBAAAAAGCLDUEAAAAAEPkMQQAAAACApgxBAAAAAEjzDkEAAAAA4PMMQQAAAACgagxBAAAAAOAiDEEAAAAAyFQMQQAAAADw6gxBAAAAAKADDUEAAAAAoD4NQQAAAAB4KQ1BAAAAAFBwDUEAAAAAKKINQQAAAADgbQ1BAAAAAPjLDUEAAAAACFEOQQ==\",\"dtype\":\"float64\",\"order\":\"little\",\"shape\":[59]},\"LABOR_NO_full_stop\":{\"__ndarray__\":\"AAAAAICmC0EAAAAAOMkLQQAAAABoyQtBAAAAAFinC0EAAAAAQJQLQQAAAABQtwtBAAAAAACNC0EAAAAAcLILQQAAAABgqQtBAAAAACgHDEEAAAAAkDIMQQAAAACQYQxBAAAAAPgSDEEAAAAAADoMQQAAAABYOAxBAAAAAOAZDEEAAAAAaCoMQQAAAADwHQxBAAAAAAAsDEEAAAAA0CcMQQAAAAAYVgxBAAAAAOANDUEAAAAAMGINQQAAAAAojA1BAAAAADicDUEAAAAAYNENQQAAAABoyg1BAAAAAIB7DUEAAAAAuGENQQAAAADAfg1BAAAAAACSDUEAAAAAyLsNQQAAAABAsg1BAAAAALA5DkEAAAAAsFAOQQAAAABolQ5BAAAAAAh9DkEAAAAAiLMOQQAAAAAYVQ5BAAAAAEj1DUEAAAAAUHENQQAAAACw7QxBAAAAAGCLDUEAAAAAEPkMQQAAAACApgxBAAAAAEjzDkEAAAAA4PMMQQAAAACgagxBAAAAAOAiDEEAAAAAyFQMQQAAAADw6gxBAAAAAKADDUEAAAAAoD4NQQAAAAB4KQ1BAAAAAFBwDUEAAAAAKKINQQAAAADgbQ1BAAAAAPjLDUEAAAAACFEOQQ==\",\"dtype\":\"float64\",\"order\":\"little\",\"shape\":[59]}},\"selected\":{\"id\":\"9955\"},\"selection_policy\":{\"id\":\"9984\"}},\"id\":\"9954\",\"type\":\"ColumnDataSource\"},{\"attributes\":{\"line_alpha\":0.2,\"line_color\":\"#30a2da\",\"line_width\":2,\"x\":{\"field\":\"Date\"},\"y\":{\"field\":\"LABOR_NO.\"}},\"id\":\"9959\",\"type\":\"Line\"},{\"attributes\":{},\"id\":\"9945\",\"type\":\"ResetTool\"},{\"attributes\":{\"num_minor_ticks\":5,\"tickers\":[{\"id\":\"9987\"},{\"id\":\"9988\"},{\"id\":\"9989\"},{\"id\":\"9990\"},{\"id\":\"9991\"},{\"id\":\"9992\"},{\"id\":\"9993\"},{\"id\":\"9994\"},{\"id\":\"9995\"},{\"id\":\"9996\"},{\"id\":\"9997\"},{\"id\":\"9998\"}]},\"id\":\"9934\",\"type\":\"DatetimeTicker\"},{\"attributes\":{\"tools\":[{\"id\":\"9923\"},{\"id\":\"9941\"},{\"id\":\"9942\"},{\"id\":\"9943\"},{\"id\":\"9944\"},{\"id\":\"9945\"}]},\"id\":\"9947\",\"type\":\"Toolbar\"},{\"attributes\":{\"margin\":[5,5,5,5],\"name\":\"HSpacer16010\",\"sizing_mode\":\"stretch_width\"},\"id\":\"10020\",\"type\":\"Spacer\"},{\"attributes\":{},\"id\":\"9965\",\"type\":\"DatetimeTickFormatter\"},{\"attributes\":{\"days\":[1,4,7,10,13,16,19,22,25,28]},\"id\":\"9991\",\"type\":\"DaysTicker\"},{\"attributes\":{\"axis\":{\"id\":\"9933\"},\"coordinates\":null,\"grid_line_color\":null,\"group\":null,\"ticker\":null},\"id\":\"9936\",\"type\":\"Grid\"},{\"attributes\":{\"line_alpha\":0.1,\"line_color\":\"#30a2da\",\"line_width\":2,\"x\":{\"field\":\"Date\"},\"y\":{\"field\":\"LABOR_NO.\"}},\"id\":\"9958\",\"type\":\"Line\"},{\"attributes\":{\"children\":[{\"id\":\"9920\"},{\"id\":\"9924\"},{\"id\":\"10020\"},{\"id\":\"10021\"}],\"margin\":[0,0,0,0],\"name\":\"Row16000\"},\"id\":\"9919\",\"type\":\"Row\"},{\"attributes\":{\"days\":[1,2,3,4,5,6,7,8,9,10,11,12,13,14,15,16,17,18,19,20,21,22,23,24,25,26,27,28,29,30,31]},\"id\":\"9990\",\"type\":\"DaysTicker\"},{\"attributes\":{\"months\":[0,1,2,3,4,5,6,7,8,9,10,11]},\"id\":\"9994\",\"type\":\"MonthsTicker\"},{\"attributes\":{\"end\":1635724800000.0,\"reset_end\":1635724800000.0,\"reset_start\":1483228800000.0,\"start\":1483228800000.0,\"tags\":[[[\"Date\",\"Date\",null]]]},\"id\":\"9921\",\"type\":\"Range1d\"},{\"attributes\":{\"line_color\":\"#30a2da\",\"line_width\":2,\"x\":{\"field\":\"Date\"},\"y\":{\"field\":\"LABOR_NO.\"}},\"id\":\"9962\",\"type\":\"Line\"},{\"attributes\":{\"months\":[0,4,8]},\"id\":\"9996\",\"type\":\"MonthsTicker\"},{\"attributes\":{},\"id\":\"9931\",\"type\":\"LinearScale\"},{\"attributes\":{},\"id\":\"9998\",\"type\":\"YearsTicker\"},{\"attributes\":{\"children\":[{\"id\":\"10022\"},{\"id\":\"10023\"},{\"id\":\"10025\"}],\"margin\":[0,0,0,0],\"name\":\"Column16008\"},\"id\":\"10021\",\"type\":\"Column\"},{\"attributes\":{\"days\":[1,8,15,22]},\"id\":\"9992\",\"type\":\"DaysTicker\"},{\"attributes\":{\"client_comm_id\":\"1e3f8674702647efb7b2fb8c14395282\",\"comm_id\":\"091e67ec6ba741118c9dcf371bec1f14\",\"plot_id\":\"9919\"},\"id\":\"10089\",\"type\":\"panel.models.comm_manager.CommManager\"},{\"attributes\":{\"margin\":[20,20,20,20],\"min_width\":250,\"options\":[\"53011\",\"53025\",\"53033\",\"53035\",\"53053\",\"53061\",\"53065\",\"53067\"],\"title\":\"FIPS_CODE\",\"value\":\"53011\",\"width\":250},\"id\":\"10024\",\"type\":\"Select\"},{\"attributes\":{},\"id\":\"9955\",\"type\":\"Selection\"},{\"attributes\":{\"coordinates\":null,\"group\":null,\"text\":\"Washington Labor Force by Date\",\"text_color\":\"black\",\"text_font_size\":\"12pt\"},\"id\":\"9925\",\"type\":\"Title\"},{\"attributes\":{\"axis_label\":\"LABOR_NO.\",\"coordinates\":null,\"formatter\":{\"id\":\"9963\"},\"group\":null,\"major_label_policy\":{\"id\":\"9969\"},\"ticker\":{\"id\":\"9938\"}},\"id\":\"9937\",\"type\":\"LinearAxis\"},{\"attributes\":{},\"id\":\"9943\",\"type\":\"WheelZoomTool\"},{\"attributes\":{},\"id\":\"9966\",\"type\":\"AllLabels\"},{\"attributes\":{\"axis_label\":\"Date\",\"coordinates\":null,\"formatter\":{\"id\":\"9965\"},\"group\":null,\"major_label_orientation\":0.5235987755982988,\"major_label_policy\":{\"id\":\"9966\"},\"ticker\":{\"id\":\"9934\"}},\"id\":\"9933\",\"type\":\"DatetimeAxis\"},{\"attributes\":{\"margin\":[5,5,5,5],\"name\":\"VSpacer16006\",\"sizing_mode\":\"stretch_height\"},\"id\":\"10022\",\"type\":\"Spacer\"},{\"attributes\":{},\"id\":\"9941\",\"type\":\"SaveTool\"},{\"attributes\":{\"bottom_units\":\"screen\",\"coordinates\":null,\"fill_alpha\":0.5,\"fill_color\":\"lightgrey\",\"group\":null,\"left_units\":\"screen\",\"level\":\"overlay\",\"line_alpha\":1.0,\"line_color\":\"black\",\"line_dash\":[4,4],\"line_width\":2,\"right_units\":\"screen\",\"syncable\":false,\"top_units\":\"screen\"},\"id\":\"9946\",\"type\":\"BoxAnnotation\"},{\"attributes\":{\"end\":256329.9,\"reset_end\":256329.9,\"reset_start\":222911.1,\"start\":222911.1,\"tags\":[[[\"LABOR_NO.\",\"LABOR_NO.\",null]]]},\"id\":\"9922\",\"type\":\"Range1d\"},{\"attributes\":{\"months\":[0,2,4,6,8,10]},\"id\":\"9995\",\"type\":\"MonthsTicker\"},{\"attributes\":{\"children\":[{\"id\":\"10024\"}],\"css_classes\":[\"panel-widget-box\"],\"margin\":[5,5,5,5],\"name\":\"WidgetBox16001\"},\"id\":\"10023\",\"type\":\"Column\"},{\"attributes\":{\"overlay\":{\"id\":\"9946\"}},\"id\":\"9944\",\"type\":\"BoxZoomTool\"},{\"attributes\":{},\"id\":\"9969\",\"type\":\"AllLabels\"},{\"attributes\":{\"mantissas\":[1,2,5],\"max_interval\":500.0,\"num_minor_ticks\":0},\"id\":\"9987\",\"type\":\"AdaptiveTicker\"},{\"attributes\":{},\"id\":\"9942\",\"type\":\"PanTool\"},{\"attributes\":{},\"id\":\"9938\",\"type\":\"BasicTicker\"},{\"attributes\":{\"days\":[1,15]},\"id\":\"9993\",\"type\":\"DaysTicker\"},{\"attributes\":{\"axis\":{\"id\":\"9937\"},\"coordinates\":null,\"dimension\":1,\"grid_line_color\":null,\"group\":null,\"ticker\":null},\"id\":\"9940\",\"type\":\"Grid\"},{\"attributes\":{\"base\":60,\"mantissas\":[1,2,5,10,15,20,30],\"max_interval\":1800000.0,\"min_interval\":1000.0,\"num_minor_ticks\":0},\"id\":\"9988\",\"type\":\"AdaptiveTicker\"},{\"attributes\":{\"below\":[{\"id\":\"9933\"}],\"center\":[{\"id\":\"9936\"},{\"id\":\"9940\"}],\"height\":300,\"left\":[{\"id\":\"9937\"}],\"margin\":[5,5,5,5],\"min_border_bottom\":10,\"min_border_left\":10,\"min_border_right\":10,\"min_border_top\":10,\"renderers\":[{\"id\":\"9960\"}],\"sizing_mode\":\"fixed\",\"title\":{\"id\":\"9925\"},\"toolbar\":{\"id\":\"9947\"},\"width\":700,\"x_range\":{\"id\":\"9921\"},\"x_scale\":{\"id\":\"9929\"},\"y_range\":{\"id\":\"9922\"},\"y_scale\":{\"id\":\"9931\"}},\"id\":\"9924\",\"subtype\":\"Figure\",\"type\":\"Plot\"},{\"attributes\":{\"margin\":[5,5,5,5],\"name\":\"VSpacer16007\",\"sizing_mode\":\"stretch_height\"},\"id\":\"10025\",\"type\":\"Spacer\"}],\"root_ids\":[\"9919\",\"10089\"]},\"title\":\"Bokeh Application\",\"version\":\"2.4.1\"}};\n",
       "    var render_items = [{\"docid\":\"3b28cd98-ec64-4425-ae53-af595f166a62\",\"root_ids\":[\"9919\"],\"roots\":{\"9919\":\"a7676312-5b08-4c5d-ae7d-0517ccc978c5\"}}];\n",
       "    root.Bokeh.embed.embed_items_notebook(docs_json, render_items);\n",
       "  }\n",
       "  if (root.Bokeh !== undefined && root.Bokeh.Panel !== undefined) {\n",
       "    embed_document(root);\n",
       "  } else {\n",
       "    var attempts = 0;\n",
       "    var timer = setInterval(function(root) {\n",
       "      if (root.Bokeh !== undefined && root.Bokeh.Panel !== undefined) {\n",
       "        clearInterval(timer);\n",
       "        embed_document(root);\n",
       "      } else if (document.readyState == \"complete\") {\n",
       "        attempts++;\n",
       "        if (attempts > 200) {\n",
       "          clearInterval(timer);\n",
       "          console.log(\"Bokeh: ERROR: Unable to run BokehJS code because BokehJS library is missing\");\n",
       "        }\n",
       "      }\n",
       "    }, 25, root)\n",
       "  }\n",
       "})(window);</script>"
      ],
      "text/plain": [
       ":DynamicMap   [FIPS_CODE]\n",
       "   :Curve   [Date]   (LABOR_NO.)"
      ]
     },
     "execution_count": 113,
     "metadata": {
      "application/vnd.holoviews_exec.v0+json": {
       "id": "9919"
      }
     },
     "output_type": "execute_result"
    }
   ],
   "source": [
    "#Create a line plot to show the labor force by county\n",
    "wa_labor_force_df.hvplot(\n",
    "    x='Date',\n",
    "    y='LABOR_NO.',\n",
    "    groupby='FIPS_CODE',\n",
    "    title='Washington Labor Force by Date',\n",
    "    rot=30\n",
    ").opts(yformatter='%.0f')"
   ]
  },
  {
   "cell_type": "markdown",
   "id": "cc4d3270-ec9b-4956-91c8-d7e6d36874e6",
   "metadata": {},
   "source": [
    "### Monthly Employment by County"
   ]
  },
  {
   "cell_type": "code",
   "execution_count": 114,
   "id": "5a225956-3097-49f9-8315-f5a4544433d1",
   "metadata": {},
   "outputs": [
    {
     "data": {},
     "metadata": {},
     "output_type": "display_data"
    },
    {
     "data": {
      "application/vnd.holoviews_exec.v0+json": "",
      "text/html": [
       "<div id='10195'>\n",
       "\n",
       "\n",
       "\n",
       "\n",
       "\n",
       "  <div class=\"bk-root\" id=\"c5d493fc-ae80-4d05-9bae-383dffd7701d\" data-root-id=\"10195\"></div>\n",
       "</div>\n",
       "<script type=\"application/javascript\">(function(root) {\n",
       "  function embed_document(root) {\n",
       "    var docs_json = {\"b1d04ea3-3502-4e3f-8ef1-82840e795995\":{\"defs\":[{\"extends\":null,\"module\":null,\"name\":\"ReactiveHTML1\",\"overrides\":[],\"properties\":[]},{\"extends\":null,\"module\":null,\"name\":\"FlexBox1\",\"overrides\":[],\"properties\":[{\"default\":\"flex-start\",\"kind\":null,\"name\":\"align_content\"},{\"default\":\"flex-start\",\"kind\":null,\"name\":\"align_items\"},{\"default\":\"row\",\"kind\":null,\"name\":\"flex_direction\"},{\"default\":\"wrap\",\"kind\":null,\"name\":\"flex_wrap\"},{\"default\":\"flex-start\",\"kind\":null,\"name\":\"justify_content\"}]},{\"extends\":null,\"module\":null,\"name\":\"TemplateActions1\",\"overrides\":[],\"properties\":[{\"default\":0,\"kind\":null,\"name\":\"open_modal\"},{\"default\":0,\"kind\":null,\"name\":\"close_modal\"}]},{\"extends\":null,\"module\":null,\"name\":\"MaterialTemplateActions1\",\"overrides\":[],\"properties\":[{\"default\":0,\"kind\":null,\"name\":\"open_modal\"},{\"default\":0,\"kind\":null,\"name\":\"close_modal\"}]}],\"roots\":{\"references\":[{\"attributes\":{\"client_comm_id\":\"6eb550eae3334d119880c405893d87d2\",\"comm_id\":\"40b93f72e1274a9aa2b52b3089201c4d\",\"plot_id\":\"10195\"},\"id\":\"10365\",\"type\":\"panel.models.comm_manager.CommManager\"},{\"attributes\":{\"coordinates\":null,\"group\":null,\"text\":\"Employment by Month: Jan 2017 - Dec 2021\",\"text_color\":\"black\",\"text_font_size\":\"12pt\"},\"id\":\"10201\",\"type\":\"Title\"},{\"attributes\":{\"tools\":[{\"id\":\"10199\"},{\"id\":\"10217\"},{\"id\":\"10218\"},{\"id\":\"10219\"},{\"id\":\"10220\"},{\"id\":\"10221\"}]},\"id\":\"10223\",\"type\":\"Toolbar\"},{\"attributes\":{\"months\":[0,4,8]},\"id\":\"10272\",\"type\":\"MonthsTicker\"},{\"attributes\":{\"days\":[1,15]},\"id\":\"10269\",\"type\":\"DaysTicker\"},{\"attributes\":{\"axis\":{\"id\":\"10213\"},\"coordinates\":null,\"dimension\":1,\"grid_line_color\":null,\"group\":null,\"ticker\":null},\"id\":\"10216\",\"type\":\"Grid\"},{\"attributes\":{},\"id\":\"10217\",\"type\":\"SaveTool\"},{\"attributes\":{\"days\":[1,2,3,4,5,6,7,8,9,10,11,12,13,14,15,16,17,18,19,20,21,22,23,24,25,26,27,28,29,30,31]},\"id\":\"10266\",\"type\":\"DaysTicker\"},{\"attributes\":{\"mantissas\":[1,2,5],\"max_interval\":500.0,\"num_minor_ticks\":0},\"id\":\"10263\",\"type\":\"AdaptiveTicker\"},{\"attributes\":{\"months\":[0,1,2,3,4,5,6,7,8,9,10,11]},\"id\":\"10270\",\"type\":\"MonthsTicker\"},{\"attributes\":{\"line_color\":\"#30a2da\",\"line_width\":2,\"x\":{\"field\":\"Date\"},\"y\":{\"field\":\"EMP_NO.\"}},\"id\":\"10238\",\"type\":\"Line\"},{\"attributes\":{\"bottom_units\":\"screen\",\"coordinates\":null,\"fill_alpha\":0.5,\"fill_color\":\"lightgrey\",\"group\":null,\"left_units\":\"screen\",\"level\":\"overlay\",\"line_alpha\":1.0,\"line_color\":\"black\",\"line_dash\":[4,4],\"line_width\":2,\"right_units\":\"screen\",\"syncable\":false,\"top_units\":\"screen\"},\"id\":\"10222\",\"type\":\"BoxAnnotation\"},{\"attributes\":{\"below\":[{\"id\":\"10209\"}],\"center\":[{\"id\":\"10212\"},{\"id\":\"10216\"}],\"height\":300,\"left\":[{\"id\":\"10213\"}],\"margin\":[5,5,5,5],\"min_border_bottom\":10,\"min_border_left\":10,\"min_border_right\":10,\"min_border_top\":10,\"renderers\":[{\"id\":\"10236\"}],\"sizing_mode\":\"fixed\",\"title\":{\"id\":\"10201\"},\"toolbar\":{\"id\":\"10223\"},\"width\":700,\"x_range\":{\"id\":\"10197\"},\"x_scale\":{\"id\":\"10205\"},\"y_range\":{\"id\":\"10198\"},\"y_scale\":{\"id\":\"10207\"}},\"id\":\"10200\",\"subtype\":\"Figure\",\"type\":\"Plot\"},{\"attributes\":{},\"id\":\"10207\",\"type\":\"LinearScale\"},{\"attributes\":{\"line_alpha\":0.2,\"line_color\":\"#30a2da\",\"line_width\":2,\"x\":{\"field\":\"Date\"},\"y\":{\"field\":\"EMP_NO.\"}},\"id\":\"10235\",\"type\":\"Line\"},{\"attributes\":{\"line_alpha\":0.1,\"line_color\":\"#30a2da\",\"line_width\":2,\"x\":{\"field\":\"Date\"},\"y\":{\"field\":\"EMP_NO.\"}},\"id\":\"10234\",\"type\":\"Line\"},{\"attributes\":{},\"id\":\"10214\",\"type\":\"BasicTicker\"},{\"attributes\":{},\"id\":\"10242\",\"type\":\"AllLabels\"},{\"attributes\":{},\"id\":\"10219\",\"type\":\"WheelZoomTool\"},{\"attributes\":{\"margin\":[5,5,5,5],\"name\":\"VSpacer16314\",\"sizing_mode\":\"stretch_height\"},\"id\":\"10301\",\"type\":\"Spacer\"},{\"attributes\":{\"axis_label\":\"Date\",\"coordinates\":null,\"formatter\":{\"id\":\"10241\"},\"group\":null,\"major_label_orientation\":0.5235987755982988,\"major_label_policy\":{\"id\":\"10242\"},\"ticker\":{\"id\":\"10210\"}},\"id\":\"10209\",\"type\":\"DatetimeAxis\"},{\"attributes\":{\"end\":1635724800000.0,\"reset_end\":1635724800000.0,\"reset_start\":1483228800000.0,\"start\":1483228800000.0,\"tags\":[[[\"Date\",\"Date\",null]]]},\"id\":\"10197\",\"type\":\"Range1d\"},{\"attributes\":{\"data\":{\"Date\":{\"__ndarray__\":\"AABANnWVdUIAAICIb591QgAAgKlyqHVCAADA+2yydUIAAEDoFLx1QgAAgDoPxnVCAAAAJ7fPdUIAAEB5sdl1QgAAgMur43VCAAAAuFPtdUIAAEAKTvd1QgAAwPb1AHZCAAAASfAKdkIAAECb6hR2QgAAQLztHXZCAACADugndkIAAAD7jzF2QgAAQE2KO3ZCAADAOTJFdkIAAACMLE92QgAAQN4mWXZCAADAys5idkIAAAAdyWx2QgAAgAlxdnZCAADAW2uAdkIAAACuZYp2QgAAAM9ok3ZCAABAIWOddkIAAMANC6d2QgAAAGAFsXZCAACATK26dkIAAMCep8R2QgAAAPGhznZCAACA3UnYdkIAAMAvROJ2QgAAQBzs63ZCAACAbub1dkIAAMDA4P92QgAAgEc2CXdCAADAmTATd0IAAECG2Bx3QgAAgNjSJndCAAAAxXowd0IAAEAXdTp3QgAAgGlvRHdCAAAAVhdOd0IAAECoEVh3QgAAwJS5YXdCAAAA57Nrd0IAAEA5rnV3QgAAQFqxfndCAACArKuId0IAAACZU5J3QgAAQOtNnHdCAADA1/Wld0IAAAAq8K93QgAAQHzquXdCAADAaJLDd0IAAAC7jM13Qg==\",\"dtype\":\"float64\",\"order\":\"little\",\"shape\":[59]},\"EMP_NO.\":{\"__ndarray__\":\"AAAAALAACkEAAAAAKDYKQQAAAACwVQpBAAAAAAhTCkEAAAAAQEkKQQAAAADgXApBAAAAAEAxCkEAAAAAgEUKQQAAAACIYApBAAAAADDJCkEAAAAAIOEKQQAAAABQAQtBAAAAAKikCkEAAAAA6L0KQQAAAADozQpBAAAAABjJCkEAAAAA8PEKQQAAAADwygpBAAAAAIDbCkEAAAAAEM8KQQAAAADYIAtBAAAAAKjEC0EAAAAAmAsMQQAAAACgHAxBAAAAAJALDEEAAAAAsEIMQQAAAABARwxBAAAAAOgaDEEAAAAAABMMQQAAAACgDAxBAAAAAPgaDEEAAAAAyEMMQQAAAACAdQxBAAAAADD1DEEAAAAAiAkNQQAAAACoWQ1BAAAAAGgHDUEAAAAAODUNQQAAAACgwQxBAAAAAEiDCUEAAAAAeLsJQQAAAAAAsQlBAAAAADD8CUEAAAAAkDgKQQAAAADwWQpBAAAAAOj9DEEAAAAAMAULQQAAAAAIiwpBAAAAAPhYCkEAAAAA6H8KQQAAAAAIGgtBAAAAAFBTC0EAAAAAyMsLQQAAAAAYugtBAAAAAJAXDEEAAAAAsDQMQQAAAACgPQxBAAAAAKCVDEEAAAAA4EwNQQ==\",\"dtype\":\"float64\",\"order\":\"little\",\"shape\":[59]},\"EMP_NO_full_stop\":{\"__ndarray__\":\"AAAAALAACkEAAAAAKDYKQQAAAACwVQpBAAAAAAhTCkEAAAAAQEkKQQAAAADgXApBAAAAAEAxCkEAAAAAgEUKQQAAAACIYApBAAAAADDJCkEAAAAAIOEKQQAAAABQAQtBAAAAAKikCkEAAAAA6L0KQQAAAADozQpBAAAAABjJCkEAAAAA8PEKQQAAAADwygpBAAAAAIDbCkEAAAAAEM8KQQAAAADYIAtBAAAAAKjEC0EAAAAAmAsMQQAAAACgHAxBAAAAAJALDEEAAAAAsEIMQQAAAABARwxBAAAAAOgaDEEAAAAAABMMQQAAAACgDAxBAAAAAPgaDEEAAAAAyEMMQQAAAACAdQxBAAAAADD1DEEAAAAAiAkNQQAAAACoWQ1BAAAAAGgHDUEAAAAAODUNQQAAAACgwQxBAAAAAEiDCUEAAAAAeLsJQQAAAAAAsQlBAAAAADD8CUEAAAAAkDgKQQAAAADwWQpBAAAAAOj9DEEAAAAAMAULQQAAAAAIiwpBAAAAAPhYCkEAAAAA6H8KQQAAAAAIGgtBAAAAAFBTC0EAAAAAyMsLQQAAAAAYugtBAAAAAJAXDEEAAAAAsDQMQQAAAACgPQxBAAAAAKCVDEEAAAAA4EwNQQ==\",\"dtype\":\"float64\",\"order\":\"little\",\"shape\":[59]}},\"selected\":{\"id\":\"10231\"},\"selection_policy\":{\"id\":\"10260\"}},\"id\":\"10230\",\"type\":\"ColumnDataSource\"},{\"attributes\":{},\"id\":\"10241\",\"type\":\"DatetimeTickFormatter\"},{\"attributes\":{},\"id\":\"10260\",\"type\":\"UnionRenderers\"},{\"attributes\":{},\"id\":\"10231\",\"type\":\"Selection\"},{\"attributes\":{\"end\":243580.6,\"reset_end\":243580.6,\"reset_start\":205857.4,\"start\":205857.4,\"tags\":[[[\"EMP_NO.\",\"EMP_NO.\",null]]]},\"id\":\"10198\",\"type\":\"Range1d\"},{\"attributes\":{\"line_color\":\"#30a2da\",\"line_width\":2,\"x\":{\"field\":\"Date\"},\"y\":{\"field\":\"EMP_NO.\"}},\"id\":\"10233\",\"type\":\"Line\"},{\"attributes\":{\"months\":[0,2,4,6,8,10]},\"id\":\"10271\",\"type\":\"MonthsTicker\"},{\"attributes\":{\"axis_label\":\"EMP_NO.\",\"coordinates\":null,\"formatter\":{\"id\":\"10239\"},\"group\":null,\"major_label_policy\":{\"id\":\"10245\"},\"ticker\":{\"id\":\"10214\"}},\"id\":\"10213\",\"type\":\"LinearAxis\"},{\"attributes\":{\"base\":60,\"mantissas\":[1,2,5,10,15,20,30],\"max_interval\":1800000.0,\"min_interval\":1000.0,\"num_minor_ticks\":0},\"id\":\"10264\",\"type\":\"AdaptiveTicker\"},{\"attributes\":{},\"id\":\"10274\",\"type\":\"YearsTicker\"},{\"attributes\":{},\"id\":\"10205\",\"type\":\"LinearScale\"},{\"attributes\":{},\"id\":\"10218\",\"type\":\"PanTool\"},{\"attributes\":{},\"id\":\"10221\",\"type\":\"ResetTool\"},{\"attributes\":{\"months\":[0,6]},\"id\":\"10273\",\"type\":\"MonthsTicker\"},{\"attributes\":{\"children\":[{\"id\":\"10298\"},{\"id\":\"10299\"},{\"id\":\"10301\"}],\"margin\":[0,0,0,0],\"name\":\"Column16315\"},\"id\":\"10297\",\"type\":\"Column\"},{\"attributes\":{\"format\":\"%.0f\"},\"id\":\"10239\",\"type\":\"PrintfTickFormatter\"},{\"attributes\":{},\"id\":\"10245\",\"type\":\"AllLabels\"},{\"attributes\":{\"num_minor_ticks\":5,\"tickers\":[{\"id\":\"10263\"},{\"id\":\"10264\"},{\"id\":\"10265\"},{\"id\":\"10266\"},{\"id\":\"10267\"},{\"id\":\"10268\"},{\"id\":\"10269\"},{\"id\":\"10270\"},{\"id\":\"10271\"},{\"id\":\"10272\"},{\"id\":\"10273\"},{\"id\":\"10274\"}]},\"id\":\"10210\",\"type\":\"DatetimeTicker\"},{\"attributes\":{\"margin\":[20,20,20,20],\"min_width\":250,\"options\":[\"53011\",\"53025\",\"53033\",\"53035\",\"53053\",\"53061\",\"53065\",\"53067\"],\"title\":\"FIPS_CODE\",\"value\":\"53011\",\"width\":250},\"id\":\"10300\",\"type\":\"Select\"},{\"attributes\":{\"days\":[1,4,7,10,13,16,19,22,25,28]},\"id\":\"10267\",\"type\":\"DaysTicker\"},{\"attributes\":{\"margin\":[5,5,5,5],\"name\":\"HSpacer16317\",\"sizing_mode\":\"stretch_width\"},\"id\":\"10296\",\"type\":\"Spacer\"},{\"attributes\":{\"callback\":null,\"formatters\":{\"@{Date}\":\"datetime\"},\"renderers\":[{\"id\":\"10236\"}],\"tags\":[\"hv_created\"],\"tooltips\":[[\"Date\",\"@{Date}{%F %T}\"],[\"EMP_NO.\",\"@{EMP_NO_full_stop}\"]]},\"id\":\"10199\",\"type\":\"HoverTool\"},{\"attributes\":{\"overlay\":{\"id\":\"10222\"}},\"id\":\"10220\",\"type\":\"BoxZoomTool\"},{\"attributes\":{\"margin\":[5,5,5,5],\"name\":\"VSpacer16313\",\"sizing_mode\":\"stretch_height\"},\"id\":\"10298\",\"type\":\"Spacer\"},{\"attributes\":{\"base\":24,\"mantissas\":[1,2,4,6,8,12],\"max_interval\":43200000.0,\"min_interval\":3600000.0,\"num_minor_ticks\":0},\"id\":\"10265\",\"type\":\"AdaptiveTicker\"},{\"attributes\":{\"days\":[1,8,15,22]},\"id\":\"10268\",\"type\":\"DaysTicker\"},{\"attributes\":{\"children\":[{\"id\":\"10196\"},{\"id\":\"10200\"},{\"id\":\"10296\"},{\"id\":\"10297\"}],\"margin\":[0,0,0,0],\"name\":\"Row16307\"},\"id\":\"10195\",\"type\":\"Row\"},{\"attributes\":{\"margin\":[5,5,5,5],\"name\":\"HSpacer16316\",\"sizing_mode\":\"stretch_width\"},\"id\":\"10196\",\"type\":\"Spacer\"},{\"attributes\":{\"coordinates\":null,\"data_source\":{\"id\":\"10230\"},\"glyph\":{\"id\":\"10233\"},\"group\":null,\"hover_glyph\":null,\"muted_glyph\":{\"id\":\"10235\"},\"nonselection_glyph\":{\"id\":\"10234\"},\"selection_glyph\":{\"id\":\"10238\"},\"view\":{\"id\":\"10237\"}},\"id\":\"10236\",\"type\":\"GlyphRenderer\"},{\"attributes\":{\"axis\":{\"id\":\"10209\"},\"coordinates\":null,\"grid_line_color\":null,\"group\":null,\"ticker\":null},\"id\":\"10212\",\"type\":\"Grid\"},{\"attributes\":{\"source\":{\"id\":\"10230\"}},\"id\":\"10237\",\"type\":\"CDSView\"},{\"attributes\":{\"children\":[{\"id\":\"10300\"}],\"css_classes\":[\"panel-widget-box\"],\"margin\":[5,5,5,5],\"name\":\"WidgetBox16308\"},\"id\":\"10299\",\"type\":\"Column\"}],\"root_ids\":[\"10195\",\"10365\"]},\"title\":\"Bokeh Application\",\"version\":\"2.4.1\"}};\n",
       "    var render_items = [{\"docid\":\"b1d04ea3-3502-4e3f-8ef1-82840e795995\",\"root_ids\":[\"10195\"],\"roots\":{\"10195\":\"c5d493fc-ae80-4d05-9bae-383dffd7701d\"}}];\n",
       "    root.Bokeh.embed.embed_items_notebook(docs_json, render_items);\n",
       "  }\n",
       "  if (root.Bokeh !== undefined && root.Bokeh.Panel !== undefined) {\n",
       "    embed_document(root);\n",
       "  } else {\n",
       "    var attempts = 0;\n",
       "    var timer = setInterval(function(root) {\n",
       "      if (root.Bokeh !== undefined && root.Bokeh.Panel !== undefined) {\n",
       "        clearInterval(timer);\n",
       "        embed_document(root);\n",
       "      } else if (document.readyState == \"complete\") {\n",
       "        attempts++;\n",
       "        if (attempts > 200) {\n",
       "          clearInterval(timer);\n",
       "          console.log(\"Bokeh: ERROR: Unable to run BokehJS code because BokehJS library is missing\");\n",
       "        }\n",
       "      }\n",
       "    }, 25, root)\n",
       "  }\n",
       "})(window);</script>"
      ],
      "text/plain": [
       ":DynamicMap   [FIPS_CODE]\n",
       "   :Curve   [Date]   (EMP_NO.)"
      ]
     },
     "execution_count": 114,
     "metadata": {
      "application/vnd.holoviews_exec.v0+json": {
       "id": "10195"
      }
     },
     "output_type": "execute_result"
    }
   ],
   "source": [
    "#Create a line plot to show the employment rate by county\n",
    "wa_employment_df.hvplot(\n",
    "    x='Date',\n",
    "    y='EMP_NO.',\n",
    "    groupby='FIPS_CODE',\n",
    "    title='Employment by Month: Jan 2017 - Dec 2021',\n",
    "    rot=30\n",
    ").opts(yformatter='%.0f')"
   ]
  },
  {
   "cell_type": "markdown",
   "id": "671a95ba-f08b-497d-ba17-769b20777ee0",
   "metadata": {},
   "source": [
    "# Analysis of Washington Housing Markets"
   ]
  },
  {
   "cell_type": "markdown",
   "id": "248eafc7-3b77-4625-a979-558a4e5e64a0",
   "metadata": {},
   "source": [
    "## Rent Growth Analysis"
   ]
  },
  {
   "cell_type": "markdown",
   "id": "4e264b60-fc7c-43c3-a119-348520ddf0bb",
   "metadata": {},
   "source": [
    "### Rent Growth by City"
   ]
  },
  {
   "cell_type": "code",
   "execution_count": 88,
   "id": "de8be5c8-a059-4289-9cd9-cdc863235370",
   "metadata": {},
   "outputs": [
    {
     "data": {
      "text/html": [
       "<div>\n",
       "<style scoped>\n",
       "    .dataframe tbody tr th:only-of-type {\n",
       "        vertical-align: middle;\n",
       "    }\n",
       "\n",
       "    .dataframe tbody tr th {\n",
       "        vertical-align: top;\n",
       "    }\n",
       "\n",
       "    .dataframe thead th {\n",
       "        text-align: right;\n",
       "    }\n",
       "</style>\n",
       "<table border=\"1\" class=\"dataframe\">\n",
       "  <thead>\n",
       "    <tr style=\"text-align: right;\">\n",
       "      <th>City_Name</th>\n",
       "      <th>Seattle</th>\n",
       "      <th>Bellevue</th>\n",
       "      <th>Bothell</th>\n",
       "      <th>Everett</th>\n",
       "      <th>Kirkland</th>\n",
       "      <th>Issaquah</th>\n",
       "    </tr>\n",
       "    <tr>\n",
       "      <th>Date</th>\n",
       "      <th></th>\n",
       "      <th></th>\n",
       "      <th></th>\n",
       "      <th></th>\n",
       "      <th></th>\n",
       "      <th></th>\n",
       "    </tr>\n",
       "  </thead>\n",
       "  <tbody>\n",
       "    <tr>\n",
       "      <th>2017-01-01</th>\n",
       "      <td>1681.0</td>\n",
       "      <td>2063.0</td>\n",
       "      <td>1624.0</td>\n",
       "      <td>1223.0</td>\n",
       "      <td>1888.0</td>\n",
       "      <td>2065.0</td>\n",
       "    </tr>\n",
       "    <tr>\n",
       "      <th>2017-02-01</th>\n",
       "      <td>1713.0</td>\n",
       "      <td>2099.0</td>\n",
       "      <td>1643.0</td>\n",
       "      <td>1220.0</td>\n",
       "      <td>1930.0</td>\n",
       "      <td>2094.0</td>\n",
       "    </tr>\n",
       "    <tr>\n",
       "      <th>2017-03-01</th>\n",
       "      <td>1742.0</td>\n",
       "      <td>2158.0</td>\n",
       "      <td>1728.0</td>\n",
       "      <td>1252.0</td>\n",
       "      <td>1972.0</td>\n",
       "      <td>2106.0</td>\n",
       "    </tr>\n",
       "    <tr>\n",
       "      <th>2017-04-01</th>\n",
       "      <td>1773.0</td>\n",
       "      <td>2201.0</td>\n",
       "      <td>1787.0</td>\n",
       "      <td>1262.0</td>\n",
       "      <td>2029.0</td>\n",
       "      <td>2161.0</td>\n",
       "    </tr>\n",
       "    <tr>\n",
       "      <th>2017-05-01</th>\n",
       "      <td>1814.0</td>\n",
       "      <td>2224.0</td>\n",
       "      <td>1854.0</td>\n",
       "      <td>1292.0</td>\n",
       "      <td>2082.0</td>\n",
       "      <td>2242.0</td>\n",
       "    </tr>\n",
       "  </tbody>\n",
       "</table>\n",
       "</div>"
      ],
      "text/plain": [
       "City_Name   Seattle  Bellevue  Bothell  Everett  Kirkland  Issaquah\n",
       "Date                                                               \n",
       "2017-01-01   1681.0    2063.0   1624.0   1223.0    1888.0    2065.0\n",
       "2017-02-01   1713.0    2099.0   1643.0   1220.0    1930.0    2094.0\n",
       "2017-03-01   1742.0    2158.0   1728.0   1252.0    1972.0    2106.0\n",
       "2017-04-01   1773.0    2201.0   1787.0   1262.0    2029.0    2161.0\n",
       "2017-05-01   1814.0    2224.0   1854.0   1292.0    2082.0    2242.0"
      ]
     },
     "metadata": {},
     "output_type": "display_data"
    }
   ],
   "source": [
    "#Formatting table and slicing dataframe to only few cities for further analysis\n",
    "sliced_city_rental_df = pd.pivot_table(rental_city_df,values='Average_Rental_Price',\n",
    "                      index=['Date'],\n",
    "                      columns=['City_Name'])\n",
    "sliced_city_rental_df = sliced_city_rental_df[['Seattle','Bellevue','Bothell','Everett','Kirkland','Issaquah']]\n",
    "\n",
    "#Displaying sliced dataframe\n",
    "display(sliced_city_rental_df.head())"
   ]
  },
  {
   "cell_type": "code",
   "execution_count": 89,
   "id": "4bf44285-03d2-403f-8c65-5af4f3e1d1b3",
   "metadata": {},
   "outputs": [
    {
     "data": {
      "text/plain": [
       "<AxesSubplot:title={'center':'Rental growth city wise from 2017 to 2021'}, xlabel='Year', ylabel='Average Rental Price'>"
      ]
     },
     "execution_count": 89,
     "metadata": {},
     "output_type": "execute_result"
    },
    {
     "data": {
      "image/png": "[encoded data removed]",
      "text/plain": [
       "<Figure size 1080x504 with 1 Axes>"
      ]
     },
     "metadata": {
      "needs_background": "light"
     },
     "output_type": "display_data"
    }
   ],
   "source": [
    "#Plotting the sliced dataframe for visualization \n",
    "sliced_city_rental_df.plot(\n",
    "    figsize=(15,7),\n",
    "    title = \"Rental growth city wise from 2017 to 2021\",\n",
    "    xlabel='Year',\n",
    "    ylabel='Average Rental Price'\n",
    ")"
   ]
  },
  {
   "cell_type": "markdown",
   "id": "e8fa0c2a-8273-4879-bbde-b7566d8a9827",
   "metadata": {},
   "source": [
    "##### Based on the city wise analysis, it is clearly noticeable that the rents of the prime cities like Seattle, Kirkland, Bellevue have been on upward trend along with suburbs area like Bothell, Issaquah, Everett, as compared to pre-covid timeline during pandemic. Rents declined in most cities during 2020 as the dramatic loss in jobs reduced household formation and demand for rental housing."
   ]
  },
  {
   "cell_type": "markdown",
   "id": "a5e2120d-b04d-47aa-8e77-2f39d97068d6",
   "metadata": {},
   "source": [
    "### Rent Growth by County"
   ]
  },
  {
   "cell_type": "code",
   "execution_count": 116,
   "id": "535db315-3df5-4671-9759-0bb293b3ffcb",
   "metadata": {},
   "outputs": [
    {
     "data": {
      "text/html": [
       "<div>\n",
       "<style scoped>\n",
       "    .dataframe tbody tr th:only-of-type {\n",
       "        vertical-align: middle;\n",
       "    }\n",
       "\n",
       "    .dataframe tbody tr th {\n",
       "        vertical-align: top;\n",
       "    }\n",
       "\n",
       "    .dataframe thead th {\n",
       "        text-align: right;\n",
       "    }\n",
       "</style>\n",
       "<table border=\"1\" class=\"dataframe\">\n",
       "  <thead>\n",
       "    <tr style=\"text-align: right;\">\n",
       "      <th>County_Name</th>\n",
       "      <th>King</th>\n",
       "      <th>Snohomish</th>\n",
       "      <th>Pierce</th>\n",
       "    </tr>\n",
       "    <tr>\n",
       "      <th>Date</th>\n",
       "      <th></th>\n",
       "      <th></th>\n",
       "      <th></th>\n",
       "    </tr>\n",
       "  </thead>\n",
       "  <tbody>\n",
       "    <tr>\n",
       "      <th>2017-01-01</th>\n",
       "      <td>1672.0</td>\n",
       "      <td>1448.0</td>\n",
       "      <td>1218.0</td>\n",
       "    </tr>\n",
       "    <tr>\n",
       "      <th>2017-02-01</th>\n",
       "      <td>1700.0</td>\n",
       "      <td>1454.0</td>\n",
       "      <td>1215.0</td>\n",
       "    </tr>\n",
       "    <tr>\n",
       "      <th>2017-03-01</th>\n",
       "      <td>1730.0</td>\n",
       "      <td>1485.0</td>\n",
       "      <td>1245.0</td>\n",
       "    </tr>\n",
       "    <tr>\n",
       "      <th>2017-04-01</th>\n",
       "      <td>1760.0</td>\n",
       "      <td>1509.0</td>\n",
       "      <td>1264.0</td>\n",
       "    </tr>\n",
       "    <tr>\n",
       "      <th>2017-05-01</th>\n",
       "      <td>1796.0</td>\n",
       "      <td>1541.0</td>\n",
       "      <td>1298.0</td>\n",
       "    </tr>\n",
       "  </tbody>\n",
       "</table>\n",
       "</div>"
      ],
      "text/plain": [
       "County_Name    King  Snohomish  Pierce\n",
       "Date                                  \n",
       "2017-01-01   1672.0     1448.0  1218.0\n",
       "2017-02-01   1700.0     1454.0  1215.0\n",
       "2017-03-01   1730.0     1485.0  1245.0\n",
       "2017-04-01   1760.0     1509.0  1264.0\n",
       "2017-05-01   1796.0     1541.0  1298.0"
      ]
     },
     "metadata": {},
     "output_type": "display_data"
    }
   ],
   "source": [
    "#Formatting table and slicing dataframe to only 3 counties for further analysis\n",
    "sliced_county_rental_df = pd.pivot_table(rental_county_df,values='Average_Rental_Price',\n",
    "                      index=['Date'],\n",
    "                      columns=['County_Name'])\n",
    "sliced_county_rental_df = sliced_county_rental_df[['King','Snohomish','Pierce']]\n",
    "\n",
    "#Displaying sliced dataframe\n",
    "display(sliced_county_rental_df.head())"
   ]
  },
  {
   "cell_type": "code",
   "execution_count": 117,
   "id": "6b6e2a48-a002-47b2-8a75-720a4ca14b3d",
   "metadata": {},
   "outputs": [
    {
     "data": {
      "text/plain": [
       "<AxesSubplot:title={'center':'Rental Growth from 2017 to 2021'}, xlabel='Year', ylabel='Average Rental Price'>"
      ]
     },
     "execution_count": 117,
     "metadata": {},
     "output_type": "execute_result"
    },
    {
     "data": {
      "image/png": "[encoded data removed]",
      "text/plain": [
       "<Figure size 1080x504 with 1 Axes>"
      ]
     },
     "metadata": {
      "needs_background": "light"
     },
     "output_type": "display_data"
    }
   ],
   "source": [
    "#Plotting the sliced dataframe for visualization \n",
    "sliced_county_rental_df.plot(\n",
    "    figsize=(15,7),\n",
    "    title = \"Rental Growth from 2017 to 2021\",\n",
    "    xlabel='Year',\n",
    "    ylabel='Average Rental Price'\n",
    ")"
   ]
  },
  {
   "cell_type": "markdown",
   "id": "101f0aef-e8fe-42b4-88f5-7bb87c9ab41f",
   "metadata": {},
   "source": [
    "##### Based on county wise analysis, it is seen that all counties have faced high rental price growth, but King county declined in 2020 whereas Pierce & Snohomish counties leveled off before strong growth in 2021. One of the reasons could be migration of people from urban to suburban and rural areas due to work from home. This lead to the increase in demand in Snohomish and Pierce counties, launching a drastic increase in rent growth. "
   ]
  },
  {
   "cell_type": "code",
   "execution_count": 118,
   "id": "6167ae08-e4b0-4d9b-886e-189d701b1d0f",
   "metadata": {},
   "outputs": [
    {
     "data": {
      "text/html": [
       "<div>\n",
       "<style scoped>\n",
       "    .dataframe tbody tr th:only-of-type {\n",
       "        vertical-align: middle;\n",
       "    }\n",
       "\n",
       "    .dataframe tbody tr th {\n",
       "        vertical-align: top;\n",
       "    }\n",
       "\n",
       "    .dataframe thead th {\n",
       "        text-align: right;\n",
       "    }\n",
       "</style>\n",
       "<table border=\"1\" class=\"dataframe\">\n",
       "  <thead>\n",
       "    <tr style=\"text-align: right;\">\n",
       "      <th>county_name</th>\n",
       "      <th>King</th>\n",
       "      <th>Snohomish</th>\n",
       "      <th>Pierce</th>\n",
       "    </tr>\n",
       "    <tr>\n",
       "      <th>Date</th>\n",
       "      <th></th>\n",
       "      <th></th>\n",
       "      <th></th>\n",
       "    </tr>\n",
       "  </thead>\n",
       "  <tbody>\n",
       "    <tr>\n",
       "      <th>2016-07-01</th>\n",
       "      <td>565000.0</td>\n",
       "      <td>399500.0</td>\n",
       "      <td>324950.0</td>\n",
       "    </tr>\n",
       "    <tr>\n",
       "      <th>2016-08-01</th>\n",
       "      <td>554997.5</td>\n",
       "      <td>394975.0</td>\n",
       "      <td>322475.0</td>\n",
       "    </tr>\n",
       "    <tr>\n",
       "      <th>2016-09-01</th>\n",
       "      <td>549975.0</td>\n",
       "      <td>399700.0</td>\n",
       "      <td>319475.0</td>\n",
       "    </tr>\n",
       "    <tr>\n",
       "      <th>2016-10-01</th>\n",
       "      <td>559000.0</td>\n",
       "      <td>399995.0</td>\n",
       "      <td>315000.0</td>\n",
       "    </tr>\n",
       "    <tr>\n",
       "      <th>2016-11-01</th>\n",
       "      <td>550000.0</td>\n",
       "      <td>409975.0</td>\n",
       "      <td>312475.0</td>\n",
       "    </tr>\n",
       "  </tbody>\n",
       "</table>\n",
       "</div>"
      ],
      "text/plain": [
       "county_name      King  Snohomish    Pierce\n",
       "Date                                      \n",
       "2016-07-01   565000.0   399500.0  324950.0\n",
       "2016-08-01   554997.5   394975.0  322475.0\n",
       "2016-09-01   549975.0   399700.0  319475.0\n",
       "2016-10-01   559000.0   399995.0  315000.0\n",
       "2016-11-01   550000.0   409975.0  312475.0"
      ]
     },
     "metadata": {},
     "output_type": "display_data"
    }
   ],
   "source": [
    "#Creating a table for the three counties for the median listing price\n",
    "h_df = wa_house_listing_county_df[['Date','county_name','median_listing_price']]\n",
    "h_df = pd.pivot_table(h_df,values='median_listing_price',\n",
    "                     index=['Date'],\n",
    "                     columns=['county_name'])\n",
    "h_df = h_df[['King','Snohomish','Pierce']]\n",
    "display(h_df.head())"
   ]
  },
  {
   "cell_type": "code",
   "execution_count": 119,
   "id": "c2a11e2f-bded-41eb-8d1e-72f10db26177",
   "metadata": {},
   "outputs": [
    {
     "data": {
      "text/plain": [
       "<AxesSubplot:title={'center':'House Price Appreciation from 2017 to 2021'}, xlabel='Year', ylabel='Median Listing Price'>"
      ]
     },
     "execution_count": 119,
     "metadata": {},
     "output_type": "execute_result"
    },
    {
     "data": {
      "image/png": "[encoded data removed]",
      "text/plain": [
       "<Figure size 1080x504 with 1 Axes>"
      ]
     },
     "metadata": {
      "needs_background": "light"
     },
     "output_type": "display_data"
    }
   ],
   "source": [
    "h_df.plot(\n",
    "    figsize=(15,7),\n",
    "    title = \"House Price Appreciation from 2017 to 2021\",\n",
    "    xlabel='Year',\n",
    "    ylabel='Median Listing Price'\n",
    ")"
   ]
  },
  {
   "cell_type": "markdown",
   "id": "91437618-ca35-414e-bac4-e63becc39136",
   "metadata": {},
   "source": [
    "##### Home prices were less responsive (than rent) to the demand shock created by job losses in 2020. Median listing price plateaued off during the first year of the pandemic but did not decline. The trends for King and Snohomish counties are pretty similar; they both show increases from 2017, then surges in 2021. In contrast, Pierce county had a small gradual increase with a small spike in 2021."
   ]
  },
  {
   "cell_type": "code",
   "execution_count": 120,
   "id": "5b46ef13-26ee-4c1c-aff0-a3a9edfcff26",
   "metadata": {},
   "outputs": [
    {
     "data": {},
     "metadata": {},
     "output_type": "display_data"
    },
    {
     "data": {
      "application/vnd.holoviews_exec.v0+json": "",
      "text/html": [
       "<div id='10662'>\n",
       "\n",
       "\n",
       "\n",
       "\n",
       "\n",
       "  <div class=\"bk-root\" id=\"79ba4463-e3c4-4a9a-b7b6-5b6f6942bc0d\" data-root-id=\"10662\"></div>\n",
       "</div>\n",
       "<script type=\"application/javascript\">(function(root) {\n",
       "  function embed_document(root) {\n",
       "    var docs_json = {\"58a3171e-912f-4510-8bc5-388f47ab05d0\":{\"defs\":[{\"extends\":null,\"module\":null,\"name\":\"ReactiveHTML1\",\"overrides\":[],\"properties\":[]},{\"extends\":null,\"module\":null,\"name\":\"FlexBox1\",\"overrides\":[],\"properties\":[{\"default\":\"flex-start\",\"kind\":null,\"name\":\"align_content\"},{\"default\":\"flex-start\",\"kind\":null,\"name\":\"align_items\"},{\"default\":\"row\",\"kind\":null,\"name\":\"flex_direction\"},{\"default\":\"wrap\",\"kind\":null,\"name\":\"flex_wrap\"},{\"default\":\"flex-start\",\"kind\":null,\"name\":\"justify_content\"}]},{\"extends\":null,\"module\":null,\"name\":\"TemplateActions1\",\"overrides\":[],\"properties\":[{\"default\":0,\"kind\":null,\"name\":\"open_modal\"},{\"default\":0,\"kind\":null,\"name\":\"close_modal\"}]},{\"extends\":null,\"module\":null,\"name\":\"MaterialTemplateActions1\",\"overrides\":[],\"properties\":[{\"default\":0,\"kind\":null,\"name\":\"open_modal\"},{\"default\":0,\"kind\":null,\"name\":\"close_modal\"}]}],\"roots\":{\"references\":[{\"attributes\":{\"coordinates\":null,\"group\":null,\"text\":\"Median Price per Square Foot (size) and Year-over-Year Change (color): December 2021\",\"text_color\":\"black\",\"text_font_size\":\"12pt\"},\"id\":\"10676\",\"type\":\"Title\"},{\"attributes\":{\"axis_label\":\"x\",\"coordinates\":null,\"formatter\":{\"id\":\"10708\"},\"group\":null,\"major_label_policy\":{\"id\":\"10713\"},\"ticker\":{\"id\":\"10707\"}},\"id\":\"10684\",\"type\":\"LinearAxis\"},{\"attributes\":{\"data\":{\"INTPTLAT\":{\"__ndarray__\":\"lfHzJZmsVkECnNInYSlWQaGVDIWlMFZBy6SxPCs1V0EMz+VAw11XQfIorPw46VVB3W2S3tI6VkFgX2gbuStWQYLP/xrgIVdB+/LcAfiYV0H7kYqrZmFWQcPmoCtSUFZBn1Nfme3MVkEtS/109LxWQdlpPU6GZVdBcDIwDjgsV0F+L5HeXPlWQVoQ8xZgEVdBUDPxbaq+VkH4QXwWn/hVQdszcpQhaFZBNo/jLzUIV0HTAcb+6eJWQQUpefBOpVdBXOjL72pkVkG3yCtjjKRXQZ5fiIEBs1ZBiHat84ieV0GTO5Q8QZxXQVhyIHvAEFZBBP0s0aZUV0G0KYxiRg5XQZo686wei1dBnQHpN5WgVkEtYn/iGjtWQbjfwRPPNFZB7hbYPMPVV0GMm7HO05tWQV6xUFGeVFZB\",\"dtype\":\"float64\",\"order\":\"little\",\"shape\":[39]},\"INTPTLONG\":{\"__ndarray__\":\"BuDY6sopacEFaWgc8eNowc/Q4LNaYGnBD8UrR0acacGoFyaED05qwR9uWj3AAWrB9YPG4RwJacHrIlr2NgxqwVs95QsHamnBEsGeWOsqacFwxC4TDD9pwc3GzcS79GjB7YdxqrJdacFtA8cioUpqwZqe0kXKC2rBEKqzIlc6asGUnv0IUN5pwVYKsdmlCmrBhdR8uWifacG4EWRX/KRpwQ1tBVja+2nBUVCUpZ4kacF6VV/jGSdqwSeBDZSdbGnBDYxFezhIasETfNB5LuRowZCxN4+q72nBH20nHFUjasEqbZWvUt1pwTSL+nXL5GnB3cXZwJDaacERrkRvfO1owQ7eYj0BBmnB4b4wv3UUasEvoxx6wzRqwXwCo84GKGnBSvk/MnLeacHVyXp4qfRowWTptW7bomnB\",\"dtype\":\"float64\",\"order\":\"little\",\"shape\":[39]},\"color\":{\"__ndarray__\":\"taZ5xyk60j8/V1uxv+zWP0vIBz2bVdM/2V92Tx4Wwj8Mk6mCUUnNPy/dJAaBlcM/E2HD0ytlub9cIEHxY8y9P+58PzVeutU/6bevA+eM7D/5D+m3rwPPP1XBqKROQKM/JQaBlUOL0D8DeAskKH7cP9Xnaiv2l60/TKYKRiV1yj9GJXUCmgibPzPEsS5uo7E/0ETY8PRKqT94eqUsQxzLP5T2Bl+YTM0/SOF6FK5HyT8ydy0hH/TQP7aEfNCzWaU/ejarPldb1T8Q6bevA+fQP4ofY+5aQsY/fdCzWfW51j9xrIvbaAC/P7pJDAIrh7Y/zczMzMzMzD93LSEf9GzOPyKOdXEbDcg/Xf5D+u3ryD+Sy39Iv33ZPxueXinLENM/hslUwaikzj9iEFg5tMjOPwMJih9j7sI/\",\"dtype\":\"float64\",\"order\":\"little\",\"shape\":[39]},\"county_name\":[\"Adams\",\"Asotin\",\"Benton\",\"Chelan\",\"Clallam\",\"Clark\",\"Columbia\",\"Cowlitz\",\"Douglas\",\"Ferry\",\"Franklin\",\"Garfield\",\"Grant\",\"Grays Harbor\",\"Island\",\"Jefferson\",\"King\",\"Kitsap\",\"Kittitas\",\"Klickitat\",\"Lewis\",\"Lincoln\",\"Mason\",\"Okanogan\",\"Pacific\",\"Pend Oreille\",\"Pierce\",\"San Juan\",\"Skagit\",\"Skamania\",\"Snohomish\",\"Spokane\",\"Stevens\",\"Thurston\",\"Wahkiakum\",\"Walla Walla\",\"Whatcom\",\"Whitman\",\"Yakima\"],\"median_listing_price_per_square_foot\":{\"__ndarray__\":\"QXsJ7SUEaEBeF9uj29JpQNVLC4zRTnBAKuad+WZYc0AiFXEARX5yQIoFwXMRh3FAhD8o0ZkBZEAIRIZ7lURuQJb4bcLXinFAqqqqqqp7bEB7pMZ3nENuQFaIi70C5FlA5vpV0nRha0BK9mpeuR1xQPGEEi7q1XNA7SW0l+CrdkAx1Of6Xl9/QLaVRCnfVHFAANnNal3bc0DNOP/4wHhsQA4mQAudBW9AJjBLDFGXaUAHwR+ASdhwQGzfH4Q8pGxAJHOAT8GgcEC+WtIht85yQCrYs7mXVXJAXqFTaxElg0AQhEHEI1p0QE+DYqmsIXNA7G6YmHd3dkDtuovYlZ9rQK9E7UrUIGhAXmlh1e8HcUAoIyXxBSVxQNciOnuR/G1A9NzPUtHcdEBrkVH3EQBnQJZBV1dIgmpA\",\"dtype\":\"float64\",\"order\":\"little\",\"shape\":[39]},\"median_listing_price_per_square_foot_yy\":{\"__ndarray__\":\"taZ5xyk60j8/V1uxv+zWP0vIBz2bVdM/2V92Tx4Wwj8Mk6mCUUnNPy/dJAaBlcM/E2HD0ytlub9cIEHxY8y9P+58PzVeutU/6bevA+eM7D/5D+m3rwPPP1XBqKROQKM/JQaBlUOL0D8DeAskKH7cP9Xnaiv2l60/TKYKRiV1yj9GJXUCmgibPzPEsS5uo7E/0ETY8PRKqT94eqUsQxzLP5T2Bl+YTM0/SOF6FK5HyT8ydy0hH/TQP7aEfNCzWaU/ejarPldb1T8Q6bevA+fQP4ofY+5aQsY/fdCzWfW51j9xrIvbaAC/P7pJDAIrh7Y/zczMzMzMzD93LSEf9GzOPyKOdXEbDcg/Xf5D+u3ryD+Sy39Iv33ZPxueXinLENM/hslUwaikzj9iEFg5tMjOPwMJih9j7sI/\",\"dtype\":\"float64\",\"order\":\"little\",\"shape\":[39]},\"size\":{\"__ndarray__\":\"f+I27qfKNEAbh9aIUI81QLrCIQ3VOjhATIZ2YNZjOkBpJ+7zYM05QFCzsKidHjlApS7ujAT6MkBk9qnjZ1c3QIuOOPFRITlAaUeT+oykNkA82QDfB1c3QHoSYvKbhy5A0Z0jgEUzNkAQyiJPrtI4QJbFUDPpuDpAVDZs5ZWRPEA95kH2qM1AQATH2pmL+jhAi//ExZS8OkAh2GqNZKM2QDioi1tgoTdAtvAkOmd2NUAfehzvIKA4QATRlmWntDZAnJEE8md3OECVlJ4sQwU6QAsRadfwsDlASAQXgUaQQkDawnGRZxE7QEI4NLhnPjpAOjhQNX1wPEB2lmQtZ0w2QELicX8O1zRAGlHmzdzCOEAbyHC2+Nc4QPYYjruSOzdAD5H0JsRnO0BH2LhH3Fg0QGhbBJ8Q2DVA\",\"dtype\":\"float64\",\"order\":\"little\",\"shape\":[39]}},\"selected\":{\"id\":\"10740\"},\"selection_policy\":{\"id\":\"10757\"}},\"id\":\"10739\",\"type\":\"ColumnDataSource\"},{\"attributes\":{\"dimension\":\"lat\"},\"id\":\"10709\",\"type\":\"MercatorTicker\"},{\"attributes\":{\"margin\":[5,5,5,5],\"name\":\"HSpacer17056\",\"sizing_mode\":\"stretch_width\"},\"id\":\"10663\",\"type\":\"Spacer\"},{\"attributes\":{},\"id\":\"10693\",\"type\":\"PanTool\"},{\"attributes\":{\"fill_alpha\":{\"value\":0.1},\"fill_color\":{\"field\":\"color\",\"transform\":{\"id\":\"10738\"}},\"hatch_alpha\":{\"value\":0.1},\"hatch_color\":{\"field\":\"color\",\"transform\":{\"id\":\"10738\"}},\"line_alpha\":{\"value\":0.1},\"line_color\":{\"field\":\"color\",\"transform\":{\"id\":\"10738\"}},\"size\":{\"field\":\"size\"},\"x\":{\"field\":\"INTPTLONG\"},\"y\":{\"field\":\"INTPTLAT\"}},\"id\":\"10743\",\"type\":\"Scatter\"},{\"attributes\":{},\"id\":\"10692\",\"type\":\"SaveTool\"},{\"attributes\":{\"axis_label\":\"y\",\"coordinates\":null,\"formatter\":{\"id\":\"10710\"},\"group\":null,\"major_label_policy\":{\"id\":\"10720\"},\"ticker\":{\"id\":\"10709\"}},\"id\":\"10688\",\"type\":\"LinearAxis\"},{\"attributes\":{\"bar_line_color\":\"black\",\"color_mapper\":{\"id\":\"10738\"},\"coordinates\":null,\"group\":null,\"label_standoff\":8,\"location\":[0,0],\"major_label_policy\":{\"id\":\"10755\"},\"major_tick_line_color\":\"black\",\"ticker\":{\"id\":\"10749\"}},\"id\":\"10750\",\"type\":\"ColorBar\"},{\"attributes\":{\"below\":[{\"id\":\"10684\"}],\"center\":[{\"id\":\"10687\"},{\"id\":\"10691\"}],\"frame_height\":500,\"frame_width\":700,\"height\":null,\"left\":[{\"id\":\"10688\"}],\"margin\":[5,5,5,5],\"match_aspect\":true,\"min_border_bottom\":10,\"min_border_left\":10,\"min_border_right\":10,\"min_border_top\":10,\"renderers\":[{\"id\":\"10736\"},{\"id\":\"10747\"}],\"right\":[{\"id\":\"10750\"}],\"sizing_mode\":\"fixed\",\"title\":{\"id\":\"10676\"},\"toolbar\":{\"id\":\"10698\"},\"width\":null,\"x_range\":{\"id\":\"10668\"},\"x_scale\":{\"id\":\"10680\"},\"y_range\":{\"id\":\"10669\"},\"y_scale\":{\"id\":\"10682\"}},\"id\":\"10675\",\"subtype\":\"Figure\",\"type\":\"Plot\"},{\"attributes\":{\"margin\":[5,5,5,5],\"name\":\"HSpacer17057\",\"sizing_mode\":\"stretch_width\"},\"id\":\"10816\",\"type\":\"Spacer\"},{\"attributes\":{\"dimension\":\"lon\"},\"id\":\"10708\",\"type\":\"MercatorTickFormatter\"},{\"attributes\":{\"dimension\":\"lon\"},\"id\":\"10707\",\"type\":\"MercatorTicker\"},{\"attributes\":{\"tools\":[{\"id\":\"10672\"},{\"id\":\"10692\"},{\"id\":\"10693\"},{\"id\":\"10694\"},{\"id\":\"10695\"},{\"id\":\"10696\"}]},\"id\":\"10698\",\"type\":\"Toolbar\"},{\"attributes\":{\"fill_color\":{\"field\":\"color\",\"transform\":{\"id\":\"10738\"}},\"hatch_color\":{\"field\":\"color\",\"transform\":{\"id\":\"10738\"}},\"line_color\":{\"field\":\"color\",\"transform\":{\"id\":\"10738\"}},\"size\":{\"field\":\"size\"},\"x\":{\"field\":\"INTPTLONG\"},\"y\":{\"field\":\"INTPTLAT\"}},\"id\":\"10744\",\"type\":\"Scatter\"},{\"attributes\":{},\"id\":\"10757\",\"type\":\"UnionRenderers\"},{\"attributes\":{\"source\":{\"id\":\"10739\"}},\"id\":\"10748\",\"type\":\"CDSView\"},{\"attributes\":{\"bottom_units\":\"screen\",\"coordinates\":null,\"fill_alpha\":0.5,\"fill_color\":\"lightgrey\",\"group\":null,\"left_units\":\"screen\",\"level\":\"overlay\",\"line_alpha\":1.0,\"line_color\":\"black\",\"line_dash\":[4,4],\"line_width\":2,\"right_units\":\"screen\",\"syncable\":false,\"top_units\":\"screen\"},\"id\":\"10697\",\"type\":\"BoxAnnotation\"},{\"attributes\":{},\"id\":\"10682\",\"type\":\"LinearScale\"},{\"attributes\":{\"high\":0.8922,\"low\":-0.0992,\"palette\":[\"#b3fef5\",\"#b0fef5\",\"#adfdf5\",\"#a9fcf5\",\"#a6fbf6\",\"#a3faf6\",\"#a0faf6\",\"#9df9f6\",\"#9af8f6\",\"#97f7f6\",\"#93f7f6\",\"#90f6f6\",\"#8df5f6\",\"#8af4f7\",\"#87f3f7\",\"#83f2f7\",\"#80f2f7\",\"#7df1f7\",\"#79f0f7\",\"#76eff7\",\"#73eef7\",\"#6fedf8\",\"#6cecf8\",\"#68ecf8\",\"#65ebf8\",\"#61eaf8\",\"#5ee9f8\",\"#5ae8f8\",\"#57e7f8\",\"#53e6f8\",\"#50e5f9\",\"#4ce4f9\",\"#49e3f9\",\"#45e2f9\",\"#42e1f9\",\"#3ee0f9\",\"#3bdff9\",\"#38def9\",\"#35ddf9\",\"#32dcf9\",\"#30dbfa\",\"#2ed9fa\",\"#2dd8fa\",\"#2cd7fa\",\"#2bd6fa\",\"#2bd5fa\",\"#2ad3fa\",\"#2ad2fa\",\"#29d1fa\",\"#29d0fb\",\"#29cffb\",\"#28cdfb\",\"#28ccfb\",\"#28cbfb\",\"#28cafb\",\"#28c8fb\",\"#28c7fb\",\"#29c6fb\",\"#29c5fb\",\"#29c4fb\",\"#29c2fb\",\"#2ac1fb\",\"#2ac0fb\",\"#2bbffb\",\"#2bbdfc\",\"#2cbcfc\",\"#2dbbfc\",\"#2db9fc\",\"#2eb8fc\",\"#2fb7fc\",\"#2fb6fc\",\"#30b4fc\",\"#31b3fc\",\"#32b2fc\",\"#32b0fc\",\"#33affc\",\"#33aefc\",\"#34adfc\",\"#34abfc\",\"#34aafc\",\"#35a9fc\",\"#35a8fc\",\"#35a6fc\",\"#35a5fc\",\"#35a4fc\",\"#35a3fc\",\"#35a1fc\",\"#35a0fc\",\"#359ffc\",\"#359dfc\",\"#359cfc\",\"#359bfc\",\"#349afd\",\"#3498fd\",\"#3497fd\",\"#3396fd\",\"#3395fd\",\"#3293fd\",\"#3292fd\",\"#3191fd\",\"#3090fd\",\"#308ffd\",\"#2f8dfd\",\"#2f8cfd\",\"#2e8bfd\",\"#2e8afd\",\"#2d88fd\",\"#2d87fd\",\"#2c86fd\",\"#2c84fd\",\"#2c83fd\",\"#2c82fd\",\"#2b81fd\",\"#2b7ffd\",\"#2b7efd\",\"#2b7dfd\",\"#2b7bfd\",\"#2b7afd\",\"#2b79fd\",\"#2b77fd\",\"#2b76fd\",\"#2b75fd\",\"#2b73fd\",\"#2c72fd\",\"#2c71fd\",\"#2c6ffd\",\"#2c6efd\",\"#2d6cfd\",\"#2d6bfd\",\"#2d6afc\",\"#2e68fc\",\"#2e67fc\",\"#2e65fc\",\"#2e64fc\",\"#2f62fc\",\"#2f61fc\",\"#2f5ffc\",\"#2f5efc\",\"#2f5dfc\",\"#2f5bfc\",\"#2f5afc\",\"#2f58fb\",\"#2f57fb\",\"#2f55fb\",\"#2f53fb\",\"#2f52fb\",\"#2f50fb\",\"#2f4ffb\",\"#2f4dfb\",\"#2e4cfb\",\"#2e4afb\",\"#2e48fb\",\"#2e47fa\",\"#2d45fa\",\"#2d43fa\",\"#2d42fa\",\"#2d40fa\",\"#2c3efa\",\"#2c3dfa\",\"#2b3bf9\",\"#2b39f9\",\"#2a37f9\",\"#2a36f8\",\"#2934f8\",\"#2832f7\",\"#2831f7\",\"#272ff6\",\"#262ef5\",\"#252cf5\",\"#252af4\",\"#2429f3\",\"#2327f2\",\"#2226f1\",\"#2124f0\",\"#2023ef\",\"#1f22ee\",\"#1e20ed\",\"#1d1feb\",\"#1c1eea\",\"#1b1ce9\",\"#1a1be7\",\"#181ae6\",\"#1719e5\",\"#1618e3\",\"#1417e1\",\"#1316e0\",\"#1215de\",\"#1014dc\",\"#0f13db\",\"#0e12d9\",\"#0d11d7\",\"#0c10d5\",\"#0b0fd3\",\"#0a0ed1\",\"#090dd0\",\"#080dce\",\"#080ccc\",\"#070bca\",\"#070ac8\",\"#0709c6\",\"#0708c4\",\"#0707c2\",\"#0707bf\",\"#0806bd\",\"#0806bb\",\"#0905b9\",\"#0904b7\",\"#0a04b5\",\"#0a04b2\",\"#0b03b0\",\"#0c03ae\",\"#0d02ab\",\"#0e02a9\",\"#0e02a7\",\"#0f02a4\",\"#0f01a2\",\"#1001a0\",\"#10019d\",\"#10019b\",\"#100199\",\"#100197\",\"#100194\",\"#0f0192\",\"#0f0190\",\"#0f018e\",\"#0e018b\",\"#0e0189\",\"#0d0187\",\"#0d0185\",\"#0c0183\",\"#0b0181\",\"#0b017e\",\"#0a017c\",\"#09017a\",\"#090178\",\"#080276\",\"#070274\",\"#060272\",\"#060270\",\"#05026e\",\"#04026c\",\"#030269\",\"#030267\",\"#020265\",\"#010263\",\"#010261\",\"#00025f\",\"#00025d\",\"#00025b\",\"#000259\",\"#000257\",\"#000255\",\"#000154\",\"#000152\",\"#000150\",\"#00004e\"]},\"id\":\"10738\",\"type\":\"LinearColorMapper\"},{\"attributes\":{\"code\":\"\\n        var projections = Bokeh.require(\\\"core/util/projections\\\");\\n        var x = special_vars.data_x\\n        var y = special_vars.data_y\\n        if (projections.wgs84_mercator.invert == null) {\\n          var coords = projections.wgs84_mercator.inverse([x, y])\\n        } else {\\n          var coords = projections.wgs84_mercator.invert(x, y)\\n        }\\n        return \\\"\\\" + (coords[1]).toFixed(4)\\n    \"},\"id\":\"10752\",\"type\":\"CustomJSHover\"},{\"attributes\":{},\"id\":\"10680\",\"type\":\"LinearScale\"},{\"attributes\":{\"coordinates\":null,\"group\":null,\"level\":\"glyph\",\"tile_source\":{\"id\":\"10733\"}},\"id\":\"10736\",\"type\":\"TileRenderer\"},{\"attributes\":{\"dimension\":\"lat\"},\"id\":\"10710\",\"type\":\"MercatorTickFormatter\"},{\"attributes\":{\"children\":[{\"id\":\"10663\"},{\"id\":\"10675\"},{\"id\":\"10816\"}],\"margin\":[0,0,0,0],\"name\":\"Row17052\",\"tags\":[\"embedded\"]},\"id\":\"10662\",\"type\":\"Row\"},{\"attributes\":{\"coordinates\":null,\"data_source\":{\"id\":\"10739\"},\"glyph\":{\"id\":\"10742\"},\"group\":null,\"hover_glyph\":{\"id\":\"10745\"},\"muted_glyph\":{\"id\":\"10746\"},\"nonselection_glyph\":{\"id\":\"10743\"},\"selection_glyph\":{\"id\":\"10744\"},\"view\":{\"id\":\"10748\"}},\"id\":\"10747\",\"type\":\"GlyphRenderer\"},{\"attributes\":{\"attribution\":\"&copy; <a href=\\\"https://www.openstreetmap.org/copyright\\\">OpenStreetMap</a> contributors\",\"url\":\"https://c.tile.openstreetmap.org/{Z}/{X}/{Y}.png\"},\"id\":\"10733\",\"type\":\"WMTSTileSource\"},{\"attributes\":{\"fill_alpha\":{\"value\":0.2},\"fill_color\":{\"field\":\"color\",\"transform\":{\"id\":\"10738\"}},\"hatch_alpha\":{\"value\":0.2},\"hatch_color\":{\"field\":\"color\",\"transform\":{\"id\":\"10738\"}},\"line_alpha\":{\"value\":0.2},\"line_color\":{\"field\":\"color\",\"transform\":{\"id\":\"10738\"}},\"size\":{\"field\":\"size\"},\"x\":{\"field\":\"INTPTLONG\"},\"y\":{\"field\":\"INTPTLAT\"}},\"id\":\"10746\",\"type\":\"Scatter\"},{\"attributes\":{\"fill_color\":{\"field\":\"color\",\"transform\":{\"id\":\"10738\"}},\"hatch_color\":{\"field\":\"color\",\"transform\":{\"id\":\"10738\"}},\"line_color\":{\"field\":\"color\",\"transform\":{\"id\":\"10738\"}},\"size\":{\"field\":\"size\"},\"x\":{\"field\":\"INTPTLONG\"},\"y\":{\"field\":\"INTPTLAT\"}},\"id\":\"10742\",\"type\":\"Scatter\"},{\"attributes\":{\"zoom_on_axis\":false},\"id\":\"10694\",\"type\":\"WheelZoomTool\"},{\"attributes\":{},\"id\":\"10755\",\"type\":\"NoOverlap\"},{\"attributes\":{\"callback\":null,\"formatters\":{\"$x\":{\"id\":\"10751\"},\"$y\":{\"id\":\"10752\"}},\"renderers\":[{\"id\":\"10747\"}],\"tags\":[\"hv_created\"],\"tooltips\":[[\"INTPTLONG\",\"$x{custom}\"],[\"INTPTLAT\",\"$y{custom}\"],[\"median_listing_price_per_square_foot_yy\",\"@{median_listing_price_per_square_foot_yy}\"],[\"median_listing_price_per_square_foot\",\"@{median_listing_price_per_square_foot}\"],[\"county_name\",\"@{county_name}\"]]},\"id\":\"10672\",\"type\":\"HoverTool\"},{\"attributes\":{},\"id\":\"10720\",\"type\":\"AllLabels\"},{\"attributes\":{},\"id\":\"10749\",\"type\":\"BasicTicker\"},{\"attributes\":{\"axis\":{\"id\":\"10688\"},\"coordinates\":null,\"dimension\":1,\"grid_line_color\":null,\"group\":null,\"ticker\":null},\"id\":\"10691\",\"type\":\"Grid\"},{\"attributes\":{\"end\":6298640.84893794,\"min_interval\":5,\"reset_end\":6298640.84893794,\"reset_start\":5693408.040207123,\"start\":5693408.040207123,\"tags\":[[[\"INTPTLAT\",\"INTPTLAT\",null]]]},\"id\":\"10669\",\"type\":\"Range1d\"},{\"attributes\":{\"code\":\"\\n        var projections = Bokeh.require(\\\"core/util/projections\\\");\\n        var x = special_vars.data_x\\n        var y = special_vars.data_y\\n        if (projections.wgs84_mercator.invert == null) {\\n          var coords = projections.wgs84_mercator.inverse([x, y])\\n        } else {\\n          var coords = projections.wgs84_mercator.invert(x, y)\\n        }\\n        return \\\"\\\" + (coords[0]).toFixed(4)\\n    \"},\"id\":\"10751\",\"type\":\"CustomJSHover\"},{\"attributes\":{\"match_aspect\":true,\"overlay\":{\"id\":\"10697\"}},\"id\":\"10695\",\"type\":\"BoxZoomTool\"},{\"attributes\":{},\"id\":\"10740\",\"type\":\"Selection\"},{\"attributes\":{},\"id\":\"10696\",\"type\":\"ResetTool\"},{\"attributes\":{\"end\":-12996764.211974476,\"min_interval\":5,\"reset_end\":-12996764.211974476,\"reset_start\":-13844328.805420859,\"start\":-13844328.805420859,\"tags\":[[[\"INTPTLONG\",\"INTPTLONG\",null]]]},\"id\":\"10668\",\"type\":\"Range1d\"},{\"attributes\":{},\"id\":\"10713\",\"type\":\"AllLabels\"},{\"attributes\":{\"fill_color\":{\"field\":\"color\",\"transform\":{\"id\":\"10738\"}},\"hatch_color\":{\"field\":\"color\",\"transform\":{\"id\":\"10738\"}},\"line_color\":{\"field\":\"color\",\"transform\":{\"id\":\"10738\"}},\"size\":{\"field\":\"size\"},\"x\":{\"field\":\"INTPTLONG\"},\"y\":{\"field\":\"INTPTLAT\"}},\"id\":\"10745\",\"type\":\"Scatter\"},{\"attributes\":{\"axis\":{\"id\":\"10684\"},\"coordinates\":null,\"grid_line_color\":null,\"group\":null,\"ticker\":null},\"id\":\"10687\",\"type\":\"Grid\"}],\"root_ids\":[\"10662\"]},\"title\":\"Bokeh Application\",\"version\":\"2.4.1\"}};\n",
       "    var render_items = [{\"docid\":\"58a3171e-912f-4510-8bc5-388f47ab05d0\",\"root_ids\":[\"10662\"],\"roots\":{\"10662\":\"79ba4463-e3c4-4a9a-b7b6-5b6f6942bc0d\"}}];\n",
       "    root.Bokeh.embed.embed_items_notebook(docs_json, render_items);\n",
       "  }\n",
       "  if (root.Bokeh !== undefined && root.Bokeh.Panel !== undefined) {\n",
       "    embed_document(root);\n",
       "  } else {\n",
       "    var attempts = 0;\n",
       "    var timer = setInterval(function(root) {\n",
       "      if (root.Bokeh !== undefined && root.Bokeh.Panel !== undefined) {\n",
       "        clearInterval(timer);\n",
       "        embed_document(root);\n",
       "      } else if (document.readyState == \"complete\") {\n",
       "        attempts++;\n",
       "        if (attempts > 200) {\n",
       "          clearInterval(timer);\n",
       "          console.log(\"Bokeh: ERROR: Unable to run BokehJS code because BokehJS library is missing\");\n",
       "        }\n",
       "      }\n",
       "    }, 25, root)\n",
       "  }\n",
       "})(window);</script>"
      ],
      "text/plain": [
       ":Overlay\n",
       "   .Tiles.I  :Tiles   [x,y]\n",
       "   .Points.I :Points   [INTPTLONG,INTPTLAT]   (median_listing_price_per_square_foot_yy,median_listing_price_per_square_foot,county_name)"
      ]
     },
     "execution_count": 120,
     "metadata": {
      "application/vnd.holoviews_exec.v0+json": {
       "id": "10662"
      }
     },
     "output_type": "execute_result"
    }
   ],
   "source": [
    "h2_df = wa_house_listing_county_df[['Date','county_fips','county_name','median_listing_price_per_square_foot','median_listing_price_per_square_foot_yy']]\n",
    "h2_df = h2_df[h2_df['Date'] == '2021-12-01']\n",
    "wa_house_listings_geo_df = pd.merge(left = h2_df, right=geocode_df, left_on='county_fips', right_on='GEOID')\n",
    "\n",
    "# Plot data in a scatter plot using hvPlot with GeoViews enabled\n",
    "wa_house_listings_geo_df.hvplot.points(\n",
    "    'INTPTLONG',\n",
    "    'INTPTLAT',\n",
    "    geo=True,\n",
    "    color= 'median_listing_price_per_square_foot_yy',\n",
    "    size= 'median_listing_price_per_square_foot',\n",
    "    tiles='OSM',\n",
    "    scale=1.5,\n",
    "    hover_cols = 'county_name',\n",
    "    frame_width=700,\n",
    "    frame_height=500,\n",
    "    title = 'Median Price per Square Foot (size) and Year-over-Year Change (color): December 2021'\n",
    "    )"
   ]
  },
  {
   "cell_type": "markdown",
   "id": "1e6fde97-321d-4cf8-a1f6-48858b2518b0",
   "metadata": {},
   "source": [
    "##### Although home prices are generally higher in the urban areas of western Washington, price appreciation has been stronger in eastern Washington and coastal counties north and south of Seattle. Ferry county, a rural area in the Northeast corner of the state, reported the steepest home price gains at the end of 2021--almost doubling year-over-year."
   ]
  },
  {
   "cell_type": "markdown",
   "id": "fbe7e7cf-e317-422e-86d7-e272d296eb77",
   "metadata": {},
   "source": [
    "## Housing Affordability Analysis"
   ]
  },
  {
   "cell_type": "code",
   "execution_count": 26,
   "id": "cb3e7563-e14d-4810-b130-9a7352a501c6",
   "metadata": {},
   "outputs": [
    {
     "data": {
      "text/html": [
       "<div>\n",
       "<style scoped>\n",
       "    .dataframe tbody tr th:only-of-type {\n",
       "        vertical-align: middle;\n",
       "    }\n",
       "\n",
       "    .dataframe tbody tr th {\n",
       "        vertical-align: top;\n",
       "    }\n",
       "\n",
       "    .dataframe thead th {\n",
       "        text-align: right;\n",
       "    }\n",
       "</style>\n",
       "<table border=\"1\" class=\"dataframe\">\n",
       "  <thead>\n",
       "    <tr style=\"text-align: right;\">\n",
       "      <th></th>\n",
       "      <th>2017</th>\n",
       "      <th>2018</th>\n",
       "      <th>2019</th>\n",
       "      <th>2020</th>\n",
       "    </tr>\n",
       "    <tr>\n",
       "      <th>Areas</th>\n",
       "      <th></th>\n",
       "      <th></th>\n",
       "      <th></th>\n",
       "      <th></th>\n",
       "    </tr>\n",
       "  </thead>\n",
       "  <tbody>\n",
       "    <tr>\n",
       "      <th>Bellevue</th>\n",
       "      <td>66.9</td>\n",
       "      <td>63.8</td>\n",
       "      <td>73.5</td>\n",
       "      <td>74.7</td>\n",
       "    </tr>\n",
       "    <tr>\n",
       "      <th>Bothell</th>\n",
       "      <td>81.9</td>\n",
       "      <td>73.2</td>\n",
       "      <td>86.4</td>\n",
       "      <td>95.2</td>\n",
       "    </tr>\n",
       "    <tr>\n",
       "      <th>Everett</th>\n",
       "      <td>85.1</td>\n",
       "      <td>75.0</td>\n",
       "      <td>82.2</td>\n",
       "      <td>80.1</td>\n",
       "    </tr>\n",
       "    <tr>\n",
       "      <th>Issaquah</th>\n",
       "      <td>82.6</td>\n",
       "      <td>69.2</td>\n",
       "      <td>87.3</td>\n",
       "      <td>91.3</td>\n",
       "    </tr>\n",
       "    <tr>\n",
       "      <th>Kirkland</th>\n",
       "      <td>82.0</td>\n",
       "      <td>68.8</td>\n",
       "      <td>83.7</td>\n",
       "      <td>85.6</td>\n",
       "    </tr>\n",
       "  </tbody>\n",
       "</table>\n",
       "</div>"
      ],
      "text/plain": [
       "          2017  2018  2019  2020\n",
       "Areas                           \n",
       "Bellevue  66.9  63.8  73.5  74.7\n",
       "Bothell   81.9  73.2  86.4  95.2\n",
       "Everett   85.1  75.0  82.2  80.1\n",
       "Issaquah  82.6  69.2  87.3  91.3\n",
       "Kirkland  82.0  68.8  83.7  85.6"
      ]
     },
     "execution_count": 26,
     "metadata": {},
     "output_type": "execute_result"
    }
   ],
   "source": [
    "city_index=city_affordability_indices.reset_index()\n",
    "cities = ['Seattle','Bellevue','Bothell','Everett','Kirkland','Issaquah','Snoqualmie','Yakima','Lake Stevens']  \n",
    "city_index = city_index[city_index.Areas.isin(cities)].set_index('Areas')\n",
    "city_index.head()"
   ]
  },
  {
   "cell_type": "code",
   "execution_count": 27,
   "id": "26c36241-53c4-44de-9379-cfd3f587b7ba",
   "metadata": {},
   "outputs": [
    {
     "data": {},
     "metadata": {},
     "output_type": "display_data"
    },
    {
     "data": {
      "application/vnd.holoviews_exec.v0+json": "",
      "text/html": [
       "<div id='3198'>\n",
       "\n",
       "\n",
       "\n",
       "\n",
       "\n",
       "  <div class=\"bk-root\" id=\"7066a258-7dd7-40e4-afef-982052d8030b\" data-root-id=\"3198\"></div>\n",
       "</div>\n",
       "<script type=\"application/javascript\">(function(root) {\n",
       "  function embed_document(root) {\n",
       "    var docs_json = {\"aebb8024-4d74-4f64-9d12-bca31e5498ac\":{\"defs\":[{\"extends\":null,\"module\":null,\"name\":\"ReactiveHTML1\",\"overrides\":[],\"properties\":[]},{\"extends\":null,\"module\":null,\"name\":\"FlexBox1\",\"overrides\":[],\"properties\":[{\"default\":\"flex-start\",\"kind\":null,\"name\":\"align_content\"},{\"default\":\"flex-start\",\"kind\":null,\"name\":\"align_items\"},{\"default\":\"row\",\"kind\":null,\"name\":\"flex_direction\"},{\"default\":\"wrap\",\"kind\":null,\"name\":\"flex_wrap\"},{\"default\":\"flex-start\",\"kind\":null,\"name\":\"justify_content\"}]},{\"extends\":null,\"module\":null,\"name\":\"TemplateActions1\",\"overrides\":[],\"properties\":[{\"default\":0,\"kind\":null,\"name\":\"open_modal\"},{\"default\":0,\"kind\":null,\"name\":\"close_modal\"}]},{\"extends\":null,\"module\":null,\"name\":\"MaterialTemplateActions1\",\"overrides\":[],\"properties\":[{\"default\":0,\"kind\":null,\"name\":\"open_modal\"},{\"default\":0,\"kind\":null,\"name\":\"close_modal\"}]}],\"roots\":{\"references\":[{\"attributes\":{},\"id\":\"3327\",\"type\":\"Selection\"},{\"attributes\":{\"data\":{\"A_2018\":{\"__ndarray__\":\"ZmZmZmbmT0DNzMzMzExSQAAAAAAAwFJAzczMzMxMUUAzMzMzMzNRQJqZmZmZGVtAZmZmZmbmTkAzMzMzM/NZQDMzMzMz01hA\",\"dtype\":\"float64\",\"order\":\"little\",\"shape\":[9]},\"Areas\":[\"Bellevue\",\"Bothell\",\"Everett\",\"Issaquah\",\"Kirkland\",\"Lake Stevens\",\"Seattle\",\"Snoqualmie\",\"Yakima\"]},\"selected\":{\"id\":\"3280\"},\"selection_policy\":{\"id\":\"3406\"}},\"id\":\"3279\",\"type\":\"ColumnDataSource\"},{\"attributes\":{\"axis_label\":\"\",\"coordinates\":null,\"formatter\":{\"id\":\"3386\"},\"group\":null,\"major_label_policy\":{\"id\":\"3387\"},\"ticker\":{\"id\":\"3358\"}},\"id\":\"3357\",\"type\":\"CategoricalAxis\"},{\"attributes\":{\"data\":{\"A_2019\":{\"__ndarray__\":\"AAAAAABgUkCamZmZmZlVQM3MzMzMjFRAMzMzMzPTVUDNzMzMzOxUQAAAAAAAgFxAMzMzMzOTUkDNzMzMzIxdQJqZmZmZ2VhA\",\"dtype\":\"float64\",\"order\":\"little\",\"shape\":[9]},\"Areas\":[\"Bellevue\",\"Bothell\",\"Everett\",\"Issaquah\",\"Kirkland\",\"Lake Stevens\",\"Seattle\",\"Snoqualmie\",\"Yakima\"]},\"selected\":{\"id\":\"3327\"},\"selection_policy\":{\"id\":\"3417\"}},\"id\":\"3326\",\"type\":\"ColumnDataSource\"},{\"attributes\":{\"fill_color\":{\"value\":\"Pink\"},\"hatch_color\":{\"value\":\"Pink\"},\"height\":{\"value\":0.8},\"right\":{\"field\":\"A_2018\"},\"y\":{\"field\":\"Areas\"}},\"id\":\"3282\",\"type\":\"HBar\"},{\"attributes\":{},\"id\":\"3406\",\"type\":\"UnionRenderers\"},{\"attributes\":{\"below\":[{\"id\":\"3259\"}],\"center\":[{\"id\":\"3262\"},{\"id\":\"3265\"}],\"height\":300,\"left\":[{\"id\":\"3263\"}],\"margin\":null,\"min_border_bottom\":10,\"min_border_left\":10,\"min_border_right\":10,\"min_border_top\":10,\"renderers\":[{\"id\":\"3285\"}],\"sizing_mode\":\"fixed\",\"title\":{\"id\":\"3251\"},\"toolbar\":{\"id\":\"3272\"},\"toolbar_location\":null,\"width\":300,\"x_range\":{\"id\":\"3247\"},\"x_scale\":{\"id\":\"3255\"},\"y_range\":{\"id\":\"3201\"},\"y_scale\":{\"id\":\"3257\"}},\"id\":\"3250\",\"subtype\":\"Figure\",\"type\":\"Plot\"},{\"attributes\":{\"data\":{\"A_2020\":{\"__ndarray__\":\"zczMzMysUkDNzMzMzMxXQGZmZmZmBlRAMzMzMzPTVkBmZmZmZmZVQDMzMzMzc1xAzczMzMzsVEDNzMzMzKxeQJqZmZmZ+VpA\",\"dtype\":\"float64\",\"order\":\"little\",\"shape\":[9]},\"Areas\":[\"Bellevue\",\"Bothell\",\"Everett\",\"Issaquah\",\"Kirkland\",\"Lake Stevens\",\"Seattle\",\"Snoqualmie\",\"Yakima\"]},\"selected\":{\"id\":\"3374\"},\"selection_policy\":{\"id\":\"3428\"}},\"id\":\"3373\",\"type\":\"ColumnDataSource\"},{\"attributes\":{\"fill_color\":{\"value\":\"Yellow\"},\"hatch_color\":{\"value\":\"Yellow\"},\"height\":{\"value\":0.8},\"right\":{\"field\":\"A_2019\"},\"y\":{\"field\":\"Areas\"}},\"id\":\"3329\",\"type\":\"HBar\"},{\"attributes\":{\"source\":{\"id\":\"3232\"}},\"id\":\"3239\",\"type\":\"CDSView\"},{\"attributes\":{\"bottom_units\":\"screen\",\"coordinates\":null,\"fill_alpha\":0.5,\"fill_color\":\"lightgrey\",\"group\":null,\"left_units\":\"screen\",\"level\":\"overlay\",\"line_alpha\":1.0,\"line_color\":\"black\",\"line_dash\":[4,4],\"line_width\":2,\"right_units\":\"screen\",\"syncable\":false,\"top_units\":\"screen\"},\"id\":\"3271\",\"type\":\"BoxAnnotation\"},{\"attributes\":{\"fill_alpha\":{\"value\":0.1},\"fill_color\":{\"value\":\"Yellow\"},\"hatch_alpha\":{\"value\":0.1},\"hatch_color\":{\"value\":\"Yellow\"},\"height\":{\"value\":0.8},\"line_alpha\":{\"value\":0.1},\"right\":{\"field\":\"A_2019\"},\"y\":{\"field\":\"Areas\"}},\"id\":\"3330\",\"type\":\"HBar\"},{\"attributes\":{},\"id\":\"3428\",\"type\":\"UnionRenderers\"},{\"attributes\":{\"below\":[{\"id\":\"3212\"}],\"center\":[{\"id\":\"3215\"},{\"id\":\"3218\"}],\"height\":300,\"left\":[{\"id\":\"3216\"}],\"margin\":null,\"min_border_bottom\":10,\"min_border_left\":10,\"min_border_right\":10,\"min_border_top\":10,\"renderers\":[{\"id\":\"3238\"}],\"sizing_mode\":\"fixed\",\"title\":{\"id\":\"3204\"},\"toolbar\":{\"id\":\"3225\"},\"toolbar_location\":null,\"width\":300,\"x_range\":{\"id\":\"3200\"},\"x_scale\":{\"id\":\"3208\"},\"y_range\":{\"id\":\"3201\"},\"y_scale\":{\"id\":\"3210\"}},\"id\":\"3203\",\"subtype\":\"Figure\",\"type\":\"Plot\"},{\"attributes\":{},\"id\":\"3290\",\"type\":\"AllLabels\"},{\"attributes\":{},\"id\":\"3293\",\"type\":\"AllLabels\"},{\"attributes\":{\"factors\":[\"Bellevue\",\"Bothell\",\"Everett\",\"Issaquah\",\"Kirkland\",\"Lake Stevens\",\"Seattle\",\"Snoqualmie\",\"Yakima\"],\"tags\":[[[\"Areas\",\"Areas\",null]]]},\"id\":\"3201\",\"type\":\"FactorRange\"},{\"attributes\":{},\"id\":\"3257\",\"type\":\"CategoricalScale\"},{\"attributes\":{},\"id\":\"3302\",\"type\":\"LinearScale\"},{\"attributes\":{\"fill_alpha\":{\"value\":0.1},\"fill_color\":{\"value\":\"Pink\"},\"hatch_alpha\":{\"value\":0.1},\"hatch_color\":{\"value\":\"Pink\"},\"height\":{\"value\":0.8},\"line_alpha\":{\"value\":0.1},\"right\":{\"field\":\"A_2018\"},\"y\":{\"field\":\"Areas\"}},\"id\":\"3283\",\"type\":\"HBar\"},{\"attributes\":{\"fill_alpha\":{\"value\":0.2},\"fill_color\":{\"value\":\"Orange\"},\"hatch_alpha\":{\"value\":0.2},\"hatch_color\":{\"value\":\"Orange\"},\"height\":{\"value\":0.8},\"line_alpha\":{\"value\":0.2},\"right\":{\"field\":\"A_2017\"},\"y\":{\"field\":\"Areas\"}},\"id\":\"3237\",\"type\":\"HBar\"},{\"attributes\":{\"callback\":null,\"renderers\":[{\"id\":\"3379\"}],\"tags\":[\"hv_created\"],\"tooltips\":[[\"Areas\",\"@{Areas}\"],[\"2020\",\"@{A_2020}\"]]},\"id\":\"3343\",\"type\":\"HoverTool\"},{\"attributes\":{\"coordinates\":null,\"data_source\":{\"id\":\"3232\"},\"glyph\":{\"id\":\"3235\"},\"group\":null,\"hover_glyph\":null,\"muted_glyph\":{\"id\":\"3237\"},\"nonselection_glyph\":{\"id\":\"3236\"},\"selection_glyph\":{\"id\":\"3240\"},\"view\":{\"id\":\"3239\"}},\"id\":\"3238\",\"type\":\"GlyphRenderer\"},{\"attributes\":{\"toolbars\":[{\"id\":\"3225\"},{\"id\":\"3272\"},{\"id\":\"3319\"},{\"id\":\"3366\"}],\"tools\":[{\"id\":\"3202\"},{\"id\":\"3219\"},{\"id\":\"3220\"},{\"id\":\"3221\"},{\"id\":\"3222\"},{\"id\":\"3223\"},{\"id\":\"3249\"},{\"id\":\"3266\"},{\"id\":\"3267\"},{\"id\":\"3268\"},{\"id\":\"3269\"},{\"id\":\"3270\"},{\"id\":\"3296\"},{\"id\":\"3313\"},{\"id\":\"3314\"},{\"id\":\"3315\"},{\"id\":\"3316\"},{\"id\":\"3317\"},{\"id\":\"3343\"},{\"id\":\"3360\"},{\"id\":\"3361\"},{\"id\":\"3362\"},{\"id\":\"3363\"},{\"id\":\"3364\"}]},\"id\":\"3433\",\"type\":\"ProxyToolbar\"},{\"attributes\":{},\"id\":\"3304\",\"type\":\"CategoricalScale\"},{\"attributes\":{\"data\":{\"A_2017\":{\"__ndarray__\":\"mpmZmZm5UECamZmZmXlUQGZmZmZmRlVAZmZmZmamVEAAAAAAAIBUQGZmZmZmpl1AmpmZmZm5UEBmZmZmZmZbQGZmZmZmxltA\",\"dtype\":\"float64\",\"order\":\"little\",\"shape\":[9]},\"Areas\":[\"Bellevue\",\"Bothell\",\"Everett\",\"Issaquah\",\"Kirkland\",\"Lake Stevens\",\"Seattle\",\"Snoqualmie\",\"Yakima\"]},\"selected\":{\"id\":\"3233\"},\"selection_policy\":{\"id\":\"3395\"}},\"id\":\"3232\",\"type\":\"ColumnDataSource\"},{\"attributes\":{\"callback\":null,\"renderers\":[{\"id\":\"3332\"}],\"tags\":[\"hv_created\"],\"tooltips\":[[\"Areas\",\"@{Areas}\"],[\"2019\",\"@{A_2019}\"]]},\"id\":\"3296\",\"type\":\"HoverTool\"},{\"attributes\":{\"end\":123.77,\"reset_end\":123.77,\"reset_start\":0.0,\"tags\":[[[\"2017\",\"2017\",null]]]},\"id\":\"3200\",\"type\":\"Range1d\"},{\"attributes\":{},\"id\":\"3337\",\"type\":\"AllLabels\"},{\"attributes\":{\"margin\":[5,5,5,5],\"name\":\"HSpacer04988\",\"sizing_mode\":\"stretch_width\"},\"id\":\"3796\",\"type\":\"Spacer\"},{\"attributes\":{\"toolbar\":{\"id\":\"3433\"},\"toolbar_location\":\"above\"},\"id\":\"3434\",\"type\":\"ToolbarBox\"},{\"attributes\":{},\"id\":\"3208\",\"type\":\"LinearScale\"},{\"attributes\":{},\"id\":\"3255\",\"type\":\"LinearScale\"},{\"attributes\":{\"axis_label\":\"2019\",\"coordinates\":null,\"formatter\":{\"id\":\"3336\"},\"group\":null,\"major_label_policy\":{\"id\":\"3337\"},\"ticker\":{\"id\":\"3307\"}},\"id\":\"3306\",\"type\":\"LinearAxis\"},{\"attributes\":{\"fill_alpha\":{\"value\":0.1},\"fill_color\":{\"value\":\"Orange\"},\"hatch_alpha\":{\"value\":0.1},\"hatch_color\":{\"value\":\"Orange\"},\"height\":{\"value\":0.8},\"line_alpha\":{\"value\":0.1},\"right\":{\"field\":\"A_2017\"},\"y\":{\"field\":\"Areas\"}},\"id\":\"3236\",\"type\":\"HBar\"},{\"attributes\":{},\"id\":\"3242\",\"type\":\"BasicTickFormatter\"},{\"attributes\":{},\"id\":\"3307\",\"type\":\"BasicTicker\"},{\"attributes\":{\"callback\":null,\"renderers\":[{\"id\":\"3285\"}],\"tags\":[\"hv_created\"],\"tooltips\":[[\"Areas\",\"@{Areas}\"],[\"2018\",\"@{A_2018}\"]]},\"id\":\"3249\",\"type\":\"HoverTool\"},{\"attributes\":{\"coordinates\":null,\"group\":null,\"text\":\"City Affordability Index\",\"text_color\":\"black\",\"text_font_size\":\"12pt\"},\"id\":\"3298\",\"type\":\"Title\"},{\"attributes\":{},\"id\":\"3292\",\"type\":\"CategoricalTickFormatter\"},{\"attributes\":{\"below\":[{\"id\":\"3353\"}],\"center\":[{\"id\":\"3356\"},{\"id\":\"3359\"}],\"height\":300,\"left\":[{\"id\":\"3357\"}],\"margin\":null,\"min_border_bottom\":10,\"min_border_left\":10,\"min_border_right\":10,\"min_border_top\":10,\"renderers\":[{\"id\":\"3379\"}],\"sizing_mode\":\"fixed\",\"title\":{\"id\":\"3345\"},\"toolbar\":{\"id\":\"3366\"},\"toolbar_location\":null,\"width\":300,\"x_range\":{\"id\":\"3341\"},\"x_scale\":{\"id\":\"3349\"},\"y_range\":{\"id\":\"3201\"},\"y_scale\":{\"id\":\"3351\"}},\"id\":\"3344\",\"subtype\":\"Figure\",\"type\":\"Plot\"},{\"attributes\":{\"callback\":null,\"renderers\":[{\"id\":\"3238\"}],\"tags\":[\"hv_created\"],\"tooltips\":[[\"Areas\",\"@{Areas}\"],[\"2017\",\"@{A_2017}\"]]},\"id\":\"3202\",\"type\":\"HoverTool\"},{\"attributes\":{},\"id\":\"3233\",\"type\":\"Selection\"},{\"attributes\":{},\"id\":\"3315\",\"type\":\"WheelZoomTool\"},{\"attributes\":{\"tools\":[{\"id\":\"3249\"},{\"id\":\"3266\"},{\"id\":\"3267\"},{\"id\":\"3268\"},{\"id\":\"3269\"},{\"id\":\"3270\"}]},\"id\":\"3272\",\"type\":\"Toolbar\"},{\"attributes\":{\"coordinates\":null,\"data_source\":{\"id\":\"3373\"},\"glyph\":{\"id\":\"3376\"},\"group\":null,\"hover_glyph\":null,\"muted_glyph\":{\"id\":\"3378\"},\"nonselection_glyph\":{\"id\":\"3377\"},\"selection_glyph\":{\"id\":\"3381\"},\"view\":{\"id\":\"3380\"}},\"id\":\"3379\",\"type\":\"GlyphRenderer\"},{\"attributes\":{\"fill_alpha\":{\"value\":1.0},\"fill_color\":{\"value\":\"Orange\"},\"hatch_alpha\":{\"value\":1.0},\"hatch_color\":{\"value\":\"Orange\"},\"hatch_scale\":{\"value\":12.0},\"hatch_weight\":{\"value\":1.0},\"height\":{\"value\":0.8},\"left\":{\"value\":0},\"line_alpha\":{\"value\":1.0},\"line_cap\":{\"value\":\"butt\"},\"line_color\":{\"value\":\"black\"},\"line_dash\":{\"value\":[]},\"line_dash_offset\":{\"value\":0},\"line_join\":{\"value\":\"bevel\"},\"line_width\":{\"value\":1},\"right\":{\"field\":\"A_2017\"},\"y\":{\"field\":\"Areas\"}},\"id\":\"3240\",\"type\":\"HBar\"},{\"attributes\":{\"fill_alpha\":{\"value\":0.2},\"fill_color\":{\"value\":\"Turquoise\"},\"hatch_alpha\":{\"value\":0.2},\"hatch_color\":{\"value\":\"Turquoise\"},\"height\":{\"value\":0.8},\"line_alpha\":{\"value\":0.2},\"right\":{\"field\":\"A_2020\"},\"y\":{\"field\":\"Areas\"}},\"id\":\"3378\",\"type\":\"HBar\"},{\"attributes\":{},\"id\":\"3317\",\"type\":\"ResetTool\"},{\"attributes\":{\"source\":{\"id\":\"3279\"}},\"id\":\"3286\",\"type\":\"CDSView\"},{\"attributes\":{},\"id\":\"3386\",\"type\":\"CategoricalTickFormatter\"},{\"attributes\":{},\"id\":\"3314\",\"type\":\"PanTool\"},{\"attributes\":{},\"id\":\"3387\",\"type\":\"AllLabels\"},{\"attributes\":{\"overlay\":{\"id\":\"3365\"}},\"id\":\"3363\",\"type\":\"BoxZoomTool\"},{\"attributes\":{\"fill_alpha\":{\"value\":0.2},\"fill_color\":{\"value\":\"Pink\"},\"hatch_alpha\":{\"value\":0.2},\"hatch_color\":{\"value\":\"Pink\"},\"height\":{\"value\":0.8},\"line_alpha\":{\"value\":0.2},\"right\":{\"field\":\"A_2018\"},\"y\":{\"field\":\"Areas\"}},\"id\":\"3284\",\"type\":\"HBar\"},{\"attributes\":{},\"id\":\"3339\",\"type\":\"CategoricalTickFormatter\"},{\"attributes\":{},\"id\":\"3313\",\"type\":\"SaveTool\"},{\"attributes\":{\"bottom_units\":\"screen\",\"coordinates\":null,\"fill_alpha\":0.5,\"fill_color\":\"lightgrey\",\"group\":null,\"left_units\":\"screen\",\"level\":\"overlay\",\"line_alpha\":1.0,\"line_color\":\"black\",\"line_dash\":[4,4],\"line_width\":2,\"right_units\":\"screen\",\"syncable\":false,\"top_units\":\"screen\"},\"id\":\"3224\",\"type\":\"BoxAnnotation\"},{\"attributes\":{\"bottom_units\":\"screen\",\"coordinates\":null,\"fill_alpha\":0.5,\"fill_color\":\"lightgrey\",\"group\":null,\"left_units\":\"screen\",\"level\":\"overlay\",\"line_alpha\":1.0,\"line_color\":\"black\",\"line_dash\":[4,4],\"line_width\":2,\"right_units\":\"screen\",\"syncable\":false,\"top_units\":\"screen\"},\"id\":\"3318\",\"type\":\"BoxAnnotation\"},{\"attributes\":{},\"id\":\"3245\",\"type\":\"CategoricalTickFormatter\"},{\"attributes\":{},\"id\":\"3362\",\"type\":\"WheelZoomTool\"},{\"attributes\":{\"coordinates\":null,\"data_source\":{\"id\":\"3279\"},\"glyph\":{\"id\":\"3282\"},\"group\":null,\"hover_glyph\":null,\"muted_glyph\":{\"id\":\"3284\"},\"nonselection_glyph\":{\"id\":\"3283\"},\"selection_glyph\":{\"id\":\"3287\"},\"view\":{\"id\":\"3286\"}},\"id\":\"3285\",\"type\":\"GlyphRenderer\"},{\"attributes\":{\"fill_color\":{\"value\":\"Orange\"},\"hatch_color\":{\"value\":\"Orange\"},\"height\":{\"value\":0.8},\"right\":{\"field\":\"A_2017\"},\"y\":{\"field\":\"Areas\"}},\"id\":\"3235\",\"type\":\"HBar\"},{\"attributes\":{\"source\":{\"id\":\"3373\"}},\"id\":\"3380\",\"type\":\"CDSView\"},{\"attributes\":{\"tools\":[{\"id\":\"3296\"},{\"id\":\"3313\"},{\"id\":\"3314\"},{\"id\":\"3315\"},{\"id\":\"3316\"},{\"id\":\"3317\"}]},\"id\":\"3319\",\"type\":\"Toolbar\"},{\"attributes\":{},\"id\":\"3395\",\"type\":\"UnionRenderers\"},{\"attributes\":{},\"id\":\"3364\",\"type\":\"ResetTool\"},{\"attributes\":{\"fill_alpha\":{\"value\":1.0},\"fill_color\":{\"value\":\"Pink\"},\"hatch_alpha\":{\"value\":1.0},\"hatch_color\":{\"value\":\"Pink\"},\"hatch_scale\":{\"value\":12.0},\"hatch_weight\":{\"value\":1.0},\"height\":{\"value\":0.8},\"left\":{\"value\":0},\"line_alpha\":{\"value\":1.0},\"line_cap\":{\"value\":\"butt\"},\"line_color\":{\"value\":\"black\"},\"line_dash\":{\"value\":[]},\"line_dash_offset\":{\"value\":0},\"line_join\":{\"value\":\"bevel\"},\"line_width\":{\"value\":1},\"right\":{\"field\":\"A_2018\"},\"y\":{\"field\":\"Areas\"}},\"id\":\"3287\",\"type\":\"HBar\"},{\"attributes\":{},\"id\":\"3246\",\"type\":\"AllLabels\"},{\"attributes\":{\"source\":{\"id\":\"3326\"}},\"id\":\"3333\",\"type\":\"CDSView\"},{\"attributes\":{},\"id\":\"3361\",\"type\":\"PanTool\"},{\"attributes\":{\"tools\":[{\"id\":\"3202\"},{\"id\":\"3219\"},{\"id\":\"3220\"},{\"id\":\"3221\"},{\"id\":\"3222\"},{\"id\":\"3223\"}]},\"id\":\"3225\",\"type\":\"Toolbar\"},{\"attributes\":{},\"id\":\"3340\",\"type\":\"AllLabels\"},{\"attributes\":{\"below\":[{\"id\":\"3306\"}],\"center\":[{\"id\":\"3309\"},{\"id\":\"3312\"}],\"height\":300,\"left\":[{\"id\":\"3310\"}],\"margin\":null,\"min_border_bottom\":10,\"min_border_left\":10,\"min_border_right\":10,\"min_border_top\":10,\"renderers\":[{\"id\":\"3332\"}],\"sizing_mode\":\"fixed\",\"title\":{\"id\":\"3298\"},\"toolbar\":{\"id\":\"3319\"},\"toolbar_location\":null,\"width\":300,\"x_range\":{\"id\":\"3294\"},\"x_scale\":{\"id\":\"3302\"},\"y_range\":{\"id\":\"3201\"},\"y_scale\":{\"id\":\"3304\"}},\"id\":\"3297\",\"subtype\":\"Figure\",\"type\":\"Plot\"},{\"attributes\":{\"fill_alpha\":{\"value\":0.2},\"fill_color\":{\"value\":\"Yellow\"},\"hatch_alpha\":{\"value\":0.2},\"hatch_color\":{\"value\":\"Yellow\"},\"height\":{\"value\":0.8},\"line_alpha\":{\"value\":0.2},\"right\":{\"field\":\"A_2019\"},\"y\":{\"field\":\"Areas\"}},\"id\":\"3331\",\"type\":\"HBar\"},{\"attributes\":{\"axis\":{\"id\":\"3357\"},\"coordinates\":null,\"dimension\":1,\"grid_line_color\":null,\"group\":null,\"ticker\":null},\"id\":\"3359\",\"type\":\"Grid\"},{\"attributes\":{},\"id\":\"3360\",\"type\":\"SaveTool\"},{\"attributes\":{\"axis\":{\"id\":\"3216\"},\"coordinates\":null,\"dimension\":1,\"grid_line_color\":null,\"group\":null,\"ticker\":null},\"id\":\"3218\",\"type\":\"Grid\"},{\"attributes\":{\"axis\":{\"id\":\"3263\"},\"coordinates\":null,\"dimension\":1,\"grid_line_color\":null,\"group\":null,\"ticker\":null},\"id\":\"3265\",\"type\":\"Grid\"},{\"attributes\":{\"end\":127.5,\"reset_end\":127.5,\"reset_start\":0.0,\"tags\":[[[\"2020\",\"2020\",null]]]},\"id\":\"3341\",\"type\":\"Range1d\"},{\"attributes\":{\"bottom_units\":\"screen\",\"coordinates\":null,\"fill_alpha\":0.5,\"fill_color\":\"lightgrey\",\"group\":null,\"left_units\":\"screen\",\"level\":\"overlay\",\"line_alpha\":1.0,\"line_color\":\"black\",\"line_dash\":[4,4],\"line_width\":2,\"right_units\":\"screen\",\"syncable\":false,\"top_units\":\"screen\"},\"id\":\"3365\",\"type\":\"BoxAnnotation\"},{\"attributes\":{\"coordinates\":null,\"data_source\":{\"id\":\"3326\"},\"glyph\":{\"id\":\"3329\"},\"group\":null,\"hover_glyph\":null,\"muted_glyph\":{\"id\":\"3331\"},\"nonselection_glyph\":{\"id\":\"3330\"},\"selection_glyph\":{\"id\":\"3334\"},\"view\":{\"id\":\"3333\"}},\"id\":\"3332\",\"type\":\"GlyphRenderer\"},{\"attributes\":{\"tools\":[{\"id\":\"3343\"},{\"id\":\"3360\"},{\"id\":\"3361\"},{\"id\":\"3362\"},{\"id\":\"3363\"},{\"id\":\"3364\"}]},\"id\":\"3366\",\"type\":\"Toolbar\"},{\"attributes\":{},\"id\":\"3384\",\"type\":\"AllLabels\"},{\"attributes\":{\"fill_alpha\":{\"value\":0.1},\"fill_color\":{\"value\":\"Turquoise\"},\"hatch_alpha\":{\"value\":0.1},\"hatch_color\":{\"value\":\"Turquoise\"},\"height\":{\"value\":0.8},\"line_alpha\":{\"value\":0.1},\"right\":{\"field\":\"A_2020\"},\"y\":{\"field\":\"Areas\"}},\"id\":\"3377\",\"type\":\"HBar\"},{\"attributes\":{\"end\":122.67,\"reset_end\":122.67,\"reset_start\":0.0,\"tags\":[[[\"2019\",\"2019\",null]]]},\"id\":\"3294\",\"type\":\"Range1d\"},{\"attributes\":{\"fill_alpha\":{\"value\":1.0},\"fill_color\":{\"value\":\"Yellow\"},\"hatch_alpha\":{\"value\":1.0},\"hatch_color\":{\"value\":\"Yellow\"},\"hatch_scale\":{\"value\":12.0},\"hatch_weight\":{\"value\":1.0},\"height\":{\"value\":0.8},\"left\":{\"value\":0},\"line_alpha\":{\"value\":1.0},\"line_cap\":{\"value\":\"butt\"},\"line_color\":{\"value\":\"black\"},\"line_dash\":{\"value\":[]},\"line_dash_offset\":{\"value\":0},\"line_join\":{\"value\":\"bevel\"},\"line_width\":{\"value\":1},\"right\":{\"field\":\"A_2019\"},\"y\":{\"field\":\"Areas\"}},\"id\":\"3334\",\"type\":\"HBar\"},{\"attributes\":{\"end\":113.06,\"reset_end\":113.06,\"reset_start\":0.0,\"tags\":[[[\"2018\",\"2018\",null]]]},\"id\":\"3247\",\"type\":\"Range1d\"},{\"attributes\":{\"margin\":[5,5,5,5],\"name\":\"HSpacer04987\",\"sizing_mode\":\"stretch_width\"},\"id\":\"3199\",\"type\":\"Spacer\"},{\"attributes\":{},\"id\":\"3336\",\"type\":\"BasicTickFormatter\"},{\"attributes\":{\"axis_label\":\"2017\",\"coordinates\":null,\"formatter\":{\"id\":\"3242\"},\"group\":null,\"major_label_policy\":{\"id\":\"3243\"},\"ticker\":{\"id\":\"3213\"}},\"id\":\"3212\",\"type\":\"LinearAxis\"},{\"attributes\":{},\"id\":\"3358\",\"type\":\"CategoricalTicker\"},{\"attributes\":{\"axis\":{\"id\":\"3310\"},\"coordinates\":null,\"dimension\":1,\"grid_line_color\":null,\"group\":null,\"ticker\":null},\"id\":\"3312\",\"type\":\"Grid\"},{\"attributes\":{},\"id\":\"3417\",\"type\":\"UnionRenderers\"},{\"attributes\":{\"axis_label\":\"2018\",\"coordinates\":null,\"formatter\":{\"id\":\"3289\"},\"group\":null,\"major_label_policy\":{\"id\":\"3290\"},\"ticker\":{\"id\":\"3260\"}},\"id\":\"3259\",\"type\":\"LinearAxis\"},{\"attributes\":{},\"id\":\"3217\",\"type\":\"CategoricalTicker\"},{\"attributes\":{},\"id\":\"3243\",\"type\":\"AllLabels\"},{\"attributes\":{\"overlay\":{\"id\":\"3224\"}},\"id\":\"3222\",\"type\":\"BoxZoomTool\"},{\"attributes\":{},\"id\":\"3264\",\"type\":\"CategoricalTicker\"},{\"attributes\":{\"overlay\":{\"id\":\"3271\"}},\"id\":\"3269\",\"type\":\"BoxZoomTool\"},{\"attributes\":{\"fill_alpha\":{\"value\":1.0},\"fill_color\":{\"value\":\"Turquoise\"},\"hatch_alpha\":{\"value\":1.0},\"hatch_color\":{\"value\":\"Turquoise\"},\"hatch_scale\":{\"value\":12.0},\"hatch_weight\":{\"value\":1.0},\"height\":{\"value\":0.8},\"left\":{\"value\":0},\"line_alpha\":{\"value\":1.0},\"line_cap\":{\"value\":\"butt\"},\"line_color\":{\"value\":\"black\"},\"line_dash\":{\"value\":[]},\"line_dash_offset\":{\"value\":0},\"line_join\":{\"value\":\"bevel\"},\"line_width\":{\"value\":1},\"right\":{\"field\":\"A_2020\"},\"y\":{\"field\":\"Areas\"}},\"id\":\"3381\",\"type\":\"HBar\"},{\"attributes\":{\"children\":[[{\"id\":\"3203\"},0,0],[{\"id\":\"3250\"},0,1],[{\"id\":\"3297\"},0,2],[{\"id\":\"3344\"},0,3]]},\"id\":\"3432\",\"type\":\"GridBox\"},{\"attributes\":{\"axis\":{\"id\":\"3212\"},\"coordinates\":null,\"grid_line_color\":null,\"group\":null,\"ticker\":null},\"id\":\"3215\",\"type\":\"Grid\"},{\"attributes\":{},\"id\":\"3260\",\"type\":\"BasicTicker\"},{\"attributes\":{},\"id\":\"3221\",\"type\":\"WheelZoomTool\"},{\"attributes\":{},\"id\":\"3383\",\"type\":\"BasicTickFormatter\"},{\"attributes\":{},\"id\":\"3289\",\"type\":\"BasicTickFormatter\"},{\"attributes\":{\"axis_label\":\"\",\"coordinates\":null,\"formatter\":{\"id\":\"3245\"},\"group\":null,\"major_label_policy\":{\"id\":\"3246\"},\"ticker\":{\"id\":\"3217\"}},\"id\":\"3216\",\"type\":\"CategoricalAxis\"},{\"attributes\":{},\"id\":\"3354\",\"type\":\"BasicTicker\"},{\"attributes\":{\"children\":[{\"id\":\"3199\"},{\"id\":\"3435\"},{\"id\":\"3796\"}],\"margin\":[0,0,0,0],\"name\":\"Row04983\",\"tags\":[\"embedded\"]},\"id\":\"3198\",\"type\":\"Row\"},{\"attributes\":{},\"id\":\"3223\",\"type\":\"ResetTool\"},{\"attributes\":{},\"id\":\"3268\",\"type\":\"WheelZoomTool\"},{\"attributes\":{\"axis_label\":\"2020\",\"coordinates\":null,\"formatter\":{\"id\":\"3383\"},\"group\":null,\"major_label_policy\":{\"id\":\"3384\"},\"ticker\":{\"id\":\"3354\"}},\"id\":\"3353\",\"type\":\"LinearAxis\"},{\"attributes\":{},\"id\":\"3280\",\"type\":\"Selection\"},{\"attributes\":{\"coordinates\":null,\"group\":null,\"text\":\"City Affordability Index\",\"text_color\":\"black\",\"text_font_size\":\"12pt\"},\"id\":\"3204\",\"type\":\"Title\"},{\"attributes\":{},\"id\":\"3220\",\"type\":\"PanTool\"},{\"attributes\":{},\"id\":\"3270\",\"type\":\"ResetTool\"},{\"attributes\":{},\"id\":\"3374\",\"type\":\"Selection\"},{\"attributes\":{\"axis_label\":\"\",\"coordinates\":null,\"formatter\":{\"id\":\"3339\"},\"group\":null,\"major_label_policy\":{\"id\":\"3340\"},\"ticker\":{\"id\":\"3311\"}},\"id\":\"3310\",\"type\":\"CategoricalAxis\"},{\"attributes\":{},\"id\":\"3349\",\"type\":\"LinearScale\"},{\"attributes\":{\"axis_label\":\"\",\"coordinates\":null,\"formatter\":{\"id\":\"3292\"},\"group\":null,\"major_label_policy\":{\"id\":\"3293\"},\"ticker\":{\"id\":\"3264\"}},\"id\":\"3263\",\"type\":\"CategoricalAxis\"},{\"attributes\":{\"fill_color\":{\"value\":\"Turquoise\"},\"hatch_color\":{\"value\":\"Turquoise\"},\"height\":{\"value\":0.8},\"right\":{\"field\":\"A_2020\"},\"y\":{\"field\":\"Areas\"}},\"id\":\"3376\",\"type\":\"HBar\"},{\"attributes\":{},\"id\":\"3219\",\"type\":\"SaveTool\"},{\"attributes\":{},\"id\":\"3267\",\"type\":\"PanTool\"},{\"attributes\":{},\"id\":\"3351\",\"type\":\"CategoricalScale\"},{\"attributes\":{},\"id\":\"3311\",\"type\":\"CategoricalTicker\"},{\"attributes\":{\"axis\":{\"id\":\"3353\"},\"coordinates\":null,\"grid_line_color\":null,\"group\":null,\"ticker\":null},\"id\":\"3356\",\"type\":\"Grid\"},{\"attributes\":{\"overlay\":{\"id\":\"3318\"}},\"id\":\"3316\",\"type\":\"BoxZoomTool\"},{\"attributes\":{\"coordinates\":null,\"group\":null,\"text\":\"City Affordability Index\",\"text_color\":\"black\",\"text_font_size\":\"12pt\"},\"id\":\"3251\",\"type\":\"Title\"},{\"attributes\":{\"coordinates\":null,\"group\":null,\"text\":\"City Affordability Index\",\"text_color\":\"black\",\"text_font_size\":\"12pt\"},\"id\":\"3345\",\"type\":\"Title\"},{\"attributes\":{\"children\":[{\"id\":\"3434\"},{\"id\":\"3432\"}]},\"id\":\"3435\",\"type\":\"Column\"},{\"attributes\":{},\"id\":\"3266\",\"type\":\"SaveTool\"},{\"attributes\":{},\"id\":\"3213\",\"type\":\"BasicTicker\"},{\"attributes\":{\"axis\":{\"id\":\"3306\"},\"coordinates\":null,\"grid_line_color\":null,\"group\":null,\"ticker\":null},\"id\":\"3309\",\"type\":\"Grid\"},{\"attributes\":{\"axis\":{\"id\":\"3259\"},\"coordinates\":null,\"grid_line_color\":null,\"group\":null,\"ticker\":null},\"id\":\"3262\",\"type\":\"Grid\"},{\"attributes\":{},\"id\":\"3210\",\"type\":\"CategoricalScale\"}],\"root_ids\":[\"3198\"]},\"title\":\"Bokeh Application\",\"version\":\"2.4.1\"}};\n",
       "    var render_items = [{\"docid\":\"aebb8024-4d74-4f64-9d12-bca31e5498ac\",\"root_ids\":[\"3198\"],\"roots\":{\"3198\":\"7066a258-7dd7-40e4-afef-982052d8030b\"}}];\n",
       "    root.Bokeh.embed.embed_items_notebook(docs_json, render_items);\n",
       "  }\n",
       "  if (root.Bokeh !== undefined && root.Bokeh.Panel !== undefined) {\n",
       "    embed_document(root);\n",
       "  } else {\n",
       "    var attempts = 0;\n",
       "    var timer = setInterval(function(root) {\n",
       "      if (root.Bokeh !== undefined && root.Bokeh.Panel !== undefined) {\n",
       "        clearInterval(timer);\n",
       "        embed_document(root);\n",
       "      } else if (document.readyState == \"complete\") {\n",
       "        attempts++;\n",
       "        if (attempts > 200) {\n",
       "          clearInterval(timer);\n",
       "          console.log(\"Bokeh: ERROR: Unable to run BokehJS code because BokehJS library is missing\");\n",
       "        }\n",
       "      }\n",
       "    }, 25, root)\n",
       "  }\n",
       "})(window);</script>"
      ],
      "text/plain": [
       ":Layout\n",
       "   .Bars.A_2017 :Bars   [Areas]   (2017)\n",
       "   .Bars.A_2018 :Bars   [Areas]   (2018)\n",
       "   .Bars.A_2019 :Bars   [Areas]   (2019)\n",
       "   .Bars.A_2020 :Bars   [Areas]   (2020)"
      ]
     },
     "execution_count": 27,
     "metadata": {
      "application/vnd.holoviews_exec.v0+json": {
       "id": "3198"
      }
     },
     "output_type": "execute_result"
    }
   ],
   "source": [
    "#Creating year wise separate dataframes for city affordability indexs plotting\n",
    "df_2017 = city_index['2017'].hvplot.bar(\n",
    "    legend=True,\n",
    "    width=300,\n",
    "    height=300,\n",
    "    title='City Affordability Index',\n",
    "    color=\"Orange\").opts(invert_axes=True)\n",
    "df_2018 = city_index['2018'].hvplot.bar(\n",
    "    legend=True,\n",
    "    width=300, height=300,\n",
    "    title='City Affordability Index',\n",
    "    color=\"Pink\").opts(invert_axes=True)\n",
    "df_2019 = city_index['2019'].hvplot.bar(\n",
    "    legend=True,\n",
    "    width=300,\n",
    "    height=300,\n",
    "    title='City Affordability Index',\n",
    "    color=\"Yellow\").opts(invert_axes=True)\n",
    "df_2020 = city_index['2020'].hvplot.bar(\n",
    "    legend=True,\n",
    "    width=300,\n",
    "    height=300,\n",
    "    title='City Affordability Index',\n",
    "    color=\"Turquoise\").opts(invert_axes=True)\n",
    "\n",
    "#Plotting all year dataframes side by side for better Visualization and analysis\n",
    "df_2017 + df_2018 + df_2019 + df_2020"
   ]
  },
  {
   "cell_type": "markdown",
   "id": "a94d77bb-1fec-46e1-95b5-833ffd52fc4e",
   "metadata": {},
   "source": [
    "##### The above analysis shows houses in cities like Yakima, Lake Stevens, Snoqualmie, etc., can be easily affordable in comparison to the cities like Seattle, Bellevue, etc., which are becoming unaffordable. For example, in 2017, Bellevue's index of 70.0 would indicate that the typical household only has 70% of the income required to qualify for a mortgage on a median priced house, whereas Lake Stevens index of 118.0 means that a household earning the median family income has 118% of the income required to qualify for a conventional mortgage."
   ]
  },
  {
   "cell_type": "markdown",
   "id": "fc7f133d-b7f7-477e-926d-7adbe7f95bc2",
   "metadata": {},
   "source": [
    "## Housing Supply Analysis"
   ]
  },
  {
   "cell_type": "code",
   "execution_count": 28,
   "id": "e3ce295e-3df5-41e2-992f-2e24cc7a7255",
   "metadata": {},
   "outputs": [
    {
     "data": {
      "text/html": [
       "<div>\n",
       "<style scoped>\n",
       "    .dataframe tbody tr th:only-of-type {\n",
       "        vertical-align: middle;\n",
       "    }\n",
       "\n",
       "    .dataframe tbody tr th {\n",
       "        vertical-align: top;\n",
       "    }\n",
       "\n",
       "    .dataframe thead th {\n",
       "        text-align: right;\n",
       "    }\n",
       "</style>\n",
       "<table border=\"1\" class=\"dataframe\">\n",
       "  <thead>\n",
       "    <tr style=\"text-align: right;\">\n",
       "      <th>COUNTIES</th>\n",
       "      <th>King</th>\n",
       "      <th>Snohomish</th>\n",
       "      <th>Pierce</th>\n",
       "    </tr>\n",
       "    <tr>\n",
       "      <th>Date</th>\n",
       "      <th></th>\n",
       "      <th></th>\n",
       "      <th></th>\n",
       "    </tr>\n",
       "  </thead>\n",
       "  <tbody>\n",
       "    <tr>\n",
       "      <th>2016/17</th>\n",
       "      <td>14810.0</td>\n",
       "      <td>3556.0</td>\n",
       "      <td>4277.0</td>\n",
       "    </tr>\n",
       "    <tr>\n",
       "      <th>2017/18</th>\n",
       "      <td>15104.0</td>\n",
       "      <td>4768.0</td>\n",
       "      <td>3743.0</td>\n",
       "    </tr>\n",
       "    <tr>\n",
       "      <th>2018/19</th>\n",
       "      <td>18851.0</td>\n",
       "      <td>4230.0</td>\n",
       "      <td>3661.0</td>\n",
       "    </tr>\n",
       "    <tr>\n",
       "      <th>2019/20</th>\n",
       "      <td>17182.0</td>\n",
       "      <td>4479.0</td>\n",
       "      <td>4499.0</td>\n",
       "    </tr>\n",
       "    <tr>\n",
       "      <th>2020/21</th>\n",
       "      <td>15261.0</td>\n",
       "      <td>5220.0</td>\n",
       "      <td>4690.0</td>\n",
       "    </tr>\n",
       "  </tbody>\n",
       "</table>\n",
       "</div>"
      ],
      "text/plain": [
       "COUNTIES     King  Snohomish  Pierce\n",
       "Date                                \n",
       "2016/17   14810.0     3556.0  4277.0\n",
       "2017/18   15104.0     4768.0  3743.0\n",
       "2018/19   18851.0     4230.0  3661.0\n",
       "2019/20   17182.0     4479.0  4499.0\n",
       "2020/21   15261.0     5220.0  4690.0"
      ]
     },
     "metadata": {},
     "output_type": "display_data"
    }
   ],
   "source": [
    "b_df = building_completion_county_df[['Date','COUNTIES','Units_Completed']]\n",
    "b_df = pd.pivot_table(b_df,values='Units_Completed',\n",
    "                     index=['Date'],\n",
    "                     columns=['COUNTIES'])\n",
    "b_df = b_df[['King','Snohomish','Pierce']]\n",
    "display(b_df.head())"
   ]
  },
  {
   "cell_type": "code",
   "execution_count": 29,
   "id": "63fc6ce1-fffa-4e98-859a-00614d55cc9f",
   "metadata": {},
   "outputs": [
    {
     "data": {},
     "metadata": {},
     "output_type": "display_data"
    },
    {
     "data": {
      "application/vnd.holoviews_exec.v0+json": "",
      "text/html": [
       "<div id='3998'>\n",
       "\n",
       "\n",
       "\n",
       "\n",
       "\n",
       "  <div class=\"bk-root\" id=\"93110491-30b3-421f-baae-3663a11b82e3\" data-root-id=\"3998\"></div>\n",
       "</div>\n",
       "<script type=\"application/javascript\">(function(root) {\n",
       "  function embed_document(root) {\n",
       "    var docs_json = {\"0e0b9558-81f5-4569-936f-37b238a6f53a\":{\"defs\":[{\"extends\":null,\"module\":null,\"name\":\"ReactiveHTML1\",\"overrides\":[],\"properties\":[]},{\"extends\":null,\"module\":null,\"name\":\"FlexBox1\",\"overrides\":[],\"properties\":[{\"default\":\"flex-start\",\"kind\":null,\"name\":\"align_content\"},{\"default\":\"flex-start\",\"kind\":null,\"name\":\"align_items\"},{\"default\":\"row\",\"kind\":null,\"name\":\"flex_direction\"},{\"default\":\"wrap\",\"kind\":null,\"name\":\"flex_wrap\"},{\"default\":\"flex-start\",\"kind\":null,\"name\":\"justify_content\"}]},{\"extends\":null,\"module\":null,\"name\":\"TemplateActions1\",\"overrides\":[],\"properties\":[{\"default\":0,\"kind\":null,\"name\":\"open_modal\"},{\"default\":0,\"kind\":null,\"name\":\"close_modal\"}]},{\"extends\":null,\"module\":null,\"name\":\"MaterialTemplateActions1\",\"overrides\":[],\"properties\":[{\"default\":0,\"kind\":null,\"name\":\"open_modal\"},{\"default\":0,\"kind\":null,\"name\":\"close_modal\"}]}],\"roots\":{\"references\":[{\"attributes\":{\"margin\":[5,5,5,5],\"name\":\"HSpacer05517\",\"sizing_mode\":\"stretch_width\"},\"id\":\"3999\",\"type\":\"Spacer\"},{\"attributes\":{},\"id\":\"4010\",\"type\":\"LinearScale\"},{\"attributes\":{\"bottom_units\":\"screen\",\"coordinates\":null,\"fill_alpha\":0.5,\"fill_color\":\"lightgrey\",\"group\":null,\"left_units\":\"screen\",\"level\":\"overlay\",\"line_alpha\":1.0,\"line_color\":\"black\",\"line_dash\":[4,4],\"line_width\":2,\"right_units\":\"screen\",\"syncable\":false,\"top_units\":\"screen\"},\"id\":\"4024\",\"type\":\"BoxAnnotation\"},{\"attributes\":{\"bottom\":{\"value\":0},\"fill_alpha\":{\"value\":1.0},\"fill_color\":{\"field\":\"COUNTIES\",\"transform\":{\"id\":\"4032\"}},\"hatch_alpha\":{\"value\":1.0},\"hatch_color\":{\"field\":\"COUNTIES\",\"transform\":{\"id\":\"4032\"}},\"hatch_scale\":{\"value\":12.0},\"hatch_weight\":{\"value\":1.0},\"line_alpha\":{\"value\":1.0},\"line_cap\":{\"value\":\"butt\"},\"line_color\":{\"value\":\"black\"},\"line_dash\":{\"value\":[]},\"line_dash_offset\":{\"value\":0},\"line_join\":{\"value\":\"bevel\"},\"line_width\":{\"value\":1},\"top\":{\"field\":\"value\"},\"width\":{\"value\":0.8},\"x\":{\"field\":\"xoffsets\"}},\"id\":\"4041\",\"type\":\"VBar\"},{\"attributes\":{},\"id\":\"4019\",\"type\":\"SaveTool\"},{\"attributes\":{\"fill_alpha\":{\"value\":0.2},\"fill_color\":{\"field\":\"COUNTIES\",\"transform\":{\"id\":\"4032\"}},\"hatch_alpha\":{\"value\":0.2},\"hatch_color\":{\"field\":\"COUNTIES\",\"transform\":{\"id\":\"4032\"}},\"line_alpha\":{\"value\":0.2},\"top\":{\"field\":\"value\"},\"width\":{\"value\":0.8},\"x\":{\"field\":\"xoffsets\"}},\"id\":\"4038\",\"type\":\"VBar\"},{\"attributes\":{\"fill_alpha\":{\"value\":0.1},\"fill_color\":{\"field\":\"COUNTIES\",\"transform\":{\"id\":\"4032\"}},\"hatch_alpha\":{\"value\":0.1},\"hatch_color\":{\"field\":\"COUNTIES\",\"transform\":{\"id\":\"4032\"}},\"line_alpha\":{\"value\":0.1},\"top\":{\"field\":\"value\"},\"width\":{\"value\":0.8},\"x\":{\"field\":\"xoffsets\"}},\"id\":\"4037\",\"type\":\"VBar\"},{\"attributes\":{\"end\":20380.5,\"reset_end\":20380.5,\"reset_start\":0.0,\"tags\":[[[\"value\",\"value\",null]]]},\"id\":\"4001\",\"type\":\"Range1d\"},{\"attributes\":{},\"id\":\"4020\",\"type\":\"PanTool\"},{\"attributes\":{},\"id\":\"4013\",\"type\":\"CategoricalTicker\"},{\"attributes\":{\"fill_color\":{\"field\":\"COUNTIES\",\"transform\":{\"id\":\"4032\"}},\"hatch_color\":{\"field\":\"COUNTIES\",\"transform\":{\"id\":\"4032\"}},\"top\":{\"field\":\"value\"},\"width\":{\"value\":0.8},\"x\":{\"field\":\"xoffsets\"}},\"id\":\"4036\",\"type\":\"VBar\"},{\"attributes\":{\"below\":[{\"id\":\"4012\"}],\"center\":[{\"id\":\"4014\"},{\"id\":\"4018\"}],\"height\":300,\"left\":[{\"id\":\"4015\"}],\"margin\":[5,5,5,5],\"min_border_bottom\":10,\"min_border_left\":10,\"min_border_right\":10,\"min_border_top\":10,\"renderers\":[{\"id\":\"4039\"}],\"sizing_mode\":\"fixed\",\"title\":{\"id\":\"4004\"},\"toolbar\":{\"id\":\"4025\"},\"width\":700,\"x_range\":{\"id\":\"4000\"},\"x_scale\":{\"id\":\"4008\"},\"y_range\":{\"id\":\"4001\"},\"y_scale\":{\"id\":\"4010\"}},\"id\":\"4003\",\"subtype\":\"Figure\",\"type\":\"Plot\"},{\"attributes\":{\"coordinates\":null,\"data_source\":{\"id\":\"4033\"},\"glyph\":{\"id\":\"4036\"},\"group\":null,\"hover_glyph\":null,\"muted_glyph\":{\"id\":\"4038\"},\"nonselection_glyph\":{\"id\":\"4037\"},\"selection_glyph\":{\"id\":\"4041\"},\"view\":{\"id\":\"4040\"}},\"id\":\"4039\",\"type\":\"GlyphRenderer\"},{\"attributes\":{\"source\":{\"id\":\"4033\"}},\"id\":\"4040\",\"type\":\"CDSView\"},{\"attributes\":{\"axis_label\":\"Year\",\"coordinates\":null,\"formatter\":{\"id\":\"4044\"},\"group\":null,\"major_label_orientation\":0.5235987755982988,\"major_label_policy\":{\"id\":\"4045\"},\"ticker\":{\"id\":\"4013\"}},\"id\":\"4012\",\"type\":\"CategoricalAxis\"},{\"attributes\":{},\"id\":\"4023\",\"type\":\"ResetTool\"},{\"attributes\":{\"axis\":{\"id\":\"4012\"},\"coordinates\":null,\"grid_line_color\":null,\"group\":null,\"ticker\":null},\"id\":\"4014\",\"type\":\"Grid\"},{\"attributes\":{\"data\":{\"COUNTIES\":[\"King\",\"King\",\"King\",\"King\",\"King\",\"Snohomish\",\"Snohomish\",\"Snohomish\",\"Snohomish\",\"Snohomish\",\"Pierce\",\"Pierce\",\"Pierce\",\"Pierce\",\"Pierce\"],\"Date\":[\"2016/17\",\"2017/18\",\"2018/19\",\"2019/20\",\"2020/21\",\"2016/17\",\"2017/18\",\"2018/19\",\"2019/20\",\"2020/21\",\"2016/17\",\"2017/18\",\"2018/19\",\"2019/20\",\"2020/21\"],\"value\":{\"__ndarray__\":\"AAAAAADtzEAAAAAAAIDNQAAAAADAaNJAAAAAAIDH0EAAAAAAgM7NQAAAAAAAyKtAAAAAAACgskAAAAAAAIawQAAAAAAAf7FAAAAAAABktEAAAAAAALWwQAAAAAAAPq1AAAAAAACarEAAAAAAAJOxQAAAAAAAUrJA\",\"dtype\":\"float64\",\"order\":\"little\",\"shape\":[15]},\"xoffsets\":[[\"2016/17\",\"King\"],[\"2017/18\",\"King\"],[\"2018/19\",\"King\"],[\"2019/20\",\"King\"],[\"2020/21\",\"King\"],[\"2016/17\",\"Snohomish\"],[\"2017/18\",\"Snohomish\"],[\"2018/19\",\"Snohomish\"],[\"2019/20\",\"Snohomish\"],[\"2020/21\",\"Snohomish\"],[\"2016/17\",\"Pierce\"],[\"2017/18\",\"Pierce\"],[\"2018/19\",\"Pierce\"],[\"2019/20\",\"Pierce\"],[\"2020/21\",\"Pierce\"]]},\"selected\":{\"id\":\"4034\"},\"selection_policy\":{\"id\":\"4057\"}},\"id\":\"4033\",\"type\":\"ColumnDataSource\"},{\"attributes\":{\"factors\":[\"King\",\"Snohomish\",\"Pierce\"],\"palette\":[\"#30a2da\",\"#fc4f30\",\"#e5ae38\"]},\"id\":\"4032\",\"type\":\"CategoricalColorMapper\"},{\"attributes\":{\"children\":[{\"id\":\"3999\"},{\"id\":\"4003\"},{\"id\":\"4069\"}],\"margin\":[0,0,0,0],\"name\":\"Row05513\",\"tags\":[\"embedded\"]},\"id\":\"3998\",\"type\":\"Row\"},{\"attributes\":{},\"id\":\"4021\",\"type\":\"WheelZoomTool\"},{\"attributes\":{},\"id\":\"4048\",\"type\":\"AllLabels\"},{\"attributes\":{\"coordinates\":null,\"group\":null,\"text\":\"County Units Completed by Year\",\"text_color\":\"black\",\"text_font_size\":\"12pt\"},\"id\":\"4004\",\"type\":\"Title\"},{\"attributes\":{\"overlay\":{\"id\":\"4024\"}},\"id\":\"4022\",\"type\":\"BoxZoomTool\"},{\"attributes\":{},\"id\":\"4008\",\"type\":\"CategoricalScale\"},{\"attributes\":{\"axis_label\":\"Units Completed\",\"coordinates\":null,\"formatter\":{\"id\":\"4042\"},\"group\":null,\"major_label_policy\":{\"id\":\"4048\"},\"ticker\":{\"id\":\"4016\"}},\"id\":\"4015\",\"type\":\"LinearAxis\"},{\"attributes\":{},\"id\":\"4057\",\"type\":\"UnionRenderers\"},{\"attributes\":{},\"id\":\"4034\",\"type\":\"Selection\"},{\"attributes\":{},\"id\":\"4044\",\"type\":\"CategoricalTickFormatter\"},{\"attributes\":{\"factors\":[[\"2016/17\",\"Pierce\"],[\"2016/17\",\"Snohomish\"],[\"2016/17\",\"King\"],[\"2017/18\",\"Pierce\"],[\"2017/18\",\"Snohomish\"],[\"2017/18\",\"King\"],[\"2018/19\",\"Pierce\"],[\"2018/19\",\"Snohomish\"],[\"2018/19\",\"King\"],[\"2019/20\",\"Pierce\"],[\"2019/20\",\"Snohomish\"],[\"2019/20\",\"King\"],[\"2020/21\",\"Pierce\"],[\"2020/21\",\"Snohomish\"],[\"2020/21\",\"King\"]],\"tags\":[[[\"Date\",\"Date\",null],[\"COUNTIES\",\"COUNTIES\",null]]]},\"id\":\"4000\",\"type\":\"FactorRange\"},{\"attributes\":{},\"id\":\"4016\",\"type\":\"BasicTicker\"},{\"attributes\":{\"format\":\"%.0f\"},\"id\":\"4042\",\"type\":\"PrintfTickFormatter\"},{\"attributes\":{},\"id\":\"4045\",\"type\":\"AllLabels\"},{\"attributes\":{\"margin\":[5,5,5,5],\"name\":\"HSpacer05518\",\"sizing_mode\":\"stretch_width\"},\"id\":\"4069\",\"type\":\"Spacer\"},{\"attributes\":{\"axis\":{\"id\":\"4015\"},\"coordinates\":null,\"dimension\":1,\"grid_line_color\":null,\"group\":null,\"ticker\":null},\"id\":\"4018\",\"type\":\"Grid\"},{\"attributes\":{\"callback\":null,\"renderers\":[{\"id\":\"4039\"}],\"tags\":[\"hv_created\"],\"tooltips\":[[\"Date\",\"@{Date}\"],[\"COUNTIES\",\"@{COUNTIES}\"],[\"value\",\"@{value}\"]]},\"id\":\"4002\",\"type\":\"HoverTool\"},{\"attributes\":{\"tools\":[{\"id\":\"4002\"},{\"id\":\"4019\"},{\"id\":\"4020\"},{\"id\":\"4021\"},{\"id\":\"4022\"},{\"id\":\"4023\"}]},\"id\":\"4025\",\"type\":\"Toolbar\"}],\"root_ids\":[\"3998\"]},\"title\":\"Bokeh Application\",\"version\":\"2.4.1\"}};\n",
       "    var render_items = [{\"docid\":\"0e0b9558-81f5-4569-936f-37b238a6f53a\",\"root_ids\":[\"3998\"],\"roots\":{\"3998\":\"93110491-30b3-421f-baae-3663a11b82e3\"}}];\n",
       "    root.Bokeh.embed.embed_items_notebook(docs_json, render_items);\n",
       "  }\n",
       "  if (root.Bokeh !== undefined && root.Bokeh.Panel !== undefined) {\n",
       "    embed_document(root);\n",
       "  } else {\n",
       "    var attempts = 0;\n",
       "    var timer = setInterval(function(root) {\n",
       "      if (root.Bokeh !== undefined && root.Bokeh.Panel !== undefined) {\n",
       "        clearInterval(timer);\n",
       "        embed_document(root);\n",
       "      } else if (document.readyState == \"complete\") {\n",
       "        attempts++;\n",
       "        if (attempts > 200) {\n",
       "          clearInterval(timer);\n",
       "          console.log(\"Bokeh: ERROR: Unable to run BokehJS code because BokehJS library is missing\");\n",
       "        }\n",
       "      }\n",
       "    }, 25, root)\n",
       "  }\n",
       "})(window);</script>"
      ],
      "text/plain": [
       ":Bars   [Date,COUNTIES]   (value)"
      ]
     },
     "execution_count": 29,
     "metadata": {
      "application/vnd.holoviews_exec.v0+json": {
       "id": "3998"
      }
     },
     "output_type": "execute_result"
    }
   ],
   "source": [
    "#Creating a bar plot for the three counties \n",
    "b_df.hvplot.bar(\n",
    "    xlabel='Year',\n",
    "    ylabel='Units Completed',\n",
    "    title='County Units Completed by Year',\n",
    "    rot=30,    \n",
    ").opts(yformatter='%.0f')"
   ]
  },
  {
   "cell_type": "markdown",
   "id": "45f131a2-81eb-4261-83b5-39a390b11346",
   "metadata": {},
   "source": [
    "##### The number of units completed for Snohomish and Pierce has slightly increased from 2020 whereas King had a decrease since 2019. This may have happened due to the shortage of supply related to Covid and is more visible in a central county like King with a larger market. "
   ]
  },
  {
   "cell_type": "markdown",
   "id": "7004da34-69fd-4021-b954-700769dbe719",
   "metadata": {
    "tags": []
   },
   "source": [
    "# Calculating Single Family Rental Returns by County"
   ]
  },
  {
   "cell_type": "markdown",
   "id": "3e90ba50-540d-4f17-a24c-cdb79ca940d2",
   "metadata": {},
   "source": [
    "### Monthly housing Investment yield for each county"
   ]
  },
  {
   "cell_type": "code",
   "execution_count": 30,
   "id": "81ac774e-505f-4976-b3bc-5325303f71d0",
   "metadata": {},
   "outputs": [
    {
     "data": {
      "text/html": [
       "<div>\n",
       "<style scoped>\n",
       "    .dataframe tbody tr th:only-of-type {\n",
       "        vertical-align: middle;\n",
       "    }\n",
       "\n",
       "    .dataframe tbody tr th {\n",
       "        vertical-align: top;\n",
       "    }\n",
       "\n",
       "    .dataframe thead th {\n",
       "        text-align: right;\n",
       "    }\n",
       "</style>\n",
       "<table border=\"1\" class=\"dataframe\">\n",
       "  <thead>\n",
       "    <tr style=\"text-align: right;\">\n",
       "      <th></th>\n",
       "      <th>county_fips</th>\n",
       "      <th>county_name</th>\n",
       "      <th>median_listing_price_per_square_foot_mm</th>\n",
       "      <th>percent_median_listing_price_per_square_foot_mm</th>\n",
       "    </tr>\n",
       "  </thead>\n",
       "  <tbody>\n",
       "    <tr>\n",
       "      <th>2534</th>\n",
       "      <td>53001</td>\n",
       "      <td>Adams</td>\n",
       "      <td>-0.0399</td>\n",
       "      <td>-3.99</td>\n",
       "    </tr>\n",
       "    <tr>\n",
       "      <th>2535</th>\n",
       "      <td>53003</td>\n",
       "      <td>Asotin</td>\n",
       "      <td>0.0834</td>\n",
       "      <td>8.34</td>\n",
       "    </tr>\n",
       "    <tr>\n",
       "      <th>2536</th>\n",
       "      <td>53005</td>\n",
       "      <td>Benton</td>\n",
       "      <td>0.0401</td>\n",
       "      <td>4.01</td>\n",
       "    </tr>\n",
       "    <tr>\n",
       "      <th>2537</th>\n",
       "      <td>53007</td>\n",
       "      <td>Chelan</td>\n",
       "      <td>0.0082</td>\n",
       "      <td>0.82</td>\n",
       "    </tr>\n",
       "    <tr>\n",
       "      <th>2538</th>\n",
       "      <td>53009</td>\n",
       "      <td>Clallam</td>\n",
       "      <td>0.0232</td>\n",
       "      <td>2.32</td>\n",
       "    </tr>\n",
       "  </tbody>\n",
       "</table>\n",
       "</div>"
      ],
      "text/plain": [
       "      county_fips county_name  median_listing_price_per_square_foot_mm  \\\n",
       "2534        53001       Adams                                  -0.0399   \n",
       "2535        53003      Asotin                                   0.0834   \n",
       "2536        53005      Benton                                   0.0401   \n",
       "2537        53007      Chelan                                   0.0082   \n",
       "2538        53009     Clallam                                   0.0232   \n",
       "\n",
       "      percent_median_listing_price_per_square_foot_mm  \n",
       "2534                                            -3.99  \n",
       "2535                                             8.34  \n",
       "2536                                             4.01  \n",
       "2537                                             0.82  \n",
       "2538                                             2.32  "
      ]
     },
     "execution_count": 30,
     "metadata": {},
     "output_type": "execute_result"
    }
   ],
   "source": [
    "# Monthly Housing Yield is `median_listing_price_per_square_foot_mm`(change in monthly median price compared to previous month)for latest month ie., `2021-12-01`\n",
    "housing_yield = wa_house_listing_county_df[wa_house_listing_county_df['Date'] == '2021-12-01']\n",
    "housing_yield = housing_yield[['county_fips','county_name','median_listing_price_per_square_foot_mm']]\n",
    "housing_yield['percent_median_listing_price_per_square_foot_mm'] = housing_yield['median_listing_price_per_square_foot_mm'] * 100\n",
    "housing_yield.head(5)"
   ]
  },
  {
   "cell_type": "markdown",
   "id": "6494bf0a-8ec6-4147-8c12-3c83ff0fdcf4",
   "metadata": {
    "tags": []
   },
   "source": [
    "### Calculating Monthly Rental Yield"
   ]
  },
  {
   "cell_type": "markdown",
   "id": "9f4ea168-b6b6-4d4d-8e44-0ba1f415870b",
   "metadata": {},
   "source": [
    "Monthly Rental_Yield = ( Monthly Average Rent  / Monthly Average Listing Price ) * 100"
   ]
  },
  {
   "cell_type": "code",
   "execution_count": 31,
   "id": "015ce675-7cb0-466f-85fd-07ee55e11e22",
   "metadata": {},
   "outputs": [
    {
     "data": {
      "text/html": [
       "<div>\n",
       "<style scoped>\n",
       "    .dataframe tbody tr th:only-of-type {\n",
       "        vertical-align: middle;\n",
       "    }\n",
       "\n",
       "    .dataframe tbody tr th {\n",
       "        vertical-align: top;\n",
       "    }\n",
       "\n",
       "    .dataframe thead th {\n",
       "        text-align: right;\n",
       "    }\n",
       "</style>\n",
       "<table border=\"1\" class=\"dataframe\">\n",
       "  <thead>\n",
       "    <tr style=\"text-align: right;\">\n",
       "      <th></th>\n",
       "      <th>Date</th>\n",
       "      <th>County_Name</th>\n",
       "      <th>FIPS_Code</th>\n",
       "      <th>Average_Rental_Price</th>\n",
       "    </tr>\n",
       "  </thead>\n",
       "  <tbody>\n",
       "    <tr>\n",
       "      <th>532</th>\n",
       "      <td>2021-12-01</td>\n",
       "      <td>Clark</td>\n",
       "      <td>53011</td>\n",
       "      <td>1743.0</td>\n",
       "    </tr>\n",
       "    <tr>\n",
       "      <th>533</th>\n",
       "      <td>2021-12-01</td>\n",
       "      <td>Grant</td>\n",
       "      <td>53025</td>\n",
       "      <td>1094.0</td>\n",
       "    </tr>\n",
       "    <tr>\n",
       "      <th>534</th>\n",
       "      <td>2021-12-01</td>\n",
       "      <td>King</td>\n",
       "      <td>53033</td>\n",
       "      <td>1928.0</td>\n",
       "    </tr>\n",
       "    <tr>\n",
       "      <th>535</th>\n",
       "      <td>2021-12-01</td>\n",
       "      <td>Kitsap</td>\n",
       "      <td>53035</td>\n",
       "      <td>2049.0</td>\n",
       "    </tr>\n",
       "    <tr>\n",
       "      <th>536</th>\n",
       "      <td>2021-12-01</td>\n",
       "      <td>Pierce</td>\n",
       "      <td>53053</td>\n",
       "      <td>1764.0</td>\n",
       "    </tr>\n",
       "  </tbody>\n",
       "</table>\n",
       "</div>"
      ],
      "text/plain": [
       "          Date County_Name  FIPS_Code  Average_Rental_Price\n",
       "532 2021-12-01       Clark      53011                1743.0\n",
       "533 2021-12-01       Grant      53025                1094.0\n",
       "534 2021-12-01        King      53033                1928.0\n",
       "535 2021-12-01      Kitsap      53035                2049.0\n",
       "536 2021-12-01      Pierce      53053                1764.0"
      ]
     },
     "execution_count": 31,
     "metadata": {},
     "output_type": "execute_result"
    }
   ],
   "source": [
    "# Monthly Average Rent is `Average_Rental_Price` for latest month ie., `2021-12-01`\n",
    "monthly_rental_return = rental_county_df[rental_county_df['Date'] == '2021-12-01']\n",
    "monthly_rental_return.head()"
   ]
  },
  {
   "cell_type": "code",
   "execution_count": 32,
   "id": "e5cb484c-3d01-4859-a3ff-6704d07aef0c",
   "metadata": {},
   "outputs": [],
   "source": [
    "# Monthly Average Listing Price is `average_listing_price` for latest month ie., `2021-12-01`\n",
    "avg_housing_price = wa_house_listing_county_df[wa_house_listing_county_df['Date'] == '2021-12-01']\n",
    "avg_housing_price = avg_housing_price[['county_fips','average_listing_price']]"
   ]
  },
  {
   "cell_type": "code",
   "execution_count": 33,
   "id": "b40f8710-227c-4aed-a13a-425b49724bc2",
   "metadata": {},
   "outputs": [
    {
     "data": {
      "text/html": [
       "<div>\n",
       "<style scoped>\n",
       "    .dataframe tbody tr th:only-of-type {\n",
       "        vertical-align: middle;\n",
       "    }\n",
       "\n",
       "    .dataframe tbody tr th {\n",
       "        vertical-align: top;\n",
       "    }\n",
       "\n",
       "    .dataframe thead th {\n",
       "        text-align: right;\n",
       "    }\n",
       "</style>\n",
       "<table border=\"1\" class=\"dataframe\">\n",
       "  <thead>\n",
       "    <tr style=\"text-align: right;\">\n",
       "      <th></th>\n",
       "      <th>FIPS_Code</th>\n",
       "      <th>County_Name</th>\n",
       "      <th>Average_Rental_Price</th>\n",
       "      <th>average_listing_price</th>\n",
       "      <th>yield</th>\n",
       "    </tr>\n",
       "  </thead>\n",
       "  <tbody>\n",
       "    <tr>\n",
       "      <th>0</th>\n",
       "      <td>53011</td>\n",
       "      <td>Clark</td>\n",
       "      <td>1743.0</td>\n",
       "      <td>7.109377e+05</td>\n",
       "      <td>0.245169</td>\n",
       "    </tr>\n",
       "    <tr>\n",
       "      <th>1</th>\n",
       "      <td>53025</td>\n",
       "      <td>Grant</td>\n",
       "      <td>1094.0</td>\n",
       "      <td>4.532759e+05</td>\n",
       "      <td>0.241354</td>\n",
       "    </tr>\n",
       "    <tr>\n",
       "      <th>2</th>\n",
       "      <td>53033</td>\n",
       "      <td>King</td>\n",
       "      <td>1928.0</td>\n",
       "      <td>1.120119e+06</td>\n",
       "      <td>0.172125</td>\n",
       "    </tr>\n",
       "    <tr>\n",
       "      <th>3</th>\n",
       "      <td>53035</td>\n",
       "      <td>Kitsap</td>\n",
       "      <td>2049.0</td>\n",
       "      <td>7.898085e+05</td>\n",
       "      <td>0.259430</td>\n",
       "    </tr>\n",
       "    <tr>\n",
       "      <th>4</th>\n",
       "      <td>53053</td>\n",
       "      <td>Pierce</td>\n",
       "      <td>1764.0</td>\n",
       "      <td>6.721828e+05</td>\n",
       "      <td>0.262429</td>\n",
       "    </tr>\n",
       "  </tbody>\n",
       "</table>\n",
       "</div>"
      ],
      "text/plain": [
       "   FIPS_Code County_Name  Average_Rental_Price  average_listing_price  \\\n",
       "0      53011       Clark                1743.0           7.109377e+05   \n",
       "1      53025       Grant                1094.0           4.532759e+05   \n",
       "2      53033        King                1928.0           1.120119e+06   \n",
       "3      53035      Kitsap                2049.0           7.898085e+05   \n",
       "4      53053      Pierce                1764.0           6.721828e+05   \n",
       "\n",
       "      yield  \n",
       "0  0.245169  \n",
       "1  0.241354  \n",
       "2  0.172125  \n",
       "3  0.259430  \n",
       "4  0.262429  "
      ]
     },
     "execution_count": 33,
     "metadata": {},
     "output_type": "execute_result"
    }
   ],
   "source": [
    "#Calculating rental_yield using the formula `rental_yield_df[Average_Rental_Price] / rental_yield_df[average_listing_price]`\n",
    "\n",
    "rental_yield_df = pd.merge(monthly_rental_return, avg_housing_price, left_on='FIPS_Code', right_on='county_fips')\n",
    "rental_yield_df['yield'] = rental_yield_df['Average_Rental_Price'] / rental_yield_df['average_listing_price']\n",
    "rental_yield_df['yield'] = rental_yield_df['yield'] * 100\n",
    "rental_yield_df = rental_yield_df[['FIPS_Code','County_Name','Average_Rental_Price','average_listing_price','yield']]\n",
    "rental_yield_df.head()"
   ]
  },
  {
   "cell_type": "markdown",
   "id": "e893fb62-cb78-4b73-80c9-36840fb91daf",
   "metadata": {},
   "source": [
    "### Calculating Annualized Total Return"
   ]
  },
  {
   "cell_type": "markdown",
   "id": "168ea48f-7b47-4d39-9b9e-e1d68c897742",
   "metadata": {},
   "source": [
    "Annualized Total Return = ( House_Value_Monthly_Yield  + Rental_Yield ) * 12"
   ]
  },
  {
   "cell_type": "code",
   "execution_count": 34,
   "id": "5df78511-6fef-4a3e-bb9d-bfaa672d41db",
   "metadata": {},
   "outputs": [
    {
     "data": {
      "text/html": [
       "<div>\n",
       "<style scoped>\n",
       "    .dataframe tbody tr th:only-of-type {\n",
       "        vertical-align: middle;\n",
       "    }\n",
       "\n",
       "    .dataframe tbody tr th {\n",
       "        vertical-align: top;\n",
       "    }\n",
       "\n",
       "    .dataframe thead th {\n",
       "        text-align: right;\n",
       "    }\n",
       "</style>\n",
       "<table border=\"1\" class=\"dataframe\">\n",
       "  <thead>\n",
       "    <tr style=\"text-align: right;\">\n",
       "      <th></th>\n",
       "      <th>county_name</th>\n",
       "      <th>FIPS_Code</th>\n",
       "      <th>total_yield</th>\n",
       "      <th>annualized_total_yield</th>\n",
       "      <th>INTPTLAT</th>\n",
       "      <th>INTPTLONG</th>\n",
       "    </tr>\n",
       "  </thead>\n",
       "  <tbody>\n",
       "    <tr>\n",
       "      <th>0</th>\n",
       "      <td>Clark</td>\n",
       "      <td>53011</td>\n",
       "      <td>0.515169</td>\n",
       "      <td>6.182030</td>\n",
       "      <td>45.771730</td>\n",
       "      <td>-122.485953</td>\n",
       "    </tr>\n",
       "    <tr>\n",
       "      <th>1</th>\n",
       "      <td>Grant</td>\n",
       "      <td>53025</td>\n",
       "      <td>0.581354</td>\n",
       "      <td>6.976249</td>\n",
       "      <td>47.213633</td>\n",
       "      <td>-119.467788</td>\n",
       "    </tr>\n",
       "    <tr>\n",
       "      <th>2</th>\n",
       "      <td>King</td>\n",
       "      <td>53033</td>\n",
       "      <td>1.492125</td>\n",
       "      <td>17.905495</td>\n",
       "      <td>47.490552</td>\n",
       "      <td>-121.833977</td>\n",
       "    </tr>\n",
       "    <tr>\n",
       "      <th>3</th>\n",
       "      <td>Kitsap</td>\n",
       "      <td>53035</td>\n",
       "      <td>0.139430</td>\n",
       "      <td>1.673160</td>\n",
       "      <td>47.639595</td>\n",
       "      <td>-122.649634</td>\n",
       "    </tr>\n",
       "    <tr>\n",
       "      <th>4</th>\n",
       "      <td>Pierce</td>\n",
       "      <td>53053</td>\n",
       "      <td>2.602429</td>\n",
       "      <td>31.229143</td>\n",
       "      <td>47.051413</td>\n",
       "      <td>-122.153240</td>\n",
       "    </tr>\n",
       "    <tr>\n",
       "      <th>5</th>\n",
       "      <td>Snohomish</td>\n",
       "      <td>53061</td>\n",
       "      <td>1.142906</td>\n",
       "      <td>13.714871</td>\n",
       "      <td>48.054913</td>\n",
       "      <td>-121.765038</td>\n",
       "    </tr>\n",
       "    <tr>\n",
       "      <th>6</th>\n",
       "      <td>Spokane</td>\n",
       "      <td>53063</td>\n",
       "      <td>2.302158</td>\n",
       "      <td>27.625890</td>\n",
       "      <td>47.620375</td>\n",
       "      <td>-117.403371</td>\n",
       "    </tr>\n",
       "    <tr>\n",
       "      <th>7</th>\n",
       "      <td>Thurston</td>\n",
       "      <td>53067</td>\n",
       "      <td>1.991779</td>\n",
       "      <td>23.901348</td>\n",
       "      <td>46.935822</td>\n",
       "      <td>-122.830152</td>\n",
       "    </tr>\n",
       "  </tbody>\n",
       "</table>\n",
       "</div>"
      ],
      "text/plain": [
       "  county_name  FIPS_Code  total_yield  annualized_total_yield   INTPTLAT  \\\n",
       "0       Clark      53011     0.515169                6.182030  45.771730   \n",
       "1       Grant      53025     0.581354                6.976249  47.213633   \n",
       "2        King      53033     1.492125               17.905495  47.490552   \n",
       "3      Kitsap      53035     0.139430                1.673160  47.639595   \n",
       "4      Pierce      53053     2.602429               31.229143  47.051413   \n",
       "5   Snohomish      53061     1.142906               13.714871  48.054913   \n",
       "6     Spokane      53063     2.302158               27.625890  47.620375   \n",
       "7    Thurston      53067     1.991779               23.901348  46.935822   \n",
       "\n",
       "    INTPTLONG  \n",
       "0 -122.485953  \n",
       "1 -119.467788  \n",
       "2 -121.833977  \n",
       "3 -122.649634  \n",
       "4 -122.153240  \n",
       "5 -121.765038  \n",
       "6 -117.403371  \n",
       "7 -122.830152  "
      ]
     },
     "execution_count": 34,
     "metadata": {},
     "output_type": "execute_result"
    }
   ],
   "source": [
    "# Merging Monthly housing Investment yield and Monthly Rental Yield For Each County\n",
    "annualized_total_return = pd.merge(housing_yield, rental_yield_df, left_on='county_fips', right_on='FIPS_Code')\n",
    "annualized_total_return = annualized_total_return[['county_name','FIPS_Code','percent_median_listing_price_per_square_foot_mm','yield']]\n",
    "annualized_total_return['total_yield'] = annualized_total_return['percent_median_listing_price_per_square_foot_mm'] + annualized_total_return['yield']\n",
    "annualized_total_return['annualized_total_yield'] = annualized_total_return['total_yield'] * 12\n",
    "annualized_total_return = pd.merge(left=annualized_total_return, \n",
    "                       right=geocode_df,\n",
    "                       left_on='FIPS_Code',\n",
    "                       right_on='GEOID',\n",
    "                       )\n",
    "annualized_total_return = annualized_total_return[['county_name', 'FIPS_Code','total_yield',\n",
    "       'annualized_total_yield', 'INTPTLAT', 'INTPTLONG']]\n",
    "\n",
    "annualized_total_return"
   ]
  },
  {
   "cell_type": "code",
   "execution_count": 35,
   "id": "280ace87-fb51-4c33-8151-54b9f7b81f1e",
   "metadata": {},
   "outputs": [
    {
     "data": {},
     "metadata": {},
     "output_type": "display_data"
    },
    {
     "data": {
      "application/vnd.holoviews_exec.v0+json": "",
      "text/html": [
       "<div id='4118'>\n",
       "\n",
       "\n",
       "\n",
       "\n",
       "\n",
       "  <div class=\"bk-root\" id=\"f056dd2a-18e2-464e-a1c3-b722685ee79a\" data-root-id=\"4118\"></div>\n",
       "</div>\n",
       "<script type=\"application/javascript\">(function(root) {\n",
       "  function embed_document(root) {\n",
       "    var docs_json = {\"fb3d69f6-1a6a-4fb2-a658-565cf9567e18\":{\"defs\":[{\"extends\":null,\"module\":null,\"name\":\"ReactiveHTML1\",\"overrides\":[],\"properties\":[]},{\"extends\":null,\"module\":null,\"name\":\"FlexBox1\",\"overrides\":[],\"properties\":[{\"default\":\"flex-start\",\"kind\":null,\"name\":\"align_content\"},{\"default\":\"flex-start\",\"kind\":null,\"name\":\"align_items\"},{\"default\":\"row\",\"kind\":null,\"name\":\"flex_direction\"},{\"default\":\"wrap\",\"kind\":null,\"name\":\"flex_wrap\"},{\"default\":\"flex-start\",\"kind\":null,\"name\":\"justify_content\"}]},{\"extends\":null,\"module\":null,\"name\":\"TemplateActions1\",\"overrides\":[],\"properties\":[{\"default\":0,\"kind\":null,\"name\":\"open_modal\"},{\"default\":0,\"kind\":null,\"name\":\"close_modal\"}]},{\"extends\":null,\"module\":null,\"name\":\"MaterialTemplateActions1\",\"overrides\":[],\"properties\":[{\"default\":0,\"kind\":null,\"name\":\"open_modal\"},{\"default\":0,\"kind\":null,\"name\":\"close_modal\"}]}],\"roots\":{\"references\":[{\"attributes\":{\"axis_label\":\"Longitude\",\"coordinates\":null,\"formatter\":{\"id\":\"4166\"},\"group\":null,\"major_label_policy\":{\"id\":\"4176\"},\"ticker\":{\"id\":\"4165\"}},\"id\":\"4144\",\"type\":\"LinearAxis\"},{\"attributes\":{\"axis_label\":\"Latitude\",\"coordinates\":null,\"formatter\":{\"id\":\"4164\"},\"group\":null,\"major_label_policy\":{\"id\":\"4169\"},\"ticker\":{\"id\":\"4163\"}},\"id\":\"4140\",\"type\":\"LinearAxis\"},{\"attributes\":{},\"id\":\"4196\",\"type\":\"Selection\"},{\"attributes\":{\"code\":\"\\n        var projections = Bokeh.require(\\\"core/util/projections\\\");\\n        var x = special_vars.data_x\\n        var y = special_vars.data_y\\n        if (projections.wgs84_mercator.invert == null) {\\n          var coords = projections.wgs84_mercator.inverse([x, y])\\n        } else {\\n          var coords = projections.wgs84_mercator.invert(x, y)\\n        }\\n        return \\\"\\\" + (coords[0]).toFixed(4)\\n    \"},\"id\":\"4213\",\"type\":\"CustomJSHover\"},{\"attributes\":{\"end\":-13008872.96096051,\"min_interval\":5,\"reset_end\":-13008872.96096051,\"reset_start\":-13733800.490873666,\"start\":-13733800.490873666,\"tags\":[[[\"INTPTLONG\",\"INTPTLONG\",null]]]},\"id\":\"4124\",\"type\":\"Range1d\"},{\"attributes\":{\"axis\":{\"id\":\"4144\"},\"coordinates\":null,\"dimension\":1,\"grid_line_color\":null,\"group\":null,\"ticker\":null},\"id\":\"4147\",\"type\":\"Grid\"},{\"attributes\":{\"dimension\":\"lat\"},\"id\":\"4166\",\"type\":\"MercatorTickFormatter\"},{\"attributes\":{\"data\":{\"INTPTLAT\":{\"__ndarray__\":\"8iis/DjpVUGfU1+Z7cxWQX4vkd5c+VZBWhDzFmARV0GeX4iBAbNWQQT9LNGmVFdBtCmMYkYOV0GdAek3laBWQQ==\",\"dtype\":\"float64\",\"order\":\"little\",\"shape\":[8]},\"INTPTLONG\":{\"__ndarray__\":\"H25aPcABasHth3Gqsl1pwZSe/QhQ3mnBVgqx2aUKasGQsTePqu9pwd3F2cCQ2mnBEa5Eb3ztaMHhvjC/dRRqwQ==\",\"dtype\":\"float64\",\"order\":\"little\",\"shape\":[8]},\"annualized_total_yield\":{\"__ndarray__\":\"JKeGFGa6GEAzcUnrrecbQOJs7n3O5zFAuGb0QUPF+j/ekIclqTo/QBrAjYQDbitAgLUeWzqgO0D9nsS+vuY3QA==\",\"dtype\":\"float64\",\"order\":\"little\",\"shape\":[8]},\"color\":[\"Clark\",\"Grant\",\"King\",\"Kitsap\",\"Pierce\",\"Snohomish\",\"Spokane\",\"Thurston\"],\"county_name\":[\"Clark\",\"Grant\",\"King\",\"Kitsap\",\"Pierce\",\"Snohomish\",\"Spokane\",\"Thurston\"],\"size\":{\"__ndarray__\":\"PkeRrxrdKEAEGXqIn2kqQIiORSNOKDVAJZUOPMHeGUCa2HyCB/E7QNaZ/MtMhDJAqJ/rILlHOkAiafTpynE4QA==\",\"dtype\":\"float64\",\"order\":\"little\",\"shape\":[8]}},\"selected\":{\"id\":\"4196\"},\"selection_policy\":{\"id\":\"4208\"}},\"id\":\"4195\",\"type\":\"ColumnDataSource\"},{\"attributes\":{\"fill_color\":{\"field\":\"color\",\"transform\":{\"id\":\"4194\"}},\"hatch_color\":{\"field\":\"color\",\"transform\":{\"id\":\"4194\"}},\"line_color\":{\"field\":\"color\",\"transform\":{\"id\":\"4194\"}},\"size\":{\"field\":\"size\"},\"x\":{\"field\":\"INTPTLONG\"},\"y\":{\"field\":\"INTPTLAT\"}},\"id\":\"4198\",\"type\":\"Scatter\"},{\"attributes\":{\"coordinates\":null,\"group\":null,\"level\":\"glyph\",\"tile_source\":{\"id\":\"4189\"}},\"id\":\"4192\",\"type\":\"TileRenderer\"},{\"attributes\":{\"attribution\":\"&copy; <a href=\\\"https://www.openstreetmap.org/copyright\\\">OpenStreetMap</a> contributors\",\"url\":\"https://c.tile.openstreetmap.org/{Z}/{X}/{Y}.png\"},\"id\":\"4189\",\"type\":\"WMTSTileSource\"},{\"attributes\":{\"source\":{\"id\":\"4195\"}},\"id\":\"4204\",\"type\":\"CDSView\"},{\"attributes\":{\"margin\":[5,5,5,5],\"name\":\"HSpacer07086\",\"sizing_mode\":\"stretch_width\"},\"id\":\"4119\",\"type\":\"Spacer\"},{\"attributes\":{\"callback\":null,\"formatters\":{\"$x\":{\"id\":\"4213\"},\"$y\":{\"id\":\"4214\"}},\"renderers\":[{\"id\":\"4203\"}],\"tags\":[\"hv_created\"],\"tooltips\":[[\"INTPTLONG\",\"$x{custom}\"],[\"INTPTLAT\",\"$y{custom}\"],[\"county_name\",\"@{county_name}\"],[\"annualized_total_yield\",\"@{annualized_total_yield}\"]]},\"id\":\"4128\",\"type\":\"HoverTool\"},{\"attributes\":{\"dimension\":\"lon\"},\"id\":\"4163\",\"type\":\"MercatorTicker\"},{\"attributes\":{\"dimension\":\"lon\"},\"id\":\"4164\",\"type\":\"MercatorTickFormatter\"},{\"attributes\":{\"dimension\":\"lat\"},\"id\":\"4165\",\"type\":\"MercatorTicker\"},{\"attributes\":{\"factors\":[\"Clark\",\"Grant\",\"King\",\"Kitsap\",\"Pierce\",\"Snohomish\",\"Spokane\",\"Thurston\"],\"palette\":[\"#1f77b3\",\"#ff7e0e\",\"#2ba02b\",\"#d62628\",\"#9367bc\",\"#8c564b\",\"#e277c1\",\"#7e7e7e\"]},\"id\":\"4194\",\"type\":\"CategoricalColorMapper\"},{\"attributes\":{\"fill_color\":{\"field\":\"color\",\"transform\":{\"id\":\"4194\"}},\"hatch_color\":{\"field\":\"color\",\"transform\":{\"id\":\"4194\"}},\"line_color\":{\"field\":\"color\",\"transform\":{\"id\":\"4194\"}},\"size\":{\"field\":\"size\"},\"x\":{\"field\":\"INTPTLONG\"},\"y\":{\"field\":\"INTPTLAT\"}},\"id\":\"4200\",\"type\":\"Scatter\"},{\"attributes\":{},\"id\":\"4208\",\"type\":\"UnionRenderers\"},{\"attributes\":{},\"id\":\"4136\",\"type\":\"LinearScale\"},{\"attributes\":{\"fill_color\":{\"field\":\"color\",\"transform\":{\"id\":\"4194\"}},\"hatch_color\":{\"field\":\"color\",\"transform\":{\"id\":\"4194\"}},\"line_color\":{\"field\":\"color\",\"transform\":{\"id\":\"4194\"}},\"size\":{\"field\":\"size\"},\"x\":{\"field\":\"INTPTLONG\"},\"y\":{\"field\":\"INTPTLAT\"}},\"id\":\"4201\",\"type\":\"Scatter\"},{\"attributes\":{},\"id\":\"4148\",\"type\":\"SaveTool\"},{\"attributes\":{\"fill_alpha\":{\"value\":0.1},\"fill_color\":{\"field\":\"color\",\"transform\":{\"id\":\"4194\"}},\"hatch_alpha\":{\"value\":0.1},\"hatch_color\":{\"field\":\"color\",\"transform\":{\"id\":\"4194\"}},\"line_alpha\":{\"value\":0.1},\"line_color\":{\"field\":\"color\",\"transform\":{\"id\":\"4194\"}},\"size\":{\"field\":\"size\"},\"x\":{\"field\":\"INTPTLONG\"},\"y\":{\"field\":\"INTPTLAT\"}},\"id\":\"4199\",\"type\":\"Scatter\"},{\"attributes\":{},\"id\":\"4149\",\"type\":\"PanTool\"},{\"attributes\":{\"click_policy\":\"mute\",\"coordinates\":null,\"group\":null,\"items\":[{\"id\":\"4212\"}],\"location\":[0,0]},\"id\":\"4211\",\"type\":\"Legend\"},{\"attributes\":{},\"id\":\"4152\",\"type\":\"ResetTool\"},{\"attributes\":{\"code\":\"\\n        var projections = Bokeh.require(\\\"core/util/projections\\\");\\n        var x = special_vars.data_x\\n        var y = special_vars.data_y\\n        if (projections.wgs84_mercator.invert == null) {\\n          var coords = projections.wgs84_mercator.inverse([x, y])\\n        } else {\\n          var coords = projections.wgs84_mercator.invert(x, y)\\n        }\\n        return \\\"\\\" + (coords[1]).toFixed(4)\\n    \"},\"id\":\"4214\",\"type\":\"CustomJSHover\"},{\"attributes\":{\"margin\":[5,5,5,5],\"name\":\"HSpacer07087\",\"sizing_mode\":\"stretch_width\"},\"id\":\"4269\",\"type\":\"Spacer\"},{\"attributes\":{\"zoom_on_axis\":false},\"id\":\"4150\",\"type\":\"WheelZoomTool\"},{\"attributes\":{},\"id\":\"4169\",\"type\":\"AllLabels\"},{\"attributes\":{\"below\":[{\"id\":\"4140\"}],\"center\":[{\"id\":\"4143\"},{\"id\":\"4147\"}],\"frame_height\":300,\"frame_width\":520,\"height\":null,\"left\":[{\"id\":\"4144\"}],\"margin\":[5,5,5,5],\"match_aspect\":true,\"min_border_bottom\":10,\"min_border_left\":10,\"min_border_right\":10,\"min_border_top\":10,\"renderers\":[{\"id\":\"4192\"},{\"id\":\"4203\"}],\"right\":[{\"id\":\"4211\"}],\"sizing_mode\":\"fixed\",\"title\":{\"id\":\"4132\"},\"toolbar\":{\"id\":\"4154\"},\"width\":null,\"x_range\":{\"id\":\"4124\"},\"x_scale\":{\"id\":\"4136\"},\"y_range\":{\"id\":\"4125\"},\"y_scale\":{\"id\":\"4138\"}},\"id\":\"4131\",\"subtype\":\"Figure\",\"type\":\"Plot\"},{\"attributes\":{\"end\":6138920.929328849,\"min_interval\":5,\"reset_end\":6138920.929328849,\"reset_start\":5720918.280101663,\"start\":5720918.280101663,\"tags\":[[[\"INTPTLAT\",\"INTPTLAT\",null]]]},\"id\":\"4125\",\"type\":\"Range1d\"},{\"attributes\":{\"fill_alpha\":{\"value\":0.2},\"fill_color\":{\"field\":\"color\",\"transform\":{\"id\":\"4194\"}},\"hatch_alpha\":{\"value\":0.2},\"hatch_color\":{\"field\":\"color\",\"transform\":{\"id\":\"4194\"}},\"line_alpha\":{\"value\":0.2},\"line_color\":{\"field\":\"color\",\"transform\":{\"id\":\"4194\"}},\"size\":{\"field\":\"size\"},\"x\":{\"field\":\"INTPTLONG\"},\"y\":{\"field\":\"INTPTLAT\"}},\"id\":\"4202\",\"type\":\"Scatter\"},{\"attributes\":{\"match_aspect\":true,\"overlay\":{\"id\":\"4153\"}},\"id\":\"4151\",\"type\":\"BoxZoomTool\"},{\"attributes\":{\"label\":{\"field\":\"color\"},\"renderers\":[{\"id\":\"4203\"}]},\"id\":\"4212\",\"type\":\"LegendItem\"},{\"attributes\":{\"children\":[{\"id\":\"4119\"},{\"id\":\"4131\"},{\"id\":\"4269\"}],\"margin\":[0,0,0,0],\"name\":\"Row07082\",\"tags\":[\"embedded\"]},\"id\":\"4118\",\"type\":\"Row\"},{\"attributes\":{},\"id\":\"4176\",\"type\":\"AllLabels\"},{\"attributes\":{\"axis\":{\"id\":\"4140\"},\"coordinates\":null,\"grid_line_color\":null,\"group\":null,\"ticker\":null},\"id\":\"4143\",\"type\":\"Grid\"},{\"attributes\":{\"coordinates\":null,\"group\":null,\"text\":\"Total Yield (annualized) by County\",\"text_color\":\"black\",\"text_font_size\":\"12pt\"},\"id\":\"4132\",\"type\":\"Title\"},{\"attributes\":{\"tools\":[{\"id\":\"4128\"},{\"id\":\"4148\"},{\"id\":\"4149\"},{\"id\":\"4150\"},{\"id\":\"4151\"},{\"id\":\"4152\"}]},\"id\":\"4154\",\"type\":\"Toolbar\"},{\"attributes\":{\"bottom_units\":\"screen\",\"coordinates\":null,\"fill_alpha\":0.5,\"fill_color\":\"lightgrey\",\"group\":null,\"left_units\":\"screen\",\"level\":\"overlay\",\"line_alpha\":1.0,\"line_color\":\"black\",\"line_dash\":[4,4],\"line_width\":2,\"right_units\":\"screen\",\"syncable\":false,\"top_units\":\"screen\"},\"id\":\"4153\",\"type\":\"BoxAnnotation\"},{\"attributes\":{\"coordinates\":null,\"data_source\":{\"id\":\"4195\"},\"glyph\":{\"id\":\"4198\"},\"group\":null,\"hover_glyph\":{\"id\":\"4201\"},\"muted_glyph\":{\"id\":\"4202\"},\"nonselection_glyph\":{\"id\":\"4199\"},\"selection_glyph\":{\"id\":\"4200\"},\"view\":{\"id\":\"4204\"}},\"id\":\"4203\",\"type\":\"GlyphRenderer\"},{\"attributes\":{},\"id\":\"4138\",\"type\":\"LinearScale\"}],\"root_ids\":[\"4118\"]},\"title\":\"Bokeh Application\",\"version\":\"2.4.1\"}};\n",
       "    var render_items = [{\"docid\":\"fb3d69f6-1a6a-4fb2-a658-565cf9567e18\",\"root_ids\":[\"4118\"],\"roots\":{\"4118\":\"f056dd2a-18e2-464e-a1c3-b722685ee79a\"}}];\n",
       "    root.Bokeh.embed.embed_items_notebook(docs_json, render_items);\n",
       "  }\n",
       "  if (root.Bokeh !== undefined && root.Bokeh.Panel !== undefined) {\n",
       "    embed_document(root);\n",
       "  } else {\n",
       "    var attempts = 0;\n",
       "    var timer = setInterval(function(root) {\n",
       "      if (root.Bokeh !== undefined && root.Bokeh.Panel !== undefined) {\n",
       "        clearInterval(timer);\n",
       "        embed_document(root);\n",
       "      } else if (document.readyState == \"complete\") {\n",
       "        attempts++;\n",
       "        if (attempts > 200) {\n",
       "          clearInterval(timer);\n",
       "          console.log(\"Bokeh: ERROR: Unable to run BokehJS code because BokehJS library is missing\");\n",
       "        }\n",
       "      }\n",
       "    }, 25, root)\n",
       "  }\n",
       "})(window);</script>"
      ],
      "text/plain": [
       ":Overlay\n",
       "   .Tiles.I  :Tiles   [x,y]\n",
       "   .Points.I :Points   [INTPTLONG,INTPTLAT]   (county_name,annualized_total_yield)"
      ]
     },
     "execution_count": 35,
     "metadata": {
      "application/vnd.holoviews_exec.v0+json": {
       "id": "4118"
      }
     },
     "output_type": "execute_result"
    }
   ],
   "source": [
    "annualized_total_return.hvplot.points(\n",
    "    'INTPTLONG',\n",
    "    'INTPTLAT',\n",
    "    geo=True,\n",
    "    color= 'county_name',\n",
    "    size= 'annualized_total_yield',\n",
    "    tiles='OSM',\n",
    "    scale=5,\n",
    "    title = 'Total Yield (annualized) by County',\n",
    "    xlabel = 'Latitude',\n",
    "    ylabel = 'Longitude',\n",
    "    hover_cols = ['county_name','yearly_total_yield'],\n",
    "    )"
   ]
  },
  {
   "cell_type": "code",
   "execution_count": null,
   "id": "9515bff3-c41d-444d-ae9e-ac6113ddbd4b",
   "metadata": {},
   "outputs": [],
   "source": []
  }
 ],
 "metadata": {
  "kernelspec": {
   "display_name": "Python 3 (ipykernel)",
   "language": "python",
   "name": "python3"
  },
  "language_info": {
   "codemirror_mode": {
    "name": "ipython",
    "version": 3
   },
   "file_extension": ".py",
   "mimetype": "text/x-python",
   "name": "python",
   "nbconvert_exporter": "python",
   "pygments_lexer": "ipython3",
   "version": "3.7.11"
  }
 },
 "nbformat": 4,
 "nbformat_minor": 5
}
