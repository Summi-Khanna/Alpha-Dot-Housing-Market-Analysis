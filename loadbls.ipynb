{
 "cells": [
  {
   "cell_type": "markdown",
   "id": "1ceb41f7-a958-4d56-aa37-efce343f476c",
   "metadata": {
    "tags": []
   },
   "source": [
    "### Loading Libraries & Environment Variables"
   ]
  },
  {
   "cell_type": "code",
   "execution_count": 18,
   "id": "ca61f436-f9a1-41fa-9bfe-8c236780d8f0",
   "metadata": {},
   "outputs": [],
   "source": [
    "import os\n",
    "import requests\n",
    "import json\n",
    "import prettytable\n",
    "import pandas as pd\n",
    "from dotenv import load_dotenv"
   ]
  },
  {
   "cell_type": "code",
   "execution_count": 19,
   "id": "ff23ab4c-aabe-4883-a355-7297905f9189",
   "metadata": {},
   "outputs": [
    {
     "data": {
      "text/plain": [
       "True"
      ]
     },
     "execution_count": 19,
     "metadata": {},
     "output_type": "execute_result"
    }
   ],
   "source": [
    "# Load the environment variables from the .env file\n",
    "#by calling the load_dotenv function\n",
    "load_dotenv()"
   ]
  },
  {
   "cell_type": "markdown",
   "id": "10576684-8bc8-42b8-9ab0-63ea9dbf9f08",
   "metadata": {
    "tags": []
   },
   "source": [
    "### Loading Data"
   ]
  },
  {
   "cell_type": "markdown",
   "id": "51953cd5-580e-4314-9307-9b5b0d1d2191",
   "metadata": {},
   "source": [
    "#### Setting up to use the BLS API"
   ]
  },
  {
   "cell_type": "code",
   "execution_count": 20,
   "id": "7b78249f-0b59-45a9-b7b6-73455cf5f6f0",
   "metadata": {},
   "outputs": [],
   "source": [
    "# Set the base url for BLS API v2\n",
    "url = 'https://api.bls.gov/publicAPI/v2/timeseries/data/'"
   ]
  },
  {
   "cell_type": "code",
   "execution_count": 21,
   "id": "46e6e62b-2b03-4e85-8abd-df09e0a8fb12",
   "metadata": {},
   "outputs": [],
   "source": [
    "# Pull the API key in .env which contains: bls_key = 'key'\n",
    "bls_key = os.getenv(\"bls_key\")\n",
    "key = '?registrationkey={}'.format(bls_key)"
   ]
  },
  {
   "cell_type": "code",
   "execution_count": 22,
   "id": "352ec125-6703-4d8b-bbde-b1184ac5f390",
   "metadata": {},
   "outputs": [],
   "source": [
    "# Set the start year and end year for the 5-year data series\n",
    "dates = ('2017', '2021')"
   ]
  },
  {
   "cell_type": "markdown",
   "id": "9d2eef4e-fb30-4929-a807-9bf6788f6161",
   "metadata": {},
   "source": [
    "#### Loading Labor Force data for Washington Counties"
   ]
  },
  {
   "cell_type": "code",
   "execution_count": 23,
   "id": "bfed1ce4-5583-4ef6-b1ee-318fc41da2b4",
   "metadata": {},
   "outputs": [],
   "source": [
    "# Creating series list\n",
    "# example: 'LAUCN530010000000005'\n",
    "# The series id has the following structure:\n",
    "# 'LA' = Prefix for local area data\n",
    "# 'U' (or 'S') for seasonal adjustment \n",
    "# 'CN53001000000' = area code --> 'CN' for county level data + state fips code + county fips code\n",
    "# '06' = 2-digit measure code for Labor Force\n",
    "\n",
    "# Create a dictionary of the series codes and fips codes\n",
    "series_dict = {\n",
    "    'LAUCN530110000000006': '53011',\n",
    "    'LAUCN530250000000006': '53025',\n",
    "    'LAUCN530330000000006': '53033',\n",
    "    'LAUCN530350000000006': '53035',\n",
    "    'LAUCN530530000000006': '53053',\n",
    "    'LAUCN530610000000006': '53061',\n",
    "    'LAUCN530650000000006': '53065',\n",
    "    'LAUCN530670000000006': '53067',\n",
    "    }\n",
    "\n",
    "# The following code is modeled from an example provided at https://www.bd-econ.com/blsapi.html.\n",
    "\n",
    "# Specify json as content type to return\n",
    "headers = {'Content-type': 'application/json'}\n",
    "\n",
    "# Submit the list of series and the dates as data\n",
    "data = json.dumps({\n",
    "    \"seriesid\": list(series_dict.keys()),\n",
    "    \"startyear\": dates[0],\n",
    "    \"endyear\": dates[1]})\n"
   ]
  },
  {
   "cell_type": "code",
   "execution_count": 24,
   "id": "1bb5c583-809a-4dfe-ba25-0282ca96c852",
   "metadata": {},
   "outputs": [],
   "source": [
    "# Posting request for the data\n",
    "p = requests.post(\n",
    "    '{}{}'.format(url, key),\n",
    "    headers=headers,\n",
    "    data=data).json()['Results']['series']"
   ]
  },
  {
   "cell_type": "code",
   "execution_count": 25,
   "id": "a68ba9b0-7977-4cb8-bc86-8f90debde37a",
   "metadata": {},
   "outputs": [],
   "source": [
    "# Creating a date index from first series\n",
    "date_list = [f\"{i['year']}-{i['period'][1:]}-01\" for i in p[0]['data']]\n",
    "\n",
    "# Creating an empty dataframe to fill with values\n",
    "df_labor_force = pd.DataFrame()\n",
    "\n",
    "# Building a pandas series from the API results, p\n",
    "for s in p:\n",
    "    df_labor_force[series_dict[s['seriesID']]] = pd.Series(\n",
    "        index = pd.to_datetime(date_list),\n",
    "        data = [i['value'] for i in s['data']]\n",
    "        ).astype(float).iloc[::-1]\n"
   ]
  },
  {
   "cell_type": "code",
   "execution_count": 26,
   "id": "8a7ec0c0-87b0-4b83-bf0d-f47b98d02518",
   "metadata": {},
   "outputs": [
    {
     "data": {
      "text/html": [
       "<div>\n",
       "<style scoped>\n",
       "    .dataframe tbody tr th:only-of-type {\n",
       "        vertical-align: middle;\n",
       "    }\n",
       "\n",
       "    .dataframe tbody tr th {\n",
       "        vertical-align: top;\n",
       "    }\n",
       "\n",
       "    .dataframe thead th {\n",
       "        text-align: right;\n",
       "    }\n",
       "</style>\n",
       "<table border=\"1\" class=\"dataframe\">\n",
       "  <thead>\n",
       "    <tr style=\"text-align: right;\">\n",
       "      <th></th>\n",
       "      <th>53011</th>\n",
       "      <th>53025</th>\n",
       "      <th>53033</th>\n",
       "      <th>53035</th>\n",
       "      <th>53053</th>\n",
       "      <th>53061</th>\n",
       "      <th>53065</th>\n",
       "      <th>53067</th>\n",
       "    </tr>\n",
       "  </thead>\n",
       "  <tbody>\n",
       "    <tr>\n",
       "      <th>2017-01-01</th>\n",
       "      <td>226512.0</td>\n",
       "      <td>41475.0</td>\n",
       "      <td>1221410.0</td>\n",
       "      <td>120338.0</td>\n",
       "      <td>416321.0</td>\n",
       "      <td>417997.0</td>\n",
       "      <td>18119.0</td>\n",
       "      <td>134112.0</td>\n",
       "    </tr>\n",
       "    <tr>\n",
       "      <th>2017-02-01</th>\n",
       "      <td>227623.0</td>\n",
       "      <td>42406.0</td>\n",
       "      <td>1233614.0</td>\n",
       "      <td>119754.0</td>\n",
       "      <td>414814.0</td>\n",
       "      <td>422154.0</td>\n",
       "      <td>18150.0</td>\n",
       "      <td>133964.0</td>\n",
       "    </tr>\n",
       "    <tr>\n",
       "      <th>2017-03-01</th>\n",
       "      <td>227629.0</td>\n",
       "      <td>43573.0</td>\n",
       "      <td>1234491.0</td>\n",
       "      <td>119692.0</td>\n",
       "      <td>415076.0</td>\n",
       "      <td>422869.0</td>\n",
       "      <td>18223.0</td>\n",
       "      <td>134407.0</td>\n",
       "    </tr>\n",
       "    <tr>\n",
       "      <th>2017-04-01</th>\n",
       "      <td>226539.0</td>\n",
       "      <td>43944.0</td>\n",
       "      <td>1231264.0</td>\n",
       "      <td>119293.0</td>\n",
       "      <td>412064.0</td>\n",
       "      <td>421228.0</td>\n",
       "      <td>18108.0</td>\n",
       "      <td>133252.0</td>\n",
       "    </tr>\n",
       "    <tr>\n",
       "      <th>2017-05-01</th>\n",
       "      <td>225928.0</td>\n",
       "      <td>44395.0</td>\n",
       "      <td>1233583.0</td>\n",
       "      <td>119549.0</td>\n",
       "      <td>412203.0</td>\n",
       "      <td>422160.0</td>\n",
       "      <td>18038.0</td>\n",
       "      <td>132929.0</td>\n",
       "    </tr>\n",
       "  </tbody>\n",
       "</table>\n",
       "</div>"
      ],
      "text/plain": [
       "               53011    53025      53033     53035     53053     53061  \\\n",
       "2017-01-01  226512.0  41475.0  1221410.0  120338.0  416321.0  417997.0   \n",
       "2017-02-01  227623.0  42406.0  1233614.0  119754.0  414814.0  422154.0   \n",
       "2017-03-01  227629.0  43573.0  1234491.0  119692.0  415076.0  422869.0   \n",
       "2017-04-01  226539.0  43944.0  1231264.0  119293.0  412064.0  421228.0   \n",
       "2017-05-01  225928.0  44395.0  1233583.0  119549.0  412203.0  422160.0   \n",
       "\n",
       "              53065     53067  \n",
       "2017-01-01  18119.0  134112.0  \n",
       "2017-02-01  18150.0  133964.0  \n",
       "2017-03-01  18223.0  134407.0  \n",
       "2017-04-01  18108.0  133252.0  \n",
       "2017-05-01  18038.0  132929.0  "
      ]
     },
     "execution_count": 26,
     "metadata": {},
     "output_type": "execute_result"
    }
   ],
   "source": [
    "#Reviewing labor force dataframe\n",
    "df_labor_force.head()"
   ]
  },
  {
   "cell_type": "code",
   "execution_count": 27,
   "id": "e2905a2c-79ce-45b6-bd67-fe88e2765dd9",
   "metadata": {},
   "outputs": [
    {
     "data": {
      "text/html": [
       "<div>\n",
       "<style scoped>\n",
       "    .dataframe tbody tr th:only-of-type {\n",
       "        vertical-align: middle;\n",
       "    }\n",
       "\n",
       "    .dataframe tbody tr th {\n",
       "        vertical-align: top;\n",
       "    }\n",
       "\n",
       "    .dataframe thead th {\n",
       "        text-align: right;\n",
       "    }\n",
       "</style>\n",
       "<table border=\"1\" class=\"dataframe\">\n",
       "  <thead>\n",
       "    <tr style=\"text-align: right;\">\n",
       "      <th></th>\n",
       "      <th>53011</th>\n",
       "      <th>53025</th>\n",
       "      <th>53033</th>\n",
       "      <th>53035</th>\n",
       "      <th>53053</th>\n",
       "      <th>53061</th>\n",
       "      <th>53065</th>\n",
       "      <th>53067</th>\n",
       "    </tr>\n",
       "  </thead>\n",
       "  <tbody>\n",
       "    <tr>\n",
       "      <th>2021-07-01</th>\n",
       "      <td>241162.0</td>\n",
       "      <td>49358.0</td>\n",
       "      <td>1316199.0</td>\n",
       "      <td>126130.0</td>\n",
       "      <td>442907.0</td>\n",
       "      <td>450952.0</td>\n",
       "      <td>19031.0</td>\n",
       "      <td>144040.0</td>\n",
       "    </tr>\n",
       "    <tr>\n",
       "      <th>2021-08-01</th>\n",
       "      <td>242757.0</td>\n",
       "      <td>47657.0</td>\n",
       "      <td>1317920.0</td>\n",
       "      <td>125290.0</td>\n",
       "      <td>444189.0</td>\n",
       "      <td>451339.0</td>\n",
       "      <td>18787.0</td>\n",
       "      <td>144346.0</td>\n",
       "    </tr>\n",
       "    <tr>\n",
       "      <th>2021-09-01</th>\n",
       "      <td>241084.0</td>\n",
       "      <td>49628.0</td>\n",
       "      <td>1309988.0</td>\n",
       "      <td>125812.0</td>\n",
       "      <td>443144.0</td>\n",
       "      <td>448365.0</td>\n",
       "      <td>18863.0</td>\n",
       "      <td>144507.0</td>\n",
       "    </tr>\n",
       "    <tr>\n",
       "      <th>2021-10-01</th>\n",
       "      <td>244095.0</td>\n",
       "      <td>49056.0</td>\n",
       "      <td>1298675.0</td>\n",
       "      <td>127212.0</td>\n",
       "      <td>442830.0</td>\n",
       "      <td>444486.0</td>\n",
       "      <td>19032.0</td>\n",
       "      <td>145657.0</td>\n",
       "    </tr>\n",
       "    <tr>\n",
       "      <th>2021-11-01</th>\n",
       "      <td>248353.0</td>\n",
       "      <td>47842.0</td>\n",
       "      <td>1287575.0</td>\n",
       "      <td>128960.0</td>\n",
       "      <td>448188.0</td>\n",
       "      <td>439694.0</td>\n",
       "      <td>19264.0</td>\n",
       "      <td>147748.0</td>\n",
       "    </tr>\n",
       "  </tbody>\n",
       "</table>\n",
       "</div>"
      ],
      "text/plain": [
       "               53011    53025      53033     53035     53053     53061  \\\n",
       "2021-07-01  241162.0  49358.0  1316199.0  126130.0  442907.0  450952.0   \n",
       "2021-08-01  242757.0  47657.0  1317920.0  125290.0  444189.0  451339.0   \n",
       "2021-09-01  241084.0  49628.0  1309988.0  125812.0  443144.0  448365.0   \n",
       "2021-10-01  244095.0  49056.0  1298675.0  127212.0  442830.0  444486.0   \n",
       "2021-11-01  248353.0  47842.0  1287575.0  128960.0  448188.0  439694.0   \n",
       "\n",
       "              53065     53067  \n",
       "2021-07-01  19031.0  144040.0  \n",
       "2021-08-01  18787.0  144346.0  \n",
       "2021-09-01  18863.0  144507.0  \n",
       "2021-10-01  19032.0  145657.0  \n",
       "2021-11-01  19264.0  147748.0  "
      ]
     },
     "execution_count": 27,
     "metadata": {},
     "output_type": "execute_result"
    }
   ],
   "source": [
    "df_labor_force.tail()"
   ]
  },
  {
   "cell_type": "code",
   "execution_count": 28,
   "id": "34de5c4e-e0dc-4ca0-8f58-10b466a844d7",
   "metadata": {},
   "outputs": [
    {
     "name": "stdout",
     "output_type": "stream",
     "text": [
      "<class 'pandas.core.frame.DataFrame'>\n",
      "DatetimeIndex: 59 entries, 2017-01-01 to 2021-11-01\n",
      "Data columns (total 8 columns):\n",
      " #   Column  Non-Null Count  Dtype  \n",
      "---  ------  --------------  -----  \n",
      " 0   53011   59 non-null     float64\n",
      " 1   53025   59 non-null     float64\n",
      " 2   53033   59 non-null     float64\n",
      " 3   53035   59 non-null     float64\n",
      " 4   53053   59 non-null     float64\n",
      " 5   53061   59 non-null     float64\n",
      " 6   53065   59 non-null     float64\n",
      " 7   53067   59 non-null     float64\n",
      "dtypes: float64(8)\n",
      "memory usage: 4.1 KB\n"
     ]
    }
   ],
   "source": [
    "df_labor_force.info()"
   ]
  },
  {
   "cell_type": "code",
   "execution_count": 29,
   "id": "3938589b-8102-44b7-bc95-91affbf76fb0",
   "metadata": {},
   "outputs": [],
   "source": [
    "#Saving the first file to a csv\n",
    "df_labor_force.to_csv('Resources/wa_labor_force_by_county.csv')"
   ]
  },
  {
   "cell_type": "markdown",
   "id": "24771db2-8561-4506-a9ad-1fcc7cc9069b",
   "metadata": {},
   "source": [
    "### Loading Employment data for Washington Counties"
   ]
  },
  {
   "cell_type": "code",
   "execution_count": 31,
   "id": "a0fae187-fc2a-49c6-8db1-a605bf8de47d",
   "metadata": {},
   "outputs": [],
   "source": [
    "# Creating series list\n",
    "# example: 'LAUCN530010000000005'\n",
    "# The series id has the following structure:\n",
    "# 'LA' = Prefix for local area data\n",
    "# 'U' (or 'S') for seasonal adjustment \n",
    "# 'CN53001000000' = area code --> 'CN' for county level data + state fips code + county fips code\n",
    "# '05' = 2-digit measure code for Employment\n",
    "\n",
    "# Creating a dictionary of the series codes and fips codes\n",
    "# Create a dictionary of the series codes and fips codes\n",
    "series_dict = {\n",
    "    'LAUCN530110000000005': '53011',\n",
    "    'LAUCN530250000000005': '53025',\n",
    "    'LAUCN530330000000005': '53033',\n",
    "    'LAUCN530350000000005': '53035',\n",
    "    'LAUCN530530000000005': '53053',\n",
    "    'LAUCN530610000000005': '53061',\n",
    "    'LAUCN530650000000005': '53065',\n",
    "    'LAUCN530670000000005': '53067',\n",
    "    }\n",
    "# The following code is modeled from an example provided at https://www.bd-econ.com/blsapi.html.\n",
    "\n",
    "# Specifying json as content type to return\n",
    "headers = {'Content-type': 'application/json'}\n",
    "\n",
    "# Submitting the list of series and the dates as data\n",
    "data = json.dumps({\n",
    "    \"seriesid\": list(series_dict.keys()),\n",
    "    \"startyear\": dates[0],\n",
    "    \"endyear\": dates[1]})\n"
   ]
  },
  {
   "cell_type": "code",
   "execution_count": 32,
   "id": "038f7b0d-312f-49bc-9b4c-d1c0a5e46237",
   "metadata": {},
   "outputs": [],
   "source": [
    "# Posting request for the data\n",
    "p = requests.post(\n",
    "    '{}{}'.format(url, key),\n",
    "    headers=headers,\n",
    "    data=data).json()['Results']['series']"
   ]
  },
  {
   "cell_type": "code",
   "execution_count": 33,
   "id": "8958fae2-356f-4cda-b2a7-8acc7298f183",
   "metadata": {},
   "outputs": [],
   "source": [
    "# Creating a date index from first series\n",
    "date_list = [f\"{i['year']}-{i['period'][1:]}-01\" for i in p[0]['data']]\n",
    "\n",
    "# Creating an empty dataframe to fill with values for employment\n",
    "df_employment = pd.DataFrame()\n",
    "\n",
    "# Building a pandas series from the API results, p\n",
    "for s in p:\n",
    "    df_employment[series_dict[s['seriesID']]] = pd.Series(\n",
    "        index = pd.to_datetime(date_list),\n",
    "        data = [i['value'] for i in s['data']]\n",
    "        ).astype(float).iloc[::-1]"
   ]
  },
  {
   "cell_type": "code",
   "execution_count": 34,
   "id": "0dba944e-3b7a-4872-b06b-170ffde63e97",
   "metadata": {},
   "outputs": [
    {
     "data": {
      "text/html": [
       "<div>\n",
       "<style scoped>\n",
       "    .dataframe tbody tr th:only-of-type {\n",
       "        vertical-align: middle;\n",
       "    }\n",
       "\n",
       "    .dataframe tbody tr th {\n",
       "        vertical-align: top;\n",
       "    }\n",
       "\n",
       "    .dataframe thead th {\n",
       "        text-align: right;\n",
       "    }\n",
       "</style>\n",
       "<table border=\"1\" class=\"dataframe\">\n",
       "  <thead>\n",
       "    <tr style=\"text-align: right;\">\n",
       "      <th></th>\n",
       "      <th>53011</th>\n",
       "      <th>53025</th>\n",
       "      <th>53033</th>\n",
       "      <th>53035</th>\n",
       "      <th>53053</th>\n",
       "      <th>53061</th>\n",
       "      <th>53065</th>\n",
       "      <th>53067</th>\n",
       "    </tr>\n",
       "  </thead>\n",
       "  <tbody>\n",
       "    <tr>\n",
       "      <th>2017-01-01</th>\n",
       "      <td>213014.0</td>\n",
       "      <td>37313.0</td>\n",
       "      <td>1175970.0</td>\n",
       "      <td>113713.0</td>\n",
       "      <td>391405.0</td>\n",
       "      <td>400624.0</td>\n",
       "      <td>16460.0</td>\n",
       "      <td>126521.0</td>\n",
       "    </tr>\n",
       "    <tr>\n",
       "      <th>2017-02-01</th>\n",
       "      <td>214725.0</td>\n",
       "      <td>38473.0</td>\n",
       "      <td>1190267.0</td>\n",
       "      <td>113417.0</td>\n",
       "      <td>390557.0</td>\n",
       "      <td>405531.0</td>\n",
       "      <td>16488.0</td>\n",
       "      <td>126577.0</td>\n",
       "    </tr>\n",
       "    <tr>\n",
       "      <th>2017-03-01</th>\n",
       "      <td>215734.0</td>\n",
       "      <td>40261.0</td>\n",
       "      <td>1193174.0</td>\n",
       "      <td>113806.0</td>\n",
       "      <td>392219.0</td>\n",
       "      <td>406766.0</td>\n",
       "      <td>16580.0</td>\n",
       "      <td>127585.0</td>\n",
       "    </tr>\n",
       "    <tr>\n",
       "      <th>2017-04-01</th>\n",
       "      <td>215649.0</td>\n",
       "      <td>41421.0</td>\n",
       "      <td>1194747.0</td>\n",
       "      <td>113773.0</td>\n",
       "      <td>391046.0</td>\n",
       "      <td>407298.0</td>\n",
       "      <td>16746.0</td>\n",
       "      <td>127038.0</td>\n",
       "    </tr>\n",
       "    <tr>\n",
       "      <th>2017-05-01</th>\n",
       "      <td>215336.0</td>\n",
       "      <td>42038.0</td>\n",
       "      <td>1192269.0</td>\n",
       "      <td>114114.0</td>\n",
       "      <td>391487.0</td>\n",
       "      <td>406513.0</td>\n",
       "      <td>16853.0</td>\n",
       "      <td>126845.0</td>\n",
       "    </tr>\n",
       "  </tbody>\n",
       "</table>\n",
       "</div>"
      ],
      "text/plain": [
       "               53011    53025      53033     53035     53053     53061  \\\n",
       "2017-01-01  213014.0  37313.0  1175970.0  113713.0  391405.0  400624.0   \n",
       "2017-02-01  214725.0  38473.0  1190267.0  113417.0  390557.0  405531.0   \n",
       "2017-03-01  215734.0  40261.0  1193174.0  113806.0  392219.0  406766.0   \n",
       "2017-04-01  215649.0  41421.0  1194747.0  113773.0  391046.0  407298.0   \n",
       "2017-05-01  215336.0  42038.0  1192269.0  114114.0  391487.0  406513.0   \n",
       "\n",
       "              53065     53067  \n",
       "2017-01-01  16460.0  126521.0  \n",
       "2017-02-01  16488.0  126577.0  \n",
       "2017-03-01  16580.0  127585.0  \n",
       "2017-04-01  16746.0  127038.0  \n",
       "2017-05-01  16853.0  126845.0  "
      ]
     },
     "execution_count": 34,
     "metadata": {},
     "output_type": "execute_result"
    }
   ],
   "source": [
    "df_employment.head()"
   ]
  },
  {
   "cell_type": "code",
   "execution_count": 35,
   "id": "1027ccc4-ad39-4505-b98a-e74f19365cb7",
   "metadata": {},
   "outputs": [
    {
     "data": {
      "text/html": [
       "<div>\n",
       "<style scoped>\n",
       "    .dataframe tbody tr th:only-of-type {\n",
       "        vertical-align: middle;\n",
       "    }\n",
       "\n",
       "    .dataframe tbody tr th {\n",
       "        vertical-align: top;\n",
       "    }\n",
       "\n",
       "    .dataframe thead th {\n",
       "        text-align: right;\n",
       "    }\n",
       "</style>\n",
       "<table border=\"1\" class=\"dataframe\">\n",
       "  <thead>\n",
       "    <tr style=\"text-align: right;\">\n",
       "      <th></th>\n",
       "      <th>53011</th>\n",
       "      <th>53025</th>\n",
       "      <th>53033</th>\n",
       "      <th>53035</th>\n",
       "      <th>53053</th>\n",
       "      <th>53061</th>\n",
       "      <th>53065</th>\n",
       "      <th>53067</th>\n",
       "    </tr>\n",
       "  </thead>\n",
       "  <tbody>\n",
       "    <tr>\n",
       "      <th>2021-07-01</th>\n",
       "      <td>230130.0</td>\n",
       "      <td>47026.0</td>\n",
       "      <td>1249573.0</td>\n",
       "      <td>120874.0</td>\n",
       "      <td>420492.0</td>\n",
       "      <td>424164.0</td>\n",
       "      <td>18081.0</td>\n",
       "      <td>137895.0</td>\n",
       "    </tr>\n",
       "    <tr>\n",
       "      <th>2021-08-01</th>\n",
       "      <td>231062.0</td>\n",
       "      <td>45169.0</td>\n",
       "      <td>1255212.0</td>\n",
       "      <td>119704.0</td>\n",
       "      <td>420777.0</td>\n",
       "      <td>426219.0</td>\n",
       "      <td>17726.0</td>\n",
       "      <td>137862.0</td>\n",
       "    </tr>\n",
       "    <tr>\n",
       "      <th>2021-09-01</th>\n",
       "      <td>231348.0</td>\n",
       "      <td>47547.0</td>\n",
       "      <td>1252227.0</td>\n",
       "      <td>121150.0</td>\n",
       "      <td>423146.0</td>\n",
       "      <td>424829.0</td>\n",
       "      <td>17981.0</td>\n",
       "      <td>139109.0</td>\n",
       "    </tr>\n",
       "    <tr>\n",
       "      <th>2021-10-01</th>\n",
       "      <td>234164.0</td>\n",
       "      <td>46922.0</td>\n",
       "      <td>1241423.0</td>\n",
       "      <td>122368.0</td>\n",
       "      <td>422714.0</td>\n",
       "      <td>421286.0</td>\n",
       "      <td>18157.0</td>\n",
       "      <td>140085.0</td>\n",
       "    </tr>\n",
       "    <tr>\n",
       "      <th>2021-11-01</th>\n",
       "      <td>240028.0</td>\n",
       "      <td>45715.0</td>\n",
       "      <td>1250054.0</td>\n",
       "      <td>125055.0</td>\n",
       "      <td>431005.0</td>\n",
       "      <td>424025.0</td>\n",
       "      <td>18451.0</td>\n",
       "      <td>143056.0</td>\n",
       "    </tr>\n",
       "  </tbody>\n",
       "</table>\n",
       "</div>"
      ],
      "text/plain": [
       "               53011    53025      53033     53035     53053     53061  \\\n",
       "2021-07-01  230130.0  47026.0  1249573.0  120874.0  420492.0  424164.0   \n",
       "2021-08-01  231062.0  45169.0  1255212.0  119704.0  420777.0  426219.0   \n",
       "2021-09-01  231348.0  47547.0  1252227.0  121150.0  423146.0  424829.0   \n",
       "2021-10-01  234164.0  46922.0  1241423.0  122368.0  422714.0  421286.0   \n",
       "2021-11-01  240028.0  45715.0  1250054.0  125055.0  431005.0  424025.0   \n",
       "\n",
       "              53065     53067  \n",
       "2021-07-01  18081.0  137895.0  \n",
       "2021-08-01  17726.0  137862.0  \n",
       "2021-09-01  17981.0  139109.0  \n",
       "2021-10-01  18157.0  140085.0  \n",
       "2021-11-01  18451.0  143056.0  "
      ]
     },
     "execution_count": 35,
     "metadata": {},
     "output_type": "execute_result"
    }
   ],
   "source": [
    "df_employment.tail()"
   ]
  },
  {
   "cell_type": "code",
   "execution_count": 36,
   "id": "4ba205fb-9997-496e-a664-247ef5250eb9",
   "metadata": {},
   "outputs": [
    {
     "name": "stdout",
     "output_type": "stream",
     "text": [
      "<class 'pandas.core.frame.DataFrame'>\n",
      "DatetimeIndex: 59 entries, 2017-01-01 to 2021-11-01\n",
      "Data columns (total 8 columns):\n",
      " #   Column  Non-Null Count  Dtype  \n",
      "---  ------  --------------  -----  \n",
      " 0   53011   59 non-null     float64\n",
      " 1   53025   59 non-null     float64\n",
      " 2   53033   59 non-null     float64\n",
      " 3   53035   59 non-null     float64\n",
      " 4   53053   59 non-null     float64\n",
      " 5   53061   59 non-null     float64\n",
      " 6   53065   59 non-null     float64\n",
      " 7   53067   59 non-null     float64\n",
      "dtypes: float64(8)\n",
      "memory usage: 4.1 KB\n"
     ]
    }
   ],
   "source": [
    "df_employment.info()"
   ]
  },
  {
   "cell_type": "code",
   "execution_count": 38,
   "id": "cc955001-c065-4396-87aa-73e4da943e82",
   "metadata": {},
   "outputs": [],
   "source": [
    "#Saving the first file to csv\n",
    "df_employment.to_csv('Resources/wa_employment_by_county.csv')"
   ]
  }
 ],
 "metadata": {
  "kernelspec": {
   "display_name": "Python (dev)",
   "language": "python",
   "name": "dev"
  },
  "language_info": {
   "codemirror_mode": {
    "name": "ipython",
    "version": 3
   },
   "file_extension": ".py",
   "mimetype": "text/x-python",
   "name": "python",
   "nbconvert_exporter": "python",
   "pygments_lexer": "ipython3",
   "version": "3.7.11"
  }
 },
 "nbformat": 4,
 "nbformat_minor": 5
}
