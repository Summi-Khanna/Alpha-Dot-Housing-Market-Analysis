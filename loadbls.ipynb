{
 "cells": [
  {
   "cell_type": "markdown",
   "id": "1ceb41f7-a958-4d56-aa37-efce343f476c",
   "metadata": {
    "tags": []
   },
   "source": [
    "### Loading Libraries & Environment Variables"
   ]
  },
  {
   "cell_type": "code",
   "execution_count": 2,
   "id": "ca61f436-f9a1-41fa-9bfe-8c236780d8f0",
   "metadata": {},
   "outputs": [],
   "source": [
    "import os\n",
    "import requests\n",
    "import json\n",
    "import prettytable\n",
    "import pandas as pd\n",
    "from dotenv import load_dotenv"
   ]
  },
  {
   "cell_type": "code",
   "execution_count": 3,
   "id": "ff23ab4c-aabe-4883-a355-7297905f9189",
   "metadata": {},
   "outputs": [
    {
     "data": {
      "text/plain": [
       "True"
      ]
     },
     "execution_count": 3,
     "metadata": {},
     "output_type": "execute_result"
    }
   ],
   "source": [
    "# Load the environment variables from the .env file\n",
    "#by calling the load_dotenv function\n",
    "load_dotenv()"
   ]
  },
  {
   "cell_type": "markdown",
   "id": "10576684-8bc8-42b8-9ab0-63ea9dbf9f08",
   "metadata": {
    "tags": []
   },
   "source": [
    "### Loading Data"
   ]
  },
  {
   "cell_type": "markdown",
   "id": "51953cd5-580e-4314-9307-9b5b0d1d2191",
   "metadata": {},
   "source": [
    "#### Setting up to use the BLS API"
   ]
  },
  {
   "cell_type": "code",
   "execution_count": 4,
   "id": "7b78249f-0b59-45a9-b7b6-73455cf5f6f0",
   "metadata": {},
   "outputs": [],
   "source": [
    "# Set the base url for BLS API v2\n",
    "url = 'https://api.bls.gov/publicAPI/v2/timeseries/data/'"
   ]
  },
  {
   "cell_type": "code",
   "execution_count": 5,
   "id": "46e6e62b-2b03-4e85-8abd-df09e0a8fb12",
   "metadata": {},
   "outputs": [],
   "source": [
    "# Pull the API key in .env which contains: bls_key = 'key'\n",
    "bls_key = os.getenv(\"bls_key\")\n",
    "key = '?registrationkey={}'.format(bls_key)"
   ]
  },
  {
   "cell_type": "code",
   "execution_count": 6,
   "id": "352ec125-6703-4d8b-bbde-b1184ac5f390",
   "metadata": {},
   "outputs": [],
   "source": [
    "# Set the start year and end year for the 5-year data series\n",
    "dates = ('2019', '2021')"
   ]
  },
  {
   "cell_type": "markdown",
   "id": "9d2eef4e-fb30-4929-a807-9bf6788f6161",
   "metadata": {},
   "source": [
    "#### Loading Labor Force data for Washington Counties"
   ]
  },
  {
   "cell_type": "code",
   "execution_count": 11,
   "id": "bfed1ce4-5583-4ef6-b1ee-318fc41da2b4",
   "metadata": {},
   "outputs": [],
   "source": [
    "# Creating series list\n",
    "# example: 'LAUCN530010000000005'\n",
    "# The series id has the following structure:\n",
    "# 'LA' = Prefix for local area data\n",
    "# 'U' (or 'S') for seasonal adjustment \n",
    "# 'CN53001000000' = area code --> 'CN' for county level data + state fips code + county fips code\n",
    "# '06' = 2-digit measure code for Labor Force\n",
    "\n",
    "# Create a dictionary of the series codes and fips codes\n",
    "series_dict = {\n",
    "    'LAUCN530010000000006': '53001',\n",
    "    'LAUCN530030000000006': '53003',\n",
    "    'LAUCN530050000000006': '53005',\n",
    "    'LAUCN530070000000006': '53007',\n",
    "    'LAUCN530090000000006': '53009',\n",
    "    'LAUCN530110000000006': '53011',\n",
    "    'LAUCN530130000000006': '53013',\n",
    "    'LAUCN530150000000006': '53015',\n",
    "    'LAUCN530170000000006': '53017',\n",
    "    'LAUCN530190000000006': '53019',\n",
    "    'LAUCN530210000000006': '53021',\n",
    "    'LAUCN530230000000006': '53023',\n",
    "    'LAUCN530250000000006': '53025',\n",
    "    'LAUCN530270000000006': '53027',\n",
    "    'LAUCN530290000000006': '53029',\n",
    "    'LAUCN530310000000006': '53031',\n",
    "    'LAUCN530330000000006': '53033',\n",
    "    'LAUCN530350000000006': '53035',\n",
    "    'LAUCN530370000000006': '53037',\n",
    "    'LAUCN530390000000006': '53039',\n",
    "    'LAUCN530410000000006': '53041',\n",
    "    'LAUCN530430000000006': '53043',\n",
    "    'LAUCN530450000000006': '53045',\n",
    "    'LAUCN530470000000006': '53047',\n",
    "    'LAUCN530490000000006': '53049',\n",
    "    'LAUCN530510000000006': '53051',\n",
    "    'LAUCN530530000000006': '53053',\n",
    "    'LAUCN530550000000006': '53055',\n",
    "    'LAUCN530570000000006': '53057',\n",
    "    'LAUCN530590000000006': '53059',\n",
    "    'LAUCN530610000000006': '53061',\n",
    "    'LAUCN530630000000006': '53063',\n",
    "    'LAUCN530650000000006': '53065',\n",
    "    'LAUCN530670000000006': '53067',\n",
    "    'LAUCN530690000000006': '53069',\n",
    "    'LAUCN530710000000006': '53071',\n",
    "    'LAUCN530730000000006': '53073',\n",
    "    'LAUCN530750000000006': '53075',\n",
    "    'LAUCN530770000000006': '53077'\n",
    "}\n",
    "\n",
    "# The following code is modeled from an example provided at https://www.bd-econ.com/blsapi.html.\n",
    "\n",
    "# Specify json as content type to return\n",
    "headers = {'Content-type': 'application/json'}\n",
    "\n",
    "# Submit the list of series and the dates as data\n",
    "data = json.dumps({\n",
    "    \"seriesid\": list(series_dict.keys()),\n",
    "    \"startyear\": dates[0],\n",
    "    \"endyear\": dates[1]})\n"
   ]
  },
  {
   "cell_type": "code",
   "execution_count": 19,
   "id": "e5126f5c-c404-4f2d-92b7-ce6a49ae065f",
   "metadata": {},
   "outputs": [],
   "source": [
    "#The API is currently retricting the call to 25 series at a time. Use this dictionary to pull a second file with the remaining 14 wa counties.\n",
    "series_dict = {\n",
    "    'LAUCN530510000000006': '53051',\n",
    "    'LAUCN530530000000006': '53053',\n",
    "    'LAUCN530550000000006': '53055',\n",
    "    'LAUCN530570000000006': '53057',\n",
    "    'LAUCN530590000000006': '53059',\n",
    "    'LAUCN530610000000006': '53061',\n",
    "    'LAUCN530630000000006': '53063',\n",
    "    'LAUCN530650000000006': '53065',\n",
    "    'LAUCN530670000000006': '53067',\n",
    "    'LAUCN530690000000006': '53069',\n",
    "    'LAUCN530710000000006': '53071',\n",
    "    'LAUCN530730000000006': '53073',\n",
    "    'LAUCN530750000000006': '53075',\n",
    "    'LAUCN530770000000006': '53077'\n",
    "}\n",
    "\n",
    "# Specify json as content type to return\n",
    "headers = {'Content-type': 'application/json'}\n",
    "\n",
    "# Submit the list of series and the dates as data\n",
    "data = json.dumps({\n",
    "    \"seriesid\": list(series_dict.keys()),\n",
    "    \"startyear\": dates[0],\n",
    "    \"endyear\": dates[1]})"
   ]
  },
  {
   "cell_type": "code",
   "execution_count": 20,
   "id": "1bb5c583-809a-4dfe-ba25-0282ca96c852",
   "metadata": {},
   "outputs": [],
   "source": [
    "# Posting request for the data\n",
    "p = requests.post(\n",
    "    '{}{}'.format(url, key),\n",
    "    headers=headers,\n",
    "    data=data).json()['Results']['series']"
   ]
  },
  {
   "cell_type": "code",
   "execution_count": 21,
   "id": "a68ba9b0-7977-4cb8-bc86-8f90debde37a",
   "metadata": {},
   "outputs": [],
   "source": [
    "# Creating a date index from first series\n",
    "date_list = [f\"{i['year']}-{i['period'][1:]}-01\" for i in p[0]['data']]\n",
    "\n",
    "# Creating an empty dataframe to fill with values\n",
    "df_labor_force = pd.DataFrame()\n",
    "\n",
    "# Building a pandas series from the API results, p\n",
    "for s in p:\n",
    "    df_labor_force[series_dict[s['seriesID']]] = pd.Series(\n",
    "        index = pd.to_datetime(date_list),\n",
    "        data = [i['value'] for i in s['data']]\n",
    "        ).astype(float).iloc[::-1]\n"
   ]
  },
  {
   "cell_type": "code",
   "execution_count": 22,
   "id": "8a7ec0c0-87b0-4b83-bf0d-f47b98d02518",
   "metadata": {},
   "outputs": [
    {
     "data": {
      "text/html": [
       "<div>\n",
       "<style scoped>\n",
       "    .dataframe tbody tr th:only-of-type {\n",
       "        vertical-align: middle;\n",
       "    }\n",
       "\n",
       "    .dataframe tbody tr th {\n",
       "        vertical-align: top;\n",
       "    }\n",
       "\n",
       "    .dataframe thead th {\n",
       "        text-align: right;\n",
       "    }\n",
       "</style>\n",
       "<table border=\"1\" class=\"dataframe\">\n",
       "  <thead>\n",
       "    <tr style=\"text-align: right;\">\n",
       "      <th></th>\n",
       "      <th>53051</th>\n",
       "      <th>53053</th>\n",
       "      <th>53055</th>\n",
       "      <th>53057</th>\n",
       "      <th>53059</th>\n",
       "      <th>53061</th>\n",
       "      <th>53063</th>\n",
       "      <th>53065</th>\n",
       "      <th>53067</th>\n",
       "      <th>53069</th>\n",
       "      <th>53071</th>\n",
       "      <th>53073</th>\n",
       "      <th>53075</th>\n",
       "      <th>53077</th>\n",
       "    </tr>\n",
       "  </thead>\n",
       "  <tbody>\n",
       "    <tr>\n",
       "      <th>2019-01-01</th>\n",
       "      <td>5006.0</td>\n",
       "      <td>437184.0</td>\n",
       "      <td>7858.0</td>\n",
       "      <td>62053.0</td>\n",
       "      <td>5602.0</td>\n",
       "      <td>436333.0</td>\n",
       "      <td>252794.0</td>\n",
       "      <td>18916.0</td>\n",
       "      <td>141009.0</td>\n",
       "      <td>1364.0</td>\n",
       "      <td>29006.0</td>\n",
       "      <td>114376.0</td>\n",
       "      <td>24337.0</td>\n",
       "      <td>125062.0</td>\n",
       "    </tr>\n",
       "    <tr>\n",
       "      <th>2019-02-01</th>\n",
       "      <td>5069.0</td>\n",
       "      <td>440179.0</td>\n",
       "      <td>7855.0</td>\n",
       "      <td>62689.0</td>\n",
       "      <td>5664.0</td>\n",
       "      <td>440097.0</td>\n",
       "      <td>255176.0</td>\n",
       "      <td>19091.0</td>\n",
       "      <td>142323.0</td>\n",
       "      <td>1379.0</td>\n",
       "      <td>29275.0</td>\n",
       "      <td>115417.0</td>\n",
       "      <td>24617.0</td>\n",
       "      <td>125033.0</td>\n",
       "    </tr>\n",
       "    <tr>\n",
       "      <th>2019-03-01</th>\n",
       "      <td>5042.0</td>\n",
       "      <td>440261.0</td>\n",
       "      <td>7935.0</td>\n",
       "      <td>62704.0</td>\n",
       "      <td>5604.0</td>\n",
       "      <td>439304.0</td>\n",
       "      <td>254947.0</td>\n",
       "      <td>19141.0</td>\n",
       "      <td>142478.0</td>\n",
       "      <td>1385.0</td>\n",
       "      <td>29655.0</td>\n",
       "      <td>115534.0</td>\n",
       "      <td>24630.0</td>\n",
       "      <td>127033.0</td>\n",
       "    </tr>\n",
       "    <tr>\n",
       "      <th>2019-04-01</th>\n",
       "      <td>4971.0</td>\n",
       "      <td>435853.0</td>\n",
       "      <td>8131.0</td>\n",
       "      <td>62558.0</td>\n",
       "      <td>5528.0</td>\n",
       "      <td>435333.0</td>\n",
       "      <td>252117.0</td>\n",
       "      <td>18895.0</td>\n",
       "      <td>141312.0</td>\n",
       "      <td>1346.0</td>\n",
       "      <td>29747.0</td>\n",
       "      <td>114713.0</td>\n",
       "      <td>24587.0</td>\n",
       "      <td>128182.0</td>\n",
       "    </tr>\n",
       "    <tr>\n",
       "      <th>2019-05-01</th>\n",
       "      <td>4938.0</td>\n",
       "      <td>435080.0</td>\n",
       "      <td>8472.0</td>\n",
       "      <td>62607.0</td>\n",
       "      <td>5513.0</td>\n",
       "      <td>437135.0</td>\n",
       "      <td>252188.0</td>\n",
       "      <td>18704.0</td>\n",
       "      <td>140670.0</td>\n",
       "      <td>1362.0</td>\n",
       "      <td>29636.0</td>\n",
       "      <td>114215.0</td>\n",
       "      <td>24454.0</td>\n",
       "      <td>129458.0</td>\n",
       "    </tr>\n",
       "  </tbody>\n",
       "</table>\n",
       "</div>"
      ],
      "text/plain": [
       "             53051     53053   53055    53057   53059     53061     53063  \\\n",
       "2019-01-01  5006.0  437184.0  7858.0  62053.0  5602.0  436333.0  252794.0   \n",
       "2019-02-01  5069.0  440179.0  7855.0  62689.0  5664.0  440097.0  255176.0   \n",
       "2019-03-01  5042.0  440261.0  7935.0  62704.0  5604.0  439304.0  254947.0   \n",
       "2019-04-01  4971.0  435853.0  8131.0  62558.0  5528.0  435333.0  252117.0   \n",
       "2019-05-01  4938.0  435080.0  8472.0  62607.0  5513.0  437135.0  252188.0   \n",
       "\n",
       "              53065     53067   53069    53071     53073    53075     53077  \n",
       "2019-01-01  18916.0  141009.0  1364.0  29006.0  114376.0  24337.0  125062.0  \n",
       "2019-02-01  19091.0  142323.0  1379.0  29275.0  115417.0  24617.0  125033.0  \n",
       "2019-03-01  19141.0  142478.0  1385.0  29655.0  115534.0  24630.0  127033.0  \n",
       "2019-04-01  18895.0  141312.0  1346.0  29747.0  114713.0  24587.0  128182.0  \n",
       "2019-05-01  18704.0  140670.0  1362.0  29636.0  114215.0  24454.0  129458.0  "
      ]
     },
     "execution_count": 22,
     "metadata": {},
     "output_type": "execute_result"
    }
   ],
   "source": [
    "#Reviewing labor force dataframe\n",
    "df_labor_force.head()"
   ]
  },
  {
   "cell_type": "code",
   "execution_count": 23,
   "id": "3938589b-8102-44b7-bc95-91affbf76fb0",
   "metadata": {},
   "outputs": [],
   "source": [
    "#Saving the first file to a csv\n",
    "df_labor_force.to_csv('Resources/wa_labor_force_by_county1.csv')"
   ]
  },
  {
   "cell_type": "code",
   "execution_count": null,
   "id": "d6762650-62ed-4a71-b88b-aa67a0a8390c",
   "metadata": {},
   "outputs": [],
   "source": [
    "#Saving the second file to a csv\n",
    "df_labor_force.to_csv('Resources/wa_labor_force_by_county2.csv')"
   ]
  },
  {
   "cell_type": "markdown",
   "id": "24771db2-8561-4506-a9ad-1fcc7cc9069b",
   "metadata": {},
   "source": [
    "### Loading Employment data for Washington Counties"
   ]
  },
  {
   "cell_type": "code",
   "execution_count": 24,
   "id": "a0fae187-fc2a-49c6-8db1-a605bf8de47d",
   "metadata": {},
   "outputs": [],
   "source": [
    "# Creating series list\n",
    "# example: 'LAUCN530010000000005'\n",
    "# The series id has the following structure:\n",
    "# 'LA' = Prefix for local area data\n",
    "# 'U' (or 'S') for seasonal adjustment \n",
    "# 'CN53001000000' = area code --> 'CN' for county level data + state fips code + county fips code\n",
    "# '05' = 2-digit measure code for Employment\n",
    "\n",
    "# Creating a dictionary of the series codes and fips codes\n",
    "series_dict = {\n",
    "    'LAUCN530010000000005': '53001',\n",
    "    'LAUCN530030000000005': '53003',\n",
    "    'LAUCN530050000000005': '53005',\n",
    "    'LAUCN530070000000005': '53007',\n",
    "    'LAUCN530090000000005': '53009',\n",
    "    'LAUCN530110000000005': '53011',\n",
    "    'LAUCN530130000000005': '53013',\n",
    "    'LAUCN530150000000005': '53015',\n",
    "    'LAUCN530170000000005': '53017',\n",
    "    'LAUCN530190000000005': '53019',\n",
    "    'LAUCN530210000000005': '53021',\n",
    "    'LAUCN530230000000005': '53023',\n",
    "    'LAUCN530250000000005': '53025',\n",
    "    'LAUCN530270000000005': '53027',\n",
    "    'LAUCN530290000000005': '53029',\n",
    "    'LAUCN530310000000005': '53031',\n",
    "    'LAUCN530330000000005': '53033',\n",
    "    'LAUCN530350000000005': '53035',\n",
    "    'LAUCN530370000000005': '53037',\n",
    "    'LAUCN530390000000005': '53039',\n",
    "    'LAUCN530410000000005': '53041',\n",
    "    'LAUCN530430000000005': '53043',\n",
    "    'LAUCN530450000000005': '53045',\n",
    "    'LAUCN530470000000005': '53047',\n",
    "    'LAUCN530490000000005': '53049',\n",
    "    'LAUCN530510000000005': '53051',\n",
    "    'LAUCN530530000000005': '53053',\n",
    "    'LAUCN530550000000005': '53055',\n",
    "    'LAUCN530570000000005': '53057',\n",
    "    'LAUCN530590000000005': '53059',\n",
    "    'LAUCN530610000000005': '53061',\n",
    "    'LAUCN530630000000005': '53063',\n",
    "    'LAUCN530650000000005': '53065',\n",
    "    'LAUCN530670000000005': '53067',\n",
    "    'LAUCN530690000000005': '53069',\n",
    "    'LAUCN530710000000005': '53071',\n",
    "    'LAUCN530730000000005': '53073',\n",
    "    'LAUCN530750000000005': '53075',\n",
    "    'LAUCN530770000000005': '53077'\n",
    "}\n",
    "\n",
    "# The following code is modeled from an example provided at https://www.bd-econ.com/blsapi.html.\n",
    "\n",
    "# Specifying json as content type to return\n",
    "headers = {'Content-type': 'application/json'}\n",
    "\n",
    "# Submitting the list of series and the dates as data\n",
    "data = json.dumps({\n",
    "    \"seriesid\": list(series_dict.keys()),\n",
    "    \"startyear\": dates[0],\n",
    "    \"endyear\": dates[1]})\n"
   ]
  },
  {
   "cell_type": "code",
   "execution_count": 33,
   "id": "0483a494-bcbe-4438-bf24-0775a125a01b",
   "metadata": {},
   "outputs": [],
   "source": [
    "#This second series dictionary is for getting the last 14 counties becuase the API limits to 25 series in one call.\n",
    "series_dict = {\n",
    "    'LAUCN530510000000005': '53051',\n",
    "    'LAUCN530530000000005': '53053',\n",
    "    'LAUCN530550000000005': '53055',\n",
    "    'LAUCN530570000000005': '53057',\n",
    "    'LAUCN530590000000005': '53059',\n",
    "    'LAUCN530610000000005': '53061',\n",
    "    'LAUCN530630000000005': '53063',\n",
    "    'LAUCN530650000000005': '53065',\n",
    "    'LAUCN530670000000005': '53067',\n",
    "    'LAUCN530690000000005': '53069',\n",
    "    'LAUCN530710000000005': '53071',\n",
    "    'LAUCN530730000000005': '53073',\n",
    "    'LAUCN530750000000005': '53075',\n",
    "    'LAUCN530770000000005': '53077'\n",
    "}\n",
    "\n",
    "# Specifying json as content type to return\n",
    "headers = {'Content-type': 'application/json'}\n",
    "\n",
    "# Submitting the list of series and the dates as data\n",
    "data = json.dumps({\n",
    "    \"seriesid\": list(series_dict.keys()),\n",
    "    \"startyear\": dates[0],\n",
    "    \"endyear\": dates[1]})"
   ]
  },
  {
   "cell_type": "code",
   "execution_count": 34,
   "id": "038f7b0d-312f-49bc-9b4c-d1c0a5e46237",
   "metadata": {},
   "outputs": [],
   "source": [
    "# Posting request for the data\n",
    "p = requests.post(\n",
    "    '{}{}'.format(url, key),\n",
    "    headers=headers,\n",
    "    data=data).json()['Results']['series']"
   ]
  },
  {
   "cell_type": "code",
   "execution_count": 35,
   "id": "8958fae2-356f-4cda-b2a7-8acc7298f183",
   "metadata": {},
   "outputs": [],
   "source": [
    "# Creating a date index from first series\n",
    "date_list = [f\"{i['year']}-{i['period'][1:]}-01\" for i in p[0]['data']]\n",
    "\n",
    "# Creating an empty dataframe to fill with values for employment\n",
    "df_employment = pd.DataFrame()\n",
    "\n",
    "# Building a pandas series from the API results, p\n",
    "for s in p:\n",
    "    df_employment[series_dict[s['seriesID']]] = pd.Series(\n",
    "        index = pd.to_datetime(date_list),\n",
    "        data = [i['value'] for i in s['data']]\n",
    "        ).astype(float).iloc[::-1]"
   ]
  },
  {
   "cell_type": "code",
   "execution_count": null,
   "id": "cc955001-c065-4396-87aa-73e4da943e82",
   "metadata": {},
   "outputs": [],
   "source": [
    "#Saving the first file to csv\n",
    "df_employment.to_csv('Resources/wa_employment_by_county1.csv')"
   ]
  },
  {
   "cell_type": "code",
   "execution_count": 37,
   "id": "a11ec87e-149e-4aa4-bfde-33803ccfd453",
   "metadata": {},
   "outputs": [],
   "source": [
    "#Saving the second file to csv\n",
    "df_employment.to_csv('Resources/wa_employment_by_county2.csv')"
   ]
  }
 ],
 "metadata": {
  "kernelspec": {
   "display_name": "Python (dev)",
   "language": "python",
   "name": "dev"
  },
  "language_info": {
   "codemirror_mode": {
    "name": "ipython",
    "version": 3
   },
   "file_extension": ".py",
   "mimetype": "text/x-python",
   "name": "python",
   "nbconvert_exporter": "python",
   "pygments_lexer": "ipython3",
   "version": "3.7.11"
  }
 },
 "nbformat": 4,
 "nbformat_minor": 5
}
