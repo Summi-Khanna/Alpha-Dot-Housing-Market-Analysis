{
 "cells": [
  {
   "cell_type": "markdown",
   "id": "1ceb41f7-a958-4d56-aa37-efce343f476c",
   "metadata": {
    "tags": []
   },
   "source": [
    "### Loading Libraries & Environment Variables"
   ]
  },
  {
   "cell_type": "code",
   "execution_count": null,
   "id": "ca61f436-f9a1-41fa-9bfe-8c236780d8f0",
   "metadata": {},
   "outputs": [],
   "source": [
    "import os\n",
    "import requests\n",
    "import json\n",
    "import prettytable\n",
    "import pandas as pd\n",
    "from dotenv import load_dotenv"
   ]
  },
  {
   "cell_type": "code",
   "execution_count": 10,
   "id": "ff23ab4c-aabe-4883-a355-7297905f9189",
   "metadata": {},
   "outputs": [
    {
     "data": {
      "text/plain": [
       "True"
      ]
     },
     "execution_count": 10,
     "metadata": {},
     "output_type": "execute_result"
    }
   ],
   "source": [
    "# Load the environment variables from the .env file\n",
    "#by calling the load_dotenv function\n",
    "load_dotenv()"
   ]
  },
  {
   "cell_type": "markdown",
   "id": "10576684-8bc8-42b8-9ab0-63ea9dbf9f08",
   "metadata": {
    "tags": []
   },
   "source": [
    "### Loading Data"
   ]
  },
  {
   "cell_type": "markdown",
   "id": "51953cd5-580e-4314-9307-9b5b0d1d2191",
   "metadata": {},
   "source": [
    "#### Pulling labor market data with the BLS API"
   ]
  },
  {
   "cell_type": "code",
   "execution_count": 11,
   "id": "7b78249f-0b59-45a9-b7b6-73455cf5f6f0",
   "metadata": {},
   "outputs": [],
   "source": [
    "# Set the base url for BLS API v2\n",
    "url = 'https://api.bls.gov/publicAPI/v2/timeseries/data/'"
   ]
  },
  {
   "cell_type": "code",
   "execution_count": 12,
   "id": "46e6e62b-2b03-4e85-8abd-df09e0a8fb12",
   "metadata": {},
   "outputs": [],
   "source": [
    "# Pull the API key in .env which contains: bls_key = 'key'\n",
    "bls_key = os.getenv(\"bls_key\")\n",
    "key = '?registrationkey={}'.format(bls_key)"
   ]
  },
  {
   "cell_type": "code",
   "execution_count": 13,
   "id": "352ec125-6703-4d8b-bbde-b1184ac5f390",
   "metadata": {},
   "outputs": [],
   "source": [
    "# Set the start year and end year for the data series\n",
    "dates = ('2012', '2022')"
   ]
  },
  {
   "cell_type": "code",
   "execution_count": 14,
   "id": "04cc0ea1-0995-48ba-8546-d0b4b311bf3d",
   "metadata": {},
   "outputs": [],
   "source": [
    "# Create a dictionary of the series codes and names.\n",
    "series_dict = {\n",
    "    'LAUCN010010000000005': 'Employment',\n",
    "    'LAUCN010010000000006': 'Labor_Force'}"
   ]
  },
  {
   "cell_type": "code",
   "execution_count": 19,
   "id": "e95e7676-a2ee-4e00-b428-0bac2a408a1d",
   "metadata": {},
   "outputs": [],
   "source": [
    "# The following code is modeled from an example provided at https://www.bd-econ.com/blsapi.html.\n",
    "\n",
    "# Specify json as content type to return\n",
    "headers = {'Content-type': 'application/json'}\n",
    "\n",
    "# Submit the list of series and the dates as data\n",
    "data = json.dumps({\n",
    "    \"seriesid\": list(series_dict.keys()),\n",
    "    \"startyear\": dates[0],\n",
    "    \"endyear\": dates[1]})\n",
    "\n",
    "# Post request for the data\n",
    "p = requests.post(\n",
    "    '{}{}'.format(url, key),\n",
    "    headers=headers,\n",
    "    data=data).json()['Results']['series']\n"
   ]
  },
  {
   "cell_type": "code",
   "execution_count": 20,
   "id": "145bee95-47dc-40a4-8fb2-3b214bad947e",
   "metadata": {},
   "outputs": [
    {
     "data": {
      "text/html": [
       "<div>\n",
       "<style scoped>\n",
       "    .dataframe tbody tr th:only-of-type {\n",
       "        vertical-align: middle;\n",
       "    }\n",
       "\n",
       "    .dataframe tbody tr th {\n",
       "        vertical-align: top;\n",
       "    }\n",
       "\n",
       "    .dataframe thead th {\n",
       "        text-align: right;\n",
       "    }\n",
       "</style>\n",
       "<table border=\"1\" class=\"dataframe\">\n",
       "  <thead>\n",
       "    <tr style=\"text-align: right;\">\n",
       "      <th></th>\n",
       "      <th>Employment</th>\n",
       "      <th>Labor_Force</th>\n",
       "    </tr>\n",
       "  </thead>\n",
       "  <tbody>\n",
       "    <tr>\n",
       "      <th>2021-07-01</th>\n",
       "      <td>24988.0</td>\n",
       "      <td>25710.0</td>\n",
       "    </tr>\n",
       "    <tr>\n",
       "      <th>2021-08-01</th>\n",
       "      <td>24785.0</td>\n",
       "      <td>25517.0</td>\n",
       "    </tr>\n",
       "    <tr>\n",
       "      <th>2021-09-01</th>\n",
       "      <td>24685.0</td>\n",
       "      <td>25326.0</td>\n",
       "    </tr>\n",
       "    <tr>\n",
       "      <th>2021-10-01</th>\n",
       "      <td>24759.0</td>\n",
       "      <td>25337.0</td>\n",
       "    </tr>\n",
       "    <tr>\n",
       "      <th>2021-11-01</th>\n",
       "      <td>25069.0</td>\n",
       "      <td>25722.0</td>\n",
       "    </tr>\n",
       "  </tbody>\n",
       "</table>\n",
       "</div>"
      ],
      "text/plain": [
       "            Employment  Labor_Force\n",
       "2021-07-01     24988.0      25710.0\n",
       "2021-08-01     24785.0      25517.0\n",
       "2021-09-01     24685.0      25326.0\n",
       "2021-10-01     24759.0      25337.0\n",
       "2021-11-01     25069.0      25722.0"
      ]
     },
     "execution_count": 20,
     "metadata": {},
     "output_type": "execute_result"
    }
   ],
   "source": [
    "# Date index from first series\n",
    "date_list = [f\"{i['year']}-{i['period'][1:]}-01\" for i in p[0]['data']]\n",
    "\n",
    "# Create an empty dataframe to fill with values\n",
    "df_labor_market = pd.DataFrame()\n",
    "\n",
    "# Build a pandas series from the API results, p\n",
    "for s in p:\n",
    "    df_labor_market[series_dict[s['seriesID']]] = pd.Series(\n",
    "        index = pd.to_datetime(date_list),\n",
    "        data = [i['value'] for i in s['data']]\n",
    "        ).astype(float).iloc[::-1]\n",
    "# Review last 5 results\n",
    "df_labor_market.tail()\n"
   ]
  },
  {
   "cell_type": "code",
   "execution_count": 21,
   "id": "1bb4102e-1b2d-4a9b-abc4-9ff0e5e03c8e",
   "metadata": {},
   "outputs": [
    {
     "data": {
      "text/html": [
       "<div>\n",
       "<style scoped>\n",
       "    .dataframe tbody tr th:only-of-type {\n",
       "        vertical-align: middle;\n",
       "    }\n",
       "\n",
       "    .dataframe tbody tr th {\n",
       "        vertical-align: top;\n",
       "    }\n",
       "\n",
       "    .dataframe thead th {\n",
       "        text-align: right;\n",
       "    }\n",
       "</style>\n",
       "<table border=\"1\" class=\"dataframe\">\n",
       "  <thead>\n",
       "    <tr style=\"text-align: right;\">\n",
       "      <th></th>\n",
       "      <th>Employment</th>\n",
       "      <th>Labor_Force</th>\n",
       "    </tr>\n",
       "  </thead>\n",
       "  <tbody>\n",
       "    <tr>\n",
       "      <th>2012-01-01</th>\n",
       "      <td>23452.0</td>\n",
       "      <td>25462.0</td>\n",
       "    </tr>\n",
       "    <tr>\n",
       "      <th>2012-02-01</th>\n",
       "      <td>23546.0</td>\n",
       "      <td>25507.0</td>\n",
       "    </tr>\n",
       "    <tr>\n",
       "      <th>2012-03-01</th>\n",
       "      <td>23598.0</td>\n",
       "      <td>25457.0</td>\n",
       "    </tr>\n",
       "    <tr>\n",
       "      <th>2012-04-01</th>\n",
       "      <td>23800.0</td>\n",
       "      <td>25484.0</td>\n",
       "    </tr>\n",
       "    <tr>\n",
       "      <th>2012-05-01</th>\n",
       "      <td>23976.0</td>\n",
       "      <td>25733.0</td>\n",
       "    </tr>\n",
       "  </tbody>\n",
       "</table>\n",
       "</div>"
      ],
      "text/plain": [
       "            Employment  Labor_Force\n",
       "2012-01-01     23452.0      25462.0\n",
       "2012-02-01     23546.0      25507.0\n",
       "2012-03-01     23598.0      25457.0\n",
       "2012-04-01     23800.0      25484.0\n",
       "2012-05-01     23976.0      25733.0"
      ]
     },
     "execution_count": 21,
     "metadata": {},
     "output_type": "execute_result"
    }
   ],
   "source": [
    "# Review\n",
    "df_labor_market.head()"
   ]
  },
  {
   "cell_type": "code",
   "execution_count": 22,
   "id": "876408a9-a4f1-4470-a128-c64b7438d634",
   "metadata": {},
   "outputs": [],
   "source": [
    "# Create the fips code series to append to the dataframe\n",
    "counties=len(df_labor_market)\n",
    "seriesid  = list(series_dict.keys())\n",
    "fips_code = seriesid[0]\n",
    "fips_code = fips_code[6:10]\n",
    "\n",
    "fips_list = []\n",
    "for i in range(1,counties+1):\n",
    "    fips_list.append(fips_code)"
   ]
  },
  {
   "cell_type": "code",
   "execution_count": 24,
   "id": "de0f7ab1-8117-4a8c-ad93-6f441fcc2d3e",
   "metadata": {},
   "outputs": [],
   "source": [
    "df_labor_market['Fips_Code'] = fips_list"
   ]
  },
  {
   "cell_type": "code",
   "execution_count": 27,
   "id": "f2caf8c7-3bbf-40b1-9fd2-43679b95f892",
   "metadata": {},
   "outputs": [
    {
     "data": {
      "text/html": [
       "<div>\n",
       "<style scoped>\n",
       "    .dataframe tbody tr th:only-of-type {\n",
       "        vertical-align: middle;\n",
       "    }\n",
       "\n",
       "    .dataframe tbody tr th {\n",
       "        vertical-align: top;\n",
       "    }\n",
       "\n",
       "    .dataframe thead th {\n",
       "        text-align: right;\n",
       "    }\n",
       "</style>\n",
       "<table border=\"1\" class=\"dataframe\">\n",
       "  <thead>\n",
       "    <tr style=\"text-align: right;\">\n",
       "      <th></th>\n",
       "      <th>Employment</th>\n",
       "      <th>Labor_Force</th>\n",
       "      <th>Fips_Code</th>\n",
       "    </tr>\n",
       "  </thead>\n",
       "  <tbody>\n",
       "    <tr>\n",
       "      <th>2012-01-01</th>\n",
       "      <td>23452.0</td>\n",
       "      <td>25462.0</td>\n",
       "      <td>1001</td>\n",
       "    </tr>\n",
       "    <tr>\n",
       "      <th>2012-02-01</th>\n",
       "      <td>23546.0</td>\n",
       "      <td>25507.0</td>\n",
       "      <td>1001</td>\n",
       "    </tr>\n",
       "    <tr>\n",
       "      <th>2012-03-01</th>\n",
       "      <td>23598.0</td>\n",
       "      <td>25457.0</td>\n",
       "      <td>1001</td>\n",
       "    </tr>\n",
       "    <tr>\n",
       "      <th>2012-04-01</th>\n",
       "      <td>23800.0</td>\n",
       "      <td>25484.0</td>\n",
       "      <td>1001</td>\n",
       "    </tr>\n",
       "    <tr>\n",
       "      <th>2012-05-01</th>\n",
       "      <td>23976.0</td>\n",
       "      <td>25733.0</td>\n",
       "      <td>1001</td>\n",
       "    </tr>\n",
       "  </tbody>\n",
       "</table>\n",
       "</div>"
      ],
      "text/plain": [
       "            Employment  Labor_Force Fips_Code\n",
       "2012-01-01     23452.0      25462.0      1001\n",
       "2012-02-01     23546.0      25507.0      1001\n",
       "2012-03-01     23598.0      25457.0      1001\n",
       "2012-04-01     23800.0      25484.0      1001\n",
       "2012-05-01     23976.0      25733.0      1001"
      ]
     },
     "execution_count": 27,
     "metadata": {},
     "output_type": "execute_result"
    }
   ],
   "source": [
    "#Review the dataframe again\n",
    "df_labor_market.head()"
   ]
  }
 ],
 "metadata": {
  "kernelspec": {
   "display_name": "Python (dev)",
   "language": "python",
   "name": "dev"
  },
  "language_info": {
   "codemirror_mode": {
    "name": "ipython",
    "version": 3
   },
   "file_extension": ".py",
   "mimetype": "text/x-python",
   "name": "python",
   "nbconvert_exporter": "python",
   "pygments_lexer": "ipython3",
   "version": "3.7.11"
  }
 },
 "nbformat": 4,
 "nbformat_minor": 5
}
