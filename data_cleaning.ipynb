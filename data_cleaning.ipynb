{
 "cells": [
  {
   "cell_type": "code",
   "execution_count": 1,
   "id": "8d3bcc90-6ae3-4f24-b84c-34ee973be899",
   "metadata": {},
   "outputs": [],
   "source": [
    "import pandas as pd\n",
    "import json\n",
    "import os\n",
    "import numpy as np"
   ]
  },
  {
   "cell_type": "markdown",
   "id": "876ff46f-6d81-4eda-80e3-0061e9579045",
   "metadata": {
    "tags": []
   },
   "source": [
    "# Functions to Read Data File"
   ]
  },
  {
   "cell_type": "markdown",
   "id": "d5dcea5f-1da7-4b94-9293-9f8534d9350e",
   "metadata": {},
   "source": [
    "###  Function To Import Housing Inventory Data "
   ]
  },
  {
   "cell_type": "code",
   "execution_count": 2,
   "id": "d29a6ee7-6d49-4f10-a82c-61e9cd00e85f",
   "metadata": {},
   "outputs": [],
   "source": [
    "def read_housing_inventory_data():\n",
    "    # Reading Housing List prices from `Resources/RDC_Inventory_Core_Metrics_County_History.csv`\n",
    "    house_listing_df = pd.read_csv('Resources/RDC_Inventory_Core_Metrics_County_History.csv')\n",
    "    # Changing the date column format to yyyy-mm-dd\n",
    "    house_listing_df['month_date_yyyymm'] = pd.to_datetime(house_listing_df['month_date_yyyymm'], format='%Y%m')\n",
    "\n",
    "    # Renaming the column `month_date_yyyymm` to `Date`\n",
    "    house_listing_df.rename(columns={'month_date_yyyymm':'Date'}, inplace=True)\n",
    "\n",
    "    # Creating new temporary Dataframe with split values of the column\n",
    "    temp_county_state_df = house_listing_df['county_name'].str.split(\",\", n =1 , expand = True)\n",
    "\n",
    "    #Re assigning county_name from the temporary Dataframe\n",
    "    house_listing_df['county_name'] = temp_county_state_df[0].str.strip()\n",
    "\n",
    "    #Creating a new column for State\n",
    "    house_listing_df['state'] = temp_county_state_df[1].str.strip()\n",
    "\n",
    "    # Selecting Data for Washington State\n",
    "    wa_house_listing_df = house_listing_df[house_listing_df['state'] == 'wa']\n",
    "    wa_house_listing_df['county_name'] = wa_house_listing_df['county_name'].str.title()\n",
    "\n",
    "    # Sorting Records by Date and County Name\n",
    "    wa_house_listing_df = wa_house_listing_df.sort_values(['Date' , 'county_name'], ascending = (True, True)).reset_index(drop = True)\n",
    "\n",
    "    return wa_house_listing_df"
   ]
  },
  {
   "cell_type": "markdown",
   "id": "f1bf732f-0547-4e9b-83da-91e8cea0ac69",
   "metadata": {},
   "source": [
    "# Function to define Custom Rental DataFrame Transform"
   ]
  },
  {
   "cell_type": "code",
   "execution_count": 3,
   "id": "83579e3d-7e00-4763-82e2-8b413e90c706",
   "metadata": {},
   "outputs": [],
   "source": [
    "def custom_transform(rental_dataframe):\n",
    "    \n",
    "    # Getting Date Column Names seperately to create a seperate column for Date\n",
    "    dates = rental_dataframe.columns[3:]\n",
    "    \n",
    "    # Creating new Series to store the type and value of Rental data(eg : City/County)\n",
    "    col_name = rental_dataframe.columns[0]\n",
    "    col_values = pd.Series(rental_dataframe.iloc[:,0])\n",
    "    \n",
    "    # Creating new DataFrame `col_details` for col_name(City_Name/County_Name) and `FIPS_Code`\n",
    "    col_details = rental_dataframe.loc[:,[col_name , 'FIPS_Code']]\n",
    "    \n",
    "    # Creating a new DataFrame with values as the cross product of `dates` list and `col_values` list\n",
    "    cross_product_df =  pd.MultiIndex.from_product([dates, col_values], names = ['Date', col_name])\n",
    "    cross_product_df = pd.DataFrame(index = cross_product_df).reset_index()\n",
    "    \n",
    "    # Merging the new DataFrame with `col_details` DataFrame\n",
    "    result_df = pd.merge(left = cross_product_df, right=col_details, left_on=col_name, right_on=col_name)\n",
    "    result_df = result_df.sort_values(by=['Date',col_name] , ignore_index = True)\n",
    "    \n",
    "    \n",
    "    rental_dataframe.set_index('FIPS_Code' , inplace=True)\n",
    "    rental_dataframe = rental_dataframe.replace('     NA', np.NaN)\n",
    "    \n",
    "    for index, row in result_df.iterrows():\n",
    "        date_col = row['Date']\n",
    "        FIPS_Code = row['FIPS_Code']\n",
    "        result_df.at[index, 'Average_Rental_Price'] = rental_dataframe.loc[FIPS_Code,date_col]\n",
    "        \n",
    "    result_df['Date'] = pd.to_datetime(result_df['Date'], format='%Y_%m')\n",
    "    return result_df\n",
    "    "
   ]
  },
  {
   "cell_type": "markdown",
   "id": "9de7e375-a81d-4ea5-afac-936b6c251ed3",
   "metadata": {},
   "source": [
    "# Function To Importing Rental Data "
   ]
  },
  {
   "cell_type": "code",
   "execution_count": 4,
   "id": "45bb3c16-8f8c-410b-8b6d-096d1b56c524",
   "metadata": {},
   "outputs": [],
   "source": [
    "def read_rental_inventory():\n",
    "    # Reading Housing List prices from `Resources/RDC_Inventory_Core_Metrics_County_History.csv`\n",
    "    rental_county_df = pd.read_csv(\"Resources/rental_growth_county.csv\")\n",
    "    rental_city_df = pd.read_csv(\"Resources/rental_growth_city.csv\")\n",
    "\n",
    "    rental_county_df['County_Name'] = (rental_county_df['County_Name'].str.split(\" \", n =1 , expand = True))[0]\n",
    "    rental_city_df['City_Name'] = (rental_city_df['City_Name'].str.split(\",\", n =1 , expand = True))[0]\n",
    "    \n",
    "    rental_county_df = custom_transform(rental_county_df)\n",
    "    rental_city_df = custom_transform(rental_city_df)\n",
    "\n",
    "    return [rental_county_df , rental_city_df]\n"
   ]
  },
  {
   "cell_type": "markdown",
   "id": "7ee7b90f-620c-480d-bc1e-663f98a96cae",
   "metadata": {},
   "source": [
    "# Function to define custom Dataframe Transform"
   ]
  },
  {
   "cell_type": "code",
   "execution_count": 5,
   "id": "2f747450-cf1c-4e23-8b41-f8d01222acd7",
   "metadata": {},
   "outputs": [],
   "source": [
    "def custom_dataframe_transform(building_df , df_column_type):\n",
    "    # Getting Date Column Names seperately to create a seperate column for Date\n",
    "    dates = building_df.columns[1:]\n",
    "    \n",
    "    # Creating new Series to store the type and value of Original data(eg : City/County)\n",
    "    col_name = building_df.columns[0]\n",
    "    col_values = pd.Series(building_df.iloc[:,0])\n",
    "    \n",
    "    # Creating a new DataFrame with values as the cross product of `dates` list and `col_values` list\n",
    "    result_df =  pd.MultiIndex.from_product([dates, col_values], names = ['Date', col_name])\n",
    "    result_df = pd.DataFrame(index = result_df).reset_index()\n",
    "    \n",
    "    building_df.set_index(col_name , inplace=True)\n",
    "    \n",
    "    for index, row in result_df.iterrows():\n",
    "        col_identifier = row['Date']\n",
    "        row_identifier = row[col_name]\n",
    "        result_df.at[index, df_column_type] = building_df.loc[row_identifier,col_identifier]\n",
    "        \n",
    "    return result_df "
   ]
  },
  {
   "cell_type": "markdown",
   "id": "0f612b77-dc59-4158-b5f9-953ba7917c79",
   "metadata": {},
   "source": [
    "# Function To Import Building Completion Units Data"
   ]
  },
  {
   "cell_type": "code",
   "execution_count": 6,
   "id": "911b9803-f43c-4014-851e-f193338980b0",
   "metadata": {},
   "outputs": [],
   "source": [
    "def read_building_completion_data():\n",
    "    # Reading Building Completion Units Data from \n",
    "    building_completion_county_df = pd.read_csv(\"Resources/building_completion_units_county_wise.csv\" , thousands=',')\n",
    "    building_completion_city_df = pd.read_csv(\"Resources/building_completion_units_city_wise.csv\" , thousands=',')\n",
    "\n",
    "    building_completion_county_df['COUNTIES'] = (building_completion_county_df['COUNTIES'].str.split(\" \", n =1 , expand = True))[0]\n",
    "    \n",
    "    # Calling `custom_dataframe_transform` function on `building_completion_county_df` DataFrame and `building_completion_city_df` DataFrame\n",
    "\n",
    "    df_column_type = 'Units_Completed'\n",
    "    building_completion_county_df = custom_dataframe_transform(building_completion_county_df , df_column_type)\n",
    "    building_completion_city_df = custom_dataframe_transform(building_completion_city_df , df_column_type)\n",
    "    \n",
    "    return [building_completion_county_df, building_completion_city_df]\n"
   ]
  },
  {
   "cell_type": "markdown",
   "id": "adc676f5-8dc3-4eba-ad19-c8e971a0c252",
   "metadata": {},
   "source": [
    "# Function To Import Building Permits Data"
   ]
  },
  {
   "cell_type": "code",
   "execution_count": 7,
   "id": "6d81c3f9-fb23-42d9-a704-ec8360956c27",
   "metadata": {},
   "outputs": [],
   "source": [
    "def read_building_permits_data():\n",
    "    building_permit_county_df = pd.read_csv(\"Resources/building_permit_county_wise.csv\" , thousands=',')\n",
    "    building_permit_city_df = pd.read_csv(\"Resources/building_permit_city_wise.csv\" , thousands=',')\n",
    "\n",
    "    building_permit_county_df['COUNTIES'] = (building_permit_county_df['COUNTIES'].str.split(\" \", n =1 , expand = True))[0]\n",
    "    \n",
    "    # Calling `custom_dataframe_transform` function on `building_permit_county_df` DataFrame and `building_permit_city_df` DataFrame\n",
    "    df_column_type = 'Units_Permitted'\n",
    "    building_permit_county_df = custom_dataframe_transform(building_permit_county_df , df_column_type)\n",
    "    building_permit_city_df = custom_dataframe_transform(building_permit_city_df , df_column_type)\n",
    "    \n",
    "    return [building_permit_county_df, building_permit_city_df]"
   ]
  },
  {
   "cell_type": "markdown",
   "id": "bd7b06b3-9109-4720-ad78-3b2b466d5f9e",
   "metadata": {},
   "source": [
    "# Function To Import Labor and Employment Data"
   ]
  },
  {
   "cell_type": "code",
   "execution_count": 8,
   "id": "b358b029-1be5-468c-8e5c-5a60790b25cc",
   "metadata": {},
   "outputs": [],
   "source": [
    "def labor_emp_transform(data_df ,df_type ):\n",
    "    data_df = data_df.stack()\n",
    "    data_df = pd.DataFrame(data_df.reset_index())\n",
    "    data_df.columns = ['Date','FIPS_CODE',df_type+'_NO.']\n",
    "    return data_df"
   ]
  },
  {
   "cell_type": "code",
   "execution_count": 9,
   "id": "221aedf2-4d89-4d23-b2f1-37efb82e4e2b",
   "metadata": {},
   "outputs": [],
   "source": [
    "def read_labor_data():\n",
    "    wa_labor_force_df = pd.read_csv('Resources/wa_labor_force_by_county.csv',\n",
    "                                 index_col=0,infer_datetime_format=True,\n",
    "                                  parse_dates=True\n",
    "                                 )\n",
    "\n",
    "    # Calling `labor_emp_transform` function for DataFrame\n",
    "    wa_labor_force_df = labor_emp_transform(wa_labor_force_df, \"LABOR\")\n",
    "    return wa_labor_force_df"
   ]
  },
  {
   "cell_type": "code",
   "execution_count": 10,
   "id": "69c76ebf-f028-481b-b2fe-eeb6f6b6a889",
   "metadata": {},
   "outputs": [],
   "source": [
    "def read_employment_data():\n",
    "    wa_employment_df = pd.read_csv('Resources/wa_employment_by_county.csv',\n",
    "                                 index_col=0,infer_datetime_format=True,\n",
    "                                  parse_dates=True)\n",
    "\n",
    "    # Calling `labor_emp_transform` function for DataFrame\n",
    "    wa_employment_df = labor_emp_transform(wa_employment_df, \"EMP\")\n",
    "    return wa_employment_df"
   ]
  },
  {
   "cell_type": "markdown",
   "id": "2fcb4209-c8ce-407d-aa8c-7fa087eb4611",
   "metadata": {},
   "source": [
    "# CALLING FUNCTIONS TO READ ALL DATA"
   ]
  },
  {
   "cell_type": "markdown",
   "id": "41260206-0cfe-4f35-9ff4-ddc42712dcb3",
   "metadata": {},
   "source": [
    "### Inventory List Data"
   ]
  },
  {
   "cell_type": "code",
   "execution_count": 11,
   "id": "7616b2fc-df1d-49c8-b90a-5b2a2c00d84f",
   "metadata": {},
   "outputs": [
    {
     "name": "stderr",
     "output_type": "stream",
     "text": [
      "/Users/rupika/opt/anaconda3/envs/dev/lib/python3.7/site-packages/ipykernel_launcher.py:21: SettingWithCopyWarning: \n",
      "A value is trying to be set on a copy of a slice from a DataFrame.\n",
      "Try using .loc[row_indexer,col_indexer] = value instead\n",
      "\n",
      "See the caveats in the documentation: https://pandas.pydata.org/pandas-docs/stable/user_guide/indexing.html#returning-a-view-versus-a-copy\n"
     ]
    },
    {
     "data": {
      "text/html": [
       "<div>\n",
       "<style scoped>\n",
       "    .dataframe tbody tr th:only-of-type {\n",
       "        vertical-align: middle;\n",
       "    }\n",
       "\n",
       "    .dataframe tbody tr th {\n",
       "        vertical-align: top;\n",
       "    }\n",
       "\n",
       "    .dataframe thead th {\n",
       "        text-align: right;\n",
       "    }\n",
       "</style>\n",
       "<table border=\"1\" class=\"dataframe\">\n",
       "  <thead>\n",
       "    <tr style=\"text-align: right;\">\n",
       "      <th></th>\n",
       "      <th>Date</th>\n",
       "      <th>county_fips</th>\n",
       "      <th>county_name</th>\n",
       "      <th>median_listing_price</th>\n",
       "      <th>median_listing_price_mm</th>\n",
       "      <th>median_listing_price_yy</th>\n",
       "      <th>active_listing_count</th>\n",
       "      <th>active_listing_count_mm</th>\n",
       "      <th>active_listing_count_yy</th>\n",
       "      <th>median_days_on_market</th>\n",
       "      <th>...</th>\n",
       "      <th>average_listing_price_mm</th>\n",
       "      <th>average_listing_price_yy</th>\n",
       "      <th>total_listing_count</th>\n",
       "      <th>total_listing_count_mm</th>\n",
       "      <th>total_listing_count_yy</th>\n",
       "      <th>pending_ratio</th>\n",
       "      <th>pending_ratio_mm</th>\n",
       "      <th>pending_ratio_yy</th>\n",
       "      <th>quality_flag</th>\n",
       "      <th>state</th>\n",
       "    </tr>\n",
       "  </thead>\n",
       "  <tbody>\n",
       "    <tr>\n",
       "      <th>0</th>\n",
       "      <td>2016-07-01</td>\n",
       "      <td>53001</td>\n",
       "      <td>Adams</td>\n",
       "      <td>125000.0</td>\n",
       "      <td>NaN</td>\n",
       "      <td>NaN</td>\n",
       "      <td>34</td>\n",
       "      <td>NaN</td>\n",
       "      <td>NaN</td>\n",
       "      <td>87.0</td>\n",
       "      <td>...</td>\n",
       "      <td>NaN</td>\n",
       "      <td>NaN</td>\n",
       "      <td>36</td>\n",
       "      <td>NaN</td>\n",
       "      <td>NaN</td>\n",
       "      <td>0.058824</td>\n",
       "      <td>NaN</td>\n",
       "      <td>NaN</td>\n",
       "      <td>0</td>\n",
       "      <td>wa</td>\n",
       "    </tr>\n",
       "    <tr>\n",
       "      <th>1</th>\n",
       "      <td>2016-07-01</td>\n",
       "      <td>53003</td>\n",
       "      <td>Asotin</td>\n",
       "      <td>220000.0</td>\n",
       "      <td>NaN</td>\n",
       "      <td>NaN</td>\n",
       "      <td>120</td>\n",
       "      <td>NaN</td>\n",
       "      <td>NaN</td>\n",
       "      <td>61.0</td>\n",
       "      <td>...</td>\n",
       "      <td>NaN</td>\n",
       "      <td>NaN</td>\n",
       "      <td>120</td>\n",
       "      <td>NaN</td>\n",
       "      <td>NaN</td>\n",
       "      <td>NaN</td>\n",
       "      <td>NaN</td>\n",
       "      <td>NaN</td>\n",
       "      <td>0</td>\n",
       "      <td>wa</td>\n",
       "    </tr>\n",
       "  </tbody>\n",
       "</table>\n",
       "<p>2 rows × 41 columns</p>\n",
       "</div>"
      ],
      "text/plain": [
       "        Date  county_fips county_name  median_listing_price  \\\n",
       "0 2016-07-01        53001       Adams              125000.0   \n",
       "1 2016-07-01        53003      Asotin              220000.0   \n",
       "\n",
       "   median_listing_price_mm  median_listing_price_yy  active_listing_count  \\\n",
       "0                      NaN                      NaN                    34   \n",
       "1                      NaN                      NaN                   120   \n",
       "\n",
       "   active_listing_count_mm  active_listing_count_yy  median_days_on_market  \\\n",
       "0                      NaN                      NaN                   87.0   \n",
       "1                      NaN                      NaN                   61.0   \n",
       "\n",
       "   ...  average_listing_price_mm  average_listing_price_yy  \\\n",
       "0  ...                       NaN                       NaN   \n",
       "1  ...                       NaN                       NaN   \n",
       "\n",
       "   total_listing_count  total_listing_count_mm  total_listing_count_yy  \\\n",
       "0                   36                     NaN                     NaN   \n",
       "1                  120                     NaN                     NaN   \n",
       "\n",
       "   pending_ratio  pending_ratio_mm  pending_ratio_yy  quality_flag  state  \n",
       "0       0.058824               NaN               NaN             0     wa  \n",
       "1            NaN               NaN               NaN             0     wa  \n",
       "\n",
       "[2 rows x 41 columns]"
      ]
     },
     "execution_count": 11,
     "metadata": {},
     "output_type": "execute_result"
    }
   ],
   "source": [
    "wa_house_listing_county_df = read_housing_inventory_data()\n",
    "wa_house_listing_county_df.head(2)"
   ]
  },
  {
   "cell_type": "markdown",
   "id": "e34a23e3-fc3d-45f0-8f5b-1cd57d672fae",
   "metadata": {},
   "source": [
    "### Rental Data County and City wise."
   ]
  },
  {
   "cell_type": "code",
   "execution_count": 12,
   "id": "453bdeb4-910e-4b67-8f4e-5a0699d483e1",
   "metadata": {},
   "outputs": [
    {
     "data": {
      "text/html": [
       "<div>\n",
       "<style scoped>\n",
       "    .dataframe tbody tr th:only-of-type {\n",
       "        vertical-align: middle;\n",
       "    }\n",
       "\n",
       "    .dataframe tbody tr th {\n",
       "        vertical-align: top;\n",
       "    }\n",
       "\n",
       "    .dataframe thead th {\n",
       "        text-align: right;\n",
       "    }\n",
       "</style>\n",
       "<table border=\"1\" class=\"dataframe\">\n",
       "  <thead>\n",
       "    <tr style=\"text-align: right;\">\n",
       "      <th></th>\n",
       "      <th>Date</th>\n",
       "      <th>County_Name</th>\n",
       "      <th>FIPS_Code</th>\n",
       "      <th>Average_Rental_Price</th>\n",
       "    </tr>\n",
       "  </thead>\n",
       "  <tbody>\n",
       "    <tr>\n",
       "      <th>0</th>\n",
       "      <td>2017-01-01</td>\n",
       "      <td>Benton</td>\n",
       "      <td>53005</td>\n",
       "      <td>NaN</td>\n",
       "    </tr>\n",
       "    <tr>\n",
       "      <th>1</th>\n",
       "      <td>2017-01-01</td>\n",
       "      <td>Clark</td>\n",
       "      <td>53011</td>\n",
       "      <td>1294.0</td>\n",
       "    </tr>\n",
       "  </tbody>\n",
       "</table>\n",
       "</div>"
      ],
      "text/plain": [
       "        Date County_Name  FIPS_Code  Average_Rental_Price\n",
       "0 2017-01-01      Benton      53005                   NaN\n",
       "1 2017-01-01       Clark      53011                1294.0"
      ]
     },
     "metadata": {},
     "output_type": "display_data"
    },
    {
     "data": {
      "text/html": [
       "<div>\n",
       "<style scoped>\n",
       "    .dataframe tbody tr th:only-of-type {\n",
       "        vertical-align: middle;\n",
       "    }\n",
       "\n",
       "    .dataframe tbody tr th {\n",
       "        vertical-align: top;\n",
       "    }\n",
       "\n",
       "    .dataframe thead th {\n",
       "        text-align: right;\n",
       "    }\n",
       "</style>\n",
       "<table border=\"1\" class=\"dataframe\">\n",
       "  <thead>\n",
       "    <tr style=\"text-align: right;\">\n",
       "      <th></th>\n",
       "      <th>Date</th>\n",
       "      <th>City_Name</th>\n",
       "      <th>FIPS_Code</th>\n",
       "      <th>Average_Rental_Price</th>\n",
       "    </tr>\n",
       "  </thead>\n",
       "  <tbody>\n",
       "    <tr>\n",
       "      <th>0</th>\n",
       "      <td>2017-01-01</td>\n",
       "      <td>Auburn</td>\n",
       "      <td>5303180</td>\n",
       "      <td>1278</td>\n",
       "    </tr>\n",
       "    <tr>\n",
       "      <th>1</th>\n",
       "      <td>2017-01-01</td>\n",
       "      <td>Bellevue</td>\n",
       "      <td>5305210</td>\n",
       "      <td>2063</td>\n",
       "    </tr>\n",
       "  </tbody>\n",
       "</table>\n",
       "</div>"
      ],
      "text/plain": [
       "        Date City_Name  FIPS_Code Average_Rental_Price\n",
       "0 2017-01-01    Auburn    5303180                 1278\n",
       "1 2017-01-01  Bellevue    5305210                 2063"
      ]
     },
     "metadata": {},
     "output_type": "display_data"
    }
   ],
   "source": [
    "rental_df = read_rental_inventory()\n",
    "rental_county_df = rental_df[0]\n",
    "rental_city_df = rental_df[1]\n",
    "\n",
    "display(rental_county_df.head(2))\n",
    "display(rental_city_df.head(2))"
   ]
  },
  {
   "cell_type": "markdown",
   "id": "9d1b0fa2-fee8-4f35-aabf-35ea57299758",
   "metadata": {},
   "source": [
    "### Building Completion Data County and Citywise."
   ]
  },
  {
   "cell_type": "code",
   "execution_count": 13,
   "id": "5011ce7b-9c0b-4b24-8e2f-b4d7bde6f8c2",
   "metadata": {},
   "outputs": [
    {
     "data": {
      "text/html": [
       "<div>\n",
       "<style scoped>\n",
       "    .dataframe tbody tr th:only-of-type {\n",
       "        vertical-align: middle;\n",
       "    }\n",
       "\n",
       "    .dataframe tbody tr th {\n",
       "        vertical-align: top;\n",
       "    }\n",
       "\n",
       "    .dataframe thead th {\n",
       "        text-align: right;\n",
       "    }\n",
       "</style>\n",
       "<table border=\"1\" class=\"dataframe\">\n",
       "  <thead>\n",
       "    <tr style=\"text-align: right;\">\n",
       "      <th></th>\n",
       "      <th>Date</th>\n",
       "      <th>COUNTIES</th>\n",
       "      <th>Units_Completed</th>\n",
       "    </tr>\n",
       "  </thead>\n",
       "  <tbody>\n",
       "    <tr>\n",
       "      <th>0</th>\n",
       "      <td>2016/17</td>\n",
       "      <td>Adams</td>\n",
       "      <td>146.0</td>\n",
       "    </tr>\n",
       "    <tr>\n",
       "      <th>1</th>\n",
       "      <td>2016/17</td>\n",
       "      <td>Asotin</td>\n",
       "      <td>29.0</td>\n",
       "    </tr>\n",
       "  </tbody>\n",
       "</table>\n",
       "</div>"
      ],
      "text/plain": [
       "      Date COUNTIES  Units_Completed\n",
       "0  2016/17    Adams            146.0\n",
       "1  2016/17   Asotin             29.0"
      ]
     },
     "metadata": {},
     "output_type": "display_data"
    },
    {
     "data": {
      "text/html": [
       "<div>\n",
       "<style scoped>\n",
       "    .dataframe tbody tr th:only-of-type {\n",
       "        vertical-align: middle;\n",
       "    }\n",
       "\n",
       "    .dataframe tbody tr th {\n",
       "        vertical-align: top;\n",
       "    }\n",
       "\n",
       "    .dataframe thead th {\n",
       "        text-align: right;\n",
       "    }\n",
       "</style>\n",
       "<table border=\"1\" class=\"dataframe\">\n",
       "  <thead>\n",
       "    <tr style=\"text-align: right;\">\n",
       "      <th></th>\n",
       "      <th>Date</th>\n",
       "      <th>CITIES</th>\n",
       "      <th>Units_Completed</th>\n",
       "    </tr>\n",
       "  </thead>\n",
       "  <tbody>\n",
       "    <tr>\n",
       "      <th>0</th>\n",
       "      <td>2016/17</td>\n",
       "      <td>Aberdeen</td>\n",
       "      <td>6.0</td>\n",
       "    </tr>\n",
       "    <tr>\n",
       "      <th>1</th>\n",
       "      <td>2016/17</td>\n",
       "      <td>Airway Heights</td>\n",
       "      <td>31.0</td>\n",
       "    </tr>\n",
       "  </tbody>\n",
       "</table>\n",
       "</div>"
      ],
      "text/plain": [
       "      Date          CITIES  Units_Completed\n",
       "0  2016/17        Aberdeen              6.0\n",
       "1  2016/17  Airway Heights             31.0"
      ]
     },
     "metadata": {},
     "output_type": "display_data"
    }
   ],
   "source": [
    "building_completion_df = read_building_completion_data()\n",
    "building_completion_county_df = building_completion_df[0]\n",
    "building_completion_city_df = building_completion_df[1]\n",
    "\n",
    "# Displaying the transformed Building Units DataFrames.\n",
    "display(building_completion_county_df.head(2))\n",
    "display(building_completion_city_df.head(2))"
   ]
  },
  {
   "cell_type": "markdown",
   "id": "afcdda4b-b148-4ecf-b009-ceda299fd560",
   "metadata": {},
   "source": [
    "### Building Permits Data County and Citywise."
   ]
  },
  {
   "cell_type": "code",
   "execution_count": 14,
   "id": "693bda8f-7d9e-4e05-87a9-3959170e0b7f",
   "metadata": {},
   "outputs": [
    {
     "data": {
      "text/html": [
       "<div>\n",
       "<style scoped>\n",
       "    .dataframe tbody tr th:only-of-type {\n",
       "        vertical-align: middle;\n",
       "    }\n",
       "\n",
       "    .dataframe tbody tr th {\n",
       "        vertical-align: top;\n",
       "    }\n",
       "\n",
       "    .dataframe thead th {\n",
       "        text-align: right;\n",
       "    }\n",
       "</style>\n",
       "<table border=\"1\" class=\"dataframe\">\n",
       "  <thead>\n",
       "    <tr style=\"text-align: right;\">\n",
       "      <th></th>\n",
       "      <th>Date</th>\n",
       "      <th>COUNTIES</th>\n",
       "      <th>Units_Permitted</th>\n",
       "    </tr>\n",
       "  </thead>\n",
       "  <tbody>\n",
       "    <tr>\n",
       "      <th>0</th>\n",
       "      <td>2016</td>\n",
       "      <td>Adams</td>\n",
       "      <td>31.0</td>\n",
       "    </tr>\n",
       "    <tr>\n",
       "      <th>1</th>\n",
       "      <td>2016</td>\n",
       "      <td>Asotin</td>\n",
       "      <td>63.0</td>\n",
       "    </tr>\n",
       "  </tbody>\n",
       "</table>\n",
       "</div>"
      ],
      "text/plain": [
       "   Date COUNTIES  Units_Permitted\n",
       "0  2016    Adams             31.0\n",
       "1  2016   Asotin             63.0"
      ]
     },
     "metadata": {},
     "output_type": "display_data"
    },
    {
     "data": {
      "text/html": [
       "<div>\n",
       "<style scoped>\n",
       "    .dataframe tbody tr th:only-of-type {\n",
       "        vertical-align: middle;\n",
       "    }\n",
       "\n",
       "    .dataframe tbody tr th {\n",
       "        vertical-align: top;\n",
       "    }\n",
       "\n",
       "    .dataframe thead th {\n",
       "        text-align: right;\n",
       "    }\n",
       "</style>\n",
       "<table border=\"1\" class=\"dataframe\">\n",
       "  <thead>\n",
       "    <tr style=\"text-align: right;\">\n",
       "      <th></th>\n",
       "      <th>Date</th>\n",
       "      <th>CITIES</th>\n",
       "      <th>Units_Permitted</th>\n",
       "    </tr>\n",
       "  </thead>\n",
       "  <tbody>\n",
       "    <tr>\n",
       "      <th>0</th>\n",
       "      <td>2016</td>\n",
       "      <td>Aberdeen</td>\n",
       "      <td>5.0</td>\n",
       "    </tr>\n",
       "    <tr>\n",
       "      <th>1</th>\n",
       "      <td>2016</td>\n",
       "      <td>Airway Heights</td>\n",
       "      <td>33.0</td>\n",
       "    </tr>\n",
       "  </tbody>\n",
       "</table>\n",
       "</div>"
      ],
      "text/plain": [
       "   Date          CITIES  Units_Permitted\n",
       "0  2016        Aberdeen              5.0\n",
       "1  2016  Airway Heights             33.0"
      ]
     },
     "metadata": {},
     "output_type": "display_data"
    }
   ],
   "source": [
    "building_permit_df = read_building_permits_data()\n",
    "building_permit_county_df = building_permit_df[0]\n",
    "building_permit_city_df = building_permit_df[1]\n",
    "\n",
    "# Displaying the transformed Building Unit Permits DataFrames.\n",
    "display(building_permit_county_df.head(2))\n",
    "display(building_permit_city_df.head(2))"
   ]
  },
  {
   "cell_type": "markdown",
   "id": "57029006-6479-4e01-902d-cee5e056b70f",
   "metadata": {},
   "source": [
    "### Labor and Employment Data Countywise."
   ]
  },
  {
   "cell_type": "code",
   "execution_count": 15,
   "id": "e398024d-5655-427b-83a3-1962a3f2cf2f",
   "metadata": {},
   "outputs": [
    {
     "data": {
      "text/html": [
       "<div>\n",
       "<style scoped>\n",
       "    .dataframe tbody tr th:only-of-type {\n",
       "        vertical-align: middle;\n",
       "    }\n",
       "\n",
       "    .dataframe tbody tr th {\n",
       "        vertical-align: top;\n",
       "    }\n",
       "\n",
       "    .dataframe thead th {\n",
       "        text-align: right;\n",
       "    }\n",
       "</style>\n",
       "<table border=\"1\" class=\"dataframe\">\n",
       "  <thead>\n",
       "    <tr style=\"text-align: right;\">\n",
       "      <th></th>\n",
       "      <th>Date</th>\n",
       "      <th>FIPS_CODE</th>\n",
       "      <th>LABOR_NO.</th>\n",
       "    </tr>\n",
       "  </thead>\n",
       "  <tbody>\n",
       "    <tr>\n",
       "      <th>0</th>\n",
       "      <td>2017-01-01</td>\n",
       "      <td>53011</td>\n",
       "      <td>226512.0</td>\n",
       "    </tr>\n",
       "    <tr>\n",
       "      <th>1</th>\n",
       "      <td>2017-01-01</td>\n",
       "      <td>53025</td>\n",
       "      <td>41475.0</td>\n",
       "    </tr>\n",
       "  </tbody>\n",
       "</table>\n",
       "</div>"
      ],
      "text/plain": [
       "        Date FIPS_CODE  LABOR_NO.\n",
       "0 2017-01-01     53011   226512.0\n",
       "1 2017-01-01     53025    41475.0"
      ]
     },
     "metadata": {},
     "output_type": "display_data"
    },
    {
     "data": {
      "text/html": [
       "<div>\n",
       "<style scoped>\n",
       "    .dataframe tbody tr th:only-of-type {\n",
       "        vertical-align: middle;\n",
       "    }\n",
       "\n",
       "    .dataframe tbody tr th {\n",
       "        vertical-align: top;\n",
       "    }\n",
       "\n",
       "    .dataframe thead th {\n",
       "        text-align: right;\n",
       "    }\n",
       "</style>\n",
       "<table border=\"1\" class=\"dataframe\">\n",
       "  <thead>\n",
       "    <tr style=\"text-align: right;\">\n",
       "      <th></th>\n",
       "      <th>Date</th>\n",
       "      <th>FIPS_CODE</th>\n",
       "      <th>EMP_NO.</th>\n",
       "    </tr>\n",
       "  </thead>\n",
       "  <tbody>\n",
       "    <tr>\n",
       "      <th>0</th>\n",
       "      <td>2017-01-01</td>\n",
       "      <td>53011</td>\n",
       "      <td>213014.0</td>\n",
       "    </tr>\n",
       "    <tr>\n",
       "      <th>1</th>\n",
       "      <td>2017-01-01</td>\n",
       "      <td>53025</td>\n",
       "      <td>37313.0</td>\n",
       "    </tr>\n",
       "  </tbody>\n",
       "</table>\n",
       "</div>"
      ],
      "text/plain": [
       "        Date FIPS_CODE   EMP_NO.\n",
       "0 2017-01-01     53011  213014.0\n",
       "1 2017-01-01     53025   37313.0"
      ]
     },
     "metadata": {},
     "output_type": "display_data"
    }
   ],
   "source": [
    "# Reading Countywise Labor Force Data From `wa_labor_force_by_county.csv` \n",
    "wa_labor_force_df = read_labor_data()\n",
    "\n",
    "# Reading Countywise Labor Force Data From `wa_employment_by_county.csv`\n",
    "wa_employment_df = read_employment_data()\n",
    "\n",
    "display(wa_labor_force_df.head(2))\n",
    "display(wa_employment_df.head(2))"
   ]
  },
  {
   "cell_type": "code",
   "execution_count": null,
   "id": "769307d5-2567-459f-9c2d-ff62cd3b179c",
   "metadata": {},
   "outputs": [],
   "source": []
  }
 ],
 "metadata": {
  "kernelspec": {
   "display_name": "Python 3 (ipykernel)",
   "language": "python",
   "name": "python3"
  },
  "language_info": {
   "codemirror_mode": {
    "name": "ipython",
    "version": 3
   },
   "file_extension": ".py",
   "mimetype": "text/x-python",
   "name": "python",
   "nbconvert_exporter": "python",
   "pygments_lexer": "ipython3",
   "version": "3.7.11"
  }
 },
 "nbformat": 4,
 "nbformat_minor": 5
}
